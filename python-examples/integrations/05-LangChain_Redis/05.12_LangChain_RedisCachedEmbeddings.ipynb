{
  "cells": [
    {
      "cell_type": "markdown",
      "metadata": {
        "colab_type": "text",
        "id": "view-in-github"
      },
      "source": [
        "<a href=\"https://colab.research.google.com/github/Redislabs-Solution-Architects/Redis-Workshops/blob/main/05-LangChain_Redis/05.12_LangChain_RedisCachedEmbeddings.ipynb\" target=\"_parent\"><img src=\"https://colab.research.google.com/assets/colab-badge.svg\" alt=\"Open In Colab\"/></a>"
      ]
    },
    {
      "cell_type": "markdown",
      "metadata": {
        "id": "R2-i8jBl9GRH"
      },
      "source": [
        "# Redis CacheBackedEmbeddings\n",
        "\n",
        "![Redis](https://redis.com/wp-content/themes/wpx/assets/images/logo-redis.svg?auto=webp&quality=85,75&width=120)\n",
        "\n",
        "This notebook goes over how to use Redis to cache the embeddings."
      ]
    },
    {
      "cell_type": "markdown",
      "metadata": {
        "id": "RZsd9twK9-sJ"
      },
      "source": [
        "### Install Dependencies\n"
      ]
    },
    {
      "cell_type": "code",
      "execution_count": 1,
      "metadata": {
        "colab": {
          "base_uri": "https://localhost:8080/"
        },
        "id": "C8uONNrVbe08",
        "outputId": "b1095e07-78bd-47ea-92b3-4e46971cf327"
      },
      "outputs": [
        {
          "name": "stdout",
          "output_type": "stream",
          "text": [
            "\u001b[2K     \u001b[90m━━━━━━━━━━━━━━━━━━━━━━━━━━━━━━━━━━━━━━━━\u001b[0m \u001b[32m1.7/1.7 MB\u001b[0m \u001b[31m23.7 MB/s\u001b[0m eta \u001b[36m0:00:00\u001b[0m\n",
            "\u001b[2K     \u001b[90m━━━━━━━━━━━━━━━━━━━━━━━━━━━━━━━━━━━━━━━━\u001b[0m \u001b[32m817.0/817.0 kB\u001b[0m \u001b[31m28.5 MB/s\u001b[0m eta \u001b[36m0:00:00\u001b[0m\n",
            "\u001b[2K     \u001b[90m━━━━━━━━━━━━━━━━━━━━━━━━━━━━━━━━━━━━━━━━\u001b[0m \u001b[32m250.3/250.3 kB\u001b[0m \u001b[31m16.9 MB/s\u001b[0m eta \u001b[36m0:00:00\u001b[0m\n",
            "\u001b[2K     \u001b[90m━━━━━━━━━━━━━━━━━━━━━━━━━━━━━━━━━━━━━━━━\u001b[0m \u001b[32m1.8/1.8 MB\u001b[0m \u001b[31m44.1 MB/s\u001b[0m eta \u001b[36m0:00:00\u001b[0m\n",
            "\u001b[2K     \u001b[90m━━━━━━━━━━━━━━━━━━━━━━━━━━━━━━━━━━━━━━━━\u001b[0m \u001b[32m246.4/246.4 kB\u001b[0m \u001b[31m18.4 MB/s\u001b[0m eta \u001b[36m0:00:00\u001b[0m\n",
            "\u001b[2K     \u001b[90m━━━━━━━━━━━━━━━━━━━━━━━━━━━━━━━━━━━━━━━━\u001b[0m \u001b[32m226.7/226.7 kB\u001b[0m \u001b[31m19.5 MB/s\u001b[0m eta \u001b[36m0:00:00\u001b[0m\n",
            "\u001b[2K     \u001b[90m━━━━━━━━━━━━━━━━━━━━━━━━━━━━━━━━━━━━━━━━\u001b[0m \u001b[32m1.8/1.8 MB\u001b[0m \u001b[31m41.8 MB/s\u001b[0m eta \u001b[36m0:00:00\u001b[0m\n",
            "\u001b[2K     \u001b[90m━━━━━━━━━━━━━━━━━━━━━━━━━━━━━━━━━━━━━━━━\u001b[0m \u001b[32m62.2/62.2 kB\u001b[0m \u001b[31m6.6 MB/s\u001b[0m eta \u001b[36m0:00:00\u001b[0m\n",
            "\u001b[2K     \u001b[90m━━━━━━━━━━━━━━━━━━━━━━━━━━━━━━━━━━━━━━━━\u001b[0m \u001b[32m421.5/421.5 kB\u001b[0m \u001b[31m35.6 MB/s\u001b[0m eta \u001b[36m0:00:00\u001b[0m\n",
            "\u001b[2K     \u001b[90m━━━━━━━━━━━━━━━━━━━━━━━━━━━━━━━━━━━━━━━━\u001b[0m \u001b[32m274.7/274.7 kB\u001b[0m \u001b[31m25.0 MB/s\u001b[0m eta \u001b[36m0:00:00\u001b[0m\n",
            "\u001b[2K     \u001b[90m━━━━━━━━━━━━━━━━━━━━━━━━━━━━━━━━━━━━━━━━\u001b[0m \u001b[32m981.5/981.5 kB\u001b[0m \u001b[31m55.3 MB/s\u001b[0m eta \u001b[36m0:00:00\u001b[0m\n",
            "\u001b[?25h  Preparing metadata (setup.py) ... \u001b[?25l\u001b[?25hdone\n",
            "\u001b[2K     \u001b[90m━━━━━━━━━━━━━━━━━━━━━━━━━━━━━━━━━━━━━━━━\u001b[0m \u001b[32m3.4/3.4 MB\u001b[0m \u001b[31m51.7 MB/s\u001b[0m eta \u001b[36m0:00:00\u001b[0m\n",
            "\u001b[2K     \u001b[90m━━━━━━━━━━━━━━━━━━━━━━━━━━━━━━━━━━━━━━━━\u001b[0m \u001b[32m49.4/49.4 kB\u001b[0m \u001b[31m4.2 MB/s\u001b[0m eta \u001b[36m0:00:00\u001b[0m\n",
            "\u001b[2K     \u001b[90m━━━━━━━━━━━━━━━━━━━━━━━━━━━━━━━━━━━━━━━━\u001b[0m \u001b[32m138.5/138.5 kB\u001b[0m \u001b[31m14.0 MB/s\u001b[0m eta \u001b[36m0:00:00\u001b[0m\n",
            "\u001b[2K     \u001b[90m━━━━━━━━━━━━━━━━━━━━━━━━━━━━━━━━━━━━━━━━\u001b[0m \u001b[32m75.6/75.6 kB\u001b[0m \u001b[31m8.2 MB/s\u001b[0m eta \u001b[36m0:00:00\u001b[0m\n",
            "\u001b[2K     \u001b[90m━━━━━━━━━━━━━━━━━━━━━━━━━━━━━━━━━━━━━━━━\u001b[0m \u001b[32m77.8/77.8 kB\u001b[0m \u001b[31m8.2 MB/s\u001b[0m eta \u001b[36m0:00:00\u001b[0m\n",
            "\u001b[2K     \u001b[90m━━━━━━━━━━━━━━━━━━━━━━━━━━━━━━━━━━━━━━━━\u001b[0m \u001b[32m58.3/58.3 kB\u001b[0m \u001b[31m5.8 MB/s\u001b[0m eta \u001b[36m0:00:00\u001b[0m\n",
            "\u001b[?25h  Building wheel for langdetect (setup.py) ... \u001b[?25l\u001b[?25hdone\n"
          ]
        }
      ],
      "source": [
        "!pip install -q langchain_openai langchain_community langchain redis unstructured\n"
      ]
    },
    {
      "cell_type": "markdown",
      "metadata": {
        "id": "NXTpvvXi_Lfe"
      },
      "source": [
        "## Initialize OpenAI\n",
        "\n",
        "You need to supply the OpenAI API key (starts with `sk-...`) when prompted. You can find your API key at https://platform.openai.com/account/api-keys"
      ]
    },
    {
      "cell_type": "code",
      "execution_count": 2,
      "metadata": {
        "colab": {
          "base_uri": "https://localhost:8080/"
        },
        "id": "JxPIg3nZyNp9",
        "outputId": "fd516418-47e3-47f3-a40a-fd157041b841"
      },
      "outputs": [
        {
          "name": "stdout",
          "output_type": "stream",
          "text": [
            "OpenAI Key: ··········\n"
          ]
        }
      ],
      "source": [
        "import os\n",
        "import getpass\n",
        "\n",
        "if \"OPENAI_API_KEY\" not in os.environ:\n",
        "    os.environ[\"OPENAI_API_KEY\"] = getpass.getpass(\"OpenAI Key: \")"
      ]
    },
    {
      "cell_type": "markdown",
      "metadata": {
        "id": "NBlbUrB27QQs"
      },
      "source": [
        "### Install Redis Stack\n",
        "\n",
        "Redis will be used as cacehd embedding store store for LangChain. Instead of using in-notebook Redis Stack https://redis.io/docs/getting-started/install-stack/ you can provision your own free instance of Redis in the cloud. Get your own Free Redis Cloud instance at https://redis.com/try-free/"
      ]
    },
    {
      "cell_type": "code",
      "execution_count": 3,
      "metadata": {
        "colab": {
          "base_uri": "https://localhost:8080/"
        },
        "id": "aKMKXPY2j8Gt",
        "outputId": "ae19c0c0-4f60-47f7-ee33-a59dc04b19e9"
      },
      "outputs": [
        {
          "name": "stdout",
          "output_type": "stream",
          "text": [
            "deb [signed-by=/usr/share/keyrings/redis-archive-keyring.gpg] https://packages.redis.io/deb jammy main\n",
            "Starting redis-stack-server, database path /var/lib/redis-stack\n"
          ]
        }
      ],
      "source": [
        "%%sh\n",
        "curl -fsSL https://packages.redis.io/gpg | sudo gpg --dearmor -o /usr/share/keyrings/redis-archive-keyring.gpg\n",
        "echo \"deb [signed-by=/usr/share/keyrings/redis-archive-keyring.gpg] https://packages.redis.io/deb $(lsb_release -cs) main\" | sudo tee /etc/apt/sources.list.d/redis.list\n",
        "sudo apt-get update  > /dev/null 2>&1\n",
        "sudo apt-get install redis-stack-server  > /dev/null 2>&1\n",
        "redis-stack-server --daemonize yes"
      ]
    },
    {
      "cell_type": "markdown",
      "metadata": {
        "id": "X7UsU1Ts7TUL"
      },
      "source": [
        "### Connect to Redis\n",
        "\n",
        "By default this notebook would connect to the local instance of Redis Stack. If you have your own Redis Cloud instance - replace REDIS_PASSWORD, REDIS_HOST and REDIS_PORT values with your own."
      ]
    },
    {
      "cell_type": "code",
      "execution_count": 4,
      "metadata": {
        "id": "dyPfCO3pkB7M"
      },
      "outputs": [],
      "source": [
        "import os\n",
        "\n",
        "\n",
        "REDIS_HOST = os.getenv(\"REDIS_HOST\", \"localhost\")\n",
        "REDIS_PORT = os.getenv(\"REDIS_PORT\", \"6379\")\n",
        "REDIS_PASSWORD = os.getenv(\"REDIS_PASSWORD\", \"\")\n",
        "#Replace values above with your own if using Redis Cloud instance\n",
        "#REDIS_HOST=\"redis-18374.c253.us-central1-1.gce.cloud.redislabs.com\"\n",
        "#REDIS_PORT=18374\n",
        "#REDIS_PASSWORD=\"1TNxTEdYRDgIDKM2gDfasupCADXXXX\"\n",
        "\n",
        "#shortcut for redis-cli $REDIS_CONN command\n",
        "# If SSL is enabled on the endpoint add --tls\n",
        "if REDIS_PASSWORD!=\"\":\n",
        "  os.environ[\"REDIS_CONN\"]=f\"-h {REDIS_HOST} -p {REDIS_PORT} -a {REDIS_PASSWORD} --no-auth-warning\"\n",
        "else:\n",
        "  os.environ[\"REDIS_CONN\"]=f\"-h {REDIS_HOST} -p {REDIS_PORT}\"\n",
        "\n",
        "# If SSL is enabled on the endpoint, use rediss:// as the URL prefix\n",
        "REDIS_URL = f\"redis://:{REDIS_PASSWORD}@{REDIS_HOST}:{REDIS_PORT}\""
      ]
    },
    {
      "cell_type": "code",
      "execution_count": 5,
      "metadata": {
        "colab": {
          "base_uri": "https://localhost:8080/"
        },
        "id": "fqaxUHuzOWtQ",
        "outputId": "85537d3a-380c-441d-e236-98d14dffed07"
      },
      "outputs": [
        {
          "name": "stdout",
          "output_type": "stream",
          "text": [
            "PONG\n"
          ]
        }
      ],
      "source": [
        "#test Redis connection\n",
        "!redis-cli $REDIS_CONN PING"
      ]
    },
    {
      "cell_type": "markdown",
      "metadata": {
        "id": "Eem--FaRKQQo"
      },
      "source": [
        "## Cached Embeddings\n",
        "\n",
        "To initialize cached embeddings you need:\n",
        "- Embedding object - OpenAIEmbeddings used here\n",
        "- Store (key/value store - here we are using RedisStore backend)\n",
        "- CacheBackedEmbeddings that assembles these together"
      ]
    },
    {
      "cell_type": "code",
      "execution_count": 6,
      "metadata": {
        "id": "_h1e-L9yZfaY"
      },
      "outputs": [],
      "source": [
        "\n",
        "from langchain_openai import OpenAIEmbeddings\n",
        "from langchain.embeddings import CacheBackedEmbeddings\n",
        "from langchain.storage import RedisStore\n",
        "\n",
        "store = RedisStore(redis_url=REDIS_URL)\n",
        "\n",
        "embedder = OpenAIEmbeddings()\n",
        "\n",
        "cached_embedder = CacheBackedEmbeddings.from_bytes_store(\n",
        "    embedder, store, namespace=embedder.model\n",
        ")"
      ]
    },
    {
      "cell_type": "code",
      "execution_count": 7,
      "metadata": {
        "id": "VKz1HF5O_ySJ"
      },
      "outputs": [],
      "source": [
        "sentences = [\n",
        "        \"Hi there!\",\n",
        "        \"Oh, hello!\",\n",
        "        \"What's your name?\",\n",
        "        \"My friends call me World\",\n",
        "        \"Hello World!\"\n",
        "        ]"
      ]
    },
    {
      "cell_type": "code",
      "execution_count": 8,
      "metadata": {
        "colab": {
          "base_uri": "https://localhost:8080/"
        },
        "id": "NYhmsdpMAaNi",
        "outputId": "32e08d80-9a5a-4d4d-ed63-f34e7df05706"
      },
      "outputs": [
        {
          "data": {
            "text/plain": [
              "[]"
            ]
          },
          "execution_count": 8,
          "metadata": {},
          "output_type": "execute_result"
        }
      ],
      "source": [
        "# First - let's make sure there are no cached embeddings\n",
        "list(store.yield_keys())\n",
        "# you can also play around with the store object itself\n",
        "#store.mset([(\"k1\", b\"v1\"), (\"k2\", b\"v2\")])\n",
        "#print(store.mget([\"k1\", \"k2\"]))"
      ]
    },
    {
      "cell_type": "code",
      "execution_count": 9,
      "metadata": {
        "colab": {
          "base_uri": "https://localhost:8080/"
        },
        "id": "nyStbTSX7Yqd",
        "outputId": "a43a67b8-0ec8-4bce-e318-9e3e9749a5fe"
      },
      "outputs": [
        {
          "name": "stdout",
          "output_type": "stream",
          "text": [
            "CPU times: user 609 ms, sys: 47.4 ms, total: 656 ms\n",
            "Wall time: 1.57 s\n"
          ]
        }
      ],
      "source": [
        "%%time\n",
        "# first run would invoke OpenAI embedding API\n",
        "embeddings = cached_embedder.embed_documents(sentences)"
      ]
    },
    {
      "cell_type": "code",
      "execution_count": 10,
      "metadata": {
        "colab": {
          "base_uri": "https://localhost:8080/"
        },
        "id": "BgFCPl_aApzU",
        "outputId": "82461404-6b7c-443a-df72-3a08ffa97b0b"
      },
      "outputs": [
        {
          "data": {
            "text/plain": [
              "['text-embedding-ada-002b57fdad0-9cfa-5bac-9ffe-679b9e3a14a6',\n",
              " 'text-embedding-ada-0027afa8587-1536-5b7c-8705-aaca3004e913',\n",
              " 'text-embedding-ada-002f4641f10-cc90-5791-b0f3-b2a1555dac8f',\n",
              " 'text-embedding-ada-002f26668b8-30e7-53ab-8662-6ec30ec795c9',\n",
              " 'text-embedding-ada-002edef130a-43ed-57ff-8f52-b1c7ba00e8fb']"
            ]
          },
          "execution_count": 10,
          "metadata": {},
          "output_type": "execute_result"
        }
      ],
      "source": [
        "# now you should see five cached embeddings\n",
        "list(store.yield_keys())"
      ]
    },
    {
      "cell_type": "code",
      "execution_count": 11,
      "metadata": {
        "colab": {
          "base_uri": "https://localhost:8080/"
        },
        "id": "_yiXgICrAO5E",
        "outputId": "68cfb5f7-95b5-4dcf-c64a-33e545fd1214"
      },
      "outputs": [
        {
          "name": "stdout",
          "output_type": "stream",
          "text": [
            "CPU times: user 6.89 ms, sys: 0 ns, total: 6.89 ms\n",
            "Wall time: 7.76 ms\n"
          ]
        }
      ],
      "source": [
        "%%time\n",
        "# second, cached run should be significantly faster\n",
        "embeddings = cached_embedder.embed_documents(sentences)"
      ]
    },
    {
      "cell_type": "markdown",
      "metadata": {
        "id": "GlLCwjBPCOsK"
      },
      "source": [
        "### Cached embeddings with the Vectore Store"
      ]
    },
    {
      "cell_type": "code",
      "execution_count": 13,
      "metadata": {
        "colab": {
          "base_uri": "https://localhost:8080/"
        },
        "id": "gEyzsWSsNioU",
        "outputId": "87df7c07-385c-4a15-a1a3-9b34153c27da"
      },
      "outputs": [
        {
          "name": "stderr",
          "output_type": "stream",
          "text": [
            "[nltk_data] Downloading package punkt to /root/nltk_data...\n",
            "[nltk_data]   Unzipping tokenizers/punkt.zip.\n",
            "[nltk_data] Downloading package averaged_perceptron_tagger to\n",
            "[nltk_data]     /root/nltk_data...\n",
            "[nltk_data]   Unzipping taggers/averaged_perceptron_tagger.zip.\n"
          ]
        }
      ],
      "source": [
        "from langchain.text_splitter import RecursiveCharacterTextSplitter\n",
        "from langchain.document_loaders import UnstructuredURLLoader\n",
        "from langchain.text_splitter import CharacterTextSplitter\n",
        "from langchain_community.document_loaders import TextLoader\n",
        "from langchain_community.vectorstores.redis import Redis\n",
        "import redis\n",
        "\n",
        "# Add your own URLs here\n",
        "urls = [\n",
        "    \"https://raw.githubusercontent.com/hwchase17/chat-your-data/master/state_of_the_union.txt\"\n",
        "]\n",
        "loader = UnstructuredURLLoader(urls=urls)\n",
        "documents = loader.load()\n",
        "text_splitter = RecursiveCharacterTextSplitter(chunk_size=500, chunk_overlap=20, add_start_index = True)\n",
        "texts = text_splitter.split_documents(documents)"
      ]
    },
    {
      "cell_type": "code",
      "execution_count": 14,
      "metadata": {
        "colab": {
          "base_uri": "https://localhost:8080/"
        },
        "id": "VruzZCEHOTHa",
        "outputId": "e0ea5786-7652-4229-ec39-3445aaf1467b"
      },
      "outputs": [
        {
          "name": "stdout",
          "output_type": "stream",
          "text": [
            "CPU times: user 393 ms, sys: 23 ms, total: 416 ms\n",
            "Wall time: 836 ms\n"
          ]
        }
      ],
      "source": [
        "%%time\n",
        "db1 = Redis.from_documents(\n",
        "    texts,\n",
        "    cached_embedder,\n",
        "    redis_url=REDIS_URL,\n",
        "    index_name=\"db1\",\n",
        ")"
      ]
    },
    {
      "cell_type": "code",
      "execution_count": 15,
      "metadata": {
        "colab": {
          "base_uri": "https://localhost:8080/"
        },
        "id": "B2tTw4eFEQwS",
        "outputId": "576d610a-8d8a-4164-8123-bfa547740020"
      },
      "outputs": [
        {
          "name": "stdout",
          "output_type": "stream",
          "text": [
            "CPU times: user 85.7 ms, sys: 6.96 ms, total: 92.7 ms\n",
            "Wall time: 114 ms\n"
          ]
        }
      ],
      "source": [
        "%%time\n",
        "db2 = Redis.from_documents(\n",
        "    texts,\n",
        "    cached_embedder,\n",
        "    redis_url=REDIS_URL,\n",
        "    index_name=\"db2\",\n",
        ")"
      ]
    },
    {
      "cell_type": "code",
      "execution_count": 18,
      "metadata": {
        "colab": {
          "base_uri": "https://localhost:8080/"
        },
        "id": "caBBBvTLE-NK",
        "outputId": "9fcc53f9-fa86-4537-e07e-8dcf8431c340"
      },
      "outputs": [
        {
          "data": {
            "text/plain": [
              "[Document(page_content='It matters. American diplomacy matters. American resolve matters.\\n\\nPutin’s latest attack on Ukraine was premeditated and unprovoked.\\n\\nHe rejected repeated efforts at diplomacy.\\n\\nHe thought the West and NATO wouldn’t respond. And he thought he could divide us at home. Putin was wrong. We were ready. Here is what we did.\\n\\nWe prepared extensively and carefully.\\n\\nWe spent months building a coalition of other freedom-loving nations from Europe and the Americas to Asia and Africa to confront Putin.', metadata={'id': 'doc:db2:cfe3e0633051477e839a0b8f71d66b1c', 'source': 'https://raw.githubusercontent.com/hwchase17/chat-your-data/master/state_of_the_union.txt', 'start_index': '1847'}),\n",
              " Document(page_content='Groups of citizens blocking tanks with their bodies. Everyone from students to retirees teachers turned soldiers defending their homeland.\\n\\nIn this struggle as President Zelenskyy said in his speech to the European Parliament “Light will win over darkness.” The Ukrainian Ambassador to the United States is here tonight.\\n\\nLet each of us here tonight in this Chamber send an unmistakable signal to Ukraine and to the world.', metadata={'id': 'doc:db2:62d103529e0141acb3670f9db740f29b', 'source': 'https://raw.githubusercontent.com/hwchase17/chat-your-data/master/state_of_the_union.txt', 'start_index': '932'}),\n",
              " Document(page_content='Along with twenty-seven members of the European Union including France, Germany, Italy, as well as countries like the United Kingdom, Canada, Japan, Korea, Australia, New Zealand, and many others, even Switzerland.\\n\\nWe are inflicting pain on Russia and supporting the people of Ukraine. Putin is now isolated from the world more than ever.\\n\\nTogether with our allies –we are right now enforcing powerful economic sanctions.', metadata={'id': 'doc:db2:05dad6110ce84a288886d98e06651439', 'source': 'https://raw.githubusercontent.com/hwchase17/chat-your-data/master/state_of_the_union.txt', 'start_index': '2645'}),\n",
              " Document(page_content='America will lead that effort, releasing 30 Million barrels from our own Strategic Petroleum Reserve. And we stand ready to do more if necessary, unified with our allies.\\n\\nThese steps will help blunt gas prices here at home. And I know the news about what’s happening can seem alarming.\\n\\nBut I want you to know that we are going to be okay.\\n\\nWhen the history of this era is written Putin’s war on Ukraine will have left Russia weaker and the rest of the world stronger.', metadata={'id': 'doc:db2:ca2fef1b69c44b33a60e76280f1018db', 'source': 'https://raw.githubusercontent.com/hwchase17/chat-your-data/master/state_of_the_union.txt', 'start_index': '6055'})]"
            ]
          },
          "execution_count": 18,
          "metadata": {},
          "output_type": "execute_result"
        }
      ],
      "source": [
        "db2.similarity_search(\"International affairs\")"
      ]
    },
    {
      "cell_type": "markdown",
      "metadata": {
        "id": "mbrFH5_RH1cj"
      },
      "source": [
        "### Limitations\n",
        "\n",
        "As of Langchain 0.1.9 embed_query method does not support caching for `embed_query` method."
      ]
    },
    {
      "cell_type": "code",
      "execution_count": 20,
      "metadata": {
        "colab": {
          "base_uri": "https://localhost:8080/"
        },
        "id": "2DTMmWdRIcQ0",
        "outputId": "e0b926d8-229f-47fc-98ec-d100670b6322"
      },
      "outputs": [
        {
          "data": {
            "text/plain": [
              "[-0.007731702076730168,\n",
              " -0.005557568204855508,\n",
              " -0.016167470972066465,\n",
              " -0.033404081619237316]"
            ]
          },
          "execution_count": 20,
          "metadata": {},
          "output_type": "execute_result"
        }
      ],
      "source": [
        "cached_embedder.embed_query(\"hello world!\")[:4]"
      ]
    },
    {
      "cell_type": "markdown",
      "metadata": {
        "id": "NKIpfIcML9Ad"
      },
      "source": [
        "### Redis storage for Vector DB and Embeddings cache\n",
        "\n",
        "Finally let's look under the Redis covers. You should see keys like `text-embedding-ada-00255c1930e-bc0b-550d-a284-030f8cbfd05a` that are cached embeddings as well as `doc:db2:a0385cc570624e5d9e03eef8eb7f3d63` containing the Vector Database content"
      ]
    },
    {
      "cell_type": "code",
      "execution_count": 22,
      "metadata": {
        "colab": {
          "base_uri": "https://localhost:8080/"
        },
        "id": "Nny-B2zgKDng",
        "outputId": "7d20e46a-97e1-495b-ce94-d4b18186144a"
      },
      "outputs": [
        {
          "name": "stdout",
          "output_type": "stream",
          "text": [
            "  1) \"text-embedding-ada-002ae37faa6-caea-5d9d-b51a-06bf2b054500\"\n",
            "  2) \"doc:db2:1ab6f4d6b7d34e33a4deab925b349ca0\"\n",
            "  3) \"doc:db1:a9ce27bff6b1455c975d8190d49583fc\"\n",
            "  4) \"text-embedding-ada-0025823e9b9-7f59-58de-9541-0c9b80eff57d\"\n",
            "  5) \"doc:db2:045063dc227c42d1be9ef090c408607c\"\n",
            "  6) \"doc:db2:d9c5e5a71c9147138daa88034b4d0f25\"\n",
            "  7) \"text-embedding-ada-0023d1e0114-6569-5c12-bb44-8eda6ab6e7d5\"\n",
            "  8) \"text-embedding-ada-00287cedfdf-aaab-53f2-8d6c-e42c899d51f9\"\n",
            "  9) \"text-embedding-ada-00289ff6f98-c2a1-5534-97ee-163461304d4f\"\n",
            " 10) \"text-embedding-ada-002bcaa4df1-54a7-5d11-afb6-ecb1cb76a747\"\n",
            " 11) \"doc:db2:53d5e895c8a04c93825755e0c437dbcf\"\n",
            " 12) \"doc:db2:ff2cb619c72843bab2b535654a1f9dfb\"\n",
            " 13) \"doc:db1:e6e3ff633c3d4a0cadcbf6c407ffbf16\"\n",
            " 14) \"text-embedding-ada-002f7f7dd89-dac6-573d-8ddd-126926320f18\"\n",
            " 15) \"text-embedding-ada-0021b99c35b-0bd9-5cd6-9bba-451f85376112\"\n",
            " 16) \"doc:db1:018ad68f46174734b73310af942b159e\"\n",
            " 17) \"doc:db2:05dad6110ce84a288886d98e06651439\"\n",
            " 18) \"doc:db2:77fabd5f009a4003a3faaa23236e0b31\"\n",
            " 19) \"text-embedding-ada-0026625f59f-21c8-597e-8188-d6f55359c5ef\"\n",
            " 20) \"doc:db2:ed02579973a3417f8e085ab621e6473c\"\n",
            " 21) \"doc:db1:aaaf78d290da42309844b2307a80301d\"\n",
            " 22) \"doc:db2:38e92eec9c624fbca94c11eb95687447\"\n",
            " 23) \"doc:db2:66a6efb2146e485b99df2d2f9bcce968\"\n",
            " 24) \"doc:db1:d136627d00974cd49dd101c439fe4075\"\n",
            " 25) \"doc:db1:d038540a480b439fb856178db2c55860\"\n",
            " 26) \"doc:db1:e7f676dc15b8452c809bef0222a70b6d\"\n",
            " 27) \"text-embedding-ada-002e95a1cab-e03a-594e-8dbf-8db54f7230d5\"\n",
            " 28) \"doc:db2:395c0f21d8a0455fb3b4d4c80f0a97bc\"\n",
            " 29) \"text-embedding-ada-002c75595bc-ef92-58e3-9f4d-16b1cefad5bc\"\n",
            " 30) \"doc:db2:b3290349098a41609d7c597ad572b47a\"\n",
            " 31) \"doc:db2:d584682530ad4ea78c86aef81cc5c092\"\n",
            " 32) \"doc:db2:1305a0b366164ae5928dae77f32cfd27\"\n",
            " 33) \"text-embedding-ada-0022e3904d2-2f3b-5069-830e-4293a4a677f2\"\n",
            " 34) \"doc:db2:5b919768b0424317acf686d014fe2280\"\n",
            " 35) \"text-embedding-ada-002e257d4ec-e3cd-56b2-bea7-3d44e568cbfe\"\n",
            " 36) \"doc:db1:53a7cf6bac7046b6a0f2820d824574c7\"\n",
            " 37) \"doc:db2:1b31b78c105c41ee84e2bb801f265e2e\"\n",
            " 38) \"text-embedding-ada-002a8796af0-cfca-5efa-ac96-29e8b015d026\"\n",
            " 39) \"doc:db1:e7e5f37cc3324062937c0ea85d707d29\"\n",
            " 40) \"text-embedding-ada-0028f6d3d8c-9e1f-53bf-bc57-486cb38bfa5e\"\n",
            " 41) \"doc:db1:15812e9ee5894f7fa8d3046dd0ea7a37\"\n",
            " 42) \"doc:db1:fec6b4e2f2c249a7a5fb77b58bcd7e7c\"\n",
            " 43) \"doc:db2:c3dd1ac127ee4de2bc77cd42ebb671a9\"\n",
            " 44) \"doc:db1:ea0df22c616748fb850305d523e46637\"\n",
            " 45) \"doc:db1:5e8e8ebee5574f56895ae36a475bd35b\"\n",
            " 46) \"doc:db2:5a72f6444e4e445eb474453638f4287e\"\n",
            " 47) \"doc:db2:e60aa4f2228e48f2bed48ead922388e6\"\n",
            " 48) \"doc:db1:253ed2810b6b4a769e963f7f21791a80\"\n",
            " 49) \"doc:db1:073dfa69b9be44f1bb5c13263ce62aaa\"\n",
            " 50) \"text-embedding-ada-002906762d1-57e8-5bd1-a266-3df3e9aa8064\"\n",
            " 51) \"doc:db1:bf81d24b3f144c65a4dffc74479d1746\"\n",
            " 52) \"text-embedding-ada-002c6cce05e-3ef9-5574-a6eb-59527ae76b49\"\n",
            " 53) \"text-embedding-ada-0024e077fcb-d338-5026-97e8-7fae16338a9c\"\n",
            " 54) \"doc:db2:c4686761ef65427dbc0928619d28dd52\"\n",
            " 55) \"doc:db1:73e25214252c406896b2eca3407e56e2\"\n",
            " 56) \"text-embedding-ada-00211ee6789-24c1-5702-bddf-58785d6bfade\"\n",
            " 57) \"doc:db2:98bf1ef33aa845d1ad019eea6e1f31c6\"\n",
            " 58) \"text-embedding-ada-00297338a53-74c4-5439-a18a-a72e4adbc5fb\"\n",
            " 59) \"doc:db2:62d103529e0141acb3670f9db740f29b\"\n",
            " 60) \"text-embedding-ada-002dbc6be6d-4dde-5d72-892d-e3a88ff3de1b\"\n",
            " 61) \"text-embedding-ada-002b57fdad0-9cfa-5bac-9ffe-679b9e3a14a6\"\n",
            " 62) \"text-embedding-ada-002f51a2795-4642-5e96-9a0e-5f29ed1c2e6f\"\n",
            " 63) \"text-embedding-ada-0027afa8587-1536-5b7c-8705-aaca3004e913\"\n",
            " 64) \"doc:db2:4c20e9d6262342878d1cdc01d6a06922\"\n",
            " 65) \"text-embedding-ada-0024eb35291-993a-51a7-9bb1-1897fbb2fd43\"\n",
            " 66) \"text-embedding-ada-002d8cd7440-8c13-5b46-bcd4-48bca3862f58\"\n",
            " 67) \"text-embedding-ada-002155433d1-4cb9-51e4-8e6d-86a11b0b18f4\"\n",
            " 68) \"doc:db1:1f36bb0f1fa545ab92f8c622cfa03274\"\n",
            " 69) \"text-embedding-ada-00241c258d4-d253-5b09-813a-dc238f8e8ba7\"\n",
            " 70) \"doc:db1:b11aefbd556e477e9d50e3c3f2508145\"\n",
            " 71) \"doc:db1:a2bcadf48060487490d057b22f61d3ae\"\n",
            " 72) \"text-embedding-ada-002ec8733c1-cf14-51b5-bd6c-e439799455f7\"\n",
            " 73) \"doc:db2:e0f2ded543004a50ab4ac756958c72e4\"\n",
            " 74) \"text-embedding-ada-002a83aad79-cef9-5091-b3c5-59112f574853\"\n",
            " 75) \"doc:db1:fa9199ba1b5b458a9fbb2852c2ead4e2\"\n",
            " 76) \"doc:db2:7497f37220e34ecbb424533d9814655e\"\n",
            " 77) \"doc:db2:6b3f4bdf6be84c1dab16e0c07b41155e\"\n",
            " 78) \"text-embedding-ada-0029953acf4-bcd7-5be5-b34b-df0fcf462d27\"\n",
            " 79) \"doc:db2:2e7b7f1f362d4bf6b7c22bbcefc90b3e\"\n",
            " 80) \"text-embedding-ada-002a6e4cd71-9763-5ce5-bc30-833dc31d62ba\"\n",
            " 81) \"doc:db2:7296e9d695c14d7d8567ba1cbe722bdb\"\n",
            " 82) \"doc:db2:dd8c310a16c943e99e48cc8e16aa27eb\"\n",
            " 83) \"doc:db1:785d8c2f22324a3a94520429283a966a\"\n",
            " 84) \"text-embedding-ada-00238876908-4422-5c1c-b3a0-5a3a41571716\"\n",
            " 85) \"doc:db2:6213d684bbba486c89ac727c6a5428d5\"\n",
            " 86) \"text-embedding-ada-002adf18a71-a679-53c0-928e-22d76d7e8063\"\n",
            " 87) \"text-embedding-ada-00200441077-9999-5589-b8bf-8a39ac32d416\"\n",
            " 88) \"doc:db1:24134b32851c4cd6897ec174509561fa\"\n",
            " 89) \"doc:db1:f8cedbec19984b46823db35309221992\"\n",
            " 90) \"doc:db2:d6ea7081969e4cf8a5aa20dfedb067f8\"\n",
            " 91) \"doc:db1:34ef43dec1d040e0a1d1f846e0aec684\"\n",
            " 92) \"doc:db1:91632d4f4e5d46469929c87e1fc104e8\"\n",
            " 93) \"doc:db2:ca2fef1b69c44b33a60e76280f1018db\"\n",
            " 94) \"doc:db1:19f2fa79ed7f4203a61e72c0e027b52b\"\n",
            " 95) \"doc:db1:436c1245aa9642c89581aa49f1ed8a6e\"\n",
            " 96) \"doc:db2:cfe3e0633051477e839a0b8f71d66b1c\"\n",
            " 97) \"text-embedding-ada-002331c53d3-ecf3-55c8-9736-ee4bfc903a11\"\n",
            " 98) \"doc:db2:8c5103acff7c45b086384082965cbc4c\"\n",
            " 99) \"doc:db1:c31caf5e2a81464f9d968e716182b9a5\"\n",
            "100) \"doc:db1:31b5d815542d48c6b1b57d2fb6179e70\"\n",
            "101) \"doc:db1:6f4d973fe7674b0aa64dad07ddc83826\"\n",
            "102) \"doc:db2:dd24e5f5a8b34c5ea1a27d082f5fffe1\"\n",
            "103) \"doc:db1:f0209f5a1a2a4733ab9d7953b2ff6114\"\n",
            "104) \"doc:db1:d3e0eafdada8427eb9cb50737655cbe2\"\n",
            "105) \"text-embedding-ada-002c23aa06c-c301-5fce-b472-0f8321f1da15\"\n",
            "106) \"text-embedding-ada-0021efa9174-c3d5-5d85-aaa3-b045874aa2f5\"\n",
            "107) \"text-embedding-ada-002003284d0-5bfa-5383-b75e-77dbe19bcd64\"\n",
            "108) \"text-embedding-ada-002bd2c1e9c-b529-57b1-9d4f-dc4d5f9e3e76\"\n",
            "109) \"doc:db1:29f89fd25fa64b4eb0ccdbbe61e93999\"\n",
            "110) \"text-embedding-ada-002c9598e40-d764-589b-a8e2-0a02edb560da\"\n",
            "111) \"text-embedding-ada-00220caf29e-933a-5ff0-9c34-749abb25400f\"\n",
            "112) \"doc:db1:9c9c495480e1488d9910c3ab8c01861d\"\n",
            "113) \"text-embedding-ada-002989a66f9-cce4-5ef7-8606-8c32e19ec81d\"\n",
            "114) \"text-embedding-ada-0028cb18273-cd93-5b8b-bf1a-738838a9e906\"\n",
            "115) \"doc:db1:6827815a5d324d1e9ff0485edf7484bd\"\n",
            "116) \"doc:db1:195d198f43394c40baff2257bef444f9\"\n",
            "117) \"text-embedding-ada-0022eb03b20-1548-5d92-86fc-7d0849afaf74\"\n",
            "118) \"doc:db2:290f138ce5a942df82624267cafe019f\"\n",
            "119) \"text-embedding-ada-002e98e9d3a-c148-5823-b0df-f232fc123f34\"\n",
            "120) \"doc:db1:ffae107902b14ef3b665ee90229906e8\"\n",
            "121) \"text-embedding-ada-00240fa95fe-07c4-5b86-b1db-8fb9365858ae\"\n",
            "122) \"doc:db2:d4aab474f1f24975ae5cb18a05eee832\"\n",
            "123) \"text-embedding-ada-0020147bb16-d22e-50da-bc9f-2389733b5547\"\n",
            "124) \"doc:db2:8aa7980bf80c45528671f13187406855\"\n",
            "125) \"doc:db1:11ecfe1bec974a1d86e70840f6f751fb\"\n",
            "126) \"doc:db1:894f9e3e12bd461b8812059ecc06bd0f\"\n",
            "127) \"doc:db1:b2df9574068b42c6b20c0c5cf419cc14\"\n",
            "128) \"text-embedding-ada-002018f10f9-0fab-59b8-91fa-51b6c5815755\"\n",
            "129) \"text-embedding-ada-002a0e4f8d0-4bdf-517d-a3f8-e9be6f948db3\"\n",
            "130) \"text-embedding-ada-002d8566e8c-3653-595a-8419-4f18bbdb2bdd\"\n",
            "131) \"text-embedding-ada-002c480f684-98a5-5f66-ae47-cfff6efafb5b\"\n",
            "132) \"doc:db2:db94a928a5134ecf84df4a748fe5d8b2\"\n",
            "133) \"text-embedding-ada-00204eb9653-3fa5-5488-9a74-f152baf5a2fc\"\n",
            "134) \"doc:db2:e77625cda62d409db0d8fe3e22bace3b\"\n",
            "135) \"text-embedding-ada-002b3e95b0a-49b0-547b-91f7-c30d79c3a5d0\"\n",
            "136) \"doc:db2:f88bddb011bd43d6a23b3ddb7f6278e3\"\n",
            "137) \"text-embedding-ada-002ef9e1477-1100-5a81-a72a-2bddd3c775bc\"\n",
            "138) \"doc:db2:a49e1bb0867a4a0189ac772e1728dd24\"\n",
            "139) \"text-embedding-ada-002f9039fe0-4937-5f45-b31b-9ae232c03bc1\"\n",
            "140) \"doc:db1:4d82a69cd2c3495f85eecfa15ba67529\"\n",
            "141) \"doc:db1:6d96cf12e9214fa7904732c6ddfe398b\"\n",
            "142) \"text-embedding-ada-002edef130a-43ed-57ff-8f52-b1c7ba00e8fb\"\n",
            "143) \"text-embedding-ada-00224009471-4475-5bf4-bb36-a08d7bab0100\"\n",
            "144) \"doc:db1:68d1925396db488c923bb527af572da7\"\n",
            "145) \"doc:db1:a35a2e76ea6347908d1f906db69e8c28\"\n",
            "146) \"doc:db2:29257c7afd0f4429adaa88e519870581\"\n",
            "147) \"doc:db2:fb9a573782724b27908c798d16f0cf12\"\n",
            "148) \"doc:db1:bc2fa24df51a4156a5fbb8975b613feb\"\n",
            "149) \"doc:db2:5c9e685d988743218c56d18e7d46ac16\"\n",
            "150) \"doc:db2:6644ffb5f3814509be3b9019407b50e5\"\n",
            "151) \"doc:db1:59cd22dcf3374670973e4dbe82976d53\"\n",
            "152) \"doc:db1:b7b18988ed2e4d5e815ae8920f6a8289\"\n",
            "153) \"doc:db2:0b909aa57b2947df842afcef55da3f48\"\n",
            "154) \"doc:db2:ef9f6b9be79248d4a2b2ed6e890ceb7d\"\n",
            "155) \"doc:db1:9c6835cf466e4e7f87a75db0f6c310e4\"\n",
            "156) \"doc:db2:4cce16ce6de54ab9b41aa51d12e1bd56\"\n",
            "157) \"text-embedding-ada-002d03a8503-113e-575b-8db1-6a557f2e2396\"\n",
            "158) \"doc:db2:efb1ddef70244ace8b1ed37d86c02bd3\"\n",
            "159) \"text-embedding-ada-002d3bebcf7-e848-526b-89ee-24b736ee18db\"\n",
            "160) \"doc:db1:1a84ecd03bb64e1599860410c8cf7ca6\"\n",
            "161) \"doc:db2:c259279c129241e2b85b1a60609a3b4c\"\n",
            "162) \"doc:db1:1a1c77d56c95403b8ab214504b4df8bb\"\n",
            "163) \"doc:db1:743ec0e3191a4e1f9bb469500981e57b\"\n",
            "164) \"text-embedding-ada-0022735f603-0bf2-55b6-b8ed-c9c56a5a3574\"\n",
            "165) \"doc:db1:2325ea48f9884195859ff465798f00ef\"\n",
            "166) \"doc:db1:9e77fb90e0754680b89f82bc58009752\"\n",
            "167) \"text-embedding-ada-0021285f143-3216-5090-9764-2aed3067f8f7\"\n",
            "168) \"doc:db2:febc405e9f2742d3a84920f21f55c62e\"\n",
            "169) \"doc:db1:268b4daae8d24d2ebc7224e865db68b3\"\n",
            "170) \"doc:db2:ac7ee98507d24638b80f0ec6bc323a38\"\n",
            "171) \"doc:db1:6a66a584cbd14a9386c505831a1b8e27\"\n",
            "172) \"text-embedding-ada-002009465eb-40ff-5744-8e9c-de939c56b8a7\"\n",
            "173) \"doc:db2:b301509f92aa4e22ba74d09028d36eaa\"\n",
            "174) \"doc:db1:3fdaa0f2921e42a3b75a2e55397bb516\"\n",
            "175) \"doc:db2:ccf9dacb83de4c9b995ec9a19191fc69\"\n",
            "176) \"text-embedding-ada-002a427c377-344d-5e31-b96f-05a86c1bcadf\"\n",
            "177) \"text-embedding-ada-00291220fbe-bdc2-58c7-9568-c392b92a10f5\"\n",
            "178) \"doc:db2:4fc94fa6714e4e769775f417f7e0b66f\"\n",
            "179) \"doc:db2:69db22e496814062807e1d598f41bd10\"\n",
            "180) \"doc:db1:e03cdf66230a460f814230e3f11efff9\"\n",
            "181) \"doc:db2:4751a880515c49189b47c228dfc1c892\"\n",
            "182) \"doc:db1:e5a71cc7e856491199558538a5cc4ab5\"\n",
            "183) \"text-embedding-ada-002e743d5e8-dbf6-5a32-9d9b-b42673267b80\"\n",
            "184) \"text-embedding-ada-002be68a1fd-1fd1-5f7f-920e-0c8d9481d3b0\"\n",
            "185) \"doc:db1:6d88315add2742f2be3a2215d96e88ef\"\n",
            "186) \"doc:db1:88a56d76afa943bb9567815b86e64cd6\"\n",
            "187) \"doc:db1:e483b446601b42c1a9ec24901767348d\"\n",
            "188) \"doc:db2:15aab502604140ddb46ac45c9281e837\"\n",
            "189) \"doc:db2:10be38298d92448c9487c7dfa10af6a8\"\n",
            "190) \"doc:db1:6ddbb289d24b4cc995a32134cf944320\"\n",
            "191) \"doc:db1:d3028e6552424c53955b8b80f18aafb9\"\n",
            "192) \"doc:db2:6db489a77f3a419aafeaa210bf74fdc7\"\n",
            "193) \"doc:db1:78290fbcee6442f18735fdf32309e62e\"\n",
            "194) \"doc:db2:26bd7796294e43389f415bc0674a6e58\"\n",
            "195) \"doc:db2:c4e03e68a7404803954006327330d978\"\n",
            "196) \"doc:db2:b53a8ffd9522448a92af285df2fa98c0\"\n",
            "197) \"doc:db1:c90b31d166304cb198907ad9bfb3d378\"\n",
            "198) \"text-embedding-ada-002e3081706-7a5b-5048-b583-654743092803\"\n",
            "199) \"doc:db2:045dbbdcd80e42bab7d9e7fe0423aa68\"\n",
            "200) \"doc:db1:6d11c418a1e54279a592a1cfe9201aa3\"\n",
            "201) \"text-embedding-ada-0026d040b75-4ed6-52fc-9c55-569e22808a38\"\n",
            "202) \"text-embedding-ada-002ccab0a0c-90a4-53f7-917b-60e1f6961c2a\"\n",
            "203) \"doc:db2:ffb5a2f3c98d4813ad24ff1f698051f6\"\n",
            "204) \"text-embedding-ada-002c2899e66-778a-502c-ab25-25e2851b2050\"\n",
            "205) \"doc:db2:8a065462295a4b29a68defb6ab5ea1b6\"\n",
            "206) \"doc:db1:31bb55a543ee4f8aa2e9535716d0d8be\"\n",
            "207) \"doc:db2:73a2e85b1abe4b8784bb7bfc1f8a9703\"\n",
            "208) \"doc:db1:0e3c747171154d8dbdf261c70904a309\"\n",
            "209) \"doc:db1:b8366b773e9d4219a082c233d933ff4e\"\n",
            "210) \"doc:db2:c36c3c9a200443819ad621e218ddaa8b\"\n",
            "211) \"doc:db2:49947e8c2f0749f0a78a12b8628f633c\"\n",
            "212) \"text-embedding-ada-002c2e7e2fb-77d2-51d5-a387-4e14cf329617\"\n",
            "213) \"doc:db1:9e501bc41358454f95d5cf68fd102c49\"\n",
            "214) \"doc:db2:9f68e62ff1eb4038afd5c11df02123f9\"\n",
            "215) \"text-embedding-ada-002843c6dac-5002-595e-8f56-eeacb673a12d\"\n",
            "216) \"text-embedding-ada-002fe26f4d8-be43-5ac2-93ec-b66e05ae4f0b\"\n",
            "217) \"text-embedding-ada-002b7aab88d-16ea-5eb9-afc5-556e339d9b8d\"\n",
            "218) \"text-embedding-ada-002f4641f10-cc90-5791-b0f3-b2a1555dac8f\"\n",
            "219) \"doc:db1:30c95b58f26c45f4a64537b688e7d444\"\n",
            "220) \"doc:db1:a3e135628071460e944cfc5fa3f3a5ff\"\n",
            "221) \"doc:db2:85d060605bc448e8acf0a0641b3d30a4\"\n",
            "222) \"doc:db2:ab36081f6440464587e6b85ccf1d161e\"\n",
            "223) \"text-embedding-ada-0022eb98511-98bb-5401-b5da-f931aff1a596\"\n",
            "224) \"text-embedding-ada-0029fcc24ad-fe61-50e1-8d66-4403ec8178ac\"\n",
            "225) \"doc:db2:072bda80a2ed49c79106707547024845\"\n",
            "226) \"text-embedding-ada-002d868e7cc-125d-5d51-9753-45bdf8ad5de9\"\n",
            "227) \"doc:db1:70e1f5b06d47443a8f64c106a3322a07\"\n",
            "228) \"doc:db2:af3d0f0827ad4d9c9ca9da11222f00aa\"\n",
            "229) \"doc:db2:a0385cc570624e5d9e03eef8eb7f3d63\"\n",
            "230) \"doc:db2:5ec3d27a25b34d0ba60dc9ee2ef43c11\"\n",
            "231) \"doc:db2:468829b8701c4f4992eb7b939b191605\"\n",
            "232) \"doc:db1:9aac337bdb224f59af1442df7754571d\"\n",
            "233) \"doc:db1:5136f712dea84ef4b47b787fa805e298\"\n",
            "234) \"doc:db1:ee51a10f0b9e4aefaa2853490b9929cc\"\n",
            "235) \"doc:db2:82cf21dc214e4219995e5ca851d1b97a\"\n",
            "236) \"text-embedding-ada-002379369e9-acc2-538f-b319-1d1640fd38fb\"\n",
            "237) \"doc:db1:17a54d3beada4c218339ba6b7151f44c\"\n",
            "238) \"text-embedding-ada-002b1d22309-6f1e-55cf-90aa-e1c7b9030168\"\n",
            "239) \"text-embedding-ada-0025ded9c3a-83f1-52ff-b451-944f68fa6091\"\n",
            "240) \"doc:db1:fea5339965484fceb4a2e93f78e93695\"\n",
            "241) \"doc:db1:fd4f57c5dade4e298703c93141b1e24a\"\n",
            "242) \"text-embedding-ada-002f26668b8-30e7-53ab-8662-6ec30ec795c9\"\n",
            "243) \"doc:db2:27d648821f78470caa4780d0778d8635\"\n",
            "244) \"doc:db2:85d2ba0ca947498b85b1ba08a64bca98\"\n",
            "245) \"doc:db2:7335e551244a4291a793cbfccabf9b1d\"\n",
            "246) \"doc:db2:d25094e031a94d1db33cc1825580c603\"\n",
            "247) \"doc:db1:2ea66010652d44cf88eb18f65ff30b78\"\n",
            "248) \"doc:db2:81fec523c2124fb78196814900c17c78\"\n",
            "249) \"doc:db1:6dad624de18d4f828eb11ea41c0122b4\"\n",
            "250) \"text-embedding-ada-0023d2100fc-29aa-53b0-9944-d579a4f7593c\"\n",
            "251) \"text-embedding-ada-0020a18bb07-d59e-58f3-b8fe-37c69bf4047f\"\n",
            "252) \"text-embedding-ada-002b566f5b1-bc73-597c-ac33-ff2688155d1d\"\n",
            "253) \"text-embedding-ada-0028b5a801e-5a03-5287-a632-efe09979acef\"\n",
            "254) \"doc:db1:bc81d9d43f7549ebb593ec869401c881\"\n",
            "255) \"doc:db1:4629722ce30a4449908069366e369a7c\"\n",
            "256) \"text-embedding-ada-00254ae2b93-9d6a-543e-8a14-cdd31f8f831c\"\n",
            "257) \"text-embedding-ada-002ce8c007e-b10c-5005-b5df-664d580016cd\"\n",
            "258) \"doc:db2:45b4dee96f524fb5b60a88fa67f39937\"\n",
            "259) \"doc:db1:0e4266abee2244328cf9942961a952e8\"\n",
            "260) \"doc:db2:286c09255ab648b58a1a0f37256654b4\"\n",
            "261) \"text-embedding-ada-0024ae07f94-0a9b-55d9-989d-303d1988cb0c\"\n",
            "262) \"text-embedding-ada-002fd70cab2-e9ee-57ca-877c-dbb76c9c9b83\"\n",
            "263) \"text-embedding-ada-002d4c4685d-02ad-50e8-852f-5fe280647055\"\n",
            "264) \"doc:db2:50201a29bd664f93b075745304f4e4a2\"\n",
            "265) \"doc:db1:97d1dc4a95d54be8b60f3dd1204f497d\"\n",
            "266) \"doc:db2:7a62f8c2260944be9cf0269e4fa5b631\"\n",
            "267) \"text-embedding-ada-002c22cad9f-8cca-54ad-bcf4-7573f120d64b\"\n",
            "268) \"doc:db1:b73fb15077624d9a9bdb408a8602305a\"\n",
            "269) \"doc:db1:c76d4f99e0f649b2aacb5d9fd33c5bda\"\n",
            "\"[-0.008214621405067924, -0.008508935190181238, 0.012818994830333013, -0.028306433900635305, -0.009725431609856025, 0.008495854763774062, -0.01695246731700396, -0.0003225187164882789, 0.015068859837336855, -0.012642406745529551, 0.01092230692425873, 0.016233033620060303, -0.009777754246807362, -0.016298436683418818, -0.0005616485504775178, 0.00567698375747699, 0.029195915934840156, -0.010660694670824672, 0.033800287497459974, -0.020405748317275412, -0.030948717287790233, -0.001239387515133333, -0.00024219561713608543, -0.009025619018184447, -0.011282023772730559, -0.00830618532124079, 0.026619035611043743, -0.026972211780650665, 0.015068859837336855, -0.035108348764630266, -0.025742634934568704, -0.004996791805416176, -0.00522897286660343, -0.00028164183099303974, -0.021583001595083404, -0.018757590375582743, -0.0072466563467587005, -0.015356632943585264, -0.0018623514375094579, -0.01884915429175561, 0.009908560373524392, 0.011517475173350266, 0.02137371290992332, -0.014650280604371416, -0.02627894079916663, 0.007567131450347684, -0.03403574076072495, -0.010955008455937987, -0.00604324035349109, 0.021229825425476478, 0.021896937416791433, 0.01030751850121775, -0.026789083948304933, -0.01667777370584009, -0.003708352109179287, -0.010654154923282403, -0.0017904081609473555, 0.011164298072420706, 0.0005228155398160646, -0.03157658706856103, -0.016403081957321493, 0.008266944042019261, -0.001128202377273056, 0.0038555090017359447, -0.020104893853297192, -0.026043489398546924, -0.0320474861445099, 0.01253776240294951, -0.014558715756875914, 0.007920307619954608, 0.03254455166120893, 0.01408781388695914, 0.006729972518755491, -0.011177378498827882, 0.04227652301860722, 0.011386669046633236, -0.02791401552048422, -0.0071158502200416715, -0.03178587761636638, -0.013943927333834934, 0.009287231271618505, -0.01870526866995404, 0.013407622400559642, -0.006102103203646016, 0.02778320939376719, 0.0031279001547031304, 0.0008886637508547605, 0.04188410463845614, -0.007985710683313123, -0.001588476226111008, -0.019869442452677487, 0.024303767540681386, 0.006716892092348314, 0.03704428167521661, -0.016586209789667225, -0.0039928553416565616, -0.021661486016171728, 0.02567723187121019, -0.0030968337927401, -0.019686314620331755, 0.01500345677397834, -0.02300878763124091, -0.02987610742123965, -0.011824869384870757, -0.027416953729075724, -0.006919641495627446, -0.0018018536504689638, -0.017044031233176826, 0.0048692560181316, -0.010948468708395716, -0.01602374307225495, -0.013786960354303553, -0.00444740644573371, -0.029195915934840156, -0.0022792957335893284, 0.0023299832008244407, -0.000690819565685985, -0.004862715804928012, 0.006716892092348314, 0.008064194173078814, 0.01308060708376707, 0.020405748317275412, 0.01778962578293484, 0.00044351434877693176, 0.014781086731088446, -0.02659287475822939, 0.01069339620250393, -0.008639741316898267, 0.006743052945162666, -0.009673108972904685, 0.015395875154129426, 0.014100894313366315, 0.01635075838904752, -0.03421886859307068, -0.01675625812692842, 0.020000248579394517, -0.019215411819092344, 0.0019539158193436416, 0.008391209489871385, -0.014440990056566062, 0.01831285028980295, -0.0015623150240506682, -0.02194925912242014, 0.005775088352514762, 0.007024286303868805, 0.03801224626786452, 0.014454071414295873, 0.012374254744553222, 0.013159090573532761, -0.017200998212708207, 0.009339553908569843, 0.00022461854676886794, -0.00028981721391285406, -0.02345352957966597, 0.008770547443615296, 0.016363839746777332, -0.0014895541626304529, 0.025624910165581483, 0.010052446926648596, -0.008136137915302233, 0.005268214611486275, 0.016259194472874654, -0.0039176417256620065, -0.010726097734183187, -0.0037999164910134707, 0.022943384567882395, 0.038535470774732634, 0.003476171280822693, -0.007809122598509661, -0.024460736382858037, 0.007782961280033991, 0.044657192289682825, -0.0227210145249925, 0.03667802228523461, -0.010104769563599935, 0.04002665987424865, 0.013773879927896377, 0.0055036655464446626, -0.011046573303433489, -0.0026815244335457967, 0.0095096013145084, -0.01115121764601353, 0.021452195468366374, 0.01084382343449304, 0.007050447156683157, 0.006978503880121055, 0.01794659276246622, -0.012668568529666538, 0.009280690592753599, -0.010222494332587153, 0.0051145175057260295, 0.01508194026374403, -0.010451405054341953, -0.012930180783100596, -0.6333106570108532, -0.019032283986746612, 0.011635199942337483, 0.02332272345294894, 0.0041956047449356925, 0.021779210785158945, 0.019359299303539183, -0.007050447156683157, -0.03618096049382612, 0.02064119785524985, -0.005183190442855679, 0.02184461384851746, 0.0013137835462697746, -0.01693938595927415, -0.029169755082025805, -0.020706600918608365, -0.006965423453713879, -0.03249222995558023, 0.01130164487800264, 0.008057654425536543, -0.007619453621637706, 0.037515180751165486, -0.004993521931645041, -0.020850488403055204, 0.0034369295359398476, -0.027155341475641668, 0.011196999604099964, -0.029169755082025805, -0.025324055701603263, 0.021308309846564805, -0.004967360613169372, 0.008011871536127474, 0.009568464630324644, 0.003750864193494585, 0.05546177537627697, -0.020628118360165308, -0.01801199582582473, 0.018182044163085925, 0.026645196463858094, 0.012380794492095493, -0.036128638788197415, 0.003414038556896631, 0.00788760608827535, -0.0006425848530252123, 0.0034271192161344655, -0.0024885855829027063, 0.029065109808123126, -0.020458070022904118, 0.016730097274114068, 0.006592626178834874, 0.002853207474861897, -0.020444988665174305, 0.004408164700850864, 0.018352092500347115, -0.010732638413048093, 0.020458070022904118, -0.007782961280033991, -0.0032112891536174998, -0.02674984173776077, -0.010673776028554483, -0.011700603005695998, -6.559464933933901e-06, -0.013263735847435438, 0.01120354028296487, -0.037802955720059164, 0.0019931575642264865, -0.0206150370024355, 0.02809714521547522, 0.018378253353161466, -0.0059484060978857705, 0.017933513267381677, 0.020562715296806793, -0.00014194502191684462, -0.016403081957321493, 0.021203664572662127, 0.019921764158306193, 0.014768005373358635, -0.020706600918608365, -0.016546967579123065, -0.003701811895975699, -0.0123873351709604, -0.02257712890319093, -0.018692187312224228, 0.034794414805567504, 0.017488771318956618, 0.009228368887124897, -0.021910016911875975, 0.01958166934642908, 0.029719140441708272, -0.0004189882000174888, 0.009797374420756809, 0.036730343990863314, -0.0140354912500078, -0.015722890470922, -0.005899353800366884, 0.04109926787815397, 0.01181832870600585, 0.0030494166649374403, 0.02095513367695788, 0.0020749113934246297, -0.0007603103205044065, -0.008620120211626186, 0.030844072013887558, -0.012217286833699208, -0.005726036054995875, -0.001382456716230083, -0.03134113380529605, 0.016429242810135847, 0.013348760016066033, -0.02494471867918199, 0.020458070022904118, 0.003924182404526912, -0.025664152376125647, 0.007148551751720929, 0.0038783999807791613, -0.024225284982238332, -0.011530555599757441, 0.02031418253845728, 0.00801841221499238, -0.016259194472874654, -0.0020912621592642584, -0.000903379463393492, 0.015722890470922, -0.007724098429879065, 0.0001789386267186211, 0.013198332784076923, 0.013296437379114696, -0.004512809509092224, -0.023296560737489317, 0.03230909839794396, 0.014990376347571164, 0.0005150488911176422, 0.026632116968773552, -0.006471630604753886, -0.007109310006838084, 0.021726889079530243, 0.012975962741187029, -0.019084605692375314, -0.010948468708395716, 0.0068019157953175926, -0.006893480177151776, 0.02006565164275303, -0.017776544425205026, 0.017397207402783752, -0.02141295512046748, -0.022354756997655763, -0.0035611954494532885, 0.004709018699167767, -0.025467943186050106, 0.033329388421511105, 0.03942495094629221, -0.017030949875447017, -0.024591542509575064, -0.01768498050903216, 0.006991584772189548, 0.006344094351807992, -0.009287231271618505, -0.02378054489645854, -0.013551508953683847, -0.034872899226655825, 0.02880349755468907, 0.02121674593039194, -0.023885188307715948, 0.016847822043101285, 0.016416161452406035, 0.021923098269605784, 0.0013137835462697746, -0.0017266401508897382, 0.011040032624568583, -0.0072008743886722675, 0.02408139749779149, -0.004970630952601825, -0.015801373029365053, 0.0003783156816329456, 0.008351968210649856, 0.009620786335953348, -0.01591909966099754, -0.006939262135238209, -0.0031687770693022022, 0.016991709527548124, 0.015042698053199868, 0.011471692283941197, -0.02201466218577865, -0.006452009499481805, 0.026265859441436817, 0.01928081488245086, -0.025324055701603263, 0.02854188530125501, -0.003783565725173842, 0.018901477860029582, 0.004682857380692098, -0.0013342220035693104, 0.00885557161224589, -0.006219828903955869, -0.0051897311217205845, 0.0059026241397993374, -0.0005518381142568065, 0.0033486354935381166, 0.018652946964325335, 0.01797275361528057, -0.011877191090499459, 0.009666569225362416, 0.026789083948304933, 0.008750926338343214, 0.001831285075546427, -0.014768005373358635, -0.004254467595090619, -0.0120210785749463, 0.026998372633465016, 0.010641074496875227, 0.016690855063569904, -0.02018337641174025, -0.018365171995431657, -0.02644898727378255, -0.00583395073700837, 0.0463053502313755, 0.0017805977247266442, -0.01017671237450072, -0.03602399165164946, 0.011321265983274723, 0.0031802225588238105, -0.02809714521547522, -0.0009998488887150373, -0.019804039389318972, -0.02953601074671727, -0.00029676627775316325, -0.0187445108804982, 0.015814454387094865, 0.028568046154069365, -0.0010529888776938303, -0.007724098429879065, -0.0030886584098202855, -0.005608310354686023, 0.039738884905354974, 0.013459945037510981, 0.006180587159073023, 0.011582878236708779, -0.008822870080566633, -0.0005375311941471315, 0.002331618370540667, -0.004041907639175447, 0.004431055679894081, 0.0030461463255049876, 0.0048692560181316, 0.0064029572019629185, 0.008345427531784952, 0.051459110878968324, -0.017750383572390675, -0.02943136733545986, 0.005637741546932827, -0.014676441457185769, 0.012354633639281142, 0.009228368887124897, -0.01794659276246622, -0.0012042334617103948, -0.017318724844340695, -0.005840490950211958, -0.0007022651134152579, 0.03683499112741126, 0.03267535778792596, 0.029457528188274212, -0.0013783690247701759, 0.007030826517072393, 0.018692187312224228, -0.003535034130977619, -0.012544302150491779, -0.004502998956456183, -0.010614912712738239, 0.0019996977774300747, -0.00922182820825999, 0.009653487867632605, -0.0014928242692322468, 0.018299768932073142, -0.012884397893691528, -0.0025801497319062313, -0.00012896661899393884, 0.0012532856428139512, -0.016860903400831094, 0.007743719535151146, -0.013695395506808051, -0.0065370336681124, -0.03502986806883248, 0.005729305928767011, 0.023061111199514883, 0.004957550060533332, -0.012197666659749761, -0.0030624970913446163, -0.00166287225724745, -0.03191668001779287, -0.02587344106128573, -0.005032763676527887, -0.007155092430585834, -0.02930056120874283, -0.0008097713522446842, -0.007455945963241419, 0.0015533221726880702, 0.04978479022181603, -0.021190583214932317, 0.01285169636201227, -0.021020536740316394, -0.010627993139145416, -0.029797623000151326, -0.0027305767310646825, -0.009594625483138997, 0.023348884305763293, 0.005461153462129365, -0.012132263596391246, -0.007083148688362414, -0.00605305090612713, -0.010359841138169087, -0.008031492641399556, 0.0236366574120117, -0.025494104038864457, 0.008731305233071134, 0.014061653034144786, 0.021739968574614785, -0.03257071065137801, -0.014192459160861816, 0.010981170240074974, 0.0015067225133281945, -0.0019915223945102603, -0.022825659798895177, -0.014427909630158886, -0.011367047941361156, 0.1282945954398781, 0.024303767540681386, -0.015487439070302292, -0.009300311698025681, -0.0041956047449356925, -0.007534429918668427, -0.01840441420597582, -0.012079940959439909, 0.008953675275961028, -0.008652821743305443, 0.003505602705900156, 0.02514092786925753, -0.0020454799683471666, 0.01928081488245086, 0.00029063474056330253, 0.008116516810030151, 0.00788760608827535, -0.008136137915302233, -0.020170296916655707, -0.019058444839560963, 0.008718224806663956, 0.006445469286278216, -0.007410164005154986, 0.058705765828743074, -0.014401748777344535, 0.024578461151845254, 0.019830200242133326, 0.013656154227586524, -0.007946469404091595, -0.023231159536776073, -0.02417296141396436, -0.002122328521227289, 0.002944771623865422, -0.004234846489818538, -0.02151759853172489, 0.01097462956121007, -0.011524014920892535, 0.0031458860902589857, 0.017200998212708207, -0.008443532126822723, -0.002625931922823323, -0.008783627870022471, 0.011079274835112746, -0.016573130294582687, -0.007998791109720299, 0.0072662774520307815, 0.0017707871720906035, 0.02376746353872873, -0.007331680515389296, -0.0320474861445099, 0.006841157540200438, -0.012570463934628765, -0.036861150117580344, -0.021779210785158945, -0.011524014920892535, 0.0015950165557299255, -0.008639741316898267, 0.005827410523804782, -0.022053904396322814, 0.017698061866761972, -0.025428700975505942, 0.009535763098645386, -0.015016537200385515, -0.03322474128496316, -0.030451653633736468, -0.015683648260377835, -0.00016575582758118703, -0.0010031191117321606, -0.009117182934357313, -0.004823474060045167, -0.0017070192784483156, -0.022080065249137165, -0.025389458764961778, 0.015827535744824674, 0.00809689570475807, 0.005206081887560213, 0.01320487346294183, -0.01781578663574919, 0.013786960354303553, 0.00897329638123311, 0.0006286866671369292, -0.029666816873434296, 0.005369589080295181, -0.02230243529202706, 0.0017446259700302637, 0.00531726690900516, -0.008816329401701729, 0.01915000875573383, -0.015487439070302292, 0.02068044006579401, 0.010575671433516712, 0.0031360755376229447, 0.0031524263034625735, -0.010444865306799682, -0.015408955580536602, 0.010883065645037203, -0.02095513367695788, 0.019934845516036002, -0.0058470316290768634, -0.010641074496875227, 0.0019849821813066725, 0.003248895728784119, -0.007724098429879065, -0.00795954983049877, 0.001607279630109647, 0.008953675275961028, 0.007913767872412337, 0.013100228189039153, -0.005045844102935062, 0.0017102893850501095, 0.03563157327149838, -0.03168123047981843, -0.0075148088133963455, -0.0039307226177305, 0.013616912017042362, 0.0032734218775435616, 0.02465694557293358, 0.04714250869730637, 0.01300212359400138, -0.021059777088215288, -0.016272275830604466, -0.026540553052600686, 0.010104769563599935, -0.00935917408251929, -0.016442324167865657, -0.003193303218061645, -0.015147343327102545, -0.022066983891407356, -0.0001375507652389774, 0.003521953471739785, 0.01752801352950078, 0.028855819260317772, 0.0073774624734757295, 0.020248779475098764, 0.001754436406250975, 0.000990856037352439, -0.0157752121765507, 0.025585667955037323, -0.019385460156353534, -0.012629326319122376, -0.0006716074274659543, -0.0025147466685477167, -0.02746927543470443, 0.0013113309081107646, 0.008508935190181238, -0.024709267278562284, -0.0007545875175359376, 0.0273384693079874, -0.013695395506808051, 0.023859027454901597, 0.014611038393827254, -0.024199124129423977, -0.011170838751285612, 0.0017380856404113465, -0.014532554904061563, -0.015395875154129426, -0.0007840188844057362, 0.006586085965631286, 0.015853696597639026, 0.011648280368744659, 0.0033093937486552713, 0.009908560373524392, -0.012603165466308023, 0.02121674593039194, -0.0030853883032184917, 0.010300977822352843, 0.0038162672568530995, 0.016089146135613464, -0.00400920610749619, -0.003005269643736575, 0.007737179321947558, 0.005130868271565658, -0.022459402271558442, 0.00412366146837359, -0.014911891926482838, -0.013178711678804841, -0.010438324627934778, -0.0006622057254666349, -0.021962340480149948, 0.00922182820825999, 0.0045487813802039334, 0.0008085450331651791, 0.034401996425416415, 0.012727430914160147, 0.0025310974343873455, -0.005732576268199463, 0.02257712890319093, -0.002828681326102454, 0.018888396502299773, 0.0015778482050321837, -0.006196937924912652, -0.01308060708376707, 0.001604009523507853, 0.0045749422330182855, 0.01166136172647447, -0.030503977202010445, -0.012034159001353475, -0.00807727459948599, 0.03335554741168018, 0.00899291748650519, 0.009568464630324644, 0.011373587688903425, -0.006147885627393766, 0.011595958663115956, -0.011766006069054513, 0.01615454919897198, 0.011419370578312493, -0.008678982596119794, -0.0006634320445461399, -0.03816921138475063, -0.007076608475158826, -0.00885557161224589, 0.01667777370584009, 0.006841157540200438, 0.013786960354303553, -0.0140354912500078, 0.0095096013145084, -0.004133472021009631, 0.012099562064711989, -0.04075917120363158, -0.022799498946080826, 0.0016334408321699869, 0.026946050927836314, 0.0082277018314751, 0.010896146071444379, 0.017397207402783752, -0.0023839407746613465, -0.016887064253645445, 0.015513599923116645, -0.020902810108683906, 0.005091626526682813, 0.002447708668303635, -0.00025282362366299375, -0.02851572444844066, -0.006622057371081678, -0.013361840442473209, 0.028149466921103924, 0.016743176769198606, -0.03060862061326785, 0.022080065249137165, -0.009182585997715828, -0.02746927543470443, -0.010765339944727349, -0.038195374100210254, -0.021334470699379156, 0.025794958502842677, -0.03929414481957519, 0.0008494219477642506, 0.013342219337201129, -0.02227627443921271, -0.02243324141874409, 0.02953601074671727, 0.005693334523316618, 0.04083765562471991, -0.019333138450724832, -0.01930697573526521, 0.018836074796671067, -0.01374771814375939, 0.021282148993750454, -0.0045258899354994, -0.036861150117580344, 0.007894146767140257, -0.005389210185567263, 0.0028908142828591747, -0.0025670690726683964, 0.011962215259130056, -0.035736220408046325, -0.009516141993373306, -0.004990251592212588, 0.02613505331471979, -0.03351251625385684, 0.010941928029530812, -0.01230885168119471, -0.004803852954773086, 0.00683461732699685, -0.003055956878141028, -0.020889730613599364, -0.0001667777504461638, -0.013551508953683847, 0.004888877123403681, 0.028332594753449656, -0.02644898727378255, -0.02854188530125501, -0.01040562309625552, 0.015095020690151206, 0.0013039729936337341, -0.028411079174537984, 0.0034009578976587963, 0.01115121764601353, 0.00032190555694852635, -0.007344760941796472, -0.0064127677545989595, -0.005199541208695308, -0.002509841625060355, 0.014872650647261312, -0.0067561338372311595, -0.020549633939076984, 0.027573920708607105, -0.027103017907367695, 0.0025245572211837573, -0.012230368191429019, 0.01915000875573383, -0.047587248783086164, 0.005402290611974439, -0.010144010842821462, -0.006998124985393136, 0.004565132146043562, -0.01607606664052892, -0.010811121902813782, 0.0030674023676626363, 0.0120210785749463, -0.000205099828778961, 0.028018660794386897, -0.03102719984623329, 0.003626598279981144, -0.0006078394756160015, 0.01070647756023374, -0.040392915538940116, -0.00601053928747315, 0.024931637321452177, -0.002898989665778989, 0.010621453391603145, 0.014820328010309972, -0.011896812195771541, -0.009365714761384196, 0.028123306068289573, 0.012053780106625556, 0.025350216554417618, -1.4102529352115295e-05, -0.0024215473498279657, 0.0023512392429820895, 0.003420578770100219, 0.002827046156386228, -0.011733304537375255, -0.01404857260773761, -0.015042698053199868, -0.0006589356188648409, -0.004764611209890241, 0.016900143748729987, -0.008548176469402766, 0.022380919713115385, 0.025520264891678808, 0.030347008359833793, -0.002159935329224567, -0.00242972273274778, -0.018495978122148687, -0.006674380008033017, -0.0032161944299355203, -0.01962091155697324, -0.016416161452406035, -0.021609162447897755, 0.050124886896338414, 0.014689521883592944, -0.0008608674954935236, -0.032806163914642986, -0.00661551715787809, -0.011962215259130056, -0.0010627993139145416, -0.010444865306799682, 0.031131845120135965, 0.05425835752036409, 0.029771462147336974, 0.011131596540741449, 0.034323512004328094, -0.018600623396051362, 0.009280690592753599, 0.03403574076072495, -0.019267735387366317, -5.981439631532454e-06, -0.028986625387034802, -0.008181919873388666, 0.027076857054553344, 0.011432451004719669, -0.007632534513706199, 0.016272275830604466, -0.006075941885170346, 0.003705082002577493, 0.021295228488834993, 0.009287231271618505, -0.026514390337141064, -0.007567131450347684, 0.027678565982509784, 0.016730097274114068, 0.0010554415158528403, 0.006066131798195623, -0.038378501932555986, 0.00966002854649751, 0.007900686514682526, 0.01976479717877481, -0.03495138364774415, -0.0004341126467776123, -0.003780295618572048, 0.0007120755496359692, 0.0002231878605786669, -0.01277321287224658, -0.00786798498300327, 0.006164236393233395, -0.021779210785158945, 0.012917099425370785, 0.0019375649370886835, -0.0004132654261528523, 0.001578665789890297, 0.002931691197458246, -0.0057914391183543894, -0.019790958031589163, 0.007462486642106325, -0.006128264522121685, 0.026867568369393257, 0.007488647494920677, -0.009627327014818252, 0.021883856059061624, -0.005085086313479225, 0.005915704566206513, -0.010215954585044883, -0.01151093449448536, -0.017122515654265154, 0.003253801005102139, 0.0034696310676191047, 0.024408412814584064, 0.01342070282696682, -0.0033682563659795392, 0.007769880853626816, -0.027547759855792754, 0.018652946964325335, 0.0037999164910134707, -0.013322598231929047, 0.014113975671096126, -0.01470260231000012, -0.027155341475641668, -0.005340157888048377, -0.0009794104314155016, -0.010582211181058983, -0.00686077864547252, 0.002916975368504185, -0.01015709126922864, 0.01342070282696682, 0.23398590112375087, -0.04484032012202856, 0.021465276826096186, 0.01705711259090664, -0.020458070022904118, -0.0009254529739939248, 0.0030003643674185545, 0.004908497763014445, 0.013322598231929047, 0.01217804555447768, -0.004362382742764431, 0.016416161452406035, -0.015565922560067983, 0.014741844520544282, -0.0054186413778140674, 0.0005923062364268214, -0.04497112624874559, -0.006602436731470915, -0.014807247583902797, -0.004542240701339028, 0.007338220728592884, 0.007534429918668427, -0.00920220710298791, -0.0018296499058302006, 0.019921764158306193, -0.0052911055905294916, -0.018914557355114124, 0.0004627264869969624, 0.004555321593407521, 0.006582815626198833, -0.011308184625544912, 0.01977787853650462, 0.0068215369005896745, 0.018155883310271573, 0.0014306914288908558, 0.003580816321894711, 0.038980210860512426, 0.0038162672568530995, 0.033800287497459974, -0.0014609403224111028, 0.031131845120135965, 0.024120639708335653, -0.013244114742163356, -0.03217829227122693, -0.00015339055509420142, 0.03505602705900156, 0.0018443656183689324, -0.006007268948040697, 0.011752925642647336, 0.040811496634550824, -0.03003307440077103, -0.002629202029425117, -0.008580878001082023, 0.019673233262601945, -0.0045945633382903665, 0.009005997912912365, 0.03772447129897084, 0.024709267278562284, -0.0015083575666290916, -0.007946469404091595, -0.003535034130977619, -0.017632658803403457, -0.008711684127799052, 0.007593292768823354, -0.024892395110908017, 0.052845652841936396, -0.010928847603123636, 0.012001457469674218, 0.03013771967467371, -0.013087147762631975, -0.0006470812787065114, -0.012969422062322123, -0.030216202233116763, 0.021923098269605784, -0.028908142828591745, -0.012001457469674218, 0.007161632643789422, 0.015042698053199868, 0.03955575707300924, 0.0010758799731523762, 0.0015876587576682244, 0.0040451779786079, -0.02240708056592974, 0.017436449613327912, -0.024892395110908017, -0.008253863615612086, 0.0019669962457508176, 0.009463819356421967, -0.018561381185507198, 0.011190459856557693, -0.0036887312367378648, -0.019895603305491838, -0.026553632547685228, 0.007213954815079443, 0.015016537200385515, 0.004068068957651117, -0.013800040780710728, -0.0028401268156240623, -0.004434326019326533, -0.009326473482162667, 0.0030919285164220794, 0.030713265887170528, 0.02867269142797204, 0.010281357648403397, 0.00021174232740131012, -0.003538304237579413, -0.00750172838698917, -0.01604990578771457, -0.017488771318956618, -0.029745301294522623, -0.010281357648403397, -0.03275384220901428, 0.0072662774520307815, -0.004467027551005791, -0.0031556964100643674, 0.00971889093099112, -0.012158424449205599, -0.00538593984613481, 0.02820178862673263, 0.0020601955644705687, -0.0001273315365892095, -0.03136729652075567, 0.02037958560181579, -0.007534429918668427, 0.0133029780579796, 0.013603831590635185, -0.043663068706865836, 0.009614246588411077, -0.020157215558925898, -0.02647514998924217, 0.03411422518181328, 0.001671865108610048, 0.026671359179317716, 0.001321958929189589, -0.015487439070302292, -0.007272817665234369, 0.009679649651769592, -0.006530492989247494, -0.0033976877910570024, 0.00056696256101693, -0.004620724656766036, -0.010202874158637706, 0.01648156451576455, 0.008109976131165247, 0.016520806726308714, 0.012544302150491779, 0.03335554741168018, -0.0012483804829112603, -0.008849030933380986, 0.013146010147125586, -0.02391135102317557, 0.008469692979637075, -0.0038326180226927278, 0.007056987835548063, 0.017855028846293353, 0.0059484060978857705, -0.01781578663574919, -0.017174837359893856, -0.020824327550240853, 0.02194925912242014, -0.026946050927836314, 0.015251988601005222, 0.02744311458189008, -0.024264527192782492, -0.004758070996686653, 0.0034336594293380538, -0.16345527336071813, 0.005807789884194018, 0.010300977822352843, -0.0029529470067852365, 0.001980076904988652, -0.009980503184425176, 0.02453921894130109, -0.01441482920375171, -0.01649464587349436, -0.008711684127799052, 0.025441780470590484, 0.021857695206247273, -0.02943136733545986, -0.017554174382315133, 0.002068370947390383, -0.009038699444591623, -0.02817562777391828, 0.016416161452406035, -0.0010955008455937987, 0.014310184861171669, 0.05245323446178531, 0.005716225502359834, -0.0065337633286799476, -0.005634471673161692, 0.018064319394098707, 0.005961486989954264, -0.017044031233176826, 0.00912372361322222, -0.030216202233116763, -0.04342761544360086, 0.0034271192161344655, -0.027809370246581543, 0.028411079174537984, 0.020719682276338174, -0.004166173552688888, 0.004028827212768271, -0.010366380885711358, -0.029457528188274212, -0.020562715296806793, 0.01708327344372099, 0.023885188307715948, 0.02210622610195152, 0.01164174062120239, -0.03359100067494516, -0.007972630256905946, 0.01900612313393226, 0.02167456551125627, -0.004882336910200093, -0.0005808607469052131, 0.0036037073009379276, 0.0086855232749847, -0.016062985282799112, -0.010869984287307392, -0.014637199246641605, 0.020405748317275412, 0.019136929260649287, 0.023571254348653186, 0.013047905552087813, 0.018692187312224228, -0.015827535744824674, -0.010680315776096754, 0.0013481201312499289, 0.022930305072797853, -0.006965423453713879, 0.003943803044137675, 0.001190335217614447, -0.004074609170854704, 0.035108348764630266, -0.020588876149621144, 0.017580337097774755, 0.017698061866761972, -0.010876524966172297, -0.003423848876702013, -0.04295671264236145, 0.006880399285083283, -0.011216620709372046, -0.019241572671906695, 0.020104893853297192, -0.017187918717623665, 0.0008649551869534308, -0.03845698635364431, 0.008031492641399556, 0.0023839407746613465, -0.009594625483138997, 0.005961486989954264, 0.006066131798195623, -0.013682315080400876, 0.031105684267321614, -8.129393043949625e-05, -0.00560504001525357, -0.004496458743252595, -0.021792292142888758, -0.012151883770340693, -0.018927638712843933, 0.012354633639281142, 0.012805914403925837, 0.02421220362450852, 0.03390493463400792, -0.0006912283581150415, -0.03589318552493244, -0.006236179669795497, 0.003933992491501635, -0.012812455082790742, 0.01710943429653534, -0.0051145175057260295, 0.01661237064248158, 0.004408164700850864, -0.003165506962700408, 0.01433634571398602, 0.007370922260272141, -0.013257195168570532, 0.016834742548016743, 0.010399082417390616, 0.005399020738203303, 0.011242781562186397, -0.003463090854415517, 0.014964214563434178, 0.006926181708831034, -0.006543573881315988, -0.012125722917526342, 0.05755467340374944, -0.0056246611205256515, -0.0030674023676626363, -0.005199541208695308, -0.016442324167865657, -0.013512267674462319, -0.13813121020853378, -0.05221778492381088, 0.024094478855521302, -0.007142011538517341, 0.009575004377866915, 0.037070440665385694, 0.008822870080566633, -0.009097562760407867, 0.010529888544107644, 0.017894271056837514, -0.013342219337201129, -0.0019146738416301377, 0.006654758902760936, -0.010163631948093544, 0.014231700440083343, -0.00012753591825182163, -0.025520264891678808, -0.016887064253645445, -0.05049114256102988, 0.012289230575922627, 0.010726097734183187, -0.0033257445144949, 0.0009156425377732135, -0.0010088418564929648, -0.0002955399586736582, -0.008652821743305443, -0.02478775169965061, 0.040811496634550824, 0.0015410590983083487, 0.012910559677828514, -0.03594550723056114, 0.004728639338778531, 0.007011205411800312, -0.017174837359893856, -0.009411496719470629, -0.012066860533032733, -0.041256236720330616, 0.006743052945162666, 0.016769339484658228, -0.0017969483741509436, 0.01725332178098218, 0.011746384963782431, -0.026919890075021963, -0.047796539330891515, 0.008548176469402766, -0.012119182238661435, 0.007442865536834244, 0.02079816483478123, 0.01650772723122417, -0.004875796231335188, -0.009300311698025681, 0.01462411882023443, 0.002370860115423512, -0.00884249025451608, -0.0016890334593077899, 0.03087023286670191, -0.009529222419780482, 0.03756750245679419, -0.01112505679319918, -0.007344760941796472, 0.006409497415166506, -0.003783565725173842, -0.03254455166120893, 0.003551384896817248, -0.02998075269514233, 0.008044573067806732, -0.010804581223948877, -0.007004665198596724, 0.012930180783100596, -0.01425786222422033, -0.005072005421410731, -0.00604324035349109, 0.007423244431562163, 0.02156992209999886, -0.01839133471089128, -0.024029075792162787, -0.022694853672178147, -0.011098895009062193, 0.026919890075021963, -0.026540553052600686, 0.0011412830365108905, -0.017305643486610886, -0.0029513120698996687, -0.0038326180226927278, 0.013237574994621085, 0.016246114977790115, 0.008181919873388666, 0.026789083948304933, -0.013538428527276672, 0.01587985745045338, -0.025337137059333076, 0.0194770240725264, -0.001836190235449118, -0.0031851278351418305, -0.02720766318127037, 0.03359100067494516, -0.01930697573526521, -0.01114467789847126, 0.00010346964642315122, 0.021255986278290832, -0.02869885228078639, 0.00860703978521901, -0.0388494047337954, 0.02210622610195152, -0.013270276526300343, 0.012132263596391246, -0.007161632643789422, 0.004833284612681208, 0.015121182474288192, -0.045389707344356295, -0.015029617626792691, 0.008979837060098014, -0.008195000299795842, 0.002225338392583081, 0.006828077113793262, 0.010353300459304183, -0.021491437678910538, -0.015984502724356055, 0.03557925156586968, -0.012112642491119166, 0.0015950165557299255, 0.019516266283070564, 0.010569130754651806, 0.0004570037131323259, 0.006072672011399211, 0.00824732293674718, 0.0003770893916572729, 0.004738449891414571, -0.01771114322449178, 0.02864653057515769, -0.015291229880226749, -0.00420214495813928, -0.009496520888101224, -0.02201466218577865, -0.024002914939348436, 0.027416953729075724, -0.0018999582455067354, -0.006795375582114005, -0.009091022081542962, 0.013473025463918157, 0.006952342561645386, 0.050648111403206526, -0.02646206863151236, -0.050255693023055444, 0.0038947507466187896, -0.02083740704532539, -0.0025065712856279024, 0.013224493636891274, -0.003956883936206169, 0.003796646384411677, -0.0019244843942661783, 0.0031687770693022022, -0.017475691823872076, 0.00073374032601501, -0.019398541514083347, -0.03414038417198236, -0.0034336594293380538, -0.013773879927896377, 0.01765881965621781, 0.022393999208199927, -0.0025065712856279024, -0.0012369348769743227, 0.03644257274726017, -0.006749593158366254, 0.0060334302665163665, -0.01661237064248158, 0.02141295512046748, 0.0031507913665770057, -0.010412163775120426, -0.007848364809053824, 0.018770671733312552, -0.016664694210755553, -0.0007729821291055199, -0.0029545821765014626, -0.003535034130977619, 0.00803803332026446, 0.005539637417556373, -0.015696729618107648, 0.00535323878011687, 0.007259737238827194, 0.002740387283700723, 0.01559208434420497, -0.003450010195177682, -0.01620687276724595, -0.044055487087016926, 0.016089146135613464, -0.007992251362178028, 0.0020978023724678462, 0.0032276399194571285, 0.008463153232094804, -0.003176952452222016, 0.021936177764690326, 0.00927415084521133, -0.006452009499481805, -0.009418037398335534, 0.02453921894130109, 0.006295042054289106, 0.006893480177151776, 0.005990918182201068, 0.012393875849825304, 0.010627993139145416, -0.008881732465060244, 0.008051113746671636, -0.0030428762189031937, 0.0075998329820269415, -0.03495138364774415, 0.005392480524999715, -0.002086356882946238, -0.026946050927836314, -0.018064319394098707, -0.005036034015960339, 0.025768795787383055, 0.024630782857473957, -0.005840490950211958, 0.016062985282799112, 0.022655611461633984, 0.0031556964100643674, 0.02225011358639836, 0.024983960889726153, 0.0017200998212708208, -0.02083740704532539, 0.03727973121319105, 0.0032260047497409024, 0.0021255986278290832, 0.017619577445673645, -0.005157029590041327, 0.001635893470328997, -0.024447655025128225, 0.00897329638123311, -0.0073774624734757295, 0.010078607779462949, -0.01040562309625552, 0.002053655351266981, -0.020902810108683906, -0.02197541997523449, -0.009561923951459739, -0.02333580294803348, 0.0019375649370886835, -0.016887064253645445, 0.017855028846293353, -0.0315504243531014, 0.020288021685642924, 0.004901957549810858, -0.008299645573698519, -0.012289230575922627, 0.0064323888598710405, 0.005451342909493325, 0.030190041380302412, -0.006308122946357599, -0.028384918321723632, -0.038666276901449664, 0.02736463016080175, -0.004319870658449134, 0.0025212871145819634, -0.02315267511568775, 0.005771818013082308, 0.019189250966277993, 0.01897996041847264, 0.014100894313366315, -0.0519823316605459, 0.03359100067494516, 0.03356483795948554, 0.0005019682900874723, 0.013499186316732508, 0.01202761832248857, -0.010765339944727349, -0.030059235253585382, 0.021936177764690326, -0.003196573324663439, -0.001097953483752809, -0.02851572444844066, -0.002176286095064195, -0.0063277435859683635, -0.042590456977669985, -0.013433784184696628, 0.015788293534280514, -0.014284023077034682, -0.002423182519544192, 0.0027910745181051765, 0.027757048540952838, 0.023100353410059046, -0.012505060871270252, 0.027809370246581543, -0.016560048936852874, -0.017606497950589106, -0.0028123305602628258, 0.014401748777344535, -0.009319932803297763, 0.020301103043372737, -0.026121971956989978]\"\n",
            "1) \"start_index\"\n",
            "2) \"3528\"\n",
            "3) \"content_vector\"\n",
            "4) \"\\xa9\\x03\\xae\\xbb\\xb6\\xc9\\xc5\\xbcL\\xcc\\xce;t\\x1f\\xae\\xbc\\x84\\xa4\\xaf\\xbc\\x17\\x8a\\x7f<\\xf2\\xda\\x80;\\xbcoY:\\xa0\\xc6\\xf0\\xbbD\\x83\\xf2\\xbb\\xbd\\x8b\\xfa<\\x7fx\\x8c;R\\xf9\\t;}\\xd5\\xc3;\\xa7\\xe6t\\xb7.\\xb6,\\xbb\\xf2+\\x19=\\xe6e\\x01\\xbdF\\xd5\\xa2<\\x8a\\\"\\x03\\xbd\\xd8v\\x91\\xbc\\r29\\xbb/\\xdf\\x84\\xbb\\x0e[\\x91\\xbcx\\xa9\\xa0:4\\xfe\\xf0\\xbb])\\x90<\\x9ce\\xd6\\xbc\\xa5\\xd7\\x8a;\\t\\xd1\\x1e;q\\x89\\x1c\\xbcF\\x84\\x8a;\\x97\\xe8\\x1a<n\\x1b\\xcb;\\xcd\\xcc\\x9a\\xbc&\\xcb\\x9f\\xbcd\\xeb\\xc4;y\\x9ci\\xbc\\xd5\\xb7\\xa7;\\xcb)\\xd2\\xbc \\xef|<\\xee\\xa1\\xa6<~O\\xb4<\\x9a\\xa7\\x84\\xbc\\xa4\\xa1\\xfb\\xbbcI\\x94\\xbb:\\x02T;*U\\x92\\xbc\\xe3H\\xc8\\xbb\\xbd\\x8bz<\\xa4\\xff\\xca<j\\x18\\x00=$(\\xd7\\xbc\\x05G,\\xbd\\xc95q\\xbb\\x16\\x976\\xbb\\xc5\\x83>\\xbcp7\\xec;\\xc4g\\x9d\\xbc\\xf2\\x02A:|\\n;<\\x92\\r\\x90\\xbb7\\xca\\x11\\xbc\\x9c\\xc3\\xa5<`\\x8a\\xaa9m\\xf2r\\xbb6C\\xea\\xbc\\x10\\xa0\\x8a<\\xfd\\xfd\\xcf\\xbb`9\\x12\\xbc\\xfb\\xb8V=0#\\xe6<.e\\x94<\\x19~\\xe0\\xbbI\\re<\\xe5\\xeb\\x10<\\xa7\\x0f\\xcd\\xbc\\xe4d\\xe9\\xbb\\x19\\x05\\b\\xbc\\x9d=\\x96;\\xc4\\xb85<\\xbbS8\\xbc\\xbdG\\x19\\xbd\\xf2\\xda\\x80;2\\xb9\\xf7;$(\\xd7;\\x9e\\xb7\\x06\\xbc0#\\xe6<\\xa5y\\xbb:I\\re<\\x0b\\xed?\\xbc)\\x8a\\x89<&\\xbe\\xe8;o\\xf3\\n=\\xb3\\n\\xdc\\xbc\\x90\\xc8\\x16<\\xb3h+\\xbd[\\xd7\\xdf\\xbb)\\x03b\\xbb\\xafX)\\xbd\\x93^(=\\xd8v\\x919&m\\xd0\\xbc\\x8b\\xb7\\xfc\\xbb\\xc0\\x06\\x03\\xbc\\x8c>\\xa4\\xbc\\x85\\xcd\\a\\xba\\xf5c\\xdb\\xbb\\x11k\\x13\\xbc/\\x815<\\xa6\\xf3+\\xbc!A-\\xbc\\xf9\\xfa\\x04=\\xbf\\x8c\\x12\\xbd\\x95\\xa3\\xa1<\\x0c\\x16\\x18\\xbc\\xca6\\x89;No\\x17\\xba\\xc0\\xd0\\xf3\\xbb\\xbbS8\\xbc\\xe4\\xc28<\\x80C\\x95<[5\\xaf<\\xfe\\xc8X:\\xd6$a\\xbbw\\x80\\xc8\\xbcJ_\\x95< v\\xa4\\xbc\\xbf\\x8c\\x12\\xbcji\\x98\\xbc\\t\\xd1\\x9e<\\x16\\xf5\\x05\\xbc`9\\x92;'\\xe7\\xc0\\xbcK\\x01\\xc6\\xbc\\xbc\\xf6\\x80<\\x17\\xc0\\x8e\\xbb\\xd7\\xfc <\\a;\\x8d\\xbc\\xa4\\xae\\xb2\\xbc\\xfc\\xe1\\xae;I^\\xfd;\\xf9K\\x9d\\xbc{2{\\xbb\\xcd\\xcc\\x9a<C?\\x11<\\x17\\x8a\\x7f<\\x1c=\\xca;\\x1brA;\\xb9\\xb0o\\xbc\\xe4\\xc2\\xb8<\\x17\\x11\\xa7:\\xc0W\\x1b<\\xd4\\xec\\x9e\\xbc\\xe9\\xc6\\x1b<\\x7f\\x1a\\xbd;m\\xae\\x11\\xbbtp\\xc6<\\xf3\\xa5\\x89:\\xbc\\xcd\\xa8\\xbc\\xf0\\xe6\\x9f\\xbc\\x0b\\x8f\\xf0\\xbc\\a\\x05~;\\xde\\x1c%;\\xe5\\xeb\\x10<u\\xea\\xb6<\\xdd\\x95\\xfd;\\xa0M\\x18<\\xa4\\xae2:o\\xf3\\n<*U\\x92<F\\xc8\\xeb:\\x05\\xf6\\x13\\xbdL*\\x9e<\\x81\\xbd\\x05\\xbc\\xdb\\xae\\xd3<\\x0b\\x9c'<\\x89\\xf9\\xaa\\xbb*,\\xba\\xbci\\xef'\\xbb\\x11\\xbc\\xab<\\xb2\\x90\\xeb\\xbb\\xe7\\xd2\\xba<\\x9d\\xdf\\xc6;\\xc3\\x16\\x05<h\\xd3\\x06\\xbc\\x12^\\\\<\\xb5O\\xd5;\\x84S\\x97<g\\xd2n\\xbb\\x98\\xb3\\xa3<\\xc95q<{h\\n\\xb9\\xdem=<\\x04|#\\xbf\\xb6'\\x95\\xbc^\\xf4\\x98<N\\xc0/\\xbc\\\\\\x008\\xbbv\\x13\\x8f<\\xad\\x06\\xf9:\\x1fM\\xcc<\\x05\\xf6\\x93\\xbb\\xd5Y\\xd8;\\xf5\\x12C\\xbc\\xcb)\\xd2\\xbb\\x10j\\xfb;w/\\xb0\\xbc\\xb7\\xf2\\x9d\\xbc\\xffBI\\xbcE[2\\xbcZ\\xbb\\xbe\\xbc\\xf6\\xea\\x82<\\xc5\\x83\\xbe;d<\\xdd\\xbcI\\xe5\\xa4<\\x8a\\x9b\\xdb;vd\\xa7\\xbawWp<\\xfb\\to\\xbcr\\xcd\\xfd;\\x84F\\xe0\\xbcK\\xa3\\xf6\\xbc[\\xd7_;\\xe0\\xdav\\xbc;|\\xc4;\\xba\\xd9G\\xbc\\xee\\xf2>\\xbc\\xfe\\xc8X=\\xb8\\x0e?\\xbaQ.\\x81;\\xc0\\xd0s<\\xb97\\x97<B\\xed`\\xbb\\xeb\\xe2<<\\xa9+n<\\xca^\\xc9<\\xec\\\\-<P-i<T\\b\\xf4\\xbb\\x84\\xf5G=]mq\\xbcoD#<\\xa2i\\xb9<\\xed'6<\\x9d0_<\\xa4Pc\\xbb\\x8e\\xd4\\xb5\\xba@\\xa8\\xe7:;\\xcd\\xdc;\\x9b\\x9a\\xcd\\xba\\xbbS8\\xbc/\\xdf\\x04\\xbd-\\x9a\\x8b;\\x8c>\\xa4:\\x81_\\xb69\\x84S\\x97\\xbc\\xb8\\xbd\\xa6\\xbc\\x93\\x87\\x00\\xbd)\\x8a\\x89<N\\xc0/\\xbd\\x9f$@<E\\xacJ<^\\xf4\\x18\\xbb\\x88\\x7f\\xba;t\\x1f\\xae<\\x90\\xc8\\x16:\\xc4\\xb8\\xb5;\\x0b\\x8fp;.X\\xdd<\\\"4\\xf6<%\\x00\\x97\\xbc\\xb7k\\xf6\\xbbq\\x89\\x1c\\xbc`9\\x92\\xbc\\x05\\xe9\\xdc\\xbbh$\\x1f\\xbd\\xbd\\x8bz<\\xf0_\\xf8<\\xa5\\xd7\\n\\xbcA\\xfa\\x97\\xbc-\\x8dT<\\x1e\\xe0\\x92<Y\\x92f\\xbb\\xb3\\n\\xdc<M\\xa4\\x0e=I\\x94\\x8c:,\\xc2\\xcb\\xbc!A-\\xb9V\\xfcT;\\xfb\\to<4\\xfep\\xbb%\\x00\\x97:\\xed\\xd6\\x9d;\\xb8l\\x0e<\\xb0\\x81\\x81\\xbc\\xd5f\\x8f;\\xe7\\xd2:;O\\xe9\\x87;%\\xa2\\xc7\\xb944\\x00\\xbc\\t\\\"\\xb7<\\xc8B\\xa8;\\xa7\\x1c\\x04\\xbd\\xf4G\\xba\\xba\\xbf\\x8c\\x12\\xbb\\x8bf\\xe4\\xbc\\x0f\\xc8\\xca<Q\\x7f\\x99\\xbc'8\\xd9\\xbc\\xfc2\\xc7\\xbb\\xf3\\xcdI\\xbc\\tJ\\xf7:\\xe5\\xde\\xd9\\xbc\\\"j\\x85<\\xbb\\xf5\\xe8;\\xbd\\x8b\\xfa<\\x95R\\x89\\xbc\\xca6\\t;\\xeahL<\\xb5\\xad\\xa492\\xef\\x06\\xbd\\xbdG\\x99\\xbc+\\xa6\\xaa<\\x0c\\xb8\\xc8<\\x99~,\\xbco\\xf3\\n<#\\x0c6\\xbc\\xae<\\b<\\xefl/<\\xbb|\\x90\\xbcz\\x16\\xda\\xbc\\x14\\x01\\xa5<\\x0e\\xfdA\\xbc\\xe3 \\b\\xbd\\x86\\x98\\x90\\xbb\\xbb\\xa4P\\xbb\\x8c\\x8f<;\\xc4\\xab~;b\\xa6K\\xbc\\xc9\\xe4\\xd8\\xbb\\xea\\x91\\xa4\\xbc\\x1f\\xab\\x1b\\xbd\\x1f\\xfc\\xb3\\xbc\\xbbS\\xb8<\\xbcoY<])\\x10\\xbd0\\xaa\\r\\xbco\\xf3\\n;tpF\\xbc\\x85\\x1e \\xbc\\x11\\xbc\\xab\\xbc|\\n;\\xbc\\x126\\x9c\\xbc\\r\\x90\\x88<\\x92\\r\\x90\\xbc\\xf9K\\x9d\\xbbK\\xa3v<\\xc0\\x06\\x83;V\\t\\x8c;[(x\\xba v\\xa4<Q.\\x81\\xbcny\\x9a;>\\xea\\x95<\\xde\\xbeU\\xbbq\\xda\\xb4;\\xe7\\xfaz\\xbaP-i<\\x9fu\\xd8<\\t\\xd1\\x9e\\xbc\\xaf\\a\\x11;\\xf3|\\xb1\\xbc\\xd7\\xfc\\xa0\\xbb\\xa3\\x85Z;\\x13\\x874:&m\\xd0\\xbcd\\x8du;\\x84F`</0\\x1d\\xba\\xe3 \\x88<\\x89!\\xeb<\\xe7\\xfa\\xfa;\\xb9\\x88\\xaf<\\x9e\\b\\x9f\\xbc9\\x88\\xe3\\xba\\x03+\\x8b\\xb9\\xfe&(\\xbc\\x82\\xb0\\xce\\xbb\\x00\\x94\\xe1;7\\xca\\x918\\xcc{\\x82<\\x02*\\xf3;\\x7f\\x1a\\xbd<\\x9a\\xcf\\xc4<;T\\x84\\xbcp\\xbe\\x13=\\xe5\\xde\\xd9\\xbbj\\x91X;Z\\xe4\\x96\\xbcQ.\\x01<\\xf6;\\x1b\\xbdji\\x98<\\xb3h+<\\xadd\\xc89])\\x10\\xbd!\\xf0\\x14\\xbd\\x86\\xe9\\xa8;p\\xbe\\x13<\\x1a\\xa7\\xb8<\\xab\\x1fO\\xbc\\x14R=<\\xc95\\xf1\\xbb\\xddD\\xe5;~\\xfe\\x1b<\\x82R\\xff;\\xce\\x97#<\\xf6.\\xe4\\xbcd\\xebD\\xbc\\xd7\\x9eQ\\xbcT\\x15+<\\xf0_\\xf8;O:\\xa0<a\\x04\\x9b\\xbb]mq\\xbcKR^;\\x8as\\x1b\\xba\\x8c\\xe0T<0L>;\\xbe\\xb4\\xd2;\\x15\\xcc\\xad;M\\xa4\\x8e;\\x02`\\x02<\\xe2}\\xbf\\xbc\\xe4d\\xe9<D\\x90\\xa9\\xbb\\x95\\xa3\\xa1<0#f<\\xf8\\xd1\\xac<\\xee\\xf2\\xbe\\xba\\xa6\\x95\\\\=\\xe3 \\x88;\\xb8l\\x8e\\xbbX\\xc7\\xdd<\\x82\\x01\\xe7\\xbc\\x8b\\x15\\xcc;y\\x9c\\xe99\\xcd\\xcc\\x1a<\\x81\\xbd\\x85\\xbb\\xa2\\x92\\x11\\xbdYA\\xce;\\xe3\\xf7\\xaf<\\xf7\\x7f|<Bt\\b=\\x8b\\xb7\\xfc;\\x90Ao<\\xdb\\x86\\x13<\\x97a\\xf3<\\x06p\\x84<\\x1df\\\"<5\\x85\\x98<\\xef\\x1b\\x97<G\\xa0\\xab<\\xc4Z\\xe6\\xbb\\x96\\xbf\\xc2\\xbc\\xd4\\xdf\\xe7\\xbc\\xb1L\\n<\\xfc2G\\xb9\\xda\\xbb\\n<@\\xd1?<\\x19~\\xe0\\xbc44\\x80\\xbb\\xce9\\xd4\\xbb:\\xda\\x93\\xbb-\\x9a\\x8b:\\xafX)\\xbd\\xf4\\x98\\xd2;\\xc3\\xed\\xac;K\\xa3v\\xbb\\xc0\\xd0\\xf3\\xbcq8\\x04:R!J\\xba%\\xa2\\xc7\\xbc\\xb1\\x9d\\xa2<\\xe9?\\xf4;z\\xc5A<\\xde\\xbe\\xd5\\xbbV\\xab\\xbc:\\xc52&\\xbc\\xa4\\xa1\\xfb\\xbb\\xf4\\xe9j<\\xc2\\x15\\xed\\xbc\\x14\\xf4\\xed;O\\x8b\\xb8\\xbc\\xe0a\\x1e;}\\x84\\xab\\xbcu\\xea6;\\xa9+\\xee\\xbaT\\x15+=\\xf2\\xa4\\xf1<\\xd4\\xdfg\\xbb\\xad\\xc2\\x17:P\\x05\\xa9:>;\\xae\\xbc\\xf7\\x7f|\\xbc\\xa9\\xdaU<\\x9f$\\xc0\\xbc\\xfa\\xedM<\\xa0M\\x98\\xbc\\xc0W\\x1b<[\\xd7\\xdf\\xbc\\xcd\\xcc\\x1a\\xbc\\x0b\\x8f\\xf0<\\x87\\xdc\\xf1;'\\xe7\\xc0<M\\x97W\\xbd?d\\x06\\xbd5\\xd60\\xbc\\xda\\xbb\\n>\\xa9+n<Cg\\xd1\\xba\\xa5(\\xa3;xX\\b<\\xc4\\xab\\xfe:\\xae<\\b<\\t\\x80\\x06\\xbds\\xa5=<>\\xea\\x95\\xbb\\xf9K\\x1d<\\x85o\\xb8<\\xcd\\xbfc<hu\\xb7<[^\\a<YA\\xce<\\a;\\x8d<4\\\\@\\xbb\\xbco\\xd9\\xbb3\\xba\\x8f\\xbc\\xf8\\x80\\x94\\xbcL{\\xb6;\\xcc\\xa3B\\xbcG\\xa0+=\\xf2+\\x19<\\x9f$@<\\xf8\\x80\\x14=\\x91B\\a=97K<\\x9bI\\xb5\\xbc\\xc0\\xd0\\xf3\\xbc\\x00\\xbd\\xb9:])\\x90;\\x85\\x1e ;N\\xc0\\xaf\\xbcw\\x80\\xc8\\xbc!A\\xad\\xb9\\x87\\x12\\x81;\\nK\\x8f<\\xccR\\xaa<\\xeeC\\xd7<\\xabpg\\xbb\\x18-\\xc8;\\xaa,\\x06\\xbc`9\\x92\\xbb\\xa3\\x85\\xda;b\\xf7c\\xbcHB\\\\<X\\x9f\\x1d\\xbc\\xcbzj\\xbc\\x10\\xf1\\\"<\\xb8\\xbd&\\xbc\\x10\\x19\\xe3\\xbb\\xe3\\xf7\\xaf\\xbc\\xb2\\x90k\\xbc\\x94z\\xc9<rT\\xa5:\\xed\\x85\\x05\\xbc\\xda\\x0c\\xa3\\xbc\\xaa}\\x1e\\xbd\\xe2\\x1f\\xf0\\xbc\\xbb|\\x90<\\x1f\\xab\\x1b\\xbc4\\xfe\\xf0\\xbc^E\\xb1\\xbb\\xb5O\\xd5\\xbc=c\\xee\\xbct\\xce\\x15\\xbc\\xc6\\xac\\x16\\xbc\\xef\\x1b\\x17\\xbc\\xfe\\xc8\\xd8<\\xb6'\\x15\\xbc\\xc0W\\x1b\\xbd\\x1e\\xe0\\x92<\\xe6e\\x81<\\x87c\\x19;\\xddDe<\\x94\\x1cz\\xbb\\x1b\\x14\\xf2<\\xd3\\x9b\\x06\\xbc\\xdb\\xff\\xeb\\xbbS\\x9b\\xba\\xbc\\xdc(D\\xbb@\\xf9\\xff\\xbcc \\xbc\\xbc<\\xa5\\x1c\\xbct\\x1f\\xae\\xbb\\x8d\\t\\xad\\xbcf\\x8e\\r\\xbd\\\"j\\x85<\\xdb]\\xbb;\\xa8\\xe7\\x0c<\\x8b\\xb7|<a\\x04\\x9b\\xba\\x91B\\a:\\xab\\x1f\\xcf9?\\xb5\\x9e:\\x04|#\\xbc\\x03+\\x0b\\xbc\\x0b\\x8f\\xf0\\xbb*U\\x92<\\x0fw2\\xbc0#f\\xb9O\\xe9\\x87:\\x95R\\x89<TfC;+\\xa6*\\xbc[(\\xf8:\\x19~\\xe0<M\\xe8\\xef<D\\xb9\\x81<\\xe7\\x81\\\"\\xbd\\xf5p\\x92\\xbc\\x84F\\xe0\\xbbgY\\x96\\xb8\\xcb\\xd8\\xb9\\xba\\xe9u\\x83;\\xfdNh<\\x8b\\xb7|<\\xc3>E\\xbb\\tJw\\xbbm\\xff\\xa9\\xbc&z\\x87<[\\xd7\\xdf<\\xf6\\xea\\x82<K\\xd9\\x85;\\x88\\xdd\\x89\\xbc\\x84\\x97\\xf8\\xbc\\xb5\\xfe<<\\x89\\xa8\\x12<>\\xea\\x95\\xbc44\\x80<\\xe9u\\x03\\xbd;+\\xac\\xbb2\\x17G\\xbc[\\xd7\\xdf\\xbb\\xf2+\\x19\\xbd\\x80\\x94-<w\\x80H\\xbc\\xa2\\x0bj\\xbc\\x9a\\xf8\\x1c<\\xfe\\xd5\\x8f<\\x1fZ\\x03\\xbc\\x80C\\x15\\xbc\\x05\\xf6\\x13<X\\xc7\\xdd\\xbc\\x94\\xcb\\xe1:\\xf4\\x98\\xd2;\\xef\\xbd\\xc7\\xbc\\x8d\\t\\xad<n\\xca2\\xbcji\\x98\\xbc\\\"4v\\xbc\\xe9\\x174\\xbc\\xa4\\xa1{\\xbb4\\xfe\\xf0\\xbbd<]\\xbc\\x86:A\\xbc\\xec\\xfe]<9\\x0f\\x0b<\\xb8\\x0e\\xbf<^\\xf4\\x98\\xba\\xe8\\x9d\\xc3\\xbc+\\x99\\xf3;\\r\\x90\\x88<ny\\x1a:\\x7f\\xc9$\\xbc\\xb7\\xf2\\x9d<\\x1df\\xa2;\\xbe\\x12\\xa2\\xbaS\\xec\\xd2<9\\x0f\\x0b\\xbc\\xaf\\xfaY\\xbc@\\xd1?\\xbcWMm\\xbc\\xa4P\\xe3\\xbb9\\x88\\xe3\\xbaM\\xe8\\xef;b\\xf7\\xe3\\xbc\\x9a\\xa7\\x04;8\\xe62\\xbc\\x96\\x1d\\x92\\xbc\\xf0_\\xf8\\xbb\\xcf\\x11\\x14<a\\x04\\x1b\\xbd'\\xe7\\xc0\\xbc\\xc4\\xb85=I\\x94\\x8c<\\xa34\\xc2<\\xc0\\xd0s\\xba\\x12\\r\\xc4;\\xe0\\x10\\x06\\xbc\\xf5p\\x92<<\\xf6\\xb4;\\xb0Kr\\xbb\\t\\xf9\\xde\\xbb\\x1e\\x82\\xc3\\xbb{\\xe1b\\xba\\xbcoY<\\x1d\\b\\xd3;\\x80\\xbcm<\\xb6'\\x95\\xbbB>y\\xbbI^\\xfd;\\xddQ\\x1c<\\t\\xd1\\x1e=,q3\\xbb\\xd6$a\\xbc\\\\\\xaf\\x1f<\\xfa\\xed\\xcd\\xbc\\xd7M\\xb9\\xbc])\\x90\\xbc\\t\\\"7\\xbc\\xa4P\\xe3\\xbc\\xa0\\xefH\\xbb\\xa9\\x03\\xae;\\xff\\xf1\\xb0;RJ\\xa2\\xbc\\xbb|\\x90\\xbcR!\\xca\\xbc\\xd0\\x8b\\x84\\xbc\\x84S\\x97\\xbb\\t\\x80\\x86<\\xa4\\xa1{\\xbc\\x1e\\xd3[<F\\x84\\n=\\x90\\xc8\\x96<[5\\xaf\\xbcp7\\xec<p7\\xec;\\xdc(D;D\\xe1\\xc1<(\\xbf\\x80<E\\xacJ\\xbdaU\\xb3\\xbcl4\\xa19\\xa3\\xe3\\xa9;b\\xf7c;l\\x85\\xb9\\xbc\\xe6\\a2=I^\\xfd\\xbc-\\x9a\\x8b<\\xc9\\xbc\\x18\\xbc\\xa0M\\x18\\xbd\\xc9\\xbc\\x98\\xbc\\xc6\\xfd\\xae<N\\xc0/\\xbc@\\x80\\xa7<\\xed'69\\x96\\xbfB\\xbc\\xbb|\\x90\\xbc\\xb5O\\xd5<S\\x9b\\xba\\xbc\\x94\\xcb\\xe1<\\xba\\xd9\\xc7;\\xa4]\\x1a<\\x8aJC<\\x82\\x01\\xe7\\xbb9\\x0f\\x8b\\xbcq\\xda4\\xbc\\x85\\x1e\\xa0\\xbb=\\x12\\xd6<!A\\xad\\xbbY\\xe3\\xfe;\\x01\\xe6\\x11\\xba\\xf0_\\xf8<\\x1fZ\\x03\\xbd4\\x0b(\\xbc\\x81\\x0e\\x9e\\xbb\\x94\\xd8\\x98<'\\x96(\\xbd\\xa2\\x92\\x11\\xbc\\x1fZ\\x83\\xba\\x81\\x0e\\x9e;\\x94\\x1cz\\xbbk\\\\\\xe1\\xbbu\\xea6\\xbcZ\\x0cW\\xbc\\xa4\\xae2\\xbcn(\\x02\\xbd&z\\a\\xbb\\xf1`\\x90\\xbc\\x8b\\xed\\x0b\\xbcE[\\xb2\\xba\\xbc\\xf6\\x80\\xbc\\xee\\xf2\\xbe\\xbc\\xb5\\\\\\x8c\\xbc}3\\x13\\xbc\\xa0\\x9e0=oD#<\\xb3\\n\\\\\\xbcI\\xe5\\xa4\\xbc\\xc0\\xd0\\xf3\\xbb\\xd0\\x8b\\x04<WM\\xed;\\x1b\\x14r\\xbc\\xf6.d<\\x90jG\\xbbT\\bt\\xbcoD#<\\xe3 \\x88\\xbc\\x84\\xf5\\xc7<\\xd8\\x18\\xc2\\xbc\\xe4q\\xa0<\\x11k\\x13\\xbbKR\\xde\\xbb44\\x80<(a\\xb1\\xbc\\x82\\xb0\\xce\\xbc\\x82R\\xff\\xbb6\\xff\\b<\\xb4\\xd5\\xe4\\xbc\\x14R=;^\\xa3\\x00\\xbc-\\xeb#\\xbcA\\xfa\\x17\\xbb\\x94\\xd8\\x98<\\x00\\x1b\\t\\xbcaU\\xb3\\xbb\\x14\\xa3\\xd5<\\x83\\xd9&\\xbcH\\x1a\\x9c<\\xd3\\x9b\\x06=\\xbc\\x1e\\xc1\\xbcee\\xb5;\\xe5\\xeb\\x90<\\xcfb,<9\\x0f\\x8b<\\x0e\\xfd\\xc1\\xbc'\\xe7\\xc0;=\\x1f\\x8d\\xbci\\x17h<v\\x13\\x0f<\\x9c\\x14>:Cg\\xd1\\xbabH|\\xbc\\xbf\\x8c\\x12\\xbcJ\\x87\\xd5;\\xea\\x91\\xa4<8\\xe6\\xb2;\\x0c\\xb8\\xc8<\\xe5<)=p\\x0f,=S\\xc4\\x12<K\\xa3v\\xbc\\xfb\\to\\xbc\\xb7\\xa1\\x05\\xbcU\\x8f\\x9b\\xbc8\\xe6\\xb2\\xbc\\xb7k\\xf6\\xbc\\xb6'\\x95\\xbc\\xa0M\\x18=ee5<1u\\x16\\xbd\\xaa,\\x06\\xbc\\xde\\xbeU<\\x81\\x0e\\x1e\\xbdxX\\b\\xbc(a\\xb1\\xbc\\xfd\\xac\\xb7<\\r\\x83Q=\\x83*\\xbf<\\xb8\\xbd&<\\xc2\\x9c\\x14=\\xb7\\xa1\\x05<\\xa1\\xc7\\b=~O4<\\xeb\\x0b\\x95\\xbc\\x82\\x01\\xe7;C?\\x11\\xbd\\xd0\\x8b\\x04\\xbc\\\"\\xbb\\x1d<\\x126\\x9c\\xbc@\\x80'\\xbc\\xc9\\xe4X<\\xd4\\xdfg\\xbc@\\xd1?\\xbcYj&=\\xa4\\xa1\\xfb<\\xd2\\x9a\\xee\\xbc\\xbd\\x8b\\xfa\\xbc\\xb5\\xfe\\xbc;w\\x80\\xc8\\xba\\xd5f\\x8f;\\xfc\\xe1.<\\x80C\\x15\\xbd\\xdb\\x86\\x13<\\x06\\xb4e<\\xceF\\x0b<\\xb7kv\\xbc\\x10\\xa0\\n=A\\\"X;\\xa2\\x0bj\\xbc\\xbe\\xc1\\x89\\xbc\\xae\\xde\\xb8\\xbc\\x1df\\xa2\\xbc\\xa3\\xe3)<\\xad\\x06\\xf9:xX\\b=P\\x05);@/\\x8f<\\xad\\x13\\xb0<B\\xed`<(\\xb2I\\xbc]\\x1c\\xd9\\xbcHk4\\xbb\\x7f\\xc9\\xa4\\xbc\\xd8v\\x91;\\xde\\xbe\\xd5\\xbb\\x1c\\x9b\\x19\\xbd\\xa4Pc<\\x94)\\xb1\\xbbv\\x06\\xd8;\\x91\\xe47\\xbc\\x95R\\t\\xbc\\xc8B\\xa8\\xbb\\xc7&\\x87<\\xc6\\x9f_:\\xbe\\x12\\xa2;\\xc6\\xac\\x16; \\x9e\\xe4\\xbc\\xb7\\xf2\\x9d:R\\xf9\\x89\\xbb\\xad\\xb5`\\xbbF\\xc8\\xeb\\xba\\xc95\\xf1\\xbb\\x93^(\\xbc\\x8bf\\xe4\\xbc\\a.\\xd6\\xbc\\x8a\\\"\\x83\\xbc?d\\x06\\xbc\\xc7\\xf0\\xf7\\xbc\\x14\\x01%\\xbb\\x0f\\xd5\\x01\\xbd\\x9ce\\xd6:\\xaddH<\\\"\\xe3]>{h\\x8a\\xbc\\xf9\\x9c\\xb5<[\\xd7\\xdf<\\xaa,\\x86:|[S<\\xfd\\n\\x87<yK\\xd1;AK\\xb0\\xbb\\xa0\\xc6p\\xbb\\xf2\\xa4\\xf1\\xba\\xfc2G\\xbb$\\x86\\xa6;\\x98\\x04\\xbc;$\\xd7>;\\x01\\x0eR\\xbc\\x88\\xdd\\t\\xbd/\\x81\\xb5\\xbc$(W<\\xc6\\x9f\\xdf<\\xa4Pc;?\\xb5\\x9e<U\\xe0\\xb3\\xba\\xbb\\xf5\\xe8\\xbb\\xaf\\a\\x11<d\\x9a,;No\\x97\\xbc1\\xc6.<\\x93^\\xa8\\xbb\\xaa}\\x1e;\\x1e\\xd3[\\xbc\\xe6\\xb6\\x99<\\xd2!\\x96<\\xe6\\a2;\\x97\\xe8\\x9a<^\\xf4\\x98\\xbc.\\xb6,\\xbc\\x9ce\\xd6\\xb9\\x9e\\b\\x9f;cI\\x94<\\xc5\\x83\\xbe<\\x8e2\\x05<\\xe7\\xd2:;\\xc4Z\\xe6\\xbcJ_\\x15<{\\x90J<KR\\xde\\xbc'\\x96(\\xba\\xac\\xeaW\\xbb:\\x02T<\\xdem=\\xbd\\x84F\\xe0\\xbc\\x1fZ\\x83<g\\xd2\\xee<\\xba\\x02\\xa0<\\xd3\\xc3\\xc6;\\x7fx\\x0c=\\x9br\\r=\\xd2!\\x96;\\xacH'\\xbc\\x16\\x976\\xbc\\xa0\\xc6\\xf0<5\\x85\\x18<m\\xf2r<\\x00\\xe5y\\xbb\\bW.=V\\t\\x8c\\xbb\\xce\\x97\\xa3\\xbb\\xff\\xa0\\x18=\\xd8\\x18B;\\xf7\\xb5\\x0b<\\x8dZE<\\xd1~M;\\xdc(D<wWp\\xbcX\\x9f\\x9d\\xbc\\x9793<q\\x89\\x1c=\\xee\\xa1&=\\x00\\x1b\\x89:\\b\\x06\\x16<\\xaa,\\x06<P\\x05)<\\x10\\x19\\xe3<HB\\\\:8\\x95\\x9a\\xbb\\xb3\\xb9C<\\xcf\\x11\\x94<\\x99~,:\\xe4q\\xa0\\xbc\\x99\\xa6\\xec:\\xff\\xa0\\x18\\xbd)\\x03b\\xbc\\xad\\x13\\xb08R\\xc3\\xfa;\\t\\\"7<MF\\xbf;\\xf9\\x9c\\xb5<\\x7fk\\xd58f\\x8e\\r<m\\xae\\x11\\xbd\\xaa}\\x1e=\\x9ce\\xd6<\\xbf\\xdd*<\\xae\\x8d\\xa0\\xbc\\xc0W\\x9b\\xbb\\xde\\x1c%\\xbce\\xc3\\x04\\xbbu\\x99\\x9e<\\xc5\\xe1\\r\\xbd8\\xe62<e\\xc3\\x84\\xbc\\x14\\xa3U<\\bW\\xae\\xbb)\\xdb\\xa19\\x81\\xbd\\x05<\\xfdNh<r\\x03\\r\\xbc\\xeb\\xe2\\xbc<\\x99-\\x14<\\xe4\\xc2\\xb8\\xbb %\\x0c\\xbd]\\xcb@\\xba\\xd61\\x98;\\xbd\\xe9I<I\\xe5\\xa4;d<]\\xbd\\x05\\xf6\\x13\\xbc\\xfa\\xc5\\r<\\x86\\x98\\x10\\xbd\\r\\xd4i;\\a;\\x8d\\xbc\\xc0\\x7f\\xdb<\\x9b<\\xfe\\xbc\\xd1~\\xcd\\xbb\\x01\\xe6\\x11<\\tJw<\\x10\\x19\\xe3\\xbbX\\xf0\\xb5;\\xd5f\\x8f<2h_\\xbc\\xc2\\x9c\\x94\\xbc\\xb1L\\x8a<\\x8d\\xb8\\x14\\xbc\\xec\\xad\\xc5<\\xcc\\xf4\\xda;M\\xe8\\xef<\\xb0Kr\\xbcs\\xa5\\xbd\\xbc\\nK\\x0f\\xbc\\xae\\xde\\xb8\\xbc\\x9d0_\\xbbt\\x1f\\xae\\xbb\\x8fN&\\xbcr\\xcd}<+\\xa6\\xaa\\xbc\\xe8\\xfb\\x12\\xbc\\xcf\\x11\\x14\\xbd\\xafX)\\xbbO\\xe9\\x87<7\\xca\\x11\\xbd\\r\\xe1 <\\xd8v\\x11=\\xc7w\\x9f\\xbcY\\x92f\\xbc\\x90\\x19\\xaf;\\x11\\xbc+\\xbe\\xb7\\xf2\\x1d=W\\xd4\\x14<\\xa2i\\xb9\\xbc\\xa4\\xa1\\xfb<tpF;\\xc3\\x16\\x05=@\\xf9\\xff\\xbb\\xbf\\xdd*\\xbc\\x1b!\\xa9;;|\\xc4<\\x88.\\\":\\x05\\x98D\\xbd\\xd6\\xd3\\xc8\\xbc\\xaa,\\x86\\xbc4\\xfe\\xf0:\\x10\\xf1\\\"\\xbdz\\xee\\x99<z\\xee\\x99<\\x15\\xcc-<\\xc6\\xac\\x16=\\xa8\\xe7\\x8c\\xba\\xdem=\\xbc\\xf6.d\\xbc\\xd1\\xa7\\xa5<\\xe6e\\x81\\xbc?\\xb5\\x1e\\xbb8\\x95\\x9a\\xba8\\x95\\x9a\\xbc\\x82\\xb0\\xce\\xbc'\\xe7\\xc0:\\x90\\x19\\xaf;\\x16F\\x1e=\\x89\\xd0\\xd2<9`#\\xbbPVA<\\\\\\x008<\\xbb\\xa4\\xd0\\xbb\\x19~`\\xbc6P!\\xbc\\x16\\x97\\xb6;2\\xb9\\xf7<u\\x99\\x9e<\\xbbS\\xb8\\xbb\\xd2!\\x16\\xbc\\xdc\\xd7\\xab<>\\x8c\\xc6<\\t\\xf9^\\xbc~O\\xb4\\xbbN\\x11H\\xbc6\\xf2\\xd1;\\xfa\\xc5\\r\\xbd\\x1fZ\\x03\\xbc\\x93\\x00Y\\xbb\\x10\\x19\\xe3<W%-=vd\\xa7;\\x0cg\\xb0:\\xd4\\x8e\\xcf;.e\\x94;t\\x12w\\xbb\\xaddH\\xbb\\xc5\\xe1\\x8d<\\x80\\x94-\\xbc\\x9c\\xc3\\xa5;>\\xea\\x95\\xbcm\\xff\\xa9;\\xcc{\\x82<e\\xc3\\x04\\xbd\\x8d\\xfcu<_aR\\xbc\\xf2\\x02A<)\\x03\\xe2;\\x0e\\xac\\xa9\\xbc\\xd7M9:#\\x0c6\\xbb\\x9bI5\\xbcc <<\\xac\\xea\\xd7\\xba\\xba\\x02\\xa07\\xb7\\xa1\\x85\\xbct\\x12w<z\\x16Z<_\\x10:\\xbb\\xe3H\\xc8;\\xaf\\xfaY<\\x8e%N\\xbc\\xfe&\\xa8\\xbc\\x9b\\xeb\\xe5\\xba[^\\x87\\xbc@\\x80'\\xbc\\x0fw\\xb2\\xbc\\xd3r.<No\\x17<o\\x95\\xbb;\\xcbz\\xea<\\x16F\\x9e<\\xfd[\\x1f=\\r\\xe1\\xa0\\xbc\\xc95q\\xbc\\x01\\x0e\\xd2\\xbb\\xe0\\x10\\x86;\\xc2\\x15\\xed\\xbc}&\\\\<\\xf6.d;2\\xef\\x86<z\\xc5A<Y\\xe3~:\\xa6\\xf3+<\\x02\\xb1\\x1a<\\x86\\x8b\\xd9\\xbc\\xa9\\xda\\xd5<\\x06\\xc1\\x9c<\\xf7\\xa8T;\\xf1`\\x90\\xbb\\x0e\\xac\\xa9<\\x10\\xa0\\n\\xbb\\xb7kv\\xbc\\xf8\\xd1,<\\x9br\\x8d:\\\"4v=\\x8dZE<p\\xbe\\x13\\xbc\\xcd\\x1d3<r|e\\xbb\\xf7\\x7f|\\xbc\\x02*\\xf3\\xbdt\\x12\\xf7\\xbc\\xd2!\\x16;\\xf9\\x9c5\\xbc\\xabpg;\\xa34\\xc2<|\\xb9\\xa2<\\xb3\\n\\xdc\\xb9\\xb2\\x90k\\xbcr\\xcd}<\\xba\\xd9G<G\\xa0+\\xbc\\xfd\\xfdO\\xbc>\\x8c\\xc6\\xbc\\x82\\x01g<K\\xa3v<a,\\xdb\\xba\\xf5c\\xdb\\xbc2h\\xdf\\xbc\\x1a\\xf8\\xd0<E\\n\\x9a\\xbbXN\\x85;\\x98b\\x0b\\xbc\\x1e1\\xab\\xbb>\\xea\\x95\\xbb\\xf0_\\xf8;\\xac\\x99\\xbf\\xbc\\x88.\\\"=\\tJ\\xf7;\\xc1\\xd1\\x0b\\xbb\\\"4\\xf6;3\\xba\\x0f;\\x17\\x8a\\x7f:\\x91\\x93\\x9f\\xbct\\x1f\\xae;\\xa1\\xc7\\b\\xbc\\x8f\\x9f>\\xbc}wt\\xbc\\x1c\\xec1=W%\\xad\\xbcD\\xb9\\x81<?\\x067\\xbco\\xe6S\\xbc\\xb7C\\xb6\\xbc\\x13\\xb0\\x0c<N\\x11\\xc8<\\xad\\x06y;\\xcbzj<}&\\xdc<\\xd7\\xab\\x88;\\xa0\\x9e\\xb0\\xbb\\xd5\\b@\\xbc\\xbe\\xc1\\x89\\xbc\\xc2\\xc4\\xd4\\xbc\\xfa\\x16&\\xbcE\\xac\\xca<\\xdb\\xaeS\\xbbcI\\x94\\xbb\\x90\\xc8\\x16\\xbd\\x19\\x05\\x88\\xba\\x9a\\xcfD\\xbc-\\xeb#<\\xea\\x91\\xa4\\xbb\\x84\\x97x<A\\xfa\\x17\\xbcJ_\\x95\\xbcO\\xe9\\a\\xbd\\xe6\\xb6\\x19\\xbc\\xd9\\xba\\xf2;.\\a\\xc5\\xbc\\xe6e\\x81\\xbc\\x82R\\xff<\\xbd\\x98\\xb1\\xbb3\\x917<\\xedx\\xce\\xbc\\xb7k\\xf6:\\x99\\xa6l\\xbc\\xbe\\x12\\xa2;#5\\x0e=\\x9e\\xaa\\xcf\\xbcZ\\xbb\\xbe\\xbc\\x11k\\x93\\xbcp7l<\\x925\\xd0<\\xb6'\\x15<\\x11k\\x13<\\xc5\\x83\\xbe9\\x9f$\\xc0<\\x89\\xa8\\x92\\xbc{\\xe1\\xe2\\xbb\\x8d\\xfc\\xf5\\xbb\\xa7\\x1c\\x04=\\xea@\\x0c\\xbbQ\\xd0\\xb1\\xbb2\\xb9w\\xbb\\xd1V\\r=\\r\\x90\\x88\\xbb6\\xff\\x88\\xbcQ\\xa7\\xd9;\\xd0\\xdc\\x9c<\\xfe\\xc8\\xd8\\xbaK\\xd9\\x05\\xbc\\x9a\\xa7\\x84\\xbd#\\x0c\\xb6<Y\\xe3\\xfe\\xbcMF\\xbf\\xbc\\x8c>$\\xbc\\x0b\\x8fp\\xbb\\xd8\\xc7\\xa9\\xbb\\xa7\\xe6t\\xbc9\\x0f\\x8b;\\xb1L\\n=P-i:\\r\\x90\\x88<\\x90\\xc8\\x96<\\x87c\\x99\\xbaB\\x9c\\xc8\\xbc(\\xb2I\\xbc\\x85\\xcd\\a=\\x06\\xb4e\\xbc\\x8e2\\x05=\\xae\\xde\\xb8<\\xf0\\xe6\\x1f<\\xb1L\\n\\xbb=p\\xa5<\\xd4\\x8eO<N\\x11H<3\\xba\\x0f<PV\\xc1\\xbc\\x1e1+=_n\\x89\\xbc\\xcdn\\xcb\\xbb\\x0b\\x9c'\\xbcg\\xaa\\xae\\xbc\\xb3\\x91\\x03\\xbd^\\xa3\\x80<\\xc2\\xc4T;\\x90\\xc8\\x16\\xbd\\xa6\\x95\\xdc;Q\\xd0\\xb1\\xbb^E\\xb1<\\xa9\\xda\\xd5<\\x85\\xcd\\a\\xbdxX\\b\\xbd\\x9f\\x82\\x0f<)\\x8a\\t\\xbc\\x86:\\xc1\\xbc\\x9d\\x81w:Z\\xe4\\x96:&\\xbe\\xe8;\\x7fx\\x8c\\xbc\\xa8\\xe7\\x8c\\xbb\\xa8\\x89\\xbd;U1L<\\xa2i9\\xbc\\xf4G\\xba\\xbc\\x8bfd\\xbc\\xf2+\\x99\\xbc\\x84\\xa4\\xaf<\\xf6\\x8c\\xb3;RJ\\xa29\\x0e\\xac)\\xbb\\xc3\\x16\\x85<\\xf2\\xda\\x80\\xbc\\xdf\\x96\\x95;\\x0f\\xd5\\x01\\xba7\\xca\\x91\\xbc[5\\xaf<\\xdd\\x00\\x84\\xbc&\\xbeh\\xbc<\\xf6\\xb4<\\x7f\\xc9\\xa4\\xbc\\xa1\\xc7\\b\\xbd\\x12^\\\\<\\xa6\\xa2\\x93\\xbccI\\x94\\xba\\xbdG\\x99;Y\\x92\\xe6\\xba\\xa3\\x0c\\x82\\xbc\\xa7\\x1c\\x84;u\\x99\\x9e\\xbc\\xee\\xa1\\xa6<e\\xc3\\x84\\xbct\\xc1^\\xbc\\xe8\\x9d\\xc3\\xbcd\\xebD<\\xac\\xea\\xd7\\xb9\\x7f\\xc9$\\xbb\\xfew@\\xbcj@@;\\x00l\\xa1\\xbc\\xb3h\\xab<\\xfe\\xc8X\\xbc\\x1e\\xd3[<\\x0b>X<MF?\\xbaD\\xb9\\x81\\xbb\\xb4&\\xfd\\xb8\\xa4\\xa1{\\xbc\\r\\xd4i\\xbb\\xa7\\x0fM\\xbb9`\\xa3<\\xe9u\\x83<\\x81_6;.e\\x94;d\\x9a\\xac\\xbc0\\xaa\\x8d<\\xb7\\x94N;\\x8b\\xc4\\xb3\\xbc\\xc7\\x19P\\xbc\\x1f\\xab\\x1b\\xbdg\\xfbF<\\xc9k\\x00=AK0<\\xab\\xc1\\xff;r+M<\\xc3\\xed,\\xbc\\xea@\\x0c<p`D<\\t\\xf9\\xde\\xbc\\r\\x83\\xd1\\xbbv\\x13\\x0f=\\xbc\\xf6\\x80<\\x92\\r\\x90<\\x11k\\x13<\\x16\\xf5\\x05;b\\xcf#=F\\xd5\\xa2<\\xc7\\xf0w\\xbb2h_\\xbc\\xab\\x1fO;\\xa8\\xe7\\x0c\\xbcu\\xea6\\xbc\\xea\\x91$\\xbc\\x00l\\xa1\\xba\\x06p\\x84\\xbbg\\xfb\\xc6\\xbc\\xb4\\x84L\\xbcwW\\xf0\\xbb\\x86\\x8bY<2h_\\xbb\\x8c>\\xa4<\\xd1V\\r<\\xdc\\xd7+\\xbcD\\x90)\\xbcp7l\\xbc\\xa1\\x18\\xa1;-\\xdel<0\\xaa\\x8d<\\x0fw\\xb2\\xbc\\x9b<\\xfe\\xbcR\\xc3z<=p\\xa5<\\xf8\\\"E<\\x14R=\\xbc\\x98\\xb3#\\xbc\\xe7\\xfa\\xfa;\\x12\\xe5\\x83\\xba\\xc3>\\xc5<\\xe2}?\\xbd\\xb7\\xf2\\x9d;^\\xa3\\x00<\\xc3\\xed,=\\xae\\x8d \\xbc\\xf5p\\x12\\xbc\\xe1\\xdb\\x0e\\xbc\\x87\\x05\\xca\\xbc\\xeb\\xe2<<\\xea@\\x8c\\xbc\\xdb];;8\\x95\\x1a\\xbd\\xc95\\xf1;\\xf7\\x7f\\xfc\\xbb\\x8e2\\x05\\xbce\\xc3\\x84\\xbb}\\x84\\xab;\\x82\\x01\\xe7\\xbb\\x9d\\x81w<\\x1b!\\xa9\\xbc=\\x1f\\x8d;\\xa5\\xd7\\n=\\x0f\\xc8J\\xbc\\x9a \\xdd<, \\x9b\\xbb\\xd0U\\xf5\\xbc\\x82\\x01g\\xba\\x1dYk<\\xacH'<\\x0c\\xb8H:\\xf5p\\x12\\xbc\"\n",
            "5) \"content\"\n",
            "6) \"The U.S. Department of Justice is assembling a dedicated task force to go after the crimes of Russian oligarchs.\\n\\nWe are joining with our European allies to find and seize your yachts your luxury apartments your private jets. We are coming for your ill-begotten gains.\"\n",
            "7) \"source\"\n",
            "8) \"https://raw.githubusercontent.com/hwchase17/chat-your-data/master/state_of_the_union.txt\"\n"
          ]
        }
      ],
      "source": [
        "!redis-cli $REDIS_CONN keys \"*\"\n",
        "!redis-cli $REDIS_CONN get \"text-embedding-ada-00241c258d4-d253-5b09-813a-dc238f8e8ba7\"\n",
        "!redis-cli $REDIS_CONN hgetall \"doc:db2:045063dc227c42d1be9ef090c408607c\""
      ]
    }
  ],
  "metadata": {
    "colab": {
      "include_colab_link": true,
      "provenance": []
    },
    "kernelspec": {
      "display_name": "Python 3",
      "name": "python3"
    },
    "language_info": {
      "name": "python"
    }
  },
  "nbformat": 4,
  "nbformat_minor": 0
}
