{
 "cells": [
  {
   "cell_type": "markdown",
   "metadata": {},
   "source": [
    "# Collaborative Filtering in RedisVL"
   ]
  },
  {
   "cell_type": "markdown",
   "metadata": {},
   "source": [
    "Recommendation systems are a common application of machine learning and serve many industries from e-commerce to music streaming platforms.\n",
    "\n",
    "There are many different architechtures that can be followed to build a recommendation system.\n",
    "\n",
    "In this notebook we'll demonstrate how to build a [collaborative filtering](https://en.wikipedia.org/wiki/Collaborative_filtering)\n",
    "recommendation system and use the large IMDB movies dataset as our example data.\n",
    "\n",
    "To generate our vectors we'll use the popular Python package [Surprise](https://surpriselib.com/)"
   ]
  },
  {
   "cell_type": "code",
   "execution_count": 1,
   "metadata": {},
   "outputs": [],
   "source": [
    "!pip install scikit-surprise --quiet"
   ]
  },
  {
   "cell_type": "code",
   "execution_count": 2,
   "metadata": {},
   "outputs": [],
   "source": [
    "import os\n",
    "import requests\n",
    "import pandas as pd\n",
    "import numpy as np\n",
    "\n",
    "from surprise import SVD\n",
    "from surprise import Dataset, Reader\n",
    "from surprise.model_selection import train_test_split\n",
    "\n",
    "\n",
    "# Replace values below with your own if using Redis Cloud instance\n",
    "REDIS_HOST = os.getenv(\"REDIS_HOST\", \"localhost\") # ex: \"redis-18374.c253.us-central1-1.gce.cloud.redislabs.com\"\n",
    "REDIS_PORT = os.getenv(\"REDIS_PORT\", \"6379\")      # ex: 18374\n",
    "REDIS_PASSWORD = os.getenv(\"REDIS_PASSWORD\", \"\")  # ex: \"1TNxTEdYRDgIDKM2gDfasupCADXXXX\"\n",
    "\n",
    "# If SSL is enabled on the endpoint, use rediss:// as the URL prefix\n",
    "REDIS_URL = f\"redis://:{REDIS_PASSWORD}@{REDIS_HOST}:{REDIS_PORT}\""
   ]
  },
  {
   "cell_type": "markdown",
   "metadata": {},
   "source": [
    "To build a collaborative filtering example using the Surprise library and the Movies dataset, we need to first load the data, format it according to the requirements of Surprise, and then apply a collaborative filtering algorithm like SVD."
   ]
  },
  {
   "cell_type": "code",
   "execution_count": 5,
   "metadata": {},
   "outputs": [],
   "source": [
    "def fetch_dataframe(file_name):\n",
    "    try:\n",
    "        df = pd.read_csv('datasets/collaborative_filtering/' + file_name)\n",
    "    except:\n",
    "        url = 'https://redis-ai-resources.s3.us-east-2.amazonaws.com/recommenders/datasets/collaborative-filtering/'\n",
    "        r = requests.get(url + file_name)\n",
    "        if not os.path.exists('datasets/collaborative_filtering'):\n",
    "            os.makedirs('datasets/collaborative_filtering')\n",
    "        with open('datasets/collaborative_filtering/' + file_name, 'wb') as f:\n",
    "            f.write(r.content)\n",
    "        df = pd.read_csv('datasets/collaborative_filtering/' + file_name)\n",
    "    return df\n"
   ]
  },
  {
   "cell_type": "code",
   "execution_count": 6,
   "metadata": {},
   "outputs": [],
   "source": [
    "ratings_file = 'ratings_small.csv'\n",
    "\n",
    "ratings_df = fetch_dataframe(ratings_file)\n",
    "\n",
    "# only keep the columns we need: userId, movieId, rating\n",
    "ratings_df = ratings_df[['userId', 'movieId', 'rating']]\n",
    "\n",
    "reader = Reader(rating_scale=(0.0, 5.0))\n",
    "\n",
    "ratings_data = Dataset.load_from_df(ratings_df, reader)"
   ]
  },
  {
   "cell_type": "markdown",
   "metadata": {},
   "source": [
    "# What is Collaborative Filtering"
   ]
  },
  {
   "cell_type": "markdown",
   "metadata": {},
   "source": [
    "A lot is going to happen in the code cell below. We split our full data into train and test sets. We defined the collaborative filtering algorithm to use, which in this case is the Singular Value Decomposition (SVD) algorithm. lastly, we fit our model to our data.\n",
    "\n",
    "It's worth going into more detail why we chose this algorithm and what it is computing in the `.fit(train_set)` method we're calling.\n",
    "First, let's think about what data it's receiving - our ratings data. This only contains the user_ids, movie_ids, and the user's ratings of their watched movies on a scale of 1 to 5.\n",
    "\n",
    "We can put this data into a matrix with rows being users and columns being movies\n",
    "\n",
    "| RATINGS| movie_1 | movie_2 | movie_3 | movie_4 | movie_5 | movie_6 | ....... |\n",
    "| -----  | :-----: | :-----: | :-----: | :-----: | :-----: | :-----: | :-----: |\n",
    "| user_1 |    4    |    1    |         |    4    |         |    5    |         |\n",
    "| user_2 |         |    5    |    5    |    2    |    1    |         |         |\n",
    "| user_3 |         |         |         |         |    1    |         |         |\n",
    "| user_4 |    4    |    1    |         |    4    |         |    ?    |         |\n",
    "| user_5 |         |    4    |    5    |    2    |         |         |         |\n",
    "| ...... |         |         |         |         |         |         |         |\n",
    "\n",
    "Our empty cells aren't zero's, they're missing ratings, so `user_1` has never rated `movie_3`. They may like it or hate it."
   ]
  },
  {
   "cell_type": "markdown",
   "metadata": {},
   "source": [
    "Unlike Content Filtering, here we're only considering the ratings that users assign. We don't know the plot or genre or release year of any of these films.\n",
    "But we can still build recommender by assuming that users have similar tastes to each other. As an intuitive example, we can see that `user_1` and `user_4` have very similar ratings on several movies, so we will assume that `user_4` will rate `movie_6` highly, just as `user_1` did. This is the idea behind collaborative filtering."
   ]
  },
  {
   "cell_type": "markdown",
   "metadata": {},
   "source": [
    "That's the intuition, but what about the math? Since we only have this matrix to work with what we want to do is decompose it into two constituent matrices.\n",
    "Lets call our ratings matrix `[R]`. We want to find two other matrices, a user matrix `[U]`, and a movies matrix `[M]` that fit the equation:\n",
    "\n",
    "`[U] * [M] = [R]`\n",
    "\n",
    "`[U]` will look like:\n",
    "|user_1_feature_1 | user_1_feature_2 | user_1_feature_3 | user_1_feature_4 | ... | user_1_feature_k |\n",
    "| ----- | --------- | --------- | --------- | --- | --------- |\n",
    "|user_2_feature_1 | user_2_feature_2 | user_2_feature_3 | user_2_feature_4 | ... | user_2_feature_k |\n",
    "|user_3_feature_1 | user_3_feature_2 | user_3_feature_3 | user_3_feature_4 | ... | user_3_feature_k |\n",
    "|  ...  | . | . | . | ... | . |\n",
    "|user_N_feature_1 | user_N_feature_2 | user_N_feature_3 | user_N_feature_4 | ... | user_N_feature_k |\n",
    "\n",
    "`[M]` will look like:\n",
    "\n",
    "| movie_1_feature_1 | movie_2_feature_1 | movie_3_feature_1 | ... | movie_M_feature_1 |\n",
    "| --- | --- | --- | --- | --- |\n",
    "| movie_1_feature_2 | movie_2_feature_2 | movie_3_feature_2 | ... | movie_M_feature_1 |\n",
    "| movie_1_feature_3 | movie_2_feature_3 | movie_3_feature_3 | ... | movie_M_feature_1 |\n",
    "| movie_1_feature_4 | movie_2_feature_4 | movie_3_feature_4 | ... | movie_M_feature_1 |\n",
    "|  ...  | . | . | ... | . |\n",
    "| movie_1_feature_k | movie_2_feature_k | movie_3_feature_k | ... | movie_M_feature_k |\n",
    "\n",
    "\n",
    "these features are called the latent features (or latent factors) and are the values we're trying to find when we call the `svd_algo.fit(training_data)` method. The algorithm that computes these features from our ratings matrix is the SVD algorithm. The number of users and movies is set by our data. The size of the latent feature vectors `k` is a parameter we choose. We'll keep it at the default 100 for this notebook."
   ]
  },
  {
   "cell_type": "code",
   "execution_count": 7,
   "metadata": {},
   "outputs": [
    {
     "data": {
      "text/plain": [
       "<surprise.prediction_algorithms.matrix_factorization.SVD at 0x13a767e50>"
      ]
     },
     "execution_count": 7,
     "metadata": {},
     "output_type": "execute_result"
    }
   ],
   "source": [
    "# split the data into training and testing sets (80% train, 20% test)\n",
    "train_set, test_set = train_test_split(ratings_data, test_size=0.2)\n",
    "\n",
    "# use SVD (Singular Value Decomposition) for collaborative filtering\n",
    "svd_algo = SVD(n_factors=100, biased=False)  # We'll set biased to False so that predictions are of the form \"rating_prediction = user_vector dot item_vector\"\n",
    "\n",
    "# train the algorithm on the train_set\n",
    "svd_algo.fit(train_set)"
   ]
  },
  {
   "cell_type": "markdown",
   "metadata": {},
   "source": [
    "## Extracting The User and Movie Vectors"
   ]
  },
  {
   "cell_type": "markdown",
   "metadata": {},
   "source": [
    "Now that the the SVD algorithm has computed our `[U]` and `[M]` matrices - which are both really just lists of vectors - we can load them into our Redis instance.\n",
    "\n",
    "The Surprise SVD model stores user and movie vectors in two attributes:\n",
    "\n",
    "`algo.pu`: user features matrix (a matrix where each row corresponds to the latent features of a user).\n",
    "`algo.qi`: item features matrix (a matrix where each row corresponds to the latent features of an item/movie).\n",
    "\n",
    "It's worth noting that the matrix `algo.qi` is the transpose of the matrix `[M]` we defined above. This way each row corresponds to one movie"
   ]
  },
  {
   "cell_type": "code",
   "execution_count": 29,
   "metadata": {},
   "outputs": [
    {
     "name": "stdout",
     "output_type": "stream",
     "text": [
      "we have 671 users with feature vectors of size 100\n",
      "we have 8405 movies with feature vectors of size 100\n"
     ]
    }
   ],
   "source": [
    "user_vectors = svd_algo.pu  # user latent features (matrix)\n",
    "movie_vectors = svd_algo.qi  # movie latent features (matrix)\n",
    "\n",
    "print(f'we have {user_vectors.shape[0]} users with feature vectors of size {user_vectors.shape[1]}')\n",
    "print(f'we have {movie_vectors.shape[0]} movies with feature vectors of size {movie_vectors.shape[1]}')"
   ]
  },
  {
   "cell_type": "markdown",
   "metadata": {},
   "source": [
    "# Predicting User Ratings\n",
    "The great thing about collaborative filtering is that using our user and movie vectors we can predict the rating any user will give to any movie in our dataset.\n",
    "And unlike content filtering, there is no assumption that all the movies a user will be recommended are similar to each other. A user can be recommended dark horror films and light-hearted animations.\n",
    "\n",
    "Looking back at our SVD algorithm the equation is [User_features] * [Movie_features].transpose = [Ratings]\n",
    "So to get a prediction of what a user will rate a movie they haven't seen yet we just need to take the dot product of that user's feature vector and a movie's feature vector."
   ]
  },
  {
   "cell_type": "code",
   "execution_count": 30,
   "metadata": {},
   "outputs": [
    {
     "name": "stdout",
     "output_type": "stream",
     "text": [
      "the predicted rating of user 347 on movie 5515 is 1.4150893670982523\n"
     ]
    }
   ],
   "source": [
    "# predict one user's rating of one film\n",
    "# surprise casts userId and movieId to inner ids\n",
    "\n",
    "inner_uid = train_set.to_inner_uid(347) # user_id\n",
    "inner_iid = train_set.to_inner_iid(5515) # movie_id\n",
    "print(f'the predicted rating of user {347} on movie {5515} is {np.dot(user_vectors[inner_uid], movie_vectors[inner_iid])}')\n"
   ]
  },
  {
   "cell_type": "code",
   "execution_count": 31,
   "metadata": {},
   "outputs": [
    {
     "name": "stdout",
     "output_type": "stream",
     "text": [
      "user: 347        item: 5515       r_ui = None   est = 1.42   {'was_impossible': False}\n",
      "1.4150893670982523\n"
     ]
    },
    {
     "data": {
      "text/plain": [
       "Prediction(uid=347, iid=5515, r_ui=None, est=1.4150893670982523, details={'was_impossible': False})"
      ]
     },
     "execution_count": 31,
     "metadata": {},
     "output_type": "execute_result"
    }
   ],
   "source": [
    "# sanity check my math matches Surprise package math\n",
    "print(svd_algo.predict(347, 5515))\n",
    "\n",
    "inner_uid = train_set.to_inner_uid(347)\n",
    "inner_iid = train_set.to_inner_iid(5515)\n",
    "print(np.dot(user_vectors[inner_uid], movie_vectors[inner_iid])) # surprise casts userId and movieId to inner ids\n",
    "svd_algo.predict(347, 5515)"
   ]
  },
  {
   "cell_type": "markdown",
   "metadata": {},
   "source": [
    "while our collaborative filtering algorithm was trained solely on user's ratings of movies, and doesn't require any data about the movies themselves - like the title, genres, or release year - we'll want that information stored as metadata.\n",
    "\n",
    "We can grab this data from our `movies_metadata.csv` file, clean it, and join it to our user ratings via the `movieId` column"
   ]
  },
  {
   "cell_type": "code",
   "execution_count": 10,
   "metadata": {},
   "outputs": [
    {
     "data": {
      "text/html": [
       "<div>\n",
       "<style scoped>\n",
       "    .dataframe tbody tr th:only-of-type {\n",
       "        vertical-align: middle;\n",
       "    }\n",
       "\n",
       "    .dataframe tbody tr th {\n",
       "        vertical-align: top;\n",
       "    }\n",
       "\n",
       "    .dataframe thead th {\n",
       "        text-align: right;\n",
       "    }\n",
       "</style>\n",
       "<table border=\"1\" class=\"dataframe\">\n",
       "  <thead>\n",
       "    <tr style=\"text-align: right;\">\n",
       "      <th></th>\n",
       "      <th>belongs_to_collection</th>\n",
       "      <th>budget</th>\n",
       "      <th>genres</th>\n",
       "      <th>homepage</th>\n",
       "      <th>id</th>\n",
       "      <th>imdb_id</th>\n",
       "      <th>original_language</th>\n",
       "      <th>original_title</th>\n",
       "      <th>overview</th>\n",
       "      <th>popularity</th>\n",
       "      <th>...</th>\n",
       "      <th>release_date</th>\n",
       "      <th>revenue</th>\n",
       "      <th>runtime</th>\n",
       "      <th>spoken_languages</th>\n",
       "      <th>status</th>\n",
       "      <th>tagline</th>\n",
       "      <th>title</th>\n",
       "      <th>video</th>\n",
       "      <th>vote_average</th>\n",
       "      <th>vote_count</th>\n",
       "    </tr>\n",
       "  </thead>\n",
       "  <tbody>\n",
       "    <tr>\n",
       "      <th>0</th>\n",
       "      <td>{'id': 10194, 'name': 'Toy Story Collection', ...</td>\n",
       "      <td>30000000</td>\n",
       "      <td>[{'id': 16, 'name': 'Animation'}, {'id': 35, '...</td>\n",
       "      <td>http://toystory.disney.com/toy-story</td>\n",
       "      <td>862</td>\n",
       "      <td>tt0114709</td>\n",
       "      <td>en</td>\n",
       "      <td>Toy Story</td>\n",
       "      <td>Led by Woody, Andy's toys live happily in his ...</td>\n",
       "      <td>21.946943</td>\n",
       "      <td>...</td>\n",
       "      <td>1995-10-30</td>\n",
       "      <td>373554033</td>\n",
       "      <td>81.0</td>\n",
       "      <td>[{'iso_639_1': 'en', 'name': 'English'}]</td>\n",
       "      <td>Released</td>\n",
       "      <td>NaN</td>\n",
       "      <td>Toy Story</td>\n",
       "      <td>False</td>\n",
       "      <td>7.7</td>\n",
       "      <td>5415</td>\n",
       "    </tr>\n",
       "    <tr>\n",
       "      <th>1</th>\n",
       "      <td>NaN</td>\n",
       "      <td>65000000</td>\n",
       "      <td>[{'id': 12, 'name': 'Adventure'}, {'id': 14, '...</td>\n",
       "      <td>NaN</td>\n",
       "      <td>8844</td>\n",
       "      <td>tt0113497</td>\n",
       "      <td>en</td>\n",
       "      <td>Jumanji</td>\n",
       "      <td>When siblings Judy and Peter discover an encha...</td>\n",
       "      <td>17.015539</td>\n",
       "      <td>...</td>\n",
       "      <td>1995-12-15</td>\n",
       "      <td>262797249</td>\n",
       "      <td>104.0</td>\n",
       "      <td>[{'iso_639_1': 'en', 'name': 'English'}, {'iso...</td>\n",
       "      <td>Released</td>\n",
       "      <td>Roll the dice and unleash the excitement!</td>\n",
       "      <td>Jumanji</td>\n",
       "      <td>False</td>\n",
       "      <td>6.9</td>\n",
       "      <td>2413</td>\n",
       "    </tr>\n",
       "    <tr>\n",
       "      <th>2</th>\n",
       "      <td>{'id': 119050, 'name': 'Grumpy Old Men Collect...</td>\n",
       "      <td>0</td>\n",
       "      <td>[{'id': 10749, 'name': 'Romance'}, {'id': 35, ...</td>\n",
       "      <td>NaN</td>\n",
       "      <td>15602</td>\n",
       "      <td>tt0113228</td>\n",
       "      <td>en</td>\n",
       "      <td>Grumpier Old Men</td>\n",
       "      <td>A family wedding reignites the ancient feud be...</td>\n",
       "      <td>11.712900</td>\n",
       "      <td>...</td>\n",
       "      <td>1995-12-22</td>\n",
       "      <td>0</td>\n",
       "      <td>101.0</td>\n",
       "      <td>[{'iso_639_1': 'en', 'name': 'English'}]</td>\n",
       "      <td>Released</td>\n",
       "      <td>Still Yelling. Still Fighting. Still Ready for...</td>\n",
       "      <td>Grumpier Old Men</td>\n",
       "      <td>False</td>\n",
       "      <td>6.5</td>\n",
       "      <td>92</td>\n",
       "    </tr>\n",
       "    <tr>\n",
       "      <th>3</th>\n",
       "      <td>NaN</td>\n",
       "      <td>16000000</td>\n",
       "      <td>[{'id': 35, 'name': 'Comedy'}, {'id': 18, 'nam...</td>\n",
       "      <td>NaN</td>\n",
       "      <td>31357</td>\n",
       "      <td>tt0114885</td>\n",
       "      <td>en</td>\n",
       "      <td>Waiting to Exhale</td>\n",
       "      <td>Cheated on, mistreated and stepped on, the wom...</td>\n",
       "      <td>3.859495</td>\n",
       "      <td>...</td>\n",
       "      <td>1995-12-22</td>\n",
       "      <td>81452156</td>\n",
       "      <td>127.0</td>\n",
       "      <td>[{'iso_639_1': 'en', 'name': 'English'}]</td>\n",
       "      <td>Released</td>\n",
       "      <td>Friends are the people who let you be yourself...</td>\n",
       "      <td>Waiting to Exhale</td>\n",
       "      <td>False</td>\n",
       "      <td>6.1</td>\n",
       "      <td>34</td>\n",
       "    </tr>\n",
       "    <tr>\n",
       "      <th>4</th>\n",
       "      <td>{'id': 96871, 'name': 'Father of the Bride Col...</td>\n",
       "      <td>0</td>\n",
       "      <td>[{'id': 35, 'name': 'Comedy'}]</td>\n",
       "      <td>NaN</td>\n",
       "      <td>11862</td>\n",
       "      <td>tt0113041</td>\n",
       "      <td>en</td>\n",
       "      <td>Father of the Bride Part II</td>\n",
       "      <td>Just when George Banks has recovered from his ...</td>\n",
       "      <td>8.387519</td>\n",
       "      <td>...</td>\n",
       "      <td>1995-02-10</td>\n",
       "      <td>76578911</td>\n",
       "      <td>106.0</td>\n",
       "      <td>[{'iso_639_1': 'en', 'name': 'English'}]</td>\n",
       "      <td>Released</td>\n",
       "      <td>Just When His World Is Back To Normal... He's ...</td>\n",
       "      <td>Father of the Bride Part II</td>\n",
       "      <td>False</td>\n",
       "      <td>5.7</td>\n",
       "      <td>173</td>\n",
       "    </tr>\n",
       "  </tbody>\n",
       "</table>\n",
       "<p>5 rows × 23 columns</p>\n",
       "</div>"
      ],
      "text/plain": [
       "                               belongs_to_collection    budget  \\\n",
       "0  {'id': 10194, 'name': 'Toy Story Collection', ...  30000000   \n",
       "1                                                NaN  65000000   \n",
       "2  {'id': 119050, 'name': 'Grumpy Old Men Collect...         0   \n",
       "3                                                NaN  16000000   \n",
       "4  {'id': 96871, 'name': 'Father of the Bride Col...         0   \n",
       "\n",
       "                                              genres  \\\n",
       "0  [{'id': 16, 'name': 'Animation'}, {'id': 35, '...   \n",
       "1  [{'id': 12, 'name': 'Adventure'}, {'id': 14, '...   \n",
       "2  [{'id': 10749, 'name': 'Romance'}, {'id': 35, ...   \n",
       "3  [{'id': 35, 'name': 'Comedy'}, {'id': 18, 'nam...   \n",
       "4                     [{'id': 35, 'name': 'Comedy'}]   \n",
       "\n",
       "                               homepage     id    imdb_id original_language  \\\n",
       "0  http://toystory.disney.com/toy-story    862  tt0114709                en   \n",
       "1                                   NaN   8844  tt0113497                en   \n",
       "2                                   NaN  15602  tt0113228                en   \n",
       "3                                   NaN  31357  tt0114885                en   \n",
       "4                                   NaN  11862  tt0113041                en   \n",
       "\n",
       "                original_title  \\\n",
       "0                    Toy Story   \n",
       "1                      Jumanji   \n",
       "2             Grumpier Old Men   \n",
       "3            Waiting to Exhale   \n",
       "4  Father of the Bride Part II   \n",
       "\n",
       "                                            overview  popularity  ...  \\\n",
       "0  Led by Woody, Andy's toys live happily in his ...   21.946943  ...   \n",
       "1  When siblings Judy and Peter discover an encha...   17.015539  ...   \n",
       "2  A family wedding reignites the ancient feud be...   11.712900  ...   \n",
       "3  Cheated on, mistreated and stepped on, the wom...    3.859495  ...   \n",
       "4  Just when George Banks has recovered from his ...    8.387519  ...   \n",
       "\n",
       "  release_date    revenue runtime  \\\n",
       "0   1995-10-30  373554033    81.0   \n",
       "1   1995-12-15  262797249   104.0   \n",
       "2   1995-12-22          0   101.0   \n",
       "3   1995-12-22   81452156   127.0   \n",
       "4   1995-02-10   76578911   106.0   \n",
       "\n",
       "                                    spoken_languages    status  \\\n",
       "0           [{'iso_639_1': 'en', 'name': 'English'}]  Released   \n",
       "1  [{'iso_639_1': 'en', 'name': 'English'}, {'iso...  Released   \n",
       "2           [{'iso_639_1': 'en', 'name': 'English'}]  Released   \n",
       "3           [{'iso_639_1': 'en', 'name': 'English'}]  Released   \n",
       "4           [{'iso_639_1': 'en', 'name': 'English'}]  Released   \n",
       "\n",
       "                                             tagline  \\\n",
       "0                                                NaN   \n",
       "1          Roll the dice and unleash the excitement!   \n",
       "2  Still Yelling. Still Fighting. Still Ready for...   \n",
       "3  Friends are the people who let you be yourself...   \n",
       "4  Just When His World Is Back To Normal... He's ...   \n",
       "\n",
       "                         title  video vote_average vote_count  \n",
       "0                    Toy Story  False          7.7       5415  \n",
       "1                      Jumanji  False          6.9       2413  \n",
       "2             Grumpier Old Men  False          6.5         92  \n",
       "3            Waiting to Exhale  False          6.1         34  \n",
       "4  Father of the Bride Part II  False          5.7        173  \n",
       "\n",
       "[5 rows x 23 columns]"
      ]
     },
     "execution_count": 10,
     "metadata": {},
     "output_type": "execute_result"
    }
   ],
   "source": [
    "movies_df = fetch_dataframe('movies_metadata.csv')\n",
    "movies_df.head()"
   ]
  },
  {
   "cell_type": "code",
   "execution_count": 11,
   "metadata": {},
   "outputs": [
    {
     "data": {
      "text/plain": [
       "budget               0\n",
       "genres               0\n",
       "id                   0\n",
       "imdb_id              0\n",
       "original_language    0\n",
       "overview             0\n",
       "popularity           0\n",
       "release_date         0\n",
       "revenue              0\n",
       "runtime              0\n",
       "status               0\n",
       "tagline              0\n",
       "title                0\n",
       "vote_average         0\n",
       "vote_count           0\n",
       "dtype: int64"
      ]
     },
     "execution_count": 11,
     "metadata": {},
     "output_type": "execute_result"
    }
   ],
   "source": [
    "\n",
    "import datetime\n",
    "movies_df.drop(columns=['homepage', 'production_countries', 'production_companies', 'spoken_languages', 'video', 'original_title', 'video', 'poster_path', 'belongs_to_collection'], inplace=True)\n",
    "\n",
    "# drop rows that have missing values\n",
    "movies_df.dropna(subset=['imdb_id'], inplace=True)\n",
    "\n",
    "movies_df['original_language'] = movies_df['original_language'].fillna('unknown')\n",
    "movies_df['overview'] = movies_df['overview'].fillna('')\n",
    "movies_df['popularity'] = movies_df['popularity'].fillna(0)\n",
    "movies_df['release_date'] = movies_df['release_date'].fillna('1900-01-01').apply(lambda x: datetime.datetime.strptime(x, \"%Y-%m-%d\").timestamp())\n",
    "movies_df['revenue'] = movies_df['revenue'].fillna(0) # fill with average?\n",
    "movies_df['runtime'] = movies_df['runtime'].fillna(0) # fill with average?\n",
    "movies_df['status'] = movies_df['status'].fillna('unknown')\n",
    "movies_df['tagline'] = movies_df['tagline'].fillna('')\n",
    "movies_df['title'] = movies_df['title'].fillna('')\n",
    "movies_df['vote_average'] = movies_df['vote_average'].fillna(0)\n",
    "movies_df['vote_count'] = movies_df['vote_count'].fillna(0)\n",
    "movies_df['genres'] = movies_df['genres'].apply(lambda x: [g['name'] for g in eval(x)] if x != '' else []) # convert to a list of genre names\n",
    "movies_df['imdb_id'] = movies_df['imdb_id'].apply(lambda x: x[2:] if str(x).startswith('tt') else x).astype(int) # remove leading 'tt' from imdb_id\n",
    "\n",
    "# make sure we've filled all missing values\n",
    "movies_df.isnull().sum()"
   ]
  },
  {
   "cell_type": "markdown",
   "metadata": {},
   "source": [
    "We'll eventually have to map these movies to their ratings, which we'll do so with the `links.csv` file that matches `movieId`, `imdbId`, and `tmdbId`.\n",
    "\n",
    "Let's do that now."
   ]
  },
  {
   "cell_type": "code",
   "execution_count": 12,
   "metadata": {},
   "outputs": [
    {
     "data": {
      "text/html": [
       "<div>\n",
       "<style scoped>\n",
       "    .dataframe tbody tr th:only-of-type {\n",
       "        vertical-align: middle;\n",
       "    }\n",
       "\n",
       "    .dataframe tbody tr th {\n",
       "        vertical-align: top;\n",
       "    }\n",
       "\n",
       "    .dataframe thead th {\n",
       "        text-align: right;\n",
       "    }\n",
       "</style>\n",
       "<table border=\"1\" class=\"dataframe\">\n",
       "  <thead>\n",
       "    <tr style=\"text-align: right;\">\n",
       "      <th></th>\n",
       "      <th>budget</th>\n",
       "      <th>genres</th>\n",
       "      <th>id</th>\n",
       "      <th>imdb_id</th>\n",
       "      <th>original_language</th>\n",
       "      <th>overview</th>\n",
       "      <th>popularity</th>\n",
       "      <th>release_date</th>\n",
       "      <th>revenue</th>\n",
       "      <th>runtime</th>\n",
       "      <th>status</th>\n",
       "      <th>tagline</th>\n",
       "      <th>title</th>\n",
       "      <th>vote_average</th>\n",
       "      <th>vote_count</th>\n",
       "      <th>movieId</th>\n",
       "      <th>imdbId</th>\n",
       "      <th>tmdbId</th>\n",
       "    </tr>\n",
       "  </thead>\n",
       "  <tbody>\n",
       "    <tr>\n",
       "      <th>0</th>\n",
       "      <td>30000000</td>\n",
       "      <td>[Animation, Comedy, Family]</td>\n",
       "      <td>862</td>\n",
       "      <td>114709</td>\n",
       "      <td>en</td>\n",
       "      <td>Led by Woody, Andy's toys live happily in his ...</td>\n",
       "      <td>21.946943</td>\n",
       "      <td>815040000.0</td>\n",
       "      <td>373554033</td>\n",
       "      <td>81.0</td>\n",
       "      <td>Released</td>\n",
       "      <td></td>\n",
       "      <td>Toy Story</td>\n",
       "      <td>7.7</td>\n",
       "      <td>5415</td>\n",
       "      <td>1</td>\n",
       "      <td>114709</td>\n",
       "      <td>862.0</td>\n",
       "    </tr>\n",
       "    <tr>\n",
       "      <th>1</th>\n",
       "      <td>65000000</td>\n",
       "      <td>[Adventure, Fantasy, Family]</td>\n",
       "      <td>8844</td>\n",
       "      <td>113497</td>\n",
       "      <td>en</td>\n",
       "      <td>When siblings Judy and Peter discover an encha...</td>\n",
       "      <td>17.015539</td>\n",
       "      <td>819014400.0</td>\n",
       "      <td>262797249</td>\n",
       "      <td>104.0</td>\n",
       "      <td>Released</td>\n",
       "      <td>Roll the dice and unleash the excitement!</td>\n",
       "      <td>Jumanji</td>\n",
       "      <td>6.9</td>\n",
       "      <td>2413</td>\n",
       "      <td>2</td>\n",
       "      <td>113497</td>\n",
       "      <td>8844.0</td>\n",
       "    </tr>\n",
       "    <tr>\n",
       "      <th>2</th>\n",
       "      <td>0</td>\n",
       "      <td>[Romance, Comedy]</td>\n",
       "      <td>15602</td>\n",
       "      <td>113228</td>\n",
       "      <td>en</td>\n",
       "      <td>A family wedding reignites the ancient feud be...</td>\n",
       "      <td>11.712900</td>\n",
       "      <td>819619200.0</td>\n",
       "      <td>0</td>\n",
       "      <td>101.0</td>\n",
       "      <td>Released</td>\n",
       "      <td>Still Yelling. Still Fighting. Still Ready for...</td>\n",
       "      <td>Grumpier Old Men</td>\n",
       "      <td>6.5</td>\n",
       "      <td>92</td>\n",
       "      <td>3</td>\n",
       "      <td>113228</td>\n",
       "      <td>15602.0</td>\n",
       "    </tr>\n",
       "    <tr>\n",
       "      <th>3</th>\n",
       "      <td>16000000</td>\n",
       "      <td>[Comedy, Drama, Romance]</td>\n",
       "      <td>31357</td>\n",
       "      <td>114885</td>\n",
       "      <td>en</td>\n",
       "      <td>Cheated on, mistreated and stepped on, the wom...</td>\n",
       "      <td>3.859495</td>\n",
       "      <td>819619200.0</td>\n",
       "      <td>81452156</td>\n",
       "      <td>127.0</td>\n",
       "      <td>Released</td>\n",
       "      <td>Friends are the people who let you be yourself...</td>\n",
       "      <td>Waiting to Exhale</td>\n",
       "      <td>6.1</td>\n",
       "      <td>34</td>\n",
       "      <td>4</td>\n",
       "      <td>114885</td>\n",
       "      <td>31357.0</td>\n",
       "    </tr>\n",
       "    <tr>\n",
       "      <th>4</th>\n",
       "      <td>0</td>\n",
       "      <td>[Comedy]</td>\n",
       "      <td>11862</td>\n",
       "      <td>113041</td>\n",
       "      <td>en</td>\n",
       "      <td>Just when George Banks has recovered from his ...</td>\n",
       "      <td>8.387519</td>\n",
       "      <td>792403200.0</td>\n",
       "      <td>76578911</td>\n",
       "      <td>106.0</td>\n",
       "      <td>Released</td>\n",
       "      <td>Just When His World Is Back To Normal... He's ...</td>\n",
       "      <td>Father of the Bride Part II</td>\n",
       "      <td>5.7</td>\n",
       "      <td>173</td>\n",
       "      <td>5</td>\n",
       "      <td>113041</td>\n",
       "      <td>11862.0</td>\n",
       "    </tr>\n",
       "  </tbody>\n",
       "</table>\n",
       "</div>"
      ],
      "text/plain": [
       "     budget                        genres     id  imdb_id original_language  \\\n",
       "0  30000000   [Animation, Comedy, Family]    862   114709                en   \n",
       "1  65000000  [Adventure, Fantasy, Family]   8844   113497                en   \n",
       "2         0             [Romance, Comedy]  15602   113228                en   \n",
       "3  16000000      [Comedy, Drama, Romance]  31357   114885                en   \n",
       "4         0                      [Comedy]  11862   113041                en   \n",
       "\n",
       "                                            overview  popularity  \\\n",
       "0  Led by Woody, Andy's toys live happily in his ...   21.946943   \n",
       "1  When siblings Judy and Peter discover an encha...   17.015539   \n",
       "2  A family wedding reignites the ancient feud be...   11.712900   \n",
       "3  Cheated on, mistreated and stepped on, the wom...    3.859495   \n",
       "4  Just when George Banks has recovered from his ...    8.387519   \n",
       "\n",
       "   release_date    revenue  runtime    status  \\\n",
       "0   815040000.0  373554033     81.0  Released   \n",
       "1   819014400.0  262797249    104.0  Released   \n",
       "2   819619200.0          0    101.0  Released   \n",
       "3   819619200.0   81452156    127.0  Released   \n",
       "4   792403200.0   76578911    106.0  Released   \n",
       "\n",
       "                                             tagline  \\\n",
       "0                                                      \n",
       "1          Roll the dice and unleash the excitement!   \n",
       "2  Still Yelling. Still Fighting. Still Ready for...   \n",
       "3  Friends are the people who let you be yourself...   \n",
       "4  Just When His World Is Back To Normal... He's ...   \n",
       "\n",
       "                         title  vote_average  vote_count  movieId  imdbId  \\\n",
       "0                    Toy Story           7.7        5415        1  114709   \n",
       "1                      Jumanji           6.9        2413        2  113497   \n",
       "2             Grumpier Old Men           6.5          92        3  113228   \n",
       "3            Waiting to Exhale           6.1          34        4  114885   \n",
       "4  Father of the Bride Part II           5.7         173        5  113041   \n",
       "\n",
       "    tmdbId  \n",
       "0    862.0  \n",
       "1   8844.0  \n",
       "2  15602.0  \n",
       "3  31357.0  \n",
       "4  11862.0  "
      ]
     },
     "execution_count": 12,
     "metadata": {},
     "output_type": "execute_result"
    }
   ],
   "source": [
    "\n",
    "links_df = fetch_dataframe('links_small.csv')\n",
    "movies_df = movies_df.merge(links_df, left_on='imdb_id', right_on='imdbId', how='inner')\n",
    "movies_df.head()"
   ]
  },
  {
   "cell_type": "markdown",
   "metadata": {},
   "source": [
    "We'll want to move our SVD user vectors and movie vectors and their corresponding userId and movieId into 2 dataframes for later processing."
   ]
  },
  {
   "cell_type": "code",
   "execution_count": 13,
   "metadata": {},
   "outputs": [],
   "source": [
    "# build a dataframe out of the user vectors and their userIds\n",
    "user_vectors_and_ids = {train_set.to_raw_uid(inner_id): user_vectors[inner_id].tolist() for inner_id in train_set.all_users()}\n",
    "user_vector_df = pd.Series(user_vectors_and_ids).to_frame('user_vector')\n",
    "\n",
    "# now do the same for the movie vectors and their movieIds\n",
    "movie_vectors_and_ids = {train_set.to_raw_iid(inner_id): movie_vectors[inner_id].tolist() for inner_id in train_set.all_items()}\n",
    "movie_vector_df = pd.Series(movie_vectors_and_ids).to_frame('movie_vector')\n",
    "\n",
    "# merge the movie vector series with the movies dataframe using the movieId and id fields\n",
    "movies_df = movies_df.merge(movie_vector_df, left_on='id', right_index=True, how='inner')"
   ]
  },
  {
   "cell_type": "markdown",
   "metadata": {},
   "source": [
    "## RedisVL Handles the Scale\n",
    "\n",
    "Especially for large datasets like the 45,000 movie catalog we're dealing with, you'll want Redis to do the heavy lifting of vector search.\n",
    "All that's needed is to define the search index and load our data we've cleaned and merged with our vectors.\n"
   ]
  },
  {
   "cell_type": "code",
   "execution_count": 14,
   "metadata": {},
   "outputs": [],
   "source": [
    "from redis import Redis\n",
    "from redisvl.schema import IndexSchema\n",
    "from redisvl.index import SearchIndex\n",
    "\n",
    "client = Redis.from_url(REDIS_URL)\n",
    "\n",
    "movie_schema = IndexSchema.from_yaml(\"collaborative_filtering_schema.yaml\")\n",
    "\n",
    "movie_index = SearchIndex(movie_schema, redis_client=client)\n",
    "movie_index.create(overwrite=True, drop=True)\n",
    "\n",
    "user_schema = IndexSchema.from_yaml(\"user_schema.yaml\")\n",
    "\n",
    "user_index = SearchIndex(user_schema, redis_client=client)\n",
    "user_index.create(overwrite=True, drop=True)"
   ]
  },
  {
   "cell_type": "code",
   "execution_count": 15,
   "metadata": {},
   "outputs": [],
   "source": [
    "keys = movie_index.load(movies_df.to_dict(orient='records'))"
   ]
  },
  {
   "cell_type": "code",
   "execution_count": 16,
   "metadata": {},
   "outputs": [
    {
     "name": "stdout",
     "output_type": "stream",
     "text": [
      "1494\n",
      "28386\n",
      "1494\n",
      "1482\n",
      "9065\n"
     ]
    }
   ],
   "source": [
    "# sanity check I merged all my dataframes properly and have the right sizes of moives, users, vectors, ids, etc.\n",
    "number_of_movies = len(movies_df.to_dict(orient='records'))\n",
    "size_of_movie_df = movies_df.size\n",
    "\n",
    "print(number_of_movies)\n",
    "print(size_of_movie_df)\n",
    "unique_movie_ids = movies_df['id'].nunique()\n",
    "print(unique_movie_ids)\n",
    "unique_movie_titles = movies_df['title'].nunique()\n",
    "print(unique_movie_titles)\n",
    "\n",
    "unique_movies_rated = ratings_df['movieId'].nunique()\n",
    "print(unique_movies_rated)"
   ]
  },
  {
   "cell_type": "markdown",
   "metadata": {},
   "source": [
    "Unlike in content filtering, where we want to compute vector similarity between items and we use cosine distance between items vectors to do so, in collaborative filtering we instead try to compute the predicted rating a user will give to a movie by taking the inner product of the user and movie vector.\n",
    "\n",
    "This is why in our `collaborative_filtering_schema.yaml` we use `ip` (inner product) as our distance metric.\n",
    "\n",
    "It's also why we'll use our user vector as the query vector when we do a vector query."
   ]
  },
  {
   "cell_type": "code",
   "execution_count": 26,
   "metadata": {},
   "outputs": [
    {
     "name": "stdout",
     "output_type": "stream",
     "text": [
      "{'id': 'movie:9df0babc731549909e929885973aee58', 'vector_distance': '-3.6087179184', 'title': 'The Million Dollar Hotel', 'genres': '[\"Drama\",\"Thriller\"]'}\n",
      "{'id': 'movie:ad9142a30fd045cfbb1e5ae0b051f4c8', 'vector_distance': '-3.56296348572', 'title': 'Terminator 3: Rise of the Machines', 'genres': '[\"Action\",\"Thriller\",\"Science Fiction\"]'}\n",
      "{'id': 'movie:bf3354ae719b44c782876272c5f95ce1', 'vector_distance': '-3.52630567551', 'title': 'Beverly Hills Cop III', 'genres': '[\"Action\",\"Comedy\",\"Crime\"]'}\n",
      "{'id': 'movie:88ce7f7738104c539b004135f306e9ec', 'vector_distance': '-3.46648168564', 'title': 'Backdraft', 'genres': '[\"Action\",\"Crime\",\"Drama\",\"Mystery\",\"Thriller\"]'}\n",
      "{'id': 'movie:9fe2e20d887a4263a540f3945f10751d', 'vector_distance': '-3.40900659561', 'title': 'Boogie Nights', 'genres': '[\"Drama\"]'}\n",
      "{'id': 'movie:9cd57bacb5de437a88279a17c2161ce2', 'vector_distance': '-3.38699388504', 'title': 'The Good Thief', 'genres': '[\"Crime\",\"Drama\",\"Thriller\"]'}\n",
      "{'id': 'movie:5d7079fac9534a0585608c9b0d01ba80', 'vector_distance': '-3.3247923851', 'title': \"Pandora's Box\", 'genres': '[\"Drama\",\"Thriller\",\"Romance\"]'}\n",
      "{'id': 'movie:fa9cf76285c348078bb9814fa6b9357f', 'vector_distance': '-3.31738758087', 'title': 'Dawn of the Dead', 'genres': '[\"Horror\"]'}\n",
      "{'id': 'movie:0c27eb9238744640a318c57104df4ddb', 'vector_distance': '-3.309486866', 'title': 'Once Were Warriors', 'genres': '[\"Drama\"]'}\n",
      "{'id': 'movie:f490c86a71164bf3956d92be5de8ba05', 'vector_distance': '-3.30277919769', 'title': 'Light of Day', 'genres': '[\"Music\",\"Drama\"]'}\n",
      "{'id': 'movie:e8ef474819814eaea6cb757449d3eded', 'vector_distance': '-3.28701210022', 'title': 'Beetlejuice', 'genres': '[\"Fantasy\",\"Comedy\"]'}\n",
      "{'id': 'movie:0c596d8911e0498a854b4e6d5faae545', 'vector_distance': '-3.27935218811', 'title': 'Enough', 'genres': '[\"Drama\",\"Thriller\"]'}\n",
      "{'id': 'movie:d0d08cb2caa44b42a3f21af5687fb7dc', 'vector_distance': '-3.26998329163', 'title': 'Ghost Rider', 'genres': '[\"Thriller\",\"Action\",\"Fantasy\",\"Horror\"]'}\n",
      "{'id': 'movie:b5bcd6dba0474b709ccb3b10c3e2fb14', 'vector_distance': '-3.26271867752', 'title': 'Cousin, Cousine', 'genres': '[\"Romance\",\"Comedy\"]'}\n",
      "{'id': 'movie:5726b3476a2d450db8792217298b7b57', 'vector_distance': '-3.25473356247', 'title': \"We're No Angels\", 'genres': '[\"Comedy\",\"Crime\",\"Drama\"]'}\n",
      "{'id': 'movie:f1459b204f054f8daa7bb03e349d4bc1', 'vector_distance': '-3.25318956375', 'title': 'Gremlins 2: The New Batch', 'genres': '[\"Comedy\",\"Horror\",\"Fantasy\"]'}\n",
      "{'id': 'movie:1cb9f1fb5d3f45a3861607aca03dfd4d', 'vector_distance': '-3.20173215866', 'title': 'Sleepless in Seattle', 'genres': '[\"Comedy\",\"Drama\",\"Romance\"]'}\n",
      "{'id': 'movie:a567595136ef488b90637b77afb10664', 'vector_distance': '-3.19421386719', 'title': 'Point Break', 'genres': '[\"Action\",\"Thriller\",\"Crime\"]'}\n",
      "{'id': 'movie:776e7891798048629d2dfa532ace8ff5', 'vector_distance': '-3.1903834343', 'title': \"My Best Friend's Wedding\", 'genres': '[\"Comedy\",\"Romance\"]'}\n",
      "{'id': 'movie:6bcc04c814d24da6926161c9e0c10a76', 'vector_distance': '-3.17692661285', 'title': 'Cool Hand Luke', 'genres': '[\"Crime\",\"Drama\"]'}\n"
     ]
    }
   ],
   "source": [
    "from redisvl.query import RangeQuery, FilterQuery\n",
    "from redisvl.query.filter import Tag, Num, Text\n",
    "\n",
    "user_vector = user_vectors[352].tolist()\n",
    "\n",
    "# the distance metric 'ip' inner product is computing \"score = 1 - u * v\" and returning the minimum, which corresponds to the max of \"u * v\"\n",
    "# this is what we want. The predicted rating on a scale of 0 to 5 is then -(score - 1) == -score + 1\n",
    "query = RangeQuery(vector=user_vector,\n",
    "                   vector_field_name='movie_vector',\n",
    "                  num_results=20,\n",
    "                  return_score=True,\n",
    "                  return_fields=['title', 'genres']\n",
    "                  )\n",
    "\n",
    "results = movie_index.query(query)\n",
    "\n",
    "for r in results:\n",
    "    print(r)"
   ]
  },
  {
   "cell_type": "code",
   "execution_count": 3,
   "metadata": {},
   "outputs": [],
   "source": [
    "\n",
    "## EVALUATE MOVE TO COLLABORATIVE FILTERING SO WE CAN SHOW BETTER NUMBERS\n",
    "#let's see how well this works. we can choose some users, and based on their first watched movie we can recommend them some more.\n",
    "#we can then look at the set intersection between our recommendations and the movies they actually watched (and rated highly) to see how well we did."
   ]
  },
  {
   "cell_type": "code",
   "execution_count": null,
   "metadata": {},
   "outputs": [],
   "source": [
    "# TODO use bloom filter and/or cuckoo filter with the recommendations and user's watched_list in their index to filter out movies they already watched"
   ]
  },
  {
   "cell_type": "code",
   "execution_count": 4,
   "metadata": {},
   "outputs": [],
   "source": [
    "# clean up your index\n",
    "\n",
    "while remaining := movie_index.clear():\n",
    "    print(f\"Deleted {remaining} keys\")"
   ]
  }
 ],
 "metadata": {
  "kernelspec": {
   "display_name": "redis-ai-res",
   "language": "python",
   "name": "python3"
  },
  "language_info": {
   "codemirror_mode": {
    "name": "ipython",
    "version": 3
   },
   "file_extension": ".py",
   "mimetype": "text/x-python",
   "name": "python",
   "nbconvert_exporter": "python",
   "pygments_lexer": "ipython3",
   "version": "3.11.9"
  }
 },
 "nbformat": 4,
 "nbformat_minor": 2
}
