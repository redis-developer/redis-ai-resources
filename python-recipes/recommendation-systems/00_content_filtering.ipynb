{
 "cells": [
  {
   "cell_type": "markdown",
   "metadata": {
    "id": "lzVKwB8Vy4oO"
   },
   "source": [
    "![Redis](https://redis.io/wp-content/uploads/2024/04/Logotype.svg?auto=webp&quality=85,75&width=120)\n",
    "\n",
    "# Recommendation Systems: Content Filtering with RedisVL\n",
    "\n",
    "<a href=\"https://colab.research.google.com/github/redis-developer/redis-ai-resources/blob/main/python-recipes/recommendation-systems/00_content_filtering.ipynb\" target=\"_parent\"><img src=\"https://colab.research.google.com/assets/colab-badge.svg\" alt=\"Open In Colab\"/></a>"
   ]
  },
  {
   "cell_type": "markdown",
   "metadata": {},
   "source": [
    "Recommendation systems are a common application of machine learning and serve many industries from e-commerce to music streaming platforms. However, there are many different architechtures that can be used.\n",
    "\n",
    "In this notebook we'll demonstrate how to build a **[content filtering](https://en.wikipedia.org/wiki/Recommender_system#:~:text=of%20hybrid%20systems.-,Content%2Dbased%20filtering,-%5Bedit%5D)**\n",
    "recommender from scratch using `redisvl` and an IMDB movies dataset.\n",
    "\n",
    "## What is content filtering?\n",
    "Content filtering recommender systems are built on the premise that a person will want to be recommended things that are similar to things they already like.\n",
    "\n",
    "In the case of movies, if a person watches and enjoys a nature documentary we should recommend other nature documentaries. Or if they like classic black & white horror films we should recommend more of those.\n",
    "\n",
    "The question we need to answer is, 'what does it mean for movies to be similar?'. There are exact matching strategies, like using a movie's labelled genre like 'Horror', or 'Sci Fi', but that can lock people in to only a few genres. Or what if it's not the genre that a person likes, but certain story arcs that are common among many genres?\n",
    "\n",
    "For our content filtering recommender we'll measure similarity between movies as semantic similarity of their descriptions and keywords.\n",
    "\n",
    "## Let's Begin!"
   ]
  },
  {
   "cell_type": "markdown",
   "metadata": {
    "id": "_iw74d6SzA5i"
   },
   "source": [
    "## Environment Setup"
   ]
  },
  {
   "cell_type": "code",
   "execution_count": 1,
   "metadata": {
    "id": "HSWpCEdOzHyb"
   },
   "outputs": [],
   "source": [
    "# NBVAL_SKIP\n",
    "!pip install -q redis redisvl sentence_transformers pandas requests"
   ]
  },
  {
   "cell_type": "markdown",
   "metadata": {
    "id": "bEYZp90izwmZ"
   },
   "source": [
    "### Install Redis Stack\n",
    "\n",
    "Later in this tutorial, Redis will be used to store, index, and query vector\n",
    "embeddings. **We need to make sure we have a Redis instance available.**"
   ]
  },
  {
   "cell_type": "markdown",
   "metadata": {
    "id": "y04FGPfO0FNp"
   },
   "source": [
    "####  Redis in Colab\n",
    "Use the shell script below to download, extract, and install [Redis Stack](https://redis.io/docs/getting-started/install-stack/) directly from the Redis package archive."
   ]
  },
  {
   "cell_type": "code",
   "execution_count": null,
   "metadata": {
    "colab": {
     "base_uri": "https://localhost:8080/"
    },
    "id": "SJD6uOnHz0Oq",
    "outputId": "5b79aef9-fe3a-413c-c2b2-c73d370f3f46"
   },
   "outputs": [],
   "source": [
    "# NBVAL_SKIP\n",
    "%%sh\n",
    "curl -fsSL https://packages.redis.io/gpg | sudo gpg --dearmor -o /usr/share/keyrings/redis-archive-keyring.gpg\n",
    "echo \"deb [signed-by=/usr/share/keyrings/redis-archive-keyring.gpg] https://packages.redis.io/deb $(lsb_release -cs) main\" | sudo tee /etc/apt/sources.list.d/redis.list\n",
    "sudo apt-get update  > /dev/null 2>&1\n",
    "sudo apt-get install redis-stack-server  > /dev/null 2>&1\n",
    "redis-stack-server --daemonize yes"
   ]
  },
  {
   "cell_type": "markdown",
   "metadata": {
    "id": "lX6eei__z9AK"
   },
   "source": [
    "#### Other ways to get Redis\n",
    "There are many ways to get the necessary redis-stack instance running\n",
    "1. On cloud, deploy a [FREE instance of Redis in the cloud](https://redis.io/try-free/). Or, if you have your\n",
    "own version of Redis Enterprise running, that works too!\n",
    "2. Per OS, [see the docs](https://redis.io/docs/latest/operate/oss_and_stack/install/install-stack/)\n",
    "3. With docker: `docker run -d --name redis-stack-server -p 6379:6379 redis/redis-stack-server:latest`"
   ]
  },
  {
   "cell_type": "markdown",
   "metadata": {
    "id": "skN74dq-1YqO"
   },
   "source": [
    "### Define the Redis Connection URL\n",
    "\n",
    "By default this notebook connects to the local instance of Redis Stack. **If you have your own Redis Enterprise instance** - replace REDIS_PASSWORD, REDIS_HOST and REDIS_PORT values with your own."
   ]
  },
  {
   "cell_type": "code",
   "execution_count": 3,
   "metadata": {
    "id": "eKDuyN0ky4oP"
   },
   "outputs": [],
   "source": [
    "import ast\n",
    "import os\n",
    "import pandas as pd\n",
    "import pickle\n",
    "import requests\n",
    "import warnings\n",
    "warnings.filterwarnings('ignore')\n",
    "\n",
    "# Replace values below with your own if using Redis Cloud instance\n",
    "REDIS_HOST = os.getenv(\"REDIS_HOST\", \"localhost\") # ex: \"redis-18374.c253.us-central1-1.gce.cloud.redislabs.com\"\n",
    "REDIS_PORT = os.getenv(\"REDIS_PORT\", \"6379\")      # ex: 18374\n",
    "REDIS_PASSWORD = os.getenv(\"REDIS_PASSWORD\", \"\")  # ex: \"1TNxTEdYRDgIDKM2gDfasupCADXXXX\"\n",
    "\n",
    "# If SSL is enabled on the endpoint, use rediss:// as the URL prefix\n",
    "REDIS_URL = f\"redis://:{REDIS_PASSWORD}@{REDIS_HOST}:{REDIS_PORT}\""
   ]
  },
  {
   "cell_type": "markdown",
   "metadata": {
    "id": "aRqr7Um3y4oP"
   },
   "source": [
    "## Prepare The Dataset"
   ]
  },
  {
   "cell_type": "markdown",
   "metadata": {
    "id": "naSiAmZBy4oP"
   },
   "source": [
    "Start by downloading the movies data and doing a quick inspection of it."
   ]
  },
  {
   "cell_type": "code",
   "execution_count": 4,
   "metadata": {
    "colab": {
     "base_uri": "https://localhost:8080/",
     "height": 293
    },
    "id": "vVyYhgoly4oP",
    "outputId": "51bfe86a-95fd-416c-a629-ab43cda9531d"
   },
   "outputs": [
    {
     "data": {
      "application/vnd.google.colaboratory.intrinsic+json": {
       "summary": "{\n  \"name\": \"df\",\n  \"rows\": 23922,\n  \"fields\": [\n    {\n      \"column\": \"title\",\n      \"properties\": {\n        \"dtype\": \"string\",\n        \"num_unique_values\": 23922,\n        \"samples\": [\n          \"The Graduate\",\n          \"Ayngaran\",\n          \"Acting Ka Bhoot\"\n        ],\n        \"semantic_type\": \"\",\n        \"description\": \"\"\n      }\n    },\n    {\n      \"column\": \"runtime\",\n      \"properties\": {\n        \"dtype\": \"category\",\n        \"num_unique_values\": 1526,\n        \"samples\": [\n          \"\\u20b93,500,000,000 (estimated)\",\n          \"57 minutes\",\n          \"$21,471,047\"\n        ],\n        \"semantic_type\": \"\",\n        \"description\": \"\"\n      }\n    },\n    {\n      \"column\": \"rating\",\n      \"properties\": {\n        \"dtype\": \"number\",\n        \"std\": 1.9521543600532218,\n        \"min\": 0.0,\n        \"max\": 9.9,\n        \"num_unique_values\": 91,\n        \"samples\": [\n          4.6,\n          0.0,\n          2.1\n        ],\n        \"semantic_type\": \"\",\n        \"description\": \"\"\n      }\n    },\n    {\n      \"column\": \"rating_count\",\n      \"properties\": {\n        \"dtype\": \"number\",\n        \"std\": 107222,\n        \"min\": 0,\n        \"max\": 2600000,\n        \"num_unique_values\": 1681,\n        \"samples\": [\n          783000,\n          959,\n          3100\n        ],\n        \"semantic_type\": \"\",\n        \"description\": \"\"\n      }\n    },\n    {\n      \"column\": \"genres\",\n      \"properties\": {\n        \"dtype\": \"category\",\n        \"num_unique_values\": 741,\n        \"samples\": [\n          \"['Adventure', 'Comedy', 'Romance']\",\n          \"['Adventure', 'Comedy', 'Film-Noir']\",\n          \"['Adventure', 'Comedy', 'History']\"\n        ],\n        \"semantic_type\": \"\",\n        \"description\": \"\"\n      }\n    },\n    {\n      \"column\": \"overview\",\n      \"properties\": {\n        \"dtype\": \"string\",\n        \"num_unique_values\": 23485,\n        \"samples\": [\n          \"A young cavalry doctor, against orders, treats very sick Indians who are forced to stay on unhealthy land, which could lead to a war.\",\n          \"An ex-policeman/school janitor (Billy Blanks) shows a new student (Kenn Scott) how to defend himself from a martial-arts bully.\",\n          \"A socially-criticized, financially-cornered girl becomes an outlaw to dodge the situation.\"\n        ],\n        \"semantic_type\": \"\",\n        \"description\": \"\"\n      }\n    },\n    {\n      \"column\": \"keywords\",\n      \"properties\": {\n        \"dtype\": \"string\",\n        \"num_unique_values\": 21132,\n        \"samples\": [\n          \"['dream', 'husband wife relationship', 'african american', 'uncle nephew relationship', 'teenage boy', 'teen angst', 'cynicism', 'midlife crisis', 'unrequited love', 'regret']\",\n          \"['bare chested male', 'lion wrestling', 'man lion relationship', 'male underwear', 'briefs', 'blood', 'experiment', 'human animal relationship', 'home invasion', 'jungle']\",\n          \"['thailand', 'evil child', 'tsunami', 'jungle', 'island', 'burma', 'boat', 'disembowelment', 'feral child', 'rape']\"\n        ],\n        \"semantic_type\": \"\",\n        \"description\": \"\"\n      }\n    },\n    {\n      \"column\": \"director\",\n      \"properties\": {\n        \"dtype\": \"category\",\n        \"num_unique_values\": 11405,\n        \"samples\": [\n          \"Franco Rossi\",\n          \"Jamil Dehlavi\",\n          \"Andrea Berloff\"\n        ],\n        \"semantic_type\": \"\",\n        \"description\": \"\"\n      }\n    },\n    {\n      \"column\": \"cast\",\n      \"properties\": {\n        \"dtype\": \"string\",\n        \"num_unique_values\": 23736,\n        \"samples\": [\n          \"['Leo McCarey', 'Mildred Cram', 'Cary Grant', 'Deborah Kerr', 'Richard Denning']\",\n          \"['K\\u00f4sei Amano', 'Nozomi Band\\u00f4', 'Shigeaki Kubo', 'Shintar\\u00f4 Akiyama', 'K\\u00f4sei Amano']\",\n          \"['Robert Sabaroff', 'Jim Brown', 'Diahann Carroll', 'Ernest Borgnine', 'Gordon Flemyng']\"\n        ],\n        \"semantic_type\": \"\",\n        \"description\": \"\"\n      }\n    },\n    {\n      \"column\": \"writer\",\n      \"properties\": {\n        \"dtype\": \"string\",\n        \"num_unique_values\": 15276,\n        \"samples\": [\n          \"Cris Loveless\",\n          \"Anand Gandhi\",\n          \"Mike Flanagan\"\n        ],\n        \"semantic_type\": \"\",\n        \"description\": \"\"\n      }\n    },\n    {\n      \"column\": \"year\",\n      \"properties\": {\n        \"dtype\": \"category\",\n        \"num_unique_values\": 134,\n        \"samples\": [\n          \"(XXXIII)\",\n          \"1975\",\n          \"2013\"\n        ],\n        \"semantic_type\": \"\",\n        \"description\": \"\"\n      }\n    },\n    {\n      \"column\": \"path\",\n      \"properties\": {\n        \"dtype\": \"string\",\n        \"num_unique_values\": 23922,\n        \"samples\": [\n          \"/title/tt0061722/\",\n          \"/title/tt7023644/\",\n          \"/title/tt17320574/\"\n        ],\n        \"semantic_type\": \"\",\n        \"description\": \"\"\n      }\n    }\n  ]\n}",
       "type": "dataframe",
       "variable_name": "df"
      },
      "text/html": [
       "\n",
       "  <div id=\"df-b211e43d-36b9-4593-ac4e-ee100c0364b6\" class=\"colab-df-container\">\n",
       "    <div>\n",
       "<style scoped>\n",
       "    .dataframe tbody tr th:only-of-type {\n",
       "        vertical-align: middle;\n",
       "    }\n",
       "\n",
       "    .dataframe tbody tr th {\n",
       "        vertical-align: top;\n",
       "    }\n",
       "\n",
       "    .dataframe thead th {\n",
       "        text-align: right;\n",
       "    }\n",
       "</style>\n",
       "<table border=\"1\" class=\"dataframe\">\n",
       "  <thead>\n",
       "    <tr style=\"text-align: right;\">\n",
       "      <th></th>\n",
       "      <th>title</th>\n",
       "      <th>runtime</th>\n",
       "      <th>rating</th>\n",
       "      <th>rating_count</th>\n",
       "      <th>genres</th>\n",
       "      <th>overview</th>\n",
       "      <th>keywords</th>\n",
       "      <th>director</th>\n",
       "      <th>cast</th>\n",
       "      <th>writer</th>\n",
       "      <th>year</th>\n",
       "      <th>path</th>\n",
       "    </tr>\n",
       "  </thead>\n",
       "  <tbody>\n",
       "    <tr>\n",
       "      <th>0</th>\n",
       "      <td>The Story of the Kelly Gang</td>\n",
       "      <td>1 hour 10 minutes</td>\n",
       "      <td>6.0</td>\n",
       "      <td>772</td>\n",
       "      <td>['Action', 'Adventure', 'Biography']</td>\n",
       "      <td>Story of Ned Kelly, an infamous 19th-century A...</td>\n",
       "      <td>['ned kelly', 'australia', 'historic figure', ...</td>\n",
       "      <td>Charles Tait</td>\n",
       "      <td>['Elizabeth Tait', 'John Tait', 'Nicholas Brie...</td>\n",
       "      <td>Charles Tait</td>\n",
       "      <td>1906</td>\n",
       "      <td>/title/tt0000574/</td>\n",
       "    </tr>\n",
       "    <tr>\n",
       "      <th>1</th>\n",
       "      <td>Fantômas - À l'ombre de la guillotine</td>\n",
       "      <td>not-released</td>\n",
       "      <td>6.9</td>\n",
       "      <td>2300</td>\n",
       "      <td>['Crime', 'Drama']</td>\n",
       "      <td>Inspector Juve is tasked to investigate and ca...</td>\n",
       "      <td>['silent film', 'france', 'hotel', 'duchess', ...</td>\n",
       "      <td>Louis Feuillade</td>\n",
       "      <td>['Louis Feuillade', 'Pierre Souvestre', 'René ...</td>\n",
       "      <td>Marcel Allain</td>\n",
       "      <td>1913</td>\n",
       "      <td>/title/tt0002844/</td>\n",
       "    </tr>\n",
       "    <tr>\n",
       "      <th>2</th>\n",
       "      <td>Cabiria</td>\n",
       "      <td>2 hours 28 minutes</td>\n",
       "      <td>7.1</td>\n",
       "      <td>3500</td>\n",
       "      <td>['Adventure', 'Drama', 'History']</td>\n",
       "      <td>Cabiria is a Roman child when her home is dest...</td>\n",
       "      <td>['carthage', 'slave', 'moloch', '3rd century b...</td>\n",
       "      <td>Giovanni Pastrone</td>\n",
       "      <td>['Titus Livius', 'Giovanni Pastrone', 'Italia ...</td>\n",
       "      <td>Gabriele D'Annunzio</td>\n",
       "      <td>1914</td>\n",
       "      <td>/title/tt0003740/</td>\n",
       "    </tr>\n",
       "    <tr>\n",
       "      <th>3</th>\n",
       "      <td>The Life of General Villa</td>\n",
       "      <td>not-released</td>\n",
       "      <td>6.7</td>\n",
       "      <td>65</td>\n",
       "      <td>['Action', 'Adventure', 'Biography']</td>\n",
       "      <td>The life and career of Panccho Villa from youn...</td>\n",
       "      <td>['chihuahua mexico', 'chihuahua', 'sonora mexi...</td>\n",
       "      <td>Christy Cabanne</td>\n",
       "      <td>['Frank E. Woods', 'Raoul Walsh', 'Eagle Eye',...</td>\n",
       "      <td>Raoul Walsh</td>\n",
       "      <td>1914</td>\n",
       "      <td>/title/tt0004223/</td>\n",
       "    </tr>\n",
       "    <tr>\n",
       "      <th>4</th>\n",
       "      <td>The Patchwork Girl of Oz</td>\n",
       "      <td>not-released</td>\n",
       "      <td>5.4</td>\n",
       "      <td>484</td>\n",
       "      <td>['Adventure', 'Family', 'Fantasy']</td>\n",
       "      <td>Ojo and Unc Nunkie are out of food, so they de...</td>\n",
       "      <td>['silent film', 'journey', 'magic wand', 'wiza...</td>\n",
       "      <td>J. Farrell MacDonald</td>\n",
       "      <td>['Violet MacMillan', 'Frank Moore', 'Raymond R...</td>\n",
       "      <td>L. Frank Baum</td>\n",
       "      <td>1914</td>\n",
       "      <td>/title/tt0004457/</td>\n",
       "    </tr>\n",
       "  </tbody>\n",
       "</table>\n",
       "</div>\n",
       "    <div class=\"colab-df-buttons\">\n",
       "\n",
       "  <div class=\"colab-df-container\">\n",
       "    <button class=\"colab-df-convert\" onclick=\"convertToInteractive('df-b211e43d-36b9-4593-ac4e-ee100c0364b6')\"\n",
       "            title=\"Convert this dataframe to an interactive table.\"\n",
       "            style=\"display:none;\">\n",
       "\n",
       "  <svg xmlns=\"http://www.w3.org/2000/svg\" height=\"24px\" viewBox=\"0 -960 960 960\">\n",
       "    <path d=\"M120-120v-720h720v720H120Zm60-500h600v-160H180v160Zm220 220h160v-160H400v160Zm0 220h160v-160H400v160ZM180-400h160v-160H180v160Zm440 0h160v-160H620v160ZM180-180h160v-160H180v160Zm440 0h160v-160H620v160Z\"/>\n",
       "  </svg>\n",
       "    </button>\n",
       "\n",
       "  <style>\n",
       "    .colab-df-container {\n",
       "      display:flex;\n",
       "      gap: 12px;\n",
       "    }\n",
       "\n",
       "    .colab-df-convert {\n",
       "      background-color: #E8F0FE;\n",
       "      border: none;\n",
       "      border-radius: 50%;\n",
       "      cursor: pointer;\n",
       "      display: none;\n",
       "      fill: #1967D2;\n",
       "      height: 32px;\n",
       "      padding: 0 0 0 0;\n",
       "      width: 32px;\n",
       "    }\n",
       "\n",
       "    .colab-df-convert:hover {\n",
       "      background-color: #E2EBFA;\n",
       "      box-shadow: 0px 1px 2px rgba(60, 64, 67, 0.3), 0px 1px 3px 1px rgba(60, 64, 67, 0.15);\n",
       "      fill: #174EA6;\n",
       "    }\n",
       "\n",
       "    .colab-df-buttons div {\n",
       "      margin-bottom: 4px;\n",
       "    }\n",
       "\n",
       "    [theme=dark] .colab-df-convert {\n",
       "      background-color: #3B4455;\n",
       "      fill: #D2E3FC;\n",
       "    }\n",
       "\n",
       "    [theme=dark] .colab-df-convert:hover {\n",
       "      background-color: #434B5C;\n",
       "      box-shadow: 0px 1px 3px 1px rgba(0, 0, 0, 0.15);\n",
       "      filter: drop-shadow(0px 1px 2px rgba(0, 0, 0, 0.3));\n",
       "      fill: #FFFFFF;\n",
       "    }\n",
       "  </style>\n",
       "\n",
       "    <script>\n",
       "      const buttonEl =\n",
       "        document.querySelector('#df-b211e43d-36b9-4593-ac4e-ee100c0364b6 button.colab-df-convert');\n",
       "      buttonEl.style.display =\n",
       "        google.colab.kernel.accessAllowed ? 'block' : 'none';\n",
       "\n",
       "      async function convertToInteractive(key) {\n",
       "        const element = document.querySelector('#df-b211e43d-36b9-4593-ac4e-ee100c0364b6');\n",
       "        const dataTable =\n",
       "          await google.colab.kernel.invokeFunction('convertToInteractive',\n",
       "                                                    [key], {});\n",
       "        if (!dataTable) return;\n",
       "\n",
       "        const docLinkHtml = 'Like what you see? Visit the ' +\n",
       "          '<a target=\"_blank\" href=https://colab.research.google.com/notebooks/data_table.ipynb>data table notebook</a>'\n",
       "          + ' to learn more about interactive tables.';\n",
       "        element.innerHTML = '';\n",
       "        dataTable['output_type'] = 'display_data';\n",
       "        await google.colab.output.renderOutput(dataTable, element);\n",
       "        const docLink = document.createElement('div');\n",
       "        docLink.innerHTML = docLinkHtml;\n",
       "        element.appendChild(docLink);\n",
       "      }\n",
       "    </script>\n",
       "  </div>\n",
       "\n",
       "\n",
       "<div id=\"df-c5408df6-5635-43af-84c1-360aa3244c42\">\n",
       "  <button class=\"colab-df-quickchart\" onclick=\"quickchart('df-c5408df6-5635-43af-84c1-360aa3244c42')\"\n",
       "            title=\"Suggest charts\"\n",
       "            style=\"display:none;\">\n",
       "\n",
       "<svg xmlns=\"http://www.w3.org/2000/svg\" height=\"24px\"viewBox=\"0 0 24 24\"\n",
       "     width=\"24px\">\n",
       "    <g>\n",
       "        <path d=\"M19 3H5c-1.1 0-2 .9-2 2v14c0 1.1.9 2 2 2h14c1.1 0 2-.9 2-2V5c0-1.1-.9-2-2-2zM9 17H7v-7h2v7zm4 0h-2V7h2v10zm4 0h-2v-4h2v4z\"/>\n",
       "    </g>\n",
       "</svg>\n",
       "  </button>\n",
       "\n",
       "<style>\n",
       "  .colab-df-quickchart {\n",
       "      --bg-color: #E8F0FE;\n",
       "      --fill-color: #1967D2;\n",
       "      --hover-bg-color: #E2EBFA;\n",
       "      --hover-fill-color: #174EA6;\n",
       "      --disabled-fill-color: #AAA;\n",
       "      --disabled-bg-color: #DDD;\n",
       "  }\n",
       "\n",
       "  [theme=dark] .colab-df-quickchart {\n",
       "      --bg-color: #3B4455;\n",
       "      --fill-color: #D2E3FC;\n",
       "      --hover-bg-color: #434B5C;\n",
       "      --hover-fill-color: #FFFFFF;\n",
       "      --disabled-bg-color: #3B4455;\n",
       "      --disabled-fill-color: #666;\n",
       "  }\n",
       "\n",
       "  .colab-df-quickchart {\n",
       "    background-color: var(--bg-color);\n",
       "    border: none;\n",
       "    border-radius: 50%;\n",
       "    cursor: pointer;\n",
       "    display: none;\n",
       "    fill: var(--fill-color);\n",
       "    height: 32px;\n",
       "    padding: 0;\n",
       "    width: 32px;\n",
       "  }\n",
       "\n",
       "  .colab-df-quickchart:hover {\n",
       "    background-color: var(--hover-bg-color);\n",
       "    box-shadow: 0 1px 2px rgba(60, 64, 67, 0.3), 0 1px 3px 1px rgba(60, 64, 67, 0.15);\n",
       "    fill: var(--button-hover-fill-color);\n",
       "  }\n",
       "\n",
       "  .colab-df-quickchart-complete:disabled,\n",
       "  .colab-df-quickchart-complete:disabled:hover {\n",
       "    background-color: var(--disabled-bg-color);\n",
       "    fill: var(--disabled-fill-color);\n",
       "    box-shadow: none;\n",
       "  }\n",
       "\n",
       "  .colab-df-spinner {\n",
       "    border: 2px solid var(--fill-color);\n",
       "    border-color: transparent;\n",
       "    border-bottom-color: var(--fill-color);\n",
       "    animation:\n",
       "      spin 1s steps(1) infinite;\n",
       "  }\n",
       "\n",
       "  @keyframes spin {\n",
       "    0% {\n",
       "      border-color: transparent;\n",
       "      border-bottom-color: var(--fill-color);\n",
       "      border-left-color: var(--fill-color);\n",
       "    }\n",
       "    20% {\n",
       "      border-color: transparent;\n",
       "      border-left-color: var(--fill-color);\n",
       "      border-top-color: var(--fill-color);\n",
       "    }\n",
       "    30% {\n",
       "      border-color: transparent;\n",
       "      border-left-color: var(--fill-color);\n",
       "      border-top-color: var(--fill-color);\n",
       "      border-right-color: var(--fill-color);\n",
       "    }\n",
       "    40% {\n",
       "      border-color: transparent;\n",
       "      border-right-color: var(--fill-color);\n",
       "      border-top-color: var(--fill-color);\n",
       "    }\n",
       "    60% {\n",
       "      border-color: transparent;\n",
       "      border-right-color: var(--fill-color);\n",
       "    }\n",
       "    80% {\n",
       "      border-color: transparent;\n",
       "      border-right-color: var(--fill-color);\n",
       "      border-bottom-color: var(--fill-color);\n",
       "    }\n",
       "    90% {\n",
       "      border-color: transparent;\n",
       "      border-bottom-color: var(--fill-color);\n",
       "    }\n",
       "  }\n",
       "</style>\n",
       "\n",
       "  <script>\n",
       "    async function quickchart(key) {\n",
       "      const quickchartButtonEl =\n",
       "        document.querySelector('#' + key + ' button');\n",
       "      quickchartButtonEl.disabled = true;  // To prevent multiple clicks.\n",
       "      quickchartButtonEl.classList.add('colab-df-spinner');\n",
       "      try {\n",
       "        const charts = await google.colab.kernel.invokeFunction(\n",
       "            'suggestCharts', [key], {});\n",
       "      } catch (error) {\n",
       "        console.error('Error during call to suggestCharts:', error);\n",
       "      }\n",
       "      quickchartButtonEl.classList.remove('colab-df-spinner');\n",
       "      quickchartButtonEl.classList.add('colab-df-quickchart-complete');\n",
       "    }\n",
       "    (() => {\n",
       "      let quickchartButtonEl =\n",
       "        document.querySelector('#df-c5408df6-5635-43af-84c1-360aa3244c42 button');\n",
       "      quickchartButtonEl.style.display =\n",
       "        google.colab.kernel.accessAllowed ? 'block' : 'none';\n",
       "    })();\n",
       "  </script>\n",
       "</div>\n",
       "\n",
       "    </div>\n",
       "  </div>\n"
      ],
      "text/plain": [
       "                                   title             runtime  rating  \\\n",
       "0            The Story of the Kelly Gang   1 hour 10 minutes     6.0   \n",
       "1  Fantômas - À l'ombre de la guillotine        not-released     6.9   \n",
       "2                                Cabiria  2 hours 28 minutes     7.1   \n",
       "3              The Life of General Villa        not-released     6.7   \n",
       "4               The Patchwork Girl of Oz        not-released     5.4   \n",
       "\n",
       "   rating_count                                genres  \\\n",
       "0           772  ['Action', 'Adventure', 'Biography']   \n",
       "1          2300                    ['Crime', 'Drama']   \n",
       "2          3500     ['Adventure', 'Drama', 'History']   \n",
       "3            65  ['Action', 'Adventure', 'Biography']   \n",
       "4           484    ['Adventure', 'Family', 'Fantasy']   \n",
       "\n",
       "                                            overview  \\\n",
       "0  Story of Ned Kelly, an infamous 19th-century A...   \n",
       "1  Inspector Juve is tasked to investigate and ca...   \n",
       "2  Cabiria is a Roman child when her home is dest...   \n",
       "3  The life and career of Panccho Villa from youn...   \n",
       "4  Ojo and Unc Nunkie are out of food, so they de...   \n",
       "\n",
       "                                            keywords              director  \\\n",
       "0  ['ned kelly', 'australia', 'historic figure', ...          Charles Tait   \n",
       "1  ['silent film', 'france', 'hotel', 'duchess', ...       Louis Feuillade   \n",
       "2  ['carthage', 'slave', 'moloch', '3rd century b...     Giovanni Pastrone   \n",
       "3  ['chihuahua mexico', 'chihuahua', 'sonora mexi...       Christy Cabanne   \n",
       "4  ['silent film', 'journey', 'magic wand', 'wiza...  J. Farrell MacDonald   \n",
       "\n",
       "                                                cast               writer  \\\n",
       "0  ['Elizabeth Tait', 'John Tait', 'Nicholas Brie...         Charles Tait   \n",
       "1  ['Louis Feuillade', 'Pierre Souvestre', 'René ...        Marcel Allain   \n",
       "2  ['Titus Livius', 'Giovanni Pastrone', 'Italia ...  Gabriele D'Annunzio   \n",
       "3  ['Frank E. Woods', 'Raoul Walsh', 'Eagle Eye',...          Raoul Walsh   \n",
       "4  ['Violet MacMillan', 'Frank Moore', 'Raymond R...        L. Frank Baum   \n",
       "\n",
       "   year               path  \n",
       "0  1906  /title/tt0000574/  \n",
       "1  1913  /title/tt0002844/  \n",
       "2  1914  /title/tt0003740/  \n",
       "3  1914  /title/tt0004223/  \n",
       "4  1914  /title/tt0004457/  "
      ]
     },
     "execution_count": 4,
     "metadata": {},
     "output_type": "execute_result"
    }
   ],
   "source": [
    "try:\n",
    "    df = pd.read_csv(\"datasets/content_filtering/25k_imdb_movie_dataset.csv\")\n",
    "except:\n",
    "    import requests\n",
    "    # download the file\n",
    "    url = 'https://redis-ai-resources.s3.us-east-2.amazonaws.com/recommenders/datasets/content-filtering/25k_imdb_movie_dataset.csv'\n",
    "    r = requests.get(url)\n",
    "\n",
    "    #save the file as a csv\n",
    "    if not os.path.exists('./datasets/content_filtering'):\n",
    "        os.makedirs('./datasets/content_filtering')\n",
    "    with open('./datasets/content_filtering/25k_imdb_movie_dataset.csv', 'wb') as f:\n",
    "        f.write(r.content)\n",
    "    df = pd.read_csv(\"datasets/content_filtering/25k_imdb_movie_dataset.csv\")\n",
    "\n",
    "df.head()"
   ]
  },
  {
   "cell_type": "markdown",
   "metadata": {
    "id": "EwLWwLBSy4oQ"
   },
   "source": [
    "As with any machine learning task, the first step is to clean our data.\n",
    "\n",
    "We'll drop some columns that we don't plan to use, and fill missing values with some reasonable defaults.\n",
    "\n",
    "Lastly, we'll do a quick check to make sure we've filled in all the null and missing values."
   ]
  },
  {
   "cell_type": "code",
   "execution_count": 5,
   "metadata": {
    "colab": {
     "base_uri": "https://localhost:8080/",
     "height": 366
    },
    "id": "3MGGS677y4oQ",
    "outputId": "34db9d84-4557-49ca-f227-24e0c95e6268"
   },
   "outputs": [
    {
     "data": {
      "text/html": [
       "<div>\n",
       "<style scoped>\n",
       "    .dataframe tbody tr th:only-of-type {\n",
       "        vertical-align: middle;\n",
       "    }\n",
       "\n",
       "    .dataframe tbody tr th {\n",
       "        vertical-align: top;\n",
       "    }\n",
       "\n",
       "    .dataframe thead th {\n",
       "        text-align: right;\n",
       "    }\n",
       "</style>\n",
       "<table border=\"1\" class=\"dataframe\">\n",
       "  <thead>\n",
       "    <tr style=\"text-align: right;\">\n",
       "      <th></th>\n",
       "      <th>0</th>\n",
       "    </tr>\n",
       "  </thead>\n",
       "  <tbody>\n",
       "    <tr>\n",
       "      <th>title</th>\n",
       "      <td>0</td>\n",
       "    </tr>\n",
       "    <tr>\n",
       "      <th>rating</th>\n",
       "      <td>0</td>\n",
       "    </tr>\n",
       "    <tr>\n",
       "      <th>rating_count</th>\n",
       "      <td>0</td>\n",
       "    </tr>\n",
       "    <tr>\n",
       "      <th>genres</th>\n",
       "      <td>0</td>\n",
       "    </tr>\n",
       "    <tr>\n",
       "      <th>overview</th>\n",
       "      <td>0</td>\n",
       "    </tr>\n",
       "    <tr>\n",
       "      <th>keywords</th>\n",
       "      <td>0</td>\n",
       "    </tr>\n",
       "    <tr>\n",
       "      <th>director</th>\n",
       "      <td>0</td>\n",
       "    </tr>\n",
       "    <tr>\n",
       "      <th>cast</th>\n",
       "      <td>0</td>\n",
       "    </tr>\n",
       "    <tr>\n",
       "      <th>year</th>\n",
       "      <td>0</td>\n",
       "    </tr>\n",
       "  </tbody>\n",
       "</table>\n",
       "</div><br><label><b>dtype:</b> int64</label>"
      ],
      "text/plain": [
       "title           0\n",
       "rating          0\n",
       "rating_count    0\n",
       "genres          0\n",
       "overview        0\n",
       "keywords        0\n",
       "director        0\n",
       "cast            0\n",
       "year            0\n",
       "dtype: int64"
      ]
     },
     "execution_count": 5,
     "metadata": {},
     "output_type": "execute_result"
    }
   ],
   "source": [
    "roman_numerals = ['(I)','(II)','(III)','(IV)', '(V)', '(VI)', '(VII)', '(VIII)', '(IX)', '(XI)', '(XII)', '(XVI)', '(XIV)', '(XXXIII)', '(XVIII)', '(XIX)', '(XXVII)']\n",
    "\n",
    "def replace_year(x):\n",
    "    if x in roman_numerals:\n",
    "        return 1998 # the average year of the dataset\n",
    "    else:\n",
    "        return x\n",
    "\n",
    "df.drop(columns=['runtime', 'writer', 'path'], inplace=True)\n",
    "df['year'] = df['year'].apply(replace_year)             # replace roman numerals with average year\n",
    "df['genres'] = df['genres'].apply(ast.literal_eval)     # convert string representation of list to list\n",
    "df['keywords'] = df['keywords'].apply(ast.literal_eval) # convert string representation of list to list\n",
    "df['cast'] = df['cast'].apply(ast.literal_eval)         # convert string representation of list to list\n",
    "df = df[~df['overview'].isnull()]                       # drop rows with missing overviews\n",
    "df = df[~df['overview'].isin(['none'])]                 # drop rows with 'none' as the overview\n",
    "\n",
    "# make sure we've filled all missing values\n",
    "df.isnull().sum()"
   ]
  },
  {
   "cell_type": "markdown",
   "metadata": {
    "id": "wvP1wPsky4oQ"
   },
   "source": [
    "## Generate Vector Embeddings"
   ]
  },
  {
   "cell_type": "markdown",
   "metadata": {
    "id": "cvrNi2mEy4oQ"
   },
   "source": [
    "Since we movie similarity as semantic similarity of movie descriptions we need a way to generate semantic vector embeddings of these descriptions.\n",
    "\n",
    "RedisVL supports many different embedding generators. For this example we'll use a HuggingFace model that is rated well for semantic similarity use cases.\n",
    "\n",
    "RedisVL also supports complex query logic, beyond just vector similarity. To showcase this we'll generate an embedding from each movies' `overview` text and list of `plot keywords`,\n",
    "and use the remaining fields like, `genres`, `year`, and `rating` as filterable fields to target our vector queries to.\n"
   ]
  },
  {
   "cell_type": "code",
   "execution_count": 6,
   "metadata": {
    "colab": {
     "base_uri": "https://localhost:8080/",
     "height": 53
    },
    "id": "ha6fiptly4oQ",
    "outputId": "db080921-c6ee-4b79-cf26-094409916ca2"
   },
   "outputs": [
    {
     "data": {
      "application/vnd.google.colaboratory.intrinsic+json": {
       "type": "string"
      },
      "text/plain": [
       "'The Story of the Kelly Gang. Story of Ned Kelly, an infamous 19th-century Australian outlaw. ned kelly, australia, historic figure, australian western, first of its kind, directorial debut, australian history, 19th century, victoria australia, australian'"
      ]
     },
     "execution_count": 6,
     "metadata": {},
     "output_type": "execute_result"
    }
   ],
   "source": [
    "# add a column to the dataframe with all the text we want to embed\n",
    "df[\"full_text\"] = df[\"title\"] + \". \" + df[\"overview\"] + \" \" + df['keywords'].apply(lambda x: ', '.join(x))\n",
    "df[\"full_text\"][0]"
   ]
  },
  {
   "cell_type": "code",
   "execution_count": null,
   "metadata": {
    "id": "cT-RsO5Uy4oQ"
   },
   "outputs": [],
   "source": [
    "# NBVAL_SKIP\n",
    "# # this step will take a while, but only needs to be done once for your entire dataset\n",
    "# currently taking 10 minutes to run, so we've gone ahead and saved the vectors to a file for you\n",
    "# if you don't want to wait, you can skip the cell and load the vectors from the file in the next cell\n",
    "from redisvl.utils.vectorize import HFTextVectorizer\n",
    "\n",
    "vectorizer = HFTextVectorizer(model='sentence-transformers/paraphrase-MiniLM-L6-v2')\n",
    "\n",
    "df['embedding'] = df['full_text'].apply(lambda x: vectorizer.embed(x, as_buffer=False))\n",
    "pickle.dump(df['embedding'], open('datasets/content_filtering/text_embeddings.pkl', 'wb'))"
   ]
  },
  {
   "cell_type": "code",
   "execution_count": 7,
   "metadata": {
    "id": "Dyxs5dyWy4oQ"
   },
   "outputs": [],
   "source": [
    "try:\n",
    "    with open('datasets/content_filtering/text_embeddings.pkl', 'rb') as vector_file:\n",
    "        df['embedding'] = pickle.load(vector_file)\n",
    "except:\n",
    "    embeddings_url = 'https://redis-ai-resources.s3.us-east-2.amazonaws.com/recommenders/datasets/content-filtering/text_embeddings.pkl'\n",
    "    r = requests.get(embeddings_url)\n",
    "    with open('./datasets/content_filtering/text_embeddings.pkl', 'wb') as f:\n",
    "        f.write(r.content)\n",
    "    with open('datasets/content_filtering/text_embeddings.pkl', 'rb') as vector_file:\n",
    "        df['embedding'] = pickle.load(vector_file)"
   ]
  },
  {
   "cell_type": "markdown",
   "metadata": {
    "id": "Fvc8MxVxy4oQ"
   },
   "source": [
    "## Define our Search Schema\n",
    "Our data is now ready to be loaded into Redis. The last step is to define our search index schema that specifies each of our data fields and the size and type of our embedding vectors.\n",
    "\n",
    "We'll load this from the accompanying `content_filtering_schema.yaml` file."
   ]
  },
  {
   "cell_type": "markdown",
   "metadata": {
    "id": "xIyHzviuy4oQ"
   },
   "source": [
    "This schema defines what each entry will look like within Redis. It will need to specify the name of each field, like `title`, `rating`, and `rating-count`, as well as the type of each field, like `text` or `numeric`.\n",
    "\n",
    "The vector component of each entry similarly needs its dimension (dims), distance metric, algorithm and datatype (dtype) attributes specified."
   ]
  },
  {
   "cell_type": "code",
   "execution_count": 8,
   "metadata": {
    "id": "fzfELmSjy4oR"
   },
   "outputs": [],
   "source": [
    "from redis import Redis\n",
    "from redisvl.schema import IndexSchema\n",
    "from redisvl.index import SearchIndex\n",
    "\n",
    "# define a redis client\n",
    "client = Redis.from_url(REDIS_URL)\n",
    "\n",
    "# define our movie schema\n",
    "movie_schema = IndexSchema.from_dict(\n",
    "    {\n",
    "        'index': {\n",
    "            'name': 'movies_recommendation',\n",
    "            'prefix': 'movie',\n",
    "            'storage_type': 'json'\n",
    "        },\n",
    "        'fields': [\n",
    "            {'name': 'title', 'type': 'text'},\n",
    "            {'name': 'rating', 'type': 'numeric'},\n",
    "            {'name': 'rating_count', 'type': 'numeric'},\n",
    "            {'name': 'genres', 'type': 'tag'},\n",
    "            {'name': 'overview', 'type': 'text'},\n",
    "            {'name': 'keywords', 'type': 'tag'},\n",
    "            {'name': 'cast', 'type': 'tag'},\n",
    "            {'name': 'writer', 'type': 'text'},\n",
    "            {'name': 'year', 'type': 'numeric'},\n",
    "            {'name': 'full_text', 'type': 'text'},\n",
    "            {\n",
    "                'name': 'embedding',\n",
    "                'type': 'vector',\n",
    "                'attrs': {\n",
    "                    'dims': 384,\n",
    "                    'algorithm': 'flat',\n",
    "                    'datatype': 'float32',\n",
    "                    'distance_metric': 'cosine'\n",
    "                }\n",
    "            }\n",
    "        ]\n",
    "})\n",
    "\n",
    "index = SearchIndex(movie_schema, redis_client=client)\n",
    "index.create(overwrite=True, drop=True)"
   ]
  },
  {
   "cell_type": "markdown",
   "metadata": {
    "id": "L9-aPwzby4oR"
   },
   "source": [
    "## Load products into vector DB\n",
    "Now that we have all our data cleaned and a defined schema we can load the data into RedisVL.\n",
    "\n",
    "We need to convert this data into a format that RedisVL can understand, which is a list of dictionaries.\n"
   ]
  },
  {
   "cell_type": "code",
   "execution_count": 9,
   "metadata": {
    "id": "Z45nA5Zoy4oR"
   },
   "outputs": [],
   "source": [
    "data = df.to_dict(orient='records')\n",
    "keys = index.load(data)"
   ]
  },
  {
   "cell_type": "markdown",
   "metadata": {
    "id": "IL8n0CxAy4oR"
   },
   "source": [
    "## Querying to get recommendations\n",
    "\n",
    "We now have a working content filtering recommender system, all we need a starting point, so let's say we want to find movies similar to the movie with the title \"20,000 Leagues Under the Sea\"\n",
    "\n",
    "We can use the title to find the movie in the dataset and then use the vector to find similar movies."
   ]
  },
  {
   "cell_type": "code",
   "execution_count": 10,
   "metadata": {
    "colab": {
     "base_uri": "https://localhost:8080/"
    },
    "id": "8tmwZ9fUy4oR",
    "outputId": "8624ae3c-9384-42fd-f8c8-e87f959c2bba"
   },
   "outputs": [
    {
     "name": "stdout",
     "output_type": "stream",
     "text": [
      "{'id': 'movie:345589922cb348a098930568d5e7d02a', 'vector_distance': '0.584869861603', 'title': 'The Odyssey', 'overview': 'The aquatic adventure of the highly influential and fearlessly ambitious pioneer, innovator, filmmaker, researcher, and conservationist, Jacques-Yves Cousteau, covers roughly thirty years of an inarguably rich in achievements life.'}\n",
      "{'id': 'movie:5147986e894d43879f4d90d6ed85dfd0', 'vector_distance': '0.633292078972', 'title': 'The Inventor', 'overview': 'Inventing flying contraptions, war machines and studying cadavers, Leonardo da Vinci tackles the meaning of life itself with the help of French princess Marguerite de Nevarre.'}\n",
      "{'id': 'movie:da53156795ab4026b51e9dde88b02fa6', 'vector_distance': '0.658123493195', 'title': 'Ruin', 'overview': 'The film follows a nameless ex-Nazi captain who navigates the ruins of post-WWII Germany determined to atone for his crimes during the war by hunting down the surviving members of his former SS Death Squad.'}\n",
      "{'id': 'movie:3e14e33c09944a70810aa7e24a2f78ef', 'vector_distance': '0.688094377518', 'title': 'The Raven', 'overview': 'A man with incredible powers is sought by the government and military.'}\n",
      "{'id': 'movie:2a4c39f73e6b49e8b32ea1ce456e5833', 'vector_distance': '0.694671332836', 'title': 'Get the Girl', 'overview': 'Sebastain \"Bash\" Danye, a legendary gun for hire hangs up his weapon to retire peacefully with his \\'it\\'s complicated\\' partner Renee. Their quiet lives are soon interrupted when they find an unconscious woman on their property, Maddie. While nursing her back to health, some bad me... Read all'}\n"
     ]
    }
   ],
   "source": [
    "from redisvl.query import RangeQuery\n",
    "\n",
    "query_vector = df[df['title'] == '20,000 Leagues Under the Sea']['embedding'].values[0] # one good match\n",
    "\n",
    "query = RangeQuery(\n",
    "    vector=query_vector,\n",
    "    vector_field_name='embedding',\n",
    "    num_results=5,\n",
    "    distance_threshold=0.7,\n",
    "    return_fields=['title', 'overview', 'vector_distance']\n",
    ")\n",
    "\n",
    "results = index.query(query)\n",
    "for r in results:\n",
    "    print(r)"
   ]
  },
  {
   "cell_type": "markdown",
   "metadata": {
    "id": "pe6YzwT4y4oR"
   },
   "source": [
    "## Generating user recommendations\n",
    "This systems works, but we can make it even better.\n",
    "\n",
    "Production recommender systems often have fields that can be configured. Users can specify if they want to see a romantic comedy or a horror film, or only see new releases.\n",
    "\n",
    "Let's go ahead and add this functionality by using the tags we've defined in our schema."
   ]
  },
  {
   "cell_type": "code",
   "execution_count": 11,
   "metadata": {
    "id": "wcRNJ4evy4oR"
   },
   "outputs": [],
   "source": [
    "from redisvl.query.filter import Tag, Num, Text\n",
    "\n",
    "def make_filter(genres=None, release_year=None, keywords=None):\n",
    "    flexible_filter = (\n",
    "        (Num(\"year\") > release_year) &  # only show movies released after this year\n",
    "        (Tag(\"genres\") == genres) &     # only show movies that match at least one in list of genres\n",
    "        (Text(\"full_text\") % keywords)  # only show movies that contain at least one of the keywords\n",
    "    )\n",
    "    return flexible_filter\n",
    "\n",
    "def get_recommendations(movie_vector, num_results=5, distance=0.6, filter=None):\n",
    "    query = RangeQuery(\n",
    "        vector=movie_vector,\n",
    "        vector_field_name='embedding',\n",
    "        num_results=num_results,\n",
    "        distance_threshold=distance,\n",
    "        return_fields=['title', 'overview', 'genres'],\n",
    "        filter_expression=filter,\n",
    "    )\n",
    "\n",
    "    recommendations = index.query(query)\n",
    "    return recommendations"
   ]
  },
  {
   "cell_type": "markdown",
   "metadata": {
    "id": "ulR_eyqCy4oR"
   },
   "source": [
    "As a final demonstration we'll find movies similar to the classic horror film 'Nosferatu'.\n",
    "The process has 3 steps:\n",
    "- fetch the vector embedding of our film Nosferatu\n",
    "- optionally define any hard filters we want. Here we'll specify we want horror movies made on or after 1990\n",
    "- perform the vector range query to find similar movies that meet our filter criteria"
   ]
  },
  {
   "cell_type": "code",
   "execution_count": 12,
   "metadata": {
    "colab": {
     "base_uri": "https://localhost:8080/"
    },
    "id": "TOb-p4p3y4oR",
    "outputId": "e20dd31d-31fe-4dfc-e586-2e62f8e097b2"
   },
   "outputs": [
    {
     "name": "stdout",
     "output_type": "stream",
     "text": [
      "- Wolfman:\n",
      "\t A man becomes afflicted by an ancient curse after he is bitten by a werewolf.\n",
      "\t Genres: [\"Horror\"]\n",
      "- Off Season:\n",
      "\t Tenn's relentless search for his father takes him back to his childhood town only to find a community gripped by fear. As he travels deeper into the bitter winter wilderness of the town he uncovers a dreadful secret buried long ago.\n",
      "\t Genres: [\"Horror\",\"Mystery\",\"Thriller\"]\n",
      "- Pieces:\n",
      "\t The co-eds of a Boston college campus are targeted by a mysterious killer who is creating a human jigsaw puzzle from their body parts.\n",
      "\t Genres: [\"Horror\",\"Mystery\",\"Thriller\"]\n",
      "- Cursed:\n",
      "\t A prominent psychiatrist at a state run hospital wrestles with madness and a dark supernatural force as he and a female police detective race to stop an escaped patient from butchering five people held hostage in a remote mansion.\n",
      "\t Genres: [\"Horror\",\"Thriller\"]\n",
      "- The Home:\n",
      "\t The Home unfolds after a young man is nearly killed during an accident that leaves him physically and emotionally scarred. To recuperate, he is taken to a secluded nursing home where the elderly residents appear to be suffering from delusions. But after witnessing a violent attac... Read all\n",
      "\t Genres: [\"Action\",\"Fantasy\",\"Horror\"]\n"
     ]
    }
   ],
   "source": [
    "movie_vector = df[df['title'] == 'Nosferatu']['embedding'].values[0]\n",
    "\n",
    "filter = make_filter(genres=['Horror'], release_year=1990)\n",
    "\n",
    "recs = get_recommendations(movie_vector, distance=0.8, filter=filter)\n",
    "\n",
    "for rec in recs:\n",
    "    print(f\"- {rec['title']}:\\n\\t {rec['overview']}\\n\\t Genres: {rec['genres']}\")"
   ]
  },
  {
   "cell_type": "markdown",
   "metadata": {
    "id": "FVQYQ26Sy4oR"
   },
   "source": [
    "### Now you have a working content filtering recommender system with Redis.\n",
    "Don't forget to clean up once you're done."
   ]
  },
  {
   "cell_type": "code",
   "execution_count": 13,
   "metadata": {
    "colab": {
     "base_uri": "https://localhost:8080/"
    },
    "id": "Iv-SSFgUy4oR",
    "outputId": "33bb43f1-60e5-4d22-a283-2e2f7a87a612"
   },
   "outputs": [
    {
     "name": "stdout",
     "output_type": "stream",
     "text": [
      "Deleted 143 keys\n"
     ]
    }
   ],
   "source": [
    "# clean up your index\n",
    "while remaining := index.clear():\n",
    "    print(f\"Deleted {remaining} keys\")"
   ]
  }
 ],
 "metadata": {
  "colab": {
   "provenance": []
  },
  "kernelspec": {
   "display_name": "redis-ai-res",
   "language": "python",
   "name": "python3"
  },
  "language_info": {
   "codemirror_mode": {
    "name": "ipython",
    "version": 3
   },
   "file_extension": ".py",
   "mimetype": "text/x-python",
   "name": "python",
   "nbconvert_exporter": "python",
   "pygments_lexer": "ipython3",
   "version": "3.11.10"
  }
 },
 "nbformat": 4,
 "nbformat_minor": 0
}
