{
 "cells": [
  {
   "cell_type": "markdown",
   "metadata": {},
   "source": [
    "# System Instructions: Crafting Effective System Prompts\n",
    "\n",
    "## Introduction\n",
    "\n",
    "In this notebook, you'll learn how to craft effective system prompts that define your agent's behavior, personality, and capabilities. System instructions are the foundation of your agent's context - they tell the LLM what it is, what it can do, and how it should behave.\n",
    "\n",
    "### What You'll Learn\n",
    "\n",
    "- What system instructions are and why they matter\n",
    "- What belongs in system context vs. retrieved context\n",
    "- How to structure effective system prompts\n",
    "- How to set agent personality and constraints\n",
    "- How different instructions affect agent behavior\n",
    "\n",
    "### Prerequisites\n",
    "\n",
    "- Completed Section 1 notebooks\n",
    "- Redis 8 running locally\n",
    "- OpenAI API key set"
   ]
  },
  {
   "cell_type": "markdown",
   "metadata": {},
   "source": [
    "## Concepts: System Instructions\n",
    "\n",
    "### What Are System Instructions?\n",
    "\n",
    "System instructions (also called system prompts) are the **persistent context** that defines your agent's identity and behavior. They are included in every conversation turn and tell the LLM:\n",
    "\n",
    "1. **Who it is** - Role and identity\n",
    "2. **What it can do** - Capabilities and tools\n",
    "3. **How it should behave** - Personality and constraints\n",
    "4. **What it knows** - Domain knowledge and context\n",
    "\n",
    "### System Context vs. Retrieved Context\n",
    "\n",
    "| System Context | Retrieved Context |\n",
    "|----------------|-------------------|\n",
    "| **Static** - Same for every turn | **Dynamic** - Changes per query |\n",
    "| **Role & behavior** | **Specific facts** |\n",
    "| **Always included** | **Conditionally included** |\n",
    "| **Examples:** Agent role, capabilities, guidelines | **Examples:** Course details, user preferences, memories |\n",
    "\n",
    "### Why System Instructions Matter\n",
    "\n",
    "Good system instructions:\n",
    "- ✅ Keep the agent focused on its purpose\n",
    "- ✅ Prevent unwanted behaviors\n",
    "- ✅ Ensure consistent personality\n",
    "- ✅ Guide tool usage\n",
    "- ✅ Set user expectations\n",
    "\n",
    "Poor system instructions:\n",
    "- ❌ Lead to off-topic responses\n",
    "- ❌ Cause inconsistent behavior\n",
    "- ❌ Result in tool misuse\n",
    "- ❌ Create confused or unhelpful agents"
   ]
  },
  {
   "cell_type": "markdown",
   "metadata": {},
   "source": [
    "## Setup"
   ]
  },
  {
   "cell_type": "code",
   "execution_count": null,
   "metadata": {},
   "outputs": [],
   "source": [
    "import os\n",
    "from langchain_openai import ChatOpenAI\n",
    "from langchain_core.messages import SystemMessage, HumanMessage\n",
    "\n",
    "# Initialize LLM\n",
    "llm = ChatOpenAI(model=\"gpt-4o\", temperature=0.7)\n",
    "\n",
    "print(\"✅ Setup complete!\")"
   ]
  },
  {
   "cell_type": "markdown",
   "metadata": {},
   "source": [
    "## Hands-on: Building System Instructions\n",
    "\n",
    "Let's build system instructions for our Redis University Class Agent step by step."
   ]
  },
  {
   "cell_type": "markdown",
   "metadata": {},
   "source": [
    "### Example 1: Minimal System Instructions\n",
    "\n",
    "Let's start with the bare minimum and see what happens."
   ]
  },
  {
   "cell_type": "code",
   "execution_count": null,
   "metadata": {},
   "outputs": [],
   "source": [
    "# Minimal system prompt\n",
    "minimal_prompt = \"You are a helpful assistant.\"\n",
    "\n",
    "# Test it\n",
    "messages = [\n",
    "    SystemMessage(content=minimal_prompt),\n",
    "    HumanMessage(content=\"I need help planning my classes for next semester.\")\n",
    "]\n",
    "\n",
    "response = llm.invoke(messages)\n",
    "print(\"Response with minimal instructions:\")\n",
    "print(response.content)\n",
    "print(\"\\n\" + \"=\"*80 + \"\\n\")"
   ]
  },
  {
   "cell_type": "markdown",
   "metadata": {},
   "source": [
    "**Problem:** The agent doesn't know it's a class scheduling agent. It might give generic advice instead of using our course catalog and tools."
   ]
  },
  {
   "cell_type": "markdown",
   "metadata": {},
   "source": [
    "### Example 2: Adding Role and Purpose"
   ]
  },
  {
   "cell_type": "code",
   "execution_count": null,
   "metadata": {},
   "outputs": [],
   "source": [
    "# Add role and purpose\n",
    "role_prompt = \"\"\"You are the Redis University Class Agent.\n",
    "\n",
    "Your role is to help students:\n",
    "- Find courses that match their interests and requirements\n",
    "- Plan their academic schedule\n",
    "- Check prerequisites and eligibility\n",
    "- Get personalized course recommendations\n",
    "\"\"\"\n",
    "\n",
    "# Test it\n",
    "messages = [\n",
    "    SystemMessage(content=role_prompt),\n",
    "    HumanMessage(content=\"I need help planning my classes for next semester.\")\n",
    "]\n",
    "\n",
    "response = llm.invoke(messages)\n",
    "print(\"Response with role and purpose:\")\n",
    "print(response.content)\n",
    "print(\"\\n\" + \"=\"*80 + \"\\n\")"
   ]
  },
  {
   "cell_type": "markdown",
   "metadata": {},
   "source": [
    "**Better!** The agent now understands its role, but it still doesn't know about our tools or how to behave."
   ]
  },
  {
   "cell_type": "markdown",
   "metadata": {},
   "source": [
    "### Example 3: Adding Behavioral Guidelines"
   ]
  },
  {
   "cell_type": "code",
   "execution_count": null,
   "metadata": {},
   "outputs": [],
   "source": [
    "# Add behavioral guidelines\n",
    "behavior_prompt = \"\"\"You are the Redis University Class Agent.\n",
    "\n",
    "Your role is to help students:\n",
    "- Find courses that match their interests and requirements\n",
    "- Plan their academic schedule\n",
    "- Check prerequisites and eligibility\n",
    "- Get personalized course recommendations\n",
    "\n",
    "Guidelines:\n",
    "- Be helpful, friendly, and encouraging\n",
    "- Ask clarifying questions when needed\n",
    "- Provide specific course recommendations with details\n",
    "- Explain prerequisites and requirements clearly\n",
    "- Stay focused on course planning and scheduling\n",
    "- If asked about topics outside your domain, politely redirect to course planning\n",
    "\"\"\"\n",
    "\n",
    "# Test with an off-topic question\n",
    "messages = [\n",
    "    SystemMessage(content=behavior_prompt),\n",
    "    HumanMessage(content=\"What's the weather like today?\")\n",
    "]\n",
    "\n",
    "response = llm.invoke(messages)\n",
    "print(\"Response to off-topic question:\")\n",
    "print(response.content)\n",
    "print(\"\\n\" + \"=\"*80 + \"\\n\")"
   ]
  },
  {
   "cell_type": "markdown",
   "metadata": {},
   "source": [
    "**Great!** The agent now stays focused on its purpose and redirects off-topic questions."
   ]
  },
  {
   "cell_type": "markdown",
   "metadata": {},
   "source": [
    "### Example 4: Complete System Instructions\n",
    "\n",
    "Let's build the complete system instructions for our agent."
   ]
  },
  {
   "cell_type": "code",
   "execution_count": null,
   "metadata": {},
   "outputs": [],
   "source": [
    "# Complete system instructions\n",
    "complete_prompt = \"\"\"You are the Redis University Class Agent, powered by Redis and the Agent Memory Server.\n",
    "\n",
    "Your role is to help students:\n",
    "- Find courses that match their interests and requirements\n",
    "- Plan their academic schedule for upcoming semesters\n",
    "- Check prerequisites and course eligibility\n",
    "- Get personalized course recommendations based on their goals\n",
    "\n",
    "You have access to:\n",
    "- A complete course catalog with descriptions, prerequisites, and schedules\n",
    "- Student preferences and goals (stored in long-term memory)\n",
    "- Conversation history (stored in working memory)\n",
    "- Tools to search courses and check prerequisites\n",
    "\n",
    "Guidelines:\n",
    "- Be helpful, friendly, and encouraging\n",
    "- Ask clarifying questions when you need more information\n",
    "- Provide specific course recommendations with course codes and details\n",
    "- Explain prerequisites and requirements clearly\n",
    "- Remember student preferences and reference them in future conversations\n",
    "- Stay focused on course planning and scheduling\n",
    "- If asked about topics outside your domain, politely redirect to course planning\n",
    "\n",
    "Example interactions:\n",
    "- Student: \"I'm interested in machine learning\"\n",
    "  You: \"Great! I can help you find ML courses. What's your current year and have you taken any programming courses?\"\n",
    "\n",
    "- Student: \"What are the prerequisites for CS401?\"\n",
    "  You: \"Let me check that for you.\" [Use check_prerequisites tool]\n",
    "\"\"\"\n",
    "\n",
    "print(\"Complete system instructions:\")\n",
    "print(complete_prompt)"
   ]
  },
  {
   "cell_type": "markdown",
   "metadata": {},
   "source": [
    "## Testing: Compare Different Instructions\n",
    "\n",
    "Let's test how different system instructions affect agent behavior."
   ]
  },
  {
   "cell_type": "code",
   "execution_count": null,
   "metadata": {},
   "outputs": [],
   "source": [
    "# Test query\n",
    "test_query = \"I want to learn about databases but I'm not sure where to start.\"\n",
    "\n",
    "# Test with different prompts\n",
    "prompts = {\n",
    "    \"Minimal\": minimal_prompt,\n",
    "    \"With Role\": role_prompt,\n",
    "    \"With Behavior\": behavior_prompt,\n",
    "    \"Complete\": complete_prompt\n",
    "}\n",
    "\n",
    "for name, prompt in prompts.items():\n",
    "    messages = [\n",
    "        SystemMessage(content=prompt),\n",
    "        HumanMessage(content=test_query)\n",
    "    ]\n",
    "    response = llm.invoke(messages)\n",
    "    print(f\"\\n{'='*80}\")\n",
    "    print(f\"{name} Instructions:\")\n",
    "    print(f\"{'='*80}\")\n",
    "    print(response.content)\n",
    "    print()"
   ]
  },
  {
   "cell_type": "markdown",
   "metadata": {},
   "source": [
    "## Key Takeaways\n",
    "\n",
    "### What to Include in System Instructions\n",
    "\n",
    "1. **Identity & Role**\n",
    "   - Who the agent is\n",
    "   - What domain it operates in\n",
    "\n",
    "2. **Capabilities**\n",
    "   - What the agent can do\n",
    "   - What tools/data it has access to\n",
    "\n",
    "3. **Behavioral Guidelines**\n",
    "   - How to interact with users\n",
    "   - When to ask questions\n",
    "   - How to handle edge cases\n",
    "\n",
    "4. **Constraints**\n",
    "   - What the agent should NOT do\n",
    "   - How to handle out-of-scope requests\n",
    "\n",
    "5. **Examples** (optional)\n",
    "   - Sample interactions\n",
    "   - Expected behavior patterns\n",
    "\n",
    "### Best Practices\n",
    "\n",
    "✅ **Do:**\n",
    "- Be specific about the agent's role\n",
    "- Include clear behavioral guidelines\n",
    "- Set boundaries for out-of-scope requests\n",
    "- Use examples to clarify expected behavior\n",
    "- Keep instructions concise but complete\n",
    "\n",
    "❌ **Don't:**\n",
    "- Include dynamic data (use retrieved context instead)\n",
    "- Make instructions too long (wastes tokens)\n",
    "- Be vague about capabilities\n",
    "- Forget to set constraints\n",
    "- Include contradictory guidelines"
   ]
  },
  {
   "cell_type": "markdown",
   "metadata": {},
   "source": [
    "## Exercises\n",
    "\n",
    "1. **Modify the system instructions** to make the agent more formal and academic in tone. Test it with a few queries.\n",
    "\n",
    "2. **Add a constraint** that the agent should always ask about the student's year (freshman, sophomore, etc.) before recommending courses. Test if it follows this constraint.\n",
    "\n",
    "3. **Create system instructions** for a different type of agent (e.g., a library assistant, a gym trainer, a recipe recommender). What changes?\n",
    "\n",
    "4. **Test edge cases**: Try to make the agent break its guidelines. What happens? How can you improve the instructions?"
   ]
  },
  {
   "cell_type": "markdown",
   "metadata": {},
   "source": [
    "## Summary\n",
    "\n",
    "In this notebook, you learned:\n",
    "\n",
    "- ✅ System instructions define your agent's identity, capabilities, and behavior\n",
    "- ✅ System context is static (same every turn) vs. retrieved context is dynamic\n",
    "- ✅ Good instructions include: role, capabilities, guidelines, constraints, and examples\n",
    "- ✅ Instructions significantly affect agent behavior and consistency\n",
    "- ✅ Start simple and iterate based on testing\n",
    "\n",
    "**Next:** In the next notebook, we'll define tools that give our agent actual capabilities to search courses and check prerequisites."
   ]
  }
 ],
 "metadata": {
  "kernelspec": {
   "display_name": "Python 3",
   "language": "python",
   "name": "python3"
  },
  "language_info": {
   "codemirror_mode": {
    "name": "ipython",
    "version": 3
   },
   "file_extension": ".py",
   "mimetype": "text/x-python",
   "name": "python",
   "nbconvert_exporter": "python",
   "pygments_lexer": "ipython3",
   "version": "3.11.0"
  }
 },
 "nbformat": 4,
 "nbformat_minor": 4
}

