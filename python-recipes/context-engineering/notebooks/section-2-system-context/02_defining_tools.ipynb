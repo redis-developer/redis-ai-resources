{
 "cells": [
  {
   "cell_type": "markdown",
   "metadata": {},
   "source": [
    "# Defining Tools: Giving Your Agent Capabilities\n",
    "\n",
    "## Introduction\n",
    "\n",
    "In this notebook, you'll learn how to define tools that give your agent real capabilities beyond just conversation. Tools allow the LLM to take actions, retrieve data, and interact with external systems.\n",
    "\n",
    "### What You'll Learn\n",
    "\n",
    "- What tools are and why they're essential for agents\n",
    "- How to define tools with proper schemas\n",
    "- How the LLM knows which tool to use\n",
    "- How tool descriptions affect LLM behavior\n",
    "- Best practices for tool design\n",
    "\n",
    "### Prerequisites\n",
    "\n",
    "- Completed `01_system_instructions.ipynb`\n",
    "- Redis 8 running locally\n",
    "- OpenAI API key set\n",
    "- Course data ingested (from Section 1)"
   ]
  },
  {
   "cell_type": "markdown",
   "metadata": {},
   "source": [
    "## Concepts: Tools for AI Agents\n",
    "\n",
    "### What Are Tools?\n",
    "\n",
    "Tools are **functions that the LLM can call** to perform actions or retrieve information. They extend the agent's capabilities beyond text generation.\n",
    "\n",
    "**Without tools:**\n",
    "- Agent can only generate text based on its training data\n",
    "- No access to real-time data\n",
    "- Can't take actions\n",
    "- Limited to what's in the prompt\n",
    "\n",
    "**With tools:**\n",
    "- Agent can search databases\n",
    "- Agent can retrieve current information\n",
    "- Agent can perform calculations\n",
    "- Agent can take actions (send emails, create records, etc.)\n",
    "\n",
    "### How Tool Calling Works\n",
    "\n",
    "1. **LLM receives** user query + system instructions + available tools\n",
    "2. **LLM decides** which tool(s) to call (if any)\n",
    "3. **LLM generates** tool call with parameters\n",
    "4. **System executes** the tool function\n",
    "5. **Tool returns** results\n",
    "6. **LLM receives** results and generates response\n",
    "\n",
    "### Tool Schema Components\n",
    "\n",
    "Every tool needs:\n",
    "1. **Name** - Unique identifier\n",
    "2. **Description** - What the tool does (critical for selection!)\n",
    "3. **Parameters** - Input schema with types and descriptions\n",
    "4. **Function** - The actual implementation\n",
    "\n",
    "### How LLMs Select Tools\n",
    "\n",
    "The LLM uses:\n",
    "- Tool **names** (should be descriptive)\n",
    "- Tool **descriptions** (should explain when to use it)\n",
    "- Parameter **descriptions** (should explain what each parameter does)\n",
    "- **Context** from the conversation\n",
    "\n",
    "**Key insight:** The LLM only sees the tool schema, not the implementation!"
   ]
  },
  {
   "cell_type": "markdown",
   "metadata": {},
   "source": [
    "## Setup"
   ]
  },
  {
   "cell_type": "code",
   "execution_count": null,
   "metadata": {},
   "outputs": [],
   "source": [
    "import os\n",
    "from typing import List, Optional\n",
    "from langchain_openai import ChatOpenAI\n",
    "from langchain_core.messages import SystemMessage, HumanMessage, AIMessage\n",
    "from langchain_core.tools import tool\n",
    "from pydantic import BaseModel, Field\n",
    "\n",
    "# Import our course manager\n",
    "from redis_context_course import CourseManager\n",
    "\n",
    "# Initialize\n",
    "llm = ChatOpenAI(model=\"gpt-4o\", temperature=0)\n",
    "course_manager = CourseManager()\n",
    "\n",
    "print(\"✅ Setup complete!\")"
   ]
  },
  {
   "cell_type": "markdown",
   "metadata": {},
   "source": [
    "## Hands-on: Defining Tools\n",
    "\n",
    "Let's define tools for our class agent step by step."
   ]
  },
  {
   "cell_type": "markdown",
   "metadata": {},
   "source": [
    "### Tool 1: Search Courses (Basic)\n",
    "\n",
    "Let's start with a basic tool to search courses."
   ]
  },
  {
   "cell_type": "code",
   "execution_count": null,
   "metadata": {},
   "outputs": [],
   "source": [
    "# Define parameter schema\n",
    "class SearchCoursesInput(BaseModel):\n",
    "    query: str = Field(description=\"Search query for courses\")\n",
    "    limit: int = Field(default=5, description=\"Maximum number of results\")\n",
    "\n",
    "# Define the tool\n",
    "@tool(args_schema=SearchCoursesInput)\n",
    "async def search_courses_basic(query: str, limit: int = 5) -> str:\n",
    "    \"\"\"Search for courses in the catalog.\"\"\"\n",
    "    results = await course_manager.search_courses(query, limit=limit)\n",
    "    \n",
    "    if not results:\n",
    "        return \"No courses found matching your query.\"\n",
    "    \n",
    "    output = []\n",
    "    for course in results:\n",
    "        output.append(\n",
    "            f\"{course.course_code}: {course.title}\\n\"\n",
    "            f\"  Credits: {course.credits} | {course.format.value}\\n\"\n",
    "            f\"  {course.description[:100]}...\"\n",
    "        )\n",
    "    \n",
    "    return \"\\n\\n\".join(output)\n",
    "\n",
    "print(\"Tool defined:\", search_courses_basic.name)\n",
    "print(\"Description:\", search_courses_basic.description)"
   ]
  },
  {
   "cell_type": "markdown",
   "metadata": {},
   "source": [
    "**Problem:** The description is too vague! The LLM won't know when to use this tool."
   ]
  },
  {
   "cell_type": "markdown",
   "metadata": {},
   "source": [
    "### Tool 1: Search Courses (Improved)\n",
    "\n",
    "Let's improve the description to help the LLM understand when to use this tool."
   ]
  },
  {
   "cell_type": "code",
   "execution_count": null,
   "metadata": {},
   "outputs": [],
   "source": [
    "@tool(args_schema=SearchCoursesInput)\n",
    "async def search_courses(query: str, limit: int = 5) -> str:\n",
    "    \"\"\"\n",
    "    Search for courses in the Redis University catalog using semantic search.\n",
    "    \n",
    "    Use this tool when students ask about:\n",
    "    - Finding courses on a specific topic (e.g., \"machine learning courses\")\n",
    "    - Courses in a department (e.g., \"computer science courses\")\n",
    "    - Courses with specific characteristics (e.g., \"online courses\", \"3-credit courses\")\n",
    "    \n",
    "    The search uses semantic matching, so natural language queries work well.\n",
    "    \"\"\"\n",
    "    results = await course_manager.search_courses(query, limit=limit)\n",
    "    \n",
    "    if not results:\n",
    "        return \"No courses found matching your query.\"\n",
    "    \n",
    "    output = []\n",
    "    for course in results:\n",
    "        output.append(\n",
    "            f\"{course.course_code}: {course.title}\\n\"\n",
    "            f\"  Credits: {course.credits} | {course.format.value} | {course.difficulty_level.value}\\n\"\n",
    "            f\"  {course.description[:150]}...\"\n",
    "        )\n",
    "    \n",
    "    return \"\\n\\n\".join(output)\n",
    "\n",
    "print(\"✅ Improved tool defined!\")\n",
    "print(\"\\nDescription:\")\n",
    "print(search_courses.description)"
   ]
  },
  {
   "cell_type": "markdown",
   "metadata": {},
   "source": [
    "### Tool 2: Get Course Details\n",
    "\n",
    "A tool to get detailed information about a specific course."
   ]
  },
  {
   "cell_type": "code",
   "execution_count": null,
   "metadata": {},
   "outputs": [],
   "source": [
    "class GetCourseDetailsInput(BaseModel):\n",
    "    course_code: str = Field(description=\"Course code (e.g., 'CS101', 'MATH201')\")\n",
    "\n",
    "@tool(args_schema=GetCourseDetailsInput)\n",
    "async def get_course_details(course_code: str) -> str:\n",
    "    \"\"\"\n",
    "    Get detailed information about a specific course by its course code.\n",
    "    \n",
    "    Use this tool when:\n",
    "    - Student asks about a specific course (e.g., \"Tell me about CS101\")\n",
    "    - You need prerequisites for a course\n",
    "    - You need full course details (schedule, instructor, etc.)\n",
    "    \n",
    "    Returns complete course information including description, prerequisites,\n",
    "    schedule, credits, and learning objectives.\n",
    "    \"\"\"\n",
    "    course = await course_manager.get_course(course_code)\n",
    "    \n",
    "    if not course:\n",
    "        return f\"Course {course_code} not found.\"\n",
    "    \n",
    "    prereqs = \"None\" if not course.prerequisites else \", \".join(\n",
    "        [f\"{p.course_code} (min grade: {p.min_grade})\" for p in course.prerequisites]\n",
    "    )\n",
    "    \n",
    "    return f\"\"\"\n",
    "{course.course_code}: {course.title}\n",
    "\n",
    "Description: {course.description}\n",
    "\n",
    "Details:\n",
    "- Credits: {course.credits}\n",
    "- Department: {course.department}\n",
    "- Major: {course.major}\n",
    "- Difficulty: {course.difficulty_level.value}\n",
    "- Format: {course.format.value}\n",
    "- Prerequisites: {prereqs}\n",
    "\n",
    "Learning Objectives:\n",
    "\"\"\" + \"\\n\".join([f\"- {obj}\" for obj in course.learning_objectives])\n",
    "\n",
    "print(\"✅ Tool defined:\", get_course_details.name)"
   ]
  },
  {
   "cell_type": "markdown",
   "metadata": {},
   "source": [
    "### Tool 3: Check Prerequisites\n",
    "\n",
    "A tool to check if a student meets the prerequisites for a course."
   ]
  },
  {
   "cell_type": "code",
   "execution_count": null,
   "metadata": {},
   "outputs": [],
   "source": [
    "class CheckPrerequisitesInput(BaseModel):\n",
    "    course_code: str = Field(description=\"Course code to check prerequisites for\")\n",
    "    completed_courses: List[str] = Field(\n",
    "        description=\"List of course codes the student has completed\"\n",
    "    )\n",
    "\n",
    "@tool(args_schema=CheckPrerequisitesInput)\n",
    "async def check_prerequisites(course_code: str, completed_courses: List[str]) -> str:\n",
    "    \"\"\"\n",
    "    Check if a student meets the prerequisites for a specific course.\n",
    "    \n",
    "    Use this tool when:\n",
    "    - Student asks \"Can I take [course]?\"\n",
    "    - Student asks about prerequisites\n",
    "    - You need to verify eligibility before recommending a course\n",
    "    \n",
    "    Returns whether the student is eligible and which prerequisites are missing (if any).\n",
    "    \"\"\"\n",
    "    course = await course_manager.get_course(course_code)\n",
    "    \n",
    "    if not course:\n",
    "        return f\"Course {course_code} not found.\"\n",
    "    \n",
    "    if not course.prerequisites:\n",
    "        return f\"✅ {course_code} has no prerequisites. You can take this course!\"\n",
    "    \n",
    "    missing = []\n",
    "    for prereq in course.prerequisites:\n",
    "        if prereq.course_code not in completed_courses:\n",
    "            missing.append(f\"{prereq.course_code} (min grade: {prereq.min_grade})\")\n",
    "    \n",
    "    if not missing:\n",
    "        return f\"✅ You meet all prerequisites for {course_code}!\"\n",
    "    \n",
    "    return f\"\"\"❌ You're missing prerequisites for {course_code}:\n",
    "\n",
    "Missing:\n",
    "\"\"\" + \"\\n\".join([f\"- {p}\" for p in missing])\n",
    "\n",
    "print(\"✅ Tool defined:\", check_prerequisites.name)"
   ]
  },
  {
   "cell_type": "markdown",
   "metadata": {},
   "source": [
    "## Testing: Using Tools with an Agent\n",
    "\n",
    "Let's test our tools with the LLM to see how it selects and uses them."
   ]
  },
  {
   "cell_type": "code",
   "execution_count": null,
   "metadata": {},
   "outputs": [],
   "source": [
    "# Bind tools to LLM\n",
    "tools = [search_courses, get_course_details, check_prerequisites]\n",
    "llm_with_tools = llm.bind_tools(tools)\n",
    "\n",
    "# System prompt\n",
    "system_prompt = \"\"\"You are the Redis University Class Agent.\n",
    "Help students find courses and plan their schedule.\n",
    "Use the available tools to search courses and check prerequisites.\n",
    "\"\"\"\n",
    "\n",
    "print(\"✅ Agent configured with tools!\")"
   ]
  },
  {
   "cell_type": "markdown",
   "metadata": {},
   "source": [
    "### Test 1: Search Query"
   ]
  },
  {
   "cell_type": "code",
   "execution_count": null,
   "metadata": {},
   "outputs": [],
   "source": [
    "messages = [\n",
    "    SystemMessage(content=system_prompt),\n",
    "    HumanMessage(content=\"I'm interested in machine learning courses\")\n",
    "]\n",
    "\n",
    "response = llm_with_tools.invoke(messages)\n",
    "\n",
    "print(\"User: I'm interested in machine learning courses\")\n",
    "print(\"\\nAgent decision:\")\n",
    "if response.tool_calls:\n",
    "    for tool_call in response.tool_calls:\n",
    "        print(f\"  Tool: {tool_call['name']}\")\n",
    "        print(f\"  Args: {tool_call['args']}\")\n",
    "else:\n",
    "    print(\"  No tool called\")\n",
    "    print(f\"  Response: {response.content}\")"
   ]
  },
  {
   "cell_type": "markdown",
   "metadata": {},
   "source": [
    "### Test 2: Specific Course Query"
   ]
  },
  {
   "cell_type": "code",
   "execution_count": null,
   "metadata": {},
   "outputs": [],
   "source": [
    "messages = [\n",
    "    SystemMessage(content=system_prompt),\n",
    "    HumanMessage(content=\"Tell me about CS401\")\n",
    "]\n",
    "\n",
    "response = llm_with_tools.invoke(messages)\n",
    "\n",
    "print(\"User: Tell me about CS401\")\n",
    "print(\"\\nAgent decision:\")\n",
    "if response.tool_calls:\n",
    "    for tool_call in response.tool_calls:\n",
    "        print(f\"  Tool: {tool_call['name']}\")\n",
    "        print(f\"  Args: {tool_call['args']}\")\n",
    "else:\n",
    "    print(\"  No tool called\")\n",
    "    print(f\"  Response: {response.content}\")"
   ]
  },
  {
   "cell_type": "markdown",
   "metadata": {},
   "source": [
    "### Test 3: Prerequisites Query"
   ]
  },
  {
   "cell_type": "code",
   "execution_count": null,
   "metadata": {},
   "outputs": [],
   "source": [
    "messages = [\n",
    "    SystemMessage(content=system_prompt),\n",
    "    HumanMessage(content=\"Can I take CS401? I've completed CS101 and CS201.\")\n",
    "]\n",
    "\n",
    "response = llm_with_tools.invoke(messages)\n",
    "\n",
    "print(\"User: Can I take CS401? I've completed CS101 and CS201.\")\n",
    "print(\"\\nAgent decision:\")\n",
    "if response.tool_calls:\n",
    "    for tool_call in response.tool_calls:\n",
    "        print(f\"  Tool: {tool_call['name']}\")\n",
    "        print(f\"  Args: {tool_call['args']}\")\n",
    "else:\n",
    "    print(\"  No tool called\")\n",
    "    print(f\"  Response: {response.content}\")"
   ]
  },
  {
   "cell_type": "markdown",
   "metadata": {},
   "source": [
    "## Key Takeaways\n",
    "\n",
    "### Tool Design Best Practices\n",
    "\n",
    "1. **Clear Names**\n",
    "   - Use descriptive, action-oriented names\n",
    "   - `search_courses` ✅ vs. `find` ❌\n",
    "\n",
    "2. **Detailed Descriptions**\n",
    "   - Explain what the tool does\n",
    "   - Explain when to use it\n",
    "   - Include examples\n",
    "\n",
    "3. **Well-Defined Parameters**\n",
    "   - Use type hints\n",
    "   - Add descriptions for each parameter\n",
    "   - Set sensible defaults\n",
    "\n",
    "4. **Useful Return Values**\n",
    "   - Return formatted, readable text\n",
    "   - Include relevant details\n",
    "   - Handle errors gracefully\n",
    "\n",
    "5. **Single Responsibility**\n",
    "   - Each tool should do one thing well\n",
    "   - Don't combine unrelated functionality\n",
    "\n",
    "### How Tool Descriptions Affect Selection\n",
    "\n",
    "The LLM relies heavily on tool descriptions to decide which tool to use:\n",
    "\n",
    "- ✅ **Good description**: \"Search for courses using semantic search. Use when students ask about topics, departments, or course characteristics.\"\n",
    "- ❌ **Bad description**: \"Search courses\"\n",
    "\n",
    "**Remember:** The LLM can't see your code, only the schema!"
   ]
  },
  {
   "cell_type": "markdown",
   "metadata": {},
   "source": [
    "## Exercises\n",
    "\n",
    "1. **Add a new tool** called `get_courses_by_department` that returns all courses in a specific department. Write a good description.\n",
    "\n",
    "2. **Test tool selection**: Create queries that should trigger each of your three tools. Does the LLM select correctly?\n",
    "\n",
    "3. **Improve a description**: Take the `search_courses_basic` tool and improve its description. Test if it changes LLM behavior.\n",
    "\n",
    "4. **Create a tool** for getting a student's current schedule. What parameters does it need? What should it return?"
   ]
  },
  {
   "cell_type": "markdown",
   "metadata": {},
   "source": [
    "## Summary\n",
    "\n",
    "In this notebook, you learned:\n",
    "\n",
    "- ✅ Tools extend agent capabilities beyond text generation\n",
    "- ✅ Tool schemas include name, description, parameters, and implementation\n",
    "- ✅ LLMs select tools based on descriptions and context\n",
    "- ✅ Good descriptions are critical for correct tool selection\n",
    "- ✅ Each tool should have a single, clear purpose\n",
    "\n",
    "**Next:** In Section 3, we'll add memory to our agent so it can remember user preferences and past conversations."
   ]
  }
 ],
 "metadata": {
  "kernelspec": {
   "display_name": "Python 3",
   "language": "python",
   "name": "python3"
  },
  "language_info": {
   "codemirror_mode": {
    "name": "ipython",
    "version": 3
   },
   "file_extension": ".py",
   "mimetype": "text/x-python",
   "name": "python",
   "nbconvert_exporter": "python",
   "pygments_lexer": "ipython3",
   "version": "3.11.0"
  }
 },
 "nbformat": 4,
 "nbformat_minor": 4
}

