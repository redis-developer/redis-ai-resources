{
 "cells": [
  {
   "cell_type": "markdown",
   "metadata": {},
   "source": [
    "![Redis](https://redis.io/wp-content/uploads/2024/04/Logotype.svg?auto=webp&quality=85,75&width=120)\n",
    "\n",
    "# Context Types Deep Dive: Mastering the Building Blocks\n",
    "\n",
    "## Welcome Back\n",
    "\n",
    "You've now learned what context engineering is and understand the core concepts and constraints. You know about the 4 core components, the context window limitation, and the difference between static and dynamic context.\n",
    "\n",
    "Now it's time to master each context type individually with detailed, hands-on examples and learn how to implement them effectively in your own systems.\n",
    "\n",
    "## Learning Objectives\n",
    "\n",
    "By the end of this notebook, you will:\n",
    "1. Master each of the 4 context types with detailed examples\n",
    "2. Implement context collection and management systems for each type\n",
    "3. Measure the impact of each context type on AI performance\n",
    "4. Design context strategies for different conversation patterns\n",
    "5. Understand how context types interact and influence each other\n",
    "\n",
    "## Setup\n",
    "\n",
    "Let's start by importing the Redis Context Course models to work with clean, structured data:"
   ]
  },
  {
   "cell_type": "code",
   "execution_count": 1,
   "metadata": {
    "execution": {
     "iopub.execute_input": "2025-10-30T02:36:09.105225Z",
     "iopub.status.busy": "2025-10-30T02:36:09.105076Z",
     "iopub.status.idle": "2025-10-30T02:36:10.866073Z",
     "shell.execute_reply": "2025-10-30T02:36:10.865711Z"
    }
   },
   "outputs": [
    {
     "name": "stdout",
     "output_type": "stream",
     "text": [
      "✅ Successfully imported Redis Context Course models\n"
     ]
    }
   ],
   "source": [
    "import sys\n",
    "import os\n",
    "from datetime import datetime, time\n",
    "from typing import List, Optional\n",
    "\n",
    "# Add the reference agent to our path\n",
    "sys.path.append('../../../reference-agent')\n",
    "\n",
    "try:\n",
    "    from redis_context_course.models import (\n",
    "        StudentProfile, Course, CourseRecommendation,\n",
    "        DifficultyLevel, CourseFormat, Semester\n",
    "    )\n",
    "    print(\"✅ Successfully imported Redis Context Course models\")\n",
    "except ImportError as e:\n",
    "    print(f\"❌ Could not import models: {e}\")\n",
    "    print(\"Please ensure the reference-agent directory is available.\")\n",
    "    raise"
   ]
  },
  {
   "cell_type": "markdown",
   "metadata": {},
   "source": [
    "## The Four Context Types\n",
    "\n",
    "Let's explore each context type with practical examples using our Redis University course advisor."
   ]
  },
  {
   "cell_type": "markdown",
   "metadata": {},
   "source": [
    "## 1. System Context: The AI's Identity\n",
    "\n",
    "System context defines what the AI knows about itself - its role, capabilities, and domain knowledge."
   ]
  },
  {
   "cell_type": "code",
   "execution_count": 2,
   "metadata": {
    "execution": {
     "iopub.execute_input": "2025-10-30T02:36:10.881019Z",
     "iopub.status.busy": "2025-10-30T02:36:10.880866Z",
     "iopub.status.idle": "2025-10-30T02:36:10.882755Z",
     "shell.execute_reply": "2025-10-30T02:36:10.882446Z"
    }
   },
   "outputs": [
    {
     "name": "stdout",
     "output_type": "stream",
     "text": [
      "System Context Example:\n",
      "You are a Redis University course advisor. Your role is to help students \n",
      "choose the right Redis courses based on their background, goals, and preferences.\n",
      "\n",
      "Available courses:\n",
      "- RU101: Introduction to Redis (Beginner)\n",
      "- RU201: Redis for Python (Intermediate, requires RU101)\n",
      "- RU202: Redis for Java (Intermediate, requires RU101)\n",
      "- RU301: Vector Similarity Search (Advanced, requires RU201 or RU202)\n",
      "- RU302: Redis for Machine Learning (Advanced, requires RU301)\n",
      "\n",
      "Always provide specific recommendations with clear reasoning.\n"
     ]
    }
   ],
   "source": [
    "# Example: System context for our Redis University course advisor\n",
    "system_context = \"\"\"You are a Redis University course advisor. Your role is to help students \n",
    "choose the right Redis courses based on their background, goals, and preferences.\n",
    "\n",
    "Available courses:\n",
    "- RU101: Introduction to Redis (Beginner)\n",
    "- RU201: Redis for Python (Intermediate, requires RU101)\n",
    "- RU202: Redis for Java (Intermediate, requires RU101)\n",
    "- RU301: Vector Similarity Search (Advanced, requires RU201 or RU202)\n",
    "- RU302: Redis for Machine Learning (Advanced, requires RU301)\n",
    "\n",
    "Always provide specific recommendations with clear reasoning.\"\"\"\n",
    "\n",
    "print(\"System Context Example:\")\n",
    "print(system_context)"
   ]
  },
  {
   "cell_type": "markdown",
   "metadata": {},
   "source": [
    "**Key Characteristics of System Context:**\n",
    "- **Static**: Doesn't change during conversations\n",
    "- **Role-defining**: Establishes the AI's identity and capabilities\n",
    "- **Domain-specific**: Contains knowledge about the subject area\n",
    "- **Foundational**: Forms the base for all interactions"
   ]
  },
  {
   "cell_type": "markdown",
   "metadata": {},
   "source": [
    "## 2. User Context: Personal Information\n",
    "\n",
    "User context contains information about the specific user that enables personalization. Let's create a student profile using our structured models:"
   ]
  },
  {
   "cell_type": "code",
   "execution_count": 3,
   "metadata": {
    "execution": {
     "iopub.execute_input": "2025-10-30T02:36:10.884120Z",
     "iopub.status.busy": "2025-10-30T02:36:10.884014Z",
     "iopub.status.idle": "2025-10-30T02:36:10.886215Z",
     "shell.execute_reply": "2025-10-30T02:36:10.885754Z"
    }
   },
   "outputs": [
    {
     "name": "stdout",
     "output_type": "stream",
     "text": [
      "Student Profile Example:\n",
      "Name: Sarah Chen\n",
      "Major: Computer Science, Year: 3\n",
      "Completed: ['RU101']\n",
      "Interests: ['machine learning', 'data science', 'python']\n",
      "Preferences: online, intermediate level\n"
     ]
    }
   ],
   "source": [
    "# Create a student profile using the StudentProfile model\n",
    "sarah = StudentProfile(\n",
    "    name=\"Sarah Chen\",\n",
    "    email=\"sarah.chen@university.edu\",\n",
    "    major=\"Computer Science\",\n",
    "    year=3,  # Junior\n",
    "    completed_courses=[\"RU101\"],\n",
    "    current_courses=[],\n",
    "    interests=[\"machine learning\", \"data science\", \"python\"],\n",
    "    preferred_format=CourseFormat.ONLINE,\n",
    "    preferred_difficulty=DifficultyLevel.INTERMEDIATE,\n",
    "    max_credits_per_semester=15\n",
    ")\n",
    "\n",
    "print(\"Student Profile Example:\")\n",
    "print(f\"Name: {sarah.name}\")\n",
    "print(f\"Major: {sarah.major}, Year: {sarah.year}\")\n",
    "print(f\"Completed: {sarah.completed_courses}\")\n",
    "print(f\"Interests: {sarah.interests}\")\n",
    "print(f\"Preferences: {sarah.preferred_format.value}, {sarah.preferred_difficulty.value} level\")"
   ]
  },
  {
   "cell_type": "markdown",
   "metadata": {},
   "source": [
    "**Key Characteristics of User Context:**\n",
    "- **Personal**: Specific to individual users\n",
    "- **Persistent**: Maintained across sessions\n",
    "- **Evolving**: Updates as users progress and change\n",
    "- **Enabling**: Makes personalization possible"
   ]
  },
  {
   "cell_type": "markdown",
   "metadata": {},
   "source": [
    "## 3. Conversation Context: Memory and History\n",
    "\n",
    "Conversation context maintains the flow of dialogue and enables the AI to understand references and follow-up questions."
   ]
  },
  {
   "cell_type": "code",
   "execution_count": 4,
   "metadata": {
    "execution": {
     "iopub.execute_input": "2025-10-30T02:36:10.887330Z",
     "iopub.status.busy": "2025-10-30T02:36:10.887251Z",
     "iopub.status.idle": "2025-10-30T02:36:10.889447Z",
     "shell.execute_reply": "2025-10-30T02:36:10.889028Z"
    }
   },
   "outputs": [
    {
     "name": "stdout",
     "output_type": "stream",
     "text": [
      "Conversation Context Example:\n",
      "1. User: What Redis course should I take next?\n",
      "2. Assistant: Based on your Python background and ML interests, I recommend RU201 (Redis for Python). You've completed RU101, so you meet the prerequisites.\n",
      "3. User: How long will that take to complete?\n",
      "4. Assistant: RU201 typically takes 6-8 hours to complete, with hands-on exercises included.\n",
      "5. User: What comes after that course?\n",
      "\n",
      "Note: The final question 'What comes after that course?' relies on conversation context.\n",
      "The AI knows 'that course' refers to RU201 from the previous exchange.\n"
     ]
    }
   ],
   "source": [
    "# Example conversation history\n",
    "conversation_history = [\n",
    "    {\"role\": \"user\", \"content\": \"What Redis course should I take next?\"},\n",
    "    {\"role\": \"assistant\", \"content\": \"Based on your Python background and ML interests, I recommend RU201 (Redis for Python). You've completed RU101, so you meet the prerequisites.\"},\n",
    "    {\"role\": \"user\", \"content\": \"How long will that take to complete?\"},\n",
    "    {\"role\": \"assistant\", \"content\": \"RU201 typically takes 6-8 hours to complete, with hands-on exercises included.\"},\n",
    "    {\"role\": \"user\", \"content\": \"What comes after that course?\"}\n",
    "]\n",
    "\n",
    "print(\"Conversation Context Example:\")\n",
    "for i, message in enumerate(conversation_history, 1):\n",
    "    role = message[\"role\"].title()\n",
    "    content = message[\"content\"]\n",
    "    print(f\"{i}. {role}: {content}\")\n",
    "\n",
    "print(\"\\nNote: The final question 'What comes after that course?' relies on conversation context.\")\n",
    "print(\"The AI knows 'that course' refers to RU201 from the previous exchange.\")"
   ]
  },
  {
   "cell_type": "markdown",
   "metadata": {},
   "source": [
    "**Key Characteristics of Conversation Context:**\n",
    "- **Temporal**: Ordered by time\n",
    "- **Sequential**: Each message builds on previous ones\n",
    "- **Growing**: Expands with each exchange\n",
    "- **Reference-enabling**: Allows pronouns and implicit references"
   ]
  },
  {
   "cell_type": "markdown",
   "metadata": {},
   "source": [
    "## 4. Retrieved Context: Dynamic Information\n",
    "\n",
    "Retrieved context is information dynamically fetched from external sources based on the current query. Let's create some course data:"
   ]
  },
  {
   "cell_type": "code",
   "execution_count": 5,
   "metadata": {
    "execution": {
     "iopub.execute_input": "2025-10-30T02:36:10.890563Z",
     "iopub.status.busy": "2025-10-30T02:36:10.890486Z",
     "iopub.status.idle": "2025-10-30T02:36:10.893021Z",
     "shell.execute_reply": "2025-10-30T02:36:10.892585Z"
    }
   },
   "outputs": [
    {
     "name": "stdout",
     "output_type": "stream",
     "text": [
      "Retrieved Context Example - Course Information:\n",
      "Course: RU201 - Redis for Python\n",
      "Level: Intermediate\n",
      "Format: Online\n",
      "Enrollment: 32/50\n",
      "Tags: python, redis, databases, performance\n",
      "Learning Objectives: 4 objectives defined\n"
     ]
    }
   ],
   "source": [
    "# Create course objects using the Course model\n",
    "ru201 = Course(\n",
    "    course_code=\"RU201\",\n",
    "    title=\"Redis for Python\",\n",
    "    description=\"Learn to use Redis with Python applications, including data structures, persistence, and performance optimization.\",\n",
    "    credits=3,\n",
    "    difficulty_level=DifficultyLevel.INTERMEDIATE,\n",
    "    format=CourseFormat.ONLINE,\n",
    "    department=\"Computer Science\",\n",
    "    major=\"Computer Science\",\n",
    "    semester=Semester.FALL,\n",
    "    year=2024,\n",
    "    instructor=\"Dr. Python Expert\",\n",
    "    max_enrollment=50,\n",
    "    current_enrollment=32,\n",
    "    tags=[\"python\", \"redis\", \"databases\", \"performance\"],\n",
    "    learning_objectives=[\n",
    "        \"Connect Python applications to Redis\",\n",
    "        \"Use Redis data structures effectively\",\n",
    "        \"Implement caching strategies\",\n",
    "        \"Optimize Redis performance\"\n",
    "    ]\n",
    ")\n",
    "\n",
    "print(\"Retrieved Context Example - Course Information:\")\n",
    "print(f\"Course: {ru201.course_code} - {ru201.title}\")\n",
    "print(f\"Level: {ru201.difficulty_level.value.title()}\")\n",
    "print(f\"Format: {ru201.format.value.replace('_', ' ').title()}\")\n",
    "print(f\"Enrollment: {ru201.current_enrollment}/{ru201.max_enrollment}\")\n",
    "print(f\"Tags: {', '.join(ru201.tags)}\")\n",
    "print(f\"Learning Objectives: {len(ru201.learning_objectives)} objectives defined\")"
   ]
  },
  {
   "cell_type": "markdown",
   "metadata": {},
   "source": [
    "**Key Characteristics of Retrieved Context:**\n",
    "- **Dynamic**: Fetched based on current needs\n",
    "- **Query-specific**: Relevant to the current question\n",
    "- **External**: Comes from databases, APIs, or knowledge bases\n",
    "- **Fresh**: Can provide up-to-date information"
   ]
  },
  {
   "cell_type": "markdown",
   "metadata": {},
   "source": [
    "## Context Integration: Bringing It All Together\n",
    "\n",
    "In practice, all four context types work together to create intelligent responses. Let's see how they combine:"
   ]
  },
  {
   "cell_type": "code",
   "execution_count": 6,
   "metadata": {
    "execution": {
     "iopub.execute_input": "2025-10-30T02:36:10.894098Z",
     "iopub.status.busy": "2025-10-30T02:36:10.894016Z",
     "iopub.status.idle": "2025-10-30T02:36:10.896561Z",
     "shell.execute_reply": "2025-10-30T02:36:10.896250Z"
    }
   },
   "outputs": [
    {
     "name": "stdout",
     "output_type": "stream",
     "text": [
      "Complete Context Integration Example:\n",
      "==================================================\n",
      "SYSTEM: You are a Redis University course advisor. Your role is to help students \n",
      "choose the right Redis courses based on their background, goals, and preferences.\n",
      "\n",
      "Available courses:\n",
      "- RU101: Introduction to Redis (Beginner)\n",
      "- RU201: Redis for Python (Intermediate, requires RU101)\n",
      "- RU202: Redis for Java (Intermediate, requires RU101)\n",
      "- RU301: Vector Similarity Search (Advanced, requires RU201 or RU202)\n",
      "- RU302: Redis for Machine Learning (Advanced, requires RU301)\n",
      "\n",
      "Always provide specific reco...\n",
      "==================================================\n",
      "\n",
      "This complete context would be sent to the LLM for generating responses.\n"
     ]
    }
   ],
   "source": [
    "# Create a complete context example\n",
    "def create_complete_context(student: StudentProfile, course: Course, conversation: list, system: str):\n",
    "    \"\"\"Combine all context types into a complete prompt\"\"\"\n",
    "    \n",
    "    # 1. System Context\n",
    "    context_parts = [f\"SYSTEM: {system}\"]\n",
    "    \n",
    "    # 2. User Context\n",
    "    user_info = f\"\"\"STUDENT PROFILE:\n",
    "Name: {student.name}\n",
    "Major: {student.major}, Year: {student.year}\n",
    "Completed: {', '.join(student.completed_courses) if student.completed_courses else 'None'}\n",
    "Interests: {', '.join(student.interests)}\n",
    "Preferences: {student.preferred_format.value}, {student.preferred_difficulty.value} level\"\"\"\n",
    "    context_parts.append(user_info)\n",
    "    \n",
    "    # 3. Retrieved Context\n",
    "    course_info = f\"\"\"COURSE INFORMATION:\n",
    "{course.course_code}: {course.title}\n",
    "Level: {course.difficulty_level.value}\n",
    "Format: {course.format.value}\n",
    "Description: {course.description}\n",
    "Learning Objectives: {'; '.join(course.learning_objectives)}\"\"\"\n",
    "    context_parts.append(course_info)\n",
    "    \n",
    "    # 4. Conversation Context\n",
    "    if conversation:\n",
    "        conv_info = \"CONVERSATION HISTORY:\\n\" + \"\\n\".join(\n",
    "            f\"{msg['role'].title()}: {msg['content']}\" for msg in conversation\n",
    "        )\n",
    "        context_parts.append(conv_info)\n",
    "    \n",
    "    return \"\\n\\n\".join(context_parts)\n",
    "\n",
    "# Create complete context\n",
    "complete_context = create_complete_context(\n",
    "    student=sarah,\n",
    "    course=ru201,\n",
    "    conversation=conversation_history[:2],  # First 2 messages\n",
    "    system=system_context\n",
    ")\n",
    "\n",
    "print(\"Complete Context Integration Example:\")\n",
    "print(\"=\" * 50)\n",
    "print(complete_context[:500] + \"...\")\n",
    "print(\"=\" * 50)\n",
    "print(\"\\nThis complete context would be sent to the LLM for generating responses.\")"
   ]
  },
  {
   "cell_type": "markdown",
   "metadata": {},
   "source": [
    "## Context Management Strategies\n",
    "\n",
    "Different scenarios require different context management approaches:"
   ]
  },
  {
   "cell_type": "markdown",
   "metadata": {},
   "source": [
    "### Strategy 1: New User (Minimal Context)\n",
    "- **System Context**: Full role definition\n",
    "- **User Context**: Basic profile only\n",
    "- **Conversation Context**: Empty\n",
    "- **Retrieved Context**: General information\n",
    "\n",
    "### Strategy 2: Returning User (Rich Context)\n",
    "- **System Context**: Full role definition\n",
    "- **User Context**: Complete profile with history\n",
    "- **Conversation Context**: Recent conversation history\n",
    "- **Retrieved Context**: Personalized, relevant information\n",
    "\n",
    "### Strategy 3: Long Conversation (Optimized Context)\n",
    "- **System Context**: Condensed role definition\n",
    "- **User Context**: Key profile elements only\n",
    "- **Conversation Context**: Summarized or recent messages only\n",
    "- **Retrieved Context**: Highly relevant information only"
   ]
  },
  {
   "cell_type": "markdown",
   "metadata": {},
   "source": [
    "## Key Takeaways\n",
    "\n",
    "From this deep dive into context types, you now understand:\n",
    "\n",
    "### The Four Context Types\n",
    "1. **System Context**: Defines the AI's role and capabilities (static)\n",
    "2. **User Context**: Personal information enabling personalization (persistent)\n",
    "3. **Conversation Context**: Dialogue history maintaining flow (temporal)\n",
    "4. **Retrieved Context**: Dynamic information from external sources (query-specific)\n",
    "\n",
    "### Implementation Principles\n",
    "- Use **structured data models** for clean, maintainable context\n",
    "- **Combine all four types** for maximum effectiveness\n",
    "- **Adapt strategies** based on user type and conversation length\n",
    "- **Balance richness with efficiency** to manage token limits\n",
    "\n",
    "### Next Steps\n",
    "You're now ready to explore advanced context engineering techniques:\n",
    "- **RAG (Retrieval-Augmented Generation)**: Advanced retrieved context\n",
    "- **Memory Architecture**: Sophisticated conversation and user context\n",
    "- **Context Optimization**: Efficient context management at scale\n",
    "\n",
    "---\n",
    "\n",
    "**Continue to Section 2: RAG Foundations**"
   ]
  }
 ],
 "metadata": {
  "kernelspec": {
   "display_name": "Python 3 (ipykernel)",
   "language": "python",
   "name": "python3"
  },
  "language_info": {
   "codemirror_mode": {
    "name": "ipython",
    "version": 3
   },
   "file_extension": ".py",
   "mimetype": "text/x-python",
   "name": "python",
   "nbconvert_exporter": "python",
   "pygments_lexer": "ipython3",
   "version": "3.12.6"
  }
 },
 "nbformat": 4,
 "nbformat_minor": 4
}
