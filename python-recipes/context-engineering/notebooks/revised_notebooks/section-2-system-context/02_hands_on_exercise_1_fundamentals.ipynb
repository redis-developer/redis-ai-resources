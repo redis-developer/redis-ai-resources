{
 "cells": [
  {
   "cell_type": "markdown",
   "metadata": {},
   "source": [
    "![Redis](https://redis.io/wp-content/uploads/2024/04/Logotype.svg?auto=webp&quality=85,75&width=120)\n",
    "\n",
    "# 🎯 Hands-On Exercise 1: Fundamentals\n",
    "\n",
    "## Learning Objective (15-20 minutes)\n",
    "Build a `get_courses_by_department` tool step-by-step using the patterns you just learned.\n",
    "\n",
    "## Prerequisites\n",
    "- Completed `02_defining_tools.ipynb`\n",
    "- Redis Stack running locally\n",
    "- OpenAI API key configured\n",
    "\n",
    "---\n",
    "\n",
    "## 🎯 Your Mission\n",
    "\n",
    "Create a tool that helps students find all courses in a specific department (like \"Computer Science\" or \"Mathematics\").\n",
    "\n",
    "**Follow each step methodically. Think before you code!**"
   ]
  },
  {
   "cell_type": "code",
   "execution_count": null,
   "metadata": {},
   "outputs": [],
   "source": [
    "# Setup - Run this first\n",
    "import os\n",
    "import asyncio\n",
    "from typing import List, Dict, Any\n",
    "from dotenv import load_dotenv\n",
    "\n",
    "# LangChain imports\n",
    "from langchain_core.tools import tool\n",
    "from pydantic import BaseModel, Field\n",
    "\n",
    "# Course management\n",
    "from redis_context_course.course_manager import CourseManager\n",
    "\n",
    "load_dotenv()\n",
    "course_manager = CourseManager()\n",
    "\n",
    "print(\"✅ Setup complete - ready to build your tool!\")"
   ]
  },
  {
   "cell_type": "markdown",
   "metadata": {},
   "source": [
    "### Step 1: Design the Tool Schema\n",
    "\n",
    "Before writing code, think about:\n",
    "\n",
    "**Parameters:**\n",
    "- What input does your tool need?\n",
    "- What type should it be?\n",
    "- How should you describe it for the LLM?\n",
    "\n",
    "**Tool Purpose:**\n",
    "- When should the LLM use this tool?\n",
    "- What does it do exactly?\n",
    "- What examples help the LLM understand?"
   ]
  },
  {
   "cell_type": "code",
   "execution_count": null,
   "metadata": {},
   "outputs": [],
   "source": [
    "# Step 1: Create the parameter schema\n",
    "class GetCoursesByDepartmentInput(BaseModel):\n",
    "    \"\"\"Input schema for getting courses by department.\"\"\"\n",
    "    \n",
    "    department: str = Field(\n",
    "        description=\"# TODO: Write a clear description of what department should contain\"\n",
    "    )\n",
    "\n",
    "# Test your schema - what should happen when you create:\n",
    "# GetCoursesByDepartmentInput(department=\"Computer Science\")"
   ]
  },
  {
   "cell_type": "markdown",
   "metadata": {},
   "source": [
    "### Step 2: Write the Tool Function\n",
    "\n",
    "Now implement the functionality. Think about:\n",
    "- How to search for courses by department\n",
    "- What to return if no courses found\n",
    "- How to handle errors gracefully\n",
    "- How to format the output clearly"
   ]
  },
  {
   "cell_type": "code",
   "execution_count": null,
   "metadata": {},
   "outputs": [],
   "source": [
    "@tool(args_schema=GetCoursesByDepartmentInput)\n",
    "async def get_courses_by_department(department: str) -> str:\n",
    "    \"\"\"\n",
    "    # TODO: Write a clear description that tells the LLM:\n",
    "    # - What this tool does\n",
    "    # - When to use it\n",
    "    # - What it returns\n",
    "    \"\"\"\n",
    "    \n",
    "    try:\n",
    "        # TODO: Use course_manager to search for courses\n",
    "        # Hint: Look at how other tools use course_manager.search_courses()\n",
    "        # You might need to search and then filter by department\n",
    "        \n",
    "        results = None  # Replace with your search logic\n",
    "        \n",
    "        if not results:\n",
    "            # TODO: Return a helpful message when no courses found\n",
    "            return \"\"\n",
    "        \n",
    "        # TODO: Format the results in a clear way\n",
    "        # Think about: How should the output look?\n",
    "        # Should it show course codes? Titles? Descriptions?\n",
    "        \n",
    "        return \"\"  # Replace with formatted results\n",
    "        \n",
    "    except Exception as e:\n",
    "        # TODO: Return a clear error message\n",
    "        return f\"Error: {str(e)}\""
   ]
  },
  {
   "cell_type": "markdown",
   "metadata": {},
   "source": [
    "### Step 3: Test Your Tool\n",
    "\n",
    "Test with different scenarios to make sure it works correctly."
   ]
  },
  {
   "cell_type": "code",
   "execution_count": null,
   "metadata": {},
   "outputs": [],
   "source": [
    "# Test your tool with different departments\n",
    "\n",
    "# Test 1: Valid department\n",
    "# result = await get_courses_by_department.ainvoke({\"department\": \"Computer Science\"})\n",
    "# print(\"Test 1 Result:\", result)\n",
    "\n",
    "# Test 2: Department that might not exist\n",
    "# result = await get_courses_by_department.ainvoke({\"department\": \"Underwater Basketweaving\"})\n",
    "# print(\"Test 2 Result:\", result)\n",
    "\n",
    "# Test 3: Empty or invalid input\n",
    "# result = await get_courses_by_department.ainvoke({\"department\": \"\"})\n",
    "# print(\"Test 3 Result:\", result)\n",
    "\n",
    "# TODO: Uncomment and run these tests\n",
    "# What happens in each case? Is the output helpful?"
   ]
  },
  {
   "cell_type": "markdown",
   "metadata": {},
   "source": [
    "### Step 4: Reflection\n",
    "\n",
    "Think about your tool:\n",
    "\n",
    "**Questions to consider:**\n",
    "- Is the description clear enough for an LLM to understand?\n",
    "- Does it handle errors gracefully?\n",
    "- Is the output format helpful for users?\n",
    "- What would you improve?\n",
    "\n",
    "---\n",
    "\n",
    "## 🔄 **Advanced Practice: Tool Description Optimization**\n",
    "\n",
    "Now that you've built a tool, let's practice improving tool descriptions and designing new tools."
   ]
  },
  {
   "cell_type": "markdown",
   "metadata": {},
   "source": [
    "### Exercise A: Improve a Tool Description\n",
    "\n",
    "Let's take a basic tool and improve its description to see how it affects LLM behavior.\n",
    "\n",
    "**Your task:** Improve the `search_courses_basic` tool description and test the difference."
   ]
  },
  {
   "cell_type": "code",
   "execution_count": null,
   "metadata": {},
   "outputs": [],
   "source": [
    "# Original basic tool with minimal description\n",
    "@tool\n",
    "async def search_courses_basic(query: str) -> str:\n",
    "    \"\"\"Search for courses.\"\"\"\n",
    "    \n",
    "    try:\n",
    "        results = await course_manager.search_courses(query, limit=5)\n",
    "        if not results:\n",
    "            return \"No courses found.\"\n",
    "        \n",
    "        output = []\n",
    "        for course in results:\n",
    "            output.append(f\"{course.code}: {course.title}\")\n",
    "        return \"\\n\".join(output)\n",
    "    except Exception as e:\n",
    "        return f\"Error: {str(e)}\"\n",
    "\n",
    "print(\"✅ Basic tool created with minimal description\")"
   ]
  },
  {
   "cell_type": "code",
   "execution_count": null,
   "metadata": {},
   "outputs": [],
   "source": [
    "# Now create an improved version\n",
    "@tool\n",
    "async def search_courses_improved(query: str) -> str:\n",
    "    \"\"\"\n",
    "    # TODO: Write a much better description that includes:\n",
    "    # - What this tool does specifically\n",
    "    # - When the LLM should use it\n",
    "    # - What kind of queries work best\n",
    "    # - What the output format will be\n",
    "    # \n",
    "    # Example structure:\n",
    "    # \"Search for courses by topic, keyword, or subject area.\n",
    "    # \n",
    "    # Use this when:\n",
    "    # - Student asks about courses on a specific topic\n",
    "    # - Student wants to explore available courses\n",
    "    # - Student asks 'What courses are available for...'\n",
    "    # \n",
    "    # Returns: List of course codes and titles matching the query.\"\n",
    "    \"\"\"\n",
    "    \n",
    "    # Same implementation as basic version\n",
    "    try:\n",
    "        results = await course_manager.search_courses(query, limit=5)\n",
    "        if not results:\n",
    "            return f\"No courses found matching '{query}'. Try different keywords.\"\n",
    "        \n",
    "        output = []\n",
    "        for course in results:\n",
    "            output.append(f\"{course.code}: {course.title}\")\n",
    "        return f\"Found {len(results)} courses:\\n\" + \"\\n\".join(output)\n",
    "    except Exception as e:\n",
    "        return f\"Error searching courses: {str(e)}\""
   ]
  },
  {
   "cell_type": "markdown",
   "metadata": {},
   "source": [
    "### Test the Difference\n",
    "\n",
    "Compare how an LLM might interpret these two tools:\n",
    "\n",
    "**Basic description:** \"Search for courses.\"\n",
    "**Improved description:** [Your improved version]\n",
    "\n",
    "**Think about:**\n",
    "- Which description better explains when to use the tool?\n",
    "- Which gives clearer expectations about the output?\n",
    "- Which would help an LLM make better tool selection decisions?"
   ]
  },
  {
   "cell_type": "markdown",
   "metadata": {},
   "source": [
    "### Exercise B: Design a Student Schedule Tool\n",
    "\n",
    "Now let's practice designing a new tool from scratch. Think through the design before coding.\n",
    "\n",
    "**Your task:** Design a tool for getting a student's current schedule."
   ]
  },
  {
   "cell_type": "markdown",
   "metadata": {},
   "source": [
    "#### Step 1: Think About Parameters\n",
    "\n",
    "**Questions to consider:**\n",
    "- What information do you need to identify a student?\n",
    "- Should you get current semester only, or allow specifying a semester?\n",
    "- What if the student ID doesn't exist?\n",
    "\n",
    "**Design your parameters:**\n",
    "```python\n",
    "# TODO: Design the input schema\n",
    "class GetStudentScheduleInput(BaseModel):\n",
    "    # What parameters do you need?\n",
    "    # student_id: str = Field(description=\"...\")\n",
    "    # semester: Optional[str] = Field(default=None, description=\"...\")\n",
    "```"
   ]
  },
  {
   "cell_type": "markdown",
   "metadata": {},
   "source": [
    "#### Step 2: Think About Return Format\n",
    "\n",
    "**Questions to consider:**\n",
    "- What information should be included for each course?\n",
    "- How should the schedule be formatted for readability?\n",
    "- Should it show time conflicts or just list courses?\n",
    "\n",
    "**Example output formats:**\n",
    "```\n",
    "Option A: Simple list\n",
    "CS101: Introduction to Programming\n",
    "MATH201: Calculus II\n",
    "\n",
    "Option B: With schedule details\n",
    "Monday 9:00-10:30: CS101 - Introduction to Programming\n",
    "Monday 11:00-12:30: MATH201 - Calculus II\n",
    "\n",
    "Option C: Organized by day\n",
    "Monday:\n",
    "  9:00-10:30: CS101 - Introduction to Programming\n",
    "  11:00-12:30: MATH201 - Calculus II\n",
    "```\n",
    "\n",
    "**Which format would be most helpful for students?**"
   ]
  },
  {
   "cell_type": "markdown",
   "metadata": {},
   "source": [
    "#### Step 3: Think About Error Handling\n",
    "\n",
    "**What could go wrong?**\n",
    "- Student ID doesn't exist\n",
    "- Student has no courses registered\n",
    "- Invalid semester specified\n",
    "- Database connection issues\n",
    "\n",
    "**How should you handle each case?**\n",
    "- Return helpful error messages\n",
    "- Suggest next steps when possible\n",
    "- Distinguish between \"no courses\" and \"student not found\""
   ]
  },
  {
   "cell_type": "markdown",
   "metadata": {},
   "source": [
    "#### Step 4: Write the Tool Description\n",
    "\n",
    "Before implementing, write a clear description:\n",
    "\n",
    "```python\n",
    "@tool(args_schema=GetStudentScheduleInput)\n",
    "async def get_student_schedule(student_id: str, semester: Optional[str] = None) -> str:\n",
    "    \"\"\"\n",
    "    # TODO: Write a description that explains:\n",
    "    # - What this tool does\n",
    "    # - When to use it\n",
    "    # - What parameters are required vs optional\n",
    "    # - What the output format will be\n",
    "    \"\"\"\n",
    "    \n",
    "    # Implementation would go here\n",
    "    pass\n",
    "```\n",
    "\n",
    "**Remember:** The description is what the LLM sees to decide when to use your tool!"
   ]
  },
  {
   "cell_type": "markdown",
   "metadata": {},
   "source": [
    "---\n",
    "\n",
    "## 🎉 Congratulations!\n",
    "\n",
    "You've now:\n",
    "- ✅ **Built a tool from scratch** with guided steps\n",
    "- ✅ **Improved tool descriptions** and understood their impact\n",
    "- ✅ **Designed a new tool** by thinking through parameters, outputs, and errors\n",
    "\n",
    "These are the core skills for creating effective AI agent tools!\n",
    "\n",
    "**Ready for more?** Continue with `03_tool_selection_strategies.ipynb` to learn how LLMs choose between tools."
   ]
  }
 ],
 "metadata": {
  "kernelspec": {
   "display_name": "Python 3 (ipykernel)",
   "language": "python",
   "name": "python3"
  },
  "language_info": {
   "codemirror_mode": {
    "name": "ipython",
    "version": 3
   },
   "file_extension": ".py",
   "mimetype": "text/x-python",
   "name": "python",
   "nbconvert_exporter": "python",
   "nbconvert_exporter": "python",
   "pygments_lexer": "ipython3",
   "version": "3.12.6"
  }
 },
 "nbformat": 4,
 "nbformat_minor": 4
}
