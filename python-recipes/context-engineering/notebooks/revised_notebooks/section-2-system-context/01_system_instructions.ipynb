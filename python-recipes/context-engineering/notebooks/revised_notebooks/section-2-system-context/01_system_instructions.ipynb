{
 "cells": [
  {
   "cell_type": "markdown",
   "metadata": {},
   "source": [
    "![Redis](https://redis.io/wp-content/uploads/2024/04/Logotype.svg?auto=webp&quality=85,75&width=120)\n",
    "\n",
    "# System Instructions: The Foundation of Context Engineering\n",
    "\n",
    "## Learning Objectives (25 minutes)\n",
    "By the end of this notebook, you will be able to:\n",
    "1. **Build** effective system instructions step by step\n",
    "2. **Test** different instruction approaches and see their impact\n",
    "3. **Apply** behavioral guidelines to control agent responses\n",
    "4. **Integrate** Redis University context into system prompts\n",
    "5. **Optimize** instructions for specific use cases\n",
    "\n",
    "## Prerequisites\n",
    "- OpenAI API key configured\n",
    "- Basic understanding of LLM prompting\n",
    "- Redis Stack running (for advanced examples)\n",
    "\n",
    "---\n",
    "\n",
    "## Introduction\n",
    "\n",
    "**System instructions** are the foundation of any AI agent. They define:\n",
    "- **Who** the agent is (role and identity)\n",
    "- **What** the agent can do (capabilities and tools)\n",
    "- **How** the agent should behave (personality and guidelines)\n",
    "- **When** to use different approaches (context-aware responses)\n",
    "\n",
    "In this notebook, we'll build system instructions for our Redis University Class Agent step by step, testing each version to see the impact.\n",
    "\n",
    "## Environment Setup"
   ]
  },
  {
   "cell_type": "code",
   "execution_count": null,
   "metadata": {},
   "outputs": [],
   "source": [
    "# Environment setup\n",
    "import os\n",
    "from dotenv import load_dotenv\n",
    "\n",
    "# Load environment variables\n",
    "load_dotenv()\n",
    "OPENAI_API_KEY = os.getenv(\"OPENAI_API_KEY\")\n",
    "\n",
    "print(\"🔧 Environment Setup\")\n",
    "print(\"=\" * 30)\n",
    "print(f\"OpenAI API Key: {'✅ Set' if OPENAI_API_KEY else '❌ Not set'}\")"
   ]
  },
  {
   "cell_type": "code",
   "execution_count": null,
   "metadata": {},
   "outputs": [],
   "source": [
    "# Import LangChain components (consistent with our LangGraph agent)\n",
    "try:\n",
    "    from langchain_openai import ChatOpenAI\n",
    "    from langchain_core.messages import SystemMessage, HumanMessage, AIMessage\n",
    "    \n",
    "    if OPENAI_API_KEY:\n",
    "        # Initialize LangChain ChatOpenAI (same as our agent uses)\n",
    "        llm = ChatOpenAI(\n",
    "            model=\"gpt-4o-mini\",  # Using mini for cost-effective learning\n",
    "            temperature=0.7,\n",
    "            max_tokens=200  # Keep responses concise for learning\n",
    "        )\n",
    "        print(\"✅ LangChain ChatOpenAI initialized\")\n",
    "        print(\"🤖 Using gpt-4o-mini for cost-effective learning\")\n",
    "    else:\n",
    "        llm = None\n",
    "        print(\"⚠️  LangChain ChatOpenAI not available (API key not set)\")\n",
    "        print(\"You can still follow along with the examples!\")\n",
    "        \n",
    "except ImportError as e:\n",
    "    llm = None\n",
    "    print(f\"⚠️  LangChain not installed: {e}\")\n",
    "    print(\"Install with: pip install langchain-openai langchain-core\")"
   ]
  },
  {
   "cell_type": "markdown",
   "metadata": {},
   "source": [
    "## 🧪 Hands-on: Building System Instructions\n",
    "\n",
    "Let's build system instructions for our Redis University Class Agent step by step. We'll start simple and add complexity gradually."
   ]
  },
  {
   "cell_type": "markdown",
   "metadata": {},
   "source": [
    "### Step 1: Minimal System Instructions\n",
    "\n",
    "Let's start with the bare minimum and see what happens:"
   ]
  },
  {
   "cell_type": "code",
   "execution_count": null,
   "metadata": {},
   "outputs": [],
   "source": [
    "# Minimal system prompt\n",
    "minimal_prompt = \"You are a helpful assistant.\"\n",
    "\n",
    "print(\"📋 Minimal system prompt:\")\n",
    "print(minimal_prompt)\n",
    "print(\"\\n\" + \"=\"*50)"
   ]
  },
  {
   "cell_type": "code",
   "execution_count": null,
   "metadata": {},
   "outputs": [],
   "source": [
    "# Test the minimal prompt using LangChain (consistent with our agent)\n",
    "def test_prompt(system_prompt, user_message, label):\n",
    "    \"\"\"Helper function to test prompts using LangChain messages\"\"\"\n",
    "    if llm:\n",
    "        # Create LangChain messages (same pattern as our agent)\n",
    "        messages = [\n",
    "            SystemMessage(content=system_prompt),\n",
    "            HumanMessage(content=user_message)\n",
    "        ]\n",
    "        \n",
    "        # Invoke the LLM (same as our agent does)\n",
    "        response = llm.invoke(messages)\n",
    "        \n",
    "        print(f\"🤖 {label}:\")\n",
    "        print(response.content)\n",
    "    else:\n",
    "        print(f\"⚠️  {label}: LangChain LLM not available - skipping test\")\n",
    "    \n",
    "    print(\"\\n\" + \"=\"*80)\n",
    "\n",
    "# Test with a course planning question\n",
    "test_prompt(\n",
    "    minimal_prompt, \n",
    "    \"I need help planning my classes for next semester.\",\n",
    "    \"Response with minimal instructions\"\n",
    ")"
   ]
  },
  {
   "cell_type": "markdown",
   "metadata": {},
   "source": [
    "**🤔 Problem:** The agent doesn't know it's a class scheduling agent. It might give generic advice instead of using our course catalog and tools."
   ]
  },
  {
   "cell_type": "markdown",
   "metadata": {},
   "source": [
    "### Step 2: Adding Role and Purpose\n",
    "\n",
    "Let's give the agent a specific role:"
   ]
  },
  {
   "cell_type": "code",
   "execution_count": null,
   "metadata": {},
   "outputs": [],
   "source": [
    "# Add role and purpose\n",
    "role_prompt = \"\"\"You are the Redis University Class Agent.\n",
    "\n",
    "Your role is to help students:\n",
    "• Find courses that match their interests and requirements\n",
    "• Plan their academic schedule\n",
    "• Check prerequisites and eligibility\n",
    "• Get personalized course recommendations\n",
    "\"\"\"\n",
    "\n",
    "print(\"📋 System prompt with role:\")\n",
    "print(role_prompt)"
   ]
  },
  {
   "cell_type": "code",
   "execution_count": null,
   "metadata": {},
   "outputs": [],
   "source": [
    "# Test the role-based prompt\n",
    "test_prompt(\n",
    "    role_prompt,\n",
    "    \"I need help planning my classes for next semester.\",\n",
    "    \"Response with role and purpose\"\n",
    ")"
   ]
  },
  {
   "cell_type": "markdown",
   "metadata": {},
   "source": [
    "**✅ Better!** The agent now understands its role, but it still doesn't know about our tools or how to behave."
   ]
  },
  {
   "cell_type": "markdown",
   "metadata": {},
   "source": [
    "### Step 3: Adding Behavioral Guidelines\n",
    "\n",
    "Let's add some personality and behavior guidelines:"
   ]
  },
  {
   "cell_type": "code",
   "execution_count": null,
   "metadata": {},
   "outputs": [],
   "source": [
    "# Add behavioral guidelines\n",
    "behavior_prompt = \"\"\"You are the Redis University Class Agent.\n",
    "\n",
    "Your role is to help students:\n",
    "• Find courses that match their interests and requirements\n",
    "• Plan their academic schedule\n",
    "• Check prerequisites and eligibility\n",
    "• Get personalized course recommendations\n",
    "\n",
    "Guidelines:\n",
    "• Be helpful, friendly, and encouraging\n",
    "• Ask clarifying questions when needed\n",
    "• Provide specific course recommendations with details\n",
    "• Explain prerequisites and requirements clearly\n",
    "• Stay focused on course planning and scheduling\n",
    "• If asked about topics outside your domain, politely redirect to course planning\n",
    "\"\"\"\n",
    "\n",
    "print(\"📋 System prompt with behavior guidelines:\")\n",
    "print(behavior_prompt)"
   ]
  },
  {
   "cell_type": "code",
   "execution_count": null,
   "metadata": {},
   "outputs": [],
   "source": [
    "# Test with an off-topic question\n",
    "test_prompt(\n",
    "    behavior_prompt,\n",
    "    \"What's the weather like today?\",\n",
    "    \"Response to off-topic question\"\n",
    ")"
   ]
  },
  {
   "cell_type": "markdown",
   "metadata": {},
   "source": [
    "**🎯 Great!** The agent now stays focused on its purpose and redirects off-topic questions."
   ]
  },
  {
   "cell_type": "markdown",
   "metadata": {},
   "source": [
    "### Step 4: Adding Tool Awareness\n",
    "\n",
    "Let's tell the agent about its capabilities and tools:"
   ]
  },
  {
   "cell_type": "code",
   "execution_count": null,
   "metadata": {},
   "outputs": [],
   "source": [
    "# Add tool awareness\n",
    "tools_prompt = \"\"\"You are the Redis University Class Agent.\n",
    "\n",
    "Your role is to help students:\n",
    "• Find courses that match their interests and requirements\n",
    "• Plan their academic schedule\n",
    "• Check prerequisites and eligibility\n",
    "• Get personalized course recommendations\n",
    "\n",
    "You have access to:\n",
    "• Complete course catalog with real-time availability\n",
    "• Student academic records and transcripts\n",
    "• Prerequisite checking tools\n",
    "• Course recommendation engine\n",
    "• Schedule conflict detection\n",
    "\n",
    "Guidelines:\n",
    "• Be helpful, friendly, and encouraging\n",
    "• Ask clarifying questions when needed\n",
    "• Use your tools to provide accurate, up-to-date information\n",
    "• Explain prerequisites and requirements clearly\n",
    "• Stay focused on course planning and scheduling\n",
    "• If asked about topics outside your domain, politely redirect to course planning\n",
    "\"\"\"\n",
    "\n",
    "print(\"📋 System prompt with tool awareness:\")\n",
    "print(tools_prompt)"
   ]
  },
  {
   "cell_type": "code",
   "execution_count": null,
   "metadata": {},
   "outputs": [],
   "source": [
    "# Test with a specific course question\n",
    "test_prompt(\n",
    "    tools_prompt,\n",
    "    \"I'm interested in machine learning courses. What do you recommend?\",\n",
    "    \"Response with tool awareness\"\n",
    ")"
   ]
  },
  {
   "cell_type": "markdown",
   "metadata": {},
   "source": [
    "**🚀 Excellent!** The agent now mentions using its tools and provides more specific guidance."
   ]
  },
  {
   "cell_type": "markdown",
   "metadata": {},
   "source": [
    "### Step 5: Adding Context and Examples\n",
    "\n",
    "Let's add some context about Redis University and example interactions:"
   ]
  },
  {
   "cell_type": "code",
   "execution_count": null,
   "metadata": {},
   "outputs": [],
   "source": [
    "# Add context and examples\n",
    "complete_prompt = \"\"\"You are the Redis University Class Agent.\n",
    "\n",
    "Your role is to help students:\n",
    "• Find courses that match their interests and requirements\n",
    "• Plan their academic schedule\n",
    "• Check prerequisites and eligibility\n",
    "• Get personalized course recommendations\n",
    "\n",
    "You have access to:\n",
    "• Complete course catalog with real-time availability\n",
    "• Student academic records and transcripts\n",
    "• Prerequisite checking tools\n",
    "• Course recommendation engine\n",
    "• Schedule conflict detection\n",
    "\n",
    "About Redis University:\n",
    "• Focuses on data engineering, databases, and distributed systems\n",
    "• Offers courses from beginner to advanced levels\n",
    "• Supports both online and in-person learning formats\n",
    "• Emphasizes hands-on, practical learning\n",
    "\n",
    "Guidelines:\n",
    "• Be helpful, friendly, and encouraging\n",
    "• Ask clarifying questions when needed\n",
    "• Use your tools to provide accurate, up-to-date information\n",
    "• Explain prerequisites and requirements clearly\n",
    "• Stay focused on course planning and scheduling\n",
    "• If asked about topics outside your domain, politely redirect to course planning\n",
    "\n",
    "Example interactions:\n",
    "Student: \"I'm new to databases. Where should I start?\"\n",
    "You: \"Great question! For database beginners, I'd recommend starting with 'Introduction to Databases' (DB101). Let me check if you meet the prerequisites and find the best schedule for you.\"\n",
    "\"\"\"\n",
    "\n",
    "print(\"📋 Complete system prompt:\")\n",
    "print(complete_prompt)"
   ]
  },
  {
   "cell_type": "code",
   "execution_count": null,
   "metadata": {},
   "outputs": [],
   "source": [
    "# Test the complete prompt\n",
    "test_prompt(\n",
    "    complete_prompt,\n",
    "    \"I'm new to databases. Where should I start?\",\n",
    "    \"Response with complete instructions\"\n",
    ")"
   ]
  },
  {
   "cell_type": "markdown",
   "metadata": {},
   "source": [
    "**🎉 Perfect!** The agent now has complete context and responds appropriately to Redis University students."
   ]
  },
  {
   "cell_type": "markdown",
   "metadata": {},
   "source": [
    "## 🔄 Hands-on: Comparing All Versions\n",
    "\n",
    "Let's test all our versions side by side to see the evolution:"
   ]
  },
  {
   "cell_type": "code",
   "execution_count": null,
   "metadata": {},
   "outputs": [],
   "source": [
    "# Compare all versions with the same question\n",
    "test_question = \"I want to learn about Redis and databases. What courses should I take?\"\n",
    "\n",
    "print(\"🔍 Testing all versions with the same question:\")\n",
    "print(f\"Question: {test_question}\")\n",
    "print(\"\\n\" + \"=\"*100)\n",
    "\n",
    "# Test each version\n",
    "versions = [\n",
    "    (\"Minimal\", minimal_prompt),\n",
    "    (\"With Role\", role_prompt),\n",
    "    (\"With Behavior\", behavior_prompt),\n",
    "    (\"With Tools\", tools_prompt),\n",
    "    (\"Complete\", complete_prompt)\n",
    "]\n",
    "\n",
    "for name, prompt in versions:\n",
    "    test_prompt(prompt, test_question, f\"{name} Version\")"
   ]
  },
  {
   "cell_type": "markdown",
   "metadata": {},
   "source": [
    "## 🎮 Try It Yourself: Experiment with Instructions\n",
    "\n",
    "Now that you understand the basics, try these experiments:"
   ]
  },
  {
   "cell_type": "markdown",
   "metadata": {},
   "source": [
    "### Experiment 1: Change the Personality\n",
    "\n",
    "Try making the agent more formal or more casual:"
   ]
  },
  {
   "cell_type": "code",
   "execution_count": null,
   "metadata": {},
   "outputs": [],
   "source": [
    "# Formal version\n",
    "formal_prompt = complete_prompt.replace(\n",
    "    \"Be helpful, friendly, and encouraging\",\n",
    "    \"Be professional, precise, and academically rigorous\"\n",
    ")\n",
    "\n",
    "# Casual version\n",
    "casual_prompt = complete_prompt.replace(\n",
    "    \"Be helpful, friendly, and encouraging\",\n",
    "    \"Be casual, enthusiastic, and use modern slang when appropriate\"\n",
    ")\n",
    "\n",
    "print(\"🎭 Testing different personalities:\")\n",
    "test_question = \"I'm struggling to choose between CS101 and CS102.\"\n",
    "\n",
    "test_prompt(formal_prompt, test_question, \"Formal Personality\")\n",
    "test_prompt(casual_prompt, test_question, \"Casual Personality\")"
   ]
  },
  {
   "cell_type": "markdown",
   "metadata": {},
   "source": [
    "### Experiment 2: Add Constraints\n",
    "\n",
    "Try adding specific constraints to see how they affect behavior:"
   ]
  },
  {
   "cell_type": "code",
   "execution_count": null,
   "metadata": {},
   "outputs": [],
   "source": [
    "# Add constraints\n",
    "constrained_prompt = complete_prompt + \"\"\"\n",
    "\n",
    "Important Constraints:\n",
    "• Always ask for the student's year (freshman, sophomore, junior, senior) before recommending courses\n",
    "• Never recommend more than 3 courses at once\n",
    "• Always mention the time commitment for each course\n",
    "• If a student seems overwhelmed, suggest starting with just one course\n",
    "\"\"\"\n",
    "\n",
    "print(\"🚧 Testing with constraints:\")\n",
    "test_prompt(\n",
    "    constrained_prompt,\n",
    "    \"I want to learn everything about databases!\",\n",
    "    \"Response with constraints\"\n",
    ")"
   ]
  },
  {
   "cell_type": "markdown",
   "metadata": {},
   "source": [
    "### Experiment 3: Your Turn!\n",
    "\n",
    "Create your own version with different characteristics:"
   ]
  },
  {
   "cell_type": "code",
   "execution_count": null,
   "metadata": {},
   "outputs": [],
   "source": [
    "# Your custom prompt - modify this!\n",
    "your_prompt = \"\"\"You are the Redis University Class Agent.\n",
    "\n",
    "Your role is to help students:\n",
    "• Find courses that match their interests and requirements\n",
    "• Plan their academic schedule\n",
    "• Check prerequisites and eligibility\n",
    "• Get personalized course recommendations\n",
    "\n",
    "# TODO: Add your own personality, constraints, or special features here!\n",
    "# Ideas:\n",
    "# - Make it focus on career outcomes\n",
    "# - Add industry connections\n",
    "# - Include study tips\n",
    "# - Add motivational elements\n",
    "# - Focus on practical skills\n",
    "\n",
    "Guidelines:\n",
    "• Be helpful, friendly, and encouraging\n",
    "• Ask clarifying questions when needed\n",
    "• Use your tools to provide accurate, up-to-date information\n",
    "\"\"\"\n",
    "\n",
    "print(\"🎨 Your custom prompt:\")\n",
    "print(your_prompt)\n",
    "\n",
    "# Test your custom prompt\n",
    "test_prompt(\n",
    "    your_prompt,\n",
    "    \"I want to get a job at a tech company. What courses should I prioritize?\",\n",
    "    \"Your Custom Version\"\n",
    ")"
   ]
  },
  {
   "cell_type": "markdown",
   "metadata": {},
   "source": [
    "## 🧪 Advanced: Simple Context Integration\n",
    "\n",
    "Let's see how to make system instructions context-aware:"
   ]
  },
  {
   "cell_type": "code",
   "execution_count": null,
   "metadata": {},
   "outputs": [],
   "source": [
    "# Simple context-aware prompt builder\n",
    "def build_context_aware_prompt(student_info=None):\n",
    "    \"\"\"Build a prompt that includes student context\"\"\"\n",
    "    \n",
    "    base_prompt = complete_prompt\n",
    "    \n",
    "    if student_info:\n",
    "        context_section = \"\\n\\nCurrent Student Context:\\n\"\n",
    "        \n",
    "        if student_info.get('name'):\n",
    "            context_section += f\"• Student: {student_info['name']}\\n\"\n",
    "        \n",
    "        if student_info.get('year'):\n",
    "            context_section += f\"• Academic Year: {student_info['year']}\\n\"\n",
    "        \n",
    "        if student_info.get('major'):\n",
    "            context_section += f\"• Major: {student_info['major']}\\n\"\n",
    "        \n",
    "        if student_info.get('interests'):\n",
    "            context_section += f\"• Interests: {', '.join(student_info['interests'])}\\n\"\n",
    "        \n",
    "        context_section += \"\\nUse this context to personalize your recommendations.\\n\"\n",
    "        \n",
    "        return base_prompt + context_section\n",
    "    \n",
    "    return base_prompt\n",
    "\n",
    "# Test with student context\n",
    "student_context = {\n",
    "    'name': 'Alice',\n",
    "    'year': 'sophomore',\n",
    "    'major': 'Computer Science',\n",
    "    'interests': ['machine learning', 'web development']\n",
    "}\n",
    "\n",
    "context_prompt = build_context_aware_prompt(student_context)\n",
    "\n",
    "print(\"🧠 Context-aware prompt:\")\n",
    "print(context_prompt[-200:])  # Show last 200 characters\n",
    "print(\"\\n\" + \"=\"*50)"
   ]
  },
  {
   "cell_type": "code",
   "execution_count": null,
   "metadata": {},
   "outputs": [],
   "source": [
    "# Test context-aware response using LangChain\n",
    "def test_context_aware_prompt(system_prompt, user_message, student_context):\n",
    "    \"\"\"Test context-aware prompts with student information\"\"\"\n",
    "    if llm:\n",
    "        # Build context-aware system message\n",
    "        context_prompt = build_context_aware_prompt(student_context)\n",
    "        \n",
    "        # Create LangChain messages with context\n",
    "        messages = [\n",
    "            SystemMessage(content=context_prompt),\n",
    "            HumanMessage(content=user_message)\n",
    "        ]\n",
    "        \n",
    "        # Invoke with context (same pattern as our agent)\n",
    "        response = llm.invoke(messages)\n",
    "        \n",
    "        print(\"🤖 Context-Aware Response:\")\n",
    "        print(f\"Student: {student_context.get('name', 'Unknown')} ({student_context.get('year', 'Unknown')})\")\n",
    "        print(f\"Interests: {', '.join(student_context.get('interests', []))}\")\n",
    "        print(\"\\nResponse:\")\n",
    "        print(response.content)\n",
    "    else:\n",
    "        print(\"⚠️  Context-aware test: LangChain LLM not available\")\n",
    "    \n",
    "    print(\"\\n\" + \"=\"*80)\n",
    "\n",
    "# Test with student context\n",
    "test_context_aware_prompt(\n",
    "    complete_prompt,\n",
    "    \"What courses should I take next semester?\",\n",
    "    student_context\n",
    ")"
   ]
  },
  {
   "cell_type": "markdown",
   "metadata": {},
   "source": [
    "## 🎯 Key Takeaways\n",
    "\n",
    "From this hands-on exploration, you've learned:\n",
    "\n",
    "### ✅ **System Instruction Fundamentals**\n",
    "- **Start simple** and build complexity gradually\n",
    "- **Test each change** to see its impact immediately\n",
    "- **Role and purpose** are the foundation of effective instructions\n",
    "- **Behavioral guidelines** control how the agent responds\n",
    "\n",
    "### ✅ **Practical Techniques**\n",
    "- **Progressive building** from minimal to complete instructions\n",
    "- **Comparative testing** to see the evolution of responses\n",
    "- **Constraint addition** to control specific behaviors\n",
    "- **Context integration** for personalized responses\n",
    "\n",
    "### ✅ **Best Practices**\n",
    "- **Be specific** about the agent's role and capabilities\n",
    "- **Include examples** of desired interactions\n",
    "- **Add constraints** to prevent unwanted behavior\n",
    "- **Test thoroughly** with various types of questions\n",
    "\n",
    "### 🚀 **Next Steps**\n",
    "You're now ready to:\n",
    "- Build effective system instructions for any AI agent\n",
    "- Test and iterate on instruction effectiveness\n",
    "- Integrate context for personalized experiences\n",
    "- Move on to **Tool Definition** to give your agent capabilities\n",
    "\n",
    "---\n",
    "\n",
    "**Great work!** You've mastered the fundamentals of system instruction design. Ready to continue with **`02_defining_tools.ipynb`** to learn how to give your agent powerful capabilities?"
   ]
  }
 ],
 "metadata": {
  "kernelspec": {
   "display_name": "Python 3 (ipykernel)",
   "language": "python",
   "name": "python3"
  },
  "language_info": {
   "codemirror_mode": {
    "name": "ipython",
    "version": 3
   },
   "file_extension": ".py",
   "mimetype": "text/x-python",
   "name": "python",
   "nbconvert_exporter": "python",
   "pygments_lexer": "ipython3",
   "version": "3.12.6"
  }
 },
 "nbformat": 4,
 "nbformat_minor": 4
}
