{
  "cells": [
    {
      "cell_type": "markdown",
      "metadata": {},
      "source": [
        "![Redis](https://redis.io/wp-content/uploads/2024/04/Logotype.svg?auto=webp&quality=85,75&width=120)\n",
        "\n",
        "# Project Overview: Redis University Class Agent\n",
        "\n",
        "## Introduction\n",
        "\n",
        "Throughout this course, we'll be building and exploring a complete **Redis University Class Agent** - a sophisticated AI agent that helps students find courses, plan their academic journey, and provides personalized recommendations.\n",
        "\n",
        "This project serves as a comprehensive example of context engineering principles in action, demonstrating how to build intelligent, context-aware AI systems using Redis, LangGraph, and modern AI tools.\n",
        "\n",
        "## Project Goals\n",
        "\n",
        "Our Redis University Class Agent is designed to:\n",
        "\n",
        "### 🎯 **Primary Objectives**\n",
        "- **Help students discover relevant courses** based on their interests and goals\n",
        "- **Provide personalized recommendations** considering academic history and preferences\n",
        "- **Remember student context** across multiple conversations and sessions\n",
        "- **Answer questions** about courses, prerequisites, and academic planning\n",
        "- **Adapt and learn** from student interactions over time\n",
        "\n",
        "### 📚 **Educational Objectives**\n",
        "- **Demonstrate context engineering concepts** in a real-world scenario\n",
        "- **Show Redis capabilities** for AI applications and memory management\n",
        "- **Illustrate LangGraph workflows** for complex agent behaviors\n",
        "- **Provide a reference implementation** for similar projects\n",
        "- **Teach best practices** for building context-aware AI systems\n",
        "\n",
        "## System Architecture\n",
        "\n",
        "Our agent follows a modern, scalable architecture:\n",
        "\n",
        "```\n",
        "┌─────────────────┐    ┌─────────────────┐    ┌─────────────────┐\n",
        "│   User Input    │───▶│   LangGraph     │───▶│   OpenAI GPT    │\n",
        "│   (CLI/API)     │    │   Agent         │    │   (LLM)         │\n",
        "└─────────────────┘    └─────────────────┘    └─────────────────┘\n",
        "                              │\n",
        "                              ▼\n",
        "┌─────────────────────────────────────────────────────────────────┐\n",
        "│                    Redis Context Engine                         │\n",
        "├─────────────────┬─────────────────┬─────────────────────────────┤\n",
        "│  Short-term     │  Long-term      │     Course Catalog          │\n",
        "│  Memory         │  Memory         │     (Vector Search)         │\n",
        "│  (Checkpointer) │  (Vector Store) │                             │\n",
        "└─────────────────┴─────────────────┴─────────────────────────────┘\n",
        "```\n",
        "\n",
        "### Key Components\n",
        "\n",
        "1. **LangGraph Agent**: Orchestrates the conversation flow and decision-making\n",
        "2. **Redis Context Engine**: Manages all context and memory operations\n",
        "3. **OpenAI Integration**: Provides language understanding and generation\n",
        "4. **Tool System**: Enables the agent to search, recommend, and remember\n",
        "5. **CLI Interface**: Provides an interactive way to chat with the agent\n",
        "\n",
        "## Core Features\n",
        "\n",
        "Let's explore the key features our agent provides:"
      ]
    },
    {
      "cell_type": "code",
      "execution_count": null,
      "metadata": {},
      "outputs": [],
      "source": [
        "# Install the Redis Context Course package\n",
        "%pip install -q -e ../../reference-agent\n",
        "\n",
        "# Or install from PyPI (when available)\n",
        "# %pip install -q redis-context-course"
      ]
    },
    {
      "cell_type": "code",
      "execution_count": null,
      "metadata": {},
      "outputs": [],
      "source": [
        "import os\n",
        "import sys\n",
        "\n",
        "# Set up environment - handle both interactive and CI environments\n",
        "def _set_env(key: str):\n",
        "    if key not in os.environ:\n",
        "        # Check if we're in an interactive environment\n",
        "        if hasattr(sys.stdin, 'isatty') and sys.stdin.isatty():\n",
        "            import getpass\n",
        "            os.environ[key] = getpass.getpass(f\"{key}: \")\n",
        "        else:\n",
        "            # Non-interactive environment (like CI) - use a dummy key\n",
        "            print(f\"⚠️  Non-interactive environment detected. Using dummy {key} for demonstration.\")\n",
        "            os.environ[key] = \"sk-dummy-key-for-testing-purposes-only\"\n",
        "\n",
        "_set_env(\"OPENAI_API_KEY\")\n",
        "os.environ[\"REDIS_URL\"] = \"redis://localhost:6379\""
      ]
    },
    {
      "cell_type": "markdown",
      "metadata": {},
      "source": [
        "## Feature 1: Intelligent Course Search\n",
        "\n",
        "The agent can search through course catalogs using both semantic and structured search:"
      ]
    },
    {
      "cell_type": "markdown",
      "metadata": {},
      "source": [
        "### Intelligent course search\n",
        "- Semantic vector search (OpenAI embeddings) with RedisVL\n",
        "- Structured filters (department, difficulty, format)\n",
        "- Hybrid search and relevance ranking\n",
        "\n",
        "Example:\n",
        "```python\n",
        "# Initialize once at the top of your notebook\n",
        "from redis_context_course.course_manager import CourseManager\n",
        "course_manager = CourseManager()\n",
        "\n",
        "# Run a semantic search\n",
        "results = course_manager.search(\"machine learning\", limit=3)  # method name may vary\n",
        "for r in results:\n",
        "    print(r.code, r.title)\n",
        "```\n"
      ]
    }
    {
      "cell_type": "markdown",
      "metadata": {},
      "source": [
        "## Feature 2: Personalized Recommendations\n",
        "\n",
        "The agent provides personalized course recommendations based on student profiles and preferences:"
      ]
    },
    {
      "cell_type": "markdown",
      "metadata": {},
      "source": [
        "### Personalized recommendations\n",
        "- Combines interests, history, prerequisites, and preferences\n",
        "- Ranks courses and explains each recommendation\n",
        "\n",
        "Example:\n",
        "```python\n",
        "from redis_context_course.models import StudentProfile, CourseFormat, DifficultyLevel\n",
        "profile = StudentProfile(\n",
        "    name=\"Alex Johnson\", major=\"Computer Science\", year=2,\n",
        "    completed_courses=[\"CS101\", \"MATH101\"],\n",
        "    interests=[\"machine learning\", \"web development\"],\n",
        "    preferred_format=CourseFormat.ONLINE,\n",
        "    preferred_difficulty=DifficultyLevel.INTERMEDIATE,\n",
        ")\n",
        "recs = course_manager.recommend(profile, k=3)  # method name may vary\n",
        "for c in recs:\n",
        "    print(c.code, c.title)\n",
        "```\n"
      ]
    }
    {
      "cell_type": "markdown",
      "metadata": {},
      "source": [
        "## Feature 3: Persistent Memory System\n",
        "\n",
        "The agent remembers student interactions and builds context over time:"
      ]
    },
    {
      "cell_type": "markdown",
      "metadata": {},
      "source": [
        "### Persistent memory system\n",
        "- Stores preferences, goals, experiences, and key conversation summaries\n",
        "- Supports store, retrieve, consolidate, update, and expire operations\n",
        "\n",
        "Example:\n",
        "```python\n",
        "from agent_memory_client import MemoryClient, MemoryClientConfig\n",
        "cfg = MemoryClientConfig(base_url=\"http://localhost:8000\", default_namespace=\"redis_university\")\n",
        "mem = MemoryClient(config=cfg)\n",
        "mem.store(entity_id=\"alex\", kind=\"preference\", text=\"Prefers online courses\")\n",
        "related = mem.search(entity_id=\"alex\", query=\"online\", k=3)\n",
        "```\n"
      ]
    }
    {
      "cell_type": "markdown",
      "metadata": {},
      "source": [
        "## Feature 4: LangGraph Workflow\n",
        "\n",
        "The agent uses LangGraph for sophisticated workflow orchestration:"
      ]
    },
    {
      "cell_type": "markdown",
      "metadata": {},
      "source": [
        "### LangGraph workflow\n",
        "```text\n",
        "┌─────────────────┐\n",
        "│  User Input     │\n",
        "└─────────┬───────┘\n",
        "          │\n",
        "          ▼\n",
        "┌─────────────────┐   (retrieve context)\n",
        "│ Retrieve        │◄────────────────────\n",
        "│ Context         │\n",
        "└─────────┬───────┘\n",
        "          │\n",
        "          ▼\n",
        "┌─────────────────┐   (uses tools when needed)\n",
        "│ Agent Reasoning │\n",
        "└─────────┬───────┘\n",
        "          │\n",
        "          ▼\n",
        "┌─────────────────┐   (checkpointer + long-term)\n",
        "│ Store Memory    │\n",
        "└─────────────────┘\n",
        "```\n",
        "\n",
        "Tools: search courses, get recommendations, store preferences/goals, fetch student context.\n"
      ]
    }
    {
      "cell_type": "markdown",
      "metadata": {},
      "source": [
        "## Feature 5: Interactive CLI Interface\n",
        "\n",
        "The agent provides a rich command-line interface for easy interaction:"
      ]
    },
    {
      "cell_type": "markdown",
      "metadata": {},
      "source": [
        "### Interactive CLI interface\n",
        "\n",
        "- Rich formatting, history, and help\n",
        "- Typing indicators, markdown rendering, friendly errors\n",
        "\n",
        "Example session:\n",
        "```text\n",
        "You: I'm interested in machine learning courses\n",
        "Agent: Recommends top matches and explains why\n",
        "You: I prefer online courses\n",
        "Agent: Filters to online options and remembers the preference\n",
        "```\n"
      ]
    },
    {
      "cell_type": "markdown",
      "metadata": {},
      "source": [
        "## Technical Implementation\n",
        "\n",
        "Let's examine the technical stack and implementation details:"
      ]
    },
    {
      "cell_type": "markdown",
      "metadata": {},
      "source": [
        "### Technology stack\n",
        "- AI/ML: OpenAI GPT for generation; text-embedding-3-small for embeddings; LangChain + LangGraph\n",
        "- Data & Storage: Redis 8 (vectors + metadata), RedisVL; LangGraph checkpointing in Redis\n",
        "- Development: Python 3.8+, Pydantic, Rich/Click, asyncio\n",
        "- Quality: Pytest, Black, isort, MyPy\n",
        "\n",
        "### Architecture patterns\n",
        "- Repository: isolate data access (CourseManager, MemoryClient)\n",
        "- Strategy: multiple search/retrieval strategies (semantic, keyword, hybrid)\n",
        "- Observer: state persistence & consolidation via Redis checkpointer\n",
        "- Factory: constructors for memories and course artifacts\n",
        "\n",
        "### Performance notes\n",
        "- Sub\u2011ms Redis ops; typical vector search <50 ms; retrieval <100 ms; end\u2011to\u2011end response <2 s\n",
        "- Scales horizontally with Redis and stateless workers\n"
      ]
    }
    {
      "cell_type": "markdown",
      "metadata": {},
      "source": [
        "## Getting Started with the Project\n",
        "\n",
        "Here's how to set up and run the Redis University Class Agent:"
      ]
    },
    {
      "cell_type": "markdown",
      "metadata": {},
      "source": [
        "### Prerequisites\n",
        "- Python 3.8+\n",
        "- Redis 8 (local or Docker)\n",
        "- OpenAI API key\n",
        "\n",
        "### Setup\n",
        "1. Clone and enter the project\n",
        "\n",
        "   ```bash\n",
        "   git clone https://github.com/redis-developer/redis-ai-resources.git\n",
        "   cd redis-ai-resources/python-recipes/context-engineering/reference-agent\n",
        "   ```\n",
        "\n",
        "2. Install dependencies\n",
        "\n",
        "   ```bash\n",
        "   pip install -r requirements.txt\n",
        "   ```\n",
        "\n",
        "3. Configure environment\n",
        "\n",
        "   ```bash\n",
        "   cp .env.example .env\n",
        "   # edit .env to set OPENAI_API_KEY and REDIS_URL\n",
        "   ```\n",
        "\n",
        "4. Start Redis (Docker example)\n",
        "\n",
        "   ```bash\n",
        "   docker run -d --name redis -p 6379:6379 redis:8-alpine\n",
        "   ```\n",
        "\n",
        "5. Seed and ingest sample data\n",
        "\n",
        "   ```bash\n",
        "   python scripts/generate_courses.py --courses-per-major 15\n",
        "   python scripts/ingest_courses.py --catalog course_catalog.json --clear\n",
        "   ```\n",
        "\n",
        "6. Start the agent\n",
        "\n",
        "   ```bash\n",
        "   python src/cli.py --student-id your_name\n",
        "   ```\n",
        "\n",
        "### Verify\n",
        "- Redis connection reports Healthy\n",
        "- Course catalog shows 50+ courses\n",
        "- Agent greets and can search for \"programming\"\n",
        "- Preferences persist across messages\n",
        "\n",
        "### Next steps\n",
        "- Continue to Section 2: System Context\n",
        "- Try different queries and explore the code\n",
        "- Extend the agent with new tools\n"
      ]
    }
    {
      "cell_type": "markdown",
      "metadata": {},
      "source": [
        "## Learning Objectives\n",
        "\n",
        "By working with this project, you'll learn:"
      ]
    },
    {
      "cell_type": "markdown",
      "metadata": {},
      "source": [
        "### What you'll learn\n",
        "- Context engineering principles and patterns\n",
        "- Designing context-aware agents with LangGraph\n",
        "- Using Redis 8 and RedisVL for vector search and state\n",
        "- Building and evaluating retrieval and memory strategies\n",
        "\n",
        "### Skills you'll build\n",
        "- Agent workflow design and tool integration\n",
        "- Memory modeling (short-term, long-term, consolidation)\n",
        "- Performance tuning for vector search and retrieval\n",
        "- Robustness: error handling, persistence, observability\n"
      ]
    }
    {
      "cell_type": "markdown",
      "metadata": {},
      "source": [
        "## Course Roadmap\n",
        "\n",
        "Here's what we'll cover in the upcoming sections:"
      ]
    },
    {
      "cell_type": "markdown",
      "metadata": {},
      "source": [
        "### Course roadmap\n",
        "\n",
        "- Section 1: Introduction (current)\n",
        "  - What is Context Engineering?\n",
        "  - Project Overview: Redis University Class Agent\n",
        "\n",
        "- Section 2: Setting up System Context\n",
        "  - Prepping the system context\n",
        "  - Defining available tools\n",
        "\n",
        "- Section 3: Memory Management\n",
        "  - Working memory with extraction strategies\n",
        "  - Long-term memory and integration\n",
        "  - Memory tools\n",
        "\n",
        "- Section 4: Optimizations\n",
        "  - Context window management\n",
        "  - Retrieval strategies and grounding\n",
        "  - Tool optimization\n",
        "  - Crafting data for LLMs\n"
      ]
    }
    {
      "cell_type": "markdown",
      "metadata": {},
      "source": [
        "## Conclusion\n",
        "\n",
        "The Redis University Class Agent represents a comprehensive example of context engineering in practice. It demonstrates how to build intelligent, context-aware AI systems that can:\n",
        "\n",
        "- **Remember and learn** from user interactions\n",
        "- **Provide personalized experiences** based on individual needs\n",
        "- **Scale efficiently** using Redis as the context engine\n",
        "- **Integrate seamlessly** with modern AI frameworks\n",
        "- **Maintain consistency** across multiple sessions and conversations\n",
        "\n",
        "As we progress through this course, you'll gain hands-on experience with each component of the system, learning not just how to build context-aware AI agents, but understanding the principles and patterns that make them effective.\n",
        "\n",
        "## Ready to Continue?\n",
        "\n",
        "Now that you understand the project overview and architecture, you're ready to dive into the technical implementation. In **Section 2: Setting up System Context**, we'll explore:\n",
        "\n",
        "- How to define what your AI agent should know about itself\n",
        "- Techniques for crafting effective system prompts\n",
        "- Methods for defining and managing agent tools\n",
        "- Best practices for setting capability boundaries\n",
        "\n",
        "Let's continue building your expertise in context engineering! 🚀"
      ]
    }
  ],
  "metadata": {
    "kernelspec": {
      "display_name": "Python 3",
      "language": "python",
      "name": "python3"
    },
    "language_info": {
      "codemirror_mode": {
        "name": "ipython",
        "version": 3
      },
      "file_extension": ".py",
      "name": "python",
      "nbconvert_exporter": "python",
      "pygments_lexer": "ipython3",
      "version": "3.8.0"
    }
  },
  "nbformat": 4,
  "nbformat_minor": 4
}
