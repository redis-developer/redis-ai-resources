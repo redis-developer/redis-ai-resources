{
 "cells": [
  {
   "cell_type": "markdown",
   "metadata": {},
   "source": [
    "# Long-term Memory: Cross-Session Knowledge\n",
    "\n",
    "## Introduction\n",
    "\n",
    "In this notebook, you'll learn about long-term memory - persistent knowledge that survives across sessions. While working memory handles the current conversation, long-term memory stores important facts, preferences, and experiences that should be remembered indefinitely.\n",
    "\n",
    "### What You'll Learn\n",
    "\n",
    "- What long-term memory is and why it's essential\n",
    "- The three types of long-term memories: semantic, episodic, and message\n",
    "- How to store and retrieve long-term memories\n",
    "- How semantic search works with memories\n",
    "- How automatic deduplication prevents redundancy\n",
    "\n",
    "### Prerequisites\n",
    "\n",
    "- Completed Section 2 notebooks\n",
    "- Completed `01_working_memory_with_extraction_strategies.ipynb`\n",
    "- Redis 8 running locally\n",
    "- Agent Memory Server running\n",
    "- OpenAI API key set"
   ]
  },
  {
   "cell_type": "markdown",
   "metadata": {},
   "source": [
    "## Concepts: Long-term Memory\n",
    "\n",
    "### What is Long-term Memory?\n",
    "\n",
    "Long-term memory is **persistent, cross-session knowledge** about users, preferences, and important facts. Unlike working memory (which is session-scoped), long-term memory:\n",
    "\n",
    "- ✅ Survives across sessions\n",
    "- ✅ Accessible from any conversation\n",
    "- ✅ Searchable via semantic vector search\n",
    "- ✅ Automatically deduplicated\n",
    "- ✅ Organized by user/namespace\n",
    "\n",
    "### Working Memory vs. Long-term Memory\n",
    "\n",
    "| Working Memory | Long-term Memory |\n",
    "|----------------|------------------|\n",
    "| **Session-scoped** | **User-scoped** |\n",
    "| Current conversation | Important facts |\n",
    "| TTL-based (expires) | Persistent |\n",
    "| Full message history | Extracted knowledge |\n",
    "| Loaded/saved each turn | Searched when needed |\n",
    "\n",
    "### Three Types of Long-term Memories\n",
    "\n",
    "The Agent Memory Server supports three types of long-term memories:\n",
    "\n",
    "1. **Semantic Memory** - Facts and knowledge\n",
    "   - Example: \"Student prefers online courses\"\n",
    "   - Example: \"Student's major is Computer Science\"\n",
    "   - Example: \"Student wants to graduate in 2026\"\n",
    "\n",
    "2. **Episodic Memory** - Events and experiences\n",
    "   - Example: \"Student enrolled in CS101 on 2024-09-15\"\n",
    "   - Example: \"Student asked about machine learning on 2024-09-20\"\n",
    "   - Example: \"Student completed Data Structures course\"\n",
    "\n",
    "3. **Message Memory** - Important conversation snippets\n",
    "   - Example: Full conversation about career goals\n",
    "   - Example: Detailed discussion about course preferences\n",
    "\n",
    "### How Semantic Search Works\n",
    "\n",
    "Long-term memories are stored with vector embeddings, enabling semantic search:\n",
    "\n",
    "- Query: \"What does the student like?\"\n",
    "- Finds: \"Student prefers online courses\", \"Student enjoys programming\"\n",
    "- Even though exact words don't match!\n",
    "\n",
    "### Automatic Deduplication\n",
    "\n",
    "The Agent Memory Server automatically prevents duplicate memories:\n",
    "\n",
    "- **Hash-based**: Exact duplicates are rejected\n",
    "- **Semantic**: Similar memories are merged\n",
    "- Keeps memory storage efficient"
   ]
  },
  {
   "cell_type": "markdown",
   "metadata": {},
   "source": [
    "## Setup"
   ]
  },
  {
   "cell_type": "code",
   "execution_count": null,
   "metadata": {},
   "outputs": [],
   "source": [
    "import os\n",
    "import asyncio\n",
    "from datetime import datetime\n",
    "from redis_context_course import MemoryClient\n",
    "\n",
    "# Initialize memory client\n",
    "student_id = \"student_123\"\n",
    "memory_client = MemoryClient(\n",
    "    user_id=student_id,\n",
    "    namespace=\"redis_university\"\n",
    ")\n",
    "\n",
    "print(f\"✅ Memory client initialized for {student_id}\")"
   ]
  },
  {
   "cell_type": "markdown",
   "metadata": {},
   "source": [
    "## Hands-on: Working with Long-term Memory"
   ]
  },
  {
   "cell_type": "markdown",
   "metadata": {},
   "source": [
    "### Example 1: Storing Semantic Memories (Facts)\n",
    "\n",
    "Let's store some facts about the student."
   ]
  },
  {
   "cell_type": "code",
   "execution_count": null,
   "metadata": {},
   "outputs": [],
   "source": [
    "# Store student preferences\n",
    "await memory_client.create_memory(\n",
    "    text=\"Student prefers online courses over in-person classes\",\n",
    "    memory_type=\"semantic\",\n",
    "    topics=[\"preferences\", \"course_format\"]\n",
    ")\n",
    "\n",
    "await memory_client.create_memory(\n",
    "    text=\"Student's major is Computer Science with a focus on AI/ML\",\n",
    "    memory_type=\"semantic\",\n",
    "    topics=[\"academic_info\", \"major\"]\n",
    ")\n",
    "\n",
    "await memory_client.create_memory(\n",
    "    text=\"Student wants to graduate in Spring 2026\",\n",
    "    memory_type=\"semantic\",\n",
    "    topics=[\"goals\", \"graduation\"]\n",
    ")\n",
    "\n",
    "await memory_client.create_memory(\n",
    "    text=\"Student prefers morning classes, no classes on Fridays\",\n",
    "    memory_type=\"semantic\",\n",
    "    topics=[\"preferences\", \"schedule\"]\n",
    ")\n",
    "\n",
    "print(\"✅ Stored 4 semantic memories (facts about the student)\")"
   ]
  },
  {
   "cell_type": "markdown",
   "metadata": {},
   "source": [
    "### Example 2: Storing Episodic Memories (Events)\n",
    "\n",
    "Let's store some events and experiences."
   ]
  },
  {
   "cell_type": "code",
   "execution_count": null,
   "metadata": {},
   "outputs": [],
   "source": [
    "# Store course enrollment events\n",
    "await memory_client.create_memory(\n",
    "    text=\"Student enrolled in CS101: Introduction to Programming on 2024-09-01\",\n",
    "    memory_type=\"episodic\",\n",
    "    topics=[\"enrollment\", \"courses\"],\n",
    "    metadata={\"course_code\": \"CS101\", \"date\": \"2024-09-01\"}\n",
    ")\n",
    "\n",
    "await memory_client.create_memory(\n",
    "    text=\"Student completed CS101 with grade A on 2024-12-15\",\n",
    "    memory_type=\"episodic\",\n",
    "    topics=[\"completion\", \"grades\"],\n",
    "    metadata={\"course_code\": \"CS101\", \"grade\": \"A\", \"date\": \"2024-12-15\"}\n",
    ")\n",
    "\n",
    "await memory_client.create_memory(\n",
    "    text=\"Student asked about machine learning courses on 2024-09-20\",\n",
    "    memory_type=\"episodic\",\n",
    "    topics=[\"inquiry\", \"machine_learning\"],\n",
    "    metadata={\"date\": \"2024-09-20\"}\n",
    ")\n",
    "\n",
    "print(\"✅ Stored 3 episodic memories (events and experiences)\")"
   ]
  },
  {
   "cell_type": "markdown",
   "metadata": {},
   "source": [
    "### Example 3: Searching Memories with Semantic Search\n",
    "\n",
    "Now let's search for memories using natural language queries."
   ]
  },
  {
   "cell_type": "code",
   "execution_count": null,
   "metadata": {},
   "outputs": [],
   "source": [
    "# Search for preferences\n",
    "print(\"Query: 'What does the student prefer?'\\n\")\n",
    "results = await memory_client.search_memories(\n",
    "    query=\"What does the student prefer?\",\n",
    "    limit=3\n",
    ")\n",
    "\n",
    "for i, memory in enumerate(results, 1):\n",
    "    print(f\"{i}. {memory.text}\")\n",
    "    print(f\"   Type: {memory.memory_type} | Topics: {', '.join(memory.topics)}\")\n",
    "    print()"
   ]
  },
  {
   "cell_type": "code",
   "execution_count": null,
   "metadata": {},
   "outputs": [],
   "source": [
    "# Search for academic information\n",
    "print(\"Query: 'What is the student studying?'\\n\")\n",
    "results = await memory_client.search_memories(\n",
    "    query=\"What is the student studying?\",\n",
    "    limit=3\n",
    ")\n",
    "\n",
    "for i, memory in enumerate(results, 1):\n",
    "    print(f\"{i}. {memory.text}\")\n",
    "    print(f\"   Type: {memory.memory_type}\")\n",
    "    print()"
   ]
  },
  {
   "cell_type": "code",
   "execution_count": null,
   "metadata": {},
   "outputs": [],
   "source": [
    "# Search for course history\n",
    "print(\"Query: 'What courses has the student taken?'\\n\")\n",
    "results = await memory_client.search_memories(\n",
    "    query=\"What courses has the student taken?\",\n",
    "    limit=3\n",
    ")\n",
    "\n",
    "for i, memory in enumerate(results, 1):\n",
    "    print(f\"{i}. {memory.text}\")\n",
    "    print(f\"   Type: {memory.memory_type}\")\n",
    "    if memory.metadata:\n",
    "        print(f\"   Metadata: {memory.metadata}\")\n",
    "    print()"
   ]
  },
  {
   "cell_type": "markdown",
   "metadata": {},
   "source": [
    "### Example 4: Demonstrating Deduplication\n",
    "\n",
    "Let's try to store duplicate memories and see how deduplication works."
   ]
  },
  {
   "cell_type": "code",
   "execution_count": null,
   "metadata": {},
   "outputs": [],
   "source": [
    "# Try to store an exact duplicate\n",
    "print(\"Attempting to store exact duplicate...\")\n",
    "try:\n",
    "    await memory_client.create_memory(\n",
    "        text=\"Student prefers online courses over in-person classes\",\n",
    "        memory_type=\"semantic\",\n",
    "        topics=[\"preferences\", \"course_format\"]\n",
    "    )\n",
    "    print(\"❌ Duplicate was stored (unexpected)\")\n",
    "except Exception as e:\n",
    "    print(f\"✅ Duplicate rejected: {e}\")\n",
    "\n",
    "# Try to store a semantically similar memory\n",
    "print(\"\\nAttempting to store semantically similar memory...\")\n",
    "try:\n",
    "    await memory_client.create_memory(\n",
    "        text=\"Student likes taking classes online instead of on campus\",\n",
    "        memory_type=\"semantic\",\n",
    "        topics=[\"preferences\", \"course_format\"]\n",
    "    )\n",
    "    print(\"Memory stored (may be merged with existing similar memory)\")\n",
    "except Exception as e:\n",
    "    print(f\"✅ Similar memory rejected: {e}\")"
   ]
  },
  {
   "cell_type": "markdown",
   "metadata": {},
   "source": [
    "### Example 5: Cross-Session Memory Access\n",
    "\n",
    "Let's simulate a new session and show that memories persist."
   ]
  },
  {
   "cell_type": "code",
   "execution_count": null,
   "metadata": {},
   "outputs": [],
   "source": [
    "# Create a new memory client (simulating a new session)\n",
    "new_session_client = MemoryClient(\n",
    "    user_id=student_id,  # Same user\n",
    "    namespace=\"redis_university\"\n",
    ")\n",
    "\n",
    "print(\"New session started for the same student\\n\")\n",
    "\n",
    "# Search for memories from the new session\n",
    "print(\"Query: 'What do I prefer?'\\n\")\n",
    "results = await new_session_client.search_memories(\n",
    "    query=\"What do I prefer?\",\n",
    "    limit=3\n",
    ")\n",
    "\n",
    "print(\"✅ Memories accessible from new session:\\n\")\n",
    "for i, memory in enumerate(results, 1):\n",
    "    print(f\"{i}. {memory.text}\")\n",
    "    print()"
   ]
  },
  {
   "cell_type": "markdown",
   "metadata": {},
   "source": [
    "### Example 6: Filtering by Memory Type and Topics"
   ]
  },
  {
   "cell_type": "code",
   "execution_count": null,
   "metadata": {},
   "outputs": [],
   "source": [
    "# Get all semantic memories\n",
    "print(\"All semantic memories (facts):\\n\")\n",
    "results = await memory_client.search_memories(\n",
    "    query=\"\",  # Empty query returns all\n",
    "    memory_type=\"semantic\",\n",
    "    limit=10\n",
    ")\n",
    "\n",
    "for i, memory in enumerate(results, 1):\n",
    "    print(f\"{i}. {memory.text}\")\n",
    "    print(f\"   Topics: {', '.join(memory.topics)}\")\n",
    "    print()"
   ]
  },
  {
   "cell_type": "code",
   "execution_count": null,
   "metadata": {},
   "outputs": [],
   "source": [
    "# Get all episodic memories\n",
    "print(\"All episodic memories (events):\\n\")\n",
    "results = await memory_client.search_memories(\n",
    "    query=\"\",\n",
    "    memory_type=\"episodic\",\n",
    "    limit=10\n",
    ")\n",
    "\n",
    "for i, memory in enumerate(results, 1):\n",
    "    print(f\"{i}. {memory.text}\")\n",
    "    if memory.metadata:\n",
    "        print(f\"   Metadata: {memory.metadata}\")\n",
    "    print()"
   ]
  },
  {
   "cell_type": "markdown",
   "metadata": {},
   "source": [
    "## Key Takeaways\n",
    "\n",
    "### When to Use Long-term Memory\n",
    "\n",
    "Store in long-term memory:\n",
    "- ✅ User preferences and settings\n",
    "- ✅ Important facts about the user\n",
    "- ✅ Goals and objectives\n",
    "- ✅ Significant events and milestones\n",
    "- ✅ Completed courses and achievements\n",
    "\n",
    "Don't store in long-term memory:\n",
    "- ❌ Temporary conversation context\n",
    "- ❌ Trivial details\n",
    "- ❌ Information that changes frequently\n",
    "- ❌ Sensitive data without proper handling\n",
    "\n",
    "### Memory Types Guide\n",
    "\n",
    "**Semantic (Facts):**\n",
    "- \"Student prefers X\"\n",
    "- \"Student's major is Y\"\n",
    "- \"Student wants to Z\"\n",
    "\n",
    "**Episodic (Events):**\n",
    "- \"Student enrolled in X on DATE\"\n",
    "- \"Student completed Y with grade Z\"\n",
    "- \"Student asked about X on DATE\"\n",
    "\n",
    "**Message (Conversations):**\n",
    "- Important conversation snippets\n",
    "- Detailed discussions worth preserving\n",
    "\n",
    "### Best Practices\n",
    "\n",
    "1. **Use descriptive topics** - Makes filtering easier\n",
    "2. **Add metadata** - Especially for episodic memories\n",
    "3. **Write clear memory text** - Will be searched semantically\n",
    "4. **Let deduplication work** - Don't worry about duplicates\n",
    "5. **Search before storing** - Check if similar memory exists"
   ]
  },
  {
   "cell_type": "markdown",
   "metadata": {},
   "source": [
    "## Exercises\n",
    "\n",
    "1. **Store your own memories**: Create 5 semantic and 3 episodic memories about a fictional student. Search for them.\n",
    "\n",
    "2. **Test semantic search**: Create memories with different wordings but similar meanings. Search with various queries to see what matches.\n",
    "\n",
    "3. **Explore metadata**: Add rich metadata to episodic memories. How can you use this in your agent?\n",
    "\n",
    "4. **Cross-session test**: Create a memory, close the notebook, restart, and verify the memory persists."
   ]
  },
  {
   "cell_type": "markdown",
   "metadata": {},
   "source": [
    "## Summary\n",
    "\n",
    "In this notebook, you learned:\n",
    "\n",
    "- ✅ Long-term memory stores persistent, cross-session knowledge\n",
    "- ✅ Three types: semantic (facts), episodic (events), message (conversations)\n",
    "- ✅ Semantic search enables natural language queries\n",
    "- ✅ Automatic deduplication prevents redundancy\n",
    "- ✅ Memories are user-scoped and accessible from any session\n",
    "\n",
    "**Next:** In the next notebook, we'll integrate working memory and long-term memory to build a complete memory system for our agent."
   ]
  }
 ],
 "metadata": {
  "kernelspec": {
   "display_name": "Python 3",
   "language": "python",
   "name": "python3"
  },
  "language_info": {
   "codemirror_mode": {
    "name": "ipython",
    "version": 3
   },
   "file_extension": ".py",
   "mimetype": "text/x-python",
   "name": "python",
   "nbconvert_exporter": "python",
   "pygments_lexer": "ipython3",
   "version": "3.11.0"
  }
 },
 "nbformat": 4,
 "nbformat_minor": 4
}

