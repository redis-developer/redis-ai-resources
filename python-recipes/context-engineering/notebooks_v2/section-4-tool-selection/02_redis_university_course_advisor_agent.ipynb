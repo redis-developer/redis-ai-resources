{
 "cells": [
  {
   "cell_type": "markdown",
   "id": "header",
   "metadata": {},
   "source": [
    "![Redis](https://redis.io/wp-content/uploads/2024/04/Logotype.svg?auto=webp&quality=85,75&width=120)\n",
    "\n",
    "# 🤖 Section 4: Building a Redis University Course Advisor Agent\n",
    "\n",
    "**⏱️ Estimated Time:** 60-75 minutes\n",
    "\n",
    "## 🎯 Learning Objectives\n",
    "\n",
    "By the end of this notebook, you will:\n",
    "\n",
    "1. **Build** a complete LangGraph agent with tools and memory\n",
    "2. **Implement** exactly 3 tools: memory storage, memory search, and course search\n",
    "3. **Integrate** Redis Agent Memory Server for dual-memory architecture\n",
    "4. **Visualize** the agent's decision-making graph\n",
    "5. **Demonstrate** the progression from RAG (Section 3) to full agent\n",
    "\n",
    "---\n",
    "\n",
    "## 🔗 Bridge from Previous Sections\n",
    "\n",
    "### **Your Learning Journey:**\n",
    "\n",
    "**Section 1:** Context Types\n",
    "- System, User, Conversation, Retrieved context\n",
    "- How context shapes LLM responses\n",
    "\n",
    "**Section 2:** RAG Foundations\n",
    "- Semantic search with vector embeddings\n",
    "- Retrieving and presenting information\n",
    "- Single-step retrieval → generation\n",
    "\n",
    "**Section 3:** Memory Architecture\n",
    "- Working memory (conversation continuity)\n",
    "- Long-term memory (persistent knowledge)\n",
    "- Memory-enhanced RAG systems\n",
    "\n",
    "**Section 4 (Notebook 1):** Tool-Calling Basics\n",
    "- What tools are and how LLMs use them\n",
    "- LangGraph fundamentals (nodes, edges, state)\n",
    "- Simple tool-calling examples\n",
    "- Agents vs RAG comparison\n",
    "\n",
    "### **What We're Building Now:**\n",
    "\n",
    "**A Full Agent** that combines everything:\n",
    "- ✅ **Tools** for actions (search courses, manage memory)\n",
    "- ✅ **Memory** for personalization (working + long-term)\n",
    "- ✅ **RAG** for course information (semantic search)\n",
    "- ✅ **LangGraph** for orchestration (state management)\n",
    "\n",
    "**💡 Key Insight:** This agent is RAG + Memory + Tools + Decision-Making\n",
    "\n",
    "---\n",
    "\n",
    "## 📊 Agent Architecture\n",
    "\n",
    "### **The Complete Flow:**\n",
    "\n",
    "```\n",
    "User Query\n",
    "    ↓\n",
    "[Load Working Memory] ← Conversation history\n",
    "    ↓\n",
    "[Agent Node] ← Decides what to do\n",
    "    ↓\n",
    "    ├─→ [search_courses] ← Find relevant courses\n",
    "    ├─→ [search_memories] ← Recall user preferences\n",
    "    ├─→ [store_memory] ← Save important facts\n",
    "    ↓\n",
    "[Agent Node] ← Processes tool results\n",
    "    ↓\n",
    "[Generate Response] ← Final answer\n",
    "    ↓\n",
    "[Save Working Memory] ← Update conversation\n",
    "```\n",
    "\n",
    "### **Our 3 Tools:**\n",
    "\n",
    "1. **`search_courses`** - Semantic search over course catalog\n",
    "   - When: Student asks about courses, topics, or recommendations\n",
    "   - Example: \"What machine learning courses are available?\"\n",
    "\n",
    "2. **`search_memories`** - Search long-term memory for user facts\n",
    "   - When: Need to recall preferences, goals, or past interactions\n",
    "   - Example: \"What courses did I say I was interested in?\"\n",
    "\n",
    "3. **`store_memory`** - Save important information to long-term memory\n",
    "   - When: User shares preferences, goals, or important facts\n",
    "   - Example: \"I'm interested in AI and want to work at a startup\"\n",
    "\n",
    "### **Memory Architecture:**\n",
    "\n",
    "| Memory Type | Purpose | Managed By | Lifespan |\n",
    "|------------|---------|------------|----------|\n",
    "| **Working Memory** | Conversation history | Agent Memory Server | Session |\n",
    "| **Long-term Memory** | User preferences, facts | Agent Memory Server | Persistent |\n",
    "| **Graph State** | Current execution state | LangGraph | Single turn |\n",
    "\n",
    "---\n",
    "\n",
    "## 📦 Setup and Environment\n",
    "\n",
    "### ⚠️ **CRITICAL: Prerequisites Required**\n",
    "\n",
    "**This notebook requires ALL services to be running. If any service is down, the agent will not work.**\n",
    "\n",
    "**Required Services:**\n",
    "1. **Redis** - Vector storage and caching (port 6379)\n",
    "2. **Agent Memory Server** - Memory management (port 8088)\n",
    "3. **OpenAI API** - LLM functionality\n",
    "\n",
    "**🚀 Quick Setup (Run this first!):**\n",
    "```bash\n",
    "# Navigate to notebooks_v2 directory\n",
    "cd ../../\n",
    "\n",
    "# Check if services are running\n",
    "./check_setup.sh\n",
    "\n",
    "# If services are down, run setup\n",
    "./setup_memory_server.sh\n",
    "```\n",
    "\n",
    "**📖 Need help?** See `../SETUP_GUIDE.md` for detailed setup instructions.\n",
    "\n",
    "**🔍 Manual Check:**\n",
    "- Redis: `redis-cli ping` should return `PONG`\n",
    "- Memory Server: `curl http://localhost:8088/v1/health` should return `{\"status\":\"ok\"}`\n",
    "- Environment: Create `.env` file in `reference-agent/` with your `OPENAI_API_KEY`\n"
   ]
  },
  {
   "cell_type": "markdown",
   "id": "install-packages",
   "metadata": {},
   "source": [
    "---\n"
   ]
  },
  {
   "cell_type": "markdown",
   "id": "install",
   "metadata": {},
   "source": [
    "### Automated Setup Check\n",
    "\n",
    "Let's run the setup script to ensure all services are running properly.\n"
   ]
  },
  {
   "cell_type": "code",
   "execution_count": 1,
   "id": "import-libraries",
   "metadata": {
    "execution": {
     "iopub.execute_input": "2025-10-31T23:57:51.825255Z",
     "iopub.status.busy": "2025-10-31T23:57:51.825073Z",
     "iopub.status.idle": "2025-10-31T23:57:52.103012Z",
     "shell.execute_reply": "2025-10-31T23:57:52.102484Z"
    }
   },
   "outputs": [
    {
     "name": "stdout",
     "output_type": "stream",
     "text": [
      "Running automated setup check...\n",
      "\n"
     ]
    },
    {
     "name": "stdout",
     "output_type": "stream",
     "text": [
      "\n",
      "🔧 Agent Memory Server Setup\n",
      "===========================\n",
      "📊 Checking Redis...\n",
      "✅ Redis is running\n",
      "📊 Checking Agent Memory Server...\n",
      "🔍 Agent Memory Server container exists. Checking health...\n",
      "✅ Agent Memory Server is running and healthy\n",
      "✅ No Redis connection issues detected\n",
      "\n",
      "✅ Setup Complete!\n",
      "=================\n",
      "📊 Services Status:\n",
      "   • Redis: Running on port 6379\n",
      "   • Agent Memory Server: Running on port 8088\n",
      "\n",
      "🎯 You can now run the notebooks!\n",
      "\n",
      "\n",
      "✅ All services are ready!\n"
     ]
    }
   ],
   "source": [
    "# Run the setup script to ensure Redis and Agent Memory Server are running\n",
    "import subprocess\n",
    "import sys\n",
    "from pathlib import Path\n",
    "\n",
    "# Path to setup script\n",
    "setup_script = Path(\"../../reference-agent/setup_agent_memory_server.py\")\n",
    "\n",
    "if setup_script.exists():\n",
    "    print(\"Running automated setup check...\\n\")\n",
    "    result = subprocess.run(\n",
    "        [sys.executable, str(setup_script)],\n",
    "        capture_output=True,\n",
    "        text=True\n",
    "    )\n",
    "    print(result.stdout)\n",
    "    if result.returncode != 0:\n",
    "        print(\"⚠️  Setup check failed. Please review the output above.\")\n",
    "        print(result.stderr)\n",
    "    else:\n",
    "        print(\"\\n✅ All services are ready!\")\n",
    "else:\n",
    "    print(\"⚠️  Setup script not found. Please ensure services are running manually.\")\n"
   ]
  },
  {
   "cell_type": "markdown",
   "id": "imports",
   "metadata": {},
   "source": [
    "---\n"
   ]
  },
  {
   "cell_type": "markdown",
   "id": "load-env",
   "metadata": {},
   "source": [
    "### Install Dependencies\n",
    "\n",
    "If you haven't already installed the reference-agent package, uncomment and run the following:\n"
   ]
  },
  {
   "cell_type": "code",
   "execution_count": 2,
   "id": "env-setup",
   "metadata": {
    "execution": {
     "iopub.execute_input": "2025-10-31T23:57:52.104763Z",
     "iopub.status.busy": "2025-10-31T23:57:52.104657Z",
     "iopub.status.idle": "2025-10-31T23:57:52.106517Z",
     "shell.execute_reply": "2025-10-31T23:57:52.106037Z"
    }
   },
   "outputs": [],
   "source": [
    "# Uncomment to install reference-agent package\n",
    "# %pip install -q -e ../../reference-agent\n",
    "\n",
    "# Uncomment to install agent-memory-client\n",
    "# %pip install -q agent-memory-client\n"
   ]
  },
  {
   "cell_type": "markdown",
   "id": "check-services",
   "metadata": {},
   "source": [
    "### Import Libraries\n"
   ]
  },
  {
   "cell_type": "code",
   "execution_count": 3,
   "id": "service-check",
   "metadata": {
    "execution": {
     "iopub.execute_input": "2025-10-31T23:57:52.107702Z",
     "iopub.status.busy": "2025-10-31T23:57:52.107645Z",
     "iopub.status.idle": "2025-10-31T23:57:53.822487Z",
     "shell.execute_reply": "2025-10-31T23:57:53.821994Z"
    }
   },
   "outputs": [
    {
     "name": "stdout",
     "output_type": "stream",
     "text": [
      "✅ Libraries imported successfully!\n"
     ]
    }
   ],
   "source": [
    "# Core libraries\n",
    "import os\n",
    "import sys\n",
    "import json\n",
    "from typing import List, Dict, Any, Optional, Annotated\n",
    "from datetime import datetime\n",
    "from dotenv import load_dotenv\n",
    "\n",
    "# LangChain and LangGraph\n",
    "from langchain_core.messages import BaseMessage, HumanMessage, AIMessage, SystemMessage\n",
    "from langchain_core.tools import tool\n",
    "from langchain_openai import ChatOpenAI, OpenAIEmbeddings\n",
    "from langgraph.graph import StateGraph, END\n",
    "from langgraph.graph.message import add_messages\n",
    "from langgraph.prebuilt import ToolNode\n",
    "from pydantic import BaseModel, Field\n",
    "\n",
    "# Redis and Agent Memory\n",
    "from agent_memory_client import MemoryAPIClient, MemoryClientConfig\n",
    "from agent_memory_client.models import WorkingMemory, MemoryMessage\n",
    "\n",
    "# Add reference-agent to path for course utilities\n",
    "sys.path.insert(0, os.path.abspath(\"../../reference-agent\"))\n",
    "from redis_context_course.course_manager import CourseManager\n",
    "from redis_context_course.models import StudentProfile, DifficultyLevel, CourseFormat\n",
    "\n",
    "print(\"✅ Libraries imported successfully!\")"
   ]
  },
  {
   "cell_type": "markdown",
   "id": "init-components",
   "metadata": {},
   "source": [
    "### Load Environment Variables\n"
   ]
  },
  {
   "cell_type": "code",
   "execution_count": 4,
   "id": "init-course-manager",
   "metadata": {
    "execution": {
     "iopub.execute_input": "2025-10-31T23:57:53.823677Z",
     "iopub.status.busy": "2025-10-31T23:57:53.823553Z",
     "iopub.status.idle": "2025-10-31T23:57:53.826253Z",
     "shell.execute_reply": "2025-10-31T23:57:53.825901Z"
    }
   },
   "outputs": [
    {
     "name": "stdout",
     "output_type": "stream",
     "text": [
      "✅ Environment configured successfully!\n",
      "   OpenAI API Key: ********************wTMA\n",
      "   Redis URL: redis://localhost:6379\n",
      "   Agent Memory URL: http://localhost:8088\n"
     ]
    }
   ],
   "source": [
    "# Load environment variables\n",
    "load_dotenv(\"../../reference-agent/.env\")\n",
    "\n",
    "# Get configuration\n",
    "OPENAI_API_KEY = os.getenv(\"OPENAI_API_KEY\")\n",
    "REDIS_URL = os.getenv(\"REDIS_URL\", \"redis://localhost:6379\")\n",
    "AGENT_MEMORY_URL = os.getenv(\"AGENT_MEMORY_URL\", \"http://localhost:8088\")\n",
    "\n",
    "# Verify OpenAI API key\n",
    "if not OPENAI_API_KEY:\n",
    "    raise ValueError(\"\"\"\n",
    "    ⚠️  OPENAI_API_KEY not found!\n",
    "    \n",
    "    Please create a .env file in the reference-agent directory:\n",
    "    1. cd ../../reference-agent\n",
    "    2. cp .env.example .env\n",
    "    3. Edit .env and add your OpenAI API key\n",
    "    \"\"\")\n",
    "\n",
    "print(\"✅ Environment configured successfully!\")\n",
    "print(f\"   OpenAI API Key: {'*' * 20}{OPENAI_API_KEY[-4:]}\")\n",
    "print(f\"   Redis URL: {REDIS_URL}\")\n",
    "print(f\"   Agent Memory URL: {AGENT_MEMORY_URL}\")"
   ]
  },
  {
   "cell_type": "markdown",
   "id": "course-manager",
   "metadata": {},
   "source": [
    "### Check Required Services\n",
    "\n",
    "Let's verify that Redis and the Agent Memory Server are running.\n"
   ]
  },
  {
   "cell_type": "code",
   "execution_count": 5,
   "id": "init-llm",
   "metadata": {
    "execution": {
     "iopub.execute_input": "2025-10-31T23:57:53.827385Z",
     "iopub.status.busy": "2025-10-31T23:57:53.827318Z",
     "iopub.status.idle": "2025-10-31T23:57:53.839615Z",
     "shell.execute_reply": "2025-10-31T23:57:53.839213Z"
    }
   },
   "outputs": [
    {
     "name": "stdout",
     "output_type": "stream",
     "text": [
      "✅ Redis is running\n",
      "✅ Agent Memory Server is running\n",
      "\n",
      "✅ All services are ready!\n"
     ]
    }
   ],
   "source": [
    "import redis\n",
    "import requests\n",
    "\n",
    "# Check Redis\n",
    "try:\n",
    "    redis_client = redis.from_url(REDIS_URL)\n",
    "    redis_client.ping()\n",
    "    print(\"✅ Redis is running\")\n",
    "    REDIS_AVAILABLE = True\n",
    "except Exception as e:\n",
    "    print(f\"❌ Redis is not available: {e}\")\n",
    "    print(\"   Please start Redis using Docker:\")\n",
    "    print(\"   docker run -d -p 6379:6379 redis/redis-stack:latest\")\n",
    "    REDIS_AVAILABLE = False\n",
    "\n",
    "# Check Agent Memory Server\n",
    "try:\n",
    "    response = requests.get(f\"{AGENT_MEMORY_URL}/v1/health\", timeout=2)\n",
    "    if response.status_code == 200:\n",
    "        print(\"✅ Agent Memory Server is running\")\n",
    "        MEMORY_SERVER_AVAILABLE = True\n",
    "    else:\n",
    "        print(f\"⚠️  Agent Memory Server returned status {response.status_code}\")\n",
    "        MEMORY_SERVER_AVAILABLE = False\n",
    "except Exception as e:\n",
    "    print(f\"❌ Agent Memory Server is not available: {e}\")\n",
    "    print(\"   Please start the Agent Memory Server:\")\n",
    "    print(\"   cd ../../reference-agent && python setup_agent_memory_server.py\")\n",
    "    MEMORY_SERVER_AVAILABLE = False\n",
    "\n",
    "if not (REDIS_AVAILABLE and MEMORY_SERVER_AVAILABLE):\n",
    "    print(\"\\n⚠️  Some services are not available. Please start them before continuing.\")\n",
    "else:\n",
    "    print(\"\\n✅ All services are ready!\")"
   ]
  },
  {
   "cell_type": "markdown",
   "id": "llm-init",
   "metadata": {},
   "source": [
    "---\n",
    "\n",
    "## 🔧 Initialize Components\n",
    "\n",
    "Now let's initialize the components we'll use to build our agent.\n"
   ]
  },
  {
   "cell_type": "markdown",
   "id": "init-memory",
   "metadata": {},
   "source": [
    "### Initialize Course Manager\n",
    "\n",
    "The `CourseManager` handles course storage and semantic search, just like in Section 2.\n"
   ]
  },
  {
   "cell_type": "code",
   "execution_count": 6,
   "id": "memory-init",
   "metadata": {
    "execution": {
     "iopub.execute_input": "2025-10-31T23:57:53.840793Z",
     "iopub.status.busy": "2025-10-31T23:57:53.840727Z",
     "iopub.status.idle": "2025-10-31T23:57:53.933415Z",
     "shell.execute_reply": "2025-10-31T23:57:53.933012Z"
    }
   },
   "outputs": [
    {
     "name": "stdout",
     "output_type": "stream",
     "text": [
      "19:57:53 redisvl.index.index INFO   Index already exists, not overwriting.\n"
     ]
    },
    {
     "name": "stdout",
     "output_type": "stream",
     "text": [
      "✅ Course Manager initialized\n",
      "   Ready to search and retrieve courses\n"
     ]
    }
   ],
   "source": [
    "# Initialize Course Manager\n",
    "course_manager = CourseManager()\n",
    "\n",
    "print(\"✅ Course Manager initialized\")\n",
    "print(\"   Ready to search and retrieve courses\")"
   ]
  },
  {
   "cell_type": "markdown",
   "id": "student-profile",
   "metadata": {},
   "source": [
    "### Initialize LLM\n",
    "\n",
    "We'll use GPT-4o with temperature=0.0 for consistent, deterministic responses.\n"
   ]
  },
  {
   "cell_type": "code",
   "execution_count": 7,
   "id": "create-student",
   "metadata": {
    "execution": {
     "iopub.execute_input": "2025-10-31T23:57:53.934684Z",
     "iopub.status.busy": "2025-10-31T23:57:53.934605Z",
     "iopub.status.idle": "2025-10-31T23:57:53.943986Z",
     "shell.execute_reply": "2025-10-31T23:57:53.943698Z"
    }
   },
   "outputs": [
    {
     "name": "stdout",
     "output_type": "stream",
     "text": [
      "✅ LLM initialized\n",
      "   Model: gpt-4o\n",
      "   Temperature: 0.0 (deterministic)\n"
     ]
    }
   ],
   "source": [
    "# Initialize LLM\n",
    "llm = ChatOpenAI(model=\"gpt-4o\", temperature=0.0)\n",
    "\n",
    "print(\"✅ LLM initialized\")\n",
    "print(\"   Model: gpt-4o\")\n",
    "print(\"   Temperature: 0.0 (deterministic)\")"
   ]
  },
  {
   "cell_type": "markdown",
   "id": "tools-section",
   "metadata": {},
   "source": [
    "### Initialize Memory Client\n",
    "\n",
    "The memory client handles both working memory (conversation history) and long-term memory (persistent facts).\n"
   ]
  },
  {
   "cell_type": "code",
   "execution_count": 8,
   "id": "tool-1",
   "metadata": {
    "execution": {
     "iopub.execute_input": "2025-10-31T23:57:53.945184Z",
     "iopub.status.busy": "2025-10-31T23:57:53.945115Z",
     "iopub.status.idle": "2025-10-31T23:57:53.950020Z",
     "shell.execute_reply": "2025-10-31T23:57:53.949643Z"
    }
   },
   "outputs": [
    {
     "name": "stdout",
     "output_type": "stream",
     "text": [
      "✅ Memory Client initialized\n",
      "   Base URL: http://localhost:8088\n",
      "   Namespace: redis_university\n",
      "   Ready for working memory and long-term memory operations\n"
     ]
    }
   ],
   "source": [
    "# Initialize Memory Client\n",
    "config = MemoryClientConfig(\n",
    "    base_url=AGENT_MEMORY_URL,\n",
    "    default_namespace=\"redis_university\"\n",
    ")\n",
    "memory_client = MemoryAPIClient(config=config)\n",
    "\n",
    "print(\"✅ Memory Client initialized\")\n",
    "print(f\"   Base URL: {config.base_url}\")\n",
    "print(f\"   Namespace: {config.default_namespace}\")\n",
    "print(\"   Ready for working memory and long-term memory operations\")"
   ]
  },
  {
   "cell_type": "markdown",
   "id": "search-courses-tool",
   "metadata": {},
   "source": [
    "### Create Sample Student Profile\n",
    "\n",
    "We'll create a sample student to use throughout our demos.\n"
   ]
  },
  {
   "cell_type": "code",
   "execution_count": 9,
   "id": "tool-2",
   "metadata": {
    "execution": {
     "iopub.execute_input": "2025-10-31T23:57:53.951077Z",
     "iopub.status.busy": "2025-10-31T23:57:53.951016Z",
     "iopub.status.idle": "2025-10-31T23:57:53.953293Z",
     "shell.execute_reply": "2025-10-31T23:57:53.952950Z"
    }
   },
   "outputs": [
    {
     "name": "stdout",
     "output_type": "stream",
     "text": [
      "✅ Student profile created\n",
      "   Name: Sarah Chen\n",
      "   Student ID: student_sarah_001\n",
      "   Session ID: session_student_sarah_001_20251031_195753\n",
      "   Major: Computer Science\n",
      "   Interests: machine learning, data science, algorithms\n"
     ]
    }
   ],
   "source": [
    "# Create sample student profile\n",
    "STUDENT_ID = \"student_sarah_001\"\n",
    "SESSION_ID = f\"session_{STUDENT_ID}_{datetime.now().strftime('%Y%m%d_%H%M%S')}\"\n",
    "\n",
    "sarah = StudentProfile(\n",
    "    name=\"Sarah Chen\",\n",
    "    email=\"sarah.chen@university.edu\",\n",
    "    major=\"Computer Science\",\n",
    "    year=2,\n",
    "    interests=[\"machine learning\", \"data science\", \"algorithms\"],\n",
    "    completed_courses=[\"Introduction to Programming\", \"Data Structures\"],\n",
    "    current_courses=[\"Linear Algebra\"],\n",
    "    preferred_format=CourseFormat.ONLINE,\n",
    "    preferred_difficulty=DifficultyLevel.INTERMEDIATE\n",
    ")\n",
    "\n",
    "print(\"✅ Student profile created\")\n",
    "print(f\"   Name: {sarah.name}\")\n",
    "print(f\"   Student ID: {STUDENT_ID}\")\n",
    "print(f\"   Session ID: {SESSION_ID}\")\n",
    "print(f\"   Major: {sarah.major}\")\n",
    "print(f\"   Interests: {', '.join(sarah.interests)}\")"
   ]
  },
  {
   "cell_type": "markdown",
   "id": "search-memories-tool",
   "metadata": {},
   "source": [
    "---\n",
    "\n",
    "## 🛠️ Part 1: Define the Agent's Tools\n",
    "\n",
    "Let's build our 3 tools step by step. Each tool will have:\n",
    "- Clear input schema (what parameters it accepts)\n",
    "- Descriptive docstring (tells the LLM when to use it)\n",
    "- Implementation (the actual logic)\n",
    "\n",
    "**Remember:** The LLM only sees the tool name, description, and parameters—not the implementation!\n"
   ]
  },
  {
   "cell_type": "markdown",
   "id": "tool-3",
   "metadata": {},
   "source": [
    "### Tool 1: `search_courses`\n",
    "\n",
    "This tool searches the course catalog using semantic search.\n"
   ]
  },
  {
   "cell_type": "code",
   "execution_count": 10,
   "id": "store-memory-tool",
   "metadata": {
    "execution": {
     "iopub.execute_input": "2025-10-31T23:57:53.954314Z",
     "iopub.status.busy": "2025-10-31T23:57:53.954256Z",
     "iopub.status.idle": "2025-10-31T23:57:53.957045Z",
     "shell.execute_reply": "2025-10-31T23:57:53.956679Z"
    }
   },
   "outputs": [
    {
     "name": "stdout",
     "output_type": "stream",
     "text": [
      "✅ Tool 1 defined: search_courses\n",
      "   Purpose: Search course catalog with semantic search\n",
      "   Parameters: query (str), limit (int)\n"
     ]
    }
   ],
   "source": [
    "# Define input schema\n",
    "class SearchCoursesInput(BaseModel):\n",
    "    \"\"\"Input schema for searching courses.\"\"\"\n",
    "    query: str = Field(\n",
    "        description=\"Natural language search query. Can be topics (e.g., 'machine learning'), \"\n",
    "                    \"characteristics (e.g., 'online courses'), or general questions \"\n",
    "                    \"(e.g., 'beginner programming courses')\"\n",
    "    )\n",
    "    limit: int = Field(\n",
    "        default=5,\n",
    "        description=\"Maximum number of results to return. Default is 5. \"\n",
    "                    \"Use 3 for quick answers, 10 for comprehensive results.\"\n",
    "    )\n",
    "\n",
    "# Define the tool\n",
    "@tool(\"search_courses\", args_schema=SearchCoursesInput)\n",
    "async def search_courses(query: str, limit: int = 5) -> str:\n",
    "    \"\"\"\n",
    "    Search for courses using semantic search based on topics, descriptions, or characteristics.\n",
    "    \n",
    "    Use this tool when students ask about:\n",
    "    - Topics or subjects: \"machine learning courses\", \"database courses\"\n",
    "    - Course characteristics: \"online courses\", \"beginner courses\", \"3-credit courses\"\n",
    "    - General exploration: \"what courses are available in AI?\"\n",
    "    \n",
    "    The search uses semantic matching, so natural language queries work well.\n",
    "    \n",
    "    Returns: Formatted list of matching courses with details.\n",
    "    \"\"\"\n",
    "    results = await course_manager.search_courses(query, limit=limit)\n",
    "    \n",
    "    if not results:\n",
    "        return \"No courses found matching your query.\"\n",
    "    \n",
    "    output = []\n",
    "    for course in results:\n",
    "        output.append(\n",
    "            f\"{course.course_code}: {course.title}\\n\"\n",
    "            f\"  Credits: {course.credits} | {course.format.value} | {course.difficulty_level.value}\\n\"\n",
    "            f\"  {course.description[:150]}...\"\n",
    "        )\n",
    "    \n",
    "    return \"\\n\\n\".join(output)\n",
    "\n",
    "print(\"✅ Tool 1 defined: search_courses\")\n",
    "print(\"   Purpose: Search course catalog with semantic search\")\n",
    "print(\"   Parameters: query (str), limit (int)\")"
   ]
  },
  {
   "cell_type": "markdown",
   "id": "tools-summary",
   "metadata": {},
   "source": [
    "### Tool 2: `search_memories`\n",
    "\n",
    "This tool searches long-term memory for user preferences and facts.\n"
   ]
  },
  {
   "cell_type": "code",
   "execution_count": 11,
   "id": "list-tools",
   "metadata": {
    "execution": {
     "iopub.execute_input": "2025-10-31T23:57:53.958090Z",
     "iopub.status.busy": "2025-10-31T23:57:53.958029Z",
     "iopub.status.idle": "2025-10-31T23:57:53.960900Z",
     "shell.execute_reply": "2025-10-31T23:57:53.960462Z"
    }
   },
   "outputs": [
    {
     "name": "stdout",
     "output_type": "stream",
     "text": [
      "✅ Tool 2 defined: search_memories\n",
      "   Purpose: Search long-term memory for user facts\n",
      "   Parameters: query (str), limit (int)\n"
     ]
    }
   ],
   "source": [
    "# Define input schema\n",
    "class SearchMemoriesInput(BaseModel):\n",
    "    \"\"\"Input schema for searching memories.\"\"\"\n",
    "    query: str = Field(\n",
    "        description=\"Natural language query to search for in user's long-term memory. \"\n",
    "                    \"Examples: 'career goals', 'course preferences', 'learning style'\"\n",
    "    )\n",
    "    limit: int = Field(\n",
    "        default=5,\n",
    "        description=\"Maximum number of memories to return. Default is 5.\"\n",
    "    )\n",
    "\n",
    "# Define the tool\n",
    "@tool(\"search_memories\", args_schema=SearchMemoriesInput)\n",
    "async def search_memories(query: str, limit: int = 5) -> str:\n",
    "    \"\"\"\n",
    "    Search the user's long-term memory for relevant facts, preferences, and past interactions.\n",
    "    \n",
    "    Use this tool when you need to:\n",
    "    - Recall user preferences: \"What format does the user prefer?\"\n",
    "    - Remember past goals: \"What career path is the user interested in?\"\n",
    "    - Find previous interactions: \"What courses did we discuss before?\"\n",
    "    - Personalize recommendations: \"What are the user's interests?\"\n",
    "    \n",
    "    The search uses semantic matching to find relevant memories.\n",
    "    \n",
    "    Returns: List of relevant memories with content and metadata.\n",
    "    \"\"\"\n",
    "    try:\n",
    "        from agent_memory_client.filters import UserId\n",
    "        \n",
    "        # Search long-term memory\n",
    "        results = await memory_client.search_long_term_memory(\n",
    "            text=query,\n",
    "            user_id=UserId(eq=STUDENT_ID),\n",
    "            limit=limit\n",
    "        )\n",
    "        \n",
    "        if not results.memories or len(results.memories) == 0:\n",
    "            return \"No relevant memories found.\"\n",
    "        \n",
    "        output = []\n",
    "        for i, memory in enumerate(results.memories, 1):\n",
    "            output.append(f\"{i}. {memory.text}\")\n",
    "            if memory.topics:\n",
    "                output.append(f\"   Topics: {', '.join(memory.topics)}\")\n",
    "        \n",
    "        return \"\\n\".join(output)\n",
    "    except Exception as e:\n",
    "        return f\"Error searching memories: {str(e)}\"\n",
    "\n",
    "print(\"✅ Tool 2 defined: search_memories\")\n",
    "print(\"   Purpose: Search long-term memory for user facts\")\n",
    "print(\"   Parameters: query (str), limit (int)\")"
   ]
  },
  {
   "cell_type": "markdown",
   "id": "agent-state",
   "metadata": {},
   "source": [
    "### Tool 3: `store_memory`\n",
    "\n",
    "This tool saves important information to long-term memory.\n"
   ]
  },
  {
   "cell_type": "code",
   "execution_count": 12,
   "id": "define-state",
   "metadata": {
    "execution": {
     "iopub.execute_input": "2025-10-31T23:57:53.962062Z",
     "iopub.status.busy": "2025-10-31T23:57:53.961995Z",
     "iopub.status.idle": "2025-10-31T23:57:53.964832Z",
     "shell.execute_reply": "2025-10-31T23:57:53.964534Z"
    }
   },
   "outputs": [
    {
     "name": "stdout",
     "output_type": "stream",
     "text": [
      "✅ Tool 3 defined: store_memory\n",
      "   Purpose: Save important facts to long-term memory\n",
      "   Parameters: text (str), memory_type (str), topics (List[str])\n"
     ]
    }
   ],
   "source": [
    "# Define input schema\n",
    "class StoreMemoryInput(BaseModel):\n",
    "    \"\"\"Input schema for storing memories.\"\"\"\n",
    "    text: str = Field(\n",
    "        description=\"The information to store. Should be a clear, factual statement. \"\n",
    "                    \"Examples: 'User prefers online courses', 'User's career goal is AI research'\"\n",
    "    )\n",
    "    memory_type: str = Field(\n",
    "        default=\"semantic\",\n",
    "        description=\"Type of memory: 'semantic' (facts/preferences), 'episodic' (events/interactions). \"\n",
    "                    \"Default is 'semantic'.\"\n",
    "    )\n",
    "    topics: List[str] = Field(\n",
    "        default=[],\n",
    "        description=\"Optional tags to categorize the memory, such as ['preferences', 'courses']\"\n",
    "    )\n",
    "\n",
    "# Define the tool\n",
    "@tool(\"store_memory\", args_schema=StoreMemoryInput)\n",
    "async def store_memory(text: str, memory_type: str = \"semantic\", topics: List[str] = []) -> str:\n",
    "    \"\"\"\n",
    "    Store important information to the user's long-term memory.\n",
    "    \n",
    "    Use this tool when the user shares:\n",
    "    - Preferences: \"I prefer online courses\", \"I like hands-on projects\"\n",
    "    - Goals: \"I want to work in AI\", \"I'm preparing for grad school\"\n",
    "    - Important facts: \"I have a part-time job\", \"I'm interested in startups\"\n",
    "    - Constraints: \"I can only take 2 courses per semester\"\n",
    "    \n",
    "    Do NOT store:\n",
    "    - Temporary information (use conversation context instead)\n",
    "    - Course details (already in course catalog)\n",
    "    - General questions\n",
    "    \n",
    "    Returns: Confirmation message.\n",
    "    \"\"\"\n",
    "    try:\n",
    "        from agent_memory_client.models import ClientMemoryRecord\n",
    "        \n",
    "        # Create memory record\n",
    "        memory = ClientMemoryRecord(\n",
    "            text=text,\n",
    "            user_id=STUDENT_ID,\n",
    "            memory_type=memory_type,\n",
    "            topics=topics or []\n",
    "        )\n",
    "        \n",
    "        # Store in long-term memory\n",
    "        await memory_client.create_long_term_memory([memory])\n",
    "        return f\"✅ Stored to long-term memory: {text}\"\n",
    "    except Exception as e:\n",
    "        return f\"Error storing memory: {str(e)}\"\n",
    "\n",
    "print(\"✅ Tool 3 defined: store_memory\")\n",
    "print(\"   Purpose: Save important facts to long-term memory\")\n",
    "print(\"   Parameters: text (str), memory_type (str), topics (List[str])\")"
   ]
  },
  {
   "cell_type": "markdown",
   "id": "graph-nodes",
   "metadata": {},
   "source": [
    "### Tools Summary\n",
    "\n",
    "Let's review our 3 tools:\n"
   ]
  },
  {
   "cell_type": "code",
   "execution_count": 13,
   "id": "load-memory-node",
   "metadata": {
    "execution": {
     "iopub.execute_input": "2025-10-31T23:57:53.966158Z",
     "iopub.status.busy": "2025-10-31T23:57:53.966078Z",
     "iopub.status.idle": "2025-10-31T23:57:53.968399Z",
     "shell.execute_reply": "2025-10-31T23:57:53.968046Z"
    }
   },
   "outputs": [
    {
     "name": "stdout",
     "output_type": "stream",
     "text": [
      "================================================================================\n",
      "🛠️  AGENT TOOLS SUMMARY\n",
      "================================================================================\n",
      "\n",
      "1. search_courses\n",
      "   Description: Search for courses using semantic search based on topics, descriptions, or characteristics\n",
      "   Parameters: query, limit\n",
      "\n",
      "2. search_memories\n",
      "   Description: Search the user's long-term memory for relevant facts, preferences, and past interactions\n",
      "   Parameters: query, limit\n",
      "\n",
      "3. store_memory\n",
      "   Description: Store important information to the user's long-term memory\n",
      "   Parameters: text, memory_type, topics\n",
      "\n",
      "================================================================================\n"
     ]
    }
   ],
   "source": [
    "# Collect all tools\n",
    "tools = [search_courses, search_memories, store_memory]\n",
    "\n",
    "print(\"=\" * 80)\n",
    "print(\"🛠️  AGENT TOOLS SUMMARY\")\n",
    "print(\"=\" * 80)\n",
    "for i, tool in enumerate(tools, 1):\n",
    "    print(f\"\\n{i}. {tool.name}\")\n",
    "    print(f\"   Description: {tool.description.split('.')[0]}\")\n",
    "    print(f\"   Parameters: {', '.join(tool.args_schema.model_fields.keys())}\")\n",
    "print(\"\\n\" + \"=\" * 80)"
   ]
  },
  {
   "cell_type": "markdown",
   "id": "agent-node",
   "metadata": {},
   "source": [
    "---\n",
    "\n",
    "## 🎨 Part 2: Define the Agent State\n",
    "\n",
    "In LangGraph, **state** is the shared data structure that flows through the graph. Each node can read from and write to the state.\n",
    "\n",
    "### What Goes in State?\n",
    "\n",
    "- **messages**: Conversation history (automatically managed by LangGraph)\n",
    "- **student_id**: Who we're helping\n",
    "- **session_id**: Current conversation session\n",
    "- **context**: Additional context (memories, preferences, etc.)\n",
    "\n",
    "**Note:** We use `Annotated[List[BaseMessage], add_messages]` for messages. The `add_messages` reducer automatically handles message deduplication and ordering.\n"
   ]
  },
  {
   "cell_type": "code",
   "execution_count": 14,
   "id": "save-memory-node",
   "metadata": {
    "execution": {
     "iopub.execute_input": "2025-10-31T23:57:53.969443Z",
     "iopub.status.busy": "2025-10-31T23:57:53.969382Z",
     "iopub.status.idle": "2025-10-31T23:57:53.971457Z",
     "shell.execute_reply": "2025-10-31T23:57:53.971109Z"
    }
   },
   "outputs": [
    {
     "name": "stdout",
     "output_type": "stream",
     "text": [
      "✅ Agent state defined\n",
      "   Fields: messages, student_id, session_id, context\n"
     ]
    }
   ],
   "source": [
    "# Define the agent state\n",
    "class AgentState(BaseModel):\n",
    "    \"\"\"State for the course advisor agent.\"\"\"\n",
    "    messages: Annotated[List[BaseMessage], add_messages]\n",
    "    student_id: str\n",
    "    session_id: str\n",
    "    context: Dict[str, Any] = {}\n",
    "\n",
    "print(\"✅ Agent state defined\")\n",
    "print(\"   Fields: messages, student_id, session_id, context\")"
   ]
  },
  {
   "cell_type": "markdown",
   "id": "routing-logic",
   "metadata": {},
   "source": [
    "---\n",
    "\n",
    "## 🔗 Part 3: Build the Agent Graph\n",
    "\n",
    "Now we'll build the LangGraph workflow. Our graph will have:\n",
    "\n",
    "1. **load_memory** - Load working memory (conversation history)\n",
    "2. **agent** - LLM decides what to do (call tools or respond)\n",
    "3. **tools** - Execute tool calls\n",
    "4. **save_memory** - Save updated conversation to working memory\n",
    "\n",
    "### Step 1: Define Node Functions\n",
    "\n",
    "Each node is a function that takes state and returns updated state.\n"
   ]
  },
  {
   "cell_type": "code",
   "execution_count": 15,
   "id": "should-continue",
   "metadata": {
    "execution": {
     "iopub.execute_input": "2025-10-31T23:57:53.972503Z",
     "iopub.status.busy": "2025-10-31T23:57:53.972440Z",
     "iopub.status.idle": "2025-10-31T23:57:53.974986Z",
     "shell.execute_reply": "2025-10-31T23:57:53.974616Z"
    }
   },
   "outputs": [
    {
     "name": "stdout",
     "output_type": "stream",
     "text": [
      "✅ Node 1 defined: load_memory\n",
      "   Purpose: Load conversation history from working memory\n"
     ]
    }
   ],
   "source": [
    "# Node 1: Load working memory\n",
    "async def load_memory(state: AgentState) -> AgentState:\n",
    "    \"\"\"\n",
    "    Load conversation history from working memory.\n",
    "    \n",
    "    This gives the agent context about previous interactions in this session.\n",
    "    \"\"\"\n",
    "    try:\n",
    "        # Get or create working memory for this session\n",
    "        _, working_memory = await memory_client.get_or_create_working_memory(\n",
    "            session_id=state.session_id,\n",
    "            user_id=state.student_id,\n",
    "            model_name=\"gpt-4o\"\n",
    "        )\n",
    "\n",
    "        if working_memory and working_memory.messages:\n",
    "            # Convert stored messages to LangChain message objects\n",
    "            loaded_messages = []\n",
    "            for msg in working_memory.messages:\n",
    "                if msg.role == 'user':\n",
    "                    loaded_messages.append(HumanMessage(content=msg.content))\n",
    "                elif msg.role == 'assistant':\n",
    "                    loaded_messages.append(AIMessage(content=msg.content))\n",
    "\n",
    "            # Add loaded messages to state (prepend to current messages)\n",
    "            state.messages = loaded_messages + state.messages\n",
    "            state.context['memory_loaded'] = True\n",
    "            print(f\"   Loaded {len(loaded_messages)} messages from working memory\")\n",
    "        else:\n",
    "            state.context['memory_loaded'] = False\n",
    "            print(\"   No previous conversation found (new session)\")\n",
    "    except Exception as e:\n",
    "        print(f\"   Warning: Could not load memory: {e}\")\n",
    "        state.context['memory_loaded'] = False\n",
    "    \n",
    "    return state\n",
    "\n",
    "print(\"✅ Node 1 defined: load_memory\")\n",
    "print(\"   Purpose: Load conversation history from working memory\")"
   ]
  },
  {
   "cell_type": "code",
   "execution_count": 16,
   "id": "build-graph",
   "metadata": {
    "execution": {
     "iopub.execute_input": "2025-10-31T23:57:53.975927Z",
     "iopub.status.busy": "2025-10-31T23:57:53.975854Z",
     "iopub.status.idle": "2025-10-31T23:57:53.977825Z",
     "shell.execute_reply": "2025-10-31T23:57:53.977580Z"
    }
   },
   "outputs": [
    {
     "name": "stdout",
     "output_type": "stream",
     "text": [
      "✅ Node 2 defined: agent_node\n",
      "   Purpose: LLM decides whether to call tools or respond\n"
     ]
    }
   ],
   "source": [
    "# Node 2: Agent (LLM with tools)\n",
    "async def agent_node(state: AgentState) -> AgentState:\n",
    "    \"\"\"\n",
    "    The agent decides what to do: call tools or respond to the user.\n",
    "    \n",
    "    This is where the LLM reasoning happens.\n",
    "    \"\"\"\n",
    "    # Create system message with instructions\n",
    "    system_message = SystemMessage(content=\"\"\"\n",
    "You are a helpful Redis University course advisor assistant.\n",
    "\n",
    "Your role:\n",
    "- Help students find courses that match their interests and goals\n",
    "- Remember student preferences and use them for personalized recommendations\n",
    "- Store important information about students for future conversations\n",
    "\n",
    "Guidelines:\n",
    "- Use search_courses to find relevant courses\n",
    "- Use search_memories to recall student preferences and past interactions\n",
    "- Use store_memory when students share important preferences, goals, or constraints\n",
    "- Be conversational and helpful\n",
    "- Provide specific course recommendations with details\n",
    "\"\"\")\n",
    "    \n",
    "    # Bind tools to LLM\n",
    "    llm_with_tools = llm.bind_tools(tools)\n",
    "    \n",
    "    # Call LLM with system message + conversation history\n",
    "    messages = [system_message] + state.messages\n",
    "    response = await llm_with_tools.ainvoke(messages)\n",
    "    \n",
    "    # Add response to state\n",
    "    state.messages.append(response)\n",
    "    \n",
    "    return state\n",
    "\n",
    "print(\"✅ Node 2 defined: agent_node\")\n",
    "print(\"   Purpose: LLM decides whether to call tools or respond\")"
   ]
  },
  {
   "cell_type": "code",
   "execution_count": 17,
   "id": "construct-graph",
   "metadata": {
    "execution": {
     "iopub.execute_input": "2025-10-31T23:57:53.978903Z",
     "iopub.status.busy": "2025-10-31T23:57:53.978835Z",
     "iopub.status.idle": "2025-10-31T23:57:53.981202Z",
     "shell.execute_reply": "2025-10-31T23:57:53.980864Z"
    }
   },
   "outputs": [
    {
     "name": "stdout",
     "output_type": "stream",
     "text": [
      "✅ Node 3 defined: save_memory\n",
      "   Purpose: Save conversation to working memory\n"
     ]
    }
   ],
   "source": [
    "# Node 3: Save working memory\n",
    "async def save_memory(state: AgentState) -> AgentState:\n",
    "    \"\"\"\n",
    "    Save the updated conversation to working memory.\n",
    "    \n",
    "    This ensures continuity across conversation turns.\n",
    "    \"\"\"\n",
    "    try:\n",
    "        # Get or create working memory\n",
    "        _, working_memory = await memory_client.get_or_create_working_memory(\n",
    "            session_id=state.session_id,\n",
    "            user_id=state.student_id,\n",
    "            model_name=\"gpt-4o\"\n",
    "        )\n",
    "\n",
    "        # Clear existing messages and add current conversation\n",
    "        working_memory.messages = []\n",
    "        for msg in state.messages:\n",
    "            if isinstance(msg, HumanMessage):\n",
    "                working_memory.messages.append(MemoryMessage(role='user', content=msg.content))\n",
    "            elif isinstance(msg, AIMessage):\n",
    "                # Only store text content, not tool calls\n",
    "                if msg.content:\n",
    "                    working_memory.messages.append(MemoryMessage(role='assistant', content=msg.content))\n",
    "\n",
    "        # Save to working memory\n",
    "        await memory_client.put_working_memory(\n",
    "            session_id=state.session_id,\n",
    "            memory=working_memory,\n",
    "            user_id=state.student_id,\n",
    "            model_name=\"gpt-4o\"\n",
    "        )\n",
    "\n",
    "        print(f\"   Saved {len(working_memory.messages)} messages to working memory\")\n",
    "    except Exception as e:\n",
    "        print(f\"   Warning: Could not save memory: {e}\")\n",
    "    \n",
    "    return state\n",
    "\n",
    "print(\"✅ Node 3 defined: save_memory\")\n",
    "print(\"   Purpose: Save conversation to working memory\")"
   ]
  },
  {
   "cell_type": "markdown",
   "id": "visualize-graph",
   "metadata": {},
   "source": [
    "### Step 2: Define Routing Logic\n",
    "\n",
    "We need a function to decide: should we call tools or end the conversation?\n"
   ]
  },
  {
   "cell_type": "code",
   "execution_count": 18,
   "id": "show-graph",
   "metadata": {
    "execution": {
     "iopub.execute_input": "2025-10-31T23:57:53.982174Z",
     "iopub.status.busy": "2025-10-31T23:57:53.982118Z",
     "iopub.status.idle": "2025-10-31T23:57:53.983908Z",
     "shell.execute_reply": "2025-10-31T23:57:53.983535Z"
    }
   },
   "outputs": [
    {
     "name": "stdout",
     "output_type": "stream",
     "text": [
      "✅ Routing logic defined: should_continue\n",
      "   Routes to 'tools' if LLM wants to call tools, otherwise to 'save_memory'\n"
     ]
    }
   ],
   "source": [
    "# Routing function\n",
    "def should_continue(state: AgentState) -> str:\n",
    "    \"\"\"\n",
    "    Determine if we should continue to tools or end.\n",
    "    \n",
    "    If the last message has tool calls, route to tools.\n",
    "    Otherwise, we're done.\n",
    "    \"\"\"\n",
    "    last_message = state.messages[-1]\n",
    "    \n",
    "    # Check if there are tool calls\n",
    "    if hasattr(last_message, 'tool_calls') and last_message.tool_calls:\n",
    "        return \"tools\"\n",
    "    else:\n",
    "        return \"save_memory\"\n",
    "\n",
    "print(\"✅ Routing logic defined: should_continue\")\n",
    "print(\"   Routes to 'tools' if LLM wants to call tools, otherwise to 'save_memory'\")"
   ]
  },
  {
   "cell_type": "markdown",
   "id": "demo-section",
   "metadata": {},
   "source": [
    "### Step 3: Build the Graph\n",
    "\n",
    "Now we assemble all the pieces into a LangGraph workflow.\n"
   ]
  },
  {
   "cell_type": "code",
   "execution_count": 19,
   "id": "run-agent-helper",
   "metadata": {
    "execution": {
     "iopub.execute_input": "2025-10-31T23:57:53.984807Z",
     "iopub.status.busy": "2025-10-31T23:57:53.984751Z",
     "iopub.status.idle": "2025-10-31T23:57:53.990038Z",
     "shell.execute_reply": "2025-10-31T23:57:53.989670Z"
    }
   },
   "outputs": [
    {
     "name": "stdout",
     "output_type": "stream",
     "text": [
      "✅ Agent graph built and compiled!\n",
      "\n",
      "📊 Graph structure:\n",
      "   START → load_memory → agent → [tools → agent]* → save_memory → END\n",
      "\n",
      "   * The agent can call tools multiple times before responding\n"
     ]
    }
   ],
   "source": [
    "# Create the graph\n",
    "workflow = StateGraph(AgentState)\n",
    "\n",
    "# Add nodes\n",
    "workflow.add_node(\"load_memory\", load_memory)\n",
    "workflow.add_node(\"agent\", agent_node)\n",
    "workflow.add_node(\"tools\", ToolNode(tools))\n",
    "workflow.add_node(\"save_memory\", save_memory)\n",
    "\n",
    "# Define edges\n",
    "workflow.set_entry_point(\"load_memory\")\n",
    "workflow.add_edge(\"load_memory\", \"agent\")\n",
    "workflow.add_conditional_edges(\n",
    "    \"agent\",\n",
    "    should_continue,\n",
    "    {\n",
    "        \"tools\": \"tools\",\n",
    "        \"save_memory\": \"save_memory\"\n",
    "    }\n",
    ")\n",
    "workflow.add_edge(\"tools\", \"agent\")  # After tools, go back to agent\n",
    "workflow.add_edge(\"save_memory\", END)\n",
    "\n",
    "# Compile the graph\n",
    "agent_graph = workflow.compile()\n",
    "\n",
    "print(\"✅ Agent graph built and compiled!\")\n",
    "print(\"\\n📊 Graph structure:\")\n",
    "print(\"   START → load_memory → agent → [tools → agent]* → save_memory → END\")\n",
    "print(\"\\n   * The agent can call tools multiple times before responding\")"
   ]
  },
  {
   "cell_type": "markdown",
   "id": "demo-1",
   "metadata": {},
   "source": [
    "### Step 4: Visualize the Graph\n",
    "\n",
    "Let's see what our agent workflow looks like!\n"
   ]
  },
  {
   "cell_type": "code",
   "execution_count": 20,
   "id": "demo-search",
   "metadata": {
    "execution": {
     "iopub.execute_input": "2025-10-31T23:57:53.991081Z",
     "iopub.status.busy": "2025-10-31T23:57:53.991018Z",
     "iopub.status.idle": "2025-10-31T23:57:54.095976Z",
     "shell.execute_reply": "2025-10-31T23:57:54.095530Z"
    }
   },
   "outputs": [
    {
     "data": {
      "image/png": "[encoded data removed]",
      "text/plain": [
       "<IPython.core.display.Image object>"
      ]
     },
     "metadata": {},
     "output_type": "display_data"
    },
    {
     "name": "stdout",
     "output_type": "stream",
     "text": [
      "\n",
      "✅ Graph visualization displayed above\n"
     ]
    }
   ],
   "source": [
    "# Try to visualize the graph\n",
    "try:\n",
    "    from IPython.display import Image, display\n",
    "    \n",
    "    # Generate graph visualization\n",
    "    graph_image = agent_graph.get_graph().draw_mermaid_png()\n",
    "    display(Image(graph_image))\n",
    "    print(\"\\n✅ Graph visualization displayed above\")\n",
    "except Exception as e:\n",
    "    print(f\"⚠️  Could not display graph visualization: {e}\")\n",
    "    print(\"\\nGraph structure (text):\")\n",
    "    print(\"\"\"    \n",
    "    ┌─────────────┐\n",
    "    │   START     │\n",
    "    └──────┬──────┘\n",
    "           │\n",
    "           ▼\n",
    "    ┌─────────────┐\n",
    "    │ load_memory │\n",
    "    └──────┬──────┘\n",
    "           │\n",
    "           ▼\n",
    "    ┌─────────────┐\n",
    "    │    agent    │ ◄─────┐\n",
    "    └──────┬──────┘       │\n",
    "           │              │\n",
    "      ┌────┴────┐         │\n",
    "      │         │         │\n",
    "      ▼         ▼         │\n",
    "   [tools]  [respond]     │\n",
    "      │                   │\n",
    "      └───────────────────┘\n",
    "                │\n",
    "                ▼\n",
    "         ┌─────────────┐\n",
    "         │ save_memory │\n",
    "         └──────┬──────┘\n",
    "                │\n",
    "                ▼\n",
    "         ┌─────────────┐\n",
    "         │     END     │\n",
    "         └─────────────┘\n",
    "    \"\"\")"
   ]
  },
  {
   "cell_type": "markdown",
   "id": "demo-2",
   "metadata": {},
   "source": [
    "---\n",
    "\n",
    "## 🎬 Part 4: Demo the Agent\n",
    "\n",
    "Now let's see our agent in action! We'll have a conversation with the agent and watch it:\n",
    "- Search for courses\n",
    "- Store memories about preferences\n",
    "- Recall information from previous interactions\n",
    "\n",
    "### Helper Function: Run Agent\n"
   ]
  },
  {
   "cell_type": "code",
   "execution_count": 21,
   "id": "demo-store",
   "metadata": {
    "execution": {
     "iopub.execute_input": "2025-10-31T23:57:54.097563Z",
     "iopub.status.busy": "2025-10-31T23:57:54.097461Z",
     "iopub.status.idle": "2025-10-31T23:57:54.100763Z",
     "shell.execute_reply": "2025-10-31T23:57:54.100208Z"
    }
   },
   "outputs": [
    {
     "name": "stdout",
     "output_type": "stream",
     "text": [
      "✅ Helper function defined: run_agent\n"
     ]
    }
   ],
   "source": [
    "async def run_agent(user_message: str, verbose: bool = True) -> str:\n",
    "    \"\"\"\n",
    "    Run the agent with a user message.\n",
    "    \n",
    "    Args:\n",
    "        user_message: The user's input\n",
    "        verbose: Whether to print detailed execution info\n",
    "    \n",
    "    Returns:\n",
    "        The agent's response\n",
    "    \"\"\"\n",
    "    if verbose:\n",
    "        print(\"=\" * 80)\n",
    "        print(f\"👤 USER: {user_message}\")\n",
    "        print(\"=\" * 80)\n",
    "    \n",
    "    # Create initial state\n",
    "    initial_state = AgentState(\n",
    "        messages=[HumanMessage(content=user_message)],\n",
    "        student_id=STUDENT_ID,\n",
    "        session_id=SESSION_ID,\n",
    "        context={}\n",
    "    )\n",
    "    \n",
    "    # Run the graph\n",
    "    if verbose:\n",
    "        print(\"\\n🤖 AGENT EXECUTION:\")\n",
    "    \n",
    "    final_state = await agent_graph.ainvoke(initial_state)\n",
    "\n",
    "    # Extract the final response\n",
    "    final_message = final_state[\"messages\"][-1]\n",
    "    response = final_message.content if hasattr(final_message, 'content') else str(final_message)\n",
    "    \n",
    "    if verbose:\n",
    "        print(\"\\n\" + \"=\" * 80)\n",
    "        print(f\"🤖 ASSISTANT: {response}\")\n",
    "        print(\"=\" * 80)\n",
    "    \n",
    "    return response\n",
    "\n",
    "print(\"✅ Helper function defined: run_agent\")"
   ]
  },
  {
   "cell_type": "markdown",
   "id": "demo-3",
   "metadata": {},
   "source": [
    "### Demo 1: Search Courses\n",
    "\n",
    "Let's ask the agent to find machine learning courses.\n"
   ]
  },
  {
   "cell_type": "code",
   "execution_count": 22,
   "id": "demo-recall",
   "metadata": {
    "execution": {
     "iopub.execute_input": "2025-10-31T23:57:54.102049Z",
     "iopub.status.busy": "2025-10-31T23:57:54.101962Z",
     "iopub.status.idle": "2025-10-31T23:57:58.356458Z",
     "shell.execute_reply": "2025-10-31T23:57:58.355667Z"
    }
   },
   "outputs": [
    {
     "name": "stdout",
     "output_type": "stream",
     "text": [
      "================================================================================\n",
      "👤 USER: What machine learning courses are available? I'm interested in intermediate level courses.\n",
      "================================================================================\n",
      "\n",
      "🤖 AGENT EXECUTION:\n",
      "19:57:54 httpx INFO   HTTP Request: GET http://localhost:8088/v1/working-memory/session_student_sarah_001_20251031_195753?user_id=student_sarah_001&namespace=redis_university&model_name=gpt-4o \"HTTP/1.1 404 Not Found\"\n"
     ]
    },
    {
     "name": "stdout",
     "output_type": "stream",
     "text": [
      "19:57:54 httpx INFO   HTTP Request: PUT http://localhost:8088/v1/working-memory/session_student_sarah_001_20251031_195753?user_id=student_sarah_001&model_name=gpt-4o \"HTTP/1.1 200 OK\"\n"
     ]
    },
    {
     "name": "stdout",
     "output_type": "stream",
     "text": [
      "   No previous conversation found (new session)\n"
     ]
    },
    {
     "name": "stdout",
     "output_type": "stream",
     "text": [
      "19:57:54 httpx INFO   HTTP Request: POST https://api.openai.com/v1/chat/completions \"HTTP/1.1 200 OK\"\n"
     ]
    },
    {
     "name": "stdout",
     "output_type": "stream",
     "text": [
      "19:57:55 httpx INFO   HTTP Request: POST https://api.openai.com/v1/embeddings \"HTTP/1.1 200 OK\"\n"
     ]
    },
    {
     "name": "stdout",
     "output_type": "stream",
     "text": [
      "19:57:58 httpx INFO   HTTP Request: POST https://api.openai.com/v1/chat/completions \"HTTP/1.1 200 OK\"\n"
     ]
    },
    {
     "name": "stdout",
     "output_type": "stream",
     "text": [
      "19:57:58 httpx INFO   HTTP Request: GET http://localhost:8088/v1/working-memory/session_student_sarah_001_20251031_195753?user_id=student_sarah_001&namespace=redis_university&model_name=gpt-4o \"HTTP/1.1 200 OK\"\n"
     ]
    },
    {
     "name": "stdout",
     "output_type": "stream",
     "text": [
      "19:57:58 httpx INFO   HTTP Request: PUT http://localhost:8088/v1/working-memory/session_student_sarah_001_20251031_195753?user_id=student_sarah_001&model_name=gpt-4o \"HTTP/1.1 200 OK\"\n"
     ]
    },
    {
     "name": "stdout",
     "output_type": "stream",
     "text": [
      "   Saved 2 messages to working memory\n",
      "\n",
      "================================================================================\n",
      "🤖 ASSISTANT: Here are some intermediate-level courses related to machine learning that you might find interesting:\n",
      "\n",
      "1. **MATH022: Linear Algebra**\n",
      "   - **Credits:** 3\n",
      "   - **Format:** In-person\n",
      "   - **Description:** Covers vector spaces, matrices, eigenvalues, and linear transformations. This course is essential for data science and engineering, providing foundational knowledge for machine learning.\n",
      "\n",
      "2. **MATH023: Linear Algebra**\n",
      "   - **Credits:** 3\n",
      "   - **Format:** Hybrid\n",
      "   - **Description:** Similar to MATH022, this course also covers vector spaces, matrices, eigenvalues, and linear transformations, with a hybrid format for more flexibility.\n",
      "\n",
      "These courses focus on linear algebra, which is a crucial component of machine learning. If you're looking for more specific machine learning algorithms and applications, you might consider advanced courses like CS007: Machine Learning, which covers supervised and unsupervised learning, neural networks, and more.\n",
      "\n",
      "If you have any specific preferences or constraints, feel free to let me know!\n",
      "================================================================================\n"
     ]
    }
   ],
   "source": [
    "# Demo 1: Search for courses\n",
    "response1 = await run_agent(\n",
    "    \"What machine learning courses are available? I'm interested in intermediate level courses.\"\n",
    ")"
   ]
  },
  {
   "cell_type": "markdown",
   "id": "demo-4",
   "metadata": {},
   "source": [
    "### Demo 2: Store Preferences\n",
    "\n",
    "Now let's share some preferences and watch the agent store them.\n"
   ]
  },
  {
   "cell_type": "code",
   "execution_count": 23,
   "id": "demo-personalized",
   "metadata": {
    "execution": {
     "iopub.execute_input": "2025-10-31T23:57:58.358447Z",
     "iopub.status.busy": "2025-10-31T23:57:58.358312Z",
     "iopub.status.idle": "2025-10-31T23:58:04.410189Z",
     "shell.execute_reply": "2025-10-31T23:58:04.409512Z"
    }
   },
   "outputs": [
    {
     "name": "stdout",
     "output_type": "stream",
     "text": [
      "================================================================================\n",
      "👤 USER: I prefer online courses because I have a part-time job. Also, I'm really interested in AI and want to work at a startup after graduation.\n",
      "================================================================================\n",
      "\n",
      "🤖 AGENT EXECUTION:\n",
      "19:57:58 httpx INFO   HTTP Request: GET http://localhost:8088/v1/working-memory/session_student_sarah_001_20251031_195753?user_id=student_sarah_001&namespace=redis_university&model_name=gpt-4o \"HTTP/1.1 200 OK\"\n"
     ]
    },
    {
     "name": "stdout",
     "output_type": "stream",
     "text": [
      "   Loaded 2 messages from working memory\n"
     ]
    },
    {
     "name": "stdout",
     "output_type": "stream",
     "text": [
      "19:57:59 httpx INFO   HTTP Request: POST https://api.openai.com/v1/chat/completions \"HTTP/1.1 200 OK\"\n"
     ]
    },
    {
     "name": "stdout",
     "output_type": "stream",
     "text": [
      "19:57:59 httpx INFO   HTTP Request: POST http://localhost:8088/v1/long-term-memory/ \"HTTP/1.1 200 OK\"\n"
     ]
    },
    {
     "name": "stdout",
     "output_type": "stream",
     "text": [
      "19:57:59 httpx INFO   HTTP Request: POST https://api.openai.com/v1/chat/completions \"HTTP/1.1 200 OK\"\n"
     ]
    },
    {
     "name": "stdout",
     "output_type": "stream",
     "text": [
      "19:57:59 httpx INFO   HTTP Request: POST http://localhost:8088/v1/long-term-memory/ \"HTTP/1.1 200 OK\"\n"
     ]
    },
    {
     "name": "stdout",
     "output_type": "stream",
     "text": [
      "19:58:01 httpx INFO   HTTP Request: POST https://api.openai.com/v1/chat/completions \"HTTP/1.1 200 OK\"\n"
     ]
    },
    {
     "name": "stdout",
     "output_type": "stream",
     "text": [
      "19:58:02 httpx INFO   HTTP Request: POST https://api.openai.com/v1/embeddings \"HTTP/1.1 200 OK\"\n"
     ]
    },
    {
     "name": "stdout",
     "output_type": "stream",
     "text": [
      "19:58:04 httpx INFO   HTTP Request: POST https://api.openai.com/v1/chat/completions \"HTTP/1.1 200 OK\"\n"
     ]
    },
    {
     "name": "stdout",
     "output_type": "stream",
     "text": [
      "19:58:04 httpx INFO   HTTP Request: GET http://localhost:8088/v1/working-memory/session_student_sarah_001_20251031_195753?user_id=student_sarah_001&namespace=redis_university&model_name=gpt-4o \"HTTP/1.1 200 OK\"\n"
     ]
    },
    {
     "name": "stdout",
     "output_type": "stream",
     "text": [
      "19:58:04 httpx INFO   HTTP Request: PUT http://localhost:8088/v1/working-memory/session_student_sarah_001_20251031_195753?user_id=student_sarah_001&model_name=gpt-4o \"HTTP/1.1 200 OK\"\n"
     ]
    },
    {
     "name": "stdout",
     "output_type": "stream",
     "text": [
      "   Saved 4 messages to working memory\n",
      "\n",
      "================================================================================\n",
      "🤖 ASSISTANT: Here are some intermediate-level machine learning-related courses that might interest you, especially considering your preference for online formats:\n",
      "\n",
      "1. **CS007: Machine Learning**\n",
      "   - **Credits:** 4\n",
      "   - **Format:** Hybrid\n",
      "   - **Level:** Advanced\n",
      "   - **Description:** This course introduces machine learning algorithms and applications, covering supervised and unsupervised learning, neural networks, and more. It's a great fit if you're looking to deepen your understanding of machine learning.\n",
      "\n",
      "2. **MATH023: Linear Algebra**\n",
      "   - **Credits:** 3\n",
      "   - **Format:** Hybrid\n",
      "   - **Level:** Intermediate\n",
      "   - **Description:** This course covers vector spaces, matrices, eigenvalues, and linear transformations, which are essential for data science and engineering. The hybrid format offers some flexibility.\n",
      "\n",
      "While CS007 is more advanced, it aligns well with your interest in AI. If you're looking for more online options, let me know, and I can help you find additional courses!\n",
      "================================================================================\n"
     ]
    }
   ],
   "source": [
    "# Demo 2: Store preferences\n",
    "response2 = await run_agent(\n",
    "    \"I prefer online courses because I have a part-time job. \"\n",
    "    \"Also, I'm really interested in AI and want to work at a startup after graduation.\"\n",
    ")"
   ]
  },
  {
   "cell_type": "markdown",
   "id": "inspect-memory",
   "metadata": {},
   "source": [
    "### Demo 3: Recall Memories\n",
    "\n",
    "Let's ask the agent to recall what it knows about us.\n"
   ]
  },
  {
   "cell_type": "code",
   "execution_count": 24,
   "id": "check-memories",
   "metadata": {
    "execution": {
     "iopub.execute_input": "2025-10-31T23:58:04.411898Z",
     "iopub.status.busy": "2025-10-31T23:58:04.411768Z",
     "iopub.status.idle": "2025-10-31T23:58:06.565467Z",
     "shell.execute_reply": "2025-10-31T23:58:06.564738Z"
    }
   },
   "outputs": [
    {
     "name": "stdout",
     "output_type": "stream",
     "text": [
      "================================================================================\n",
      "👤 USER: What do you remember about my preferences and goals?\n",
      "================================================================================\n",
      "\n",
      "🤖 AGENT EXECUTION:\n",
      "19:58:04 httpx INFO   HTTP Request: GET http://localhost:8088/v1/working-memory/session_student_sarah_001_20251031_195753?user_id=student_sarah_001&namespace=redis_university&model_name=gpt-4o \"HTTP/1.1 200 OK\"\n"
     ]
    },
    {
     "name": "stdout",
     "output_type": "stream",
     "text": [
      "   Loaded 4 messages from working memory\n"
     ]
    },
    {
     "name": "stdout",
     "output_type": "stream",
     "text": [
      "19:58:05 httpx INFO   HTTP Request: POST https://api.openai.com/v1/chat/completions \"HTTP/1.1 200 OK\"\n"
     ]
    },
    {
     "name": "stdout",
     "output_type": "stream",
     "text": [
      "19:58:05 httpx INFO   HTTP Request: POST http://localhost:8088/v1/long-term-memory/ \"HTTP/1.1 200 OK\"\n"
     ]
    },
    {
     "name": "stdout",
     "output_type": "stream",
     "text": [
      "19:58:06 httpx INFO   HTTP Request: POST https://api.openai.com/v1/chat/completions \"HTTP/1.1 200 OK\"\n"
     ]
    },
    {
     "name": "stdout",
     "output_type": "stream",
     "text": [
      "19:58:06 httpx INFO   HTTP Request: GET http://localhost:8088/v1/working-memory/session_student_sarah_001_20251031_195753?user_id=student_sarah_001&namespace=redis_university&model_name=gpt-4o \"HTTP/1.1 200 OK\"\n"
     ]
    },
    {
     "name": "stdout",
     "output_type": "stream",
     "text": [
      "19:58:06 httpx INFO   HTTP Request: PUT http://localhost:8088/v1/working-memory/session_student_sarah_001_20251031_195753?user_id=student_sarah_001&model_name=gpt-4o \"HTTP/1.1 200 OK\"\n"
     ]
    },
    {
     "name": "stdout",
     "output_type": "stream",
     "text": [
      "   Saved 6 messages to working memory\n",
      "\n",
      "================================================================================\n",
      "🤖 ASSISTANT: I've noted your preference for online courses due to your part-time job and your interest in AI with a goal to work at a startup after graduation. If you need more information or have other preferences, feel free to let me know!\n",
      "================================================================================\n"
     ]
    }
   ],
   "source": [
    "# Demo 3: Recall memories\n",
    "response3 = await run_agent(\n",
    "    \"What do you remember about my preferences and goals?\"\n",
    ")"
   ]
  },
  {
   "cell_type": "markdown",
   "id": "comparison",
   "metadata": {},
   "source": [
    "### Demo 4: Personalized Recommendations\n",
    "\n",
    "Now let's ask for recommendations and see if the agent uses our stored preferences.\n"
   ]
  },
  {
   "cell_type": "code",
   "execution_count": 25,
   "id": "architecture-recap",
   "metadata": {
    "execution": {
     "iopub.execute_input": "2025-10-31T23:58:06.567416Z",
     "iopub.status.busy": "2025-10-31T23:58:06.567279Z",
     "iopub.status.idle": "2025-10-31T23:58:11.047325Z",
     "shell.execute_reply": "2025-10-31T23:58:11.046775Z"
    }
   },
   "outputs": [
    {
     "name": "stdout",
     "output_type": "stream",
     "text": [
      "================================================================================\n",
      "👤 USER: Can you recommend some courses for next semester based on what you know about me?\n",
      "================================================================================\n",
      "\n",
      "🤖 AGENT EXECUTION:\n",
      "19:58:06 httpx INFO   HTTP Request: GET http://localhost:8088/v1/working-memory/session_student_sarah_001_20251031_195753?user_id=student_sarah_001&namespace=redis_university&model_name=gpt-4o \"HTTP/1.1 200 OK\"\n"
     ]
    },
    {
     "name": "stdout",
     "output_type": "stream",
     "text": [
      "   Loaded 6 messages from working memory\n"
     ]
    },
    {
     "name": "stdout",
     "output_type": "stream",
     "text": [
      "19:58:07 httpx INFO   HTTP Request: POST https://api.openai.com/v1/chat/completions \"HTTP/1.1 200 OK\"\n"
     ]
    },
    {
     "name": "stdout",
     "output_type": "stream",
     "text": [
      "19:58:07 httpx INFO   HTTP Request: POST http://localhost:8088/v1/long-term-memory/ \"HTTP/1.1 200 OK\"\n"
     ]
    },
    {
     "name": "stdout",
     "output_type": "stream",
     "text": [
      "19:58:09 httpx INFO   HTTP Request: POST https://api.openai.com/v1/chat/completions \"HTTP/1.1 200 OK\"\n"
     ]
    },
    {
     "name": "stdout",
     "output_type": "stream",
     "text": [
      "19:58:09 httpx INFO   HTTP Request: POST https://api.openai.com/v1/embeddings \"HTTP/1.1 200 OK\"\n"
     ]
    },
    {
     "name": "stdout",
     "output_type": "stream",
     "text": [
      "19:58:10 httpx INFO   HTTP Request: POST https://api.openai.com/v1/chat/completions \"HTTP/1.1 200 OK\"\n"
     ]
    },
    {
     "name": "stdout",
     "output_type": "stream",
     "text": [
      "19:58:11 httpx INFO   HTTP Request: GET http://localhost:8088/v1/working-memory/session_student_sarah_001_20251031_195753?user_id=student_sarah_001&namespace=redis_university&model_name=gpt-4o \"HTTP/1.1 200 OK\"\n"
     ]
    },
    {
     "name": "stdout",
     "output_type": "stream",
     "text": [
      "19:58:11 httpx INFO   HTTP Request: PUT http://localhost:8088/v1/working-memory/session_student_sarah_001_20251031_195753?user_id=student_sarah_001&model_name=gpt-4o \"HTTP/1.1 200 OK\"\n"
     ]
    },
    {
     "name": "stdout",
     "output_type": "stream",
     "text": [
      "   Saved 8 messages to working memory\n",
      "\n",
      "================================================================================\n",
      "🤖 ASSISTANT: Here are some intermediate-level machine learning-related courses that might interest you, especially considering your preference for online formats:\n",
      "\n",
      "1. **CS007: Machine Learning**\n",
      "   - **Credits:** 4\n",
      "   - **Format:** Hybrid\n",
      "   - **Level:** Advanced\n",
      "   - **Description:** This course introduces machine learning algorithms and applications, covering supervised and unsupervised learning, neural networks, and more. It's a great fit if you're looking to deepen your understanding of machine learning.\n",
      "\n",
      "2. **MATH023: Linear Algebra**\n",
      "   - **Credits:** 3\n",
      "   - **Format:** Hybrid\n",
      "   - **Level:** Intermediate\n",
      "   - **Description:** This course covers vector spaces, matrices, eigenvalues, and linear transformations, which are essential for data science and engineering. The hybrid format offers some flexibility.\n",
      "\n",
      "While CS007 is more advanced, it aligns well with your interest in AI. If you're looking for more online options, let me know, and I can help you find additional courses!\n",
      "================================================================================\n"
     ]
    }
   ],
   "source": [
    "# Demo 4: Personalized recommendations\n",
    "response4 = await run_agent(\n",
    "    \"Can you recommend some courses for next semester based on what you know about me?\"\n",
    ")"
   ]
  },
  {
   "cell_type": "markdown",
   "id": "key-takeaways",
   "metadata": {},
   "source": [
    "### Inspect Stored Memories\n",
    "\n",
    "Let's look at what's actually stored in long-term memory.\n"
   ]
  },
  {
   "cell_type": "code",
   "execution_count": 26,
   "id": "next-steps",
   "metadata": {
    "execution": {
     "iopub.execute_input": "2025-10-31T23:58:11.049386Z",
     "iopub.status.busy": "2025-10-31T23:58:11.049237Z",
     "iopub.status.idle": "2025-10-31T23:58:11.464715Z",
     "shell.execute_reply": "2025-10-31T23:58:11.464089Z"
    }
   },
   "outputs": [
    {
     "name": "stdout",
     "output_type": "stream",
     "text": [
      "19:58:11 httpx INFO   HTTP Request: POST http://localhost:8088/v1/long-term-memory/search?optimize_query=false \"HTTP/1.1 200 OK\"\n"
     ]
    },
    {
     "name": "stdout",
     "output_type": "stream",
     "text": [
      "================================================================================\n",
      "💾 LONG-TERM MEMORY CONTENTS\n",
      "================================================================================\n",
      "\n",
      "1. [MemoryTypeEnum.SEMANTIC] User prefers online courses because of their part-time job and is interested in AI, aiming to work at a startup after graduation.\n",
      "   Topics: preferences, goals, career goals\n",
      "   Created: 2025-10-31 23:34:56.348080+00:00\n",
      "\n",
      "2. [MemoryTypeEnum.SEMANTIC] User is interested in intermediate level machine learning courses\n",
      "   Topics: education, machine learning\n",
      "   Created: 2025-10-31 23:57:59.851662+00:00\n",
      "\n",
      "3. [MemoryTypeEnum.SEMANTIC] User is interested in intermediate-level machine learning courses.\n",
      "   Topics: education, machine learning\n",
      "   Created: 2025-10-31 23:41:07.649462+00:00\n",
      "\n",
      "4. [MemoryTypeEnum.SEMANTIC] User is interested in intermediate level machine learning courses.\n",
      "   Topics: education, machine learning\n",
      "   Created: 2025-10-31 23:38:59.455948+00:00\n",
      "\n",
      "5. [MemoryTypeEnum.SEMANTIC] User is interested in AI and wants to work at a startup after graduation.\n",
      "   Topics: career goals, interests\n",
      "   Created: 2025-10-31 23:34:51.334794+00:00\n",
      "\n",
      "6. [MemoryTypeEnum.SEMANTIC] User might be interested in CS007: Machine Learning, which covers supervised and unsupervised learning, neural networks, and more\n",
      "   Topics: education, machine learning\n",
      "   Created: 2025-10-31 23:57:59.851713+00:00\n",
      "\n",
      "7. [MemoryTypeEnum.SEMANTIC] User prefers online courses due to having a part-time job.\n",
      "   Topics: preferences, constraints\n",
      "   Created: 2025-10-31 23:34:50.400956+00:00\n",
      "\n",
      "8. [MemoryTypeEnum.SEMANTIC] User may consider advanced courses like CS007: Machine Learning, which covers supervised and unsupervised learning, and neural networks.\n",
      "   Topics: education, machine learning, course recommendations\n",
      "   Created: 2025-10-31 23:34:50.805480+00:00\n",
      "\n",
      "================================================================================\n"
     ]
    }
   ],
   "source": [
    "# Check what's in long-term memory\n",
    "try:\n",
    "    from agent_memory_client.filters import UserId\n",
    "    \n",
    "    results = await memory_client.search_long_term_memory(\n",
    "        text=\"preferences goals interests\",\n",
    "        user_id=UserId(eq=STUDENT_ID),\n",
    "        limit=10\n",
    "    )\n",
    "    \n",
    "    print(\"=\" * 80)\n",
    "    print(\"💾 LONG-TERM MEMORY CONTENTS\")\n",
    "    print(\"=\" * 80)\n",
    "    \n",
    "    if results.memories and len(results.memories) > 0:\n",
    "        for i, memory in enumerate(results.memories, 1):\n",
    "            print(f\"\\n{i}. [{memory.memory_type}] {memory.text}\")\n",
    "            if memory.topics:\n",
    "                print(f\"   Topics: {', '.join(memory.topics)}\")\n",
    "            if memory.created_at:\n",
    "                print(f\"   Created: {memory.created_at}\")\n",
    "    else:\n",
    "        print(\"\\nNo memories found.\")\n",
    "    \n",
    "    print(\"\\n\" + \"=\" * 80)\n",
    "except Exception as e:\n",
    "    print(f\"Error retrieving memories: {e}\")"
   ]
  },
  {
   "cell_type": "markdown",
   "id": "conclusion",
   "metadata": {},
   "source": [
    "---\n",
    "\n",
    "## 📊 Part 5: RAG vs Agent Comparison\n",
    "\n",
    "Let's compare what we've built across the sections:\n",
    "\n",
    "### **Section 2: Basic RAG**\n",
    "```python\n",
    "# Simple flow\n",
    "query → search_courses() → generate_response()\n",
    "```\n",
    "- ✅ Can retrieve course information\n",
    "- ❌ No memory of previous interactions\n",
    "- ❌ Can't store user preferences\n",
    "- ❌ Single-step only\n",
    "\n",
    "### **Section 3: Memory-Enhanced RAG**\n",
    "```python\n",
    "# With memory\n",
    "load_memory() → search_courses() → generate_response() → save_memory()\n",
    "```\n",
    "- ✅ Remembers conversation history\n",
    "- ✅ Can reference previous messages\n",
    "- ⚠️  Limited to predefined flow\n",
    "- ❌ Can't decide when to store memories\n",
    "\n",
    "### **Section 4: Full Agent (This Notebook)**\n",
    "```python\n",
    "# Agent with tools and decision-making\n",
    "load_memory() → agent_decides() → [search_courses | search_memories | store_memory]* → save_memory()\n",
    "```\n",
    "- ✅ Remembers conversation history\n",
    "- ✅ Decides when to search courses\n",
    "- ✅ Decides when to store memories\n",
    "- ✅ Decides when to recall memories\n",
    "- ✅ Can chain multiple operations\n",
    "- ✅ Adaptive to user needs\n",
    "\n",
    "### **Key Differences:**\n",
    "\n",
    "| Feature | RAG | Memory-RAG | Agent |\n",
    "|---------|-----|------------|-------|\n",
    "| **Retrieval** | ✅ | ✅ | ✅ |\n",
    "| **Conversation Memory** | ❌ | ✅ | ✅ |\n",
    "| **Long-term Memory** | ❌ | ⚠️ (manual) | ✅ (automatic) |\n",
    "| **Decision Making** | ❌ | ❌ | ✅ |\n",
    "| **Multi-step Reasoning** | ❌ | ❌ | ✅ |\n",
    "| **Tool Selection** | ❌ | ❌ | ✅ |\n",
    "| **Complexity** | Low | Medium | High |\n",
    "| **Latency** | Low | Medium | Higher |\n",
    "| **Cost** | Low | Medium | Higher |\n",
    "\n",
    "**💡 Key Insight:** Agents add decision-making and multi-step reasoning to RAG systems.\n"
   ]
  },
  {
   "cell_type": "markdown",
   "id": "a8c8b43a1a04fff3",
   "metadata": {},
   "source": [
    "---\n",
    "\n",
    "## 🏗️ Architecture Recap\n",
    "\n",
    "### **What We Built:**\n",
    "\n",
    "A complete course advisor agent with:\n",
    "\n",
    "**1. Tools (3 total)**\n",
    "- `search_courses` - Semantic search over course catalog\n",
    "- `search_memories` - Recall user preferences and facts\n",
    "- `store_memory` - Save important information\n",
    "\n",
    "**2. Memory Architecture**\n",
    "- **Working Memory** - Conversation history (session-scoped)\n",
    "- **Long-term Memory** - User preferences and facts (persistent)\n",
    "- **Graph State** - Current execution state (turn-scoped)\n",
    "\n",
    "**3. LangGraph Workflow**\n",
    "- **Nodes**: load_memory, agent, tools, save_memory\n",
    "- **Edges**: Conditional routing based on LLM decisions\n",
    "- **State**: Shared data structure flowing through the graph\n",
    "\n",
    "**4. Integration Points**\n",
    "- **Redis** - Course catalog storage and vector search\n",
    "- **Agent Memory Server** - Working and long-term memory\n",
    "- **OpenAI** - LLM for reasoning and tool selection\n",
    "- **LangGraph** - Workflow orchestration\n",
    "\n",
    "### **The Complete Context Engineering Stack:**\n",
    "\n",
    "```\n",
    "┌─────────────────────────────────────────────────────────┐\n",
    "│                    AGENT LAYER                          │\n",
    "│  (LangGraph orchestration + tool selection)             │\n",
    "└────────────────────┬────────────────────────────────────┘\n",
    "                     │\n",
    "        ┌────────────┼────────────┐\n",
    "        │            │            │\n",
    "        ▼            ▼            ▼\n",
    "   ┌────────┐  ┌─────────┐  ┌─────────┐\n",
    "   │ Tools  │  │ Memory  │  │   RAG   │\n",
    "   └────────┘  └─────────┘  └─────────┘\n",
    "        │            │            │\n",
    "        └────────────┼────────────┘\n",
    "                     │\n",
    "                     ▼\n",
    "            ┌─────────────────┐\n",
    "            │  Redis Stack    │\n",
    "            │  (Storage +     │\n",
    "            │   Vector Search)│\n",
    "            └─────────────────┘\n",
    "```\n"
   ]
  },
  {
   "cell_type": "markdown",
   "id": "97d4b563a3a30240",
   "metadata": {},
   "source": [
    "---\n",
    "\n",
    "## 🎓 Key Takeaways\n",
    "\n",
    "### **1. Agents = RAG + Tools + Decision-Making**\n",
    "- RAG retrieves information\n",
    "- Tools enable actions\n",
    "- Agents decide when to use each\n",
    "\n",
    "### **2. Memory is Critical for Personalization**\n",
    "- Working memory enables conversation continuity\n",
    "- Long-term memory enables personalization\n",
    "- Agents can decide when to store/recall memories\n",
    "\n",
    "### **3. LangGraph Simplifies Complex Workflows**\n",
    "- State management is automatic\n",
    "- Conditional routing is declarative\n",
    "- Visualization helps debugging\n",
    "\n",
    "### **4. Tool Design Matters**\n",
    "- Clear descriptions guide LLM selection\n",
    "- Well-defined schemas prevent errors\n",
    "- Focused tools are better than Swiss Army knives\n",
    "\n",
    "### **5. Trade-offs to Consider**\n",
    "- **Complexity**: Agents are more complex than RAG\n",
    "- **Latency**: Multiple tool calls add latency\n",
    "- **Cost**: More LLM calls = higher cost\n",
    "- **Value**: Worth it for complex, multi-step tasks\n",
    "\n",
    "### **6. When to Use Agents vs RAG**\n",
    "\n",
    "**Use RAG when:**\n",
    "- Simple question answering\n",
    "- Single-step retrieval\n",
    "- Low latency required\n",
    "- Predictable workflows\n",
    "\n",
    "**Use Agents when:**\n",
    "- Multi-step reasoning needed\n",
    "- Actions beyond retrieval\n",
    "- Personalization required\n",
    "- Complex decision-making\n"
   ]
  },
  {
   "cell_type": "markdown",
   "id": "c2fc05bfee7ece66",
   "metadata": {},
   "source": [
    "---\n",
    "\n",
    "## 🚀 Next Steps and Extensions\n",
    "\n",
    "### **Ideas to Extend This Agent:**\n",
    "\n",
    "1. **Add More Tools**\n",
    "   - `check_prerequisites` - Verify if student meets course requirements\n",
    "   - `get_course_details` - Get detailed info about a specific course\n",
    "   - `create_schedule` - Build a semester schedule\n",
    "   - `check_conflicts` - Detect time conflicts\n",
    "\n",
    "2. **Enhance Memory**\n",
    "   - Automatic memory extraction from conversations\n",
    "   - Memory summarization for long conversations\n",
    "   - Memory importance scoring\n",
    "   - Memory expiration policies\n",
    "\n",
    "3. **Improve Personalization**\n",
    "   - Learning style detection\n",
    "   - Career path recommendations\n",
    "   - Skill gap analysis\n",
    "   - Progress tracking\n",
    "\n",
    "4. **Add Guardrails**\n",
    "   - Input validation\n",
    "   - Output filtering\n",
    "   - Rate limiting\n",
    "   - Error handling\n",
    "\n",
    "5. **Production Considerations**\n",
    "   - Authentication and authorization\n",
    "   - Logging and monitoring\n",
    "   - Caching for performance\n",
    "   - Fallback strategies\n",
    "\n",
    "### **Reference Implementation:**\n",
    "\n",
    "Check out `reference-agent/` for a full production implementation with:\n",
    "- 7 tools (vs our 3)\n",
    "- Advanced memory management\n",
    "- Semantic tool selection\n",
    "- Comprehensive error handling\n",
    "- CLI interface\n",
    "- Full test suite\n"
   ]
  },
  {
   "cell_type": "markdown",
   "id": "437746891b606882",
   "metadata": {},
   "source": [
    "---\n",
    "\n",
    "## 🎉 Congratulations!\n",
    "\n",
    "You've completed the Context Engineering course! You've learned:\n",
    "\n",
    "**Section 1:** Context Types\n",
    "- System, User, Conversation, Retrieved context\n",
    "- How context shapes LLM behavior\n",
    "\n",
    "**Section 2:** RAG Foundations\n",
    "- Semantic search with vector embeddings\n",
    "- Context assembly and generation\n",
    "- Building a course search system\n",
    "\n",
    "**Section 3:** Memory Architecture\n",
    "- Working memory for conversation continuity\n",
    "- Long-term memory for persistent knowledge\n",
    "- Memory-enhanced RAG systems\n",
    "\n",
    "**🔬 Research Foundation:** Throughout this course, you've learned techniques validated by Context Rot research - prioritizing relevance over quantity, filtering distractors, and structuring context for optimal LLM performance. ([Context Rot paper](https://research.trychroma.com/context-rot))\n",
    "\n",
    "**Section 4:** Agents and Tools\n",
    "- Tool calling fundamentals\n",
    "- LangGraph workflow orchestration\n",
    "- Building a complete course advisor agent\n",
    "- Agents vs RAG trade-offs\n",
    "\n",
    "### **You Can Now:**\n",
    "- ✅ Design effective context strategies\n",
    "- ✅ Build RAG systems with Redis\n",
    "- ✅ Implement dual-memory architectures\n",
    "- ✅ Create agents with tools and decision-making\n",
    "- ✅ Choose the right approach for your use case\n",
    "\n",
    "### **Keep Learning:**\n",
    "- Explore the reference-agent implementation\n",
    "- Experiment with different tools\n",
    "- Try different LLMs and embeddings\n",
    "- Build your own agents!\n",
    "\n",
    "---\n",
    "\n",
    "## 📚 Additional Resources\n",
    "\n",
    "### **Core Technologies**\n",
    "- [Redis Agent Memory Server](https://github.com/redis/agent-memory-server) - Dual-memory architecture for agents\n",
    "- [RedisVL](https://github.com/redis/redis-vl) - Redis Vector Library for semantic search\n",
    "- [Redis Vector Search](https://redis.io/docs/stack/search/reference/vectors/) - Vector similarity search documentation\n",
    "- [Agent Memory Client](https://pypi.org/project/agent-memory-client/) - Python client library\n",
    "\n",
    "### **LangChain & LangGraph**\n",
    "- [LangChain Documentation](https://python.langchain.com/) - Complete LangChain guide\n",
    "- [LangGraph Documentation](https://langchain-ai.github.io/langgraph/) - State management for agents\n",
    "- [LangGraph Tutorials](https://langchain-ai.github.io/langgraph/tutorials/) - Step-by-step tutorials\n",
    "- [LangChain Tools Guide](https://python.langchain.com/docs/modules/tools/) - Tool creation and usage\n",
    "- [LangChain Agents](https://python.langchain.com/docs/modules/agents/) - Agent architectures\n",
    "\n",
    "### **OpenAI**\n",
    "- [OpenAI Function Calling](https://platform.openai.com/docs/guides/function-calling) - Tool calling fundamentals\n",
    "- [OpenAI API Documentation](https://platform.openai.com/docs/api-reference) - Complete API reference\n",
    "- [OpenAI Embeddings Guide](https://platform.openai.com/docs/guides/embeddings) - Understanding embeddings\n",
    "\n",
    "### **Academic Papers**\n",
    "- [ReAct: Synergizing Reasoning and Acting](https://arxiv.org/abs/2210.03629) - Reasoning + acting in LLMs\n",
    "- [Toolformer: Language Models Can Teach Themselves to Use Tools](https://arxiv.org/abs/2302.04761) - Tool learning\n",
    "- [MemGPT: Towards LLMs as Operating Systems](https://arxiv.org/abs/2310.08560) - Memory management for LLMs\n",
    "- [Retrieval-Augmented Generation](https://arxiv.org/abs/2005.11401) - RAG foundations\n",
    "- [In-Context Learning Survey](https://arxiv.org/abs/2301.00234) - How LLMs use context\n",
    "\n",
    "### **Agent Design Patterns**\n",
    "- [Anthropic's Guide to Building Effective Agents](https://www.anthropic.com/research/building-effective-agents) - Best practices\n",
    "- [LangChain Agent Patterns](https://python.langchain.com/docs/modules/agents/) - Different agent architectures\n",
    "- [Prompt Engineering Guide](https://www.promptingguide.ai/) - Context and prompt strategies\n",
    "\n",
    "### **Production Resources**\n",
    "- [LangChain Production Guide](https://python.langchain.com/docs/guides/productionization/) - Deploying LangChain apps\n",
    "- [Redis Best Practices](https://redis.io/docs/manual/patterns/) - Production Redis patterns\n",
    "- [Redis Memory Optimization](https://redis.io/docs/manual/patterns/memory-optimization/) - Memory management\n",
    "\n",
    "### **Community and Learning**\n",
    "- [LangChain Community](https://github.com/langchain-ai/langchain) - GitHub repository\n",
    "- [Redis Community](https://redis.io/community/) - Forums and resources\n",
    "- [Redis University](https://university.redis.com/) - Free Redis courses\n",
    "\n",
    "---\n",
    "\n",
    "**Thank you for completing this course! 🙏**\n"
   ]
  },
  {
   "metadata": {},
   "cell_type": "code",
   "outputs": [],
   "execution_count": null,
   "source": "",
   "id": "8d495052317c67bb"
  }
 ],
 "metadata": {
  "kernelspec": {
   "display_name": "Python 3 (ipykernel)",
   "language": "python",
   "name": "python3"
  },
  "language_info": {
   "codemirror_mode": {
    "name": "ipython",
    "version": 3
   },
   "file_extension": ".py",
   "mimetype": "text/x-python",
   "name": "python",
   "nbconvert_exporter": "python",
   "pygments_lexer": "ipython3",
   "version": "3.12.6"
  }
 },
 "nbformat": 4,
 "nbformat_minor": 5
}
