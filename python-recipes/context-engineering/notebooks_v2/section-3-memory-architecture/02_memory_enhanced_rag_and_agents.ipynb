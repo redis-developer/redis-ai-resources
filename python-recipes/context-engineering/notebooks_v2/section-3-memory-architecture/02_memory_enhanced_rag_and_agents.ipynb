{
 "cells": [
  {
   "cell_type": "markdown",
   "id": "9e21de5ad28ededc",
   "metadata": {},
   "source": [
    "![Redis](https://redis.io/wp-content/uploads/2024/04/Logotype.svg?auto=webp&quality=85,75&width=120)\n",
    "\n",
    "# 🔗 Section 3: Memory-Enhanced RAG and Agents\n",
    "\n",
    "**⏱️ Estimated Time:** 60-75 minutes\n",
    "\n",
    "## 🎯 Learning Objectives\n",
    "\n",
    "By the end of this notebook, you will:\n",
    "\n",
    "1. **Build** a memory-enhanced RAG system that combines all four context types\n",
    "2. **Demonstrate** the benefits of memory for natural conversations\n",
    "3. **Convert** a simple RAG system into a LangGraph agent\n",
    "4. **Prepare** for Section 4 (adding tools and advanced agent capabilities)\n",
    "\n",
    "---\n",
    "\n",
    "## 🔗 Bridge from Previous Notebooks\n",
    "\n",
    "### **What You've Learned:**\n",
    "\n",
    "**Section 1:** Four Context Types\n",
    "- System Context (static instructions)\n",
    "- User Context (profile, preferences)\n",
    "- Conversation Context (enabled by working memory)\n",
    "- Retrieved Context (RAG results)\n",
    "\n",
    "**Section 2:** RAG Fundamentals\n",
    "- Semantic search with vector embeddings\n",
    "- Context assembly\n",
    "- LLM generation\n",
    "\n",
    "**Section 3 (Notebook 1):** Memory Fundamentals\n",
    "- Working memory for conversation continuity\n",
    "- Long-term memory for persistent knowledge\n",
    "- Memory types (semantic, episodic, message)\n",
    "- Memory lifecycle and persistence\n",
    "\n",
    "### **What We'll Build:**\n",
    "\n",
    "**Part 1:** Memory-Enhanced RAG\n",
    "- Integrate working memory + long-term memory + RAG\n",
    "- Show clear before/after comparisons\n",
    "- Demonstrate benefits of memory systems\n",
    "\n",
    "**Part 2:** LangGraph Agent (Separate Notebook)\n",
    "- Convert memory-enhanced RAG to LangGraph agent\n",
    "- Add state management and control flow\n",
    "- Prepare for Section 4 (tools and advanced capabilities)\n",
    "\n",
    "---\n",
    "\n",
    "## 📊 The Complete Picture\n",
    "\n",
    "### **Memory-Enhanced RAG Flow:**\n",
    "\n",
    "```\n",
    "User Query\n",
    "    ↓\n",
    "1. Load Working Memory (conversation history)\n",
    "2. Search Long-term Memory (user preferences, facts)\n",
    "3. RAG Search (relevant courses)\n",
    "4. Assemble Context (System + User + Conversation + Retrieved)\n",
    "5. Generate Response\n",
    "6. Save Working Memory (updated conversation)\n",
    "```\n",
    "\n",
    "### **All Four Context Types Working Together:**\n",
    "\n",
    "| Context Type | Source | Purpose |\n",
    "|-------------|--------|---------|\n",
    "| **System** | Static prompt | Role, instructions, guidelines |\n",
    "| **User** | Profile + Long-term Memory | Personalization, preferences |\n",
    "| **Conversation** | Working Memory | Reference resolution, continuity |\n",
    "| **Retrieved** | RAG Search | Relevant courses, information |\n",
    "\n",
    "**💡 Key Insight:** Memory transforms stateless RAG into stateful, personalized conversations.\n",
    "\n",
    "---\n",
    "\n",
    "## 📦 Setup and Environment\n",
    "\n",
    "Let's set up our environment with the necessary dependencies and connections. We'll build on Section 2's RAG foundation and add memory capabilities.\n",
    "\n",
    "### ⚠️ Prerequisites\n",
    "\n",
    "**Before running this notebook, make sure you have:**\n",
    "\n",
    "1. **Docker Desktop running** - Required for Redis and Agent Memory Server\n",
    "\n",
    "2. **Environment variables** - Create a `.env` file in the `reference-agent` directory:\n",
    "   ```bash\n",
    "   # Copy the example file\n",
    "   cd ../../reference-agent\n",
    "   cp .env.example .env\n",
    "\n",
    "   # Edit .env and add your OpenAI API key\n",
    "   # OPENAI_API_KEY=your_actual_openai_api_key_here\n",
    "   ```\n",
    "\n",
    "3. **Run the setup script** - This will automatically start Redis and Agent Memory Server:\n",
    "   ```bash\n",
    "   cd ../../reference-agent\n",
    "   python setup_agent_memory_server.py\n",
    "   ```\n",
    "\n",
    "**Note:** The setup script will:\n",
    "- ✅ Check if Docker is running\n",
    "- ✅ Start Redis if not running (port 6379)\n",
    "- ✅ Start Agent Memory Server if not running (port 8088)\n",
    "- ✅ Verify Redis connection is working\n",
    "- ✅ Handle any configuration issues automatically\n",
    "\n",
    "If the Memory Server is not available, the notebook will skip memory-related demos but will still run.\n"
   ]
  },
  {
   "cell_type": "markdown",
   "id": "264e6d5b346b6755",
   "metadata": {
    "execution": {
     "iopub.execute_input": "2025-10-31T14:27:06.541458Z",
     "iopub.status.busy": "2025-10-31T14:27:06.541296Z",
     "iopub.status.idle": "2025-10-31T14:27:08.268475Z",
     "shell.execute_reply": "2025-10-31T14:27:08.268022Z"
    }
   },
   "source": [
    "---\n"
   ]
  },
  {
   "cell_type": "markdown",
   "id": "dedc66a54eb849c6",
   "metadata": {},
   "source": [
    "### Automated Setup Check\n",
    "\n",
    "Let's run the setup script to ensure all services are running properly.\n"
   ]
  },
  {
   "cell_type": "code",
   "execution_count": 1,
   "id": "1cd141310064ba82",
   "metadata": {},
   "outputs": [
    {
     "name": "stdout",
     "output_type": "stream",
     "text": [
      "Running automated setup check...\n",
      "\n",
      "\n",
      "🔧 Agent Memory Server Setup\n",
      "===========================\n",
      "📊 Checking Redis...\n",
      "✅ Redis is running\n",
      "📊 Checking Agent Memory Server...\n",
      "🔍 Agent Memory Server container exists. Checking health...\n",
      "✅ Agent Memory Server is running and healthy\n",
      "✅ No Redis connection issues detected\n",
      "\n",
      "✅ Setup Complete!\n",
      "=================\n",
      "📊 Services Status:\n",
      "   • Redis: Running on port 6379\n",
      "   • Agent Memory Server: Running on port 8088\n",
      "\n",
      "🎯 You can now run the notebooks!\n",
      "\n",
      "\n",
      "✅ All services are ready!\n"
     ]
    }
   ],
   "source": [
    "# Run the setup script to ensure Redis and Agent Memory Server are running\n",
    "import subprocess\n",
    "import sys\n",
    "from pathlib import Path\n",
    "\n",
    "# Path to setup script\n",
    "setup_script = Path(\"../../reference-agent/setup_agent_memory_server.py\")\n",
    "\n",
    "if setup_script.exists():\n",
    "    print(\"Running automated setup check...\\n\")\n",
    "    result = subprocess.run(\n",
    "        [sys.executable, str(setup_script)],\n",
    "        capture_output=True,\n",
    "        text=True\n",
    "    )\n",
    "    print(result.stdout)\n",
    "    if result.returncode != 0:\n",
    "        print(\"⚠️  Setup check failed. Please review the output above.\")\n",
    "        print(result.stderr)\n",
    "    else:\n",
    "        print(\"\\n✅ All services are ready!\")\n",
    "else:\n",
    "    print(\"⚠️  Setup script not found. Please ensure services are running manually.\")\n"
   ]
  },
  {
   "cell_type": "markdown",
   "id": "d221bf3835cda63e",
   "metadata": {},
   "source": [
    "---\n"
   ]
  },
  {
   "cell_type": "markdown",
   "id": "18c01bfe255ff0d",
   "metadata": {
    "execution": {
     "iopub.execute_input": "2025-10-31T14:27:08.387999Z",
     "iopub.status.busy": "2025-10-31T14:27:08.387932Z",
     "iopub.status.idle": "2025-10-31T14:27:19.029786Z",
     "shell.execute_reply": "2025-10-31T14:27:19.029077Z"
    }
   },
   "source": [
    "### Install Dependencies\n",
    "\n",
    "If you haven't already installed the reference-agent package, uncomment and run the following:\n"
   ]
  },
  {
   "cell_type": "code",
   "execution_count": 2,
   "id": "3bb296c50e53337f",
   "metadata": {},
   "outputs": [],
   "source": [
    "# Uncomment to install reference-agent package\n",
    "# %pip install -q -e ../../reference-agent\n",
    "\n",
    "# Uncomment to install agent-memory-client\n",
    "# %pip install -q agent-memory-client\n"
   ]
  },
  {
   "cell_type": "markdown",
   "id": "5577d8576496593a",
   "metadata": {
    "execution": {
     "iopub.execute_input": "2025-10-31T14:27:19.031485Z",
     "iopub.status.busy": "2025-10-31T14:27:19.031347Z",
     "iopub.status.idle": "2025-10-31T14:27:19.324283Z",
     "shell.execute_reply": "2025-10-31T14:27:19.323806Z"
    }
   },
   "source": [
    "### Load Environment Variables\n",
    "\n",
    "We'll load environment variables from the `.env` file in the `reference-agent` directory.\n",
    "\n",
    "**Required variables:**\n",
    "- `OPENAI_API_KEY` - Your OpenAI API key\n",
    "- `REDIS_URL` - Redis connection URL (default: redis://localhost:6379)\n",
    "- `AGENT_MEMORY_URL` - Agent Memory Server URL (default: http://localhost:8088)\n",
    "\n",
    "If you haven't created the `.env` file yet, copy `.env.example` and add your OpenAI API key.\n"
   ]
  },
  {
   "cell_type": "code",
   "execution_count": 3,
   "id": "7f541ee37bd9e94b",
   "metadata": {},
   "outputs": [
    {
     "name": "stdout",
     "output_type": "stream",
     "text": [
      "✅ Environment variables loaded\n",
      "   REDIS_URL: redis://localhost:6379\n",
      "   AGENT_MEMORY_URL: http://localhost:8088\n"
     ]
    }
   ],
   "source": [
    "import os\n",
    "from pathlib import Path\n",
    "from dotenv import load_dotenv\n",
    "\n",
    "# Load environment variables from reference-agent directory\n",
    "env_path = Path(\"../../reference-agent/.env\")\n",
    "load_dotenv(dotenv_path=env_path)\n",
    "\n",
    "# Verify required environment variables\n",
    "OPENAI_API_KEY = os.getenv(\"OPENAI_API_KEY\")\n",
    "REDIS_URL = os.getenv(\"REDIS_URL\", \"redis://localhost:6379\")\n",
    "AGENT_MEMORY_URL = os.getenv(\"AGENT_MEMORY_URL\", \"http://localhost:8088\")\n",
    "\n",
    "if not OPENAI_API_KEY:\n",
    "    print(f\"\"\"❌ OPENAI_API_KEY not found!\n",
    "\n",
    "    Please create a .env file at: {env_path.absolute()}\n",
    "\n",
    "    With the following content:\n",
    "    OPENAI_API_KEY=your_openai_api_key\n",
    "    REDIS_URL=redis://localhost:6379\n",
    "    AGENT_MEMORY_URL=http://localhost:8088\n",
    "    \"\"\")\n",
    "else:\n",
    "    print(\"✅ Environment variables loaded\")\n",
    "    print(f\"   REDIS_URL: {REDIS_URL}\")\n",
    "    print(f\"   AGENT_MEMORY_URL: {AGENT_MEMORY_URL}\")\n"
   ]
  },
  {
   "cell_type": "markdown",
   "id": "ff97c53e10f44716",
   "metadata": {},
   "source": [
    "### Import Core Libraries\n",
    "\n",
    "We'll import standard Python libraries and async support for our memory operations.\n"
   ]
  },
  {
   "cell_type": "code",
   "execution_count": 4,
   "id": "1a4fabcf00d1fdda",
   "metadata": {},
   "outputs": [
    {
     "name": "stdout",
     "output_type": "stream",
     "text": [
      "✅ Core libraries imported\n"
     ]
    }
   ],
   "source": [
    "import sys\n",
    "import asyncio\n",
    "from typing import List, Dict, Any, Optional\n",
    "from datetime import datetime\n",
    "\n",
    "print(\"✅ Core libraries imported\")\n"
   ]
  },
  {
   "cell_type": "markdown",
   "id": "d8b6cc99aac5193e",
   "metadata": {},
   "source": [
    "### Import Section 2 Components\n",
    "\n",
    "We're building on Section 2's RAG foundation, so we'll reuse the same components:\n",
    "- `redis_config` - Redis connection and configuration\n",
    "- `CourseManager` - Course search and management\n",
    "- `StudentProfile` and other models - Data structures\n"
   ]
  },
  {
   "cell_type": "code",
   "execution_count": 5,
   "id": "87f84446a6969a31",
   "metadata": {},
   "outputs": [
    {
     "name": "stdout",
     "output_type": "stream",
     "text": [
      "✅ Section 2 components imported\n",
      "   CourseManager: Available\n",
      "   Redis Config: Available\n",
      "   Models: Course, StudentProfile, etc.\n"
     ]
    }
   ],
   "source": [
    "# Import Section 2 components from reference-agent\n",
    "from redis_context_course.redis_config import redis_config\n",
    "from redis_context_course.course_manager import CourseManager\n",
    "from redis_context_course.models import (\n",
    "    Course, StudentProfile, DifficultyLevel,\n",
    "    CourseFormat, Semester\n",
    ")\n",
    "\n",
    "print(\"✅ Section 2 components imported\")\n",
    "print(f\"   CourseManager: Available\")\n",
    "print(f\"   Redis Config: Available\")\n",
    "print(f\"   Models: Course, StudentProfile, etc.\")\n"
   ]
  },
  {
   "cell_type": "markdown",
   "id": "8c9c424c857e0b63",
   "metadata": {},
   "source": [
    "### Import LangChain Components\n",
    "\n",
    "We'll use LangChain for LLM interaction and message handling.\n"
   ]
  },
  {
   "cell_type": "code",
   "execution_count": 6,
   "id": "17f591bf327805dd",
   "metadata": {},
   "outputs": [
    {
     "name": "stdout",
     "output_type": "stream",
     "text": [
      "✅ LangChain components imported\n",
      "   ChatOpenAI: Available\n",
      "   Message types: HumanMessage, SystemMessage, AIMessage\n"
     ]
    }
   ],
   "source": [
    "from langchain_openai import ChatOpenAI\n",
    "from langchain_core.messages import HumanMessage, SystemMessage, AIMessage\n",
    "\n",
    "print(\"✅ LangChain components imported\")\n",
    "print(f\"   ChatOpenAI: Available\")\n",
    "print(f\"   Message types: HumanMessage, SystemMessage, AIMessage\")\n"
   ]
  },
  {
   "cell_type": "markdown",
   "id": "b8a129328fb75fc3",
   "metadata": {},
   "source": [
    "### Import Agent Memory Server Client\n",
    "\n",
    "The Agent Memory Server provides production-ready memory management. If it's not available, we'll note that and continue with limited functionality.\n"
   ]
  },
  {
   "cell_type": "code",
   "execution_count": 7,
   "id": "8e19c1f57084b6b1",
   "metadata": {},
   "outputs": [
    {
     "name": "stdout",
     "output_type": "stream",
     "text": [
      "✅ Agent Memory Server client available\n",
      "   MemoryAPIClient: Ready\n",
      "   Memory models: WorkingMemory, MemoryMessage, ClientMemoryRecord\n"
     ]
    }
   ],
   "source": [
    "# Import Agent Memory Server client\n",
    "try:\n",
    "    from agent_memory_client import MemoryAPIClient, MemoryClientConfig\n",
    "    from agent_memory_client.models import WorkingMemory, MemoryMessage, ClientMemoryRecord\n",
    "    MEMORY_SERVER_AVAILABLE = True\n",
    "    print(\"✅ Agent Memory Server client available\")\n",
    "    print(\"   MemoryAPIClient: Ready\")\n",
    "    print(\"   Memory models: WorkingMemory, MemoryMessage, ClientMemoryRecord\")\n",
    "except ImportError:\n",
    "    MEMORY_SERVER_AVAILABLE = False\n",
    "    print(\"⚠️  Agent Memory Server not available\")\n",
    "    print(\"   Install with: pip install agent-memory-client\")\n",
    "    print(\"   Start server: See reference-agent/README.md\")\n",
    "    print(\"   Note: Some demos will be skipped\")\n"
   ]
  },
  {
   "cell_type": "markdown",
   "id": "773c7b6a987f3977",
   "metadata": {},
   "source": [
    "### Environment Summary\n",
    "\n",
    "Let's verify everything is set up correctly.\n"
   ]
  },
  {
   "cell_type": "code",
   "execution_count": 8,
   "id": "193e3a1353afb7b0",
   "metadata": {},
   "outputs": [
    {
     "name": "stdout",
     "output_type": "stream",
     "text": [
      "================================================================================\n",
      "🔧 ENVIRONMENT SETUP SUMMARY\n",
      "================================================================================\n",
      "\n",
      "✅ Core Libraries: Imported\n",
      "✅ Section 2 Components: Imported\n",
      "✅ LangChain: Imported\n",
      "✅ Agent Memory Server: Available\n",
      "\n",
      "📋 Configuration:\n",
      "   OPENAI_API_KEY: ✓ Set\n",
      "   REDIS_URL: redis://localhost:6379\n",
      "   AGENT_MEMORY_URL: http://localhost:8088\n",
      "================================================================================\n"
     ]
    }
   ],
   "source": [
    "print(\"=\" * 80)\n",
    "print(\"🔧 ENVIRONMENT SETUP SUMMARY\")\n",
    "print(\"=\" * 80)\n",
    "print(f\"\\n✅ Core Libraries: Imported\")\n",
    "print(f\"✅ Section 2 Components: Imported\")\n",
    "print(f\"✅ LangChain: Imported\")\n",
    "print(f\"{'✅' if MEMORY_SERVER_AVAILABLE else '⚠️ '} Agent Memory Server: {'Available' if MEMORY_SERVER_AVAILABLE else 'Not Available'}\")\n",
    "print(f\"\\n📋 Configuration:\")\n",
    "print(f\"   OPENAI_API_KEY: {'✓ Set' if OPENAI_API_KEY else '✗ Not set'}\")\n",
    "print(f\"   REDIS_URL: {REDIS_URL}\")\n",
    "print(f\"   AGENT_MEMORY_URL: {AGENT_MEMORY_URL}\")\n",
    "print(\"=\" * 80)\n"
   ]
  },
  {
   "cell_type": "markdown",
   "id": "83febaebad1682ec",
   "metadata": {},
   "source": [
    "---\n",
    "\n",
    "## 🔧 Initialize Components\n",
    "\n",
    "Now let's initialize the components we'll use throughout this notebook.\n"
   ]
  },
  {
   "cell_type": "markdown",
   "id": "3fbbea50ae1ff08b",
   "metadata": {},
   "source": [
    "### Initialize Course Manager\n",
    "\n",
    "The `CourseManager` handles course search and retrieval, just like in Section 2.\n"
   ]
  },
  {
   "cell_type": "code",
   "execution_count": 9,
   "id": "236f04d3923aa764",
   "metadata": {},
   "outputs": [
    {
     "name": "stdout",
     "output_type": "stream",
     "text": [
      "13:48:04 redisvl.index.index INFO   Index already exists, not overwriting.\n",
      "✅ Course Manager initialized\n",
      "   Ready to search and retrieve courses\n"
     ]
    }
   ],
   "source": [
    "# Initialize Course Manager\n",
    "course_manager = CourseManager()\n",
    "\n",
    "print(\"✅ Course Manager initialized\")\n",
    "print(\"   Ready to search and retrieve courses\")\n"
   ]
  },
  {
   "cell_type": "markdown",
   "id": "61c5f50d1886133e",
   "metadata": {},
   "source": [
    "### Initialize LLM\n",
    "\n",
    "We'll use GPT-4o with temperature=0.0 for consistent, deterministic responses.\n"
   ]
  },
  {
   "cell_type": "code",
   "execution_count": 10,
   "id": "bad8a7d2061efec7",
   "metadata": {},
   "outputs": [
    {
     "name": "stdout",
     "output_type": "stream",
     "text": [
      "✅ LLM initialized\n",
      "   Model: gpt-4o\n",
      "   Temperature: 0.0 (deterministic)\n"
     ]
    }
   ],
   "source": [
    "# Initialize LLM\n",
    "llm = ChatOpenAI(model=\"gpt-4o\", temperature=0.0)\n",
    "\n",
    "print(\"✅ LLM initialized\")\n",
    "print(\"   Model: gpt-4o\")\n",
    "print(\"   Temperature: 0.0 (deterministic)\")\n"
   ]
  },
  {
   "cell_type": "markdown",
   "id": "2e60063cef6b46a8",
   "metadata": {},
   "source": [
    "### Initialize Memory Client\n",
    "\n",
    "If the Agent Memory Server is available, we'll initialize the memory client. This client handles both working memory (conversation history) and long-term memory (persistent facts).\n"
   ]
  },
  {
   "cell_type": "code",
   "execution_count": 11,
   "id": "514603f5fdcf043a",
   "metadata": {},
   "outputs": [
    {
     "name": "stdout",
     "output_type": "stream",
     "text": [
      "✅ Memory Client initialized\n",
      "   Base URL: http://localhost:8088\n",
      "   Namespace: redis_university\n",
      "   Ready for working memory and long-term memory operations\n"
     ]
    }
   ],
   "source": [
    "# Initialize Memory Client\n",
    "if MEMORY_SERVER_AVAILABLE:\n",
    "    config = MemoryClientConfig(\n",
    "        base_url=AGENT_MEMORY_URL,\n",
    "        default_namespace=\"redis_university\"\n",
    "    )\n",
    "    memory_client = MemoryAPIClient(config=config)\n",
    "    print(\"✅ Memory Client initialized\")\n",
    "    print(f\"   Base URL: {config.base_url}\")\n",
    "    print(f\"   Namespace: {config.default_namespace}\")\n",
    "    print(\"   Ready for working memory and long-term memory operations\")\n",
    "else:\n",
    "    memory_client = None\n",
    "    print(\"⚠️  Memory Server not available\")\n",
    "    print(\"   Running with limited functionality\")\n",
    "    print(\"   Some demos will be skipped\")\n"
   ]
  },
  {
   "cell_type": "markdown",
   "id": "8bec158470f51831",
   "metadata": {},
   "source": [
    "### Create Sample Student Profile\n",
    "\n",
    "We'll create a sample student profile to use throughout our demos. This follows the same pattern from Section 2.\n"
   ]
  },
  {
   "cell_type": "code",
   "execution_count": 12,
   "id": "907614be8182a320",
   "metadata": {},
   "outputs": [
    {
     "name": "stdout",
     "output_type": "stream",
     "text": [
      "✅ Student profile created\n",
      "   Name: Sarah Chen\n",
      "   Major: Computer Science\n",
      "   Year: 2\n",
      "   Interests: machine learning, data science, algorithms\n",
      "   Completed: Introduction to Programming, Data Structures\n",
      "   Preferred Format: online\n"
     ]
    }
   ],
   "source": [
    "# Create sample student profile\n",
    "sarah = StudentProfile(\n",
    "    name=\"Sarah Chen\",\n",
    "    email=\"sarah.chen@university.edu\",\n",
    "    major=\"Computer Science\",\n",
    "    year=2,\n",
    "    interests=[\"machine learning\", \"data science\", \"algorithms\"],\n",
    "    completed_courses=[\"Introduction to Programming\", \"Data Structures\"],\n",
    "    current_courses=[\"Linear Algebra\"],\n",
    "    preferred_format=CourseFormat.ONLINE,\n",
    "    preferred_difficulty=DifficultyLevel.INTERMEDIATE\n",
    ")\n",
    "\n",
    "print(\"✅ Student profile created\")\n",
    "print(f\"   Name: {sarah.name}\")\n",
    "print(f\"   Major: {sarah.major}\")\n",
    "print(f\"   Year: {sarah.year}\")\n",
    "print(f\"   Interests: {', '.join(sarah.interests)}\")\n",
    "print(f\"   Completed: {', '.join(sarah.completed_courses)}\")\n",
    "print(f\"   Preferred Format: {sarah.preferred_format.value}\")\n"
   ]
  },
  {
   "cell_type": "markdown",
   "id": "9603e9dd9cf82e45",
   "metadata": {},
   "source": [
    "### 💡 Key Insight\n",
    "\n",
    "We're reusing:\n",
    "- ✅ **Same `CourseManager`** from Section 2\n",
    "- ✅ **Same `StudentProfile`** model\n",
    "- ✅ **Same Redis configuration**\n",
    "\n",
    "We're adding:\n",
    "- ✨ **Memory Client** for conversation history\n",
    "- ✨ **Working Memory** for session context\n",
    "- ✨ **Long-term Memory** for persistent knowledge\n",
    "\n",
    "---\n",
    "\n",
    "## 📚 Part 1: Memory-Enhanced RAG\n",
    "\n",
    "### **Goal:** Build a simple, inline memory-enhanced RAG system that demonstrates the benefits of memory.\n",
    "\n",
    "### **Approach:**\n",
    "- Start with Section 2's stateless RAG\n",
    "- Add working memory for conversation continuity\n",
    "- Add long-term memory for personalization\n",
    "- Show clear before/after comparisons\n",
    "\n",
    "---\n",
    "\n",
    "## 🚫 Before: Stateless RAG (Section 2 Approach)\n",
    "\n",
    "Let's first recall how Section 2's stateless RAG worked, and see its limitations.\n"
   ]
  },
  {
   "cell_type": "markdown",
   "id": "abd9aaee3e7f7805",
   "metadata": {},
   "source": [
    "### Query 1: Initial query (works fine)\n"
   ]
  },
  {
   "cell_type": "code",
   "execution_count": 13,
   "id": "336f4f8e806ff089",
   "metadata": {},
   "outputs": [
    {
     "name": "stdout",
     "output_type": "stream",
     "text": [
      "================================================================================\n",
      "🚫 STATELESS RAG DEMO\n",
      "================================================================================\n",
      "\n",
      "👤 User: I'm interested in machine learning courses\n",
      "\n",
      "\n",
      "13:48:08 httpx INFO   HTTP Request: POST https://api.openai.com/v1/embeddings \"HTTP/1.1 200 OK\"\n",
      "13:48:10 httpx INFO   HTTP Request: POST https://api.openai.com/v1/chat/completions \"HTTP/1.1 200 OK\"\n",
      "\n",
      "🤖 Agent: Based on your interest in machine learning and your background in computer science, I recommend the \"Machine Learning\" course. This course will introduce you to machine learning algorithms and applications, including supervised and unsupervised learning and neural networks. Please note that this course is advanced, so it would be beneficial to ensure you're comfortable with the foundational concepts before enrolling. Additionally, the \"Linear Algebra\" course is highly recommended as it provides essential mathematical foundations that are crucial for understanding many machine learning algorithms.\n"
     ]
    }
   ],
   "source": [
    "print(\"=\" * 80)\n",
    "print(\"🚫 STATELESS RAG DEMO\")\n",
    "print(\"=\" * 80)\n",
    "\n",
    "stateless_query_1 = \"I'm interested in machine learning courses\"\n",
    "print(f\"\\n👤 User: {stateless_query_1}\\n\\n\")\n",
    "\n",
    "# Search courses\n",
    "stateless_courses_1 = await course_manager.search_courses(stateless_query_1, limit=3)\n",
    "\n",
    "# Assemble context (System + User + Retrieved only - NO conversation history)\n",
    "stateless_system_prompt = \"\"\"You are a Redis University course advisor.\n",
    "\n",
    "CRITICAL RULES:\n",
    "- ONLY discuss and recommend courses from the \"Relevant Courses\" list provided below\n",
    "- Do NOT mention, suggest, or make up any courses that are not in the provided list\n",
    "- If the available courses don't perfectly match the request, recommend the best options from what IS available\"\"\"\n",
    "\n",
    "stateless_user_context = f\"\"\"Student: {sarah.name}\n",
    "Major: {sarah.major}\n",
    "Interests: {', '.join(sarah.interests)}\n",
    "Completed: {', '.join(sarah.completed_courses)}\n",
    "\"\"\"\n",
    "\n",
    "stateless_retrieved_context = \"Relevant Courses:\\n\"\n",
    "for i, course in enumerate(stateless_courses_1, 1):\n",
    "    stateless_retrieved_context += f\"\\n{i}. {course.title}\"\n",
    "    stateless_retrieved_context += f\"\\n   Description: {course.description}\"\n",
    "    stateless_retrieved_context += f\"\\n   Difficulty: {course.difficulty_level.value}\"\n",
    "\n",
    "# Generate response\n",
    "stateless_messages_1 = [\n",
    "    SystemMessage(content=stateless_system_prompt),\n",
    "    HumanMessage(content=f\"{stateless_user_context}\\n\\n{stateless_retrieved_context}\\n\\nQuery: {stateless_query_1}\")\n",
    "]\n",
    "\n",
    "stateless_response_1 = llm.invoke(stateless_messages_1).content\n",
    "print(f\"\\n🤖 Agent: {stateless_response_1}\")\n",
    "\n",
    "# ❌ No conversation history stored\n",
    "# ❌ Next query won't remember this interaction\n"
   ]
  },
  {
   "cell_type": "markdown",
   "id": "b0e5f16248ede0b2",
   "metadata": {},
   "source": [
    "### Query 2: Follow-up with pronoun reference (fails)\n",
    "\n",
    "Now let's try a follow-up that requires conversation history.\n"
   ]
  },
  {
   "cell_type": "code",
   "execution_count": 14,
   "id": "be6391be25ebb1b9",
   "metadata": {},
   "outputs": [
    {
     "name": "stdout",
     "output_type": "stream",
     "text": [
      "👤 User: What are the prerequisites for the first one?\n",
      "   Note: 'the first one' refers to the first course from Query 1\n",
      "\n",
      "\n",
      "13:48:11 httpx INFO   HTTP Request: POST https://api.openai.com/v1/embeddings \"HTTP/1.1 200 OK\"\n",
      "13:48:14 httpx INFO   HTTP Request: POST https://api.openai.com/v1/chat/completions \"HTTP/1.1 200 OK\"\n",
      "\n",
      "🤖 Agent: The course list provided only includes \"Calculus I\" courses, and they all have the same description and difficulty level. Typically, prerequisites for a Calculus I course might include a solid understanding of pre-calculus topics such as algebra and trigonometry. However, since the list doesn't specify prerequisites, I recommend checking with your academic advisor or the course catalog for specific details related to the first \"Calculus I\" course. If you're interested in machine learning, data science, or algorithms, a strong foundation in calculus can be very beneficial.\n",
      "\n",
      "❌ Agent can't resolve 'the first one' - no conversation history!\n"
     ]
    }
   ],
   "source": [
    "stateless_query_2 = \"What are the prerequisites for the first one?\"\n",
    "print(f\"👤 User: {stateless_query_2}\")\n",
    "print(f\"   Note: 'the first one' refers to the first course from Query 1\\n\\n\")\n",
    "\n",
    "# Search courses (will search for \"prerequisites first one\" - not helpful)\n",
    "stateless_courses_2 = await course_manager.search_courses(stateless_query_2, limit=3)\n",
    "\n",
    "# Assemble context (NO conversation history from Query 1)\n",
    "stateless_retrieved_context_2 = \"Relevant Courses:\\n\"\n",
    "for i, course in enumerate(stateless_courses_2, 1):\n",
    "    stateless_retrieved_context_2 += f\"\\n{i}. {course.title}\"\n",
    "    stateless_retrieved_context_2 += f\"\\n   Description: {course.description}\"\n",
    "    stateless_retrieved_context_2 += f\"\\n   Difficulty: {course.difficulty_level.value}\"\n",
    "\n",
    "# Generate response\n",
    "stateless_messages_2 = [\n",
    "    SystemMessage(content=stateless_system_prompt),\n",
    "    HumanMessage(content=f\"{stateless_user_context}\\n\\n{stateless_retrieved_context_2}\\n\\nQuery: {stateless_query_2}\")\n",
    "]\n",
    "\n",
    "stateless_response_2 = llm.invoke(stateless_messages_2).content\n",
    "print(f\"\\n🤖 Agent: {stateless_response_2}\")\n",
    "print(\"\\n❌ Agent can't resolve 'the first one' - no conversation history!\")\n"
   ]
  },
  {
   "cell_type": "markdown",
   "id": "7495edbb86ca8989",
   "metadata": {},
   "source": [
    "\n",
    "\n",
    "### 🎯 What Just Happened?\n",
    "\n",
    "**Query 1:** \"I'm interested in machine learning courses\"\n",
    "- ✅ Works fine - searches and returns ML courses\n",
    "\n",
    "**Query 2:** \"What are the prerequisites for **the first one**?\"\n",
    "- ❌ **Fails** - Agent doesn't know what \"the first one\" refers to\n",
    "- ❌ No conversation history stored\n",
    "- ❌ Each query is completely independent\n",
    "\n",
    "**The Problem:** Natural conversation requires context from previous turns.\n",
    "\n",
    "---\n",
    "\n",
    "## ✅ After: Memory-Enhanced RAG\n",
    "\n",
    "Now let's add memory to enable natural conversations.\n",
    "\n",
    "### **Step 1: Load Working Memory**\n",
    "\n",
    "Working memory stores conversation history for the current session.\n"
   ]
  },
  {
   "cell_type": "code",
   "execution_count": 15,
   "id": "2306e6cdcf19fcdb",
   "metadata": {},
   "outputs": [
    {
     "name": "stdout",
     "output_type": "stream",
     "text": [
      "13:48:14 httpx INFO   HTTP Request: GET http://localhost:8088/v1/working-memory/demo_session_001?user_id=sarah.chen&namespace=redis_university&model_name=gpt-4o \"HTTP/1.1 200 OK\"\n",
      "✅ Loaded working memory for session: demo_session_001\n",
      "   Messages: 10\n"
     ]
    }
   ],
   "source": [
    "# Set up session and student identifiers\n",
    "session_id = \"demo_session_001\"\n",
    "student_id = sarah.email.split('@')[0]\n",
    "\n",
    "# Load working memory\n",
    "if MEMORY_SERVER_AVAILABLE:\n",
    "    _, working_memory = await memory_client.get_or_create_working_memory(\n",
    "        session_id=session_id,\n",
    "        user_id=student_id,\n",
    "        model_name=\"gpt-4o\"\n",
    "    )\n",
    "\n",
    "    print(f\"✅ Loaded working memory for session: {session_id}\")\n",
    "    print(f\"   Messages: {len(working_memory.messages)}\")\n",
    "else:\n",
    "    print(\"⚠️  Memory Server not available\")\n"
   ]
  },
  {
   "cell_type": "markdown",
   "id": "eeaeb0a04fb2b00b",
   "metadata": {},
   "source": [
    "### 🎯 What We Just Did\n",
    "\n",
    "**Loaded Working Memory:**\n",
    "- Created or retrieved conversation history for this session\n",
    "- Session ID: `demo_session_001` (unique per conversation)\n",
    "- User ID: `sarah_chen` (from student email)\n",
    "\n",
    "**Why This Matters:**\n",
    "- Working memory persists across turns in the same session\n",
    "- Enables reference resolution (\"it\", \"that course\", \"the first one\")\n",
    "- Conversation context is maintained\n",
    "\n",
    "---\n",
    "\n",
    "### **Step 2: Search Long-term Memory**\n",
    "\n",
    "Long-term memory stores persistent facts and preferences across sessions.\n"
   ]
  },
  {
   "cell_type": "code",
   "execution_count": 16,
   "id": "a07e0aefe7250bf9",
   "metadata": {},
   "outputs": [
    {
     "name": "stdout",
     "output_type": "stream",
     "text": [
      "13:48:24 httpx INFO   HTTP Request: POST http://localhost:8088/v1/long-term-memory/search?optimize_query=false \"HTTP/1.1 200 OK\"\n",
      "🔍 Query: 'What does the student prefer?'\n",
      "📚 Found 5 relevant memories:\n",
      "   1. User prefers online and intermediate-level courses\n",
      "   2. User prefers online and intermediate-level courses.\n",
      "   3. User prefers intermediate-level courses.\n",
      "   4. User prefers intermediate-level courses.\n",
      "   5. User frequently inquires about the 'Data Structures and Algorithms' course (CS009), indicating a strong interest or involvement with the course content.\n"
     ]
    }
   ],
   "source": [
    "# Search long-term memory\n",
    "longterm_query = \"What does the student prefer?\"\n",
    "\n",
    "if MEMORY_SERVER_AVAILABLE:\n",
    "    from agent_memory_client.filters import UserId\n",
    "\n",
    "    longterm_results = await memory_client.search_long_term_memory(\n",
    "        text=longterm_query,\n",
    "        user_id=UserId(eq=student_id),\n",
    "        limit=5\n",
    "    )\n",
    "\n",
    "    longterm_memories = [m.text for m in longterm_results.memories] if longterm_results.memories else []\n",
    "\n",
    "    print(f\"🔍 Query: '{longterm_query}'\")\n",
    "    print(f\"📚 Found {len(longterm_memories)} relevant memories:\")\n",
    "    for i, memory in enumerate(longterm_memories, 1):\n",
    "        print(f\"   {i}. {memory}\")\n",
    "else:\n",
    "    longterm_memories = []\n",
    "    print(\"⚠️  Memory Server not available\")\n"
   ]
  },
  {
   "cell_type": "markdown",
   "id": "9fb3cb7ac45a690b",
   "metadata": {},
   "source": [
    "### 🎯 What We Just Did\n",
    "\n",
    "**Searched Long-term Memory:**\n",
    "- Used semantic search to find relevant facts\n",
    "- Query: \"What does the student prefer?\"\n",
    "- Results: Memories about preferences, goals, academic info\n",
    "\n",
    "**Why This Matters:**\n",
    "- Long-term memory enables personalization\n",
    "- Facts persist across sessions (days, weeks, months)\n",
    "- Semantic search finds relevant memories without exact keyword matching\n",
    "\n",
    "---\n",
    "\n",
    "### **Step 3: Assemble All Four Context Types**\n",
    "\n",
    "Now let's combine everything: System + User + Conversation + Retrieved.\n"
   ]
  },
  {
   "cell_type": "markdown",
   "id": "e5dd1140f19fa2e",
   "metadata": {},
   "source": [
    "#### 3.1: System Context (static)\n"
   ]
  },
  {
   "cell_type": "code",
   "execution_count": 17,
   "id": "5a97ccafff01934d",
   "metadata": {},
   "outputs": [
    {
     "name": "stdout",
     "output_type": "stream",
     "text": [
      "✅ System Context created\n",
      "   Length: 927 chars\n"
     ]
    }
   ],
   "source": [
    "# 1. System Context (static)\n",
    "context_system_prompt = \"\"\"You are a Redis University course advisor.\n",
    "\n",
    "Your role:\n",
    "- Help students find and enroll in courses from our catalog\n",
    "- Provide personalized recommendations based on available courses\n",
    "- Answer questions about courses, prerequisites, schedules\n",
    "\n",
    "CRITICAL RULES - READ CAREFULLY:\n",
    "- You can ONLY recommend courses that appear in the \"Relevant Courses\" list below\n",
    "- Do NOT suggest courses that are not in the \"Relevant Courses\" list\n",
    "- Do NOT say things like \"you might want to consider X course\" if X is not in the list\n",
    "- Do NOT mention courses from other platforms or external resources\n",
    "- If the available courses don't perfectly match the request, recommend the best options from what IS in the list\n",
    "- Use conversation history to resolve references (\"it\", \"that course\", \"the first one\")\n",
    "- Use long-term memories to personalize your recommendations\n",
    "- Be helpful, supportive, and encouraging while staying within the available courses\"\"\"\n",
    "\n",
    "print(\"✅ System Context created\")\n",
    "print(f\"   Length: {len(context_system_prompt)} chars\")\n"
   ]
  },
  {
   "cell_type": "markdown",
   "id": "53c82066a191acc9",
   "metadata": {},
   "source": [
    "#### 3.2: User Context (profile + long-term memories)\n"
   ]
  },
  {
   "cell_type": "code",
   "execution_count": 18,
   "id": "f526b51861566d13",
   "metadata": {},
   "outputs": [
    {
     "name": "stdout",
     "output_type": "stream",
     "text": [
      "13:48:28 httpx INFO   HTTP Request: POST http://localhost:8088/v1/long-term-memory/search?optimize_query=false \"HTTP/1.1 200 OK\"\n",
      "✅ User Context created\n",
      "   Length: 548 chars\n"
     ]
    }
   ],
   "source": [
    "# 2. User Context (profile + long-term memories)\n",
    "context_user_context = f\"\"\"Student Profile:\n",
    "- Name: {sarah.name}\n",
    "- Major: {sarah.major}\n",
    "- Year: {sarah.year}\n",
    "- Interests: {', '.join(sarah.interests)}\n",
    "- Completed: {', '.join(sarah.completed_courses)}\n",
    "- Current: {', '.join(sarah.current_courses)}\n",
    "- Preferred Format: {sarah.preferred_format.value}\n",
    "- Preferred Difficulty: {sarah.preferred_difficulty.value}\"\"\"\n",
    "\n",
    "# Search long-term memory for this query\n",
    "context_query = \"machine learning courses\"\n",
    "\n",
    "if MEMORY_SERVER_AVAILABLE:\n",
    "    from agent_memory_client.filters import UserId\n",
    "\n",
    "    context_longterm_results = await memory_client.search_long_term_memory(\n",
    "        text=context_query,\n",
    "        user_id=UserId(eq=student_id),\n",
    "        limit=5\n",
    "    )\n",
    "    context_longterm_memories = [m.text for m in context_longterm_results.memories] if context_longterm_results.memories else []\n",
    "\n",
    "    if context_longterm_memories:\n",
    "        context_user_context += f\"\\n\\nLong-term Memories:\\n\" + \"\\n\".join([f\"- {m}\" for m in context_longterm_memories])\n",
    "\n",
    "print(\"✅ User Context created\")\n",
    "print(f\"   Length: {len(context_user_context)} chars\")\n"
   ]
  },
  {
   "cell_type": "markdown",
   "id": "d7d4b7343d483871",
   "metadata": {},
   "source": [
    "#### 3.3: Conversation Context (working memory)\n"
   ]
  },
  {
   "cell_type": "code",
   "execution_count": 19,
   "id": "c74eae47e96155df",
   "metadata": {},
   "outputs": [
    {
     "name": "stdout",
     "output_type": "stream",
     "text": [
      "13:48:28 httpx INFO   HTTP Request: GET http://localhost:8088/v1/working-memory/demo_session_001?user_id=sarah.chen&namespace=redis_university&model_name=gpt-4o \"HTTP/1.1 200 OK\"\n",
      "✅ Conversation Context loaded\n",
      "   Messages: 10\n"
     ]
    }
   ],
   "source": [
    "# 3. Conversation Context (working memory)\n",
    "if MEMORY_SERVER_AVAILABLE:\n",
    "    _, context_working_memory = await memory_client.get_or_create_working_memory(\n",
    "        session_id=session_id,\n",
    "        user_id=student_id,\n",
    "        model_name=\"gpt-4o\"\n",
    "    )\n",
    "\n",
    "    context_conversation_messages = []\n",
    "    for msg in context_working_memory.messages:\n",
    "        if msg.role == \"user\":\n",
    "            context_conversation_messages.append(HumanMessage(content=msg.content))\n",
    "        elif msg.role == \"assistant\":\n",
    "            context_conversation_messages.append(AIMessage(content=msg.content))\n",
    "\n",
    "    print(\"✅ Conversation Context loaded\")\n",
    "    print(f\"   Messages: {len(context_conversation_messages)}\")\n",
    "else:\n",
    "    context_conversation_messages = []\n"
   ]
  },
  {
   "cell_type": "markdown",
   "id": "ef065750cd38f76b",
   "metadata": {},
   "source": [
    "#### 3.4: Retrieved Context (RAG)\n"
   ]
  },
  {
   "cell_type": "code",
   "execution_count": 20,
   "id": "cdd97d65955272e7",
   "metadata": {},
   "outputs": [
    {
     "name": "stdout",
     "output_type": "stream",
     "text": [
      "13:48:30 httpx INFO   HTTP Request: POST https://api.openai.com/v1/embeddings \"HTTP/1.1 200 OK\"\n",
      "✅ Retrieved Context created\n",
      "   Length: 662 chars\n"
     ]
    }
   ],
   "source": [
    "# 4. Retrieved Context (RAG)\n",
    "context_courses = await course_manager.search_courses(context_query, limit=3)\n",
    "\n",
    "context_retrieved_context = \"Relevant Courses:\\n\"\n",
    "for i, course in enumerate(context_courses, 1):\n",
    "    context_retrieved_context += f\"\\n{i}. {course.title}\"\n",
    "    context_retrieved_context += f\"\\n   Description: {course.description}\"\n",
    "    context_retrieved_context += f\"\\n   Difficulty: {course.difficulty_level.value}\"\n",
    "    context_retrieved_context += f\"\\n   Format: {course.format.value}\"\n",
    "    if course.prerequisites:\n",
    "        prereq_names = [p.course_title for p in course.prerequisites]\n",
    "        context_retrieved_context += f\"\\n   Prerequisites: {', '.join(prereq_names)}\"\n",
    "\n",
    "print(\"✅ Retrieved Context created\")\n",
    "print(f\"   Length: {len(context_retrieved_context)} chars\")\n"
   ]
  },
  {
   "cell_type": "markdown",
   "id": "3b0cc30ca49faa54",
   "metadata": {},
   "source": [
    "#### Summary: All Four Context Types\n"
   ]
  },
  {
   "cell_type": "code",
   "execution_count": 21,
   "id": "1cbf570051f9b121",
   "metadata": {},
   "outputs": [
    {
     "name": "stdout",
     "output_type": "stream",
     "text": [
      "================================================================================\n",
      "📊 ASSEMBLED CONTEXT\n",
      "================================================================================\n",
      "\n",
      "1️⃣ System Context: 927 chars\n",
      "2️⃣ User Context: 548 chars\n",
      "3️⃣ Conversation Context: 10 messages\n",
      "4️⃣ Retrieved Context: 662 chars\n"
     ]
    }
   ],
   "source": [
    "print(\"=\" * 80)\n",
    "print(\"📊 ASSEMBLED CONTEXT\")\n",
    "print(\"=\" * 80)\n",
    "print(f\"\\n1️⃣ System Context: {len(context_system_prompt)} chars\")\n",
    "print(f\"2️⃣ User Context: {len(context_user_context)} chars\")\n",
    "print(f\"3️⃣ Conversation Context: {len(context_conversation_messages)} messages\")\n",
    "print(f\"4️⃣ Retrieved Context: {len(context_retrieved_context)} chars\")\n"
   ]
  },
  {
   "cell_type": "markdown",
   "id": "26df0d7a4b1c6c60",
   "metadata": {},
   "source": [
    "### 🎯 What We Just Did\n",
    "\n",
    "**Assembled All Four Context Types:**\n",
    "\n",
    "1. **System Context** - Role, instructions, guidelines (static)\n",
    "2. **User Context** - Profile + long-term memories (dynamic, user-specific)\n",
    "3. **Conversation Context** - Working memory messages (dynamic, session-specific)\n",
    "4. **Retrieved Context** - RAG search results (dynamic, query-specific)\n",
    "\n",
    "**Why This Matters:**\n",
    "- All four context types from Section 1 are now working together\n",
    "- System knows WHO the user is (User Context)\n",
    "- System knows WHAT was discussed (Conversation Context)\n",
    "- System knows WHAT's relevant (Retrieved Context)\n",
    "- System knows HOW to behave (System Context)\n",
    "\n",
    "---\n",
    "\n",
    "### **Step 4: Generate Response and Save Memory**\n",
    "\n",
    "Now let's put it all together: generate a response and save the conversation.\n"
   ]
  },
  {
   "cell_type": "markdown",
   "id": "b262b0b1942da424",
   "metadata": {},
   "source": [
    "#### 4.1: Set up the query\n"
   ]
  },
  {
   "cell_type": "code",
   "execution_count": 22,
   "id": "24e7abcead19bcc0",
   "metadata": {},
   "outputs": [
    {
     "name": "stdout",
     "output_type": "stream",
     "text": [
      "👤 User: I'm interested in machine learning courses\n"
     ]
    }
   ],
   "source": [
    "test_query = \"I'm interested in machine learning courses\"\n",
    "print(f\"👤 User: {test_query}\")\n"
   ]
  },
  {
   "cell_type": "markdown",
   "id": "1125bd64e3023243",
   "metadata": {},
   "source": [
    "#### 4.2: Assemble all context types\n",
    "\n",
    "We'll reuse the context assembly logic from Step 3.\n"
   ]
  },
  {
   "cell_type": "code",
   "execution_count": 23,
   "id": "997ec6e54c450371",
   "metadata": {},
   "outputs": [
    {
     "name": "stdout",
     "output_type": "stream",
     "text": [
      "13:48:35 httpx INFO   HTTP Request: GET http://localhost:8088/v1/working-memory/demo_session_001?user_id=sarah.chen&namespace=redis_university&model_name=gpt-4o \"HTTP/1.1 200 OK\"\n",
      "13:48:35 httpx INFO   HTTP Request: POST https://api.openai.com/v1/embeddings \"HTTP/1.1 200 OK\"\n",
      "✅ Context assembled\n"
     ]
    }
   ],
   "source": [
    "if MEMORY_SERVER_AVAILABLE:\n",
    "    # Load working memory\n",
    "    _, test_working_memory = await memory_client.get_or_create_working_memory(\n",
    "        session_id=session_id,\n",
    "        user_id=student_id,\n",
    "        model_name=\"gpt-4o\"\n",
    "    )\n",
    "\n",
    "    # Build conversation messages\n",
    "    test_conversation_messages = []\n",
    "    for msg in test_working_memory.messages:\n",
    "        if msg.role == \"user\":\n",
    "            test_conversation_messages.append(HumanMessage(content=msg.content))\n",
    "        elif msg.role == \"assistant\":\n",
    "            test_conversation_messages.append(AIMessage(content=msg.content))\n",
    "\n",
    "    # Search for courses\n",
    "    test_courses = await course_manager.search_courses(test_query, limit=3)\n",
    "\n",
    "    # Build retrieved context\n",
    "    test_retrieved_context = \"Relevant Courses:\\n\"\n",
    "    for i, course in enumerate(test_courses, 1):\n",
    "        test_retrieved_context += f\"\\n{i}. {course.title}\"\n",
    "        test_retrieved_context += f\"\\n   Description: {course.description}\"\n",
    "        test_retrieved_context += f\"\\n   Difficulty: {course.difficulty_level.value}\"\n",
    "        if course.prerequisites:\n",
    "            prereq_names = [p.course_title for p in course.prerequisites]\n",
    "            test_retrieved_context += f\"\\n   Prerequisites: {', '.join(prereq_names)}\"\n",
    "\n",
    "    print(\"✅ Context assembled\")\n"
   ]
  },
  {
   "cell_type": "markdown",
   "id": "9d2eed52c74ef1a3",
   "metadata": {},
   "source": [
    "#### 4.3: Build messages and generate response\n"
   ]
  },
  {
   "cell_type": "code",
   "execution_count": 24,
   "id": "41033fb0b272936a",
   "metadata": {},
   "outputs": [
    {
     "name": "stdout",
     "output_type": "stream",
     "text": [
      "13:48:39 httpx INFO   HTTP Request: POST https://api.openai.com/v1/chat/completions \"HTTP/1.1 200 OK\"\n",
      "\n",
      "🤖 Agent: Hi Sarah! It's wonderful to see your continued interest in machine learning. Given your background in computer science and your current coursework in Linear Algebra, you're on a great path to delve deeper into this field.\n",
      "\n",
      "While the Machine Learning course we offer is advanced, I understand you're looking for intermediate-level courses. Since you're currently taking Linear Algebra, which is a crucial component for understanding machine learning, you're building a strong foundation.\n",
      "\n",
      "Although we don't have an intermediate machine learning course listed, I recommend focusing on strengthening your understanding of data science and algorithms, which are integral to machine learning. You might want to explore online resources or platforms that offer intermediate courses in these areas.\n",
      "\n",
      "Once you feel ready, the advanced Machine Learning course we offer will be a great fit, covering algorithms, applications, and neural networks.\n",
      "\n",
      "If you have any questions or need further guidance, feel free to reach out. I'm here to support you on your learning journey!\n"
     ]
    }
   ],
   "source": [
    "if MEMORY_SERVER_AVAILABLE:\n",
    "    # Build complete message list\n",
    "    test_messages = [SystemMessage(content=context_system_prompt)]\n",
    "    test_messages.extend(test_conversation_messages)  # Add conversation history\n",
    "    test_messages.append(HumanMessage(content=f\"{context_user_context}\\n\\n{test_retrieved_context}\\n\\nQuery: {test_query}\"))\n",
    "\n",
    "    # Generate response using LLM\n",
    "    test_response = llm.invoke(test_messages).content\n",
    "\n",
    "    print(f\"\\n🤖 Agent: {test_response}\")\n"
   ]
  },
  {
   "cell_type": "markdown",
   "id": "120b591cf34b3351",
   "metadata": {},
   "source": [
    "#### 4.4: Save to working memory\n"
   ]
  },
  {
   "cell_type": "code",
   "execution_count": 25,
   "id": "8a7782164d5e152",
   "metadata": {},
   "outputs": [
    {
     "name": "stdout",
     "output_type": "stream",
     "text": [
      "13:48:39 httpx INFO   HTTP Request: PUT http://localhost:8088/v1/working-memory/demo_session_001?user_id=sarah.chen&model_name=gpt-4o \"HTTP/1.1 200 OK\"\n",
      "\n",
      "✅ Conversation saved to working memory\n",
      "   Total messages: 12\n"
     ]
    }
   ],
   "source": [
    "if MEMORY_SERVER_AVAILABLE:\n",
    "    # Add messages to working memory\n",
    "    test_working_memory.messages.extend([\n",
    "        MemoryMessage(role=\"user\", content=test_query),\n",
    "        MemoryMessage(role=\"assistant\", content=test_response)\n",
    "    ])\n",
    "\n",
    "    # Save to Memory Server\n",
    "    await memory_client.put_working_memory(\n",
    "        session_id=session_id,\n",
    "        memory=test_working_memory,\n",
    "        user_id=student_id,\n",
    "        model_name=\"gpt-4o\"\n",
    "    )\n",
    "\n",
    "    print(f\"\\n✅ Conversation saved to working memory\")\n",
    "    print(f\"   Total messages: {len(test_working_memory.messages)}\")\n"
   ]
  },
  {
   "cell_type": "markdown",
   "id": "ebdcd4af8b39ecbd",
   "metadata": {},
   "source": [
    "#### Helper function for the demo\n",
    "\n",
    "For the complete demo below, we'll use a helper function that combines all these steps.\n"
   ]
  },
  {
   "cell_type": "code",
   "execution_count": 26,
   "id": "56ed86c043eddff6",
   "metadata": {},
   "outputs": [
    {
     "name": "stdout",
     "output_type": "stream",
     "text": [
      "✅ Helper function created for demo\n"
     ]
    }
   ],
   "source": [
    "# Helper function for demo (combines all steps above)\n",
    "async def generate_and_save(\n",
    "    user_query: str,\n",
    "    student_profile: StudentProfile,\n",
    "    session_id: str,\n",
    "    top_k: int = 3\n",
    ") -> str:\n",
    "    \"\"\"Generate response and save to working memory\"\"\"\n",
    "\n",
    "    if not MEMORY_SERVER_AVAILABLE:\n",
    "        return \"⚠️ Memory Server not available\"\n",
    "\n",
    "    from agent_memory_client.filters import UserId\n",
    "\n",
    "    student_id = student_profile.email.split('@')[0]\n",
    "\n",
    "    # Load working memory\n",
    "    _, working_memory = await memory_client.get_or_create_working_memory(\n",
    "        session_id=session_id,\n",
    "        user_id=student_id,\n",
    "        model_name=\"gpt-4o\"\n",
    "    )\n",
    "\n",
    "    # Build conversation messages\n",
    "    conversation_messages = []\n",
    "    for msg in working_memory.messages:\n",
    "        if msg.role == \"user\":\n",
    "            conversation_messages.append(HumanMessage(content=msg.content))\n",
    "        elif msg.role == \"assistant\":\n",
    "            conversation_messages.append(AIMessage(content=msg.content))\n",
    "\n",
    "    # Search courses\n",
    "    courses = await course_manager.search_courses(user_query, limit=top_k)\n",
    "\n",
    "    # Build retrieved context\n",
    "    retrieved_context = \"Relevant Courses:\\n\"\n",
    "    for i, course in enumerate(courses, 1):\n",
    "        retrieved_context += f\"\\n{i}. {course.title}\"\n",
    "        retrieved_context += f\"\\n   Description: {course.description}\"\n",
    "        retrieved_context += f\"\\n   Difficulty: {course.difficulty_level.value}\"\n",
    "        if course.prerequisites:\n",
    "            prereq_names = [p.course_title for p in course.prerequisites]\n",
    "            retrieved_context += f\"\\n   Prerequisites: {', '.join(prereq_names)}\"\n",
    "\n",
    "    # Build messages\n",
    "    messages = [SystemMessage(content=context_system_prompt)]\n",
    "    messages.extend(conversation_messages)\n",
    "    messages.append(HumanMessage(content=f\"{context_user_context}\\n\\n{retrieved_context}\\n\\nQuery: {user_query}\"))\n",
    "\n",
    "    # Generate response\n",
    "    response = llm.invoke(messages).content\n",
    "\n",
    "    # Save to working memory\n",
    "    working_memory.messages.extend([\n",
    "        MemoryMessage(role=\"user\", content=user_query),\n",
    "        MemoryMessage(role=\"assistant\", content=response)\n",
    "    ])\n",
    "    await memory_client.put_working_memory(\n",
    "        session_id=session_id,\n",
    "        memory=working_memory,\n",
    "        user_id=student_id,\n",
    "        model_name=\"gpt-4o\"\n",
    "    )\n",
    "\n",
    "    return response\n",
    "\n",
    "print(\"✅ Helper function created for demo\")\n"
   ]
  },
  {
   "cell_type": "markdown",
   "id": "b1d57045c52dd02c",
   "metadata": {},
   "source": [
    "### 🎯 What We Just Did\n",
    "\n",
    "**Generated Response:**\n",
    "- Assembled all four context types\n",
    "- Built message list with conversation history\n",
    "- Generated response using LLM\n",
    "- **Saved updated conversation to working memory**\n",
    "\n",
    "**Why This Matters:**\n",
    "- Next query will have access to this conversation\n",
    "- Reference resolution will work (\"it\", \"that course\")\n",
    "- Conversation continuity is maintained\n",
    "\n",
    "---\n",
    "\n",
    "## 🧪 Complete Demo: Memory-Enhanced RAG\n",
    "\n",
    "Now let's test the complete system with a multi-turn conversation.\n",
    "\n",
    "We'll break this down into three turns:\n",
    "1. Initial query about machine learning courses\n",
    "2. Follow-up asking about prerequisites (with pronoun reference)\n",
    "3. Another follow-up checking if student meets prerequisites\n"
   ]
  },
  {
   "cell_type": "markdown",
   "id": "2ee62ecce47bf926",
   "metadata": {},
   "source": [
    "### Turn 1: Initial Query\n",
    "\n",
    "Let's start with a query about machine learning courses.\n"
   ]
  },
  {
   "cell_type": "code",
   "execution_count": 27,
   "id": "f50093afecca2c8c",
   "metadata": {},
   "outputs": [
    {
     "name": "stdout",
     "output_type": "stream",
     "text": [
      "================================================================================\n",
      "🧪 MEMORY-ENHANCED RAG DEMO\n",
      "================================================================================\n",
      "\n",
      "👤 Student: Sarah Chen\n",
      "📧 Session: complete_demo_session\n",
      "\n",
      "================================================================================\n",
      "📍 TURN 1: Initial Query\n",
      "================================================================================\n",
      "\n",
      "👤 User: I'm interested in machine learning courses\n"
     ]
    }
   ],
   "source": [
    "# Set up demo session\n",
    "demo_session_id = \"complete_demo_session\"\n",
    "\n",
    "print(\"=\" * 80)\n",
    "print(\"🧪 MEMORY-ENHANCED RAG DEMO\")\n",
    "print(\"=\" * 80)\n",
    "print(f\"\\n👤 Student: {sarah.name}\")\n",
    "print(f\"📧 Session: {demo_session_id}\")\n",
    "\n",
    "print(\"\\n\" + \"=\" * 80)\n",
    "print(\"📍 TURN 1: Initial Query\")\n",
    "print(\"=\" * 80)\n",
    "\n",
    "demo_query_1 = \"I'm interested in machine learning courses\"\n",
    "print(f\"\\n👤 User: {demo_query_1}\")\n"
   ]
  },
  {
   "cell_type": "markdown",
   "id": "c5a4ade39bc1104b",
   "metadata": {},
   "source": [
    "#### Generate response and save to memory\n"
   ]
  },
  {
   "cell_type": "code",
   "execution_count": 28,
   "id": "1d247655a8b83820",
   "metadata": {},
   "outputs": [
    {
     "name": "stdout",
     "output_type": "stream",
     "text": [
      "13:48:45 httpx INFO   HTTP Request: GET http://localhost:8088/v1/working-memory/complete_demo_session?user_id=sarah.chen&namespace=redis_university&model_name=gpt-4o \"HTTP/1.1 200 OK\"\n",
      "13:48:45 httpx INFO   HTTP Request: POST https://api.openai.com/v1/embeddings \"HTTP/1.1 200 OK\"\n",
      "13:48:49 httpx INFO   HTTP Request: POST https://api.openai.com/v1/chat/completions \"HTTP/1.1 200 OK\"\n",
      "13:48:49 httpx INFO   HTTP Request: PUT http://localhost:8088/v1/working-memory/complete_demo_session?user_id=sarah.chen&model_name=gpt-4o \"HTTP/1.1 200 OK\"\n",
      "\n",
      "🤖 Agent: Hi Sarah! It's great to see your enthusiasm for machine learning. Given your background in computer science and your current coursework in Linear Algebra, you're on a solid path to delve into this field.\n",
      "\n",
      "While the Machine Learning course listed is advanced, you can prepare for it by continuing to strengthen your mathematical foundation with your current Linear Algebra course. This will be beneficial as linear algebra is essential for understanding many machine learning algorithms.\n",
      "\n",
      "Since you're looking for intermediate-level courses and prefer online formats, focusing on your current Linear Algebra course will help you build the necessary skills. Once you feel confident with these foundational topics, you could then consider enrolling in the advanced Machine Learning course when you feel ready.\n",
      "\n",
      "If you have any other questions or need further assistance, feel free to ask!\n",
      "\n",
      "✅ Conversation saved to working memory\n"
     ]
    }
   ],
   "source": [
    "demo_response_1 = await generate_and_save(demo_query_1, sarah, demo_session_id)\n",
    "\n",
    "print(f\"\\n🤖 Agent: {demo_response_1}\")\n",
    "print(f\"\\n✅ Conversation saved to working memory\")\n"
   ]
  },
  {
   "cell_type": "markdown",
   "id": "775c4094d7248e1",
   "metadata": {},
   "source": [
    "### Turn 2: Follow-up with Pronoun Reference\n",
    "\n",
    "Now let's ask about \"the first one\" - a reference that requires conversation history.\n"
   ]
  },
  {
   "cell_type": "code",
   "execution_count": 29,
   "id": "27bc4cd9dfab64aa",
   "metadata": {},
   "outputs": [
    {
     "name": "stdout",
     "output_type": "stream",
     "text": [
      "\n",
      "================================================================================\n",
      "📍 TURN 2: Follow-up with Pronoun Reference\n",
      "================================================================================\n",
      "\n",
      "👤 User: What are the prerequisites for the first one?\n",
      "   Note: 'the first one' refers to the first course mentioned in Turn 1\n"
     ]
    }
   ],
   "source": [
    "print(\"\\n\" + \"=\" * 80)\n",
    "print(\"📍 TURN 2: Follow-up with Pronoun Reference\")\n",
    "print(\"=\" * 80)\n",
    "\n",
    "demo_query_2 = \"What are the prerequisites for the first one?\"\n",
    "print(f\"\\n👤 User: {demo_query_2}\")\n",
    "print(f\"   Note: 'the first one' refers to the first course mentioned in Turn 1\")\n"
   ]
  },
  {
   "cell_type": "markdown",
   "id": "c12b0d543f855a68",
   "metadata": {},
   "source": [
    "#### Load conversation history and generate response\n",
    "\n",
    "The system will load Turn 1 from working memory to resolve \"the first one\".\n"
   ]
  },
  {
   "cell_type": "code",
   "execution_count": 30,
   "id": "33f0859c03577c04",
   "metadata": {},
   "outputs": [
    {
     "name": "stdout",
     "output_type": "stream",
     "text": [
      "13:48:57 httpx INFO   HTTP Request: GET http://localhost:8088/v1/working-memory/complete_demo_session?user_id=sarah.chen&namespace=redis_university&model_name=gpt-4o \"HTTP/1.1 200 OK\"\n",
      "13:48:57 httpx INFO   HTTP Request: POST https://api.openai.com/v1/embeddings \"HTTP/1.1 200 OK\"\n",
      "13:48:59 httpx INFO   HTTP Request: POST https://api.openai.com/v1/chat/completions \"HTTP/1.1 200 OK\"\n",
      "13:48:59 httpx INFO   HTTP Request: PUT http://localhost:8088/v1/working-memory/complete_demo_session?user_id=sarah.chen&model_name=gpt-4o \"HTTP/1.1 200 OK\"\n",
      "\n",
      "🤖 Agent: The first Calculus I course mentions \"Prerequisite Course 18\" as a prerequisite. However, it seems there might be an error in the listing since the other two Calculus I courses don't specify prerequisites. Typically, Calculus I courses require a basic understanding of high school mathematics, which you likely have given your background in computer science and current coursework in Linear Algebra.\n",
      "\n",
      "Since your primary interest is in machine learning and data science, and you're looking for intermediate-level courses, you might want to focus on courses that align more directly with those areas. If you need further assistance or have any other questions, feel free to ask!\n",
      "\n",
      "✅ Agent resolved 'the first one' using conversation history!\n"
     ]
    }
   ],
   "source": [
    "demo_response_2 = await generate_and_save(demo_query_2, sarah, demo_session_id)\n",
    "\n",
    "print(f\"\\n🤖 Agent: {demo_response_2}\")\n",
    "print(\"\\n✅ Agent resolved 'the first one' using conversation history!\")\n"
   ]
  },
  {
   "cell_type": "markdown",
   "id": "4b8c58d592048c0c",
   "metadata": {},
   "source": [
    "### Turn 3: Another Follow-up\n",
    "\n",
    "Let's ask if the student meets the prerequisites mentioned in Turn 2.\n"
   ]
  },
  {
   "cell_type": "code",
   "execution_count": 31,
   "id": "e81a28aff710f634",
   "metadata": {},
   "outputs": [
    {
     "name": "stdout",
     "output_type": "stream",
     "text": [
      "\n",
      "================================================================================\n",
      "📍 TURN 3: Another Follow-up\n",
      "================================================================================\n",
      "\n",
      "👤 User: Do I meet those prerequisites?\n",
      "   Note: 'those prerequisites' refers to prerequisites from Turn 2\n"
     ]
    }
   ],
   "source": [
    "print(\"\\n\" + \"=\" * 80)\n",
    "print(\"📍 TURN 3: Another Follow-up\")\n",
    "print(\"=\" * 80)\n",
    "\n",
    "demo_query_3 = \"Do I meet those prerequisites?\"\n",
    "print(f\"\\n👤 User: {demo_query_3}\")\n",
    "print(f\"   Note: 'those prerequisites' refers to prerequisites from Turn 2\")\n"
   ]
  },
  {
   "cell_type": "markdown",
   "id": "e30907ab5fb2c1a",
   "metadata": {},
   "source": [
    "#### Load full conversation history and check student profile\n",
    "\n",
    "The system will:\n",
    "1. Load Turns 1-2 from working memory\n",
    "2. Resolve \"those prerequisites\"\n",
    "3. Check student's completed courses from profile\n"
   ]
  },
  {
   "cell_type": "code",
   "execution_count": 32,
   "id": "f69f77c1e8619b20",
   "metadata": {},
   "outputs": [
    {
     "name": "stdout",
     "output_type": "stream",
     "text": [
      "13:49:00 httpx INFO   HTTP Request: GET http://localhost:8088/v1/working-memory/complete_demo_session?user_id=sarah.chen&namespace=redis_university&model_name=gpt-4o \"HTTP/1.1 200 OK\"\n",
      "13:49:01 httpx INFO   HTTP Request: POST https://api.openai.com/v1/embeddings \"HTTP/1.1 200 OK\"\n",
      "13:49:03 httpx INFO   HTTP Request: POST https://api.openai.com/v1/chat/completions \"HTTP/1.1 200 OK\"\n",
      "13:49:03 httpx INFO   HTTP Request: PUT http://localhost:8088/v1/working-memory/complete_demo_session?user_id=sarah.chen&model_name=gpt-4o \"HTTP/1.1 200 OK\"\n",
      "\n",
      "🤖 Agent: It seems there was a bit of confusion with the course listings for Calculus I, as they don't clearly specify prerequisites beyond mentioning \"Prerequisite Course 18\" for the first one. Typically, Calculus I courses require a basic understanding of high school mathematics, which you likely have given your background in computer science and current coursework in Linear Algebra.\n",
      "\n",
      "Since your primary interest is in machine learning and data science, and you're looking for intermediate-level courses, you might want to focus on courses that align more directly with those areas. If you need further assistance or have any other questions, feel free to ask!\n",
      "\n",
      "✅ Agent resolved 'those prerequisites' and checked student's transcript!\n",
      "\n",
      "================================================================================\n",
      "✅ DEMO COMPLETE: Memory-enhanced RAG enables natural conversations!\n",
      "================================================================================\n"
     ]
    }
   ],
   "source": [
    "demo_response_3 = await generate_and_save(demo_query_3, sarah, demo_session_id)\n",
    "\n",
    "print(f\"\\n🤖 Agent: {demo_response_3}\")\n",
    "print(\"\\n✅ Agent resolved 'those prerequisites' and checked student's transcript!\")\n",
    "\n",
    "print(\"\\n\" + \"=\" * 80)\n",
    "print(\"✅ DEMO COMPLETE: Memory-enhanced RAG enables natural conversations!\")\n",
    "print(\"=\" * 80)\n"
   ]
  },
  {
   "cell_type": "markdown",
   "id": "83059c5567f43c57",
   "metadata": {},
   "source": [
    "### 🎯 What Just Happened?\n",
    "\n",
    "**Turn 1:** \"I'm interested in machine learning courses\"\n",
    "- System searches courses\n",
    "- Finds ML-related courses\n",
    "- Responds with recommendations\n",
    "- **Saves conversation to working memory**\n",
    "\n",
    "**Turn 2:** \"What are the prerequisites for **the first one**?\"\n",
    "- System loads working memory (Turn 1)\n",
    "- Resolves \"the first one\" → first course mentioned in Turn 1\n",
    "- Responds with prerequisites\n",
    "- **Saves updated conversation**\n",
    "\n",
    "**Turn 3:** \"Do I meet **those prerequisites**?\"\n",
    "- System loads working memory (Turns 1-2)\n",
    "- Resolves \"those prerequisites\" → prerequisites from Turn 2\n",
    "- Checks student's completed courses (from profile)\n",
    "- Responds with personalized answer\n",
    "- **Saves updated conversation**\n",
    "\n",
    "**💡 Key Insight:** Memory + RAG = **Natural, stateful, personalized conversations**\n",
    "\n",
    "---\n",
    "\n",
    "## 📊 Before vs. After Comparison\n",
    "\n",
    "Let's visualize the difference between stateless and memory-enhanced RAG.\n",
    "\n",
    "### **Stateless RAG (Section 2):**\n",
    "\n",
    "```\n",
    "Query 1: \"I'm interested in ML courses\"\n",
    "  → ✅ Works (searches and returns courses)\n",
    "\n",
    "Query 2: \"What are the prerequisites for the first one?\"\n",
    "  → ❌ Fails (no conversation history)\n",
    "  → Agent: \"Which course are you referring to?\"\n",
    "```\n",
    "\n",
    "**Problems:**\n",
    "- ❌ No conversation continuity\n",
    "- ❌ Can't resolve references\n",
    "- ❌ Each query is independent\n",
    "- ❌ Poor user experience\n",
    "\n",
    "### **Memory-Enhanced RAG (This Notebook):**\n",
    "\n",
    "```\n",
    "Query 1: \"I'm interested in ML courses\"\n",
    "  → ✅ Works (searches and returns courses)\n",
    "  → Saves to working memory\n",
    "\n",
    "Query 2: \"What are the prerequisites for the first one?\"\n",
    "  → ✅ Works (loads conversation history)\n",
    "  → Resolves \"the first one\" → first course from Query 1\n",
    "  → Responds with prerequisites\n",
    "  → Saves updated conversation\n",
    "\n",
    "Query 3: \"Do I meet those prerequisites?\"\n",
    "  → ✅ Works (loads conversation history)\n",
    "  → Resolves \"those prerequisites\" → prerequisites from Query 2\n",
    "  → Checks student transcript\n",
    "  → Responds with personalized answer\n",
    "```\n",
    "\n",
    "**Benefits:**\n",
    "- ✅ Conversation continuity\n",
    "- ✅ Reference resolution\n",
    "- ✅ Personalization\n",
    "- ✅ Natural user experience\n",
    "\n",
    "---\n",
    "\n",
    "## 🎓 Key Takeaways\n",
    "\n",
    "### **1. Memory Transforms RAG**\n",
    "\n",
    "**Without Memory (Section 2):**\n",
    "- Stateless queries\n",
    "- No conversation continuity\n",
    "- Limited to 3 context types (System, User, Retrieved)\n",
    "\n",
    "**With Memory (This Notebook):**\n",
    "- Stateful conversations\n",
    "- Reference resolution\n",
    "- All 4 context types (System, User, Conversation, Retrieved)\n",
    "\n",
    "### **2. Two Types of Memory Work Together**\n",
    "\n",
    "**Working Memory:**\n",
    "- Session-scoped conversation history\n",
    "- Enables reference resolution\n",
    "- TTL-based (expires after 24 hours)\n",
    "\n",
    "**Long-term Memory:**\n",
    "- User-scoped persistent facts\n",
    "- Enables personalization\n",
    "- Persists indefinitely\n",
    "\n",
    "### **3. Simple, Inline Approach**\n",
    "\n",
    "**What We Built:**\n",
    "- Small, focused functions\n",
    "- Inline code (no large classes)\n",
    "- Progressive learning\n",
    "- Clear demonstrations\n",
    "\n",
    "**Why This Matters:**\n",
    "- Easy to understand\n",
    "- Easy to modify\n",
    "- Easy to extend\n",
    "- Foundation for LangGraph agents (Part 2)\n",
    "\n",
    "### **4. All Four Context Types**\n",
    "\n",
    "**System Context:** Role, instructions, guidelines\n",
    "**User Context:** Profile + long-term memories\n",
    "**Conversation Context:** Working memory\n",
    "**Retrieved Context:** RAG results\n",
    "\n",
    "**Together:** Natural, stateful, personalized conversations\n",
    "\n",
    "---\n",
    "\n",
    "## 🚀 What's Next?\n",
    "\n",
    "### **Part 2: Converting to LangGraph Agent (Separate Notebook)**\n",
    "\n",
    "In the next notebook (`03_langgraph_agent_conversion.ipynb`), we'll:\n",
    "\n",
    "1. **Convert** memory-enhanced RAG to LangGraph agent\n",
    "2. **Add** state management and control flow\n",
    "3. **Prepare** for Section 4 (tools and advanced capabilities)\n",
    "4. **Build** a foundation for production-ready agents\n",
    "\n",
    "**Why LangGraph?**\n",
    "- Better state management\n",
    "- More control over agent flow\n",
    "- Easier to add tools (Section 4)\n",
    "- Production-ready architecture\n",
    "\n",
    "### **Section 4: Tools and Advanced Agents**\n",
    "\n",
    "After completing Part 2, you'll be ready for Section 4:\n",
    "- Adding tools (course enrollment, schedule management)\n",
    "- Multi-step reasoning\n",
    "- Error handling and recovery\n",
    "- Production deployment\n",
    "\n",
    "---\n",
    "\n",
    "## 🏋️ Practice Exercises\n",
    "\n",
    "### **Exercise 1: Add Personalization**\n",
    "\n",
    "Modify the system to use long-term memories for personalization:\n",
    "\n",
    "1. Store student preferences in long-term memory\n",
    "2. Search long-term memory in `assemble_context()`\n",
    "3. Use memories to personalize recommendations\n",
    "\n",
    "**Hint:** Use `memory_client.create_long_term_memory()` and `memory_client.search_long_term_memory()`\n",
    "\n",
    "### **Exercise 2: Add Error Handling**\n",
    "\n",
    "Add error handling for memory operations:\n",
    "\n",
    "1. Handle case when Memory Server is unavailable\n",
    "2. Fallback to stateless RAG\n",
    "3. Log warnings appropriately\n",
    "\n",
    "**Hint:** Check `MEMORY_SERVER_AVAILABLE` flag\n",
    "\n",
    "### **Exercise 3: Add Conversation Summary**\n",
    "\n",
    "Add a function to summarize the conversation:\n",
    "\n",
    "1. Load working memory\n",
    "2. Extract key points from conversation\n",
    "3. Display summary to user\n",
    "\n",
    "**Hint:** Use LLM to generate summary from conversation history\n",
    "\n",
    "---\n",
    "\n",
    "## 📝 Summary\n",
    "\n",
    "### **What You Learned:**\n",
    "\n",
    "1. ✅ **Built** memory-enhanced RAG system\n",
    "2. ✅ **Integrated** all four context types\n",
    "3. ✅ **Demonstrated** benefits of memory\n",
    "4. ✅ **Prepared** for LangGraph conversion\n",
    "\n",
    "### **Key Concepts:**\n",
    "\n",
    "- **Working Memory** - Session-scoped conversation history\n",
    "- **Long-term Memory** - User-scoped persistent facts\n",
    "- **Context Assembly** - Combining all four context types\n",
    "- **Reference Resolution** - Resolving pronouns and references\n",
    "- **Stateful Conversations** - Natural, continuous dialogue\n",
    "\n",
    "### **Next Steps:**\n",
    "\n",
    "1. Complete practice exercises\n",
    "2. Experiment with different queries\n",
    "3. Move to Part 2 (LangGraph agent conversion)\n",
    "4. Prepare for Section 4 (tools and advanced agents)\n",
    "\n",
    "**🎉 Congratulations!** You've built a complete memory-enhanced RAG system!\n",
    "\n",
    "---\n",
    "\n",
    "## 🔗 Resources\n",
    "\n",
    "- **Section 1:** Four Context Types\n",
    "- **Section 2:** RAG Fundamentals\n",
    "- **Section 3 (Notebook 1):** Memory Fundamentals\n",
    "- **Section 3 (Notebook 3):** LangGraph Agent Conversion (Next)\n",
    "- **Section 4:** Tools and Advanced Agents\n",
    "\n",
    "**Agent Memory Server:**\n",
    "- GitHub: `reference-agent/`\n",
    "- Documentation: See README.md\n",
    "- API Client: `agent-memory-client`\n",
    "\n",
    "**LangChain:**\n",
    "- Documentation: https://python.langchain.com/\n",
    "- LangGraph: https://langchain-ai.github.io/langgraph/\n",
    "\n",
    "---\n",
    "\n",
    "![Redis](https://redis.io/wp-content/uploads/2024/04/Logotype.svg?auto=webp&quality=85,75&width=120)\n",
    "\n",
    "**Redis University - Context Engineering Course**\n"
   ]
  },
  {
   "cell_type": "code",
   "execution_count": null,
   "id": "1850ca00-5255-45e3-ac2a-e332f1a64cea",
   "metadata": {},
   "outputs": [],
   "source": []
  }
 ],
 "metadata": {
  "kernelspec": {
   "display_name": "Python 3 (ipykernel)",
   "language": "python",
   "name": "python3"
  },
  "language_info": {
   "codemirror_mode": {
    "name": "ipython",
    "version": 3
   },
   "file_extension": ".py",
   "mimetype": "text/x-python",
   "name": "python",
   "nbconvert_exporter": "python",
   "pygments_lexer": "ipython3",
   "version": "3.12.6"
  }
 },
 "nbformat": 4,
 "nbformat_minor": 5
}
