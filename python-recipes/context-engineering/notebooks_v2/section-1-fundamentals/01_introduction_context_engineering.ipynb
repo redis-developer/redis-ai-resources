{
 "cells": [
  {
   "cell_type": "markdown",
   "metadata": {},
   "source": [
    "![Redis](https://redis.io/wp-content/uploads/2024/04/Logotype.svg?auto=webp&quality=85,75&width=120)\n",
    "\n",
    "# What is Context Engineering?\n",
    "\n",
    "## Introduction\n",
    "\n",
    "**Context Engineering** is the discipline of designing, implementing, and optimizing context management systems for AI agents and applications. It's the practice of ensuring that AI systems have the right information, at the right time, in the right format to make intelligent decisions and provide relevant responses.\n",
    "\n",
    "Think of context engineering as the \"memory and awareness system\" for AI agents - it's what allows them to:\n",
    "- Remember past conversations and experiences\n",
    "- Understand their role and capabilities\n",
    "- Access relevant information from large knowledge bases\n",
    "- Maintain coherent, personalized interactions over time\n",
    "\n",
    "## Why Context Engineering Matters\n",
    "\n",
    "Without proper context engineering, AI agents are like people with severe amnesia - they can't remember what happened five minutes ago, don't know who they're talking to, and can't learn from experience. This leads to:\n",
    "\n",
    "**Poor User Experience**\n",
    "- Repetitive conversations\n",
    "- Lack of personalization\n",
    "- Inconsistent responses\n",
    "\n",
    "**Inefficient Operations**\n",
    "- Redundant processing\n",
    "- Inability to build on previous work\n",
    "- Lost context between sessions\n",
    "\n",
    "**Limited Capabilities**\n",
    "- Can't handle complex, multi-step tasks\n",
    "- No learning or adaptation\n",
    "- Poor integration with existing systems\n",
    "\n",
    "## Core Components of Context Engineering\n",
    "\n",
    "Context engineering involves several key components working together:\n",
    "\n",
    "### 1. System Context\n",
    "What the AI should know about itself and its environment:\n",
    "- Role and responsibilities\n",
    "- Available tools and capabilities\n",
    "- Operating constraints and guidelines\n",
    "- Domain-specific knowledge\n",
    "\n",
    "### 2. Memory Management\n",
    "How information is stored, retrieved, and maintained:\n",
    "- **Working memory**: Persistent storage focused on the current task, including conversation context and task-related data\n",
    "- **Long-term memory**: Knowledge learned across sessions, such as user preferences and important facts\n",
    "\n",
    "### 3. Context Retrieval\n",
    "How relevant information is found and surfaced:\n",
    "- Semantic search and similarity matching\n",
    "- Relevance ranking and filtering\n",
    "- Context window management\n",
    "\n",
    "### 4. Context Integration\n",
    "How different types of context are combined:\n",
    "- Merging multiple information sources\n",
    "- Resolving conflicts and inconsistencies\n",
    "- Prioritizing information by importance\n",
    "\n",
    "## Real-World Example: University Class Agent\n",
    "\n",
    "Let's explore context engineering through a practical example - a university class recommendation agent. This agent helps students find courses, plan their academic journey, and provides personalized recommendations.\n",
    "\n",
    "### Without Context Engineering\n",
    "```\n",
    "Student: \"I'm interested in programming courses\"\n",
    "Agent: \"Here are all programming courses: CS101, CS201, CS301...\"\n",
    "\n",
    "Student: \"I prefer online courses\"\n",
    "Agent: \"Here are all programming courses: CS101, CS201, CS301...\"\n",
    "\n",
    "Student: \"What about my major requirements?\"\n",
    "Agent: \"I don't know your major. Here are all programming courses...\"\n",
    "```\n",
    "\n",
    "### With Context Engineering\n",
    "```\n",
    "Student: \"I'm interested in programming courses\"\n",
    "Agent: \"Great! I can help you find programming courses. Let me search our catalog...\n",
    "        Based on your Computer Science major and beginner level, I recommend:\n",
    "        - CS101: Intro to Programming (online, matches your preference)\n",
    "        - CS102: Data Structures (hybrid option available)\"\n",
    "\n",
    "Student: \"Tell me more about CS101\"\n",
    "Agent: \"CS101 is perfect for you! It's:\n",
    "        - Online format (your preference)\n",
    "        - Beginner-friendly\n",
    "        - Required for your CS major\n",
    "        - No prerequisites needed\n",
    "        - Taught by Prof. Smith (highly rated)\"\n",
    "```\n",
    "\n",
    "## Environment Setup\n",
    "\n",
    "Before we explore context engineering in action, let's set up our environment with the necessary dependencies and connections."
   ]
  },
  {
   "cell_type": "code",
   "execution_count": 1,
   "metadata": {
    "execution": {
     "iopub.execute_input": "2025-10-30T02:35:54.056071Z",
     "iopub.status.busy": "2025-10-30T02:35:54.055902Z",
     "iopub.status.idle": "2025-10-30T02:35:54.313194Z",
     "shell.execute_reply": "2025-10-30T02:35:54.312619Z"
    }
   },
   "outputs": [
    {
     "name": "stdout",
     "output_type": "stream",
     "text": [
      "Setup complete! (Using demo responses - set OPENAI_API_KEY for real API calls)\n"
     ]
    }
   ],
   "source": [
    "import os\n",
    "from openai import OpenAI\n",
    "\n",
    "# Initialize OpenAI client (for demonstration - API key needed for actual calls)\n",
    "api_key = os.getenv(\"OPENAI_API_KEY\", \"demo-key-for-notebook\")\n",
    "client = OpenAI(api_key=api_key) if api_key != \"demo-key-for-notebook\" else None\n",
    "\n",
    "def ask_agent(messages, system_prompt=\"You are a helpful assistant.\"):\n",
    "    \"\"\"Simple function to call OpenAI with context\"\"\"\n",
    "    if client and api_key != \"demo-key-for-notebook\":\n",
    "        # Real OpenAI API call\n",
    "        response = client.chat.completions.create(\n",
    "            model=\"gpt-4o-mini\",\n",
    "            messages=[\n",
    "                {\"role\": \"system\", \"content\": system_prompt},\n",
    "                *messages\n",
    "            ]\n",
    "        )\n",
    "        return response.choices[0].message.content\n",
    "    else:\n",
    "        # Demo response for notebook execution\n",
    "        user_content = messages[0]['content'] if messages else \"general query\"\n",
    "        if \"Redis course\" in user_content:\n",
    "            return \"Based on your background and goals, I recommend starting with RU101 (Introduction to Redis) to build a solid foundation, then progressing to RU201 (Redis for Python) which aligns with your programming experience and interests.\"\n",
    "        elif \"long will that take\" in user_content:\n",
    "            return \"RU201 (Redis for Python) typically takes 6-8 hours to complete, including hands-on exercises. Given your evening and weekend availability, you could finish it in 2-3 weeks at a comfortable pace.\"\n",
    "        else:\n",
    "            return \"I'd be happy to help with your Redis learning journey. Could you tell me more about your background and what you're hoping to achieve?\"\n",
    "\n",
    "print(\"Setup complete! (Using demo responses - set OPENAI_API_KEY for real API calls)\")"
   ]
  },
  {
   "cell_type": "markdown",
   "metadata": {},
   "source": [
    "## Context Engineering in Action\n",
    "\n",
    "Now let's explore the different types of context our agent manages:"
   ]
  },
  {
   "cell_type": "markdown",
   "metadata": {},
   "source": [
    "### 1. System Context Example\n",
    "\n",
    "System context defines what the agent knows about itself. This is typically provided as a system prompt:"
   ]
  },
  {
   "cell_type": "code",
   "execution_count": 2,
   "metadata": {
    "execution": {
     "iopub.execute_input": "2025-10-30T02:35:54.328583Z",
     "iopub.status.busy": "2025-10-30T02:35:54.328477Z",
     "iopub.status.idle": "2025-10-30T02:35:54.330693Z",
     "shell.execute_reply": "2025-10-30T02:35:54.330218Z"
    }
   },
   "outputs": [
    {
     "name": "stdout",
     "output_type": "stream",
     "text": [
      "System Context Example:\n",
      "This system prompt defines the agent's role, responsibilities, and constraints.\n",
      "It will be included in every conversation to maintain consistent behavior.\n"
     ]
    }
   ],
   "source": [
    "# Example of a system prompt - the agent's instructions and constraints\n",
    "system_prompt = \"\"\"\n",
    "You are a helpful university class recommendation agent for Redis University.\n",
    "Your role is to help students find courses, plan their academic journey, and\n",
    "answer questions about the course catalog.\n",
    "\n",
    "## Your Responsibilities\n",
    "\n",
    "- Help students discover courses that match their interests and goals\n",
    "- Provide accurate information about course content, prerequisites, and schedules\n",
    "- Remember student preferences and use them to personalize recommendations\n",
    "- Guide students toward courses that align with their major requirements\n",
    "\n",
    "## Important Constraints\n",
    "\n",
    "- Only recommend courses that exist in the course catalog\n",
    "- Always check prerequisites before recommending a course\n",
    "- Respect student preferences for course format (online, in-person, hybrid)\n",
    "- Be honest when you don't know something - don't make up course information\n",
    "\n",
    "## Interaction Guidelines\n",
    "\n",
    "- Be friendly, encouraging, and supportive\n",
    "- Ask clarifying questions when student requests are vague\n",
    "- Explain your reasoning when making recommendations\n",
    "- Keep responses concise but informative\n",
    "- Use the student's name when you know it\n",
    "\"\"\"\n",
    "\n",
    "print(\"System Context Example:\")\n",
    "print(\"This system prompt defines the agent's role, responsibilities, and constraints.\")\n",
    "print(\"It will be included in every conversation to maintain consistent behavior.\")"
   ]
  },
  {
   "cell_type": "markdown",
   "metadata": {},
   "source": [
    "### 2. User Context Example\n",
    "\n",
    "User context contains information about the individual user. Let's create a student profile:"
   ]
  },
  {
   "cell_type": "code",
   "execution_count": 3,
   "metadata": {
    "execution": {
     "iopub.execute_input": "2025-10-30T02:35:54.331875Z",
     "iopub.status.busy": "2025-10-30T02:35:54.331782Z",
     "iopub.status.idle": "2025-10-30T02:35:54.334123Z",
     "shell.execute_reply": "2025-10-30T02:35:54.333709Z"
    }
   },
   "outputs": [
    {
     "name": "stdout",
     "output_type": "stream",
     "text": [
      "Student Profile Example:\n",
      "Name: Sarah Chen\n",
      "Major: Computer Science\n",
      "Interests: machine learning, data science, web development\n",
      "Completed: 3 courses\n",
      "Preferences: online, intermediate level\n"
     ]
    }
   ],
   "source": [
    "# Create a student profile with preferences and background\n",
    "student_profile = {\n",
    "    \"name\": \"Sarah Chen\",\n",
    "    \"major\": \"Computer Science\",\n",
    "    \"year\": \"Junior\",\n",
    "    \"interests\": [\"machine learning\", \"data science\", \"web development\"],\n",
    "    \"completed_courses\": [\"CS101\", \"CS201\", \"MATH301\"],\n",
    "    \"preferred_format\": \"online\",\n",
    "    \"preferred_difficulty\": \"intermediate\",\n",
    "    \"learning_style\": \"hands-on projects\",\n",
    "    \"time_availability\": \"evenings and weekends\"\n",
    "}\n",
    "\n",
    "print(\"Student Profile Example:\")\n",
    "print(f\"Name: {student_profile['name']}\")\n",
    "print(f\"Major: {student_profile['major']}\")\n",
    "print(f\"Interests: {', '.join(student_profile['interests'])}\")\n",
    "print(f\"Completed: {len(student_profile['completed_courses'])} courses\")\n",
    "print(f\"Preferences: {student_profile['preferred_format']}, {student_profile['preferred_difficulty']} level\")"
   ]
  },
  {
   "cell_type": "markdown",
   "metadata": {},
   "source": [
    "### 3. Context Integration Example\n",
    "\n",
    "Now let's see how all the context types come together in a complete prompt that would be sent to the LLM:"
   ]
  },
  {
   "cell_type": "code",
   "execution_count": 4,
   "metadata": {
    "execution": {
     "iopub.execute_input": "2025-10-30T02:35:54.335262Z",
     "iopub.status.busy": "2025-10-30T02:35:54.335160Z",
     "iopub.status.idle": "2025-10-30T02:35:54.337536Z",
     "shell.execute_reply": "2025-10-30T02:35:54.337083Z"
    }
   },
   "outputs": [
    {
     "name": "stdout",
     "output_type": "stream",
     "text": [
      "Complete Context Assembly Example:\n",
      "This shows how system context, user context, and retrieved context\n",
      "are combined into a single prompt for the LLM.\n"
     ]
    }
   ],
   "source": [
    "# Demonstrate how context is assembled for the LLM\n",
    "user_query = \"I'm looking for courses related to machine learning\"\n",
    "\n",
    "# 1. System context (role and constraints)\n",
    "system_context = system_prompt\n",
    "\n",
    "# 2. User context (student profile)\n",
    "student_context = f\"\"\"Student Profile:\n",
    "Name: {student_profile['name']}\n",
    "Major: {student_profile['major']}\n",
    "Interests: {', '.join(student_profile['interests'])}\n",
    "Completed Courses: {', '.join(student_profile['completed_courses'])}\n",
    "Preferred Format: {student_profile['preferred_format']}\n",
    "Preferred Difficulty: {student_profile['preferred_difficulty']}\"\"\"\n",
    "\n",
    "# 3. Retrieved context (simulated course catalog)\n",
    "course_catalog = \"\"\"Available Courses:\n",
    "- CS401: Machine Learning Fundamentals (Prerequisites: CS201, MATH301)\n",
    "- CS402: Deep Learning (Prerequisites: CS401)\n",
    "- CS403: Natural Language Processing (Prerequisites: CS401)\n",
    "- CS404: Computer Vision (Prerequisites: CS401)\"\"\"\n",
    "\n",
    "# 4. Assemble the complete prompt\n",
    "complete_prompt = f\"\"\"SYSTEM PROMPT:\n",
    "{system_context}\n",
    "\n",
    "STUDENT PROFILE:\n",
    "{student_context}\n",
    "\n",
    "COURSE CATALOG:\n",
    "{course_catalog}\n",
    "\n",
    "USER QUERY:\n",
    "{user_query}\n",
    "\n",
    "Please provide a helpful response based on the student's profile and query.\"\"\"\n",
    "\n",
    "print(\"Complete Context Assembly Example:\")\n",
    "print(\"This shows how system context, user context, and retrieved context\")\n",
    "print(\"are combined into a single prompt for the LLM.\")"
   ]
  },
  {
   "cell_type": "markdown",
   "metadata": {},
   "source": [
    "## Key Takeaways\n",
    "\n",
    "From this introduction to context engineering, we can see several important principles:\n",
    "\n",
    "### 1. Context is Multi-Dimensional\n",
    "- **System context**: What the AI knows about itself\n",
    "- **User context**: What the AI knows about the user\n",
    "- **Domain context**: What the AI knows about the subject matter\n",
    "- **Conversation context**: What has been discussed recently\n",
    "- **Historical context**: What has been learned over time\n",
    "\n",
    "Some of these sources are static, updated only when the agent's code changes, while others may be retrieved dynamically from external sources, such as via APIs or vector search.\n",
    "\n",
    "### 2. Memory is Essential\n",
    "- **Working memory**: Maintains conversation flow and task-related context\n",
    "- **Long-term memory**: Enables learning and personalization across sessions\n",
    "\n",
    "### 3. Context Must Be Actionable\n",
    "- Information is only valuable if it can improve responses\n",
    "- Context should be prioritized by relevance and importance\n",
    "- The system must be able to integrate multiple context sources\n",
    "\n",
    "### 4. Context Engineering is Iterative\n",
    "- Systems improve as they gather more context\n",
    "- Context quality affects response quality\n",
    "- Feedback loops help refine context management"
   ]
  },
  {
   "cell_type": "markdown",
   "metadata": {},
   "source": [
    "## What's Next in Your Journey\n",
    "\n",
    "You've now learned the fundamentals of context engineering and seen how it transforms AI systems from generic assistants into intelligent, personalized agents. You understand:\n",
    "\n",
    "- What context engineering is and why it matters\n",
    "- The core components: system context, user context, conversation context, and retrieved context\n",
    "- How context is assembled and integrated for AI systems\n",
    "- The challenges that arise as systems scale\n",
    "\n",
    "### Your Learning Path Forward\n",
    "\n",
    "The next notebook will dive deeper into each context type with hands-on examples:\n",
    "\n",
    "**Next: Context Types Deep Dive**\n",
    "- Master each of the four context types individually\n",
    "- Build context management systems for each type\n",
    "- Measure the impact of context on AI performance\n",
    "- Design context strategies for different scenarios\n",
    "\n",
    "**Then: Advanced Techniques**\n",
    "- **RAG Foundations**: Efficient information retrieval\n",
    "- **Memory Architecture**: Long-term context management\n",
    "- **Semantic Tool Selection**: Intelligent query routing\n",
    "- **Context Optimization**: Compression and efficiency\n",
    "- **Production Deployment**: Scalable systems\n",
    "\n",
    "### Try It Yourself\n",
    "\n",
    "Before moving on, experiment with the concepts we've covered:\n",
    "\n",
    "1. **Modify the student profile** - Change interests, preferences, or academic history\n",
    "2. **Create different system prompts** - Try different roles and constraints\n",
    "3. **Think about your own use case** - How would context engineering apply to your domain?\n",
    "\n",
    "The power of context engineering lies in its ability to make AI systems more intelligent, personalized, and useful. As we'll see in the following notebooks, the technical implementation of these concepts using modern AI tools makes it possible to build sophisticated, context-aware applications.\n",
    "\n",
    "---\n",
    "\n",
    "**Continue to: `02_core_concepts.ipynb`**"
   ]
  }
 ],
 "metadata": {
  "kernelspec": {
   "display_name": "Python 3 (ipykernel)",
   "language": "python",
   "name": "python3"
  },
  "language_info": {
   "codemirror_mode": {
    "name": "ipython",
    "version": 3
   },
   "file_extension": ".py",
   "mimetype": "text/x-python",
   "name": "python",
   "nbconvert_exporter": "python",
   "pygments_lexer": "ipython3",
   "version": "3.12.6"
  }
 },
 "nbformat": 4,
 "nbformat_minor": 4
}
