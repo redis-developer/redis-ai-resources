{
  "cells": [
    {
      "cell_type": "markdown",
      "metadata": {},
      "source": [
        "# Redis Vector Search Benchmarking with RedisVL\n",
        "\n",
        "## A Practical Guide to Multiprocessing Performance Testing\n",
        "\n",
        "This tutorial demonstrates how to benchmark Redis vector search performance using multiprocessing with RedisVL to bypass Python's GIL and achieve true parallelism.\n",
        "\n",
        "### What You'll Learn\n",
        "- Set up efficient Redis connections for multiprocessing\n",
        "- Implement multi-process data loading with batching\n",
        "- Build parallel query execution with worker processes\n",
        "- Measure and analyze key performance metrics\n",
        "- Understand factors affecting Redis performance\n",
        "\n",
        "### Tutorial Structure\n",
        "1. **Part 1: Setup & Configuration** - We'll define all our classes, functions, and utilities\n",
        "2. **Part 2: Benchmarking Execution** - We'll run the actual performance tests and analyze results\n",
        "\n",
        "---"
      ]
    },
    {
      "cell_type": "markdown",
      "metadata": {},
      "source": [
        "## Part 1: Setup & Configuration\n",
        "\n",
        "First, let's install dependencies and import the libraries we'll need for benchmarking."
      ]
    },
    {
      "cell_type": "code",
      "execution_count": 1,
      "metadata": {},
      "outputs": [],
      "source": [
        "# Install and import dependencies\n",
        "%pip install redisvl redis numpy matplotlib pandas tqdm"
      ]
    },
    {
      "cell_type": "code",
      "execution_count": 2,
      "metadata": {},
      "outputs": [],
      "source": [
        "import time\n",
        "import numpy as np\n",
        "import pandas as pd\n",
        "import matplotlib.pyplot as plt\n",
        "from multiprocessing import get_context\n",
        "from typing import List, Dict, Any, Optional, Tuple\n",
        "from dataclasses import dataclass\n",
        "from tqdm import tqdm\n",
        "from contextlib import contextmanager\n",
        "\n",
        "# RedisVL imports\n",
        "import redis\n",
        "from redisvl.index import SearchIndex\n",
        "from redisvl.query import VectorQuery\n",
        "from redisvl.schema import IndexSchema"
      ]
    },
    {
      "cell_type": "markdown",
      "metadata": {},
      "source": [
        "### Redis instance\n",
        "Set up a local Redis instance to use for testing"
      ]
    },
    {
      "cell_type": "code",
      "execution_count": 3,
      "metadata": {},
      "outputs": [],
      "source": [
        "!docker run -d --name redis -p 6379:6379 -v redis_data:/data --restart unless-stopped redis:8.0.0 redis-server --search-workers 6"
      ]
    },
    {
      "cell_type": "markdown",
      "metadata": {},
      "source": [
        "### Configuration Class & Redis Connection\n",
        "\n",
        "We'll define our benchmark configuration. Note that for multiprocessing, we don't use connection pooling since each process will create its own Redis client."
      ]
    },
    {
      "cell_type": "code",
      "execution_count": 4,
      "metadata": {},
      "outputs": [],
      "source": [
        "# Benchmark configuration\n",
        "@dataclass\n",
        "class BenchmarkConfig:\n",
        "    # Redis settings\n",
        "    redis_host: str = \"localhost\"\n",
        "    redis_port: int = 6379\n",
        "    redis_password: Optional[str] = None\n",
        "    \n",
        "    # Index settings\n",
        "    index_name: str = \"benchmark_index\"\n",
        "    vector_dim: int = 768\n",
        "    distance_metric: str = \"cosine\"\n",
        "    algorithm: str = \"hnsw\"  # flat or hnsw\n",
        "    \n",
        "    # Data settings\n",
        "    data_size: int = 500000\n",
        "    batch_size: int = 1000\n",
        "    query_count: int = 10000\n",
        "    num_results: int = 5\n",
        "    \n",
        "    # Multiprocessing settings\n",
        "    workers: int = 10\n",
        "    mp_start_method: str = \"fork\""
      ]
    },
    {
      "cell_type": "code",
      "execution_count": 5,
      "metadata": {},
      "outputs": [],
      "source": [
        "def create_redis_client(config: BenchmarkConfig) -> redis.Redis:\n",
        "    return redis.Redis(\n",
        "        host=config.redis_host,\n",
        "        port=config.redis_port,\n",
        "        password=config.redis_password,\n",
        "    )"
      ]
    },
    {
      "cell_type": "markdown",
      "metadata": {},
      "source": [
        "### Core Utility Classes\n",
        "\n",
        "Next, we'll define our core utilities: a vector generator for creating test data and a timing context manager."
      ]
    },
    {
      "cell_type": "code",
      "execution_count": 6,
      "metadata": {},
      "outputs": [],
      "source": [
        "class VectorGenerator:\n",
        "    \"\"\"Generate normalized random vectors for testing\"\"\"\n",
        "    def __init__(self, dimension: int, seed: int = 42):\n",
        "        self.dimension = dimension\n",
        "        np.random.seed(seed)\n",
        "    \n",
        "    def generate_vectors(self, count: int) -> np.ndarray:\n",
        "        \"\"\"Generate normalized random vectors\"\"\"\n",
        "        vectors = np.random.randn(count, self.dimension).astype(np.float32)\n",
        "        return vectors"
      ]
    },
    {
      "cell_type": "code",
      "execution_count": 7,
      "metadata": {},
      "outputs": [],
      "source": [
        "@contextmanager\n",
        "def timer(name: Optional[str] = None):\n",
        "    \"\"\"Unified context manager for timing operations\n",
        "    \n",
        "    Usage:\n",
        "        # Auto-logging version:\n",
        "        with timer(\"Test data generation\"):\n",
        "            # do work\n",
        "        \n",
        "        # Get elapsed time version:\n",
        "        with timer() as elapsed:\n",
        "            # do work\n",
        "        total_time = elapsed()\n",
        "        \n",
        "        # Both (log + get time):\n",
        "        with timer(\"Loading data\") as elapsed:\n",
        "            # do work\n",
        "        throughput = ops / elapsed()\n",
        "    \"\"\"\n",
        "    start_time = time.perf_counter()\n",
        "    elapsed = lambda: time.perf_counter() - start_time\n",
        "    \n",
        "    try:\n",
        "        yield elapsed\n",
        "    finally:\n",
        "        if name:\n",
        "            print(f\"⏱️ {name}: {elapsed():.2f}s\")"
      ]
    },
    {
      "cell_type": "markdown",
      "metadata": {},
      "source": [
        "### Index Management Functions\n",
        "\n",
        "Now we'll define functions to create and manage our Redis vector search index using RedisVL schemas."
      ]
    },
    {
      "cell_type": "code",
      "execution_count": 8,
      "metadata": {},
      "outputs": [],
      "source": [
        "def create_index_schema(config: BenchmarkConfig) -> IndexSchema:\n",
        "    \"\"\"Create RedisVL index schema\"\"\"\n",
        "    schema_dict = {\n",
        "        \"index\": {\n",
        "            \"name\": config.index_name,\n",
        "            \"prefix\": f\"{config.index_name}:\",\n",
        "            \"storage_type\": \"hash\"\n",
        "        },\n",
        "        \"fields\": [\n",
        "            {\n",
        "                \"name\": \"vector\",\n",
        "                \"type\": \"vector\",\n",
        "                \"attrs\": {\n",
        "                    \"dims\": config.vector_dim,\n",
        "                    \"distance_metric\": config.distance_metric,\n",
        "                    \"algorithm\": config.algorithm,\n",
        "                    \"datatype\": \"float32\",\n",
        "                    \"initial_cap\": config.data_size\n",
        "                }\n",
        "            },\n",
        "            {\"name\": \"id\", \"type\": \"text\"},\n",
        "            {\"name\": \"metadata\", \"type\": \"text\"}\n",
        "        ]\n",
        "    }\n",
        "    return IndexSchema.from_dict(schema_dict)\n",
        "\n",
        "def setup_index(config: BenchmarkConfig, redis_client: redis.Redis) -> SearchIndex:\n",
        "    \"\"\"Create and return search index using provided Redis client\"\"\"\n",
        "    schema = create_index_schema(config)\n",
        "    search_index = SearchIndex(schema, redis_client)\n",
        "    search_index.create(overwrite=True)\n",
        "    print(f\"✅ Created index: {config.index_name} ({config.algorithm}, {config.vector_dim}D)\")\n",
        "    return search_index"
      ]
    },
    {
      "cell_type": "markdown",
      "metadata": {},
      "source": [
        "### Multiprocessing Worker Functions\n",
        "\n",
        "Here we define the worker functions and initialization for multiprocessing. Each process will have its own Redis client."
      ]
    },
    {
      "cell_type": "code",
      "execution_count": 9,
      "metadata": {},
      "outputs": [],
      "source": [
        "# Global variables for multiprocessing workers\n",
        "_redis_client = None\n",
        "_search_index = None\n",
        "_config = None\n",
        "\n",
        "def init_worker(config_dict: dict):\n",
        "    \"\"\"Initialize Redis connection and search index in each worker process\n",
        "    \n",
        "    Each process needs its own Redis client - cannot share across processes.\n",
        "    \"\"\"\n",
        "    global _redis_client, _search_index, _config\n",
        "    \n",
        "    # Reconstruct config from dict\n",
        "    _config = BenchmarkConfig(**config_dict)\n",
        "    \n",
        "    # Create Redis client for this process (process-local)\n",
        "    _redis_client = create_redis_client(_config)\n",
        "    \n",
        "    # Create search index with process-local client\n",
        "    _search_index = SearchIndex(create_index_schema(_config), _redis_client)"
      ]
    },
    {
      "cell_type": "markdown",
      "metadata": {},
      "source": [
        "### Data Loading Functions\n",
        "\n",
        "Here we define both sequential and multiprocessing data loading functions."
      ]
    },
    {
      "cell_type": "code",
      "execution_count": 10,
      "metadata": {},
      "outputs": [],
      "source": [
        "def load_batch_worker(\n",
        "    batch_data: List[Tuple[int, np.ndarray]], \n",
        "    redis_client: Optional[redis.Redis] = None, \n",
        "    config: Optional[BenchmarkConfig] = None\n",
        ") -> Tuple[int, float]:\n",
        "    \"\"\"Load a batch of vectors using Redis pipeline (worker function)\n",
        "    \n",
        "    For sequential: uses passed redis_client (shared)\n",
        "    For parallel: uses global _redis_client (process-local)\n",
        "    \"\"\"\n",
        "    # Use passed parameters (sequential) or fall back to globals (multiprocessing)\n",
        "    client = redis_client or _redis_client\n",
        "    cfg = config or _config\n",
        "    \n",
        "    with timer() as elapsed:\n",
        "        with client.pipeline(transaction=False) as pipe:\n",
        "            for doc_id, vector in batch_data:\n",
        "                pipe.hset(f\"{cfg.index_name}:{doc_id}\", mapping={\n",
        "                    \"vector\": vector.tobytes(),\n",
        "                    \"id\": f\"doc_{doc_id}\",\n",
        "                    \"metadata\": f\"document_{doc_id}\"\n",
        "                })\n",
        "            pipe.execute()\n",
        "    elapsed_ms = elapsed() * 1000\n",
        "    return len(batch_data), elapsed_ms\n",
        "\n",
        "# Wrapper functions for multiprocessing (needed for pickling)\n",
        "def load_batch_worker_mp(batch_data: List[Tuple[int, np.ndarray]]) -> Tuple[int, float]:\n",
        "    \"\"\"Multiprocessing wrapper for load_batch_worker\"\"\"\n",
        "    return load_batch_worker(batch_data)"
      ]
    },
    {
      "cell_type": "code",
      "execution_count": 11,
      "metadata": {},
      "outputs": [],
      "source": [
        "def run_loading_benchmark(\n",
        "    config: BenchmarkConfig, \n",
        "    vectors: np.ndarray, \n",
        "    method: str = \"sequential\",\n",
        "    redis_client: Optional[redis.Redis] = None\n",
        ") -> Dict[str, Any]:\n",
        "    \"\"\"Run loading benchmark using specified method\n",
        "    \n",
        "    Args:\n",
        "        redis_client: For sequential execution, reuse this client\n",
        "    \"\"\"\n",
        "    \n",
        "    if method == \"sequential\":\n",
        "        print(f\"📥 Loading {len(vectors):,} vectors (sequential)...\")\n",
        "        \n",
        "        # Create batches\n",
        "        batches = []\n",
        "        for i in range(0, len(vectors), config.batch_size):\n",
        "            batch_vectors = vectors[i:i + config.batch_size]\n",
        "            batch_data = [(i + j, batch_vectors[j]) for j in range(len(batch_vectors))]\n",
        "            batches.append(batch_data)\n",
        "        \n",
        "        # Execute batches sequentially using shared client\n",
        "        with timer() as elapsed:\n",
        "            for batch_data in tqdm(batches, desc=\"Loading\"):\n",
        "                batch_size, _ = load_batch_worker(batch_data, redis_client, config)\n",
        "        \n",
        "        total_loaded = len(vectors)\n",
        "        total_time = elapsed()\n",
        "        \n",
        "    elif method == \"multiprocess\":\n",
        "        print(f\"📥 Loading {len(vectors):,} vectors ({config.workers} processes)...\")\n",
        "        \n",
        "        # Create batches for parallel processing\n",
        "        batches = []\n",
        "        for i in range(0, len(vectors), config.batch_size):\n",
        "            batch_vectors = vectors[i:i + config.batch_size]\n",
        "            batch_data = [(i + j, batch_vectors[j]) for j in range(len(batch_vectors))]\n",
        "            batches.append(batch_data)\n",
        "        \n",
        "        ctx = get_context(config.mp_start_method)\n",
        "        config_dict = config.__dict__\n",
        "        \n",
        "        with timer() as elapsed:\n",
        "            # Each process will create its own Redis client via init_worker\n",
        "            with ctx.Pool(\n",
        "                processes=config.workers,\n",
        "                initializer=init_worker,\n",
        "                initargs=(config_dict,)\n",
        "            ) as pool:\n",
        "                results = list(tqdm(\n",
        "                    pool.imap_unordered(load_batch_worker_mp, batches),\n",
        "                    total=len(batches),\n",
        "                    desc=\"Loading\"\n",
        "                ))\n",
        "        \n",
        "        total_time = elapsed()\n",
        "        # Process results: (batch_size, latency_ms) tuples\n",
        "        total_loaded = sum(batch_size for batch_size, _ in results)\n",
        "    \n",
        "    return {\n",
        "        \"total_time\": total_time,\n",
        "        \"throughput\": total_loaded / total_time,\n",
        "        \"total_ops\": total_loaded,\n",
        "        \"success_rate\": 100.0\n",
        "    }"
      ]
    },
    {
      "cell_type": "markdown",
      "metadata": {},
      "source": [
        "### Query Execution Functions\n",
        "\n",
        "Now we'll define our query execution functions for both sequential and multiprocessing approaches."
      ]
    },
    {
      "cell_type": "code",
      "execution_count": 12,
      "metadata": {},
      "outputs": [],
      "source": [
        "def query_worker(\n",
        "    query_vector: np.ndarray,\n",
        "    search_index: Optional[SearchIndex] = None,\n",
        "    config: Optional[BenchmarkConfig] = None\n",
        ") -> Tuple[bool, float]:\n",
        "    \"\"\"Execute a single vector search query (worker function)\n",
        "    \n",
        "    For sequential: uses passed search_index (shared client)\n",
        "    For parallel: uses global _search_index (process-local client)\n",
        "    \"\"\"\n",
        "    # Use passed parameters (sequential) or fall back to globals (multiprocessing)\n",
        "    index = search_index or _search_index\n",
        "    cfg = config or _config\n",
        "    \n",
        "    try:\n",
        "        with timer() as elapsed:\n",
        "            query = VectorQuery(\n",
        "                vector=query_vector,\n",
        "                vector_field_name=\"vector\",\n",
        "                num_results=cfg.num_results,\n",
        "                return_score=True\n",
        "            )\n",
        "            results = index.query(query)\n",
        "        elapsed_ms = elapsed() * 1000\n",
        "        return True, elapsed_ms\n",
        "    except Exception as e:\n",
        "        print(f\"Query failed: {e}\")\n",
        "        return False, 0.0\n",
        "\n",
        "# Wrapper functions for multiprocessing (needed for pickling)\n",
        "def query_worker_mp(query_vector: np.ndarray) -> Tuple[bool, float]:\n",
        "    \"\"\"Multiprocessing wrapper for query_worker\"\"\"\n",
        "    return query_worker(query_vector)"
      ]
    },
    {
      "cell_type": "code",
      "execution_count": 13,
      "metadata": {},
      "outputs": [],
      "source": [
        "def run_query_benchmark(\n",
        "    config: BenchmarkConfig, \n",
        "    query_vectors: np.ndarray,\n",
        "    method: str = \"sequential\",\n",
        "    search_index: Optional[SearchIndex] = None\n",
        ") -> Dict[str, Any]:\n",
        "    \"\"\"Run query benchmark using specified method\n",
        "    \n",
        "    Args:\n",
        "        search_index: For sequential execution, reuse this index (with shared client)\n",
        "    \"\"\"\n",
        "    \n",
        "    if method == \"sequential\":\n",
        "        print(f\"🔍 Executing {len(query_vectors):,} queries (sequential)...\")\n",
        "        latencies = []\n",
        "        failed_queries = 0\n",
        "        \n",
        "        with timer() as elapsed:\n",
        "            for query_vector in tqdm(query_vectors, desc=\"Querying\"):\n",
        "                success, latency_ms = query_worker(query_vector, search_index, config)\n",
        "                if success:\n",
        "                    latencies.append(latency_ms)\n",
        "                else:\n",
        "                    failed_queries += 1\n",
        "        \n",
        "        total_time = elapsed()\n",
        "        \n",
        "    elif method == \"multiprocess\":\n",
        "        print(f\"🔍 Executing {len(query_vectors):,} queries ({config.workers} processes)...\")\n",
        "        \n",
        "        ctx = get_context(config.mp_start_method)\n",
        "        config_dict = config.__dict__\n",
        "        \n",
        "        with timer() as elapsed:\n",
        "            # Each process will create its own Redis client and search index via init_worker\n",
        "            with ctx.Pool(\n",
        "                processes=config.workers,\n",
        "                initializer=init_worker,\n",
        "                initargs=(config_dict,)\n",
        "            ) as pool:\n",
        "                results = list(tqdm(\n",
        "                    pool.imap_unordered(query_worker_mp, query_vectors),\n",
        "                    total=len(query_vectors),\n",
        "                    desc=\"Querying\"\n",
        "                ))\n",
        "        \n",
        "        total_time = elapsed()\n",
        "        # Process results: (success, latency_ms) tuples\n",
        "        latencies = [latency for success, latency in results if success]\n",
        "        failed_queries = len([r for r in results if not r[0]])\n",
        "    \n",
        "    if latencies:\n",
        "        return {\n",
        "            \"total_time\": total_time,\n",
        "            \"qps\": len(latencies) / total_time,\n",
        "            \"avg_latency\": np.mean(latencies),\n",
        "            \"p95_latency\": np.percentile(latencies, 95),\n",
        "            \"p99_latency\": np.percentile(latencies, 99),\n",
        "            \"successful_queries\": len(latencies),\n",
        "            \"failed_queries\": failed_queries,\n",
        "            \"success_rate\": (len(latencies) / len(query_vectors)) * 100\n",
        "        }\n",
        "    else:\n",
        "        return {\"error\": \"No successful queries\"}"
      ]
    },
    {
      "cell_type": "markdown",
      "metadata": {},
      "source": [
        "---\n",
        "\n",
        "## Part 2: Benchmarking Execution\n",
        "\n",
        "Now that we have all our functions defined, let's run the actual benchmarks! We'll start by setting up our test environment and data."
      ]
    },
    {
      "cell_type": "markdown",
      "metadata": {},
      "source": [
        "### Initialize Environment\n",
        "\n",
        "Let's test our Redis connection, generate test vectors, and create our search index."
      ]
    },
    {
      "cell_type": "code",
      "execution_count": 14,
      "metadata": {},
      "outputs": [
        {
          "name": "stdout",
          "output_type": "stream",
          "text": [
            "📊 Configuration: 500,000 vectors, 768D, 10 processes\n",
            "✅ Connected to Redis 8.0.0\n",
            "   Memory: 498.52M used\n",
            "✅ Created index: benchmark_index (hnsw, 768D)\n"
          ]
        }
      ],
      "source": [
        "# Initialize configuration (you can modify these values as needed)\n",
        "config = BenchmarkConfig()\n",
        "print(f\"📊 Configuration: {config.data_size:,} vectors, {config.vector_dim}D, {config.workers} processes\")\n",
        "\n",
        "# Create Redis client\n",
        "try:\n",
        "    redis_client = create_redis_client(config)\n",
        "    redis_client.ping()\n",
        "    info = redis_client.info()\n",
        "    print(f\"✅ Connected to Redis {info['redis_version']}\")\n",
        "    print(f\"   Memory: {info['used_memory_human']} used\")\n",
        "    \n",
        "    # Clear any existing data and create fresh index using shared client\n",
        "    redis_client.flushdb()\n",
        "    search_index = setup_index(config, redis_client)\n",
        "except Exception as e:\n",
        "    print(f\"❌ Redis connection failed: {e}\")\n",
        "    raise"
      ]
    },
    {
      "cell_type": "markdown",
      "metadata": {},
      "source": [
        "Initialize vector generator and create test/query vector data based on config."
      ]
    },
    {
      "cell_type": "code",
      "execution_count": 15,
      "metadata": {},
      "outputs": [
        {
          "name": "stdout",
          "output_type": "stream",
          "text": [
            "⏱️ Test data generation: 5.10s\n",
            "📊 Generated 500,000 test vectors (1464.8 MB)\n",
            "🔍 Generated 10,000 query vectors for testing\n"
          ]
        }
      ],
      "source": [
        "# Generate test data\n",
        "with timer(\"Test data generation\"):\n",
        "    vector_gen = VectorGenerator(config.vector_dim)\n",
        "    test_vectors = vector_gen.generate_vectors(config.data_size)\n",
        "    query_vectors = vector_gen.generate_vectors(config.query_count)\n",
        "\n",
        "print(f\"📊 Generated {len(test_vectors):,} test vectors ({test_vectors.nbytes / 1024 / 1024:.1f} MB)\")\n",
        "print(f\"🔍 Generated {len(query_vectors):,} query vectors for testing\")"
      ]
    },
    {
      "cell_type": "markdown",
      "metadata": {},
      "source": [
        "### Data Loading Benchmark\n",
        "\n",
        "Now let's compare sequential vs multiprocessing data loading performance."
      ]
    },
    {
      "cell_type": "code",
      "execution_count": 16,
      "metadata": {},
      "outputs": [
        {
          "name": "stdout",
          "output_type": "stream",
          "text": [
            "🔬 Data Loading Performance Comparison\n",
            "\n",
            "=== Sequential Loading ===\n",
            "📥 Loading 500,000 vectors (sequential)...\n"
          ]
        },
        {
          "name": "stderr",
          "output_type": "stream",
          "text": [
            "Loading: 100%|██████████| 500/500 [03:18<00:00,  2.52it/s]\n"
          ]
        },
        {
          "name": "stdout",
          "output_type": "stream",
          "text": [
            "⏱️ Sequential loading: 198.16s\n",
            "Results: 2524.4 ops/sec\n",
            "✅ Created index: benchmark_index (hnsw, 768D)\n",
            "\n",
            "=== Multi-process Loading ===\n",
            "📥 Loading 500,000 vectors (10 processes)...\n"
          ]
        },
        {
          "name": "stderr",
          "output_type": "stream",
          "text": [
            "Loading: 100%|██████████| 500/500 [03:19<00:00,  2.51it/s]\n"
          ]
        },
        {
          "name": "stdout",
          "output_type": "stream",
          "text": [
            "⏱️ Multi-process loading: 199.70s\n",
            "Results: 2505.2 ops/sec\n",
            "\n",
            "🚀 Loading Performance:\n",
            "   1.0x faster with 10 processes\n",
            "   Time saved: -0.8%\n",
            "⏱️ Redis indexing: 3.01s\n",
            "✅ Index ready: 500,000 documents indexed\n"
          ]
        }
      ],
      "source": [
        "print(\"🔬 Data Loading Performance Comparison\\n\")\n",
        "\n",
        "# Sequential loading benchmark\n",
        "print(\"=== Sequential Loading ===\")\n",
        "with timer(\"Sequential loading\"):\n",
        "    # Pass shared Redis client to avoid creating new connections\n",
        "    sequential_load_stats = run_loading_benchmark(config, test_vectors, \"sequential\", redis_client)\n",
        "print(f\"Results: {sequential_load_stats['throughput']:.1f} ops/sec\")\n",
        "\n",
        "# Reset for multi-process test (reuse same client and index)\n",
        "redis_client.flushdb()\n",
        "search_index = setup_index(config, redis_client)\n",
        "\n",
        "print(\"\\n=== Multi-process Loading ===\")\n",
        "with timer(\"Multi-process loading\"):\n",
        "    # Multiprocessing will create separate clients per process\n",
        "    multiprocess_load_stats = run_loading_benchmark(config, test_vectors, \"multiprocess\")\n",
        "print(f\"Results: {multiprocess_load_stats['throughput']:.1f} ops/sec\")\n",
        "\n",
        "# Calculate loading performance improvement\n",
        "loading_speedup = multiprocess_load_stats['throughput'] / sequential_load_stats['throughput']\n",
        "loading_time_reduction = (sequential_load_stats['total_time'] - multiprocess_load_stats['total_time']) / sequential_load_stats['total_time'] * 100\n",
        "\n",
        "print(f\"\\n🚀 Loading Performance:\")\n",
        "print(f\"   {loading_speedup:.1f}x faster with {config.workers} processes\")\n",
        "print(f\"   Time saved: {loading_time_reduction:.1f}%\")\n",
        "\n",
        "# Wait for indexing to complete\n",
        "with timer(\"Redis indexing\"):\n",
        "    time.sleep(3)\n",
        "    index_info = search_index.info()\n",
        "print(f\"✅ Index ready: {index_info.get('num_docs', 0):,} documents indexed\")"
      ]
    },
    {
      "cell_type": "markdown",
      "metadata": {},
      "source": [
        "Even though we used multiple processes to load from the client-side, the limitation here is actually the redis server indicating we would need to shard out the db in a clustered environment (Redis Cloud or Redis Enterprise Software). With additional shards, the write throughput will improve linearly."
      ]
    },
    {
      "cell_type": "markdown",
      "metadata": {},
      "source": [
        "### Query Performance Benchmark\n",
        "\n",
        "Now let's test query performance comparing sequential vs multiprocessing execution."
      ]
    },
    {
      "cell_type": "code",
      "execution_count": 17,
      "metadata": {},
      "outputs": [
        {
          "name": "stdout",
          "output_type": "stream",
          "text": [
            "\n",
            "🔬 Query Performance Comparison\n",
            "\n",
            "=== Sequential Queries ===\n",
            "🔍 Executing 10,000 queries (sequential)...\n"
          ]
        },
        {
          "name": "stderr",
          "output_type": "stream",
          "text": [
            "Querying: 100%|██████████| 10000/10000 [00:11<00:00, 883.63it/s]"
          ]
        },
        {
          "name": "stdout",
          "output_type": "stream",
          "text": [
            "⏱️ Sequential queries: 11.33s\n",
            "Results: 883.4 QPS, 1.11ms avg\n",
            "\n",
            "=== Multi-process Queries ===\n",
            "🔍 Executing 10,000 queries (10 processes)...\n"
          ]
        },
        {
          "name": "stderr",
          "output_type": "stream",
          "text": [
            "\n",
            "Querying: 100%|██████████| 10000/10000 [00:01<00:00, 9130.64it/s]"
          ]
        },
        {
          "name": "stdout",
          "output_type": "stream",
          "text": [
            "⏱️ Multi-process queries: 1.16s\n",
            "Results: 8663.6 QPS, 1.05ms avg\n",
            "\n",
            "🚀 Query Performance:\n",
            "   9.8x faster with 10 processes\n",
            "   Time saved: 89.8%\n"
          ]
        },
        {
          "name": "stderr",
          "output_type": "stream",
          "text": [
            "\n"
          ]
        }
      ],
      "source": [
        "print(\"\\n🔬 Query Performance Comparison\")\n",
        "\n",
        "print(\"\\n=== Sequential Queries ===\")\n",
        "with timer(\"Sequential queries\"):\n",
        "    # Pass shared search index to avoid creating new connections\n",
        "    sequential_query_stats = run_query_benchmark(config, query_vectors, \"sequential\", search_index)\n",
        "if \"error\" not in sequential_query_stats:\n",
        "    print(f\"Results: {sequential_query_stats['qps']:.1f} QPS, {sequential_query_stats['avg_latency']:.2f}ms avg\")\n",
        "\n",
        "print(\"\\n=== Multi-process Queries ===\")\n",
        "with timer(\"Multi-process queries\"):\n",
        "    # Multiprocessing will create separate clients per process\n",
        "    multiprocess_query_stats = run_query_benchmark(config, query_vectors, \"multiprocess\")\n",
        "if \"error\" not in multiprocess_query_stats:\n",
        "    print(f\"Results: {multiprocess_query_stats['qps']:.1f} QPS, {multiprocess_query_stats['avg_latency']:.2f}ms avg\")\n",
        "    \n",
        "    # Calculate query performance improvement\n",
        "    query_speedup = multiprocess_query_stats['qps'] / sequential_query_stats['qps']\n",
        "    query_time_reduction = (sequential_query_stats['total_time'] - multiprocess_query_stats['total_time']) / sequential_query_stats['total_time'] * 100\n",
        "    \n",
        "    print(f\"\\n🚀 Query Performance:\")\n",
        "    print(f\"   {query_speedup:.1f}x faster with {config.workers} processes\")\n",
        "    print(f\"   Time saved: {query_time_reduction:.1f}%\")"
      ]
    },
    {
      "cell_type": "markdown",
      "metadata": {},
      "source": [
        "The near 10x improvement in search throughput as we scale client-side processes indicates we haven't fully saturated the Redis server! Additional throughput can be achieved on Redis Cloud / Redis Enterprise Software with additional QPF (search threads) and sharding as the data volume grows. The best solution is a healthy balance of horozontal and vertical scale.\n",
        "\n",
        "[Read more about benchmarking techniques and Redis query engine architecture.](https://redis.io/blog/benchmarking-results-for-vector-databases/)"
      ]
    },
    {
      "cell_type": "markdown",
      "metadata": {},
      "source": [
        "### Performance Analysis & Visualization\n",
        "\n",
        "Let's analyze our results and create visualizations to better understand the performance improvements."
      ]
    },
    {
      "cell_type": "code",
      "execution_count": 18,
      "metadata": {},
      "outputs": [
        {
          "name": "stdout",
          "output_type": "stream",
          "text": [
            "\n",
            "📊 Summary:\n",
            "   Loading: 2524 → 2505 ops/sec (1.0x)\n",
            "   Queries: 883 → 8664 QPS (9.8x)\n",
            "   Total time: 209.4s → 200.7s\n",
            "   Peak QPS: 8664 queries/second\n"
          ]
        }
      ],
      "source": [
        "# Performance Summary\n",
        "if \"error\" not in sequential_query_stats and \"error\" not in multiprocess_query_stats:\n",
        "    print(f\"\\n📊 Summary:\")\n",
        "    print(f\"   Loading: {sequential_load_stats['throughput']:.0f} → {multiprocess_load_stats['throughput']:.0f} ops/sec ({loading_speedup:.1f}x)\")\n",
        "    print(f\"   Queries: {sequential_query_stats['qps']:.0f} → {multiprocess_query_stats['qps']:.0f} QPS ({query_speedup:.1f}x)\")\n",
        "    print(f\"   Total time: {sequential_load_stats['total_time'] + sequential_query_stats['total_time']:.1f}s → {multiprocess_load_stats['total_time'] + multiprocess_query_stats['total_time']:.1f}s\")\n",
        "    print(f\"   Peak QPS: {multiprocess_query_stats['qps']:.0f} queries/second\")"
      ]
    },
    {
      "cell_type": "code",
      "execution_count": 19,
      "metadata": {},
      "outputs": [
        {
          "name": "stdout",
          "output_type": "stream",
          "text": [
            "📊 Performance Summary:\n",
            "     Operation        Method  Throughput  Avg_Latency_ms  P95_Latency_ms\n",
            "  Data Loading    Sequential 2524.440444        0.000000        0.000000\n",
            "  Data Loading Multi-process 2505.225020        0.000000        0.000000\n",
            "Vector Queries    Sequential  883.366387        1.107922        1.701246\n",
            "Vector Queries Multi-process 8663.586546        1.048395        1.746423\n"
          ]
        }
      ],
      "source": [
        "# Create comprehensive performance comparison\n",
        "perf_data = {\n",
        "    'Operation': ['Data Loading', 'Data Loading', 'Vector Queries', 'Vector Queries'],\n",
        "    'Method': ['Sequential', 'Multi-process', 'Sequential', 'Multi-process'],\n",
        "    'Throughput': [sequential_load_stats['throughput'], multiprocess_load_stats['throughput'], \n",
        "                   sequential_query_stats['qps'], multiprocess_query_stats['qps']],\n",
        "    'Avg_Latency_ms': [0, 0,  # Loading doesn't track individual latencies\n",
        "                       sequential_query_stats['avg_latency'], multiprocess_query_stats['avg_latency']],\n",
        "    'P95_Latency_ms': [0, 0,  # Loading doesn't track individual latencies\n",
        "                       sequential_query_stats['p95_latency'], multiprocess_query_stats['p95_latency']]\n",
        "}\n",
        "\n",
        "df = pd.DataFrame(perf_data)\n",
        "print(\"📊 Performance Summary:\")\n",
        "print(df.to_string(index=False))"
      ]
    },
    {
      "cell_type": "code",
      "execution_count": 20,
      "metadata": {},
      "outputs": [
        {
          "data": {
            "image/png": "[encoded data removed]",
            "text/plain": [
              "<Figure size 1200x800 with 4 Axes>"
            ]
          },
          "metadata": {},
          "output_type": "display_data"
        },
        {
          "name": "stdout",
          "output_type": "stream",
          "text": [
            "\n",
            "⚡ Overall Benchmark Results:\n",
            "   Total time (sequential): 209.38s\n",
            "   Total time (multi-process): 200.74s\n",
            "   Overall speedup: 1.0x faster with multiprocessing\n",
            "   Data processed: 500,000 vectors loaded, 10,000 queries executed\n",
            "   Peak QPS achieved: 8664 queries/second\n"
          ]
        }
      ],
      "source": [
        "# Create performance visualization\n",
        "fig, ((ax1, ax2), (ax3, ax4)) = plt.subplots(2, 2, figsize=(12, 8))\n",
        "\n",
        "# Throughput comparisons\n",
        "loading_throughput = df[df['Operation'] == 'Data Loading']['Throughput']\n",
        "query_throughput = df[df['Operation'] == 'Vector Queries']['Throughput']\n",
        "\n",
        "ax1.bar(['Sequential', 'Multi-process'], loading_throughput, color=['lightcoral', 'lightblue'])\n",
        "ax1.set_title('Data Loading Throughput (ops/sec)')\n",
        "ax1.set_ylabel('Operations/second')\n",
        "\n",
        "ax2.bar(['Sequential', 'Multi-process'], query_throughput, color=['lightcoral', 'lightblue'])\n",
        "ax2.set_title('Query Throughput (QPS)')\n",
        "ax2.set_ylabel('Queries/second')\n",
        "\n",
        "# Latency comparisons (only for queries)\n",
        "query_avg_latency = df[df['Operation'] == 'Vector Queries']['Avg_Latency_ms']\n",
        "query_p95_latency = df[df['Operation'] == 'Vector Queries']['P95_Latency_ms']\n",
        "\n",
        "ax3.bar(['Sequential', 'Multi-process'], query_avg_latency, color=['lightcoral', 'lightblue'])\n",
        "ax3.set_title('Query Average Latency (ms)')\n",
        "ax3.set_ylabel('Latency (ms)')\n",
        "\n",
        "ax4.bar(['Sequential', 'Multi-process'], query_p95_latency, color=['lightcoral', 'lightblue'])\n",
        "ax4.set_title('Query P95 Latency (ms)')\n",
        "ax4.set_ylabel('Latency (ms)')\n",
        "\n",
        "plt.tight_layout()\n",
        "plt.show()\n",
        "\n",
        "# Calculate overall performance gains\n",
        "total_sequential_time = sequential_load_stats['total_time'] + sequential_query_stats['total_time']\n",
        "total_multiprocess_time = multiprocess_load_stats['total_time'] + multiprocess_query_stats['total_time']\n",
        "overall_speedup = total_sequential_time / total_multiprocess_time\n",
        "\n",
        "print(f\"\\n⚡ Overall Benchmark Results:\")\n",
        "print(f\"   Total time (sequential): {total_sequential_time:.2f}s\")\n",
        "print(f\"   Total time (multi-process): {total_multiprocess_time:.2f}s\")\n",
        "print(f\"   Overall speedup: {overall_speedup:.1f}x faster with multiprocessing\")\n",
        "print(f\"   Data processed: {config.data_size:,} vectors loaded, {config.query_count:,} queries executed\")\n",
        "print(f\"   Peak QPS achieved: {multiprocess_query_stats['qps']:.0f} queries/second\")"
      ]
    },
    {
      "cell_type": "markdown",
      "metadata": {},
      "source": [
        "## 🚀 Quick Summary & Best Practices\n",
        "\n",
        "**What did we learn?**\n",
        "- 🧵 Multi-process loading bypasses Python's GIL for true parallelism.\n",
        "- Query speedups depend on your Redis server's CPU & network.\n",
        "- Each process gets its own Redis connection for safe parallel access.\n",
        "\n",
        "**Metrics to watch:**\n",
        "- **QPS** (Queries/sec): Main throughput stat\n",
        "- **P95/P99 Latency**: Key for user experience\n",
        "- **Success Rate**: Should stay >99%\n",
        "- **Memory Usage**: Keep an eye on Redis RAM\n",
        "\n",
        "**Performance factors:**\n",
        "- More CPU cores = more workers = more speed (up to a point)\n",
        "- Network can bottleneck with big vectors\n",
        "- Redis needs enough RAM for all your data\n",
        "- Persistence (AOF/RDB) can slow down writes\n",
        " \n",
        "**Redis options:**\n",
        "- OSS: Free, single-threaded, good for dev/test\n",
        "- Enterprise/Cloud: Multi-threaded, clustering, auto-scaling 🚦\n",
        " \n",
        "**Top tips:**\n",
        "1. Match worker count to CPU cores, then tune\n",
        "2. Batch ops for speed, but watch memory on client-side\n",
        "3. Pick the right index for the use case: FLAT (exact), HNSW (fast/approx)\n",
        "4. Higher vector dims = more RAM, slower queries\n",
        "5. Be aware of networking bottlenecks and serialization overhead\n",
        "\n",
        "**Next steps:**\n",
        "- Benchmark with your real data & queries\n",
        "- Benchmark in a production / cloud environment using VPC peering\n",
        "- Test concurrency that matches your app\n",
        "- Monitor memory, CPU, and QPS\n",
        "- Plan for growth 📈\n",
        "\n",
        "**More info:**\n",
        "- [RedisVL Docs](https://docs.redisvl.com)\n",
        "- [Redis Optimization](https://redis.io/docs/operate/oss_and_stack/management/optimization/)\n",
        "- [Benchmarking Blog](https://redis.io/blog/benchmarking-results-for-vector-databases/)\n",
        "\n",
        "---\n",
        "\n",
        "🎉 **Congrats!** You're ready to benchmark and tune Redis query engine with RedisVL. Use these tips to get the best performance for your app!"
      ]
    }
  ],
  "metadata": {
    "kernelspec": {
      "display_name": ".venv",
      "language": "python",
      "name": "python3"
    },
    "language_info": {
      "codemirror_mode": {
        "name": "ipython",
        "version": 3
      },
      "file_extension": ".py",
      "mimetype": "text/x-python",
      "name": "python",
      "nbconvert_exporter": "python",
      "pygments_lexer": "ipython3",
      "version": "3.11.11"
    }
  },
  "nbformat": 4,
  "nbformat_minor": 4
}
