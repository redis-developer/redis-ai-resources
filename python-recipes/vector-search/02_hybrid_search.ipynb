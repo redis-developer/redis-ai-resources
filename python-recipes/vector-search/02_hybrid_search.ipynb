{
 "cells": [
  {
   "cell_type": "markdown",
   "metadata": {},
   "source": [
    "![Redis](https://redis.io/wp-content/uploads/2024/04/Logotype.svg?auto=webp&quality=85,75&width=120)\n",
    "# Implementing hybrid search with Redis\n",
    "\n",
    "Hybrid search is all about combining lexical search with semantic vector search to improve result relevancy. This notebook will cover 3 different hybrid search strategies with Redis:\n",
    "\n",
    "1. Linear combination of scores from lexical search (BM25) and vector search (Cosine Distance) with the aggregation API\n",
    "2. Client-Side Reciprocal Rank Fusion (RRF)\n",
    "3. Client-Side Reranking with a cross encoder model\n",
    "\n",
    ">Note: Additional work is planed within the Redis core and ecosystem to add more flexible hybrid search capabilities in the future.\n",
    "\n",
    "## Let's Begin!\n",
    "<a href=\"https://colab.research.google.com/github/redis-developer/redis-ai-resources/blob/main/python-recipes/vector-search/02_hybrid_search.ipynb\" target=\"_parent\"><img src=\"https://colab.research.google.com/assets/colab-badge.svg\" alt=\"Open In Colab\"/></a>\n"
   ]
  },
  {
   "cell_type": "markdown",
   "metadata": {},
   "source": [
    "### Install Packages"
   ]
  },
  {
   "cell_type": "code",
   "execution_count": null,
   "metadata": {},
   "outputs": [],
   "source": [
    "%pip install -q \"redisvl>=0.4.1\" sentence-transformers pandas \"redis>=5.2.0\""
   ]
  },
  {
   "cell_type": "markdown",
   "metadata": {},
   "source": [
    "### Data/Index Preparation\n",
    " \n",
    "In this section:\n",
    "\n",
    "1. We prepare the data necessary for our hybrid search implementations by loading a collection of movies. Each movie object contains the following attributes:\n",
    "    - `title`\n",
    "    - `rating`\n",
    "    - `description`\n",
    "    - `genre`\n",
    " \n",
    "2. We generate vector embeddings from the movie descriptions. This allows users to perform searches that not only rely on exact matches but also on semantic relevance, helping them find movies that align closely with their interests.\n",
    "\n",
    "3. After preparing the data, we populate a search index with these movie records, enabling efficient querying based on both lexical and vector-based search techniques."
   ]
  },
  {
   "cell_type": "markdown",
   "metadata": {},
   "source": [
    "Running remotely or in collab? Run this cell to download the necessary dataset."
   ]
  },
  {
   "cell_type": "code",
   "execution_count": null,
   "metadata": {},
   "outputs": [],
   "source": [
    "# NBVAL_SKIP\n",
    "!git clone https://github.com/redis-developer/redis-ai-resources.git temp_repo\n",
    "!mv temp_repo/python-recipes/vector-search/resources .\n",
    "!rm -rf temp_repo"
   ]
  },
  {
   "cell_type": "markdown",
   "metadata": {},
   "source": [
    "### Install Redis Stack\n",
    "\n",
    "Later in this tutorial, Redis will be used to store, index, and query vector\n",
    "embeddings and full text fields. **We need to have a Redis\n",
    "instance available.**\n",
    "\n",
    "#### Local Redis\n",
    "Use the shell script below to download, extract, and install [Redis Stack](https://redis.io/docs/getting-started/install-stack/) directly from the Redis package archive."
   ]
  },
  {
   "cell_type": "code",
   "execution_count": null,
   "metadata": {},
   "outputs": [],
   "source": [
    "# NBVAL_SKIP\n",
    "%%sh\n",
    "curl -fsSL https://packages.redis.io/gpg | sudo gpg --dearmor -o /usr/share/keyrings/redis-archive-keyring.gpg\n",
    "echo \"deb [signed-by=/usr/share/keyrings/redis-archive-keyring.gpg] https://packages.redis.io/deb $(lsb_release -cs) main\" | sudo tee /etc/apt/sources.list.d/redis.list\n",
    "sudo apt-get update  > /dev/null 2>&1\n",
    "sudo apt-get install redis-stack-server  > /dev/null 2>&1\n",
    "redis-stack-server --daemonize yes"
   ]
  },
  {
   "cell_type": "markdown",
   "metadata": {},
   "source": [
    "#### Alternative Redis Access (Cloud, Docker, other)\n",
    "There are many ways to get the necessary redis-stack instance running\n",
    "1. On cloud, deploy a [FREE instance of Redis in the cloud](https://redis.com/try-free/). Or, if you have your\n",
    "own version of Redis Enterprise running, that works too!\n",
    "2. Per OS, [see the docs](https://redis.io/docs/latest/operate/oss_and_stack/install/install-stack/)\n",
    "3. With docker: `docker run -d --name redis-stack-server -p 6379:6379 redis/redis-stack-server:latest`"
   ]
  },
  {
   "cell_type": "markdown",
   "metadata": {},
   "source": [
    "### Define the Redis Connection URL\n",
    "\n",
    "By default this notebook connects to the local instance of Redis Stack. **If you have your own Redis Enterprise instance** - replace REDIS_PASSWORD, REDIS_HOST and REDIS_PORT values with your own."
   ]
  },
  {
   "cell_type": "code",
   "execution_count": 58,
   "metadata": {},
   "outputs": [],
   "source": [
    "import os\n",
    "import warnings\n",
    "\n",
    "warnings.filterwarnings('ignore')\n",
    "\n",
    "# Replace values below with your own if using Redis Cloud instance\n",
    "REDIS_HOST = os.getenv(\"REDIS_HOST\", \"localhost\") # ex: \"redis-18374.c253.us-central1-1.gce.cloud.redislabs.com\"\n",
    "REDIS_PORT = os.getenv(\"REDIS_PORT\", \"6379\")      # ex: 18374\n",
    "REDIS_PASSWORD = os.getenv(\"REDIS_PASSWORD\", \"\")  # ex: \"1TNxTEdYRDgIDKM2gDfasupCADXXXX\"\n",
    "\n",
    "# If SSL is enabled on the endpoint, use rediss:// as the URL prefix\n",
    "REDIS_URL = f\"redis://:{REDIS_PASSWORD}@{REDIS_HOST}:{REDIS_PORT}\""
   ]
  },
  {
   "cell_type": "markdown",
   "metadata": {},
   "source": [
    "### Create redis client, load data, generate embeddings"
   ]
  },
  {
   "cell_type": "code",
   "execution_count": 59,
   "metadata": {},
   "outputs": [],
   "source": [
    "from redis import Redis\n",
    "\n",
    "client = Redis.from_url(REDIS_URL)"
   ]
  },
  {
   "cell_type": "code",
   "execution_count": 60,
   "metadata": {},
   "outputs": [],
   "source": [
    "import json\n",
    "\n",
    "with open(\"resources/movies.json\", 'r') as file:\n",
    "    movies = json.load(file)"
   ]
  },
  {
   "cell_type": "code",
   "execution_count": 61,
   "metadata": {},
   "outputs": [],
   "source": [
    "from redisvl.utils.vectorize import HFTextVectorizer\n",
    "\n",
    "# load model for embedding our movie descriptions\n",
    "model = HFTextVectorizer('sentence-transformers/all-MiniLM-L6-v2')"
   ]
  },
  {
   "cell_type": "code",
   "execution_count": 62,
   "metadata": {},
   "outputs": [],
   "source": [
    "movie_data = [\n",
    "    {\n",
    "        **movie,\n",
    "        \"description_vector\": model.embed(movie[\"description\"], as_buffer=True, dtype=\"float32\")\n",
    "    } for movie in movies\n",
    "]"
   ]
  },
  {
   "cell_type": "code",
   "execution_count": 63,
   "metadata": {},
   "outputs": [
    {
     "data": {
      "text/plain": [
       "[{'title': 'Explosive Pursuit',\n",
       "  'genre': 'action',\n",
       "  'rating': 7,\n",
       "  'description': 'A daring cop chases a notorious criminal across the city in a high-stakes game of cat and mouse.',\n",
       "  'description_vector': b'\\x8bf|=\\xc3`\\n;\\xf2\\x91\\xb7;?\\xcb~\\xbd\\xdfd\\xce\\xbb\\xc7\\x16J=H\\xa7?=\\xdfv\\x95<h\\xfa\\x06\\xbe\\x11Y\\xcf=)\\x07p=E\\xdb\\r\\xbd\\x93\\xf2H\\xbdke\\xc6<@\\xdfa=o8\\x16\\xbc\\xf1\\xd3\\x13<8\\xaa\\x1c=\\x14\\xef\\x89<\\xc1\\xb0-<\\x9d\\xb2\\x9f\\xbc^\\x0b\\xc3\\xbd\\xa5NR=ol\\xf7\\xbcP>\\x17\\xbeA\\x1e\\x05\\xb9Hu\\xbf<B\\xe3b\\xba\\xd8\\xa6\\xa8\\xbd\\x98\\xdc\\xec\\xbc`c%=\\x81\\xe7r\\xbb$OG=:(\\x85=a@\\xa2\\xbc-Z\\xd0\\xbdB%K\\xbd\\xc8\\xed\\x94\\xbcW\\xddH=\\x8e&F<\\xde*\\xec<\\x8d\\xd8\\x8d\\xbd\\xbdZ\\x98<\\x14\\xa3\\xa3=>g3\\xbd$\\xcd\\xbd\\xbd\\xa1$\\xf7;\\x04\\xf5z=\\xfc\\xb4\\x8c=\\x89\\x0e\\xc6\\xbdhI\\x90\\xbd^\\x16\\xbd;z\\xe7\\x0c\\xbd\\x1b3\\xc9\\xbc\\x89\\xf8\\xbb\\xbc\\x18\\'u\\xbb>\\x8f\\xca<\\x02\\x80J=\\x0e\\xaf*=\\x8dOU\\xbd\\xcf\\xf0\\x95\\xbc \\x02\\x19=\\x19\\xf4K<\\xc5\\xc2\\t=J\\x83\\xac=\\x95\\xd7\\xb8\\xbd\\xf2\\xb5\\x9c\\xbd=\\x85\\x18=\\x94d&=03\\xf8<\\xee\\xf7\\x88<\\x80v\\xf2\\xbb9=[\\xbdG\\xac\\xee\\xbb<:A\\xbd\\xe1d\\x19\\xbd!d\\xf2\\xbb\\x1d\\xbax;\\xec;O<\\xd21,\\xbc\\xec\\xae\\xae=r\\x00-\\xbc\"\\x06\\xae\\xbdl\\xd6\\x1a=\\xc4\\xbf\\xcd=\\x19\\x150=\\xe3\\xf1\\x9d\\xbc\\xa6GK=\\xb2\\xb8 =\\xb2\\xf1I\\xbd-e\\x9e\\xbb\\xe9\\x8a\\xf7:\\x88\\xf8\\x1c=\\x7f\\xba\\xde<\\xd2n\\x16\\xbb\\xb4\\\\p\\xbb\\xd4\\xd5<<\\x89\\xa5\\xa3\\xb8\\xc79s<=4&<\\x84\\x1c\\x18<\\x18\\xd9-\\xbd\\xdf\\xe6\\x98<\\x15\\xa1N=\\xa2/\\xa5=\\x1d\\xf3\\xdd<\\x17L\\x13<\\x10\\x10\\xce\\xbac\\x9e\\xdc\\xbc\\xa68\\x05=+\\xa1\\xf5<b\\xd8R\\xbc\\xf3\\x93-\\xbc\\xad\\xe0\\\\9\\xa51\\xec=a\\xf5V=\\x1eG\\xd6\\xbc\\x99\"S=\\xd3\\xd9^\\xbd\\xae\\xa3\\x91<\\x12\\xda\\x13<\\xc0\\xb2y\\xbb\\x90\\x8d/\\xbd\\xbd\\x06p<?\\x95\\x88\\xbb\\xc3\\xd0\\x9d<H\\x02\\xb6=\\x1a\\xf1\\xad\\x89\\x14\\xf2\\xa6\\xbb\\xbc\\xfbe\\xbd\\xbdQK\\xbbH\\x10\\x90\\xbb/t\\xb9\\xbbL\\xc9\\xb9\\xbb\\x0cik=\\xaa\\r\\xad<1f\\xa8\\xbd\\xbd]\\xcc=\\x1a\\xe0 \\xbe\\xcb4/\\xbdvf\\xf7\\xbcX\\x9av=\\x0c\\x0cq<0\\xda\\x1c\\xbd\\xfe\\x08\\x8b<\\xden\\xa6\\xbc\\xd2t\\x86<\\x82\\x87\\x19=m\\xae\\xe4\\xbc\\x1dm^\\xbc\\x1bV\\x0e\\xbdm\\xb0\\xe3\\xbc\\xdcFU;\\xacG|\\xbdZ\\xfb\\x8b\\xbdv\\x81*\\xbd\\x81\\x83\\xf4=|\\xb7\\x10;\\x08!\\x0e\\xbd\\x00\\xd4\\xb4=\\x14&\\x15\\xbdR\\x86\\x83=d$:<1\\xea\\xa1<\"\\x08\\x8d\\xbd\\xa8\\x00i\\xbd<\\x01\\xdd<\\x00\\x87\\xd6=1\\x98\\x9c\\xbdb|!\\xbd\\xb2\\x1c\\xc5\\xb9\\xaf\\xb3\\x93\\xbc\\xf0\\xcb>\\xbd\\x84\\x1bF\\xbd\\xa0?\\x14\\xbe\\xc4\\x8f(\\xbd\\xe6O\\x89\\xbd\\xf7\\xad\\xd4<\\xa7\\x12\\xc3=\\xaf\\x05O\\xbd\\x99\\x8ep\\xbc\\x18\\xb5\\xac\\xbc\\xc9\\x9ee\\xbdH\\x8es;$a\\xc1;\\xd9\\xfaB\\xbd\\xa8#\\xfe:\\x92\\xe6\\xf4=\\xcd\\x15*<\\x86\\xf8\\x1b=\\x01\\xfcV\\xbd\\xd3\\xd1\\r=9\\xee\\x06=\\x13u\\xba\\xbd\\xf7\\xa3\\xd6<\\x1a\\xec\\xd9;\\xb79/=\\xa4\\xc2\\x85=p\\x0b\"=\\xe1i\\xef<:\\xe8c=\\xfb2\\x08\\xbe\\xce\\x12;=OVW;V\\xa4b<\\xd0\\x9d\\xb7<\\x87r;\\xbdqz\\x91\\xbcV\\x00<\\xbd\\xfe\\x19\\xa3<\\xeaJ%\\xbc!\\xe7\\xbf\\xbb\\x7f\\x87\\x12=\\x94\\x1d\\x95=b|\\xfd\\xbc\\xf3\\xf1\\xd1\\xbd\\xf5y\\x84;\\xc9\\tu=]\\x8ai<3\\x91R\\xbd\\xec\\xf3m\\xbd\\x93\\xb83=V\\xedF=\\x1f\\xf3\\xd1\\x08yA\\xba<#\\xacO\\xbd\\x01\\x0f\\xc7;\\x7f\\xf4\\x04\\xbdP\\x82\\x92\\xbd\\x9b\\xddD=p\\xd8;\\xbc\\xd3;\\xf4\\xbc\\xb3\\x8f\\x97\\xbd1\\\\\\r\\xbd\\xea\\x8c\\xf5\\xbd\\x8c\\x13(=\\x9e\\xc8\\xc6=\\xa3\\xed\\x1a=\\x98\\xa8\\xf8=\\x84\\xc1\\xee\\xbc\\xcd-\\x18\\xbb\\xf5~;<\\xd6F\\t\\xbd\\x14\\x08\\x17=\\xa5\\xa5\\x1e=\\x14K\\xcb\\xbd.\\xf7\\x8c\\xbdyb\\xed\\xbb\\x86[\\x19\\xbc]\\x0c\\x13\\xbcgq\\x83=\\xf0wd\\xbd\\xe3\\xc7\\xd1\\xbb8lY\\xbc\\xa7|a=3\\xcf\\xfd\\xbc\\x1f\\xa5\\x83\\xbb\\x99O\\x19\\xbd6\\x02]\\xbd\\xbb\\xeaz=\\x036\\x9c=:^\\xa9\\xbd)^9\\xbcg\\xe4N\\xbcs\\x07x\\xbd\\x18{\\xa0=:\\x9f\\x96<\\xecq8\\xba\\x9e\\xbb=\\xbd\\xe4|(<\\x96\\xdf\\xb4\\xbbl\\xc9\\x0b\\xbd\\xc4\\x01\\x95\\xbd\\xf7\\xc6T=\\tp\\xd1<c3\\'\\xbd\\xb4\\x00H<t\\x0f\\xb8<\\x1fU}\\xbdx}\\x01=\\xfe\\xc9[\\xbd\\xfd\\xec\\x03<\\xf9b\\x0f\\xbd\\xc6\\x8e\\xe7\\xbc\\x04\\x17\\xc8<\\xbc\\x08\\x9c=\\x03\\xd5\\xa6\\xbdDQ\\xe5=\\x82-O<\\xdb\\xf22=\\xd326\\xbd\\xe6\\xe2\\xf2\\xbc\\xf8Z\\xa7<s\\xb2\\x02\\xbe\\xfbn2\\xbd\\xab\\x80\\x8a=\\x00\\xc4\\t\\xbd\\r\\xb8\\xcd\\xbc\\xbb\\xdb\\xad\\xbb\\x98\\xfd\\xde\\xbc\\x10\\x17E=|\\x06\\xbd=\\x1b&m=\\x14X\\x8e=\\xeb\\xae\\xa4=4\\xa3\\xca\\xbbN?\\r\\xbc\\xc99\\x9c<Il\\x8e\\xbdC\\x10k=f\\xff\\xbe;\\x9a\\x16\\xff<\\x878\\x92<\\x912\\x8c;N\\xac\\xa3=\\xf7+v<\\xfe\\x89\\xf0\\xbb\\xa6\\xdb\\x07\\xbc\\x88\\xae\\xbd\\xbc\\xb5\\x8f\\xb4\\xb2\\xb2\\x88\\xd3\\xbd\\x7f\\xe9j=\\xe9\\xdb\\xa7\\xbd\\xeb\\x16\\xe5<A\\x19p=\\xf6\\xe6\\x9f=\\xdbGh\\xbd\\xe5\\x9a\\xf4\\xbd5\\xd6\\x07\\xbc(\\xddj<$tw=\\x8a\\xd0\\xe1<\\xbd\\xae\\x1e=\\xc6F\\xc4<\\xaa0\\n<+jd\\xbc\\xb8\\xfa\\x8c=\\xd5\\x8a\\xa6\\xbc\\xd2.\\xcd\\xba\\xb6p\\xcf=\\x1bT-\\xbd\\xc0Qn=<\\x16\\x9f\\xbd\\x90\\x8a_=A\\x13#<\\xf3\\xa9m;\\'\\x86\\x00\\xbe\\xd9y\\x8b\\xbcpUG=\\xa1\\xa3\\xca=\\xbf\\xbdq\\xbc\\x93\\xe3:\\xbd\\xb2\\x93]<{]\\xd1;\\xc8d\\xae=\\x9b\\x1f\\x03\\xbd\\x07L\\x89=b:s\\xbd\\xa1\\x1eb=\\xe3\\xc9\\t\\xbb\\x98\\xfb\\xe7<w\\xce\\xe4\\xbcCV#=t\\x8bk\\xbd\\xebh\\x01<\\xfd\\xe5N\\xbd[\\x0c\\xb1\\xbch\\x01J\\xbdg\\xf4~=F\\xe3Z\\xbd\\x07/\\xf1\\xbbG98=\\xb82T\\xbc(\\'\\x81<\\xc8\\xa0M=\\x83\\xde\\x05<&I|\\xbd\\xec\\x98w<\\xde\\xd3\\xa7\\xbd\\xddS \\xbdv\\x13\\x07=\\x11&\\x14\\xbc\\xbbv\\xe9<\\xf4,\\x97='},\n",
       " {'title': 'Skyfall',\n",
       "  'genre': 'action',\n",
       "  'rating': 8,\n",
       "  'description': 'James Bond returns to track down a dangerous new enemy who threatens global security.',\n",
       "  'description_vector': b'\\xa0D\\x9e\\xbdV\\x9b\\x89\\xbc\\xc2\\x16\\x95\\xbc\\xaf\\x0fT\\xbc\\xaa/g=N\\x8d\\x13\\xbc\\x9c\\x84$=\\xb9\\x07/\\xbc\\xaa\\xa64<\\xb7\\xf3\\xc1<\\xab\\xd4\\xba;\\x06\\xc3\\xcb<\\x1fC3\\xbd}\\x82\\x92=BG\\x96\\xbd4\\xe8\\x1b\\xbd;\\xed\\x8c=\\xdd\\xe5\\x1b=\\xb4\\x86\\x05<K\\xc0\\xe6<\\xf6Q2=\\xf60\\xb5<t\\xd7\\xb6<\\xc7\\x08\\xdd\\xbc\\xc8\\x07\\xc5\\xbd\\x8b;\\x12=\\xb6\\xab`=\\xfe\\xf2?\\xbd\\xd6\\xbe\\xb0\\xbd\\xf3\\x14\\xa2\\xbb\\x13\\xda\\x12=\\xf5\\x0b-\\xbd\\x89\\x03\\xe5;\\x08\\xa2\\x9e<2\\xd2\\x0b=$*h;\\xdc\\x80\\xf7<\\xb6\\x00\\x19\\xbd\\xc2\\x94\\x85=\\x9fy%\\xbd\"px\\xbd\\xc2I:=6\\x8e\\xe8<ZJ\\xc1=\\xe7\\xa6\\x08=\\xbe\\xbf7\\xbd%\\xbeE\\xbd\\x80?V\\xbc\\x02\\xack=9,\\xa1\\xbd\\'\\xb9\\x98=\\x10\\xd5Y\\xbb @\\x00\\xbdU>\\x85<\\xa69,=\\x17\\xf6\\xdf\\xba\\xac\\x14:\\xbdM9\\x08\\xbd\\xf9\\x0b\\xbe\\xbcV\\xb9\\x9a<\\xb3_6=!Ub\\xbd\\xb7\\xb7#=\\xcf\\xed\\xa2\\xbaW\\x95\\xe1\\xbc\\xec\\xefX=\\x9cu\\x11=?\\xd86=\\xb9\\x06\\x9f\\xbc,\\xe5\\xf0<\\'\\x15t=;\\xaf\\xd0\\xbbwK-=\\xceH\\x11\\xbd\\xc7\\x036=\\xf6\\x15\\xd8<8x\\xfd\\xbcM\\x10\\x9b=\\xdb\\xdf_\\xbc\\xad\\xff\\x03\\xbd\\xfcD\\xaa=\\xbf\\xab\\x0b\\xbd\\x08$\\xe6\\xbcG\\x0cr=m\\xbc\\x99=\\xab\\xae\\xa6<)\\x9b$\\xbd\\x99y\\x06\\xbd\\xe3\\xcf\\xde=\\xecX\\x8f=s%\\r\\xbd\\x1dz\\x0e\\xbc\\xeb\\xdf\\t<$\\tI=\\x01x\\x10\\xbd\\xfb\\xd4;\\xbdY\\x0f\\xd9<\\xe8\\xe8\\x93\\xbbb\\xdf\\xba\\xbde c=>\\x9b\\x97;\\x18u\\xe0\\xbc\\x8e\\x10\\x9e\\xbdx\\xf4~=a\\x9eh<\\x91\\x070;#\\x9br=iD\\xe8:?\\xd8\\xa6\\xbb\\xcaa2\\xbd\\x9b\\xcbg\\xbb\\xf4\\xe9\\x00=\\x1b\\xc4\\x85;\\xf6\\xf7g\\xbd\\x12\\xb2\\xdc=O\\xca\\x83\\xbd\\xa5R\\x8b\\xbc\\x97F2=\\x11\\xe4\\x9b\\xbd%\\xbb\\x91=\\xfe=^<\\xcc\\x92\\x06=-@\\x90\\xbdg<\\xf5;\\xb0\\xc6\\xdc\\xbcX\\xd8\\x19=#b\\x0b\\xbd\\xccb\\xfa\\x88}x\\xef\\xbbU\\xe0\\xc6;\\\\\\x08~=\\xde/&\\xbdN\\x87\\x93\\xbd\\xab(\\xe7\\xbc\\xb8&\\x08\\xbd\\xdb\\x86\\xb1=:\\xd8p\\xbc^\\xb4\\xa2<\\xb8\\xdd|\\xbd\\xb3\\xe5\\x83\\xbc\\xfd\\x94\\x94<E\\x0c\\x81=\\x95d\\t\\xbc\\xb8\\r\\xab;/\\xe8T=\\xe7\\x83\\xd8=\\x98\\x97\\xad=\\x0ec[\\xbc\\x97\\x96\\xfc\\xbd\\x90e\\xf1;\\xbe\\x8e==\\x89\\xee\\xa2\\xbc\\x15\\xb8\\x0e=\\xe4\\x12X=\\xf5\\xa6R<Jh\\xa6<N\\xb1)=\\x99W\\xd0<\\xd5\\xe1\\x83\\xbd\\xdcp\\xfb;bE\\xa0:\\x0e\\xda\\x9f\\xbb\\xbfu\\xc0\\xbb\\xed\\xb2\\x82=f9\\x94\\xbd\\xaa1\\xd8\\xbbL\\xe6\\x93\\xbc\\xbf\\xb1\\x14\\xbdY\\x1f/<\\xbc?k=\\xf10\\xe2\\xbd\\x80\\x91\\x0f\\xb9j\\xfe\\x80<\\xe2\\xa3\\xca\\xbdd>\\xaf<m\\x8c\\x83\\xbb\\x1b\\x1e\\x17\\xbd\\x83L*\\xbde\\x08m\\xbc\\x04R\\x989>\\xf9\\xc2\\xbd\\xf2f\\x11=\\xd8\\xdc\\xd7\\xbd\\xcb\\xfax<#\\xc1\\xa9;\\x9a\\xd6\\xc8\\xbb=1I\\xbd\\x0b\\x7f\\x0c\\xbd\\xb2R\\xb8\\xba\\x11\\x14\\xf1\\xbc\\xa3\\xf2\\xca\\xbd\\xe6uA\\xbc\\xe2\\xf8<;\\xe2\\r\\x9d\\xbbp\\xd1r\\xbd\\xe4\\xc3}\\xbc\\xc2\\xc0\\xe5\\xbd\\x0f\\x18\\xf4=\\xb5Tp\\xbd1gC<\\xdd:\\x16\\xbd\\xf3{\\x19\\xbb\\xfe.\\xbf<\\xe3$5=AGl=-\\xbd\\\\=hGE\\xbc\\xab\\xb8\\x85\\xbd\\xd6\\xd8Y\\xbd>\\xfb\\xff;2\\r\\x88=\\x96\\xe1\\xab=y{@\\xbd\\x16O\\xc6\\xbb\\xa5$o=\\x0b#\\xf4\\xbdj\\x98\\xde=\\x96~0>\\x81 \\x98\\xbc{\\xd9\\x03\\xbe\\xb1k\\x8a\\xbd\\x9bl/=\\xddul\\xbd\\xdf\\xfa\\xd5\\x07\\xd7\\xe9\\xcd\\xbc\\xf1\\x17>\\xbdF\\xc0\\x83\\xbc1\\x1bY\\xbdF\\xd8\\x94\\xbd\\xc8/\\x1d\\xbc5M\\x07\\xbeJ\\xdd\\x8f=-\\x08\\xc1\\xbcx\\xe6N<k\\x9dk\\xbd\\xd1\\xd9\\x19<\\xe7\\x80\\xc3=n\\xe7\\xea<\\r\\x0e0<\\x9b\\x02 =\\x15\\x1a\\xda\\xbc\\xaa\\xcc\\xe0<\\xb4{\\xa0=\\xee\\x00|;\\r\\xd7\\xc2=\\x9d\\x88\\x89\\xbd0\\x0e\\xa4<\\x87\\xa9\\x95\\xbc\\xd4L\\x90;\\x952\\x98=\\x1a\\xc4\\x86<\\xcf\\x0bs=\\xea,\\xff\\xbb`\\xa8\\xa9\\xbc\\xd3\\xf8\\x95\\xbc\\xcf\\x9bc\\xbdi\\xad\\xee;\\x14\\xb2\\xf5<-f|\\xbd\\xba\\x98\\x0c>>\\x8f\\x7f<\\xd1E\\xb5\\xbd\\x0fF\\x05=b@/=\\x86\\xad1\\xbd\\x1f\\xb1\\x8a=\\x01u\\x04\\xbc\\x96I \\xbd2\\x8b\\x9b\\xbd\\x95F\\xc4<\\x85\\x0b\\xae<\\xea\\x9eA>\\xc8\\xf7\\xf7;M\\xa6\\x05\\xbd\\x85u\\xe8<\\xb5\\x88N=\\xa7\\x13\\x07\\xbd\\xe9_`\\xbdV\\xc7\\x99\\xbd\\xe7\\x92\\xb9<Ok9\\xbd@\\x0e\\x9f\\xbc\\xe7\\x80\\xbb<g\\xaa\\x9e</\\x88Q;\\xcc\\xddJ\\xbcc\\'%\\xbd\\xaa\\x93\\x84=\\xf6\\x85\\x07\\xbc\\xcd\\x12^\\xbd\\x99\\x94\\xa2\\xbc\\x02\\x02\\x95=\\xcd\\x16\\xa4<\\xe4<\\xf0\\xbc\\x89\\xd8\\x83\\xbb\\xb8X?<:Pm\\xbc\\xd2\\xb2\\x96\\xbb\\n\\xbb\\xc3<s\\xcb\"\\xbdL\\xf2\\xd1\\xbd\\x07M\\x14\\xbe\\xaf+\\x91\\xbd\\xe3\\xd7Y=\\x8f\\x016=q\\x97\\xb4\\xbc\\xc3\\xf2\\xf0:\\x0e\\xb4c\\xbc\\xc2z\\x1f=\\xa8i\\x18=\\x07\\xacN=C\\x8a\\x1b=\\n\\xb3\\xa7\\xbcFU\\xe0\\xbb\\xf8\\xc1\\x97\\xbc9Q\\x8b;u\\x1f\\xbd\\xbd1b\\x8c=B\\xd7\\xbc<}a\\xab\\xb2KeF\\xbd\\xee\\xf2\\r=6\\xecN=\\xae\\x01\\x9e\\xbaL\\xbc\\x82\\xbb\\r2\\xf3;\\x84\\x8a&\\xbd\\xa1[\\xd4\\xbc4X\\x19<\\xc0]\\xdc\\xbdO\\x9a\\'=\\xc3\\nR\\xbd\\xa0d\\x05\\xbc\\xd3\\xab\\x8b:a\\x00\\x03\\xbd-Lc<\\xaa3\\xd0;\\xd5~\\x05\\xbe\\xb3\\xd8\\x08\\xbd\\x82\\x9d\\xf0;\\xba\\x81\\x13\\xbc\\xfc&:<\\xf0\\xcf\\xf9<\\x130\\xdb\\xbc\\xfe\\xd7\\x84=#~C\\xbdB\\x18\\xf6;\\xedG4=\\xb3\\x11\\x81<\\xb42\\xed=\\xc4Z9=\\xd4\\xb3I\\xbatD1=o\\xc3\\x02=\\xaf~\\x81\\xbc\\xf1\\xe1m=\\xec\\x89\\xee\\xbc\\x9c\\xe0\\x07<\\x0c\\xcd\\xc0=\\xa6P\\xb5=\\x04\\xe3\\x1a\\xbdH\\x17|=j\\xf5\\x82\\xbd^\\xae\\x91=\\x1b\\xfcB\\xbd\\xec\\x85z\\xbdm\\xb6L=\\xad8\\xf7\\xbaH\\xd8)=\\x1dG\\xe1\\xbd\\xf9n\\x18<\\xabem\\xbd\\xc4\\x9a8\\xbds\\nL=Z\\xbd8=^\\xe1\\xe1<@\\xa0-\\xbb\\x9bv\\xab<\\xf2D(\\xbc\\x9a\\xfcy<\\x0ey\\x96\\xbd\\xab\\t\\xbf\\xbd\\xf2t\\xf8:\\x9c\\x1b:='},\n",
       " {'title': 'Fast & Furious 9',\n",
       "  'genre': 'action',\n",
       "  'rating': 6,\n",
       "  'description': 'Dom and his crew face off against a high-tech enemy with advanced weapons and technology.',\n",
       "  'description_vector': b'&\\xa5\\xc7\\xbc\\xfb,\\xa2=>\\x19H\\xbc@\\xc6t\\xbd\\xac\\xa2C=<\\x0f\\x18\\xbc\\xbeKz=\\xe4\\x13\\xa0=\\xea\\xe1\\x8c\\xbd\\xb6\\x84&=qZ\\x07=\\xb0\\xa8M\\xbc\\xb4\\xfaq=^\\x8b\\xe3\\xbc\\xdf\\xa3A\\xbd*\\'\\x13\\xbd\\x03\\x84\\x8a=\\x9a\\x9e\\xdd;A&s=u0l<\\xccS\\x03\\xbc\\t\\xf1:\\xbc\\xe9\\x07\\x14=e\\r\\x03\\xbd\\xad\\x18\\xb6\\xbd\\xc2\\xf0\\xbf=_(\\xae=>t\\x91\\xbd\\xe7\\x96n\\xbc\\xe0>\\xbb\\xbc\\xb4\\x87\\t=b\\xc0\\xda\\xbc\\x97\\xf6@\\xbcf\\xcd\\'\\xbcj\\x9a\\x10\\xbe\\x01\\x98\\xaf=\\xa1\\x8f\\xd1\\xbc\\x12\\xa4C=6\\xee)\\xbcvg\\x9d\\xbci6\\x98\\xbd\\x05\\x01\\x8a\\xbd\\x8el\\x15<\\x17m\\x15;\\x8d\\x97 =\\xcb\\r\\x98\\xbd\\xb7L\\x89\\xbc\\x13;\\xc3\\xbdC\\xaf\\x9b=\\xa2\\x04\\xd0\\xbb\\xe4S\\x03\\xbd_\\x99\\xbe\\xbd\\x8c\\x02[=B/D\\xbc\\xad\\xab>=5\\x19\\x03\\xbd\\x13\\xbb\\xd5<\\r\\x8b\\xa2\\xbc|K\\x8a=\\xf7\\'h<\\x87\\xe2\\n\\xbdB\\xd4\\xcd<\\xe2>9\\xbcT\\x1eh=\\xdd\\xa8a=\\x87\\xcd\\xbf\\xbb-\\x00;=fK\\x9e=\\x99\\x84\\x97\\xbdt\\x82\\xb3=}\\xd8\\xb8;\\xcf\\xa6j<\\x84\\xdd\\x9b\\xbc;\\x03}\\xbd\\xae\\xa3\\xdc<\\x80-\\xd8<\\x18\\xaa\\xf6;\\x93\\x1e\\xfc\\xba.\\x83\\xf5=\\x1en;\\xbd\\x01\\xd4G=\\xa7L\\x10\\xbdQ\\\\\\xe6\\xbd\\xe7\\x9e|\\xbc\\x11Y\\xb9\\xba\\x8e\\xceo=u\\x0f\\x19\\xbd\\xf7\\xcd%\\xbd\\xea\\xd5+=1P\\xce<\\xc7:\\xa0\\xbdm\\xb9\\x85;\\x07&\\xa2=\\xbf\\xb6\\x96=\\x80r\\xa4<\\xa8qg=\\xdb\\x0f1=%\\x8b\\xe0<\\x84\\xaev\\xbd\\xe6\\x12\\x19=\\x83\"\\x9f=Q\\x8e\\x8c<\\x0b&\\xe6\\xbd\\x03\\xb9\\x91\\xbc\\x1f\\xe8,\\xbc6\\x87\\xb7\\xbc@PF=\\xbc\\xe11< <\\xf4\\xbb*\\\\\\x8b\\xbd\\x08\\x04\\xb2<aG\\xf3\\xbcx\\r\\xa7\\xbd\\xd8\\x98w\\xbd),\\x81\\xbc&\\xabV\\xbcg\\xf1\\x10\\xba\\xa2\\x9d&=\\xe0\\xb0\\x8a\\xbdw\\x1b\\xa6\\xbdH\\xc2\\x17=$\\x88\\x89\\xbb\\x9ep?\\xbcqo\\x1a\\xbd\\xaf\\x7f\\xcf=K\\x97\\x85\\xbd\\xfa5X=\\x01\\xbau\\x89\\xc9\\x95?;\\x06\\xfdX<\\xb5+6\\xbdw:k=\\xdd\\xbe\\x16=\\x01\\xb7\\xb1\\xbc\\xab2%\\xbd\\xc4\\xc5\\x1b<\\xd3P\\x0c\\xbd}\\x04\\xb3=\\xa1$\\xa3\\xbd\\xa2\\x082\\xbd\\xcd\\xe48\\xbdQ\\xa1\\x9b<\\xbf\\x1b\\xa8;\\x90B\\x92;p\\x18\\x1e\\xbd\\x8a\\xc2]=c\\xc1{\\xbc\\xfd\\x1b\\xc1:\\xa9\\xa4\\xc9\\xbcKl\\xf9<\\xa0K\\x97\\xbc\\x80\\xa6s<)\\xa7\\xa8<\\xd2\\'\\x97=\\x8b\\xef\\xb5\\xbd \\x81\\r\\xbd\\xe9\\xad\\x82\\xbc\\'\\x9d\\xe6;\\xd2\\x1b\\xe5\\xbd\\xc0q\\xb9=\\xdf\\xfe\\x9f:q\\xd3\\x9b=\\xcb\\xfa\\xc1\\xba\\xf1\\xc2\\\\=7\\x188\\xbd\\xd7\\x1b\\xc6\\xbdRt\\xdf\\xbcfA\\xb9=\\xc5P6\\xbd\\x9a\\x9f\\x19=\\xff\\x93\\xb9\\xbc?\\xfax\\xbd\\x80!\\xd1\\xbc\\xe5@\\r\\xbd:\\xf11:\\xd9)\\x89\\xbd\\xd3\\x9d\\x9c<\\xf4d\\xe2<?zZ<?\\xb5v=\\x9b-\\xa3<\\xfeV\\x19\\xbd\\x99\\xc5z<ku\\xff<\\x12B\\xfa<\\xc4\"\\xfa<\\xd50\\x1c\\xba8\\xfd\\xb6=\\xd1/\\xbc\\xbc\\xcd\\xc1\\x18=\\xb4}]=G3\\x85=t\\xe7\\xff\\xbc\\xfcJe\\xbd^`\\xd9\\xbc\\xce/\\xde\\xbc\\x15P+\\xbd,\\x8b.=\\xa1\\xc5S\\xbd\\xb8C\\x0e\\xbdiN =\\x9fB\\xb6\\xbd\\xb3\\xffH=\\xcb\\x94\\n=\\xbde\\x1d\\xbdo\\x8a\\xb4<\\x82\\xf5-\\xbdV5\\xa4\\xbb8]t\\xbd\\x06\\x83d<=\\xf9\\x9b<\\xf8\\\\\\x83<\\xc6\\x89\\xda9\\x7f6\\xec<**(\\xbd\\xf4\\x85|\\xbdpc\\xe8\\xbc~*;=\\xd7\\xd9\\x07\\xbdKA\\xa3\\xbd)\\x89\\x88:&ql\\xbc\\xa3\\xb9\\xfb\\xbc\\x83\\x13\\xb4\\x08\\xc0\\x04\\x87\\xbdM1\\xcc<\\xa8\\x92\\x10<n\\x01\\xdc\\xbb6\\x93N=\\xfd V\\xbd\\x05A\\xef;\\x1a|e=j\\xeb\\xb4\\xbc\\xf3\\x97\\x8b=\\xbf\"?=@1(\\xbcx\\xfcm\\xbd\\xa3\\x9ef\\xbc\\xc38\\x8e=\\xfcx\\xc1\\xbca<\\x82=\\xack\\n\\xbd\\xbd$\\x9e;\\xdff\\x12=Q\\x068>\\xd8\\xd1Q\\xbdA\\x15\\xcf\\xbc\\xfb\\x0b\\xb0\\xbc+\\xc8\\xfc<\\x02\\x8d\\x98=h\\x0e9=I3K=5\\xf2\\xcd\\xbc\\xf5\\x04E\\xbd\\xab\\x997;\\xad\\x9ct\\xbd\\xcfy|=\\x04\\xd3\\x80<\\xbd\\xa3\\x0c<\\x01\\x0e\\x18>\\x0f\\x14q\\xbdi\\xe6Q=yR:\\xbd\\xbb\\xd4k\\xbd\\xb8X\\x81=\\x13|\\x98\\xbc\\x0b\\xbe\\xaf\\xbd\\xc5\\xe4\\xc6=\\xed\\xc7\\x8e\\xbdI\\xd9\\xff\\xbc\\xca\\xe50\\xbds-\\xaa\\xbcQ\\xdf\\x92;{\\x9e\\xc2<en\\xb6\\xbc\\x93\\xca\\x8f\\xb9\\xeb\\xfd<= 8\\xb6\\xbc\\x99\\xfb\\xc3\\xbdR\\xe6v\\xbc\\x02\\xa5Q\\xbcMm\\x8c=\\x0b\\xed\\x88=\\x18e#<TYG=\\x07\\xde\\xa0;\\xa2\\xfe\\x01=VC\\xa9=n\\x15\\x1f\\xbd\\x82\\\\\\x83=\\x93\\xee\\xe5\\xbc^\\xd8\\xd5=\\x9a\\xbe\\x99\\xbdX\\xfe6\\xbb\\xa9zZ=\\xd9h\\xf7\\xba\\xf1\\x1b\\r\\xbd&\\x00\\xdc\\xbb\\xdcX-=\\x1b\\xe7_\\xbb`\"x\\xbd\\x1a\\xb73\\xbc\\x14\\xfe\\x83;\\'\\x04N=\\x18c\\r=\"\\xa0\\xd3;ZI\\x18\\xbd\\xbbn\\xb2=\\xa1\\x16%\\xbdtU\\xec=\\xc7\\xd9V\\xbd\\x95\\x00W\\xbc@\\x1e\\xb9\\xbb\\xdfL\\x82\\xbdI\\x82K\\xbc\\xe9\\xd1\\x0e\\xbd\\xd0[\\xef;\\xfeq\\xe3\\xbc\\xff#\\xc7\\xbcI\\xc1\\xca\\xb2\\xcc\\x83\\xec\\xbd\\x0f\\xe1\\x08\\xbd\\x0e-\\x80\\xbb\\xd5v\\xf4\\xbd\\xc4\\xa4\\xd7\\xbb8\\xd6\\xc3<\\x12`;\\xbd\\xbf\\xaa6\\xbc\\x94\\tM\\xbd\\xfc\\xba\\x95=-\\x15\\xa8;\\t\\x84\\x91</\\x02\\xa4=\\xdc\\xf8\\xec<bIj=D\\x16\\x9d=\\x0ef\\x01\\xbeM\\x05V\\xbdx]\\xac\\xbd`r\\xda\\xbd\\x04h=\\xbdi\\x01!\\xbdF\\x95#=x\\xbf\\x05=\\x15\\xd5\\xad<\\x0bM\\xb3=\\xc8\\xbc\\x91\\xbd\\xc1<\\xcf<,\\x7f\\x9b=\\xf4\\xd7\\xbc=\\xb1\\x9f\\xd5\\xbc\\xdf-\\x15\\xbd\\x89S\\xa7\\xbd=.\\x1f<\\x92v\\x03>\\xbbXB=\\r\\xb5\\x99\\xbb\\x046\\x90\\xbc\\xaf\\x99\\x98=y\\xb16\\xbc\\xc4E\\xba\\xbd\\x88\\x93W=\\xdc\\r\\xe9<\\xbc\\xb7\\x8e=\\xf0X\\xa9=\\x1a<\\x18\\xba\\x87U\\x15\\xbd\\x02I\\x00\\xbdBg\\xa2;~\\xb0\\xb3\\xbd\\x8c\\x8c =\\xd1\\x7fv\\xbb\\x16y\\x84\\xbc\\xa5\\'\\xd8\\xba\\x19\\x92\\xa5\\xbc\\r\\x1b)\\xbc(3\\xae\\xbb\\x16O\\x95<\\xfe\\x82\\x9d\\xbc\\x8bO\\x08<\\x0fk\\x93\\xbb\\x01!\\xe7\\xbaA\\x94\\x82=\\xf59\\n='}]"
      ]
     },
     "execution_count": 63,
     "metadata": {},
     "output_type": "execute_result"
    }
   ],
   "source": [
    "movie_data[:3]"
   ]
  },
  {
   "cell_type": "markdown",
   "metadata": {},
   "source": [
    "### Define Redis index schema\n",
    "\n",
    "Below, we build a schema that represents our movie objects."
   ]
  },
  {
   "cell_type": "code",
   "execution_count": 64,
   "metadata": {},
   "outputs": [
    {
     "name": "stdout",
     "output_type": "stream",
     "text": [
      "12:41:14 redisvl.index.index INFO   Index already exists, overwriting.\n"
     ]
    }
   ],
   "source": [
    "from redisvl.schema import IndexSchema\n",
    "from redisvl.index import SearchIndex\n",
    "\n",
    "\n",
    "schema = IndexSchema.from_dict({\n",
    "  \"index\": {\n",
    "    \"name\": \"movies\",\n",
    "    \"prefix\": \"movie\",\n",
    "    \"storage\": \"hash\"\n",
    "  },\n",
    "  \"fields\": [\n",
    "    { \"name\": \"title\", \"type\": \"text\" },\n",
    "    { \"name\": \"description\", \"type\": \"text\" },\n",
    "    { \"name\": \"genre\", \"type\": \"tag\", \"attrs\": {\"sortable\": True}},\n",
    "    { \"name\": \"rating\", \"type\": \"numeric\", \"attrs\": {\"sortable\": True}},\n",
    "    {\n",
    "        \"name\": \"description_vector\",\n",
    "        \"type\": \"vector\",\n",
    "        \"attrs\": {\n",
    "            \"dims\": 384,\n",
    "            \"distance_metric\": \"cosine\",\n",
    "            \"algorithm\": \"hnsw\",\n",
    "            \"datatype\": \"float32\"\n",
    "        }\n",
    "    }\n",
    "  ]\n",
    "})\n",
    "\n",
    "\n",
    "index = SearchIndex(schema, client)\n",
    "index.create(overwrite=True, drop=True)"
   ]
  },
  {
   "cell_type": "markdown",
   "metadata": {},
   "source": [
    "### Populate index\n",
    "\n",
    "Load movie objects into Redis"
   ]
  },
  {
   "cell_type": "code",
   "execution_count": 65,
   "metadata": {},
   "outputs": [
    {
     "data": {
      "text/plain": [
       "['movie:01JQC7NC1JXCDCBZY83G914DZD',\n",
       " 'movie:01JQC7NC1JQQ63GN6QZN2TSYAF',\n",
       " 'movie:01JQC7NC1JJPZYMZ74B6ATQ37V',\n",
       " 'movie:01JQC7NC1JY715NWCSJX0VCM0Q',\n",
       " 'movie:01JQC7NC1JHRSWD1DFGC0W3P61',\n",
       " 'movie:01JQC7NC1KEEH4ZSA5R1PQAPZM',\n",
       " 'movie:01JQC7NC1KCT1GPTQHBM5Y37XG',\n",
       " 'movie:01JQC7NC1KRJSTFT32BSE8SK1V',\n",
       " 'movie:01JQC7NC1KA3AFNM187PHBZZ0T',\n",
       " 'movie:01JQC7NC1K33J6DW2MK88HWM3F',\n",
       " 'movie:01JQC7NC1KVYFHXVEM30E41HN9',\n",
       " 'movie:01JQC7NC1KYN9WDY2MDNB6JGB6',\n",
       " 'movie:01JQC7NC1K9YSWW7FT0379TJX9',\n",
       " 'movie:01JQC7NC1K27YQT742HRFTFQVM',\n",
       " 'movie:01JQC7NC1KWC3Y75RP97X8M6VD',\n",
       " 'movie:01JQC7NC1KPM2X2EJAQ8DFP1W7',\n",
       " 'movie:01JQC7NC1KMH8VWWG65Y3YV5CJ',\n",
       " 'movie:01JQC7NC1KB30XEN6P1MQ7BJQW',\n",
       " 'movie:01JQC7NC1KTPAB7KX5H6AASPB9',\n",
       " 'movie:01JQC7NC1KX18AVM8MC3S7D1FQ']"
      ]
     },
     "execution_count": 65,
     "metadata": {},
     "output_type": "execute_result"
    }
   ],
   "source": [
    "index.load(movie_data)"
   ]
  },
  {
   "cell_type": "markdown",
   "metadata": {},
   "source": [
    "# Hybrid Search Approaches\n",
    "\n",
    "Now that our search index is populated and ready, we will build out a few different hybrid search techniques in Redis.\n",
    "\n",
    "To start, we will build a few helper methods that we can reuse for each technique."
   ]
  },
  {
   "cell_type": "code",
   "execution_count": 87,
   "metadata": {},
   "outputs": [],
   "source": [
    "# Sample user query (can be changed for comparisons)\n",
    "user_query = \"action adventure movie with great fighting scenes, crime busting, superheroes, and magic\""
   ]
  },
  {
   "cell_type": "markdown",
   "metadata": {},
   "source": [
    "First, we need a method to tokenize a user query into a full-text search string:"
   ]
  },
  {
   "cell_type": "code",
   "execution_count": 89,
   "metadata": {},
   "outputs": [
    {
     "data": {
      "text/plain": [
       "'action | adventure | movie | great | fighting | scenes | crime | busting | superheroes | magic'"
      ]
     },
     "execution_count": 89,
     "metadata": {},
     "output_type": "execute_result"
    }
   ],
   "source": [
    "from redisvl.utils.token_escaper import TokenEscaper\n",
    "\n",
    "escaper = TokenEscaper()\n",
    "\n",
    "# list of stopwords to filter out noise from query string\n",
    "stopwords = set([\n",
    "    \"a\", \"is\", \"the\", \"an\", \"and\", \"are\", \"as\", \"at\", \"be\", \"but\", \"by\", \"for\",\n",
    "    \"if\", \"in\", \"into\", \"it\", \"no\", \"not\", \"of\", \"on\", \"or\", \"such\", \"that\", \"their\",\n",
    "    \"then\", \"there\", \"these\", \"they\", \"this\", \"to\", \"was\", \"will\", \"with\"\n",
    "])\n",
    "\n",
    "def tokenize_query(user_query: str) -> str:\n",
    "    \"\"\"Convert a raw user query to a redis full text query joined by ORs\"\"\"\n",
    "    tokens = [escaper.escape(token.strip().strip(\",\").lower()) for token in user_query.split()]\n",
    "    return \" | \".join([token for token in tokens if token and token not in stopwords])\n",
    "\n",
    "# Example\n",
    "tokenize_query(user_query)"
   ]
  },
  {
   "cell_type": "markdown",
   "metadata": {},
   "source": [
    "Next, we need methods to create vector search and full-text search queries:"
   ]
  },
  {
   "cell_type": "code",
   "execution_count": 68,
   "metadata": {},
   "outputs": [],
   "source": [
    "# Function to create a vector query using RedisVL helpers for ease of use\n",
    "from redisvl.query import VectorQuery, FilterQuery\n",
    "from redisvl.query.filter import Text\n",
    "from redisvl.redis.utils import convert_bytes, make_dict\n",
    "\n",
    "\n",
    "def make_vector_query(user_query: str, num_results: int, filters = None) -> VectorQuery:\n",
    "    \"\"\"Generate a Redis vector query given user query string.\"\"\"\n",
    "    vector = model.embed(user_query, as_buffer=True, dtype=\"float32\")\n",
    "    query = VectorQuery(\n",
    "        vector=vector,\n",
    "        vector_field_name=\"description_vector\",\n",
    "        num_results=num_results,\n",
    "        return_fields=[\"title\", \"description\"]\n",
    "    )\n",
    "    if filters:\n",
    "        query.set_filter(filters)\n",
    "    \n",
    "    return query\n",
    "\n",
    "\n",
    "def make_ft_query(text_field: str, user_query: str, num_results: int) -> FilterQuery:\n",
    "    \"\"\"Generate a Redis full-text query given a user query string.\"\"\"\n",
    "    return FilterQuery(\n",
    "        filter_expression=f\"~({Text(text_field) % tokenize_query(user_query)})\",\n",
    "        num_results=num_results,\n",
    "        return_fields=[\"title\", \"description\"],\n",
    "        dialect=2,\n",
    "    ).scorer(\"BM25STD\").with_scores()"
   ]
  },
  {
   "cell_type": "markdown",
   "metadata": {},
   "source": [
    "## 1. Linear Combination using Aggregation API\n",
    "\n",
    "The goal of this technique is to calculate a weighted sum of the BM25 score for our provided text search and the cosine distance between vectors calculated via a KNN vector query. This is possible in Redis using the [aggregations API](https://redis.io/docs/latest/develop/interact/search-and-query/advanced-concepts/aggregations/), as of `Redis 7.4.x` (search version `2.10.5`), within a single database call.\n",
    "\n",
    "In Redis, the aggregations api allow you the ability to group, sort, and transform your result data in the ways you might expect to be able to do with groupby and sums in other database paradigms.  \n"
   ]
  },
  {
   "cell_type": "markdown",
   "metadata": {},
   "source": [
    "First, we build a base `VectorQuery` that runs a KNN-style vector search and test it below:"
   ]
  },
  {
   "cell_type": "code",
   "execution_count": 69,
   "metadata": {},
   "outputs": [
    {
     "data": {
      "text/plain": [
       "[{'id': 'movie:01JQC7NC1KPM2X2EJAQ8DFP1W7',\n",
       "  'vector_distance': '0.643690168858',\n",
       "  'title': 'The Incredibles',\n",
       "  'description': \"A family of undercover superheroes, while trying to live the quiet suburban life, are forced into action to save the world. Bob Parr (Mr. Incredible) and his wife Helen (Elastigirl) were among the world's greatest crime fighters, but now they must assume civilian identities and retreat to the suburbs to live a 'normal' life with their three children. However, the family's desire to help the world pulls them back into action when they face a new and dangerous enemy.\"},\n",
       " {'id': 'movie:01JQC7NC1JXCDCBZY83G914DZD',\n",
       "  'vector_distance': '0.66843944788',\n",
       "  'title': 'Explosive Pursuit',\n",
       "  'description': 'A daring cop chases a notorious criminal across the city in a high-stakes game of cat and mouse.'},\n",
       " {'id': 'movie:01JQC7NC1KEEH4ZSA5R1PQAPZM',\n",
       "  'vector_distance': '0.698122441769',\n",
       "  'title': 'Mad Max: Fury Road',\n",
       "  'description': \"In a post-apocalyptic wasteland, Max teams up with Furiosa to escape a tyrant's clutches and find freedom.\"}]"
      ]
     },
     "execution_count": 69,
     "metadata": {},
     "output_type": "execute_result"
    }
   ],
   "source": [
    "query = make_vector_query(user_query, num_results=3)\n",
    "\n",
    "# Check standard vector search results\n",
    "index.query(query)"
   ]
  },
  {
   "cell_type": "markdown",
   "metadata": {},
   "source": [
    "Next, we add a full-text search predicate using RedisVL helpers and our user-query tokenizer:"
   ]
  },
  {
   "cell_type": "code",
   "execution_count": 70,
   "metadata": {},
   "outputs": [
    {
     "data": {
      "text/plain": [
       "'(~@description:(action | adventure | movie | great | fighting | scenes | crime | busting | superheroes | magic))=>[KNN 3 @description_vector $vector AS vector_distance]'"
      ]
     },
     "execution_count": 70,
     "metadata": {},
     "output_type": "execute_result"
    }
   ],
   "source": [
    "base_full_text_query = str(Text(\"description\") % tokenize_query(user_query))\n",
    "\n",
    "# Add the optional flag, \"~\", so that this doesn't also act as a strict text filter\n",
    "full_text_query = f\"(~{base_full_text_query})\"\n",
    "\n",
    "\n",
    "# Add full-text predicate to the vector query \n",
    "query.set_filter(full_text_query)\n",
    "query.query_string()"
   ]
  },
  {
   "cell_type": "markdown",
   "metadata": {},
   "source": [
    "**The query string above combines both full-text search and a vector search.** This will be passed to the aggregation API to combine using a simple weighted sum of scores before a final sort and truncation.\n",
    "\n",
    "Note: for the following query to work `redis-py >= 5.2.0`"
   ]
  },
  {
   "cell_type": "code",
   "execution_count": 92,
   "metadata": {},
   "outputs": [
    {
     "data": {
      "text/plain": [
       "[{'vector_distance': '0.643690168858',\n",
       "  '__score': '5.82636454242',\n",
       "  'title': 'The Incredibles',\n",
       "  'description': \"A family of undercover superheroes, while trying to live the quiet suburban life, are forced into action to save the world. Bob Parr (Mr. Incredible) and his wife Helen (Elastigirl) were among the world's greatest crime fighters, but now they must assume civilian identities and retreat to the suburbs to live a 'normal' life with their three children. However, the family's desire to help the world pulls them back into action when they face a new and dangerous enemy.\",\n",
       "  'cosine_similarity': '0.678154915571',\n",
       "  'bm25_score': '5.82636454242',\n",
       "  'hybrid_score': '2.22261780363'},\n",
       " {'vector_distance': '0.66843944788',\n",
       "  '__score': '0',\n",
       "  'title': 'Explosive Pursuit',\n",
       "  'description': 'A daring cop chases a notorious criminal across the city in a high-stakes game of cat and mouse.',\n",
       "  'cosine_similarity': '0.66578027606',\n",
       "  'bm25_score': '0',\n",
       "  'hybrid_score': '0.466046193242'},\n",
       " {'vector_distance': '0.698122441769',\n",
       "  '__score': '0',\n",
       "  'title': 'Mad Max: Fury Road',\n",
       "  'description': \"In a post-apocalyptic wasteland, Max teams up with Furiosa to escape a tyrant's clutches and find freedom.\",\n",
       "  'cosine_similarity': '0.650938779116',\n",
       "  'bm25_score': '0',\n",
       "  'hybrid_score': '0.455657145381'}]"
      ]
     },
     "execution_count": 92,
     "metadata": {},
     "output_type": "execute_result"
    }
   ],
   "source": [
    "from typing import Any, Dict, List\n",
    "from redis.commands.search.aggregation import AggregateRequest, Desc\n",
    "\n",
    "# Build the aggregation request\n",
    "req = (\n",
    "    AggregateRequest(query.query_string())\n",
    "        .scorer(\"BM25STD\")\n",
    "        .add_scores()\n",
    "        .apply(cosine_similarity=\"(2 - @vector_distance)/2\", bm25_score=\"@__score\")\n",
    "        .apply(hybrid_score=f\"0.3*@bm25_score + 0.7*@cosine_similarity\")\n",
    "        .load(\"title\", \"description\", \"cosine_similarity\", \"bm25_score\", \"hybrid_score\")\n",
    "        .sort_by(Desc(\"@hybrid_score\"), max=3)\n",
    "        .dialect(2)\n",
    ")\n",
    "\n",
    "# Run the query\n",
    "res = index.aggregate(req, query_params={'vector': query._vector})\n",
    "\n",
    "# Perform output parsing\n",
    "[make_dict(row) for row in convert_bytes(res.rows)]\n"
   ]
  },
  {
   "cell_type": "markdown",
   "metadata": {},
   "source": [
    "Notes on aggregate query syntax \n",
    "- `.scorer`: specifies the scoring function to use BM25 in this case\n",
    "    - [see docs](https://redis.io/docs/latest/develop/interact/search-and-query/advanced-concepts/scoring/) for all available scorers\n",
    "- `.add_scores`: adds the scores to the result\n",
    "- `.apply`: algebraic operations that can be customized for your use case\n",
    "- `.load`: specifies fields to return - all in this case.\n",
    "- `.sort_by`: sort the output based on the hybrid score and yield top 5 results\n",
    "- `.dialect`: specifies the query dialect to use."
   ]
  },
  {
   "cell_type": "markdown",
   "metadata": {},
   "source": [
    "Now we will define a function to do the entire operation start to finish for simplicity."
   ]
  },
  {
   "cell_type": "code",
   "execution_count": 90,
   "metadata": {},
   "outputs": [],
   "source": [
    "def linear_combo(user_query: str, alpha: float, num_results: int = 3) -> List[Dict[str, Any]]:\n",
    "    # Add the optional flag, \"~\", so that this doesn't also act as a strict text filter\n",
    "    text = f\"(~{Text('description') % tokenize_query(user_query)})\"\n",
    "\n",
    "    # Build vector query\n",
    "    query = make_vector_query(user_query, num_results=num_results, filters=text)\n",
    "    \n",
    "    # Build aggregation\n",
    "    req = (\n",
    "        AggregateRequest(query.query_string())\n",
    "            .scorer(\"BM25STD\")\n",
    "            .add_scores()\n",
    "            .apply(cosine_similarity=\"(2 - @vector_distance)/2\", bm25_score=\"@__score\")\n",
    "            .apply(hybrid_score=f\"{1-alpha}*@bm25_score + {alpha}*@cosine_similarity\")\n",
    "            .sort_by(Desc(\"@hybrid_score\"), max=num_results)\n",
    "            .load(\"title\", \"description\", \"cosine_similarity\", \"bm25_score\", \"hybrid_score\")\n",
    "            .dialect(2)\n",
    "    )\n",
    "\n",
    "    # Run the query\n",
    "    res = index.aggregate(req, query_params={'vector': query._vector})\n",
    "\n",
    "    # Perform output parsing\n",
    "    if res:\n",
    "        movies = [make_dict(row) for row in convert_bytes(res.rows)]\n",
    "        return [(movie[\"title\"], movie[\"hybrid_score\"]) for movie in movies]"
   ]
  },
  {
   "cell_type": "code",
   "execution_count": 91,
   "metadata": {},
   "outputs": [
    {
     "data": {
      "text/plain": [
       "[('The Incredibles', '2.22261780363'),\n",
       " ('Explosive Pursuit', '0.466046193242'),\n",
       " ('Mad Max: Fury Road', '0.455657145381'),\n",
       " ('The Dark Knight', '0.452280691266'),\n",
       " ('Despicable Me', '0.448826736212'),\n",
       " ('Inception', '0.434456560016')]"
      ]
     },
     "execution_count": 91,
     "metadata": {},
     "output_type": "execute_result"
    }
   ],
   "source": [
    "# Test it out\n",
    "\n",
    "# 70% of the hybrid search score based on cosine similarity\n",
    "linear_combo(user_query, alpha=0.7, num_results=6)"
   ]
  },
  {
   "cell_type": "markdown",
   "metadata": {},
   "source": [
    "## 2. Client-side fusion with RRF\n",
    "\n",
    "Instead of relying on document scores like cosine similarity and BM25/TFIDF, we can fetch items and focus on their rank. This rank can be utilized to create a new ranking metric known as [Reciprocal Rank Fusion (RRF)](https://plg.uwaterloo.ca/~gvcormac/cormacksigir09-rrf.pdf). RRF is powerful because it can handle ranked lists of different length, scores of different scales, and other complexities.\n",
    "\n",
    "Although Redis does not currently support RRF natively, we can easily implement it on the client side."
   ]
  },
  {
   "cell_type": "code",
   "execution_count": 74,
   "metadata": {},
   "outputs": [],
   "source": [
    "def fuse_rankings_rrf(*ranked_lists, weights=None, k=60):\n",
    "    \"\"\"\n",
    "    Perform Weighted Reciprocal Rank Fusion on N number of ordered lists.\n",
    "    \"\"\"\n",
    "    item_scores = {}\n",
    "    \n",
    "    if weights is None:\n",
    "        weights = [1.0] * len(ranked_lists)\n",
    "    else:\n",
    "        assert len(weights) == len(ranked_lists), \"Number of weights must match number of ranked lists\"\n",
    "        assert all(0 <= w <= 1 for w in weights), \"Weights must be between 0 and 1\"\n",
    "    \n",
    "    for ranked_list, weight in zip(ranked_lists, weights):\n",
    "        for rank, item in enumerate(ranked_list, start=1):\n",
    "            if item not in item_scores:\n",
    "                item_scores[item] = 0\n",
    "            item_scores[item] += weight * (1 / (rank + k))\n",
    "    \n",
    "    # Sort items by their weighted RRF scores in descending order\n",
    "    return sorted(item_scores.items(), key=lambda x: x[1], reverse=True)"
   ]
  },
  {
   "cell_type": "code",
   "execution_count": 75,
   "metadata": {},
   "outputs": [
    {
     "data": {
      "text/plain": [
       "[(2, 0.04814747488101534),\n",
       " (1, 0.032266458495966696),\n",
       " (6, 0.03200204813108039),\n",
       " (5, 0.01639344262295082),\n",
       " (4, 0.016129032258064516),\n",
       " (3, 0.015873015873015872),\n",
       " (7, 0.015625),\n",
       " (8, 0.015384615384615385)]"
      ]
     },
     "execution_count": 75,
     "metadata": {},
     "output_type": "execute_result"
    }
   ],
   "source": [
    "# Below is a simple example of RRF over a few lists of numbers\n",
    "fuse_rankings_rrf([1, 2, 3], [2, 4, 6, 7, 8], [5, 6, 1, 2])"
   ]
  },
  {
   "cell_type": "code",
   "execution_count": 76,
   "metadata": {},
   "outputs": [],
   "source": [
    "def weighted_rrf(\n",
    "    user_query: str,\n",
    "    alpha: float = 0.5,\n",
    "    num_results: int = 4,\n",
    "    k: int = 60,\n",
    ") -> List[Dict[str, Any]]:\n",
    "    \"\"\"Implemented client-side RRF after querying from Redis.\"\"\"\n",
    "    # Create the vector query\n",
    "    vector_query = make_vector_query(user_query, num_results=len(movie_data))\n",
    "\n",
    "    # Create the full-text query\n",
    "    full_text_query = make_ft_query(\"description\", user_query, num_results=len(movie_data))\n",
    "\n",
    "    # Run queries individually\n",
    "    vector_query_results = index.query(vector_query)\n",
    "    full_text_query_results = index.query(full_text_query)\n",
    "\n",
    "    # Extract titles from results\n",
    "    vector_titles = [movie[\"title\"] for movie in vector_query_results]\n",
    "    full_text_titles = [movie[\"title\"] for movie in full_text_query_results]\n",
    "\n",
    "    # Perform weighted RRF\n",
    "    return fuse_rankings_rrf(vector_titles, full_text_titles, weights=[alpha, 1-alpha], k=k)[:num_results]"
   ]
  },
  {
   "cell_type": "code",
   "execution_count": 77,
   "metadata": {},
   "outputs": [
    {
     "data": {
      "text/plain": [
       "[('The Incredibles', 0.01639344262295082),\n",
       " ('Explosive Pursuit', 0.01575682382133995),\n",
       " ('Mad Max: Fury Road', 0.015079365079365078),\n",
       " ('Fast & Furious 9', 0.014925373134328358),\n",
       " ('Finding Nemo', 0.01488095238095238),\n",
       " ('The Dark Knight', 0.014854753521126762)]"
      ]
     },
     "execution_count": 77,
     "metadata": {},
     "output_type": "execute_result"
    }
   ],
   "source": [
    "# Test it out!\n",
    "weighted_rrf(user_query, num_results=6)"
   ]
  },
  {
   "cell_type": "markdown",
   "metadata": {},
   "source": [
    "But say we want to give more weight to the vector search rankings in this case to boost semantic similarities contribution to the final rank:"
   ]
  },
  {
   "cell_type": "code",
   "execution_count": 78,
   "metadata": {},
   "outputs": [
    {
     "data": {
      "text/plain": [
       "[('The Incredibles', 0.01639344262295082),\n",
       " ('Explosive Pursuit', 0.015905707196029777),\n",
       " ('Mad Max: Fury Road', 0.015396825396825395),\n",
       " ('The Dark Knight', 0.015162852112676057),\n",
       " ('Fast & Furious 9', 0.014925373134328356),\n",
       " ('Inception', 0.014715649647156496)]"
      ]
     },
     "execution_count": 78,
     "metadata": {},
     "output_type": "execute_result"
    }
   ],
   "source": [
    "weighted_rrf(user_query, alpha=0.7, num_results=6)"
   ]
  },
  {
   "cell_type": "markdown",
   "metadata": {},
   "source": [
    "## 3. Client-side reranking\n",
    "\n",
    "An alternative approach to RRF is to simply use an external reranker to order the final recommendations. RedisVL has built-in integrations to a few popular reranking modules."
   ]
  },
  {
   "cell_type": "code",
   "execution_count": 79,
   "metadata": {},
   "outputs": [],
   "source": [
    "from redisvl.utils.rerank import HFCrossEncoderReranker\n",
    "\n",
    "# Load the ms marco MiniLM cross encoder model from huggingface\n",
    "reranker = HFCrossEncoderReranker(\"cross-encoder/ms-marco-MiniLM-L-6-v2\")\n",
    "\n",
    "\n",
    "def rerank(\n",
    "    user_query: str,\n",
    "    num_results: int = 4,\n",
    ") -> List[Dict[str, Any]]:\n",
    "    \"\"\"Rerank the candidates based on the user query with an external model/module.\"\"\"\n",
    "    # Create the vector query\n",
    "    vector_query = make_vector_query(user_query, num_results=num_results)\n",
    "\n",
    "    # Create the full-text query\n",
    "    full_text_query = make_ft_query(\"description\", user_query, num_results=num_results)\n",
    "\n",
    "    # Run queries individually\n",
    "    vector_query_results = index.query(vector_query)\n",
    "    full_text_query_results = index.query(full_text_query)\n",
    "\n",
    "    # Assemble list of potential movie candidates with their IDs\n",
    "    movie_map = {}\n",
    "    for movie in vector_query_results + full_text_query_results:\n",
    "        candidate = f\"Title: {movie['title']}. Description: {movie['description']}\"\n",
    "        if candidate not in movie_map:\n",
    "            movie_map[candidate] = movie\n",
    "\n",
    "    # Rerank candidates\n",
    "    reranked_movies, scores = reranker.rank(\n",
    "        query=user_query,\n",
    "        docs=list(movie_map.keys()),\n",
    "        limit=num_results,\n",
    "        return_score=True\n",
    "    )\n",
    "\n",
    "    # Fetch full movie objects for the reranked results\n",
    "    return [\n",
    "        (movie_map[movie['content']][\"title\"], score)\n",
    "        for movie, score in zip(reranked_movies, scores)\n",
    "    ]\n"
   ]
  },
  {
   "cell_type": "code",
   "execution_count": 80,
   "metadata": {},
   "outputs": [
    {
     "data": {
      "text/plain": [
       "[('The Incredibles', -0.4526837468147278),\n",
       " ('The Dark Knight', -7.41187858581543),\n",
       " ('Explosive Pursuit', -8.751346588134766),\n",
       " ('Mad Max: Fury Road', -7.049142837524414),\n",
       " ('Aladdin', -9.638406753540039),\n",
       " ('Despicable Me', -9.797615051269531)]"
      ]
     },
     "execution_count": 80,
     "metadata": {},
     "output_type": "execute_result"
    }
   ],
   "source": [
    "# Test it out!\n",
    "rerank(user_query, num_results=6)"
   ]
  },
  {
   "cell_type": "markdown",
   "metadata": {},
   "source": [
    "This technique is certainly much slower than simple RRF as it's running an additional cross-encoder model to rerank the results. This can be fairly computationally expensive, but tunable with enough clarity on the use case and focus (how many items to retrieve? how many items to rerank? model accleration via GPU?)"
   ]
  },
  {
   "cell_type": "markdown",
   "metadata": {},
   "source": [
    "## Comparing Approaches\n",
    "\n",
    "While each approach has strengths and weaknesses, it's important to understand that each might work better in some use cases than others. Below we will run through a sample of user queries and generate matches for each using different hybrid search techniques."
   ]
  },
  {
   "cell_type": "code",
   "execution_count": 81,
   "metadata": {},
   "outputs": [],
   "source": [
    "movie_user_queries = [\n",
    "    \"I'm in the mood for a high-rated action movie with a complex plot\",\n",
    "    \"What's a funny animated film about unlikely friendships?\",\n",
    "    \"Any movies featuring superheroes or extraordinary abilities\", \n",
    "    \"I want to watch a thrilling movie with spies or secret agents\",\n",
    "    \"Are there any comedies set in unusual locations or environments?\",\n",
    "    \"Find me an action-packed movie with car chases or explosions\",\n",
    "    \"What's a good family-friendly movie with talking animals?\",\n",
    "    \"I'm looking for a film that combines action and mind-bending concepts\",\n",
    "    \"Suggest a movie with a strong female lead character\",\n",
    "    \"What are some movies that involve heists or elaborate plans?\",\n",
    "    \"I need a feel-good movie about personal growth or transformation\",\n",
    "    \"Are there any films that blend comedy with action elements?\", \n",
    "    \"Show me movies set in dystopian or post-apocalyptic worlds\",\n",
    "    \"I'm interested in a movie with themes of revenge or justice\",\n",
    "    \"What are some visually stunning movies with impressive special effects?\"\n",
    "]"
   ]
  },
  {
   "cell_type": "code",
   "execution_count": 82,
   "metadata": {},
   "outputs": [],
   "source": [
    "import pandas as pd\n",
    "\n",
    "\n",
    "rankings = pd.DataFrame()\n",
    "rankings[\"queries\"] = movie_user_queries\n",
    "\n",
    "# First, add new columns to the DataFrame\n",
    "rankings[\"hf-cross-encoder\"] = \"\"\n",
    "rankings[\"rrf\"] = \"\"\n",
    "rankings[\"linear-combo-bm25-cosine\"] = \"\""
   ]
  },
  {
   "cell_type": "code",
   "execution_count": 83,
   "metadata": {},
   "outputs": [],
   "source": [
    "# Now iterate through the queries and add results\n",
    "for i, user_query in enumerate(movie_user_queries):\n",
    "    rankings.at[i, \"hf-cross-encoder\"] = rerank(user_query, num_results=4)\n",
    "    rankings.at[i, \"rrf\"] = weighted_rrf(user_query, alpha=0.7, num_results=4)\n",
    "    rankings.at[i, \"linear-combo-bm25-cosine\"] = linear_combo(user_query, alpha=0.7, num_results=4)"
   ]
  },
  {
   "cell_type": "code",
   "execution_count": 84,
   "metadata": {},
   "outputs": [
    {
     "data": {
      "text/html": [
       "<div>\n",
       "<style scoped>\n",
       "    .dataframe tbody tr th:only-of-type {\n",
       "        vertical-align: middle;\n",
       "    }\n",
       "\n",
       "    .dataframe tbody tr th {\n",
       "        vertical-align: top;\n",
       "    }\n",
       "\n",
       "    .dataframe thead th {\n",
       "        text-align: right;\n",
       "    }\n",
       "</style>\n",
       "<table border=\"1\" class=\"dataframe\">\n",
       "  <thead>\n",
       "    <tr style=\"text-align: right;\">\n",
       "      <th></th>\n",
       "      <th>queries</th>\n",
       "      <th>hf-cross-encoder</th>\n",
       "      <th>rrf</th>\n",
       "      <th>linear-combo-bm25-cosine</th>\n",
       "    </tr>\n",
       "  </thead>\n",
       "  <tbody>\n",
       "    <tr>\n",
       "      <th>0</th>\n",
       "      <td>I'm in the mood for a high-rated action movie ...</td>\n",
       "      <td>[(Explosive Pursuit, -11.244140625), (Mad Max:...</td>\n",
       "      <td>[(The Incredibles, 0.016029143897996357), (Mad...</td>\n",
       "      <td>[(The Incredibles, 1.09860771359), (Despicable...</td>\n",
       "    </tr>\n",
       "    <tr>\n",
       "      <th>1</th>\n",
       "      <td>What's a funny animated film about unlikely fr...</td>\n",
       "      <td>[(Despicable Me, -10.441909790039062), (The In...</td>\n",
       "      <td>[(Black Widow, 0.015625), (The Incredibles, 0....</td>\n",
       "      <td>[(The Incredibles, 0.454752063751), (Despicabl...</td>\n",
       "    </tr>\n",
       "    <tr>\n",
       "      <th>2</th>\n",
       "      <td>Any movies featuring superheroes or extraordin...</td>\n",
       "      <td>[(The Incredibles, -3.6648082733154297), (The ...</td>\n",
       "      <td>[(The Incredibles, 0.01639344262295082), (Mad ...</td>\n",
       "      <td>[(The Incredibles, 1.05887192239), (The Avenge...</td>\n",
       "    </tr>\n",
       "    <tr>\n",
       "      <th>3</th>\n",
       "      <td>I want to watch a thrilling movie with spies o...</td>\n",
       "      <td>[(The Incredibles, -10.843631744384766), (Expl...</td>\n",
       "      <td>[(Skyfall, 0.01631411951348493), (Explosive Pu...</td>\n",
       "      <td>[(Skyfall, 0.443840536475), (Despicable Me, 0....</td>\n",
       "    </tr>\n",
       "    <tr>\n",
       "      <th>4</th>\n",
       "      <td>Are there any comedies set in unusual location...</td>\n",
       "      <td>[(The Incredibles, -11.45376968383789), (Explo...</td>\n",
       "      <td>[(Madagascar, 0.015272878190495952), (Explosiv...</td>\n",
       "      <td>[(Madagascar, 0.442132198811), (Despicable Me,...</td>\n",
       "    </tr>\n",
       "  </tbody>\n",
       "</table>\n",
       "</div>"
      ],
      "text/plain": [
       "                                             queries  \\\n",
       "0  I'm in the mood for a high-rated action movie ...   \n",
       "1  What's a funny animated film about unlikely fr...   \n",
       "2  Any movies featuring superheroes or extraordin...   \n",
       "3  I want to watch a thrilling movie with spies o...   \n",
       "4  Are there any comedies set in unusual location...   \n",
       "\n",
       "                                    hf-cross-encoder  \\\n",
       "0  [(Explosive Pursuit, -11.244140625), (Mad Max:...   \n",
       "1  [(Despicable Me, -10.441909790039062), (The In...   \n",
       "2  [(The Incredibles, -3.6648082733154297), (The ...   \n",
       "3  [(The Incredibles, -10.843631744384766), (Expl...   \n",
       "4  [(The Incredibles, -11.45376968383789), (Explo...   \n",
       "\n",
       "                                                 rrf  \\\n",
       "0  [(The Incredibles, 0.016029143897996357), (Mad...   \n",
       "1  [(Black Widow, 0.015625), (The Incredibles, 0....   \n",
       "2  [(The Incredibles, 0.01639344262295082), (Mad ...   \n",
       "3  [(Skyfall, 0.01631411951348493), (Explosive Pu...   \n",
       "4  [(Madagascar, 0.015272878190495952), (Explosiv...   \n",
       "\n",
       "                            linear-combo-bm25-cosine  \n",
       "0  [(The Incredibles, 1.09860771359), (Despicable...  \n",
       "1  [(The Incredibles, 0.454752063751), (Despicabl...  \n",
       "2  [(The Incredibles, 1.05887192239), (The Avenge...  \n",
       "3  [(Skyfall, 0.443840536475), (Despicable Me, 0....  \n",
       "4  [(Madagascar, 0.442132198811), (Despicable Me,...  "
      ]
     },
     "execution_count": 84,
     "metadata": {},
     "output_type": "execute_result"
    }
   ],
   "source": [
    "rankings.head()"
   ]
  },
  {
   "cell_type": "code",
   "execution_count": 85,
   "metadata": {},
   "outputs": [
    {
     "data": {
      "text/plain": [
       "array(['Show me movies set in dystopian or post-apocalyptic worlds',\n",
       "       list([('Mad Max: Fury Road', -3.4906280040740967), ('Despicable Me', -11.051526069641113), ('The Incredibles', -11.315656661987305), ('Black Widow', -10.880638122558594)]),\n",
       "       list([('Mad Max: Fury Road', 0.01602086438152012), ('Skyfall', 0.015607940446650124), ('The Incredibles', 0.015237691001697792), ('Black Widow', 0.01513526119402985)]),\n",
       "       list([('Mad Max: Fury Road', '0.452238592505'), ('The Incredibles', '0.445061504841'), ('Madagascar', '0.419015598297'), ('Despicable Me', '0.416218388081')])],\n",
       "      dtype=object)"
      ]
     },
     "execution_count": 85,
     "metadata": {},
     "output_type": "execute_result"
    }
   ],
   "source": [
    "rankings.loc[12].values"
   ]
  },
  {
   "cell_type": "markdown",
   "metadata": {},
   "source": [
    "# Wrap up\n",
    "That's a wrap! Hopefully from this you were able to learn:\n",
    "- How to implement simple vector search queries in Redis\n",
    "- How to implement vector search queries with full-text filters\n",
    "- How to implement hybrid search queries using the Redis aggregation API\n",
    "- How to perform client-side fusion and reranking techniques"
   ]
  }
 ],
 "metadata": {
  "kernelspec": {
   "display_name": "Python 3",
   "language": "python",
   "name": "python3"
  },
  "language_info": {
   "codemirror_mode": {
    "name": "ipython",
    "version": 3
   },
   "file_extension": ".py",
   "mimetype": "text/x-python",
   "name": "python",
   "nbconvert_exporter": "python",
   "pygments_lexer": "ipython3",
   "version": "3.11.9"
  }
 },
 "nbformat": 4,
 "nbformat_minor": 2
}
