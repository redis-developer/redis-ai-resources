{
 "cells": [
  {
   "cell_type": "markdown",
   "metadata": {},
   "source": [
    "![Redis](https://redis.io/wp-content/uploads/2024/04/Logotype.svg?auto=webp&quality=85,75&width=120)\n",
    "# Implementing hybrid search with Redis\n",
    "\n",
    "Hybrid search is all about combining lexical search with semantic vector search to improve result relevancy. This notebook will cover 3 different hybrid search strategies with Redis:\n",
    "\n",
    "1. Linear combination of scores from lexical search (BM25) and vector search (Cosine Distance) with the aggregation API\n",
    "2. Client-Side Reciprocal Rank Fusion (RRF)\n",
    "3. Client-Side Reranking with a cross encoder model\n",
    "\n",
    ">Note: Additional work is planed within the Redis core and ecosystem to add more flexible hybrid search capabilities in the future.\n",
    "\n",
    "## Let's Begin!\n",
    "<a href=\"https://colab.research.google.com/github/redis-developer/redis-ai-resources/blob/main/python-recipes/vector-search/02_hybrid_search.ipynb\" target=\"_parent\"><img src=\"https://colab.research.google.com/assets/colab-badge.svg\" alt=\"Open In Colab\"/></a>\n"
   ]
  },
  {
   "cell_type": "markdown",
   "metadata": {},
   "source": [
    "### Install Packages"
   ]
  },
  {
   "cell_type": "code",
   "execution_count": null,
   "metadata": {},
   "outputs": [],
   "source": [
    "# NBVAL_SKIP\n",
    "%pip install -q \"redisvl>=0.3.5\" sentence-transformers pandas"
   ]
  },
  {
   "cell_type": "markdown",
   "metadata": {},
   "source": [
    "### Data/Index Preparation\n",
    " \n",
    "In this section:\n",
    "\n",
    "1. We prepare the data necessary for our hybrid search implementations by loading a collection of movies. Each movie object contains the following attributes:\n",
    "    - `title`\n",
    "    - `rating`\n",
    "    - `description`\n",
    "    - `genre`\n",
    " \n",
    "2. We generate vector embeddings from the movie descriptions. This allows users to perform searches that not only rely on exact matches but also on semantic relevance, helping them find movies that align closely with their interests.\n",
    "\n",
    "3. After preparing the data, we populate a search index with these movie records, enabling efficient querying based on both lexical and vector-based search techniques."
   ]
  },
  {
   "cell_type": "markdown",
   "metadata": {},
   "source": [
    "Running remotely or in collab? Run this cell to download the necessary dataset."
   ]
  },
  {
   "cell_type": "code",
   "execution_count": null,
   "metadata": {},
   "outputs": [],
   "source": [
    "# NBVAL_SKIP\n",
    "!git clone https://github.com/redis-developer/redis-ai-resources.git temp_repo\n",
    "!mv temp_repo/python-recipes/vector-search/resources .\n",
    "!rm -rf temp_repo"
   ]
  },
  {
   "cell_type": "markdown",
   "metadata": {},
   "source": [
    "### Install Redis Stack\n",
    "\n",
    "Later in this tutorial, Redis will be used to store, index, and query vector\n",
    "embeddings and full text fields. **We need to have a Redis\n",
    "instance available.**\n",
    "\n",
    "#### Local Redis\n",
    "Use the shell script below to download, extract, and install [Redis Stack](https://redis.io/docs/getting-started/install-stack/) directly from the Redis package archive."
   ]
  },
  {
   "cell_type": "code",
   "execution_count": null,
   "metadata": {},
   "outputs": [],
   "source": [
    "# NBVAL_SKIP\n",
    "%%sh\n",
    "curl -fsSL https://packages.redis.io/gpg | sudo gpg --dearmor -o /usr/share/keyrings/redis-archive-keyring.gpg\n",
    "echo \"deb [signed-by=/usr/share/keyrings/redis-archive-keyring.gpg] https://packages.redis.io/deb $(lsb_release -cs) main\" | sudo tee /etc/apt/sources.list.d/redis.list\n",
    "sudo apt-get update  > /dev/null 2>&1\n",
    "sudo apt-get install redis-stack-server  > /dev/null 2>&1\n",
    "redis-stack-server --daemonize yes"
   ]
  },
  {
   "cell_type": "markdown",
   "metadata": {},
   "source": [
    "#### Alternative Redis Access (Cloud, Docker, other)\n",
    "There are many ways to get the necessary redis-stack instance running\n",
    "1. On cloud, deploy a [FREE instance of Redis in the cloud](https://redis.com/try-free/). Or, if you have your\n",
    "own version of Redis Enterprise running, that works too!\n",
    "2. Per OS, [see the docs](https://redis.io/docs/latest/operate/oss_and_stack/install/install-stack/)\n",
    "3. With docker: `docker run -d --name redis-stack-server -p 6379:6379 redis/redis-stack-server:latest`"
   ]
  },
  {
   "cell_type": "markdown",
   "metadata": {},
   "source": [
    "### Define the Redis Connection URL\n",
    "\n",
    "By default this notebook connects to the local instance of Redis Stack. **If you have your own Redis Enterprise instance** - replace REDIS_PASSWORD, REDIS_HOST and REDIS_PORT values with your own."
   ]
  },
  {
   "cell_type": "code",
   "execution_count": 61,
   "metadata": {},
   "outputs": [],
   "source": [
    "import os\n",
    "\n",
    "# Replace values below with your own if using Redis Cloud instance\n",
    "REDIS_HOST = os.getenv(\"REDIS_HOST\", \"localhost\") # ex: \"redis-18374.c253.us-central1-1.gce.cloud.redislabs.com\"\n",
    "REDIS_PORT = os.getenv(\"REDIS_PORT\", \"6379\")      # ex: 18374\n",
    "REDIS_PASSWORD = os.getenv(\"REDIS_PASSWORD\", \"\")  # ex: \"1TNxTEdYRDgIDKM2gDfasupCADXXXX\"\n",
    "\n",
    "# If SSL is enabled on the endpoint, use rediss:// as the URL prefix\n",
    "REDIS_URL = f\"redis://:{REDIS_PASSWORD}@{REDIS_HOST}:{REDIS_PORT}\""
   ]
  },
  {
   "cell_type": "markdown",
   "metadata": {},
   "source": [
    "### Create redis client, load data, generate embeddings"
   ]
  },
  {
   "cell_type": "code",
   "execution_count": 62,
   "metadata": {},
   "outputs": [],
   "source": [
    "from redis import Redis\n",
    "\n",
    "client = Redis.from_url(REDIS_URL)"
   ]
  },
  {
   "cell_type": "code",
   "execution_count": 63,
   "metadata": {},
   "outputs": [],
   "source": [
    "import json\n",
    "\n",
    "with open(\"resources/movies.json\", 'r') as file:\n",
    "    movies = json.load(file)"
   ]
  },
  {
   "cell_type": "code",
   "execution_count": 64,
   "metadata": {},
   "outputs": [],
   "source": [
    "from redisvl.utils.vectorize import HFTextVectorizer\n",
    "\n",
    "# load model for embedding our movie descriptions\n",
    "model = HFTextVectorizer('sentence-transformers/all-MiniLM-L6-v2')"
   ]
  },
  {
   "cell_type": "code",
   "execution_count": 65,
   "metadata": {},
   "outputs": [],
   "source": [
    "movie_data = [\n",
    "    {\n",
    "        **movie,\n",
    "        \"description_vector\": model.embed(movie[\"description\"], as_buffer=True, dtype=\"float32\")\n",
    "    } for movie in movies\n",
    "]"
   ]
  },
  {
   "cell_type": "code",
   "execution_count": 66,
   "metadata": {},
   "outputs": [
    {
     "data": {
      "text/plain": [
       "[{'title': 'Explosive Pursuit',\n",
       "  'genre': 'action',\n",
       "  'rating': 7,\n",
       "  'description': 'A daring cop chases a notorious criminal across the city in a high-stakes game of cat and mouse.',\n",
       "  'description_vector': b'\\x91f|=\\xb6`\\n;g\\x92\\xb7;3\\xcb~\\xbd\\x16e\\xce\\xbb\\xd7\\x16J=P\\xa7?=\\xc8v\\x95<i\\xfa\\x06\\xbe\\x12Y\\xcf=4\\x07p=D\\xdb\\r\\xbd\\x8d\\xf2H\\xbdfe\\xc6<G\\xdfa=t8\\x16\\xbc\\xd4\\xd3\\x13<A\\xaa\\x1c=\\x06\\xef\\x89<\\xb6\\xb0-<\\x99\\xb2\\x9f\\xbcZ\\x0b\\xc3\\xbd\\xa5NR=Zl\\xf7\\xbcN>\\x17\\xbe\\x02\\x1a\\x05\\xb9@u\\xbf<\\xd6\\xe2b\\xba\\xd0\\xa6\\xa8\\xbdo\\xdc\\xec\\xbcQc%=N\\xe7r\\xbb\\x1dOG==(\\x85=y@\\xa2\\xbc7Z\\xd0\\xbdB%K\\xbd\\xba\\xed\\x94\\xbcU\\xddH=\\xbe&F<\\xbc*\\xec<\\x8c\\xd8\\x8d\\xbd\\xf3Z\\x98<\\x15\\xa3\\xa3=3g3\\xbd$\\xcd\\xbd\\xbd\\xf7$\\xf7;\\xf6\\xf4z=\\x02\\xb5\\x8c=\\x8d\\x0e\\xc6\\xbdhI\\x90\\xbdq\\x16\\xbd;u\\xe7\\x0c\\xbd&3\\xc9\\xbc\\x82\\xf8\\xbb\\xbc\\xa7&u\\xbb-\\x8f\\xca<\\xf2\\x7fJ=\\x14\\xaf*=\\x87OU\\xbd\\xde\\xf0\\x95\\xbc \\x02\\x19=\\x1b\\xf4K<\\xd0\\xc2\\t=F\\x83\\xac=\\x9e\\xd7\\xb8\\xbd\\xf3\\xb5\\x9c\\xbdB\\x85\\x18=\\xa4d&=\\'3\\xf8<\\xd3\\xf7\\x88<Tv\\xf2\\xbb1=[\\xbda\\xac\\xee\\xbb4:A\\xbd\\xd3d\\x19\\xbd\\xf2c\\xf2\\xbb\\xfa\\xb9x;\\xdc;O<\\xab1,\\xbc\\xeb\\xae\\xae=\\x82\\x00-\\xbc\\x18\\x06\\xae\\xbdi\\xd6\\x1a=\\xc3\\xbf\\xcd=\\x1e\\x150=\\xe5\\xf1\\x9d\\xbc\\xb3GK=\\xa7\\xb8 =\\xae\\xf1I\\xbd1e\\x9e\\xbb6\\x8b\\xf7:\\x8c\\xf8\\x1c=\\x84\\xba\\xde<\\x02o\\x16\\xbbO]p\\xbb\\xde\\xd5<<\\xe6\\xa1\\xa3\\xb8\\xb79s<\\x184&<\\x8f\\x1c\\x18<&\\xd9-\\xbd\\xcc\\xe6\\x98<\\x17\\xa1N=\\x9c/\\xa5=\\x11\\xf3\\xdd<)L\\x13<\\x82\\x13\\xce\\xbaX\\x9e\\xdc\\xbc\\x9f8\\x05=\\x1a\\xa1\\xf5<d\\xd8R\\xbc4\\x94-\\xbc\\x9c\\xdf\\\\9\\x9e1\\xec=X\\xf5V=7G\\xd6\\xbc\\x90\"S=\\xce\\xd9^\\xbd\\xae\\xa3\\x91<\\xd7\\xd9\\x13<$\\xb3y\\xbb\\x82\\x8d/\\xbd\\xc3\\x06p<\\xf5\\x94\\x88\\xbb\\xac\\xd0\\x9d<H\\x02\\xb6=\\x18\\xf1\\xad\\x89U\\xf2\\xa6\\xbb\\xb5\\xfbe\\xbd\\xc1QK\\xbb\\xf4\\x0f\\x90\\xbb\\xe1s\\xb9\\xbb-\\xc9\\xb9\\xbb\\xfehk=\\x9c\\r\\xad<5f\\xa8\\xbd\\xc1]\\xcc=\\x1c\\xe0 \\xbe\\xc84/\\xbdof\\xf7\\xbc[\\x9av=\\xd4\\x0bq</\\xda\\x1c\\xbd\\xed\\x08\\x8b<\\xean\\xa6\\xbc\\xc9t\\x86<}\\x87\\x19=\\x7f\\xae\\xe4\\xbc\\x03m^\\xbc\\x1bV\\x0e\\xbdU\\xb0\\xe3\\xbc\\xfdFU;\\xaaG|\\xbd]\\xfb\\x8b\\xbdz\\x81*\\xbd~\\x83\\xf4=\\xde\\xb7\\x10;\\x00!\\x0e\\xbd\\x04\\xd4\\xb4=\\x1b&\\x15\\xbdV\\x86\\x83=I$:<\\x1e\\xea\\xa1<\\x1a\\x08\\x8d\\xbd\\xa1\\x00i\\xbd:\\x01\\xdd<\\xff\\x86\\xd6=6\\x98\\x9c\\xbde|!\\xbd\\x10\"\\xc5\\xb9\\xaa\\xb3\\x93\\xbc\\xef\\xcb>\\xbd\\x7f\\x1bF\\xbd\\x9f?\\x14\\xbe\\xc9\\x8f(\\xbd\\xe4O\\x89\\xbd\\x18\\xae\\xd4<\\xb2\\x12\\xc3=\\xb0\\x05O\\xbd\\x8f\\x8ep\\xbc\\x1a\\xb5\\xac\\xbc\\xcc\\x9ee\\xbdv\\x8es;\\x0ca\\xc1;\\xd5\\xfaB\\xbde%\\xfe:\\x99\\xe6\\xf4=\\xa7\\x15*<\\x8c\\xf8\\x1b=\\x08\\xfcV\\xbd\\xce\\xd1\\r=<\\xee\\x06=\\x17u\\xba\\xbd\\r\\xa4\\xd6<\\x12\\xec\\xd9;\\xc89/=\\xa6\\xc2\\x85=x\\x0b\"=\\xe3i\\xef<4\\xe8c=\\xfc2\\x08\\xbe\\xd2\\x12;=\\x98VW;N\\xa4b<\\xe8\\x9d\\xb7<\\x90r;\\xbd\\\\z\\x91\\xbcO\\x00<\\xbd\\x13\\x1a\\xa3<\\x05K%\\xbcc\\xe7\\xbf\\xbb\\x89\\x87\\x12=\\x95\\x1d\\x95=||\\xfd\\xbc\\xf2\\xf1\\xd1\\xbdKz\\x84;\\xc7\\tu=.\\x8ai<=\\x91R\\xbd\\xdd\\xf3m\\xbd\\x8c\\xb83=_\\xedF=\\x1a\\xf3\\xd1\\x08oA\\xba<(\\xacO\\xbd\\xfc\\x0e\\xc7;\\x87\\xf4\\x04\\xbdN\\x82\\x92\\xbd\\x92\\xddD=a\\xd8;\\xbc\\xd1;\\xf4\\xbc\\xb2\\x8f\\x97\\xbd<\\\\\\r\\xbd\\xe1\\x8c\\xf5\\xbd\\x95\\x13(=\\xa2\\xc8\\xc6=\\xa9\\xed\\x1a=\\x98\\xa8\\xf8=\\x96\\xc1\\xee\\xbc\\xff.\\x18\\xbb\\xbf~;<\\xd9F\\t\\xbd\\x13\\x08\\x17=\\xa8\\xa5\\x1e=\\x17K\\xcb\\xbd0\\xf7\\x8c\\xbdXb\\xed\\xbb\\xc9[\\x19\\xbcU\\x0c\\x13\\xbcdq\\x83=\\xe9wd\\xbd.\\xc7\\xd1\\xbb~lY\\xbc\\xa2|a=a\\xcf\\xfd\\xbcB\\xa5\\x83\\xbb\\x9fO\\x19\\xbd&\\x02]\\xbd\\xb6\\xeaz=\\xff5\\x9c=1^\\xa9\\xbdi^9\\xbcT\\xe4N\\xbc}\\x07x\\xbd\\x17{\\xa0=@\\x9f\\x96<\\x81s8\\xba\\xa6\\xbb=\\xbd\\xb2|(<\\xc1\\xdf\\xb4\\xbbr\\xc9\\x0b\\xbd\\xc2\\x01\\x95\\xbd\\x02\\xc7T=\\x11p\\xd1<q3\\'\\xbd\\xb9\\x00H<t\\x0f\\xb8<\\x18U}\\xbd~}\\x01=\\xfe\\xc9[\\xbd\\xf7\\xec\\x03<\\xfcb\\x0f\\xbd\\xd3\\x8e\\xe7\\xbc\\xeb\\x16\\xc8<\\xba\\x08\\x9c=\\xfc\\xd4\\xa6\\xbdDQ\\xe5=]-O<\\xe0\\xf22=\\xc826\\xbd\\xf7\\xe2\\xf2\\xbc\\x06[\\xa7<r\\xb2\\x02\\xbe\\xe9n2\\xbd\\xb0\\x80\\x8a=\\x00\\xc4\\t\\xbd\\x0f\\xb8\\xcd\\xbc\\x8e\\xdb\\xad\\xbb\\xa8\\xfd\\xde\\xbc\\x14\\x17E={\\x06\\xbd=\\x13&m=\\x1cX\\x8e=\\xea\\xae\\xa4=\\x17\\xa3\\xca\\xbb\\x82?\\r\\xbc\\xc09\\x9c<Fl\\x8e\\xbd3\\x10k=\\xb5\\xff\\xbe;{\\x16\\xff<\\x898\\x92<\\xa92\\x8c;H\\xac\\xa3=\\xfa+v<\\xd4\\x89\\xf0\\xbb|\\xdb\\x07\\xbc\\x99\\xae\\xbd\\xbc\\xb5\\x8f\\xb4\\xb2\\xaf\\x88\\xd3\\xbd\\x86\\xe9j=\\xee\\xdb\\xa7\\xbd\\xde\\x16\\xe5<D\\x19p=\\xf1\\xe6\\x9f=\\xe5Gh\\xbd\\xec\\x9a\\xf4\\xbdv\\xd6\\x07\\xbc$\\xddj<9tw=\\x85\\xd0\\xe1<\\xc5\\xae\\x1e=\\xedF\\xc4<\\xa00\\n<Sjd\\xbc\\xb6\\xfa\\x8c=\\xda\\x8a\\xa6\\xbcT-\\xcd\\xba\\xb1p\\xcf=(T-\\xbd\\xc5Qn=;\\x16\\x9f\\xbd\\x94\\x8a_=\\'\\x13#<\\xd6\\xaam;(\\x86\\x00\\xbe\\xeey\\x8b\\xbc`UG=\\x9d\\xa3\\xca=\\xe3\\xbdq\\xbc\\x98\\xe3:\\xbd\\xa4\\x93]<z]\\xd1;\\xc3d\\xae=\\xa4\\x1f\\x03\\xbd\\x04L\\x89=p:s\\xbd\\xaf\\x1eb=\\x9f\\xc9\\t\\xbb\\xa6\\xfb\\xe7<z\\xce\\xe4\\xbcXV#=p\\x8bk\\xbd\\xa6h\\x01<\\xf6\\xe5N\\xbd>\\x0c\\xb1\\xbch\\x01J\\xbda\\xf4~==\\xe3Z\\xbd?/\\xf1\\xbbJ98=\\xd92T\\xbc.\\'\\x81<\\xbd\\xa0M=\\xa0\\xde\\x05<\\x1bI|\\xbd\\xc4\\x98w<\\xdf\\xd3\\xa7\\xbd\\xdbS \\xbdl\\x13\\x07=\\x18&\\x14\\xbc\\xbev\\xe9<\\xfa,\\x97='},\n",
       " {'title': 'Skyfall',\n",
       "  'genre': 'action',\n",
       "  'rating': 8,\n",
       "  'description': 'James Bond returns to track down a dangerous new enemy who threatens global security.',\n",
       "  'description_vector': b'\\x98D\\x9e\\xbdG\\x9b\\x89\\xbc\\xc8\\x16\\x95\\xbc\\xae\\x0fT\\xbc\\xaf/g=>\\x8d\\x13\\xbc\\x9b\\x84$=\\x85\\x07/\\xbc\\xd0\\xa64<\\x95\\xf3\\xc1<\\x9e\\xd4\\xba;\\xec\\xc2\\xcb<\\x17C3\\xbd~\\x82\\x92=AG\\x96\\xbd8\\xe8\\x1b\\xbd2\\xed\\x8c=\\xd5\\xe5\\x1b=\\xb2\\x86\\x05<0\\xc0\\xe6<\\xf0Q2=\\xdd0\\xb5<\\x91\\xd7\\xb6<\\xd2\\x08\\xdd\\xbc\\xc6\\x07\\xc5\\xbd\\x92;\\x12=\\xac\\xab`=\\xfe\\xf2?\\xbd\\xd6\\xbe\\xb0\\xbd\\xef\\x14\\xa2\\xbb\\x12\\xda\\x12=\\xe2\\x0b-\\xbd\\xb0\\x03\\xe5;\\xfc\\xa1\\x9e<5\\xd2\\x0b=\\xee*h;\\xc7\\x80\\xf7<\\xb1\\x00\\x19\\xbd\\xc1\\x94\\x85=\\x9cy%\\xbd\\x1apx\\xbd\\xb9I:=)\\x8e\\xe8<^J\\xc1=\\xe6\\xa6\\x08=\\xbe\\xbf7\\xbd!\\xbeE\\xbd\\x8e?V\\xbc\\x0f\\xack=<,\\xa1\\xbd-\\xb9\\x98=m\\xd3Y\\xbb$@\\x00\\xbd^>\\x85<\\xae9,=\\xf0\\xf5\\xdf\\xba\\xa9\\x14:\\xbdM9\\x08\\xbd\\x07\\x0c\\xbe\\xbcV\\xb9\\x9a<\\xb9_6=\\rUb\\xbd\\xa8\\xb7#=\\xac\\xed\\xa2\\xbaK\\x95\\xe1\\xbc\\xf1\\xefX=\\x91u\\x11=5\\xd86=\\xb9\\x06\\x9f\\xbcB\\xe5\\xf0<\\x1a\\x15t=d\\xaf\\xd0\\xbbnK-=\\xd0H\\x11\\xbd\\xc2\\x036=\\xfc\\x15\\xd8<\"x\\xfd\\xbcC\\x10\\x9b=\\xec\\xdf_\\xbc\\xc1\\xff\\x03\\xbd\\xfdD\\xaa=\\xc7\\xab\\x0b\\xbd\\x16$\\xe6\\xbc@\\x0cr=n\\xbc\\x99=\\xa0\\xae\\xa6<&\\x9b$\\xbd\\xa1y\\x06\\xbd\\xe1\\xcf\\xde=\\xeeX\\x8f=Z%\\r\\xbd\\xfcy\\x0e\\xbc#\\xe0\\t<#\\tI=\\x00x\\x10\\xbd\\xfc\\xd4;\\xbdf\\x0f\\xd9<8\\xe9\\x93\\xbb^\\xdf\\xba\\xbde c=(\\x9b\\x97;@u\\xe0\\xbc\\x9c\\x10\\x9e\\xbde\\xf4~=b\\x9eh<Y\\x080;!\\x9br=\\x84C\\xe8:\\x13\\xd8\\xa6\\xbb\\xc2a2\\xbdc\\xccg\\xbb\\xf4\\xe9\\x00=6\\xc4\\x85;\\xee\\xf7g\\xbd\\x12\\xb2\\xdc=U\\xca\\x83\\xbd\\xb4R\\x8b\\xbc\\x8bF2=\\x12\\xe4\\x9b\\xbd\\x1c\\xbb\\x91=\\xcc=^<\\xcf\\x92\\x06=&@\\x90\\xbd`<\\xf5;\\xa2\\xc6\\xdc\\xbcR\\xd8\\x19=%b\\x0b\\xbd\\xafb\\xfa\\x88\\xf7x\\xef\\xbb\\xa9\\xe0\\xc6;V\\x08~=\\xe2/&\\xbdV\\x87\\x93\\xbd\\x8d(\\xe7\\xbc\\xa9&\\x08\\xbd\\xdd\\x86\\xb1=T\\xd8p\\xbcu\\xb4\\xa2<\\xc3\\xdd|\\xbd\\xc2\\xe5\\x83\\xbc\\xe8\\x94\\x94<G\\x0c\\x81=\\x81d\\t\\xbc\\x04\\x0e\\xab;0\\xe8T=\\xee\\x83\\xd8=\\x99\\x97\\xad=\\x0ec[\\xbc\\xa1\\x96\\xfc\\xbd\\xdce\\xf1;\\xbb\\x8e==~\\xee\\xa2\\xbc%\\xb8\\x0e=\\xdf\\x12X=\\x08\\xa7R<2h\\xa6<[\\xb1)=\\x92W\\xd0<\\xd8\\xe1\\x83\\xbd\\x1fq\\xfb;\\xf1F\\xa0:\\xd3\\xd9\\x9f\\xbb\\x97u\\xc0\\xbb\\xec\\xb2\\x82=\\\\9\\x94\\xbdt1\\xd8\\xbbs\\xe6\\x93\\xbc\\xbd\\xb1\\x14\\xbd\\x81\\x1f/<\\xc1?k=\\xf10\\xe2\\xbdb\\x7f\\x0f\\xb9g\\xfe\\x80<\\xdc\\xa3\\xca\\xbdm>\\xaf<R\\x8c\\x83\\xbb\\x11\\x1e\\x17\\xbd\\x8dL*\\xbdT\\x08m\\xbc\\xf5W\\x989C\\xf9\\xc2\\xbd\\xebf\\x11=\\xd1\\xdc\\xd7\\xbd\\x8a\\xfax<\\xe4\\xc0\\xa9;b\\xd6\\xc8\\xbb41I\\xbd\\x03\\x7f\\x0c\\xbd\\x88Q\\xb8\\xba\\x08\\x14\\xf1\\xbc\\xa5\\xf2\\xca\\xbd\\xe6uA\\xbc\\x05\\xf9<;\\xfb\\r\\x9d\\xbbj\\xd1r\\xbd\\x08\\xc4}\\xbc\\xc7\\xc0\\xe5\\xbd\\x12\\x18\\xf4=\\xb3Tp\\xbd,gC<\\xda:\\x16\\xbdR|\\x19\\xbb\\xf9.\\xbf<\\xe3$5=AGl=-\\xbd\\\\=cGE\\xbc\\xab\\xb8\\x85\\xbd\\xdd\\xd8Y\\xbd\\xf0\\xfa\\xff;2\\r\\x88=\\x91\\xe1\\xab=u{@\\xbd\\xfbN\\xc6\\xbb\\xad$o=\\x14#\\xf4\\xbdj\\x98\\xde=\\x96~0>z \\x98\\xbc|\\xd9\\x03\\xbe\\xb2k\\x8a\\xbd\\x99l/=\\xdful\\xbd\\xbc\\xfa\\xd5\\x07\\xe6\\xe9\\xcd\\xbc\\xea\\x17>\\xbdb\\xc0\\x83\\xbc<\\x1bY\\xbd@\\xd8\\x94\\xbd\\xa9/\\x1d\\xbc4M\\x07\\xbeP\\xdd\\x8f=5\\x08\\xc1\\xbc[\\xe6N<e\\x9dk\\xbd\\x91\\xd9\\x19<\\xf0\\x80\\xc3=[\\xe7\\xea<-\\x0e0<\\x93\\x02 =-\\x1a\\xda\\xbc\\xc0\\xcc\\xe0<\\xae{\\xa0=&\\x01|;\\x0b\\xd7\\xc2=\\x9d\\x88\\x89\\xbd\\x0f\\x0e\\xa4<f\\xa9\\x95\\xbc<L\\x90;\\x972\\x98=\\x12\\xc4\\x86<\\xdd\\x0bs=\\xd4,\\xff\\xbb\\x83\\xa8\\xa9\\xbc\\xe1\\xf8\\x95\\xbc\\xd6\\x9bc\\xbd\\'\\xad\\xee;#\\xb2\\xf5<\\x1ef|\\xbd\\xbc\\x98\\x0c>\\x08\\x8f\\x7f<\\xd4E\\xb5\\xbd\\nF\\x05=g@/=\\x88\\xad1\\xbd\\x1b\\xb1\\x8a=\\x07u\\x04\\xbc\\x98I \\xbd=\\x8b\\x9b\\xbd\\xa0F\\xc4<b\\x0b\\xae<\\xe8\\x9eA>\\x1d\\xf8\\xf7;M\\xa6\\x05\\xbd\\x9eu\\xe8<\\xa8\\x88N=\\xab\\x13\\x07\\xbd\\xeb_`\\xbdP\\xc7\\x99\\xbd\\xff\\x92\\xb9<Nk9\\xbdN\\x0e\\x9f\\xbc\\x1d\\x81\\xbb<_\\xaa\\x9e<\\x1c\\x88Q;\\xee\\xddJ\\xbcb\\'%\\xbd\\xa8\\x93\\x84=\\xd7\\x85\\x07\\xbc\\xc7\\x12^\\xbd\\x80\\x94\\xa2\\xbc\\xfd\\x01\\x95=\\xb9\\x16\\xa4<\\xba<\\xf0\\xbc$\\xd8\\x83\\xbb}X?<\\x12Pm\\xbc\\x9d\\xb2\\x96\\xbb\\xfd\\xba\\xc3<l\\xcb\"\\xbdJ\\xf2\\xd1\\xbd\\x04M\\x14\\xbe\\xa9+\\x91\\xbd\\xdb\\xd7Y=\\x8a\\x016=g\\x97\\xb4\\xbc\\x81\\xf3\\xf0:\\xd6\\xb3c\\xbc\\xcaz\\x1f=\\xa2i\\x18=\\t\\xacN=@\\x8a\\x1b=\\xf7\\xb2\\xa7\\xbcUT\\xe0\\xbb\\xd8\\xc1\\x97\\xbc\\xe1P\\x8b;q\\x1f\\xbd\\xbd-b\\x8c=j\\xd7\\xbc<~a\\xab\\xb25eF\\xbd\\xf3\\xf2\\r=6\\xecN=\\x87\\x01\\x9e\\xbah\\xbc\\x82\\xbb\\x162\\xf3;r\\x8a&\\xbd\\x99[\\xd4\\xbc1X\\x19<\\xbf]\\xdc\\xbdD\\x9a\\'=\\xcc\\nR\\xbd\\xa0d\\x05\\xbc\\x15\\xab\\x8b:[\\x00\\x03\\xbd Lc<\\r4\\xd0;\\xd8~\\x05\\xbe\\xb2\\xd8\\x08\\xbdW\\x9d\\xf0;\\xe8\\x81\\x13\\xbc\\xd5&:<\\xe6\\xcf\\xf9<\\x160\\xdb\\xbc\\xf4\\xd7\\x84=\\x0f~C\\xbd\\x16\\x18\\xf6;\\xf2G4=\\xd0\\x11\\x81<\\xb62\\xed=\\xc6Z9=\\xe8\\xb5I\\xbazD1=q\\xc3\\x02=\\x9c~\\x81\\xbc\\xfb\\xe1m=\\xee\\x89\\xee\\xbc[\\xe0\\x07<\\x05\\xcd\\xc0=\\xa8P\\xb5=\\x07\\xe3\\x1a\\xbd;\\x17|=e\\xf5\\x82\\xbd^\\xae\\x91=\\x0e\\xfcB\\xbd\\xec\\x85z\\xbda\\xb6L=\\xa2:\\xf7\\xbaM\\xd8)=\\x18G\\xe1\\xbd\\xecn\\x18<\\xabem\\xbd\\xd3\\x9a8\\xbdu\\nL=V\\xbd8=Q\\xe1\\xe1<\\x14\\xa1-\\xbb\\xaav\\xab<\\xdcD(\\xbc\\xa8\\xfcy<\\ry\\x96\\xbd\\xac\\t\\xbf\\xbd\\xa7t\\xf8:\\x95\\x1b:='},\n",
       " {'title': 'Fast & Furious 9',\n",
       "  'genre': 'action',\n",
       "  'rating': 6,\n",
       "  'description': 'Dom and his crew face off against a high-tech enemy with advanced weapons and technology.',\n",
       "  'description_vector': b'(\\xa5\\xc7\\xbc\\xf7,\\xa2=\\x1e\\x19H\\xbcB\\xc6t\\xbd\\x9c\\xa2C=*\\x0f\\x18\\xbc\\xbaKz=\\xe1\\x13\\xa0=\\xf1\\xe1\\x8c\\xbd\\xc3\\x84&=rZ\\x07=\\xb7\\xa8M\\xbc\\xa6\\xfaq=u\\x8b\\xe3\\xbc\\xd9\\xa3A\\xbd*\\'\\x13\\xbd\\x04\\x84\\x8a=\\xf4\\x9e\\xdd;<&s=\\x920l<\\xdeS\\x03\\xbc\\xfe\\xf0:\\xbc\\xe8\\x07\\x14=g\\r\\x03\\xbd\\xab\\x18\\xb6\\xbd\\xc0\\xf0\\xbf=_(\\xae=Ct\\x91\\xbd\\xe7\\x96n\\xbc\\xcd>\\xbb\\xbc\\xac\\x87\\t=h\\xc0\\xda\\xbck\\xf6@\\xbc>\\xcd\\'\\xbcj\\x9a\\x10\\xbe\\x04\\x98\\xaf=\\x9a\\x8f\\xd1\\xbc\\x1a\\xa4C=\\x13\\xee)\\xbcyg\\x9d\\xbck6\\x98\\xbd\\x05\\x01\\x8a\\xbd\\x9fl\\x15<\\xcal\\x15;\\x7f\\x97 =\\xc7\\r\\x98\\xbd\\xaaL\\x89\\xbc\\n;\\xc3\\xbdF\\xaf\\x9b=\\xbb\\x04\\xd0\\xbb\\xdaS\\x03\\xbd^\\x99\\xbe\\xbd\\x91\\x02[=`/D\\xbc\\xb4\\xab>=2\\x19\\x03\\xbd\\x1e\\xbb\\xd5<\\x0c\\x8b\\xa2\\xbc\\x7fK\\x8a=9(h<\\x8d\\xe2\\n\\xbdr\\xd4\\xcd<\\xf9>9\\xbcY\\x1eh=\\xdc\\xa8a=\\xe2\\xcd\\xbf\\xbb3\\x00;=mK\\x9e=\\x96\\x84\\x97\\xbdq\\x82\\xb3=\\xb6\\xd8\\xb8;\\xd9\\xa6j<\\x8a\\xdd\\x9b\\xbc1\\x03}\\xbd\\xa3\\xa3\\xdc<z-\\xd8<\\xef\\xa9\\xf6;\\xe5\\x1d\\xfc\\xba-\\x83\\xf5=-n;\\xbd\\xf4\\xd3G=\\xa7L\\x10\\xbdD\\\\\\xe6\\xbd\\x10\\x9f|\\xbc\\xa9Y\\xb9\\xba~\\xceo=\\x80\\x0f\\x19\\xbd\\xfe\\xcd%\\xbd\\xf2\\xd5+=7P\\xce<\\xc3:\\xa0\\xbd\\x83\\xb9\\x85;\\x05&\\xa2=\\xc1\\xb6\\x96=zr\\xa4<\\xb4qg=\\xdd\\x0f1=%\\x8b\\xe0<\\x91\\xaev\\xbd\\xec\\x12\\x19=\\x83\"\\x9f=D\\x8e\\x8c<\\x0e&\\xe6\\xbd\\r\\xb9\\x91\\xbcP\\xe8,\\xbc.\\x87\\xb7\\xbc3PF=\\xa1\\xe11<\\x10<\\xf4\\xbb#\\\\\\x8b\\xbd\\xf6\\x03\\xb2<cG\\xf3\\xbc{\\r\\xa7\\xbd\\xe0\\x98w\\xbd0,\\x81\\xbc\\xd9\\xaaV\\xbc\\xe6\\xf3\\x10\\xba\\x8f\\x9d&=\\xe1\\xb0\\x8a\\xbd}\\x1b\\xa6\\xbdM\\xc2\\x17=\\x8a\\x88\\x89\\xbb\\x9bp?\\xbcro\\x1a\\xbd\\xb1\\x7f\\xcf=U\\x97\\x85\\xbd\\xf45X=\\x03\\xbau\\x89x\\x95?;\\x07\\xfdX<\\xbe+6\\xbdk:k=\\xdd\\xbe\\x16=\\xea\\xb6\\xb1\\xbc\\x9e2%\\xbd\\xb0\\xc5\\x1b<\\xdfP\\x0c\\xbd\\x82\\x04\\xb3=\\x9e$\\xa3\\xbd\\xa5\\x082\\xbd\\xc1\\xe48\\xbdR\\xa1\\x9b<\\x8c\\x1b\\xa8;\\xfdA\\x92;o\\x18\\x1e\\xbd\\x8f\\xc2]=\\xbb\\xc1{\\xbc\\x8e\\x1d\\xc1:\\xb0\\xa4\\xc9\\xbcVl\\xf9<\\xa8K\\x97\\xbc\\xbc\\xa6s<$\\xa7\\xa8<\\xd1\\'\\x97=\\x89\\xef\\xb5\\xbd\\x1a\\x81\\r\\xbd\\xc5\\xad\\x82\\xbcW\\x9d\\xe6;\\xd4\\x1b\\xe5\\xbd\\xbdq\\xb9=\\xa8\\xfe\\x9f:l\\xd3\\x9b=\\xd3\\xfb\\xc1\\xba\\xf4\\xc2\\\\=0\\x188\\xbd\\xda\\x1b\\xc6\\xbdPt\\xdf\\xbc[A\\xb9=\\xc8P6\\xbd\\xa7\\x9f\\x19=\\x17\\x94\\xb9\\xbcF\\xfax\\xbd\\x8b!\\xd1\\xbc\\xde@\\r\\xbd\\x15\\xf11:\\xe1)\\x89\\xbd\\xb2\\x9d\\x9c<\\xf5d\\xe2<`zZ<4\\xb5v=x-\\xa3<\\xf9V\\x19\\xbd\\xba\\xc5z<Wu\\xff<\\xfcA\\xfa<\\xbd\"\\xfa<\\x94.\\x1c\\xba4\\xfd\\xb6=\\xa6/\\xbc\\xbc\\xd3\\xc1\\x18=\\xb6}]=K3\\x85=]\\xe7\\xff\\xbc\\xf7Je\\xbdR`\\xd9\\xbc\\xc7/\\xde\\xbc\\x01P+\\xbd \\x8b.=\\xa7\\xc5S\\xbd\\xc4C\\x0e\\xbdkN =\\x9cB\\xb6\\xbd\\xa8\\xffH=\\xbc\\x94\\n=\\xbae\\x1d\\xbdp\\x8a\\xb4<}\\xf5-\\xbd@5\\xa4\\xbb=]t\\xbd\\x10\\x83d<Z\\xf9\\x9b<\\xda\\\\\\x83<\\xce\\x8a\\xda9\\x886\\xec<,*(\\xbd\\xe3\\x85|\\xbd\\x8ec\\xe8\\xbc\\x8f*;=\\xe2\\xd9\\x07\\xbdKA\\xa3\\xbd\\xdf\\x87\\x88:\\x00ql\\xbc\\xa3\\xb9\\xfb\\xbc\\x88\\x13\\xb4\\x08\\xbb\\x04\\x87\\xbdW1\\xcc<\\x84\\x92\\x10<s\\x01\\xdc\\xbb6\\x93N=\\xf3 V\\xbd\\xc2@\\xef;\\x06|e=z\\xeb\\xb4\\xbc\\xfc\\x97\\x8b=\\xbd\"?=N1(\\xbc}\\xfcm\\xbd\\x86\\x9ef\\xbc\\xc58\\x8e=\\x11y\\xc1\\xbcb<\\x82=\\xa0k\\n\\xbdk$\\x9e;\\xebf\\x12=T\\x068>\\xe8\\xd1Q\\xbdc\\x15\\xcf\\xbc\\xed\\x0b\\xb0\\xbcD\\xc8\\xfc<\\xfb\\x8c\\x98=u\\x0e9=P3K=>\\xf2\\xcd\\xbc\\xe7\\x04E\\xbd<\\x997;\\xa5\\x9ct\\xbd\\xbby|=\\x08\\xd3\\x80<\\x13\\xa4\\x0c<\\xfd\\r\\x18>\\t\\x14q\\xbdt\\xe6Q=vR:\\xbd\\xbd\\xd4k\\xbd\\xbcX\\x81=\\x0c|\\x98\\xbc\\x07\\xbe\\xaf\\xbd\\xc6\\xe4\\xc6=\\xf6\\xc7\\x8e\\xbdG\\xd9\\xff\\xbc\\xcb\\xe50\\xbdX-\\xaa\\xbc\\xbc\\xde\\x92;x\\x9e\\xc2<\\x80n\\xb6\\xbcI\\xcc\\x8f\\xb9\\xe5\\xfd<=?8\\xb6\\xbc\\x9d\\xfb\\xc3\\xbdA\\xe6v\\xbc\\x17\\xa5Q\\xbcRm\\x8c=\\x13\\xed\\x88=!e#<\\\\YG=\\x82\\xdd\\xa0;\\xaa\\xfe\\x01=UC\\xa9=j\\x15\\x1f\\xbd\\x85\\\\\\x83=\\x91\\xee\\xe5\\xbch\\xd8\\xd5=\\x97\\xbe\\x99\\xbd)\\xfe6\\xbb\\xaezZ=\\x8dh\\xf7\\xba\\xe4\\x1b\\r\\xbd\\x1f\\x00\\xdc\\xbb\\xe1X-=\\xa9\\xe7_\\xbbn\"x\\xbdA\\xb73\\xbc\\x84\\xfd\\x83;-\\x04N=\\x19c\\r=S\\xa0\\xd3;kI\\x18\\xbd\\xban\\xb2=\\xa0\\x16%\\xbdpU\\xec=\\xcb\\xd9V\\xbd\\x18\\x00W\\xbc\\x9b\\x1e\\xb9\\xbb\\xd9L\\x82\\xbd\\x85\\x82K\\xbc\\xe9\\xd1\\x0e\\xbdR\\\\\\xef;#r\\xe3\\xbc\\xfe#\\xc7\\xbcK\\xc1\\xca\\xb2\\xd1\\x83\\xec\\xbd\\x17\\xe1\\x08\\xbdh,\\x80\\xbb\\xd1v\\xf4\\xbdm\\xa5\\xd7\\xbbA\\xd6\\xc3<\\x15`;\\xbd\\xea\\xaa6\\xbc\\x8a\\tM\\xbd\\xfc\\xba\\x95=e\\x15\\xa8;\\n\\x84\\x91<)\\x02\\xa4=\\xd2\\xf8\\xec<TIj=I\\x16\\x9d=\\rf\\x01\\xbeM\\x05V\\xbdy]\\xac\\xbd\\\\r\\xda\\xbd\\x06h=\\xbds\\x01!\\xbd[\\x95#=~\\xbf\\x05=\\x19\\xd5\\xad<\\x0eM\\xb3=\\xc3\\xbc\\x91\\xbd\\xbd<\\xcf<+\\x7f\\x9b=\\xf2\\xd7\\xbc=\\x96\\x9f\\xd5\\xbc\\xe0-\\x15\\xbd\\x86S\\xa7\\xbdR.\\x1f<\\x90v\\x03>\\xb8XB=!\\xb5\\x99\\xbb\\x086\\x90\\xbc\\xb1\\x99\\x98=m\\xb16\\xbc\\xd0E\\xba\\xbd\\x88\\x93W=\\xe4\\r\\xe9<\\xbd\\xb7\\x8e=\\xf3X\\xa9=u;\\x18\\xba}U\\x15\\xbd\\xf8H\\x00\\xbd\"g\\xa2;\\x80\\xb0\\xb3\\xbd\\x84\\x8c =\\xc5~v\\xbb\\ry\\x84\\xbc\\xa7)\\xd8\\xba\\x03\\x92\\xa5\\xbc\\x11\\x1b)\\xbc/3\\xae\\xbb\\x17O\\x95<\\xe1\\x82\\x9d\\xbc\\xc4O\\x08<Bk\\x93\\xbb\\xe5!\\xe7\\xba=\\x94\\x82=\\xee9\\n='}]"
      ]
     },
     "execution_count": 66,
     "metadata": {},
     "output_type": "execute_result"
    }
   ],
   "source": [
    "movie_data[:3]"
   ]
  },
  {
   "cell_type": "markdown",
   "metadata": {},
   "source": [
    "### Define Redis index schema\n",
    "\n",
    "Below, we build a schema that represents our movie objects."
   ]
  },
  {
   "cell_type": "code",
   "execution_count": 67,
   "metadata": {},
   "outputs": [],
   "source": [
    "from redisvl.schema import IndexSchema\n",
    "from redisvl.index import SearchIndex\n",
    "\n",
    "\n",
    "schema = IndexSchema.from_dict({\n",
    "  \"index\": {\n",
    "    \"name\": \"movies\",\n",
    "    \"prefix\": \"movie\",\n",
    "    \"storage\": \"hash\"\n",
    "  },\n",
    "  \"fields\": [\n",
    "    { \"name\": \"title\", \"type\": \"text\" },\n",
    "    { \"name\": \"description\", \"type\": \"text\" },\n",
    "    { \"name\": \"genre\", \"type\": \"tag\", \"attrs\": {\"sortable\": True}},\n",
    "    { \"name\": \"rating\", \"type\": \"numeric\", \"attrs\": {\"sortable\": True}},\n",
    "    {\n",
    "        \"name\": \"description_vector\",\n",
    "        \"type\": \"vector\",\n",
    "        \"attrs\": {\n",
    "            \"dims\": 384,\n",
    "            \"distance_metric\": \"cosine\",\n",
    "            \"algorithm\": \"hnsw\",\n",
    "            \"datatype\": \"float32\"\n",
    "        }\n",
    "    }\n",
    "  ]\n",
    "})\n",
    "\n",
    "\n",
    "index = SearchIndex(schema, client)\n",
    "index.create(overwrite=True, drop=True)"
   ]
  },
  {
   "cell_type": "markdown",
   "metadata": {},
   "source": [
    "### Populate index\n",
    "\n",
    "Load movie objects into Redis"
   ]
  },
  {
   "cell_type": "code",
   "execution_count": 68,
   "metadata": {},
   "outputs": [
    {
     "data": {
      "text/plain": [
       "['movie:ca4a597a73e44c34973ed1fbf8e413a9',\n",
       " 'movie:8ea58c5eb8e84b428e07acc2cff23cd3',\n",
       " 'movie:02f14058101f45e2807a99043137b970',\n",
       " 'movie:c6389a482ba24fcb8f3cb149c2bd8929',\n",
       " 'movie:6f62c8e12a134e3e879b69ab0660f0a8',\n",
       " 'movie:f1a6e89ec5644ed39dcd0a5f72463b63',\n",
       " 'movie:cb802fe59ed14d4b9f4f91550d1110ea',\n",
       " 'movie:aec759a5b9224b61918df276a008b8e7',\n",
       " 'movie:d8faea8fd33d493ca36aa081fa08e94a',\n",
       " 'movie:c694527fa3124abb95be96125e22e0e4',\n",
       " 'movie:33f3a69fd05646a3a650d64e32c6bc4d',\n",
       " 'movie:1477f3cc0cc14af994e49a5f7817b29b',\n",
       " 'movie:2f3891ebda634c06b78bc1c84b23674c',\n",
       " 'movie:a90b2bc1c5a949f0930ee1426786accf',\n",
       " 'movie:095257f93bb64cd98e360e2e99885e91',\n",
       " 'movie:c7769eae3f6f4068ac3c925f0b4afb99',\n",
       " 'movie:6619e65e769f48318ca92352ce61141e',\n",
       " 'movie:05344b65c1d14ff2bc23bb40f0de3890',\n",
       " 'movie:6ee4d04019c04b2291ca7af19cacfe3c',\n",
       " 'movie:bf9d9221a1c148bca39bfe8979734591']"
      ]
     },
     "execution_count": 68,
     "metadata": {},
     "output_type": "execute_result"
    }
   ],
   "source": [
    "index.load(movie_data)"
   ]
  },
  {
   "cell_type": "markdown",
   "metadata": {},
   "source": [
    "# Hybrid Search Approaches\n",
    "\n",
    "Now that our search index is populated and ready, we will build out a few different hybrid search techniques in Redis.\n",
    "\n",
    "To start, we will build a few helper methods that we can reuse for each technique."
   ]
  },
  {
   "cell_type": "code",
   "execution_count": 69,
   "metadata": {},
   "outputs": [],
   "source": [
    "# Sample user query (can be changed for comparisons)\n",
    "user_query = \"action adventure movie with great fighting scenes, crime busting, superheroes, and magic\""
   ]
  },
  {
   "cell_type": "markdown",
   "metadata": {},
   "source": [
    "First, we need a method to tokenize a user query into a full-text search string:"
   ]
  },
  {
   "cell_type": "code",
   "execution_count": 70,
   "metadata": {},
   "outputs": [
    {
     "data": {
      "text/plain": [
       "'action | adventure | movie | great | fighting | scenes | crime | busting | superheroes | magic'"
      ]
     },
     "execution_count": 70,
     "metadata": {},
     "output_type": "execute_result"
    }
   ],
   "source": [
    "# list of stopwords to filter out noise from query string\n",
    "stopwords = set([\n",
    "    \"a\", \"is\", \"the\", \"an\", \"and\", \"are\", \"as\", \"at\", \"be\", \"but\", \"by\", \"for\",\n",
    "    \"if\", \"in\", \"into\", \"it\", \"no\", \"not\", \"of\", \"on\", \"or\", \"such\", \"that\", \"their\",\n",
    "    \"then\", \"there\", \"these\", \"they\", \"this\", \"to\", \"was\", \"will\", \"with\"\n",
    "])\n",
    "\n",
    "def tokenize_query(user_query: str) -> str:\n",
    "    \"\"\"Convert a raw user query to a redis full text query joined by ORs\"\"\"\n",
    "    tokens = [token.strip().strip(\",\").lower() for token in user_query.split()]\n",
    "    return \" | \".join([token for token in tokens if token not in stopwords])\n",
    "\n",
    "# Example\n",
    "tokenize_query(user_query)"
   ]
  },
  {
   "cell_type": "markdown",
   "metadata": {},
   "source": [
    "Next, we need methods to create vector search and full-text search queries:"
   ]
  },
  {
   "cell_type": "code",
   "execution_count": 71,
   "metadata": {},
   "outputs": [],
   "source": [
    "# Function to create a vector query using RedisVL helpers for ease of use\n",
    "from redisvl.query import VectorQuery, FilterQuery\n",
    "from redisvl.query.filter import Text\n",
    "from redisvl.redis.utils import convert_bytes, make_dict\n",
    "\n",
    "\n",
    "def make_vector_query(user_query: str, num_results: int, filters = None) -> VectorQuery:\n",
    "    \"\"\"Generate a Redis vector query given user query string.\"\"\"\n",
    "    vector = model.embed(user_query, as_buffer=True, dtype=\"float32\")\n",
    "    query = VectorQuery(\n",
    "        vector=vector,\n",
    "        vector_field_name=\"description_vector\",\n",
    "        num_results=num_results,\n",
    "        return_fields=[\"title\", \"description\"]\n",
    "    )\n",
    "    if filters:\n",
    "        query.set_filter(filters)\n",
    "    \n",
    "    return query\n",
    "\n",
    "\n",
    "def make_ft_query(text_field: str, user_query: str, num_results: int) -> FilterQuery:\n",
    "    \"\"\"Generate a Redis full-text query given a user query string.\"\"\"\n",
    "    return FilterQuery(\n",
    "        filter_expression=f\"~({Text(text_field) % tokenize_query(user_query)})\",\n",
    "        num_results=num_results,\n",
    "        return_fields=[\"title\", \"description\"],\n",
    "        dialect=4,\n",
    "    ).scorer(\"BM25\").with_scores()"
   ]
  },
  {
   "cell_type": "markdown",
   "metadata": {},
   "source": [
    "## 1. Linear Combination using Aggregation API\n",
    "\n",
    "The goal of this technique is to calculate a weighted sum of the BM25 score for our provided text search and the cosine distance between vectors calculated via a KNN vector query. This is possible in Redis using the [aggregations API](https://redis.io/docs/latest/develop/interact/search-and-query/advanced-concepts/aggregations/), as of `Redis 7.4.x` (search version `2.10.5`), within a single database call.\n"
   ]
  },
  {
   "cell_type": "markdown",
   "metadata": {},
   "source": [
    "First, we build a base `VectorQuery` that runs a KNN-style vector search and test it below:"
   ]
  },
  {
   "cell_type": "code",
   "execution_count": 72,
   "metadata": {},
   "outputs": [
    {
     "data": {
      "text/plain": [
       "[{'id': 'movie:c7769eae3f6f4068ac3c925f0b4afb99',\n",
       "  'vector_distance': '0.643690466881',\n",
       "  'title': 'The Incredibles',\n",
       "  'description': \"A family of undercover superheroes, while trying to live the quiet suburban life, are forced into action to save the world. Bob Parr (Mr. Incredible) and his wife Helen (Elastigirl) were among the world's greatest crime fighters, but now they must assume civilian identities and retreat to the suburbs to live a 'normal' life with their three children. However, the family's desire to help the world pulls them back into action when they face a new and dangerous enemy.\"},\n",
       " {'id': 'movie:ca4a597a73e44c34973ed1fbf8e413a9',\n",
       "  'vector_distance': '0.668439388275',\n",
       "  'title': 'Explosive Pursuit',\n",
       "  'description': 'A daring cop chases a notorious criminal across the city in a high-stakes game of cat and mouse.'},\n",
       " {'id': 'movie:f1a6e89ec5644ed39dcd0a5f72463b63',\n",
       "  'vector_distance': '0.698122441769',\n",
       "  'title': 'Mad Max: Fury Road',\n",
       "  'description': \"In a post-apocalyptic wasteland, Max teams up with Furiosa to escape a tyrant's clutches and find freedom.\"}]"
      ]
     },
     "execution_count": 72,
     "metadata": {},
     "output_type": "execute_result"
    }
   ],
   "source": [
    "query = make_vector_query(user_query, num_results=3)\n",
    "\n",
    "# Check standard vector search results\n",
    "index.query(query)"
   ]
  },
  {
   "cell_type": "markdown",
   "metadata": {},
   "source": [
    "Next, we add a full-text search predicate using RedisVL helpers and our user-query tokenizer:"
   ]
  },
  {
   "cell_type": "code",
   "execution_count": 73,
   "metadata": {},
   "outputs": [
    {
     "data": {
      "text/plain": [
       "'(~@description:(action | adventure | movie | great | fighting | scenes | crime | busting | superheroes | magic))=>[KNN 3 @description_vector $vector AS vector_distance]'"
      ]
     },
     "execution_count": 73,
     "metadata": {},
     "output_type": "execute_result"
    }
   ],
   "source": [
    "base_full_text_query = str(Text(\"description\") % tokenize_query(user_query))\n",
    "\n",
    "# Add the optional flag, \"~\", so that this doesn't also act as a strict text filter\n",
    "full_text_query = f\"(~{base_full_text_query})\"\n",
    "\n",
    "\n",
    "# Add full-text predicate to the vector query \n",
    "query.set_filter(full_text_query)\n",
    "query.query_string()"
   ]
  },
  {
   "cell_type": "markdown",
   "metadata": {},
   "source": [
    "**The query string above combines both full-text search and a vector search.** This will be passed to the aggregation API to combine using a simple weighted sum of scores before a final sort and truncation.\n",
    "\n",
    "Below, we extend the `redis-py` aggregation request class to support setting the full-text scoring algorithm. This should be available out-of-the-box very soon."
   ]
  },
  {
   "cell_type": "code",
   "execution_count": 74,
   "metadata": {},
   "outputs": [],
   "source": [
    "from typing import Any, Dict, List\n",
    "from redis.commands.search.aggregation import AggregateRequest, Desc\n",
    "\n",
    "# TODO: .scorer attribute not yet available in redis-py yet for aggregations\n",
    "# This is in a PR for the library and should be available soon\n",
    "# For now, we will extend the class and implement the method directly for demonstration\n",
    "\n",
    "class AggregateRequestWithScorer(AggregateRequest):\n",
    "    _scorer: str = None\n",
    "\n",
    "    def scorer(self, scorer: str):\n",
    "        self._scorer = scorer\n",
    "        return self\n",
    "\n",
    "    def build_args(self):\n",
    "        # @foo:bar ...\n",
    "        ret = [self._query]\n",
    "\n",
    "        if self._scorer:\n",
    "            ret.extend([\"SCORER\", self._scorer])\n",
    "\n",
    "        if self._with_schema:\n",
    "            ret.append(\"WITHSCHEMA\")\n",
    "\n",
    "        if self._verbatim:\n",
    "            ret.append(\"VERBATIM\")\n",
    "\n",
    "        if self._add_scores:\n",
    "            ret.append(\"ADDSCORES\")\n",
    "\n",
    "        if self._cursor:\n",
    "            ret += self._cursor\n",
    "\n",
    "        if self._loadall:\n",
    "            ret.append(\"LOAD\")\n",
    "            ret.append(\"*\")\n",
    "        elif self._loadfields:\n",
    "            ret.append(\"LOAD\")\n",
    "            ret.append(str(len(self._loadfields)))\n",
    "            ret.extend(self._loadfields)\n",
    "\n",
    "        if self._dialect:\n",
    "            ret.extend([\"DIALECT\", self._dialect])\n",
    "\n",
    "        ret.extend(self._aggregateplan)\n",
    "\n",
    "        return ret"
   ]
  },
  {
   "cell_type": "markdown",
   "metadata": {},
   "source": [
    "Run the query!\n",
    "\n",
    "Notes on aggregate query syntax \n",
    "- `.scorer`: specifies the scoring function to use either BM25 or TFIDF\n",
    "- `.add_scores`: adds the scores to the result\n",
    "- `.apply`: algebraic operations that can be customized for your use case\n",
    "- `.load`: specifies fields to return - all in this case.\n",
    "- `.sort_by`: sort the output based on the hybrid score and yield top 5 results\n",
    "- `.dialect`: specifies the query dialect to use."
   ]
  },
  {
   "cell_type": "code",
   "execution_count": 75,
   "metadata": {},
   "outputs": [
    {
     "data": {
      "text/plain": [
       "[{'vector_distance': '0.643690466881',\n",
       "  '__score': '0.968066079387',\n",
       "  'title': 'The Incredibles',\n",
       "  'description': \"A family of undercover superheroes, while trying to live the quiet suburban life, are forced into action to save the world. Bob Parr (Mr. Incredible) and his wife Helen (Elastigirl) were among the world's greatest crime fighters, but now they must assume civilian identities and retreat to the suburbs to live a 'normal' life with their three children. However, the family's desire to help the world pulls them back into action when they face a new and dangerous enemy.\",\n",
       "  'cosine_similarity': '0.67815476656',\n",
       "  'bm25_score': '0.968066079387',\n",
       "  'hybrid_score': '0.765128160408'},\n",
       " {'vector_distance': '0.668439388275',\n",
       "  '__score': '0',\n",
       "  'title': 'Explosive Pursuit',\n",
       "  'description': 'A daring cop chases a notorious criminal across the city in a high-stakes game of cat and mouse.',\n",
       "  'cosine_similarity': '0.665780305862',\n",
       "  'bm25_score': '0',\n",
       "  'hybrid_score': '0.466046214104'},\n",
       " {'vector_distance': '0.698122441769',\n",
       "  '__score': '0',\n",
       "  'title': 'Mad Max: Fury Road',\n",
       "  'description': \"In a post-apocalyptic wasteland, Max teams up with Furiosa to escape a tyrant's clutches and find freedom.\",\n",
       "  'cosine_similarity': '0.650938779116',\n",
       "  'bm25_score': '0',\n",
       "  'hybrid_score': '0.455657145381'}]"
      ]
     },
     "execution_count": 75,
     "metadata": {},
     "output_type": "execute_result"
    }
   ],
   "source": [
    "# Build the aggregation request\n",
    "req = (\n",
    "    AggregateRequestWithScorer(query.query_string())\n",
    "        .scorer(\"BM25\")\n",
    "        .add_scores()\n",
    "        .apply(cosine_similarity=\"(2 - @vector_distance)/2\", bm25_score=\"@__score\")\n",
    "        .apply(hybrid_score=f\"0.3*@bm25_score + 0.7*@cosine_similarity\")\n",
    "        .load(\"title\", \"description\", \"cosine_similarity\", \"bm25_score\", \"hybrid_score\")\n",
    "        .sort_by(Desc(\"@hybrid_score\"), max=3)\n",
    "        .dialect(4)\n",
    ")\n",
    "\n",
    "# Run the query\n",
    "res = index.aggregate(req, query_params={'vector': query._vector})\n",
    "\n",
    "# Perform output parsing\n",
    "[make_dict(row) for row in convert_bytes(res.rows)]"
   ]
  },
  {
   "cell_type": "markdown",
   "metadata": {},
   "source": [
    "Now we will define a function to do the entire operation start to finish for simplicity."
   ]
  },
  {
   "cell_type": "code",
   "execution_count": 76,
   "metadata": {},
   "outputs": [],
   "source": [
    "def linear_combo(user_query: str, alpha: float, num_results: int = 3) -> List[Dict[str, Any]]:\n",
    "    # Add the optional flag, \"~\", so that this doesn't also act as a strict text filter\n",
    "    text = f\"(~{Text('description') % tokenize_query(user_query)})\"\n",
    "\n",
    "    # Build vector query\n",
    "    query = make_vector_query(user_query, num_results=num_results, filters=text)\n",
    "    \n",
    "    # Build aggregation\n",
    "    req = (\n",
    "        AggregateRequestWithScorer(query.query_string())\n",
    "            .scorer(\"BM25\")\n",
    "            .add_scores()\n",
    "            .apply(cosine_similarity=\"(2 - @vector_distance)/2\", bm25_score=\"@__score\")\n",
    "            .apply(hybrid_score=f\"{1-alpha}*@bm25_score + {alpha}*@cosine_similarity\")\n",
    "            .sort_by(Desc(\"@hybrid_score\"), max=num_results)\n",
    "            .load(\"title\", \"description\", \"cosine_similarity\", \"bm25_score\", \"hybrid_score\")\n",
    "            .dialect(4)\n",
    "    )\n",
    "\n",
    "    # Run the query\n",
    "    res = index.aggregate(req, query_params={'vector': query._vector})\n",
    "\n",
    "    # Perform output parsing\n",
    "    if res:\n",
    "        movies = [make_dict(row) for row in convert_bytes(res.rows)]\n",
    "        return [(movie[\"title\"], movie[\"hybrid_score\"]) for movie in movies]"
   ]
  },
  {
   "cell_type": "code",
   "execution_count": 77,
   "metadata": {},
   "outputs": [
    {
     "data": {
      "text/plain": [
       "[('The Incredibles', '0.765128160408'),\n",
       " ('Explosive Pursuit', '0.466046214104'),\n",
       " ('Mad Max: Fury Road', '0.455657145381'),\n",
       " ('The Dark Knight', '0.452280732989'),\n",
       " ('Despicable Me', '0.448826736212'),\n",
       " ('Inception', '0.434456580877')]"
      ]
     },
     "execution_count": 77,
     "metadata": {},
     "output_type": "execute_result"
    }
   ],
   "source": [
    "# Test it out\n",
    "\n",
    "# 70% of the hybrid search score based on cosine similarity\n",
    "linear_combo(user_query, alpha=0.7, num_results=6)"
   ]
  },
  {
   "cell_type": "markdown",
   "metadata": {},
   "source": [
    "## 2. Client-side fusion with RRF\n",
    "\n",
    "Instead of relying on document scores like cosine similarity and BM25/TFIDF, we can fetch items and focus on their rank. This rank can be utilized to create a new ranking metric known as [Reciprocal Rank Fusion (RRF)](https://plg.uwaterloo.ca/~gvcormac/cormacksigir09-rrf.pdf). RRF is powerful because it can handle ranked lists of different length, scores of different scales, and other complexities.\n",
    "\n",
    "Although Redis does not currently support RRF natively, we can easily implement it on the client side."
   ]
  },
  {
   "cell_type": "code",
   "execution_count": 78,
   "metadata": {},
   "outputs": [],
   "source": [
    "def fuse_rankings_rrf(*ranked_lists, weights=None, k=60):\n",
    "    \"\"\"\n",
    "    Perform Weighted Reciprocal Rank Fusion on N number of ordered lists.\n",
    "    \"\"\"\n",
    "    item_scores = {}\n",
    "    \n",
    "    if weights is None:\n",
    "        weights = [1.0] * len(ranked_lists)\n",
    "    else:\n",
    "        assert len(weights) == len(ranked_lists), \"Number of weights must match number of ranked lists\"\n",
    "        assert all(0 <= w <= 1 for w in weights), \"Weights must be between 0 and 1\"\n",
    "    \n",
    "    for ranked_list, weight in zip(ranked_lists, weights):\n",
    "        for rank, item in enumerate(ranked_list, start=1):\n",
    "            if item not in item_scores:\n",
    "                item_scores[item] = 0\n",
    "            item_scores[item] += weight * (1 / (rank + k))\n",
    "    \n",
    "    # Sort items by their weighted RRF scores in descending order\n",
    "    return sorted(item_scores.items(), key=lambda x: x[1], reverse=True)"
   ]
  },
  {
   "cell_type": "code",
   "execution_count": 79,
   "metadata": {},
   "outputs": [
    {
     "data": {
      "text/plain": [
       "[(2, 0.04814747488101534),\n",
       " (1, 0.032266458495966696),\n",
       " (6, 0.03200204813108039),\n",
       " (5, 0.01639344262295082),\n",
       " (4, 0.016129032258064516),\n",
       " (3, 0.015873015873015872),\n",
       " (7, 0.015625),\n",
       " (8, 0.015384615384615385)]"
      ]
     },
     "execution_count": 79,
     "metadata": {},
     "output_type": "execute_result"
    }
   ],
   "source": [
    "# Below is a simple example of RRF over a few lists of numbers\n",
    "fuse_rankings_rrf([1, 2, 3], [2, 4, 6, 7, 8], [5, 6, 1, 2])"
   ]
  },
  {
   "cell_type": "code",
   "execution_count": 80,
   "metadata": {},
   "outputs": [],
   "source": [
    "def weighted_rrf(\n",
    "    user_query: str,\n",
    "    alpha: float = 0.5,\n",
    "    num_results: int = 4,\n",
    "    k: int = 60,\n",
    ") -> List[Dict[str, Any]]:\n",
    "    \"\"\"Implemented client-side RRF after querying from Redis.\"\"\"\n",
    "    # Create the vector query\n",
    "    vector_query = make_vector_query(user_query, num_results=len(movie_data))\n",
    "\n",
    "    # Create the full-text query\n",
    "    full_text_query = make_ft_query(\"description\", user_query, num_results=len(movie_data))\n",
    "\n",
    "    # Run queries individually\n",
    "    vector_query_results = index.query(vector_query)\n",
    "    full_text_query_results = index.query(full_text_query)\n",
    "\n",
    "    # Extract titles from results\n",
    "    vector_titles = [movie[\"title\"] for movie in vector_query_results]\n",
    "    full_text_titles = [movie[\"title\"] for movie in full_text_query_results]\n",
    "\n",
    "    # Perform weighted RRF\n",
    "    return fuse_rankings_rrf(vector_titles, full_text_titles, weights=[alpha, 1-alpha], k=k)[:num_results]"
   ]
  },
  {
   "cell_type": "code",
   "execution_count": 81,
   "metadata": {},
   "outputs": [
    {
     "data": {
      "text/plain": [
       "[('The Incredibles', 0.016009221311475412),\n",
       " ('Explosive Pursuit', 0.01575682382133995),\n",
       " ('Mad Max: Fury Road', 0.015079365079365078),\n",
       " ('Finding Nemo', 0.015008960573476702),\n",
       " ('Fast & Furious 9', 0.014925373134328358),\n",
       " ('The Dark Knight', 0.014854753521126762)]"
      ]
     },
     "execution_count": 81,
     "metadata": {},
     "output_type": "execute_result"
    }
   ],
   "source": [
    "# Test it out!\n",
    "weighted_rrf(user_query, num_results=6)"
   ]
  },
  {
   "cell_type": "markdown",
   "metadata": {},
   "source": [
    "But say we want to give more weight to the vector search rankings in this case to boost semantic similarities contribution to the final rank:"
   ]
  },
  {
   "cell_type": "code",
   "execution_count": 82,
   "metadata": {},
   "outputs": [
    {
     "data": {
      "text/plain": [
       "[('The Incredibles', 0.016162909836065574),\n",
       " ('Explosive Pursuit', 0.015905707196029777),\n",
       " ('Mad Max: Fury Road', 0.015396825396825395),\n",
       " ('The Dark Knight', 0.015162852112676057),\n",
       " ('Fast & Furious 9', 0.014925373134328356),\n",
       " ('Inception', 0.014715649647156496)]"
      ]
     },
     "execution_count": 82,
     "metadata": {},
     "output_type": "execute_result"
    }
   ],
   "source": [
    "weighted_rrf(user_query, alpha=0.7, num_results=6)"
   ]
  },
  {
   "cell_type": "markdown",
   "metadata": {},
   "source": [
    "## 3. Client-side reranking\n",
    "\n",
    "An alternative approach to RRF is to simply use an external reranker to order the final recommendations. RedisVL has built-in integrations to a few popular reranking modules."
   ]
  },
  {
   "cell_type": "code",
   "execution_count": 83,
   "metadata": {},
   "outputs": [],
   "source": [
    "from redisvl.utils.rerank import HFCrossEncoderReranker\n",
    "\n",
    "# Load the ms marco MiniLM cross encoder model from huggingface\n",
    "reranker = HFCrossEncoderReranker(\"cross-encoder/ms-marco-MiniLM-L-6-v2\")\n",
    "\n",
    "\n",
    "def rerank(\n",
    "    user_query: str,\n",
    "    num_results: int = 4,\n",
    ") -> List[Dict[str, Any]]:\n",
    "    \"\"\"Rerank the candidates based on the user query with an external model/module.\"\"\"\n",
    "    # Create the vector query\n",
    "    vector_query = make_vector_query(user_query, num_results=num_results)\n",
    "\n",
    "    # Create the full-text query\n",
    "    full_text_query = make_ft_query(\"description\", user_query, num_results=num_results)\n",
    "\n",
    "    # Run queries individually\n",
    "    vector_query_results = index.query(vector_query)\n",
    "    full_text_query_results = index.query(full_text_query)\n",
    "\n",
    "    # Assemble list of potential movie candidates with their IDs\n",
    "    movie_map = {}\n",
    "    for movie in vector_query_results + full_text_query_results:\n",
    "        candidate = f\"Title: {movie['title']}. Description: {movie['description']}\"\n",
    "        if candidate not in movie_map:\n",
    "            movie_map[candidate] = movie\n",
    "\n",
    "    # Rerank candidates\n",
    "    reranked_movies, scores = reranker.rank(\n",
    "        query=user_query,\n",
    "        docs=list(movie_map.keys()),\n",
    "        limit=num_results,\n",
    "        return_score=True\n",
    "    )\n",
    "\n",
    "    # Fetch full movie objects for the reranked results\n",
    "    return [\n",
    "        (movie_map[movie['content']][\"title\"], score)\n",
    "        for movie, score in zip(reranked_movies, scores)\n",
    "    ]\n"
   ]
  },
  {
   "cell_type": "code",
   "execution_count": 84,
   "metadata": {},
   "outputs": [
    {
     "data": {
      "text/plain": [
       "[('The Incredibles', -0.4526830017566681),\n",
       " ('The Dark Knight', -7.411877632141113),\n",
       " ('Explosive Pursuit', -8.75134563446045),\n",
       " ('Mad Max: Fury Road', -7.049142837524414),\n",
       " ('Aladdin', -9.638406753540039),\n",
       " ('Despicable Me', -9.797614097595215)]"
      ]
     },
     "execution_count": 84,
     "metadata": {},
     "output_type": "execute_result"
    }
   ],
   "source": [
    "# Test it out!\n",
    "rerank(user_query, num_results=6)"
   ]
  },
  {
   "cell_type": "markdown",
   "metadata": {},
   "source": [
    "This technique is certainly much slower than simple RRF as it's running an additional cross-encoder model to rerank the results. This can be fairly computationally expensive, but tunable with enough clarity on the use case and focus (how many items to retrieve? how many items to rerank? model accleration via GPU?)"
   ]
  },
  {
   "cell_type": "markdown",
   "metadata": {},
   "source": [
    "## Comparing Approaches\n",
    "\n",
    "While each approach has strengths and weaknesses, it's important to understand that each might work better in some use cases than others. Below we will run through a sample of user queries and generate matches for each using different hybrid search techniques."
   ]
  },
  {
   "cell_type": "code",
   "execution_count": 85,
   "metadata": {},
   "outputs": [],
   "source": [
    "movie_user_queries = [\n",
    "    \"I'm in the mood for a high-rated action movie with a complex plot\",\n",
    "    \"What's a funny animated film about unlikely friendships?\",\n",
    "    \"Any movies featuring superheroes or extraordinary abilities\", \n",
    "    \"I want to watch a thrilling movie with spies or secret agents\",\n",
    "    \"Are there any comedies set in unusual locations or environments?\",\n",
    "    \"Find me an action-packed movie with car chases or explosions\",\n",
    "    \"What's a good family-friendly movie with talking animals?\",\n",
    "    \"I'm looking for a film that combines action and mind-bending concepts\",\n",
    "    \"Suggest a movie with a strong female lead character\",\n",
    "    \"What are some movies that involve heists or elaborate plans?\",\n",
    "    \"I need a feel-good movie about personal growth or transformation\",\n",
    "    \"Are there any films that blend comedy with action elements?\", \n",
    "    \"Show me movies set in dystopian or post-apocalyptic worlds\",\n",
    "    \"I'm interested in a movie with themes of revenge or justice\",\n",
    "    \"What are some visually stunning movies with impressive special effects?\"\n",
    "]"
   ]
  },
  {
   "cell_type": "code",
   "execution_count": 86,
   "metadata": {},
   "outputs": [],
   "source": [
    "import pandas as pd\n",
    "\n",
    "\n",
    "rankings = pd.DataFrame()\n",
    "rankings[\"queries\"] = movie_user_queries\n",
    "\n",
    "# First, add new columns to the DataFrame\n",
    "rankings[\"hf-cross-encoder\"] = \"\"\n",
    "rankings[\"rrf\"] = \"\"\n",
    "rankings[\"linear-combo-bm25-cosine\"] = \"\""
   ]
  },
  {
   "cell_type": "code",
   "execution_count": 87,
   "metadata": {},
   "outputs": [],
   "source": [
    "# Now iterate through the queries and add results\n",
    "for i, user_query in enumerate(movie_user_queries):\n",
    "    rankings.at[i, \"hf-cross-encoder\"] = rerank(user_query, num_results=4)\n",
    "    rankings.at[i, \"rrf\"] = weighted_rrf(user_query, alpha=0.7, num_results=4)\n",
    "    rankings.at[i, \"linear-combo-bm25-cosine\"] = linear_combo(user_query, alpha=0.7, num_results=4)"
   ]
  },
  {
   "cell_type": "code",
   "execution_count": 88,
   "metadata": {},
   "outputs": [
    {
     "data": {
      "text/html": [
       "<div>\n",
       "<style scoped>\n",
       "    .dataframe tbody tr th:only-of-type {\n",
       "        vertical-align: middle;\n",
       "    }\n",
       "\n",
       "    .dataframe tbody tr th {\n",
       "        vertical-align: top;\n",
       "    }\n",
       "\n",
       "    .dataframe thead th {\n",
       "        text-align: right;\n",
       "    }\n",
       "</style>\n",
       "<table border=\"1\" class=\"dataframe\">\n",
       "  <thead>\n",
       "    <tr style=\"text-align: right;\">\n",
       "      <th></th>\n",
       "      <th>queries</th>\n",
       "      <th>hf-cross-encoder</th>\n",
       "      <th>rrf</th>\n",
       "      <th>linear-combo-bm25-cosine</th>\n",
       "    </tr>\n",
       "  </thead>\n",
       "  <tbody>\n",
       "    <tr>\n",
       "      <th>0</th>\n",
       "      <td>I'm in the mood for a high-rated action movie ...</td>\n",
       "      <td>[(Explosive Pursuit, -11.244140625), (Mad Max:...</td>\n",
       "      <td>[(The Incredibles, 0.016029143897996357), (Mad...</td>\n",
       "      <td>[(The Incredibles, 0.552392125712), (Despicabl...</td>\n",
       "    </tr>\n",
       "    <tr>\n",
       "      <th>1</th>\n",
       "      <td>What's a funny animated film about unlikely fr...</td>\n",
       "      <td>[(Despicable Me, -10.441909790039062), (The In...</td>\n",
       "      <td>[(Black Widow, 0.015625), (The Incredibles, 0....</td>\n",
       "      <td>[(The Incredibles, 0.454752022028), (Despicabl...</td>\n",
       "    </tr>\n",
       "    <tr>\n",
       "      <th>2</th>\n",
       "      <td>Any movies featuring superheroes or extraordin...</td>\n",
       "      <td>[(The Incredibles, -3.6648075580596924), (The ...</td>\n",
       "      <td>[(The Incredibles, 0.01639344262295082), (Mad ...</td>\n",
       "      <td>[(The Incredibles, 0.603234936448), (The Aveng...</td>\n",
       "    </tr>\n",
       "    <tr>\n",
       "      <th>3</th>\n",
       "      <td>I want to watch a thrilling movie with spies o...</td>\n",
       "      <td>[(The Incredibles, -10.843632698059082), (Expl...</td>\n",
       "      <td>[(Skyfall, 0.01631411951348493), (Explosive Pu...</td>\n",
       "      <td>[(Skyfall, 0.443840536475), (Despicable Me, 0....</td>\n",
       "    </tr>\n",
       "    <tr>\n",
       "      <th>4</th>\n",
       "      <td>Are there any comedies set in unusual location...</td>\n",
       "      <td>[(The Incredibles, -11.45376968383789), (Explo...</td>\n",
       "      <td>[(Madagascar, 0.015272878190495952), (Explosiv...</td>\n",
       "      <td>[(Madagascar, 0.442132240534), (Despicable Me,...</td>\n",
       "    </tr>\n",
       "  </tbody>\n",
       "</table>\n",
       "</div>"
      ],
      "text/plain": [
       "                                             queries  \\\n",
       "0  I'm in the mood for a high-rated action movie ...   \n",
       "1  What's a funny animated film about unlikely fr...   \n",
       "2  Any movies featuring superheroes or extraordin...   \n",
       "3  I want to watch a thrilling movie with spies o...   \n",
       "4  Are there any comedies set in unusual location...   \n",
       "\n",
       "                                    hf-cross-encoder  \\\n",
       "0  [(Explosive Pursuit, -11.244140625), (Mad Max:...   \n",
       "1  [(Despicable Me, -10.441909790039062), (The In...   \n",
       "2  [(The Incredibles, -3.6648075580596924), (The ...   \n",
       "3  [(The Incredibles, -10.843632698059082), (Expl...   \n",
       "4  [(The Incredibles, -11.45376968383789), (Explo...   \n",
       "\n",
       "                                                 rrf  \\\n",
       "0  [(The Incredibles, 0.016029143897996357), (Mad...   \n",
       "1  [(Black Widow, 0.015625), (The Incredibles, 0....   \n",
       "2  [(The Incredibles, 0.01639344262295082), (Mad ...   \n",
       "3  [(Skyfall, 0.01631411951348493), (Explosive Pu...   \n",
       "4  [(Madagascar, 0.015272878190495952), (Explosiv...   \n",
       "\n",
       "                            linear-combo-bm25-cosine  \n",
       "0  [(The Incredibles, 0.552392125712), (Despicabl...  \n",
       "1  [(The Incredibles, 0.454752022028), (Despicabl...  \n",
       "2  [(The Incredibles, 0.603234936448), (The Aveng...  \n",
       "3  [(Skyfall, 0.443840536475), (Despicable Me, 0....  \n",
       "4  [(Madagascar, 0.442132240534), (Despicable Me,...  "
      ]
     },
     "execution_count": 88,
     "metadata": {},
     "output_type": "execute_result"
    }
   ],
   "source": [
    "rankings.head()"
   ]
  },
  {
   "cell_type": "code",
   "execution_count": 89,
   "metadata": {},
   "outputs": [
    {
     "data": {
      "text/plain": [
       "array(['Show me movies set in dystopian or post-apocalyptic worlds',\n",
       "       list([('Mad Max: Fury Road', -3.4906253814697266), ('Despicable Me', -11.051526069641113), ('The Incredibles', -11.315656661987305), ('Black Widow', -10.880638122558594)]),\n",
       "       list([('Mad Max: Fury Road', 0.01602086438152012), ('Skyfall', 0.015607940446650124), ('The Incredibles', 0.015237691001697792), ('Black Widow', 0.01513526119402985)]),\n",
       "       list([('Mad Max: Fury Road', '0.452238571644'), ('The Incredibles', '0.445061525702'), ('Madagascar', '0.41901564002'), ('Despicable Me', '0.416218388081')])],\n",
       "      dtype=object)"
      ]
     },
     "execution_count": 89,
     "metadata": {},
     "output_type": "execute_result"
    }
   ],
   "source": [
    "rankings.loc[12].values"
   ]
  },
  {
   "cell_type": "markdown",
   "metadata": {},
   "source": [
    "# Wrap up\n",
    "That's a wrap! Hopefully from this you were able to learn:\n",
    "- How to implement simple vector search queries in Redis\n",
    "- How to implement vector search queries with full-text filters\n",
    "- How to implement hybrid search queries using the Redis aggregation API\n",
    "- How to perform client-side fusion and reranking techniques"
   ]
  }
 ],
 "metadata": {
  "kernelspec": {
   "display_name": "Python 3",
   "language": "python",
   "name": "python3"
  },
  "language_info": {
   "codemirror_mode": {
    "name": "ipython",
    "version": 3
   },
   "file_extension": ".py",
   "mimetype": "text/x-python",
   "name": "python",
   "nbconvert_exporter": "python",
   "pygments_lexer": "ipython3",
   "version": "3.11.10"
  }
 },
 "nbformat": 4,
 "nbformat_minor": 2
}
