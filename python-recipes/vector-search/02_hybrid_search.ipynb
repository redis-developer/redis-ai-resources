{
 "cells": [
  {
   "cell_type": "markdown",
   "metadata": {},
   "source": [
    "![Redis](https://redis.io/wp-content/uploads/2024/04/Logotype.svg?auto=webp&quality=85,75&width=120)\n",
    "# Implementing hybrid search with Redis\n",
    "\n",
    "Hybrid search is all about combining lexical search with semantic vector search to improve result relevancy. This notebook will cover 3 different hybrid search strategies with Redis:\n",
    "\n",
    "1. Linear combination of scores from lexical search (BM25) and vector search (Cosine Distance) with the HybridQuery class\n",
    "2. Client-Side Reciprocal Rank Fusion (RRF)\n",
    "3. Client-Side Reranking with a cross encoder model\n",
    "\n",
    ">Note: Additional work is planed within Redis Query Engine core to add more flexible hybrid search capabilities in the future.\n",
    "\n",
    "## Let's Begin!\n",
    "<a href=\"https://colab.research.google.com/github/redis-developer/redis-ai-resources/blob/main/python-recipes/vector-search/02_hybrid_search.ipynb\" target=\"_parent\"><img src=\"https://colab.research.google.com/assets/colab-badge.svg\" alt=\"Open In Colab\"/></a>\n"
   ]
  },
  {
   "cell_type": "markdown",
   "metadata": {},
   "source": [
    "### Install Packages"
   ]
  },
  {
   "cell_type": "code",
   "execution_count": null,
   "metadata": {},
   "outputs": [],
   "source": [
    "%pip install sentence-transformers pandas nltk \"redisvl>=0.6.0\""
   ]
  },
  {
   "cell_type": "markdown",
   "metadata": {},
   "source": [
    "### Data/Index Preparation\n",
    " \n",
    "In this section:\n",
    "\n",
    "1. We prepare the data necessary for our hybrid search implementations by loading a collection of movies. Each movie object contains the following attributes:\n",
    "    - `title`\n",
    "    - `rating`\n",
    "    - `description`\n",
    "    - `genre`\n",
    " \n",
    "2. We generate vector embeddings from the movie descriptions. This allows users to perform searches that not only rely on exact matches but also on semantic relevance, helping them find movies that align closely with their interests.\n",
    "\n",
    "3. After preparing the data, we populate a search index with these movie records, enabling efficient querying based on both lexical and vector-based search techniques."
   ]
  },
  {
   "cell_type": "markdown",
   "metadata": {},
   "source": [
    "Running remotely or in collab? Run this cell to download the necessary dataset."
   ]
  },
  {
   "cell_type": "code",
   "execution_count": null,
   "metadata": {},
   "outputs": [],
   "source": [
    "# NBVAL_SKIP\n",
    "!git clone https://github.com/redis-developer/redis-ai-resources.git temp_repo\n",
    "!mv temp_repo/python-recipes/vector-search/resources .\n",
    "!rm -rf temp_repo"
   ]
  },
  {
   "cell_type": "markdown",
   "metadata": {},
   "source": [
    "### Install Redis Stack\n",
    "\n",
    "Later in this tutorial, Redis will be used to store, index, and query vector\n",
    "embeddings and full text fields. **We need to have a Redis\n",
    "instance available.**\n",
    "\n",
    "#### Local Redis\n",
    "Use the shell script below to download, extract, and install [Redis Stack](https://redis.io/docs/getting-started/install-stack/) directly from the Redis package archive."
   ]
  },
  {
   "cell_type": "code",
   "execution_count": null,
   "metadata": {},
   "outputs": [],
   "source": [
    "# NBVAL_SKIP\n",
    "%%sh\n",
    "curl -fsSL https://packages.redis.io/gpg | sudo gpg --dearmor -o /usr/share/keyrings/redis-archive-keyring.gpg\n",
    "echo \"deb [signed-by=/usr/share/keyrings/redis-archive-keyring.gpg] https://packages.redis.io/deb $(lsb_release -cs) main\" | sudo tee /etc/apt/sources.list.d/redis.list\n",
    "sudo apt-get update  > /dev/null 2>&1\n",
    "sudo apt-get install redis-stack-server  > /dev/null 2>&1\n",
    "redis-stack-server --daemonize yes"
   ]
  },
  {
   "cell_type": "markdown",
   "metadata": {},
   "source": [
    "#### Alternative Redis Access (Cloud, Docker, other)\n",
    "There are many ways to get the necessary redis-stack instance running\n",
    "1. On cloud, deploy a [FREE instance of Redis in the cloud](https://redis.com/try-free/). Or, if you have your\n",
    "own version of Redis Enterprise running, that works too!\n",
    "2. Per OS, [see the docs](https://redis.io/docs/latest/operate/oss_and_stack/install/install-stack/)\n",
    "3. With docker: `docker run -d --name redis-stack-server -p 6379:6379 redis/redis-stack-server:latest`"
   ]
  },
  {
   "cell_type": "markdown",
   "metadata": {},
   "source": [
    "### Define the Redis Connection URL\n",
    "\n",
    "By default this notebook connects to the local instance of Redis Stack. **If you have your own Redis Enterprise instance** - replace REDIS_PASSWORD, REDIS_HOST and REDIS_PORT values with your own."
   ]
  },
  {
   "cell_type": "code",
   "execution_count": 1,
   "metadata": {},
   "outputs": [],
   "source": [
    "import os\n",
    "import warnings\n",
    "\n",
    "warnings.filterwarnings('ignore')\n",
    "\n",
    "# Replace values below with your own if using Redis Cloud instance\n",
    "REDIS_HOST = os.getenv(\"REDIS_HOST\", \"localhost\") # ex: \"redis-18374.c253.us-central1-1.gce.cloud.redislabs.com\"\n",
    "REDIS_PORT = os.getenv(\"REDIS_PORT\", \"6379\")      # ex: 18374\n",
    "REDIS_PASSWORD = os.getenv(\"REDIS_PASSWORD\", \"\")  # ex: \"1TNxTEdYRDgIDKM2gDfasupCADXXXX\"\n",
    "\n",
    "# If SSL is enabled on the endpoint, use rediss:// as the URL prefix\n",
    "REDIS_URL = f\"redis://:{REDIS_PASSWORD}@{REDIS_HOST}:{REDIS_PORT}\""
   ]
  },
  {
   "cell_type": "markdown",
   "metadata": {},
   "source": [
    "### Create redis client, load data, generate embeddings"
   ]
  },
  {
   "cell_type": "code",
   "execution_count": 2,
   "metadata": {},
   "outputs": [],
   "source": [
    "from redis import Redis\n",
    "\n",
    "client = Redis.from_url(REDIS_URL)"
   ]
  },
  {
   "cell_type": "code",
   "execution_count": 3,
   "metadata": {},
   "outputs": [],
   "source": [
    "import json\n",
    "\n",
    "with open(\"resources/movies.json\", 'r') as file:\n",
    "    movies = json.load(file)"
   ]
  },
  {
   "cell_type": "code",
   "execution_count": 4,
   "metadata": {},
   "outputs": [],
   "source": [
    "from redisvl.utils.vectorize import HFTextVectorizer\n",
    "from redisvl.extensions.cache.embeddings import EmbeddingsCache\n",
    "\n",
    "\n",
    "# load model for embedding our movie descriptions\n",
    "model = HFTextVectorizer(\n",
    "    model='sentence-transformers/all-MiniLM-L6-v2',\n",
    "    cache=EmbeddingsCache(\n",
    "        name=\"embedcache\",\n",
    "        ttl=600,\n",
    "        redis_client=client,\n",
    "    )\n",
    ")\n",
    "\n",
    "# embed movie descriptions\n",
    "movie_data = [\n",
    "    {\n",
    "        **movie,\n",
    "        \"description_vector\": model.embed(movie[\"description\"], as_buffer=True, dtype=\"float32\")\n",
    "    } for movie in movies\n",
    "]"
   ]
  },
  {
   "cell_type": "code",
   "execution_count": 5,
   "metadata": {},
   "outputs": [
    {
     "data": {
      "text/plain": [
       "[{'title': 'Explosive Pursuit',\n",
       "  'genre': 'action',\n",
       "  'rating': 7,\n",
       "  'description': 'A daring cop chases a notorious criminal across the city in a high-stakes game of cat and mouse.',\n",
       "  'description_vector': b'\\x91f|=\\xb6`\\n;g\\x92\\xb7;3\\xcb~\\xbd\\x16e\\xce\\xbb\\xd7\\x16J=P\\xa7?=\\xc8v\\x95<i\\xfa\\x06\\xbe\\x12Y\\xcf=4\\x07p=D\\xdb\\r\\xbd\\x8d\\xf2H\\xbdfe\\xc6<G\\xdfa=t8\\x16\\xbc\\xd4\\xd3\\x13<A\\xaa\\x1c=\\x06\\xef\\x89<\\xb6\\xb0-<\\x99\\xb2\\x9f\\xbcZ\\x0b\\xc3\\xbd\\xa5NR=Zl\\xf7\\xbcN>\\x17\\xbe\\x02\\x1a\\x05\\xb9@u\\xbf<\\xd6\\xe2b\\xba\\xd0\\xa6\\xa8\\xbdo\\xdc\\xec\\xbcQc%=N\\xe7r\\xbb\\x1dOG==(\\x85=y@\\xa2\\xbc7Z\\xd0\\xbdB%K\\xbd\\xba\\xed\\x94\\xbcU\\xddH=\\xbe&F<\\xbc*\\xec<\\x8c\\xd8\\x8d\\xbd\\xf3Z\\x98<\\x15\\xa3\\xa3=3g3\\xbd$\\xcd\\xbd\\xbd\\xf7$\\xf7;\\xf6\\xf4z=\\x02\\xb5\\x8c=\\x8d\\x0e\\xc6\\xbdhI\\x90\\xbdq\\x16\\xbd;u\\xe7\\x0c\\xbd&3\\xc9\\xbc\\x82\\xf8\\xbb\\xbc\\xa7&u\\xbb-\\x8f\\xca<\\xf2\\x7fJ=\\x14\\xaf*=\\x87OU\\xbd\\xde\\xf0\\x95\\xbc \\x02\\x19=\\x1b\\xf4K<\\xd0\\xc2\\t=F\\x83\\xac=\\x9e\\xd7\\xb8\\xbd\\xf3\\xb5\\x9c\\xbdB\\x85\\x18=\\xa4d&=\\'3\\xf8<\\xd3\\xf7\\x88<Tv\\xf2\\xbb1=[\\xbda\\xac\\xee\\xbb4:A\\xbd\\xd3d\\x19\\xbd\\xf2c\\xf2\\xbb\\xfa\\xb9x;\\xdc;O<\\xab1,\\xbc\\xeb\\xae\\xae=\\x82\\x00-\\xbc\\x18\\x06\\xae\\xbdi\\xd6\\x1a=\\xc3\\xbf\\xcd=\\x1e\\x150=\\xe5\\xf1\\x9d\\xbc\\xb3GK=\\xa7\\xb8 =\\xae\\xf1I\\xbd1e\\x9e\\xbb6\\x8b\\xf7:\\x8c\\xf8\\x1c=\\x84\\xba\\xde<\\x02o\\x16\\xbbO]p\\xbb\\xde\\xd5<<\\xe6\\xa1\\xa3\\xb8\\xb79s<\\x184&<\\x8f\\x1c\\x18<&\\xd9-\\xbd\\xcc\\xe6\\x98<\\x17\\xa1N=\\x9c/\\xa5=\\x11\\xf3\\xdd<)L\\x13<\\x82\\x13\\xce\\xbaX\\x9e\\xdc\\xbc\\x9f8\\x05=\\x1a\\xa1\\xf5<d\\xd8R\\xbc4\\x94-\\xbc\\x9c\\xdf\\\\9\\x9e1\\xec=X\\xf5V=7G\\xd6\\xbc\\x90\"S=\\xce\\xd9^\\xbd\\xae\\xa3\\x91<\\xd7\\xd9\\x13<$\\xb3y\\xbb\\x82\\x8d/\\xbd\\xc3\\x06p<\\xf5\\x94\\x88\\xbb\\xac\\xd0\\x9d<H\\x02\\xb6=\\x18\\xf1\\xad\\x89U\\xf2\\xa6\\xbb\\xb5\\xfbe\\xbd\\xc1QK\\xbb\\xf4\\x0f\\x90\\xbb\\xe1s\\xb9\\xbb-\\xc9\\xb9\\xbb\\xfehk=\\x9c\\r\\xad<5f\\xa8\\xbd\\xc1]\\xcc=\\x1c\\xe0 \\xbe\\xc84/\\xbdof\\xf7\\xbc[\\x9av=\\xd4\\x0bq</\\xda\\x1c\\xbd\\xed\\x08\\x8b<\\xean\\xa6\\xbc\\xc9t\\x86<}\\x87\\x19=\\x7f\\xae\\xe4\\xbc\\x03m^\\xbc\\x1bV\\x0e\\xbdU\\xb0\\xe3\\xbc\\xfdFU;\\xaaG|\\xbd]\\xfb\\x8b\\xbdz\\x81*\\xbd~\\x83\\xf4=\\xde\\xb7\\x10;\\x00!\\x0e\\xbd\\x04\\xd4\\xb4=\\x1b&\\x15\\xbdV\\x86\\x83=I$:<\\x1e\\xea\\xa1<\\x1a\\x08\\x8d\\xbd\\xa1\\x00i\\xbd:\\x01\\xdd<\\xff\\x86\\xd6=6\\x98\\x9c\\xbde|!\\xbd\\x10\"\\xc5\\xb9\\xaa\\xb3\\x93\\xbc\\xef\\xcb>\\xbd\\x7f\\x1bF\\xbd\\x9f?\\x14\\xbe\\xc9\\x8f(\\xbd\\xe4O\\x89\\xbd\\x18\\xae\\xd4<\\xb2\\x12\\xc3=\\xb0\\x05O\\xbd\\x8f\\x8ep\\xbc\\x1a\\xb5\\xac\\xbc\\xcc\\x9ee\\xbdv\\x8es;\\x0ca\\xc1;\\xd5\\xfaB\\xbde%\\xfe:\\x99\\xe6\\xf4=\\xa7\\x15*<\\x8c\\xf8\\x1b=\\x08\\xfcV\\xbd\\xce\\xd1\\r=<\\xee\\x06=\\x17u\\xba\\xbd\\r\\xa4\\xd6<\\x12\\xec\\xd9;\\xc89/=\\xa6\\xc2\\x85=x\\x0b\"=\\xe3i\\xef<4\\xe8c=\\xfc2\\x08\\xbe\\xd2\\x12;=\\x98VW;N\\xa4b<\\xe8\\x9d\\xb7<\\x90r;\\xbd\\\\z\\x91\\xbcO\\x00<\\xbd\\x13\\x1a\\xa3<\\x05K%\\xbcc\\xe7\\xbf\\xbb\\x89\\x87\\x12=\\x95\\x1d\\x95=||\\xfd\\xbc\\xf2\\xf1\\xd1\\xbdKz\\x84;\\xc7\\tu=.\\x8ai<=\\x91R\\xbd\\xdd\\xf3m\\xbd\\x8c\\xb83=_\\xedF=\\x1a\\xf3\\xd1\\x08oA\\xba<(\\xacO\\xbd\\xfc\\x0e\\xc7;\\x87\\xf4\\x04\\xbdN\\x82\\x92\\xbd\\x92\\xddD=a\\xd8;\\xbc\\xd1;\\xf4\\xbc\\xb2\\x8f\\x97\\xbd<\\\\\\r\\xbd\\xe1\\x8c\\xf5\\xbd\\x95\\x13(=\\xa2\\xc8\\xc6=\\xa9\\xed\\x1a=\\x98\\xa8\\xf8=\\x96\\xc1\\xee\\xbc\\xff.\\x18\\xbb\\xbf~;<\\xd9F\\t\\xbd\\x13\\x08\\x17=\\xa8\\xa5\\x1e=\\x17K\\xcb\\xbd0\\xf7\\x8c\\xbdXb\\xed\\xbb\\xc9[\\x19\\xbcU\\x0c\\x13\\xbcdq\\x83=\\xe9wd\\xbd.\\xc7\\xd1\\xbb~lY\\xbc\\xa2|a=a\\xcf\\xfd\\xbcB\\xa5\\x83\\xbb\\x9fO\\x19\\xbd&\\x02]\\xbd\\xb6\\xeaz=\\xff5\\x9c=1^\\xa9\\xbdi^9\\xbcT\\xe4N\\xbc}\\x07x\\xbd\\x17{\\xa0=@\\x9f\\x96<\\x81s8\\xba\\xa6\\xbb=\\xbd\\xb2|(<\\xc1\\xdf\\xb4\\xbbr\\xc9\\x0b\\xbd\\xc2\\x01\\x95\\xbd\\x02\\xc7T=\\x11p\\xd1<q3\\'\\xbd\\xb9\\x00H<t\\x0f\\xb8<\\x18U}\\xbd~}\\x01=\\xfe\\xc9[\\xbd\\xf7\\xec\\x03<\\xfcb\\x0f\\xbd\\xd3\\x8e\\xe7\\xbc\\xeb\\x16\\xc8<\\xba\\x08\\x9c=\\xfc\\xd4\\xa6\\xbdDQ\\xe5=]-O<\\xe0\\xf22=\\xc826\\xbd\\xf7\\xe2\\xf2\\xbc\\x06[\\xa7<r\\xb2\\x02\\xbe\\xe9n2\\xbd\\xb0\\x80\\x8a=\\x00\\xc4\\t\\xbd\\x0f\\xb8\\xcd\\xbc\\x8e\\xdb\\xad\\xbb\\xa8\\xfd\\xde\\xbc\\x14\\x17E={\\x06\\xbd=\\x13&m=\\x1cX\\x8e=\\xea\\xae\\xa4=\\x17\\xa3\\xca\\xbb\\x82?\\r\\xbc\\xc09\\x9c<Fl\\x8e\\xbd3\\x10k=\\xb5\\xff\\xbe;{\\x16\\xff<\\x898\\x92<\\xa92\\x8c;H\\xac\\xa3=\\xfa+v<\\xd4\\x89\\xf0\\xbb|\\xdb\\x07\\xbc\\x99\\xae\\xbd\\xbc\\xb5\\x8f\\xb4\\xb2\\xaf\\x88\\xd3\\xbd\\x86\\xe9j=\\xee\\xdb\\xa7\\xbd\\xde\\x16\\xe5<D\\x19p=\\xf1\\xe6\\x9f=\\xe5Gh\\xbd\\xec\\x9a\\xf4\\xbdv\\xd6\\x07\\xbc$\\xddj<9tw=\\x85\\xd0\\xe1<\\xc5\\xae\\x1e=\\xedF\\xc4<\\xa00\\n<Sjd\\xbc\\xb6\\xfa\\x8c=\\xda\\x8a\\xa6\\xbcT-\\xcd\\xba\\xb1p\\xcf=(T-\\xbd\\xc5Qn=;\\x16\\x9f\\xbd\\x94\\x8a_=\\'\\x13#<\\xd6\\xaam;(\\x86\\x00\\xbe\\xeey\\x8b\\xbc`UG=\\x9d\\xa3\\xca=\\xe3\\xbdq\\xbc\\x98\\xe3:\\xbd\\xa4\\x93]<z]\\xd1;\\xc3d\\xae=\\xa4\\x1f\\x03\\xbd\\x04L\\x89=p:s\\xbd\\xaf\\x1eb=\\x9f\\xc9\\t\\xbb\\xa6\\xfb\\xe7<z\\xce\\xe4\\xbcXV#=p\\x8bk\\xbd\\xa6h\\x01<\\xf6\\xe5N\\xbd>\\x0c\\xb1\\xbch\\x01J\\xbda\\xf4~==\\xe3Z\\xbd?/\\xf1\\xbbJ98=\\xd92T\\xbc.\\'\\x81<\\xbd\\xa0M=\\xa0\\xde\\x05<\\x1bI|\\xbd\\xc4\\x98w<\\xdf\\xd3\\xa7\\xbd\\xdbS \\xbdl\\x13\\x07=\\x18&\\x14\\xbc\\xbev\\xe9<\\xfa,\\x97='}]"
      ]
     },
     "execution_count": 5,
     "metadata": {},
     "output_type": "execute_result"
    }
   ],
   "source": [
    "movie_data[:1]"
   ]
  },
  {
   "cell_type": "markdown",
   "metadata": {},
   "source": [
    "### Define Redis index schema\n",
    "\n",
    "Below, we build a schema that represents our movie objects."
   ]
  },
  {
   "cell_type": "code",
   "execution_count": 6,
   "metadata": {},
   "outputs": [],
   "source": [
    "from redisvl.schema import IndexSchema\n",
    "from redisvl.index import SearchIndex\n",
    "\n",
    "\n",
    "schema = IndexSchema.from_dict({\n",
    "  \"index\": {\n",
    "    \"name\": \"movies\",\n",
    "    \"prefix\": \"movie\",\n",
    "    \"storage\": \"hash\"\n",
    "  },\n",
    "  \"fields\": [\n",
    "    { \"name\": \"title\", \"type\": \"text\" },\n",
    "    { \"name\": \"description\", \"type\": \"text\" },\n",
    "    { \"name\": \"genre\", \"type\": \"tag\", \"attrs\": {\"sortable\": True}},\n",
    "    { \"name\": \"rating\", \"type\": \"numeric\", \"attrs\": {\"sortable\": True}},\n",
    "    {\n",
    "        \"name\": \"description_vector\",\n",
    "        \"type\": \"vector\",\n",
    "        \"attrs\": {\n",
    "            \"dims\": 384,\n",
    "            \"distance_metric\": \"cosine\",\n",
    "            \"algorithm\": \"hnsw\",\n",
    "            \"datatype\": \"float32\"\n",
    "        }\n",
    "    }\n",
    "  ]\n",
    "})\n",
    "\n",
    "\n",
    "index = SearchIndex(schema, client, validate_on_load=True)\n",
    "index.create(overwrite=True, drop=True)"
   ]
  },
  {
   "cell_type": "markdown",
   "metadata": {},
   "source": [
    "### Populate index\n",
    "\n",
    "Load movie objects into Redis"
   ]
  },
  {
   "cell_type": "code",
   "execution_count": 7,
   "metadata": {},
   "outputs": [
    {
     "data": {
      "text/plain": [
       "['movie:01JR6XHSRXW6DF4TSF7N2KJD21',\n",
       " 'movie:01JR6XHSS0HK3E95HDVE1D5Y4W',\n",
       " 'movie:01JR6XHSS0EE89YNT702SB1ZZN',\n",
       " 'movie:01JR6XHSS09BNDBRZHA6F5RT0H',\n",
       " 'movie:01JR6XHSS0N8W3M4YDR45HHCPY',\n",
       " 'movie:01JR6XHSS1XDQFJXHHJD9Z0AW3',\n",
       " 'movie:01JR6XHSS17RNERVEQ9YAHA81D',\n",
       " 'movie:01JR6XHSS182SYE6E630Y6D6B1',\n",
       " 'movie:01JR6XHSS1899GWQDBWHP0Q57A',\n",
       " 'movie:01JR6XHSS1WRCF39MX0XQ60PEJ',\n",
       " 'movie:01JR6XHSS1K9RYSRJTTNRQQP5C',\n",
       " 'movie:01JR6XHSS148EGMV6JTECWRC5J',\n",
       " 'movie:01JR6XHSS1199WGN103VB7GGHE',\n",
       " 'movie:01JR6XHSS12RTJR8B953SDWC1E',\n",
       " 'movie:01JR6XHSS1WR63V3MZNVZ5X82R',\n",
       " 'movie:01JR6XHSS2Z1F2C0ZG60FCJ36F',\n",
       " 'movie:01JR6XHSS250RZBG2M3C3VKWE2',\n",
       " 'movie:01JR6XHSS2ECNNK19FRAZ00RE6',\n",
       " 'movie:01JR6XHSS2W46EMH9EVC42TBVV',\n",
       " 'movie:01JR6XHSS2K8KF6DK6MZN65MT8']"
      ]
     },
     "execution_count": 7,
     "metadata": {},
     "output_type": "execute_result"
    }
   ],
   "source": [
    "index.load(movie_data)"
   ]
  },
  {
   "cell_type": "markdown",
   "metadata": {},
   "source": [
    "# Hybrid Search Approaches\n",
    "\n",
    "Now that our search index is populated and ready, we will build out a few different hybrid search techniques in Redis.\n",
    "\n",
    "To start, we will use our `HybridQuery` class that accepts a text string and vector to automatically combine text similarity and vector similarity scores."
   ]
  },
  {
   "cell_type": "markdown",
   "metadata": {},
   "source": [
    "## 1. Linear Combination using HybridQuery\n",
    "\n",
    "The goal of this technique is to calculate a weighted sum of the text similarity score for our provided text search and the cosine distance between vectors calculated via a KNN vector query. Under the hood this is possible in Redis using the [aggregations API](https://redis.io/docs/latest/develop/interact/search-and-query/advanced-concepts/aggregations/), as of `Redis 7.4.x` (search version `2.10.5`), within a single database call.\n",
    "\n",
    "As of RedisVl 0.5.0 all of this is nicely encapsulated in your `HybridQuery` class, which behaves much like our other query classes."
   ]
  },
  {
   "cell_type": "code",
   "execution_count": 8,
   "metadata": {},
   "outputs": [],
   "source": [
    "# Sample user query (can be changed for comparisons)\n",
    "user_query = \"action adventure movie with great fighting scenes against a dangerous criminal, crime busting, superheroes, and magic\""
   ]
  },
  {
   "cell_type": "markdown",
   "metadata": {},
   "source": [
    "First, we will import our `HybridQuery` and understand its parameters.\n",
    "At a minimum, the `HybridQuery` needs 4 arguments:\n",
    "```python\n",
    "query = HybridQuery(\n",
    "    text = \"your query string here\",\n",
    "    text_field_name = \"<name of the text field in the index to do text search in>\",\n",
    "    vector = <bytes or numeric array, ex: [0.1, 0.2, 0.3]>,\n",
    "    vector_field_name = \"<name of the vector field in the index to compute vector similarity>\",\n",
    ")\n",
    "```"
   ]
  },
  {
   "cell_type": "code",
   "execution_count": 12,
   "metadata": {},
   "outputs": [
    {
     "data": {
      "text/plain": [
       "[{'vector_distance': '0.645975470543',\n",
       "  'title': 'The Incredibles',\n",
       "  'vector_similarity': '0.677012264729',\n",
       "  'text_score': '10.5386477145',\n",
       "  'hybrid_score': '3.63550289966'},\n",
       " {'vector_distance': '0.797545194626',\n",
       "  'title': 'Skyfall',\n",
       "  'vector_similarity': '0.601227402687',\n",
       "  'text_score': '4.73920856087',\n",
       "  'hybrid_score': '1.84262175014'},\n",
       " {'vector_distance': '0.608649492264',\n",
       "  'title': 'Explosive Pursuit',\n",
       "  'vector_similarity': '0.695675253868',\n",
       "  'text_score': '3.93239518818',\n",
       "  'hybrid_score': '1.66669123416'}]"
      ]
     },
     "execution_count": 12,
     "metadata": {},
     "output_type": "execute_result"
    }
   ],
   "source": [
    "from redisvl.query import HybridQuery\n",
    "\n",
    "vector = model.embed(user_query, as_buffer=True, dtype=\"float32\")\n",
    "\n",
    "query = HybridQuery(\n",
    "    text=user_query,\n",
    "    text_field_name=\"description\",\n",
    "    vector=vector,\n",
    "    vector_field_name=\"description_vector\",\n",
    "    return_fields=[\"title\"],\n",
    ")\n",
    "\n",
    "results = index.query(query)\n",
    "\n",
    "results[:3]"
   ]
  },
  {
   "cell_type": "markdown",
   "metadata": {},
   "source": [
    "That's it! That is all it takes to perform a hybrid text matching and vector query with RedisVL.\n",
    "Of course there are many more configurations and things we can do with the `HybridQuery` class. Let's investigate.\n",
    "\n",
    "First, let's look at just the text query part that is being run:"
   ]
  },
  {
   "cell_type": "code",
   "execution_count": 13,
   "metadata": {},
   "outputs": [
    {
     "data": {
      "text/plain": [
       "'(~@description:(action | adventure | movie | great | fighting | scenes | dangerous | criminal | crime | busting | superheroes | magic))=>[KNN 10 @description_vector $vector AS vector_distance]'"
      ]
     },
     "execution_count": 13,
     "metadata": {},
     "output_type": "execute_result"
    }
   ],
   "source": [
    "query._build_query_string()"
   ]
  },
  {
   "cell_type": "markdown",
   "metadata": {},
   "source": [
    "### Choosing your stopwords for better queries\n",
    "You can see that the user query string has been tokenized and certain stopwords like 'and', 'for', 'with', 'but', have been removed, otherwise you would get matches on irrelevant words.\n",
    "RedisVL uses [NLTK](https://www.nltk.org/index.html) english stopwords as the the default. You can change which default language stopwords to use with the `stopwords` argument.\n",
    "You specify a language, like 'german', 'arabic', 'greek' and many others, provide your own list of stopwords, or set it to `None` to not remove any."
   ]
  },
  {
   "cell_type": "code",
   "execution_count": 14,
   "metadata": {},
   "outputs": [
    {
     "name": "stdout",
     "output_type": "stream",
     "text": [
      "(~@description:(film | d\\'action | d\\'aventure | superbes | scènes | combat | enquêtes | criminelles | super\\-héros | magie))=>[KNN 10 @description_vector $vector AS vector_distance]\n",
      "(~@description:(action | adventure | movie | great | fighting | scenes | against | dangerous | criminal | crime | busting | superheroes | magic))=>[KNN 10 @description_vector $vector AS vector_distance]\n",
      "(~@description:(action | adventure | movie | with | great | fighting | scenes | against | a | dangerous | criminal | crime | busting | superheroes | and | magic))=>[KNN 10 @description_vector $vector AS vector_distance]\n"
     ]
    }
   ],
   "source": [
    "# translate our user query to French and use nltk french stopwords\n",
    "french_query_text = \"Film d'action et d'aventure avec de superbes scènes de combat, des enquêtes criminelles, des super-héros et de la magie\"\n",
    "\n",
    "french_film_query = HybridQuery(\n",
    "    text=french_query_text,\n",
    "    text_field_name=\"description\",\n",
    "    vector=model.embed(french_query_text, as_buffer=True, dtype=\"float32\"),\n",
    "    vector_field_name=\"description_vector\",\n",
    "    stopwords=\"french\",\n",
    ")\n",
    "\n",
    "print(french_film_query._build_query_string())\n",
    "\n",
    "# specify your own stopwords\n",
    "custom_stopwords = set([\n",
    "    \"a\", \"is\", \"the\", \"an\", \"and\", \"are\", \"as\", \"at\", \"be\", \"but\", \"by\", \"for\",\n",
    "    \"if\", \"in\", \"into\", \"it\", \"no\", \"not\", \"of\", \"on\", \"or\", \"such\", \"that\", \"their\",\n",
    "    \"then\", \"there\", \"these\", \"they\", \"this\", \"to\", \"was\", \"will\", \"with\"\n",
    "])\n",
    "\n",
    "stopwords_query = HybridQuery(\n",
    "    text=user_query,\n",
    "    text_field_name=\"description\",\n",
    "    vector=vector,\n",
    "    vector_field_name=\"description_vector\",\n",
    "    stopwords=custom_stopwords,\n",
    ")\n",
    "\n",
    "print(stopwords_query._build_query_string())\n",
    "\n",
    "# don't use any stopwords\n",
    "no_stopwords_query = HybridQuery(\n",
    "    text=user_query,\n",
    "    text_field_name=\"description\",\n",
    "    vector=vector,\n",
    "    vector_field_name=\"description_vector\",\n",
    "    stopwords=None,\n",
    ")\n",
    "\n",
    "print(no_stopwords_query._build_query_string())"
   ]
  },
  {
   "cell_type": "markdown",
   "metadata": {},
   "source": [
    "### Choosing your text scoring function and weights\n",
    "There are different ways to calculate the similarity between sets of text. Redis supports several, such as `BM25`, `TFIDF`, `DISMAX`, and others. The default is `BM25STD` and is easy to configure with the `text_scorer` parameter. Just like changing you embedding model can change your vector similarity scores, changing your text similarity measure can change your text scores.\n",
    "\n",
    "Because hybrid queries are performing a weighted average of text similarity and vector similarity you also control the relative balance of these scores with the `alpha` parameter.\n",
    "\n",
    "The documents are ranked based on the hybrid score which is computed as:\n",
    "\n",
    "```python\n",
    "hybrid_score = {1-alpha} * text_score + {alpha} * vector_similarity\n",
    "```\n",
    "\n",
    "Try changing the `text_scorer` and `alpha` parameters in the query below to see how results may change.\n"
   ]
  },
  {
   "cell_type": "code",
   "execution_count": 15,
   "metadata": {},
   "outputs": [
    {
     "data": {
      "text/plain": [
       "[{'vector_distance': '0.645975470543',\n",
       "  'title': 'The Incredibles',\n",
       "  'description': \"A family of undercover superheroes, while trying to live the quiet suburban life, are forced into action to save the world. Bob Parr (Mr. Incredible) and his wife Helen (Elastigirl) were among the world's greatest crime fighters, but now they must assume civilian identities and retreat to the suburbs to live a 'normal' life with their three children. However, the family's desire to help the world pulls them back into action when they face a new and dangerous enemy.\",\n",
       "  'vector_similarity': '0.677012264729',\n",
       "  'text_score': '6',\n",
       "  'hybrid_score': '4.66925306618'},\n",
       " {'vector_distance': '0.653376281261',\n",
       "  'title': 'The Dark Knight',\n",
       "  'description': 'Batman faces off against the Joker, a criminal mastermind who threatens to plunge Gotham into chaos.',\n",
       "  'vector_similarity': '0.673311859369',\n",
       "  'text_score': '4',\n",
       "  'hybrid_score': '3.16832796484'},\n",
       " {'vector_distance': '0.608649492264',\n",
       "  'title': 'Explosive Pursuit',\n",
       "  'description': 'A daring cop chases a notorious criminal across the city in a high-stakes game of cat and mouse.',\n",
       "  'vector_similarity': '0.695675253868',\n",
       "  'text_score': '3',\n",
       "  'hybrid_score': '2.42391881347'}]"
      ]
     },
     "execution_count": 15,
     "metadata": {},
     "output_type": "execute_result"
    }
   ],
   "source": [
    "tfidf_query = HybridQuery(\n",
    "    text=user_query,\n",
    "    text_field_name=\"description\",\n",
    "    vector=vector,\n",
    "    vector_field_name=\"description_vector\",\n",
    "    text_scorer=\"TFIDF\", # can be one of [TFIDF, TFIDF.DOCNORM, BM25, DISMAX, DOCSCORE, BM25STD]\n",
    "    stopwords=None,\n",
    "    alpha=0.25, # weight the vector score lower\n",
    "    return_fields=[\"title\", \"description\"],\n",
    ")\n",
    "\n",
    "results = index.query(tfidf_query)\n",
    "\n",
    "results[:3]"
   ]
  },
  {
   "cell_type": "markdown",
   "metadata": {},
   "source": [
    "## 2. Client-side fusion with RRF\n",
    "\n",
    "Instead of relying on document scores like cosine similarity and BM25/TFIDF, we can fetch items and focus on their rank. This rank can be utilized to create a new ranking metric known as [Reciprocal Rank Fusion (RRF)](https://plg.uwaterloo.ca/~gvcormac/cormacksigir09-rrf.pdf). RRF is powerful because it can handle ranked lists of different length, scores of different scales, and other complexities.\n",
    "\n",
    "Although Redis does not currently support RRF natively, we can easily implement it on the client side."
   ]
  },
  {
   "cell_type": "code",
   "execution_count": 14,
   "metadata": {},
   "outputs": [],
   "source": [
    "def fuse_rankings_rrf(*ranked_lists, weights=None, k=60):\n",
    "    \"\"\"\n",
    "    Perform Weighted Reciprocal Rank Fusion on N number of ordered lists.\n",
    "    \"\"\"\n",
    "    item_scores = {}\n",
    "    \n",
    "    if weights is None:\n",
    "        weights = [1.0] * len(ranked_lists)\n",
    "    else:\n",
    "        assert len(weights) == len(ranked_lists), \"Number of weights must match number of ranked lists\"\n",
    "        assert all(0 <= w <= 1 for w in weights), \"Weights must be between 0 and 1\"\n",
    "    \n",
    "    for ranked_list, weight in zip(ranked_lists, weights):\n",
    "        for rank, item in enumerate(ranked_list, start=1):\n",
    "            if item not in item_scores:\n",
    "                item_scores[item] = 0\n",
    "            item_scores[item] += weight * (1 / (rank + k))\n",
    "    \n",
    "    # Sort items by their weighted RRF scores in descending order\n",
    "    return sorted(item_scores.items(), key=lambda x: x[1], reverse=True)"
   ]
  },
  {
   "cell_type": "code",
   "execution_count": 15,
   "metadata": {},
   "outputs": [
    {
     "data": {
      "text/plain": [
       "[(2, 0.04814747488101534),\n",
       " (1, 0.032266458495966696),\n",
       " (6, 0.03200204813108039),\n",
       " (5, 0.01639344262295082),\n",
       " (4, 0.016129032258064516),\n",
       " (3, 0.015873015873015872),\n",
       " (7, 0.015625),\n",
       " (8, 0.015384615384615385)]"
      ]
     },
     "execution_count": 15,
     "metadata": {},
     "output_type": "execute_result"
    }
   ],
   "source": [
    "# Below is a simple example of RRF over a few lists of numbers\n",
    "fuse_rankings_rrf([1, 2, 3], [2, 4, 6, 7, 8], [5, 6, 1, 2])"
   ]
  },
  {
   "cell_type": "markdown",
   "metadata": {},
   "source": [
    "We'll want some helper functions to  construct our individual text and vector queries"
   ]
  },
  {
   "cell_type": "code",
   "execution_count": 21,
   "metadata": {},
   "outputs": [],
   "source": [
    "# Function to create a vector query using RedisVL helpers for ease of use\n",
    "from redisvl.query import VectorQuery, TextQuery\n",
    "\n",
    "\n",
    "def make_vector_query(user_query: str, num_results: int, filters = None) -> VectorQuery:\n",
    "    \"\"\"Generate a Redis vector query given user query string.\"\"\"\n",
    "    vector = model.embed(user_query, as_buffer=True, dtype=\"float32\")\n",
    "    query = VectorQuery(\n",
    "        vector=vector,\n",
    "        vector_field_name=\"description_vector\",\n",
    "        num_results=num_results,\n",
    "        return_fields=[\"title\", \"description\"]\n",
    "    )\n",
    "    if filters:\n",
    "        query.set_filter(filters)\n",
    "    return query\n",
    "\n",
    "\n",
    "def make_ft_query(text_field: str, user_query: str, num_results: int) -> TextQuery:\n",
    "    \"\"\"Generate a Redis full-text query given a user query string.\"\"\"\n",
    "    return TextQuery(\n",
    "        text=user_query,\n",
    "        text_field_name=text_field,\n",
    "        text_scorer=\"BM25\",\n",
    "        num_results=num_results,\n",
    "        return_fields=[\"title\", \"description\"],\n",
    "    )"
   ]
  },
  {
   "cell_type": "code",
   "execution_count": 22,
   "metadata": {},
   "outputs": [],
   "source": [
    "from typing import List, Dict, Any\n",
    "\n",
    "\n",
    "def weighted_rrf(\n",
    "    user_query: str,\n",
    "    alpha: float = 0.5,\n",
    "    num_results: int = 4,\n",
    "    k: int = 60,\n",
    ") -> List[Dict[str, Any]]:\n",
    "    \"\"\"Implemented client-side RRF after querying from Redis.\"\"\"\n",
    "    # Create the vector query\n",
    "    vector_query = make_vector_query(user_query, num_results=len(movie_data))\n",
    "\n",
    "    # Create the full-text query\n",
    "    full_text_query = make_ft_query(\"description\", user_query, num_results=len(movie_data))\n",
    "\n",
    "    # Run queries individually\n",
    "    vector_query_results = index.query(vector_query)\n",
    "    full_text_query_results = index.query(full_text_query)\n",
    "\n",
    "    # Extract titles from results\n",
    "    vector_titles = [movie[\"title\"] for movie in vector_query_results]\n",
    "    full_text_titles = [movie[\"title\"] for movie in full_text_query_results]\n",
    "\n",
    "    # Perform weighted RRF\n",
    "    return fuse_rankings_rrf(vector_titles, full_text_titles, weights=[alpha, 1-alpha], k=k)[:num_results]"
   ]
  },
  {
   "cell_type": "code",
   "execution_count": 23,
   "metadata": {},
   "outputs": [
    {
     "data": {
      "text/plain": [
       "[('Explosive Pursuit', 0.01639344262295082),\n",
       " ('The Dark Knight', 0.015873015873015872),\n",
       " ('Despicable Me', 0.015625),\n",
       " ('The Incredibles', 0.015417457305502846),\n",
       " ('Skyfall', 0.0152073732718894),\n",
       " ('Finding Nemo', 0.014242424242424244)]"
      ]
     },
     "execution_count": 23,
     "metadata": {},
     "output_type": "execute_result"
    }
   ],
   "source": [
    "# Test it out!\n",
    "weighted_rrf(user_query, num_results=6)"
   ]
  },
  {
   "cell_type": "markdown",
   "metadata": {},
   "source": [
    "But say we want to give more weight to the vector search rankings in this case to boost semantic similarities contribution to the final rank:"
   ]
  },
  {
   "cell_type": "code",
   "execution_count": 24,
   "metadata": {},
   "outputs": [
    {
     "data": {
      "text/plain": [
       "[('Explosive Pursuit', 0.01639344262295082),\n",
       " ('The Dark Knight', 0.015873015873015872),\n",
       " ('The Incredibles', 0.015702087286527514),\n",
       " ('Despicable Me', 0.015625),\n",
       " ('Skyfall', 0.014838709677419354),\n",
       " ('Finding Nemo', 0.01387878787878788)]"
      ]
     },
     "execution_count": 24,
     "metadata": {},
     "output_type": "execute_result"
    }
   ],
   "source": [
    "weighted_rrf(user_query, alpha=0.7, num_results=6)"
   ]
  },
  {
   "cell_type": "markdown",
   "metadata": {},
   "source": [
    "## 3. Client-side reranking\n",
    "\n",
    "An alternative approach to RRF is to simply use an external reranker to order the final recommendations. RedisVL has built-in integrations to a few popular reranking modules."
   ]
  },
  {
   "cell_type": "code",
   "execution_count": 25,
   "metadata": {},
   "outputs": [],
   "source": [
    "from redisvl.utils.rerank import HFCrossEncoderReranker\n",
    "\n",
    "# Load the ms marco MiniLM cross encoder model from huggingface\n",
    "reranker = HFCrossEncoderReranker(\"cross-encoder/ms-marco-MiniLM-L-6-v2\")\n",
    "\n",
    "\n",
    "def rerank(\n",
    "    user_query: str,\n",
    "    num_results: int = 4,\n",
    ") -> List[Dict[str, Any]]:\n",
    "    \"\"\"Rerank the candidates based on the user query with an external model/module.\"\"\"\n",
    "    # Create the vector query\n",
    "    vector_query = make_vector_query(user_query, num_results=num_results)\n",
    "\n",
    "    # Create the full-text query\n",
    "    full_text_query = make_ft_query(\"description\", user_query, num_results=num_results)\n",
    "\n",
    "    # Run queries individually\n",
    "    vector_query_results = index.query(vector_query)\n",
    "    full_text_query_results = index.query(full_text_query)\n",
    "\n",
    "    # Assemble list of potential movie candidates with their IDs\n",
    "    movie_map = {}\n",
    "    for movie in vector_query_results + full_text_query_results:\n",
    "        candidate = f\"Title: {movie['title']}. Description: {movie['description']}\"\n",
    "        if candidate not in movie_map:\n",
    "            movie_map[candidate] = movie\n",
    "\n",
    "    # Rerank candidates\n",
    "    reranked_movies, scores = reranker.rank(\n",
    "        query=user_query,\n",
    "        docs=list(movie_map.keys()),\n",
    "        limit=num_results,\n",
    "        return_score=True\n",
    "    )\n",
    "\n",
    "    # Fetch full movie objects for the reranked results\n",
    "    return [\n",
    "        (movie_map[movie['content']][\"title\"], score)\n",
    "        for movie, score in zip(reranked_movies, scores)\n",
    "    ]\n"
   ]
  },
  {
   "cell_type": "code",
   "execution_count": 26,
   "metadata": {},
   "outputs": [
    {
     "data": {
      "text/plain": [
       "[('The Incredibles', -4.1636810302734375),\n",
       " ('Explosive Pursuit', 0.8551048636436462),\n",
       " ('The Dark Knight', -4.403156280517578),\n",
       " ('Skyfall', -7.830077171325684),\n",
       " ('Mad Max: Fury Road', -7.7119951248168945),\n",
       " ('Despicable Me', -8.742403030395508)]"
      ]
     },
     "execution_count": 26,
     "metadata": {},
     "output_type": "execute_result"
    }
   ],
   "source": [
    "# Test it out!\n",
    "rerank(user_query, num_results=6)"
   ]
  },
  {
   "cell_type": "markdown",
   "metadata": {},
   "source": [
    "This technique is certainly much slower than simple RRF as it's running an additional cross-encoder model to rerank the results. This can be fairly computationally expensive, but tunable with enough clarity on the use case and focus (how many items to retrieve? how many items to rerank? model accleration via GPU?)"
   ]
  },
  {
   "cell_type": "markdown",
   "metadata": {},
   "source": [
    "## Comparing Approaches\n",
    "\n",
    "While each approach has strengths and weaknesses, it's important to understand that each might work better in some use cases than others. Below we will run through a sample of user queries and generate matches for each using different hybrid search techniques."
   ]
  },
  {
   "cell_type": "code",
   "execution_count": 27,
   "metadata": {},
   "outputs": [],
   "source": [
    "movie_user_queries = [\n",
    "    \"I'm in the mood for a high-rated action movie with a complex plot\",\n",
    "    \"What's a funny animated film about unlikely friendships?\",\n",
    "    \"Any movies featuring superheroes or extraordinary abilities\", \n",
    "    \"I want to watch a thrilling movie with spies or secret agents\",\n",
    "    \"Are there any comedies set in unusual locations or environments?\",\n",
    "    \"Find me an action-packed movie with car chases or explosions\",\n",
    "    \"What's a good family-friendly movie with talking animals?\",\n",
    "    \"I'm looking for a film that combines action and mind-bending concepts\",\n",
    "    \"Suggest a movie with a strong female lead character\",\n",
    "    \"What are some movies that involve heists or elaborate plans?\",\n",
    "    \"I need a feel-good movie about personal growth or transformation\",\n",
    "    \"Are there any films that blend comedy with action elements?\", \n",
    "    \"Show me movies set in dystopian or post-apocalyptic worlds\",\n",
    "    \"I'm interested in a movie with themes of revenge or justice\",\n",
    "    \"What are some visually stunning movies with impressive special effects?\"\n",
    "]"
   ]
  },
  {
   "cell_type": "code",
   "execution_count": 28,
   "metadata": {},
   "outputs": [],
   "source": [
    "def hybrid_query(text, alpha, num_results) -> List[Dict[str, Any]]:\n",
    "\n",
    "    query = HybridQuery(\n",
    "        text,\n",
    "        text_field_name=\"description\",\n",
    "        vector=model.embed(text, as_buffer=True, dtype=\"float32\"),\n",
    "        vector_field_name=\"description_vector\",\n",
    "        text_scorer=\"BM25\",\n",
    "        stopwords=\"english\",\n",
    "        alpha=alpha,\n",
    "        return_fields=[\"title\", \"hybrid_score\"],\n",
    "    )\n",
    "\n",
    "    results =  index.query(query)\n",
    "\n",
    "    return [\n",
    "        (\n",
    "            movie[\"title\"],\n",
    "            movie[\"hybrid_score\"]\n",
    "        )\n",
    "        for movie in results\n",
    "    ]"
   ]
  },
  {
   "cell_type": "code",
   "execution_count": 29,
   "metadata": {},
   "outputs": [],
   "source": [
    "import pandas as pd\n",
    "\n",
    "\n",
    "rankings = pd.DataFrame()\n",
    "rankings[\"queries\"] = movie_user_queries\n",
    "\n",
    "# First, add new columns to the DataFrame\n",
    "rankings[\"hf-cross-encoder\"] = \"\"\n",
    "rankings[\"rrf\"] = \"\"\n",
    "rankings[\"linear-combo-bm25-cosine\"] = \"\""
   ]
  },
  {
   "cell_type": "code",
   "execution_count": 30,
   "metadata": {},
   "outputs": [],
   "source": [
    "# Now iterate through the queries and add results\n",
    "for i, user_query in enumerate(movie_user_queries):\n",
    "    rankings.at[i, \"hf-cross-encoder\"] = rerank(user_query, num_results=4)\n",
    "    rankings.at[i, \"rrf\"] = weighted_rrf(user_query, alpha=0.7, num_results=4)\n",
    "    rankings.at[i, \"linear-combo-bm25-cosine\"] = hybrid_query(user_query, alpha=0.7, num_results=4)"
   ]
  },
  {
   "cell_type": "code",
   "execution_count": 31,
   "metadata": {},
   "outputs": [
    {
     "data": {
      "text/html": [
       "<div>\n",
       "<style scoped>\n",
       "    .dataframe tbody tr th:only-of-type {\n",
       "        vertical-align: middle;\n",
       "    }\n",
       "\n",
       "    .dataframe tbody tr th {\n",
       "        vertical-align: top;\n",
       "    }\n",
       "\n",
       "    .dataframe thead th {\n",
       "        text-align: right;\n",
       "    }\n",
       "</style>\n",
       "<table border=\"1\" class=\"dataframe\">\n",
       "  <thead>\n",
       "    <tr style=\"text-align: right;\">\n",
       "      <th></th>\n",
       "      <th>queries</th>\n",
       "      <th>hf-cross-encoder</th>\n",
       "      <th>rrf</th>\n",
       "      <th>linear-combo-bm25-cosine</th>\n",
       "    </tr>\n",
       "  </thead>\n",
       "  <tbody>\n",
       "    <tr>\n",
       "      <th>0</th>\n",
       "      <td>I'm in the mood for a high-rated action movie ...</td>\n",
       "      <td>[(Mad Max: Fury Road, -11.244140625), (Toy Sto...</td>\n",
       "      <td>[(The Incredibles, 0.016029143897996357), (Toy...</td>\n",
       "      <td>[(The Incredibles, 0.55239223002), (Toy Story,...</td>\n",
       "    </tr>\n",
       "    <tr>\n",
       "      <th>1</th>\n",
       "      <td>What's a funny animated film about unlikely fr...</td>\n",
       "      <td>[(Despicable Me, -10.441909790039062), (The In...</td>\n",
       "      <td>[(Monsters, Inc., 0.015524093392945852), (Mada...</td>\n",
       "      <td>[(The Incredibles, 0.45475204289), (Despicable...</td>\n",
       "    </tr>\n",
       "    <tr>\n",
       "      <th>2</th>\n",
       "      <td>Any movies featuring superheroes or extraordin...</td>\n",
       "      <td>[(The Incredibles, -3.6648073196411133), (The ...</td>\n",
       "      <td>[(The Incredibles, 0.01639344262295082), (The ...</td>\n",
       "      <td>[(The Incredibles, 0.603234915587), (The Aveng...</td>\n",
       "    </tr>\n",
       "    <tr>\n",
       "      <th>3</th>\n",
       "      <td>I want to watch a thrilling movie with spies o...</td>\n",
       "      <td>[(Inception, -10.843631744384766), (The Incred...</td>\n",
       "      <td>[(Inception, 0.015524093392945852), (Skyfall, ...</td>\n",
       "      <td>[(Skyfall, 0.443840536475), (Despicable Me, 0....</td>\n",
       "    </tr>\n",
       "    <tr>\n",
       "      <th>4</th>\n",
       "      <td>Are there any comedies set in unusual location...</td>\n",
       "      <td>[(The Incredibles, -11.45376968383789), (Findi...</td>\n",
       "      <td>[(Finding Nemo, 0.015524093392945852), (Madaga...</td>\n",
       "      <td>[(Madagascar, 0.442132219672), (Despicable Me,...</td>\n",
       "    </tr>\n",
       "  </tbody>\n",
       "</table>\n",
       "</div>"
      ],
      "text/plain": [
       "                                             queries  \\\n",
       "0  I'm in the mood for a high-rated action movie ...   \n",
       "1  What's a funny animated film about unlikely fr...   \n",
       "2  Any movies featuring superheroes or extraordin...   \n",
       "3  I want to watch a thrilling movie with spies o...   \n",
       "4  Are there any comedies set in unusual location...   \n",
       "\n",
       "                                    hf-cross-encoder  \\\n",
       "0  [(Mad Max: Fury Road, -11.244140625), (Toy Sto...   \n",
       "1  [(Despicable Me, -10.441909790039062), (The In...   \n",
       "2  [(The Incredibles, -3.6648073196411133), (The ...   \n",
       "3  [(Inception, -10.843631744384766), (The Incred...   \n",
       "4  [(The Incredibles, -11.45376968383789), (Findi...   \n",
       "\n",
       "                                                 rrf  \\\n",
       "0  [(The Incredibles, 0.016029143897996357), (Toy...   \n",
       "1  [(Monsters, Inc., 0.015524093392945852), (Mada...   \n",
       "2  [(The Incredibles, 0.01639344262295082), (The ...   \n",
       "3  [(Inception, 0.015524093392945852), (Skyfall, ...   \n",
       "4  [(Finding Nemo, 0.015524093392945852), (Madaga...   \n",
       "\n",
       "                            linear-combo-bm25-cosine  \n",
       "0  [(The Incredibles, 0.55239223002), (Toy Story,...  \n",
       "1  [(The Incredibles, 0.45475204289), (Despicable...  \n",
       "2  [(The Incredibles, 0.603234915587), (The Aveng...  \n",
       "3  [(Skyfall, 0.443840536475), (Despicable Me, 0....  \n",
       "4  [(Madagascar, 0.442132219672), (Despicable Me,...  "
      ]
     },
     "execution_count": 31,
     "metadata": {},
     "output_type": "execute_result"
    }
   ],
   "source": [
    "rankings.head()"
   ]
  },
  {
   "cell_type": "code",
   "execution_count": 32,
   "metadata": {},
   "outputs": [
    {
     "data": {
      "text/plain": [
       "array(['Show me movies set in dystopian or post-apocalyptic worlds',\n",
       "       list([('Mad Max: Fury Road', -3.4906270503997803), ('Despicable Me', -11.051526069641113), ('The Incredibles', -11.315656661987305), ('Finding Nemo', -10.880638122558594)]),\n",
       "       list([('The Incredibles', 0.01620835536753041), ('Finding Nemo', 0.013813068651778329), ('Mad Max: Fury Road', 0.011475409836065573), ('Madagascar', 0.01111111111111111)]),\n",
       "       list([('Mad Max: Fury Road', '0.452238571644'), ('The Incredibles', '0.445061463118'), ('Madagascar', '0.41901564002'), ('Despicable Me', '0.416218408942'), ('Skyfall', '0.411504244804'), ('The Avengers', '0.41121032536'), ('Black Widow', '0.410578364134'), ('The Lego Movie', '0.408463662863'), ('Monsters, Inc.', '0.392220926285'), ('Shrek', '0.390464815497')])],\n",
       "      dtype=object)"
      ]
     },
     "execution_count": 32,
     "metadata": {},
     "output_type": "execute_result"
    }
   ],
   "source": [
    "rankings.loc[12].values"
   ]
  },
  {
   "cell_type": "markdown",
   "metadata": {},
   "source": [
    "# Wrap up\n",
    "That's a wrap! Hopefully from this you were able to learn:\n",
    "- How to implement simple vector search queries in Redis\n",
    "- How to implement vector search queries with full-text filters\n",
    "- How to implement hybrid search queries using the Redis aggregation API\n",
    "- How to perform client-side fusion and reranking techniques"
   ]
  },
  {
   "cell_type": "markdown",
   "metadata": {},
   "source": []
  }
 ],
 "metadata": {
  "kernelspec": {
   "display_name": "redis-ai-res",
   "language": "python",
   "name": "python3"
  },
  "language_info": {
   "codemirror_mode": {
    "name": "ipython",
    "version": 3
   },
   "file_extension": ".py",
   "mimetype": "text/x-python",
   "name": "python",
   "nbconvert_exporter": "python",
   "pygments_lexer": "ipython3",
   "version": "3.13.2"
  }
 },
 "nbformat": 4,
 "nbformat_minor": 2
}
