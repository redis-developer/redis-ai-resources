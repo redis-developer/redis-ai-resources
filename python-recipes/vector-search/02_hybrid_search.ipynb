{
 "cells": [
  {
   "cell_type": "markdown",
   "metadata": {},
   "source": [
    "![Redis](https://redis.io/wp-content/uploads/2024/04/Logotype.svg?auto=webp&quality=85,75&width=120)\n",
    "# Implementing hybrid search with Redis\n",
    "\n",
    "Hybrid search is all about combining lexical search with semantic vector search to improve result relevancy. This notebook will cover 3 different hybrid search strategies with Redis:\n",
    "\n",
    "1. Linear combination of scores from lexical search (BM25) and vector search (Cosine Distance) with the HybridQuery class\n",
    "2. Client-Side Reciprocal Rank Fusion (RRF)\n",
    "3. Client-Side Reranking with a cross encoder model\n",
    "\n",
    ">Note: Additional work is planed within Redis Query Engine core to add more flexible hybrid search capabilities in the future.\n",
    "\n",
    "## Let's Begin!\n",
    "<a href=\"https://colab.research.google.com/github/redis-developer/redis-ai-resources/blob/main/python-recipes/vector-search/02_hybrid_search.ipynb\" target=\"_parent\"><img src=\"https://colab.research.google.com/assets/colab-badge.svg\" alt=\"Open In Colab\"/></a>\n"
   ]
  },
  {
   "cell_type": "markdown",
   "metadata": {},
   "source": [
    "### Install Packages"
   ]
  },
  {
   "cell_type": "code",
   "execution_count": null,
   "metadata": {},
   "outputs": [],
   "source": [
    "%pip install sentence-transformers pandas nltk \"redisvl==0.5.1\""
   ]
  },
  {
   "cell_type": "markdown",
   "metadata": {},
   "source": [
    "### Data/Index Preparation\n",
    " \n",
    "In this section:\n",
    "\n",
    "1. We prepare the data necessary for our hybrid search implementations by loading a collection of movies. Each movie object contains the following attributes:\n",
    "    - `title`\n",
    "    - `rating`\n",
    "    - `description`\n",
    "    - `genre`\n",
    " \n",
    "2. We generate vector embeddings from the movie descriptions. This allows users to perform searches that not only rely on exact matches but also on semantic relevance, helping them find movies that align closely with their interests.\n",
    "\n",
    "3. After preparing the data, we populate a search index with these movie records, enabling efficient querying based on both lexical and vector-based search techniques."
   ]
  },
  {
   "cell_type": "markdown",
   "metadata": {},
   "source": [
    "Running remotely or in collab? Run this cell to download the necessary dataset."
   ]
  },
  {
   "cell_type": "code",
   "execution_count": null,
   "metadata": {},
   "outputs": [],
   "source": [
    "# NBVAL_SKIP\n",
    "!git clone https://github.com/redis-developer/redis-ai-resources.git temp_repo\n",
    "!mv temp_repo/python-recipes/vector-search/resources .\n",
    "!rm -rf temp_repo"
   ]
  },
  {
   "cell_type": "markdown",
   "metadata": {},
   "source": [
    "### Install Redis Stack\n",
    "\n",
    "Later in this tutorial, Redis will be used to store, index, and query vector\n",
    "embeddings and full text fields. **We need to have a Redis\n",
    "instance available.**\n",
    "\n",
    "#### Local Redis\n",
    "Use the shell script below to download, extract, and install [Redis Stack](https://redis.io/docs/getting-started/install-stack/) directly from the Redis package archive."
   ]
  },
  {
   "cell_type": "code",
   "execution_count": null,
   "metadata": {},
   "outputs": [],
   "source": [
    "# NBVAL_SKIP\n",
    "%%sh\n",
    "curl -fsSL https://packages.redis.io/gpg | sudo gpg --dearmor -o /usr/share/keyrings/redis-archive-keyring.gpg\n",
    "echo \"deb [signed-by=/usr/share/keyrings/redis-archive-keyring.gpg] https://packages.redis.io/deb $(lsb_release -cs) main\" | sudo tee /etc/apt/sources.list.d/redis.list\n",
    "sudo apt-get update  > /dev/null 2>&1\n",
    "sudo apt-get install redis-stack-server  > /dev/null 2>&1\n",
    "redis-stack-server --daemonize yes"
   ]
  },
  {
   "cell_type": "markdown",
   "metadata": {},
   "source": [
    "#### Alternative Redis Access (Cloud, Docker, other)\n",
    "There are many ways to get the necessary redis-stack instance running\n",
    "1. On cloud, deploy a [FREE instance of Redis in the cloud](https://redis.com/try-free/). Or, if you have your\n",
    "own version of Redis Enterprise running, that works too!\n",
    "2. Per OS, [see the docs](https://redis.io/docs/latest/operate/oss_and_stack/install/install-stack/)\n",
    "3. With docker: `docker run -d --name redis-stack-server -p 6379:6379 redis/redis-stack-server:latest`"
   ]
  },
  {
   "cell_type": "markdown",
   "metadata": {},
   "source": [
    "### Define the Redis Connection URL\n",
    "\n",
    "By default this notebook connects to the local instance of Redis Stack. **If you have your own Redis Enterprise instance** - replace REDIS_PASSWORD, REDIS_HOST and REDIS_PORT values with your own."
   ]
  },
  {
   "cell_type": "code",
   "execution_count": null,
   "metadata": {},
   "outputs": [],
   "source": [
    "import os\n",
    "import warnings\n",
    "\n",
    "warnings.filterwarnings('ignore')\n",
    "\n",
    "# Replace values below with your own if using Redis Cloud instance\n",
    "REDIS_HOST = os.getenv(\"REDIS_HOST\", \"localhost\") # ex: \"redis-18374.c253.us-central1-1.gce.cloud.redislabs.com\"\n",
    "REDIS_PORT = os.getenv(\"REDIS_PORT\", \"6379\")      # ex: 18374\n",
    "REDIS_PASSWORD = os.getenv(\"REDIS_PASSWORD\", \"\")  # ex: \"1TNxTEdYRDgIDKM2gDfasupCADXXXX\"\n",
    "\n",
    "# If SSL is enabled on the endpoint, use rediss:// as the URL prefix\n",
    "REDIS_URL = f\"redis://:{REDIS_PASSWORD}@{REDIS_HOST}:{REDIS_PORT}\""
   ]
  },
  {
   "cell_type": "markdown",
   "metadata": {},
   "source": [
    "### Create redis client, load data, generate embeddings"
   ]
  },
  {
   "cell_type": "code",
   "execution_count": 9,
   "metadata": {},
   "outputs": [],
   "source": [
    "from redis import Redis\n",
    "\n",
    "client = Redis.from_url(REDIS_URL)"
   ]
  },
  {
   "cell_type": "code",
   "execution_count": 10,
   "metadata": {},
   "outputs": [],
   "source": [
    "import json\n",
    "\n",
    "with open(\"resources/movies.json\", 'r') as file:\n",
    "    movies = json.load(file)"
   ]
  },
  {
   "cell_type": "code",
   "execution_count": 11,
   "metadata": {},
   "outputs": [],
   "source": [
    "from redisvl.utils.vectorize import HFTextVectorizer\n",
    "\n",
    "# load model for embedding our movie descriptions\n",
    "model = HFTextVectorizer('sentence-transformers/all-MiniLM-L6-v2')\n",
    "\n",
    "# embed movie descriptions\n",
    "movie_data = [\n",
    "    {\n",
    "        **movie,\n",
    "        \"description_vector\": model.embed(movie[\"description\"], as_buffer=True)\n",
    "    } for movie in movies\n",
    "]"
   ]
  },
  {
   "cell_type": "code",
   "execution_count": 12,
   "metadata": {},
   "outputs": [
    {
     "data": {
      "text/plain": [
       "[{'title': 'Explosive Pursuit',\n",
       "  'genre': 'action',\n",
       "  'rating': 7,\n",
       "  'description': 'A daring cop chases a notorious criminal across the city in a high-stakes game of cat and mouse.',\n",
       "  'description_vector': b'\\x8bf|=\\xc3`\\n;\\xf2\\x91\\xb7;?\\xcb~\\xbd\\xdfd\\xce\\xbb\\xc7\\x16J=H\\xa7?=\\xdfv\\x95<h\\xfa\\x06\\xbe\\x11Y\\xcf=)\\x07p=E\\xdb\\r\\xbd\\x93\\xf2H\\xbdke\\xc6<@\\xdfa=o8\\x16\\xbc\\xf1\\xd3\\x13<8\\xaa\\x1c=\\x14\\xef\\x89<\\xc1\\xb0-<\\x9d\\xb2\\x9f\\xbc^\\x0b\\xc3\\xbd\\xa5NR=ol\\xf7\\xbcP>\\x17\\xbeA\\x1e\\x05\\xb9Hu\\xbf<B\\xe3b\\xba\\xd8\\xa6\\xa8\\xbd\\x98\\xdc\\xec\\xbc`c%=\\x81\\xe7r\\xbb$OG=:(\\x85=a@\\xa2\\xbc-Z\\xd0\\xbdB%K\\xbd\\xc8\\xed\\x94\\xbcW\\xddH=\\x8e&F<\\xde*\\xec<\\x8d\\xd8\\x8d\\xbd\\xbdZ\\x98<\\x14\\xa3\\xa3=>g3\\xbd$\\xcd\\xbd\\xbd\\xa1$\\xf7;\\x04\\xf5z=\\xfc\\xb4\\x8c=\\x89\\x0e\\xc6\\xbdhI\\x90\\xbd^\\x16\\xbd;z\\xe7\\x0c\\xbd\\x1b3\\xc9\\xbc\\x89\\xf8\\xbb\\xbc\\x18\\'u\\xbb>\\x8f\\xca<\\x02\\x80J=\\x0e\\xaf*=\\x8dOU\\xbd\\xcf\\xf0\\x95\\xbc \\x02\\x19=\\x19\\xf4K<\\xc5\\xc2\\t=J\\x83\\xac=\\x95\\xd7\\xb8\\xbd\\xf2\\xb5\\x9c\\xbd=\\x85\\x18=\\x94d&=03\\xf8<\\xee\\xf7\\x88<\\x80v\\xf2\\xbb9=[\\xbdG\\xac\\xee\\xbb<:A\\xbd\\xe1d\\x19\\xbd!d\\xf2\\xbb\\x1d\\xbax;\\xec;O<\\xd21,\\xbc\\xec\\xae\\xae=r\\x00-\\xbc\"\\x06\\xae\\xbdl\\xd6\\x1a=\\xc4\\xbf\\xcd=\\x19\\x150=\\xe3\\xf1\\x9d\\xbc\\xa6GK=\\xb2\\xb8 =\\xb2\\xf1I\\xbd-e\\x9e\\xbb\\xe9\\x8a\\xf7:\\x88\\xf8\\x1c=\\x7f\\xba\\xde<\\xd2n\\x16\\xbb\\xb4\\\\p\\xbb\\xd4\\xd5<<\\x89\\xa5\\xa3\\xb8\\xc79s<=4&<\\x84\\x1c\\x18<\\x18\\xd9-\\xbd\\xdf\\xe6\\x98<\\x15\\xa1N=\\xa2/\\xa5=\\x1d\\xf3\\xdd<\\x17L\\x13<\\x10\\x10\\xce\\xbac\\x9e\\xdc\\xbc\\xa68\\x05=+\\xa1\\xf5<b\\xd8R\\xbc\\xf3\\x93-\\xbc\\xad\\xe0\\\\9\\xa51\\xec=a\\xf5V=\\x1eG\\xd6\\xbc\\x99\"S=\\xd3\\xd9^\\xbd\\xae\\xa3\\x91<\\x12\\xda\\x13<\\xc0\\xb2y\\xbb\\x90\\x8d/\\xbd\\xbd\\x06p<?\\x95\\x88\\xbb\\xc3\\xd0\\x9d<H\\x02\\xb6=\\x1a\\xf1\\xad\\x89\\x14\\xf2\\xa6\\xbb\\xbc\\xfbe\\xbd\\xbdQK\\xbbH\\x10\\x90\\xbb/t\\xb9\\xbbL\\xc9\\xb9\\xbb\\x0cik=\\xaa\\r\\xad<1f\\xa8\\xbd\\xbd]\\xcc=\\x1a\\xe0 \\xbe\\xcb4/\\xbdvf\\xf7\\xbcX\\x9av=\\x0c\\x0cq<0\\xda\\x1c\\xbd\\xfe\\x08\\x8b<\\xden\\xa6\\xbc\\xd2t\\x86<\\x82\\x87\\x19=m\\xae\\xe4\\xbc\\x1dm^\\xbc\\x1bV\\x0e\\xbdm\\xb0\\xe3\\xbc\\xdcFU;\\xacG|\\xbdZ\\xfb\\x8b\\xbdv\\x81*\\xbd\\x81\\x83\\xf4=|\\xb7\\x10;\\x08!\\x0e\\xbd\\x00\\xd4\\xb4=\\x14&\\x15\\xbdR\\x86\\x83=d$:<1\\xea\\xa1<\"\\x08\\x8d\\xbd\\xa8\\x00i\\xbd<\\x01\\xdd<\\x00\\x87\\xd6=1\\x98\\x9c\\xbdb|!\\xbd\\xb2\\x1c\\xc5\\xb9\\xaf\\xb3\\x93\\xbc\\xf0\\xcb>\\xbd\\x84\\x1bF\\xbd\\xa0?\\x14\\xbe\\xc4\\x8f(\\xbd\\xe6O\\x89\\xbd\\xf7\\xad\\xd4<\\xa7\\x12\\xc3=\\xaf\\x05O\\xbd\\x99\\x8ep\\xbc\\x18\\xb5\\xac\\xbc\\xc9\\x9ee\\xbdH\\x8es;$a\\xc1;\\xd9\\xfaB\\xbd\\xa8#\\xfe:\\x92\\xe6\\xf4=\\xcd\\x15*<\\x86\\xf8\\x1b=\\x01\\xfcV\\xbd\\xd3\\xd1\\r=9\\xee\\x06=\\x13u\\xba\\xbd\\xf7\\xa3\\xd6<\\x1a\\xec\\xd9;\\xb79/=\\xa4\\xc2\\x85=p\\x0b\"=\\xe1i\\xef<:\\xe8c=\\xfb2\\x08\\xbe\\xce\\x12;=OVW;V\\xa4b<\\xd0\\x9d\\xb7<\\x87r;\\xbdqz\\x91\\xbcV\\x00<\\xbd\\xfe\\x19\\xa3<\\xeaJ%\\xbc!\\xe7\\xbf\\xbb\\x7f\\x87\\x12=\\x94\\x1d\\x95=b|\\xfd\\xbc\\xf3\\xf1\\xd1\\xbd\\xf5y\\x84;\\xc9\\tu=]\\x8ai<3\\x91R\\xbd\\xec\\xf3m\\xbd\\x93\\xb83=V\\xedF=\\x1f\\xf3\\xd1\\x08yA\\xba<#\\xacO\\xbd\\x01\\x0f\\xc7;\\x7f\\xf4\\x04\\xbdP\\x82\\x92\\xbd\\x9b\\xddD=p\\xd8;\\xbc\\xd3;\\xf4\\xbc\\xb3\\x8f\\x97\\xbd1\\\\\\r\\xbd\\xea\\x8c\\xf5\\xbd\\x8c\\x13(=\\x9e\\xc8\\xc6=\\xa3\\xed\\x1a=\\x98\\xa8\\xf8=\\x84\\xc1\\xee\\xbc\\xcd-\\x18\\xbb\\xf5~;<\\xd6F\\t\\xbd\\x14\\x08\\x17=\\xa5\\xa5\\x1e=\\x14K\\xcb\\xbd.\\xf7\\x8c\\xbdyb\\xed\\xbb\\x86[\\x19\\xbc]\\x0c\\x13\\xbcgq\\x83=\\xf0wd\\xbd\\xe3\\xc7\\xd1\\xbb8lY\\xbc\\xa7|a=3\\xcf\\xfd\\xbc\\x1f\\xa5\\x83\\xbb\\x99O\\x19\\xbd6\\x02]\\xbd\\xbb\\xeaz=\\x036\\x9c=:^\\xa9\\xbd)^9\\xbcg\\xe4N\\xbcs\\x07x\\xbd\\x18{\\xa0=:\\x9f\\x96<\\xecq8\\xba\\x9e\\xbb=\\xbd\\xe4|(<\\x96\\xdf\\xb4\\xbbl\\xc9\\x0b\\xbd\\xc4\\x01\\x95\\xbd\\xf7\\xc6T=\\tp\\xd1<c3\\'\\xbd\\xb4\\x00H<t\\x0f\\xb8<\\x1fU}\\xbdx}\\x01=\\xfe\\xc9[\\xbd\\xfd\\xec\\x03<\\xf9b\\x0f\\xbd\\xc6\\x8e\\xe7\\xbc\\x04\\x17\\xc8<\\xbc\\x08\\x9c=\\x03\\xd5\\xa6\\xbdDQ\\xe5=\\x82-O<\\xdb\\xf22=\\xd326\\xbd\\xe6\\xe2\\xf2\\xbc\\xf8Z\\xa7<s\\xb2\\x02\\xbe\\xfbn2\\xbd\\xab\\x80\\x8a=\\x00\\xc4\\t\\xbd\\r\\xb8\\xcd\\xbc\\xbb\\xdb\\xad\\xbb\\x98\\xfd\\xde\\xbc\\x10\\x17E=|\\x06\\xbd=\\x1b&m=\\x14X\\x8e=\\xeb\\xae\\xa4=4\\xa3\\xca\\xbbN?\\r\\xbc\\xc99\\x9c<Il\\x8e\\xbdC\\x10k=f\\xff\\xbe;\\x9a\\x16\\xff<\\x878\\x92<\\x912\\x8c;N\\xac\\xa3=\\xf7+v<\\xfe\\x89\\xf0\\xbb\\xa6\\xdb\\x07\\xbc\\x88\\xae\\xbd\\xbc\\xb5\\x8f\\xb4\\xb2\\xb2\\x88\\xd3\\xbd\\x7f\\xe9j=\\xe9\\xdb\\xa7\\xbd\\xeb\\x16\\xe5<A\\x19p=\\xf6\\xe6\\x9f=\\xdbGh\\xbd\\xe5\\x9a\\xf4\\xbd5\\xd6\\x07\\xbc(\\xddj<$tw=\\x8a\\xd0\\xe1<\\xbd\\xae\\x1e=\\xc6F\\xc4<\\xaa0\\n<+jd\\xbc\\xb8\\xfa\\x8c=\\xd5\\x8a\\xa6\\xbc\\xd2.\\xcd\\xba\\xb6p\\xcf=\\x1bT-\\xbd\\xc0Qn=<\\x16\\x9f\\xbd\\x90\\x8a_=A\\x13#<\\xf3\\xa9m;\\'\\x86\\x00\\xbe\\xd9y\\x8b\\xbcpUG=\\xa1\\xa3\\xca=\\xbf\\xbdq\\xbc\\x93\\xe3:\\xbd\\xb2\\x93]<{]\\xd1;\\xc8d\\xae=\\x9b\\x1f\\x03\\xbd\\x07L\\x89=b:s\\xbd\\xa1\\x1eb=\\xe3\\xc9\\t\\xbb\\x98\\xfb\\xe7<w\\xce\\xe4\\xbcCV#=t\\x8bk\\xbd\\xebh\\x01<\\xfd\\xe5N\\xbd[\\x0c\\xb1\\xbch\\x01J\\xbdg\\xf4~=F\\xe3Z\\xbd\\x07/\\xf1\\xbbG98=\\xb82T\\xbc(\\'\\x81<\\xc8\\xa0M=\\x83\\xde\\x05<&I|\\xbd\\xec\\x98w<\\xde\\xd3\\xa7\\xbd\\xddS \\xbdv\\x13\\x07=\\x11&\\x14\\xbc\\xbbv\\xe9<\\xf4,\\x97='}]"
      ]
     },
     "execution_count": 12,
     "metadata": {},
     "output_type": "execute_result"
    }
   ],
   "source": [
    "movie_data[:1]"
   ]
  },
  {
   "cell_type": "markdown",
   "metadata": {},
   "source": [
    "### Define Redis index schema\n",
    "\n",
    "Below, we build a schema that represents our movie objects."
   ]
  },
  {
   "cell_type": "code",
   "execution_count": 13,
   "metadata": {},
   "outputs": [],
   "source": [
    "from redisvl.schema import IndexSchema\n",
    "from redisvl.index import SearchIndex\n",
    "\n",
    "\n",
    "schema = IndexSchema.from_dict({\n",
    "  \"index\": {\n",
    "    \"name\": \"movies\",\n",
    "    \"prefix\": \"movie\",\n",
    "    \"storage\": \"hash\"\n",
    "  },\n",
    "  \"fields\": [\n",
    "    { \"name\": \"title\", \"type\": \"text\" },\n",
    "    { \"name\": \"description\", \"type\": \"text\" },\n",
    "    { \"name\": \"genre\", \"type\": \"tag\", \"attrs\": {\"sortable\": True}},\n",
    "    { \"name\": \"rating\", \"type\": \"numeric\", \"attrs\": {\"sortable\": True}},\n",
    "    {\n",
    "        \"name\": \"description_vector\",\n",
    "        \"type\": \"vector\",\n",
    "        \"attrs\": {\n",
    "            \"dims\": 384,\n",
    "            \"distance_metric\": \"cosine\",\n",
    "            \"algorithm\": \"hnsw\",\n",
    "            \"datatype\": \"float32\"\n",
    "        }\n",
    "    }\n",
    "  ]\n",
    "})\n",
    "\n",
    "\n",
    "index = SearchIndex(schema, client, validate_on_load=True)\n",
    "index.create(overwrite=True, drop=True)"
   ]
  },
  {
   "cell_type": "markdown",
   "metadata": {},
   "source": [
    "### Populate index\n",
    "\n",
    "Load movie objects into Redis"
   ]
  },
  {
   "cell_type": "code",
   "execution_count": 14,
   "metadata": {},
   "outputs": [
    {
     "data": {
      "text/plain": [
       "['movie:01JSMB5A6P9YKM879258RXTBPE',\n",
       " 'movie:01JSMB5A6SXGGXZZQDHHCHXNM0',\n",
       " 'movie:01JSMB5A6SSBTV9PJ2NWNCFJMN',\n",
       " 'movie:01JSMB5A6S1C78P19Z8T2S3DT9',\n",
       " 'movie:01JSMB5A6SKX1CWPSZ54C1XFW8',\n",
       " 'movie:01JSMB5A6SXKZMD6SMJD1PRB6B',\n",
       " 'movie:01JSMB5A6SXEMXR974JM56T09P',\n",
       " 'movie:01JSMB5A6S5BKM6KQ96AHN40KA',\n",
       " 'movie:01JSMB5A6SRM793TJA2Z90XKT3',\n",
       " 'movie:01JSMB5A6TN3J2SYK24063ZN2X',\n",
       " 'movie:01JSMB5A6TC2CYW8EPQJRRQS9P',\n",
       " 'movie:01JSMB5A6TXQSX0ZPDRJZ76JDH',\n",
       " 'movie:01JSMB5A6TVAJ1DQ17M917EYDB',\n",
       " 'movie:01JSMB5A6TWMPD4311VTWGD393',\n",
       " 'movie:01JSMB5A6T3E21MV0MKMD9KSV1',\n",
       " 'movie:01JSMB5A6TVQY3JJHEBF2PRJGZ',\n",
       " 'movie:01JSMB5A6THCGY2WXXP2HD4S1A',\n",
       " 'movie:01JSMB5A6TEBRRM051XV4SGC20',\n",
       " 'movie:01JSMB5A6TDHS799WVJ1NR35MQ',\n",
       " 'movie:01JSMB5A6TDFSA582Z2831QTB3']"
      ]
     },
     "execution_count": 14,
     "metadata": {},
     "output_type": "execute_result"
    }
   ],
   "source": [
    "index.load(movie_data)"
   ]
  },
  {
   "cell_type": "markdown",
   "metadata": {},
   "source": [
    "# Hybrid Search Approaches\n",
    "\n",
    "Now that our search index is populated and ready, we will build out a few different hybrid search techniques in Redis.\n",
    "\n",
    "To start, we will use our `HybridQuery` class that accepts a text string and vector to automatically combine text similarity and vector similarity scores."
   ]
  },
  {
   "cell_type": "markdown",
   "metadata": {},
   "source": [
    "## 1. Linear Combination using HybridQuery\n",
    "\n",
    "The goal of this technique is to calculate a weighted sum of the text similarity score for our provided text search and the cosine distance between vectors calculated via a KNN vector query. Under the hood this is possible in Redis using the [aggregations API](https://redis.io/docs/latest/develop/interact/search-and-query/advanced-concepts/aggregations/), as of `Redis 7.4.x` (search version `2.10.5`), within a single database call.\n",
    "\n",
    "As of RedisVl 0.5.0 all of this is nicely encapsulated in your `HybridQuery` class, which behaves much like our other query classes."
   ]
  },
  {
   "cell_type": "code",
   "execution_count": null,
   "metadata": {},
   "outputs": [],
   "source": [
    "# Sample user query (can be changed for comparisons)\n",
    "user_query = \"action adventure movie with great fighting scenes against a dangerous criminal, crime busting, superheroes, and magic\""
   ]
  },
  {
   "cell_type": "markdown",
   "metadata": {},
   "source": [
    "First, we will import our `HybridQuery` and understand its parameters.\n",
    "At a minimum, the `HybridQuery` needs 4 arguments:\n",
    "```python\n",
    "query = HybridQuery(\n",
    "    text = \"your query string here\",\n",
    "    text_field_name = \"<name of the text field in the index to do text search in>\",\n",
    "    vector = <bytes or numeric array, ex: [0.1, 0.2, 0.3]>,\n",
    "    vector_field_name = \"<name of the vector field in the index to compute vector similarity>\",\n",
    ")\n",
    "```"
   ]
  },
  {
   "cell_type": "code",
   "execution_count": null,
   "metadata": {},
   "outputs": [
    {
     "data": {
      "text/plain": [
       "[{'vector_distance': '0.376072943211',\n",
       "  'title': 'Skyfall',\n",
       "  'vector_similarity': '0.811963528395',\n",
       "  'text_score': '8.81509517149',\n",
       "  'hybrid_score': '3.21290302132'},\n",
       " {'vector_distance': '0.717951893806',\n",
       "  'title': 'Fast & Furious 9',\n",
       "  'vector_similarity': '0.641024053097',\n",
       "  'text_score': '0',\n",
       "  'hybrid_score': '0.448716837168'},\n",
       " {'vector_distance': '0.750144720078',\n",
       "  'title': 'Despicable Me',\n",
       "  'vector_similarity': '0.624927639961',\n",
       "  'text_score': '0',\n",
       "  'hybrid_score': '0.437449347973'}]"
      ]
     },
     "execution_count": 18,
     "metadata": {},
     "output_type": "execute_result"
    }
   ],
   "source": [
    "from redisvl.query import HybridQuery\n",
    "\n",
    "vector = model.embed(user_query, as_buffer=True)\n",
    "\n",
    "query = HybridQuery(\n",
    "    text=user_query,\n",
    "    text_field_name=\"description\",\n",
    "    vector=vector,\n",
    "    vector_field_name=\"description_vector\",\n",
    "    return_fields=[\"title\"],\n",
    ")\n",
    "\n",
    "results = index.query(query)\n",
    "\n",
    "results[:3]"
   ]
  },
  {
   "cell_type": "markdown",
   "metadata": {},
   "source": [
    "That's it! That is all it takes to perform a hybrid text matching and vector query with RedisVL.\n",
    "Of course there are many more configurations and things we can do with the `HybridQuery` class. Let's investigate.\n",
    "\n",
    "First, let's look at just the text query part that is being run:"
   ]
  },
  {
   "cell_type": "code",
   "execution_count": null,
   "metadata": {},
   "outputs": [
    {
     "data": {
      "text/plain": [
       "'(~@description:(action | adventure | movie | great | fighting | scenes | dangerous | criminal | crime | busting | superheroes | magic))=>[KNN 10 @description_vector $vector AS vector_distance]'"
      ]
     },
     "execution_count": 13,
     "metadata": {},
     "output_type": "execute_result"
    }
   ],
   "source": [
    "query._build_query_string()"
   ]
  },
  {
   "cell_type": "markdown",
   "metadata": {},
   "source": [
    "### Choosing your stopwords for better queries\n",
    "You can see that the user query string has been tokenized and certain stopwords like 'and', 'for', 'with', 'but', have been removed, otherwise you would get matches on irrelevant words.\n",
    "RedisVL uses [NLTK](https://www.nltk.org/index.html) english stopwords as the the default. You can change which default language stopwords to use with the `stopwords` argument.\n",
    "You specify a language, like 'german', 'arabic', 'greek' and many others, provide your own list of stopwords, or set it to `None` to not remove any."
   ]
  },
  {
   "cell_type": "code",
   "execution_count": null,
   "metadata": {},
   "outputs": [
    {
     "name": "stdout",
     "output_type": "stream",
     "text": [
      "(~@description:(film | d\\'action | d\\'aventure | superbes | scènes | combat | enquêtes | criminelles | super\\-héros | magie))=>[KNN 10 @description_vector $vector AS vector_distance]\n",
      "(~@description:(action | adventure | movie | great | fighting | scenes | against | dangerous | criminal | crime | busting | superheroes | magic))=>[KNN 10 @description_vector $vector AS vector_distance]\n",
      "(~@description:(action | adventure | movie | with | great | fighting | scenes | against | a | dangerous | criminal | crime | busting | superheroes | and | magic))=>[KNN 10 @description_vector $vector AS vector_distance]\n"
     ]
    }
   ],
   "source": [
    "# translate our user query to French and use nltk french stopwords\n",
    "french_query_text = \"Film d'action et d'aventure avec de superbes scènes de combat, des enquêtes criminelles, des super-héros et de la magie\"\n",
    "\n",
    "french_film_query = HybridQuery(\n",
    "    text=french_query_text,\n",
    "    text_field_name=\"description\",\n",
    "    vector=model.embed(french_query_text, as_buffer=True),\n",
    "    vector_field_name=\"description_vector\",\n",
    "    stopwords=\"french\",\n",
    ")\n",
    "\n",
    "print(french_film_query._build_query_string())\n",
    "\n",
    "# specify your own stopwords\n",
    "custom_stopwords = set([\n",
    "    \"a\", \"is\", \"the\", \"an\", \"and\", \"are\", \"as\", \"at\", \"be\", \"but\", \"by\", \"for\",\n",
    "    \"if\", \"in\", \"into\", \"it\", \"no\", \"not\", \"of\", \"on\", \"or\", \"such\", \"that\", \"their\",\n",
    "    \"then\", \"there\", \"these\", \"they\", \"this\", \"to\", \"was\", \"will\", \"with\"\n",
    "])\n",
    "\n",
    "stopwords_query = HybridQuery(\n",
    "    text=user_query,\n",
    "    text_field_name=\"description\",\n",
    "    vector=vector,\n",
    "    vector_field_name=\"description_vector\",\n",
    "    stopwords=custom_stopwords,\n",
    ")\n",
    "\n",
    "print(stopwords_query._build_query_string())\n",
    "\n",
    "# don't use any stopwords\n",
    "no_stopwords_query = HybridQuery(\n",
    "    text=user_query,\n",
    "    text_field_name=\"description\",\n",
    "    vector=vector,\n",
    "    vector_field_name=\"description_vector\",\n",
    "    stopwords=None,\n",
    ")\n",
    "\n",
    "print(no_stopwords_query._build_query_string())"
   ]
  },
  {
   "cell_type": "markdown",
   "metadata": {},
   "source": [
    "### Choosing your text scoring function and weights\n",
    "There are different ways to calculate the similarity between sets of text. Redis supports several, such as `BM25`, `TFIDF`, `DISMAX`, and others. The default is `BM25STD` and is easy to configure with the `text_scorer` parameter. Just like changing you embedding model can change your vector similarity scores, changing your text similarity measure can change your text scores.\n",
    "\n",
    "Because hybrid queries are performing a weighted average of text similarity and vector similarity you also control the relative balance of these scores with the `alpha` parameter.\n",
    "\n",
    "The documents are ranked based on the hybrid score which is computed as:\n",
    "\n",
    "```python\n",
    "hybrid_score = {1-alpha} * text_score + {alpha} * vector_similarity\n",
    "```\n",
    "\n",
    "Try changing the `text_scorer` and `alpha` parameters in the query below to see how results may change.\n"
   ]
  },
  {
   "cell_type": "code",
   "execution_count": null,
   "metadata": {},
   "outputs": [
    {
     "data": {
      "text/plain": [
       "[{'vector_distance': '0.645975470543',\n",
       "  'title': 'The Incredibles',\n",
       "  'description': \"A family of undercover superheroes, while trying to live the quiet suburban life, are forced into action to save the world. Bob Parr (Mr. Incredible) and his wife Helen (Elastigirl) were among the world's greatest crime fighters, but now they must assume civilian identities and retreat to the suburbs to live a 'normal' life with their three children. However, the family's desire to help the world pulls them back into action when they face a new and dangerous enemy.\",\n",
       "  'vector_similarity': '0.677012264729',\n",
       "  'text_score': '6',\n",
       "  'hybrid_score': '4.66925306618'},\n",
       " {'vector_distance': '0.653376281261',\n",
       "  'title': 'The Dark Knight',\n",
       "  'description': 'Batman faces off against the Joker, a criminal mastermind who threatens to plunge Gotham into chaos.',\n",
       "  'vector_similarity': '0.673311859369',\n",
       "  'text_score': '4',\n",
       "  'hybrid_score': '3.16832796484'},\n",
       " {'vector_distance': '0.608649492264',\n",
       "  'title': 'Explosive Pursuit',\n",
       "  'description': 'A daring cop chases a notorious criminal across the city in a high-stakes game of cat and mouse.',\n",
       "  'vector_similarity': '0.695675253868',\n",
       "  'text_score': '3',\n",
       "  'hybrid_score': '2.42391881347'}]"
      ]
     },
     "execution_count": 15,
     "metadata": {},
     "output_type": "execute_result"
    }
   ],
   "source": [
    "tfidf_query = HybridQuery(\n",
    "    text=user_query,\n",
    "    text_field_name=\"description\",\n",
    "    vector=vector,\n",
    "    vector_field_name=\"description_vector\",\n",
    "    text_scorer=\"TFIDF\", # can be one of [TFIDF, TFIDF.DOCNORM, BM25, DISMAX, DOCSCORE, BM25STD]\n",
    "    stopwords=None,\n",
    "    alpha=0.25, # weight the vector score lower\n",
    "    return_fields=[\"title\", \"description\"],\n",
    ")\n",
    "\n",
    "results = index.query(tfidf_query)\n",
    "\n",
    "results[:3]"
   ]
  },
  {
   "cell_type": "markdown",
   "metadata": {},
   "source": [
    "## 2. Client-side fusion with RRF\n",
    "\n",
    "Instead of relying on document scores like cosine similarity and BM25/TFIDF, we can fetch items and focus on their rank. This rank can be utilized to create a new ranking metric known as [Reciprocal Rank Fusion (RRF)](https://plg.uwaterloo.ca/~gvcormac/cormacksigir09-rrf.pdf). RRF is powerful because it can handle ranked lists of different length, scores of different scales, and other complexities.\n",
    "\n",
    "Although Redis does not currently support RRF natively, we can easily implement it on the client side."
   ]
  },
  {
   "cell_type": "code",
   "execution_count": null,
   "metadata": {},
   "outputs": [],
   "source": [
    "def fuse_rankings_rrf(*ranked_lists, weights=None, k=60):\n",
    "    \"\"\"\n",
    "    Perform Weighted Reciprocal Rank Fusion on N number of ordered lists.\n",
    "    \"\"\"\n",
    "    item_scores = {}\n",
    "    \n",
    "    if weights is None:\n",
    "        weights = [1.0] * len(ranked_lists)\n",
    "    else:\n",
    "        assert len(weights) == len(ranked_lists), \"Number of weights must match number of ranked lists\"\n",
    "        assert all(0 <= w <= 1 for w in weights), \"Weights must be between 0 and 1\"\n",
    "    \n",
    "    for ranked_list, weight in zip(ranked_lists, weights):\n",
    "        for rank, item in enumerate(ranked_list, start=1):\n",
    "            if item not in item_scores:\n",
    "                item_scores[item] = 0\n",
    "            item_scores[item] += weight * (1 / (rank + k))\n",
    "    \n",
    "    # Sort items by their weighted RRF scores in descending order\n",
    "    return sorted(item_scores.items(), key=lambda x: x[1], reverse=True)"
   ]
  },
  {
   "cell_type": "code",
   "execution_count": null,
   "metadata": {},
   "outputs": [
    {
     "data": {
      "text/plain": [
       "[(2, 0.04814747488101534),\n",
       " (1, 0.032266458495966696),\n",
       " (6, 0.03200204813108039),\n",
       " (5, 0.01639344262295082),\n",
       " (4, 0.016129032258064516),\n",
       " (3, 0.015873015873015872),\n",
       " (7, 0.015625),\n",
       " (8, 0.015384615384615385)]"
      ]
     },
     "execution_count": 15,
     "metadata": {},
     "output_type": "execute_result"
    }
   ],
   "source": [
    "# Below is a simple example of RRF over a few lists of numbers\n",
    "fuse_rankings_rrf([1, 2, 3], [2, 4, 6, 7, 8], [5, 6, 1, 2])"
   ]
  },
  {
   "cell_type": "markdown",
   "metadata": {},
   "source": [
    "We'll want some helper functions to  construct our individual text and vector queries"
   ]
  },
  {
   "cell_type": "code",
   "execution_count": null,
   "metadata": {},
   "outputs": [],
   "source": [
    "# Function to create a vector query using RedisVL helpers for ease of use\n",
    "from redisvl.query import VectorQuery, TextQuery\n",
    "\n",
    "\n",
    "def make_vector_query(user_query: str, num_results: int, filters = None) -> VectorQuery:\n",
    "    \"\"\"Generate a Redis vector query given user query string.\"\"\"\n",
    "    vector = model.embed(user_query, as_buffer=True)\n",
    "    query = VectorQuery(\n",
    "        vector=vector,\n",
    "        vector_field_name=\"description_vector\",\n",
    "        num_results=num_results,\n",
    "        return_fields=[\"title\", \"description\"]\n",
    "    )\n",
    "    if filters:\n",
    "        query.set_filter(filters)\n",
    "    return query\n",
    "\n",
    "\n",
    "def make_ft_query(text_field: str, user_query: str, num_results: int) -> TextQuery:\n",
    "    \"\"\"Generate a Redis full-text query given a user query string.\"\"\"\n",
    "    return TextQuery(\n",
    "        text=user_query,\n",
    "        text_field_name=text_field,\n",
    "        text_scorer=\"BM25\",\n",
    "        num_results=num_results,\n",
    "        return_fields=[\"title\", \"description\"],\n",
    "    )"
   ]
  },
  {
   "cell_type": "code",
   "execution_count": null,
   "metadata": {},
   "outputs": [],
   "source": [
    "from typing import List, Dict, Any\n",
    "\n",
    "\n",
    "def weighted_rrf(\n",
    "    user_query: str,\n",
    "    alpha: float = 0.5,\n",
    "    num_results: int = 4,\n",
    "    k: int = 60,\n",
    ") -> List[Dict[str, Any]]:\n",
    "    \"\"\"Implemented client-side RRF after querying from Redis.\"\"\"\n",
    "    # Create the vector query\n",
    "    vector_query = make_vector_query(user_query, num_results=len(movie_data))\n",
    "\n",
    "    # Create the full-text query\n",
    "    full_text_query = make_ft_query(\"description\", user_query, num_results=len(movie_data))\n",
    "\n",
    "    # Run queries individually\n",
    "    vector_query_results = index.query(vector_query)\n",
    "    full_text_query_results = index.query(full_text_query)\n",
    "\n",
    "    # Extract titles from results\n",
    "    vector_titles = [movie[\"title\"] for movie in vector_query_results]\n",
    "    full_text_titles = [movie[\"title\"] for movie in full_text_query_results]\n",
    "\n",
    "    # Perform weighted RRF\n",
    "    return fuse_rankings_rrf(vector_titles, full_text_titles, weights=[alpha, 1-alpha], k=k)[:num_results]"
   ]
  },
  {
   "cell_type": "code",
   "execution_count": null,
   "metadata": {},
   "outputs": [
    {
     "data": {
      "text/plain": [
       "[('Explosive Pursuit', 0.01639344262295082),\n",
       " ('The Dark Knight', 0.015873015873015872),\n",
       " ('Despicable Me', 0.015625),\n",
       " ('The Incredibles', 0.015417457305502846),\n",
       " ('Skyfall', 0.0152073732718894),\n",
       " ('Finding Nemo', 0.014242424242424244)]"
      ]
     },
     "execution_count": 23,
     "metadata": {},
     "output_type": "execute_result"
    }
   ],
   "source": [
    "# Test it out!\n",
    "weighted_rrf(user_query, num_results=6)"
   ]
  },
  {
   "cell_type": "markdown",
   "metadata": {},
   "source": [
    "But say we want to give more weight to the vector search rankings in this case to boost semantic similarities contribution to the final rank:"
   ]
  },
  {
   "cell_type": "code",
   "execution_count": null,
   "metadata": {},
   "outputs": [
    {
     "data": {
      "text/plain": [
       "[('Explosive Pursuit', 0.01639344262295082),\n",
       " ('The Dark Knight', 0.015873015873015872),\n",
       " ('The Incredibles', 0.015702087286527514),\n",
       " ('Despicable Me', 0.015625),\n",
       " ('Skyfall', 0.014838709677419354),\n",
       " ('Finding Nemo', 0.01387878787878788)]"
      ]
     },
     "execution_count": 24,
     "metadata": {},
     "output_type": "execute_result"
    }
   ],
   "source": [
    "weighted_rrf(user_query, alpha=0.7, num_results=6)"
   ]
  },
  {
   "cell_type": "markdown",
   "metadata": {},
   "source": [
    "## 3. Client-side reranking\n",
    "\n",
    "An alternative approach to RRF is to simply use an external reranker to order the final recommendations. RedisVL has built-in integrations to a few popular reranking modules."
   ]
  },
  {
   "cell_type": "code",
   "execution_count": null,
   "metadata": {},
   "outputs": [],
   "source": [
    "from redisvl.utils.rerank import HFCrossEncoderReranker\n",
    "\n",
    "# Load the ms marco MiniLM cross encoder model from huggingface\n",
    "reranker = HFCrossEncoderReranker(\"cross-encoder/ms-marco-MiniLM-L-6-v2\")\n",
    "\n",
    "\n",
    "def rerank(\n",
    "    user_query: str,\n",
    "    num_results: int = 4,\n",
    ") -> List[Dict[str, Any]]:\n",
    "    \"\"\"Rerank the candidates based on the user query with an external model/module.\"\"\"\n",
    "    # Create the vector query\n",
    "    vector_query = make_vector_query(user_query, num_results=num_results)\n",
    "\n",
    "    # Create the full-text query\n",
    "    full_text_query = make_ft_query(\"description\", user_query, num_results=num_results)\n",
    "\n",
    "    # Run queries individually\n",
    "    vector_query_results = index.query(vector_query)\n",
    "    full_text_query_results = index.query(full_text_query)\n",
    "\n",
    "    # Assemble list of potential movie candidates with their IDs\n",
    "    movie_map = {}\n",
    "    for movie in vector_query_results + full_text_query_results:\n",
    "        candidate = f\"Title: {movie['title']}. Description: {movie['description']}\"\n",
    "        if candidate not in movie_map:\n",
    "            movie_map[candidate] = movie\n",
    "\n",
    "    # Rerank candidates\n",
    "    reranked_movies, scores = reranker.rank(\n",
    "        query=user_query,\n",
    "        docs=list(movie_map.keys()),\n",
    "        limit=num_results,\n",
    "        return_score=True\n",
    "    )\n",
    "\n",
    "    # Fetch full movie objects for the reranked results\n",
    "    return [\n",
    "        (movie_map[movie['content']][\"title\"], score)\n",
    "        for movie, score in zip(reranked_movies, scores)\n",
    "    ]\n"
   ]
  },
  {
   "cell_type": "code",
   "execution_count": null,
   "metadata": {},
   "outputs": [
    {
     "data": {
      "text/plain": [
       "[('The Incredibles', -4.1636810302734375),\n",
       " ('Explosive Pursuit', 0.8551048636436462),\n",
       " ('The Dark Knight', -4.403156280517578),\n",
       " ('Skyfall', -7.830077171325684),\n",
       " ('Mad Max: Fury Road', -7.7119951248168945),\n",
       " ('Despicable Me', -8.742403030395508)]"
      ]
     },
     "execution_count": 26,
     "metadata": {},
     "output_type": "execute_result"
    }
   ],
   "source": [
    "# Test it out!\n",
    "rerank(user_query, num_results=6)"
   ]
  },
  {
   "cell_type": "markdown",
   "metadata": {},
   "source": [
    "This technique is certainly much slower than simple RRF as it's running an additional cross-encoder model to rerank the results. This can be fairly computationally expensive, but tunable with enough clarity on the use case and focus (how many items to retrieve? how many items to rerank? model accleration via GPU?)"
   ]
  },
  {
   "cell_type": "markdown",
   "metadata": {},
   "source": [
    "## Comparing Approaches\n",
    "\n",
    "While each approach has strengths and weaknesses, it's important to understand that each might work better in some use cases than others. Below we will run through a sample of user queries and generate matches for each using different hybrid search techniques."
   ]
  },
  {
   "cell_type": "code",
   "execution_count": null,
   "metadata": {},
   "outputs": [],
   "source": [
    "movie_user_queries = [\n",
    "    \"I'm in the mood for a high-rated action movie with a complex plot\",\n",
    "    \"What's a funny animated film about unlikely friendships?\",\n",
    "    \"Any movies featuring superheroes or extraordinary abilities\", \n",
    "    \"I want to watch a thrilling movie with spies or secret agents\",\n",
    "    \"Are there any comedies set in unusual locations or environments?\",\n",
    "    \"Find me an action-packed movie with car chases or explosions\",\n",
    "    \"What's a good family-friendly movie with talking animals?\",\n",
    "    \"I'm looking for a film that combines action and mind-bending concepts\",\n",
    "    \"Suggest a movie with a strong female lead character\",\n",
    "    \"What are some movies that involve heists or elaborate plans?\",\n",
    "    \"I need a feel-good movie about personal growth or transformation\",\n",
    "    \"Are there any films that blend comedy with action elements?\", \n",
    "    \"Show me movies set in dystopian or post-apocalyptic worlds\",\n",
    "    \"I'm interested in a movie with themes of revenge or justice\",\n",
    "    \"What are some visually stunning movies with impressive special effects?\"\n",
    "]"
   ]
  },
  {
   "cell_type": "code",
   "execution_count": null,
   "metadata": {},
   "outputs": [],
   "source": [
    "def hybrid_query(text, alpha, num_results) -> List[Dict[str, Any]]:\n",
    "\n",
    "    query = HybridQuery(\n",
    "        text,\n",
    "        text_field_name=\"description\",\n",
    "        vector=model.embed(text, as_buffer=True, dtype=\"float32\"),\n",
    "        vector_field_name=\"description_vector\",\n",
    "        text_scorer=\"BM25\",\n",
    "        stopwords=\"english\",\n",
    "        alpha=alpha,\n",
    "        return_fields=[\"title\", \"hybrid_score\"],\n",
    "    )\n",
    "\n",
    "    results =  index.query(query)\n",
    "\n",
    "    return [\n",
    "        (\n",
    "            movie[\"title\"],\n",
    "            movie[\"hybrid_score\"]\n",
    "        )\n",
    "        for movie in results\n",
    "    ]"
   ]
  },
  {
   "cell_type": "code",
   "execution_count": null,
   "metadata": {},
   "outputs": [],
   "source": [
    "import pandas as pd\n",
    "\n",
    "\n",
    "rankings = pd.DataFrame()\n",
    "rankings[\"queries\"] = movie_user_queries\n",
    "\n",
    "# First, add new columns to the DataFrame\n",
    "rankings[\"hf-cross-encoder\"] = \"\"\n",
    "rankings[\"rrf\"] = \"\"\n",
    "rankings[\"linear-combo-bm25-cosine\"] = \"\""
   ]
  },
  {
   "cell_type": "code",
   "execution_count": null,
   "metadata": {},
   "outputs": [],
   "source": [
    "# Now iterate through the queries and add results\n",
    "for i, user_query in enumerate(movie_user_queries):\n",
    "    rankings.at[i, \"hf-cross-encoder\"] = rerank(user_query, num_results=4)\n",
    "    rankings.at[i, \"rrf\"] = weighted_rrf(user_query, alpha=0.7, num_results=4)\n",
    "    rankings.at[i, \"linear-combo-bm25-cosine\"] = hybrid_query(user_query, alpha=0.7, num_results=4)"
   ]
  },
  {
   "cell_type": "code",
   "execution_count": null,
   "metadata": {},
   "outputs": [
    {
     "data": {
      "text/html": [
       "<div>\n",
       "<style scoped>\n",
       "    .dataframe tbody tr th:only-of-type {\n",
       "        vertical-align: middle;\n",
       "    }\n",
       "\n",
       "    .dataframe tbody tr th {\n",
       "        vertical-align: top;\n",
       "    }\n",
       "\n",
       "    .dataframe thead th {\n",
       "        text-align: right;\n",
       "    }\n",
       "</style>\n",
       "<table border=\"1\" class=\"dataframe\">\n",
       "  <thead>\n",
       "    <tr style=\"text-align: right;\">\n",
       "      <th></th>\n",
       "      <th>queries</th>\n",
       "      <th>hf-cross-encoder</th>\n",
       "      <th>rrf</th>\n",
       "      <th>linear-combo-bm25-cosine</th>\n",
       "    </tr>\n",
       "  </thead>\n",
       "  <tbody>\n",
       "    <tr>\n",
       "      <th>0</th>\n",
       "      <td>I'm in the mood for a high-rated action movie ...</td>\n",
       "      <td>[(Mad Max: Fury Road, -11.244140625), (Toy Sto...</td>\n",
       "      <td>[(The Incredibles, 0.016029143897996357), (Toy...</td>\n",
       "      <td>[(The Incredibles, 0.55239223002), (Toy Story,...</td>\n",
       "    </tr>\n",
       "    <tr>\n",
       "      <th>1</th>\n",
       "      <td>What's a funny animated film about unlikely fr...</td>\n",
       "      <td>[(Despicable Me, -10.441909790039062), (The In...</td>\n",
       "      <td>[(Monsters, Inc., 0.015524093392945852), (Mada...</td>\n",
       "      <td>[(The Incredibles, 0.45475204289), (Despicable...</td>\n",
       "    </tr>\n",
       "    <tr>\n",
       "      <th>2</th>\n",
       "      <td>Any movies featuring superheroes or extraordin...</td>\n",
       "      <td>[(The Incredibles, -3.6648073196411133), (The ...</td>\n",
       "      <td>[(The Incredibles, 0.01639344262295082), (The ...</td>\n",
       "      <td>[(The Incredibles, 0.603234915587), (The Aveng...</td>\n",
       "    </tr>\n",
       "    <tr>\n",
       "      <th>3</th>\n",
       "      <td>I want to watch a thrilling movie with spies o...</td>\n",
       "      <td>[(Inception, -10.843631744384766), (The Incred...</td>\n",
       "      <td>[(Inception, 0.015524093392945852), (Skyfall, ...</td>\n",
       "      <td>[(Skyfall, 0.443840536475), (Despicable Me, 0....</td>\n",
       "    </tr>\n",
       "    <tr>\n",
       "      <th>4</th>\n",
       "      <td>Are there any comedies set in unusual location...</td>\n",
       "      <td>[(The Incredibles, -11.45376968383789), (Findi...</td>\n",
       "      <td>[(Finding Nemo, 0.015524093392945852), (Madaga...</td>\n",
       "      <td>[(Madagascar, 0.442132219672), (Despicable Me,...</td>\n",
       "    </tr>\n",
       "  </tbody>\n",
       "</table>\n",
       "</div>"
      ],
      "text/plain": [
       "                                             queries  \\\n",
       "0  I'm in the mood for a high-rated action movie ...   \n",
       "1  What's a funny animated film about unlikely fr...   \n",
       "2  Any movies featuring superheroes or extraordin...   \n",
       "3  I want to watch a thrilling movie with spies o...   \n",
       "4  Are there any comedies set in unusual location...   \n",
       "\n",
       "                                    hf-cross-encoder  \\\n",
       "0  [(Mad Max: Fury Road, -11.244140625), (Toy Sto...   \n",
       "1  [(Despicable Me, -10.441909790039062), (The In...   \n",
       "2  [(The Incredibles, -3.6648073196411133), (The ...   \n",
       "3  [(Inception, -10.843631744384766), (The Incred...   \n",
       "4  [(The Incredibles, -11.45376968383789), (Findi...   \n",
       "\n",
       "                                                 rrf  \\\n",
       "0  [(The Incredibles, 0.016029143897996357), (Toy...   \n",
       "1  [(Monsters, Inc., 0.015524093392945852), (Mada...   \n",
       "2  [(The Incredibles, 0.01639344262295082), (The ...   \n",
       "3  [(Inception, 0.015524093392945852), (Skyfall, ...   \n",
       "4  [(Finding Nemo, 0.015524093392945852), (Madaga...   \n",
       "\n",
       "                            linear-combo-bm25-cosine  \n",
       "0  [(The Incredibles, 0.55239223002), (Toy Story,...  \n",
       "1  [(The Incredibles, 0.45475204289), (Despicable...  \n",
       "2  [(The Incredibles, 0.603234915587), (The Aveng...  \n",
       "3  [(Skyfall, 0.443840536475), (Despicable Me, 0....  \n",
       "4  [(Madagascar, 0.442132219672), (Despicable Me,...  "
      ]
     },
     "execution_count": 31,
     "metadata": {},
     "output_type": "execute_result"
    }
   ],
   "source": [
    "rankings.head()"
   ]
  },
  {
   "cell_type": "code",
   "execution_count": null,
   "metadata": {},
   "outputs": [
    {
     "data": {
      "text/plain": [
       "array(['Show me movies set in dystopian or post-apocalyptic worlds',\n",
       "       list([('Mad Max: Fury Road', -3.4906270503997803), ('Despicable Me', -11.051526069641113), ('The Incredibles', -11.315656661987305), ('Finding Nemo', -10.880638122558594)]),\n",
       "       list([('The Incredibles', 0.01620835536753041), ('Finding Nemo', 0.013813068651778329), ('Mad Max: Fury Road', 0.011475409836065573), ('Madagascar', 0.01111111111111111)]),\n",
       "       list([('Mad Max: Fury Road', '0.452238571644'), ('The Incredibles', '0.445061463118'), ('Madagascar', '0.41901564002'), ('Despicable Me', '0.416218408942'), ('Skyfall', '0.411504244804'), ('The Avengers', '0.41121032536'), ('Black Widow', '0.410578364134'), ('The Lego Movie', '0.408463662863'), ('Monsters, Inc.', '0.392220926285'), ('Shrek', '0.390464815497')])],\n",
       "      dtype=object)"
      ]
     },
     "execution_count": 32,
     "metadata": {},
     "output_type": "execute_result"
    }
   ],
   "source": [
    "rankings.loc[12].values"
   ]
  },
  {
   "cell_type": "markdown",
   "metadata": {},
   "source": [
    "# Wrap up\n",
    "That's a wrap! Hopefully from this you were able to learn:\n",
    "- How to implement simple vector search queries in Redis\n",
    "- How to implement vector search queries with full-text filters\n",
    "- How to implement hybrid search queries using the Redis aggregation API\n",
    "- How to perform client-side fusion and reranking techniques"
   ]
  },
  {
   "cell_type": "markdown",
   "metadata": {},
   "source": []
  }
 ],
 "metadata": {
  "kernelspec": {
   "display_name": "Python 3",
   "language": "python",
   "name": "python3"
  },
  "language_info": {
   "codemirror_mode": {
    "name": "ipython",
    "version": 3
   },
   "file_extension": ".py",
   "mimetype": "text/x-python",
   "name": "python",
   "nbconvert_exporter": "python",
   "pygments_lexer": "ipython3",
   "version": "3.11.9"
  }
 },
 "nbformat": 4,
 "nbformat_minor": 2
}
