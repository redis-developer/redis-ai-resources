{
 "cells": [
  {
   "cell_type": "markdown",
   "metadata": {},
   "source": [
    "![Redis](https://redis.io/wp-content/uploads/2024/04/Logotype.svg?auto=webp&quality=85,75&width=120)\n",
    "# Hybrid search with Redis\n",
    "\n",
    "Hybrid search is all about combining lexical search with semantic vector search. This notebook will cover implementing 3 different hybrid search strategies with Redis:\n",
    "\n",
    "- Linear combination of scores from lexical search (BM25) and vector search (Cosine Distance) with the aggregation API\n",
    "- Client-Side Reciprocal Rank Fusion (RRF)\n",
    "- Client-Side Reranking with a cross encoder model\n",
    "\n",
    "Additional work is planed within the Redis core and ecosystem to add more flexible hybrid search capabilities in the future.\n",
    "\n",
    "## Let's Begin!\n",
    "<a href=\"https://colab.research.google.com/github/redis-developer/redis-ai-resources/blob/main/python-recipes/vector-search/02_hybrid_search.ipynb\" target=\"_parent\"><img src=\"https://colab.research.google.com/assets/colab-badge.svg\" alt=\"Open In Colab\"/></a>\n"
   ]
  },
  {
   "cell_type": "markdown",
   "metadata": {},
   "source": [
    "### Install Packages"
   ]
  },
  {
   "cell_type": "code",
   "execution_count": 2,
   "metadata": {},
   "outputs": [
    {
     "name": "stdout",
     "output_type": "stream",
     "text": [
      "Note: you may need to restart the kernel to use updated packages.\n"
     ]
    }
   ],
   "source": [
    "# NBVAL_SKIP\n",
    "%pip install -q redis \"redisvl>=0.3.4\" numpy sentence-transformers"
   ]
  },
  {
   "cell_type": "markdown",
   "metadata": {},
   "source": [
    "### Data/Index Preparation\n",
    " \n",
    "In this section, we will prepare the data necessary for our hybrid search implementations by loading a collection of **movie** objects. Each movie object will contain the following attributes: `title`, `rating`, `description`, and `genre`. \n",
    " \n",
    "To enhance our search capabilities, we will generate vector embeddings from the movie descriptions. This allows users to perform searches that not only rely on exact matches but also on semantic relevance, helping them find movies that align closely with their interests.\n",
    "\n",
    "After preparing the data, we will populate a search index with these movie records, enabling efficient querying based on both lexical and vector-based search techniques.\n",
    "\n",
    "**Note:** If you are running this notebook in a local environment, you may find that this next step is not necessary, as the data might already be available."
   ]
  },
  {
   "cell_type": "code",
   "execution_count": null,
   "metadata": {},
   "outputs": [],
   "source": [
    "# NBVAL_SKIP\n",
    "!git clone https://github.com/redis-developer/redis-ai-resources.git temp_repo\n",
    "!mv temp_repo/python-recipes/vector-search/resources .\n",
    "!rm -rf temp_repo"
   ]
  },
  {
   "cell_type": "markdown",
   "metadata": {},
   "source": [
    "### Install Redis Stack\n",
    "\n",
    "Later in this tutorial, Redis will be used to store, index, and query vector\n",
    "embeddings and full text fields. **We need to make sure we have a Redis\n",
    "instance available.**\n",
    "\n",
    "#### For Colab\n",
    "Use the shell script below to download, extract, and install [Redis Stack](https://redis.io/docs/getting-started/install-stack/) directly from the Redis package archive."
   ]
  },
  {
   "cell_type": "code",
   "execution_count": null,
   "metadata": {},
   "outputs": [],
   "source": [
    "# NBVAL_SKIP\n",
    "%%sh\n",
    "curl -fsSL https://packages.redis.io/gpg | sudo gpg --dearmor -o /usr/share/keyrings/redis-archive-keyring.gpg\n",
    "echo \"deb [signed-by=/usr/share/keyrings/redis-archive-keyring.gpg] https://packages.redis.io/deb $(lsb_release -cs) main\" | sudo tee /etc/apt/sources.list.d/redis.list\n",
    "sudo apt-get update  > /dev/null 2>&1\n",
    "sudo apt-get install redis-stack-server  > /dev/null 2>&1\n",
    "redis-stack-server --daemonize yes"
   ]
  },
  {
   "cell_type": "markdown",
   "metadata": {},
   "source": [
    "#### For Alternative Environments\n",
    "There are many ways to get the necessary redis-stack instance running\n",
    "1. On cloud, deploy a [FREE instance of Redis in the cloud](https://redis.com/try-free/). Or, if you have your\n",
    "own version of Redis Enterprise running, that works too!\n",
    "2. Per OS, [see the docs](https://redis.io/docs/latest/operate/oss_and_stack/install/install-stack/)\n",
    "3. With docker: `docker run -d --name redis-stack-server -p 6379:6379 redis/redis-stack-server:latest`"
   ]
  },
  {
   "cell_type": "markdown",
   "metadata": {},
   "source": [
    "### Define the Redis Connection URL\n",
    "\n",
    "By default this notebook connects to the local instance of Redis Stack. **If you have your own Redis Enterprise instance** - replace REDIS_PASSWORD, REDIS_HOST and REDIS_PORT values with your own."
   ]
  },
  {
   "cell_type": "code",
   "execution_count": 1,
   "metadata": {},
   "outputs": [],
   "source": [
    "import os\n",
    "\n",
    "# Replace values below with your own if using Redis Cloud instance\n",
    "REDIS_HOST = os.getenv(\"REDIS_HOST\", \"localhost\") # ex: \"redis-18374.c253.us-central1-1.gce.cloud.redislabs.com\"\n",
    "REDIS_PORT = os.getenv(\"REDIS_PORT\", \"6379\")      # ex: 18374\n",
    "REDIS_PASSWORD = os.getenv(\"REDIS_PASSWORD\", \"\")  # ex: \"1TNxTEdYRDgIDKM2gDfasupCADXXXX\"\n",
    "\n",
    "# If SSL is enabled on the endpoint, use rediss:// as the URL prefix\n",
    "REDIS_URL = f\"redis://:{REDIS_PASSWORD}@{REDIS_HOST}:{REDIS_PORT}\""
   ]
  },
  {
   "cell_type": "markdown",
   "metadata": {},
   "source": [
    "### Create redis client, load data, generate embeddings"
   ]
  },
  {
   "cell_type": "code",
   "execution_count": 2,
   "metadata": {},
   "outputs": [],
   "source": [
    "from redis import Redis\n",
    "\n",
    "client = Redis.from_url(REDIS_URL)"
   ]
  },
  {
   "cell_type": "code",
   "execution_count": 3,
   "metadata": {},
   "outputs": [],
   "source": [
    "import json\n",
    "\n",
    "with open(\"resources/movies.json\", 'r') as file:\n",
    "    movies = json.load(file)"
   ]
  },
  {
   "cell_type": "code",
   "execution_count": 8,
   "metadata": {},
   "outputs": [],
   "source": [
    "from redisvl.utils.vectorize import HFTextVectorizer\n",
    "\n",
    "# load model for embedding our movie descriptions\n",
    "model = HFTextVectorizer('sentence-transformers/all-MiniLM-L6-v2')"
   ]
  },
  {
   "cell_type": "code",
   "execution_count": 9,
   "metadata": {},
   "outputs": [],
   "source": [
    "movie_data = [\n",
    "    {\n",
    "        **movie,\n",
    "        \"description_vector\": model.embed(movie[\"description\"], as_buffer=True, dtype=\"float32\")\n",
    "    } for movie in movies\n",
    "]"
   ]
  },
  {
   "cell_type": "code",
   "execution_count": 11,
   "metadata": {},
   "outputs": [
    {
     "data": {
      "text/plain": [
       "20"
      ]
     },
     "execution_count": 11,
     "metadata": {},
     "output_type": "execute_result"
    }
   ],
   "source": [
    "len(movie_data)"
   ]
  },
  {
   "cell_type": "code",
   "execution_count": 12,
   "metadata": {},
   "outputs": [
    {
     "data": {
      "text/plain": [
       "{'title': 'Explosive Pursuit',\n",
       " 'genre': 'action',\n",
       " 'rating': 7,\n",
       " 'description': 'A daring cop chases a notorious criminal across the city in a high-stakes game of cat and mouse.',\n",
       " 'description_vector': b'\\x91f|=\\xb6`\\n;g\\x92\\xb7;3\\xcb~\\xbd\\x16e\\xce\\xbb\\xd7\\x16J=P\\xa7?=\\xc8v\\x95<i\\xfa\\x06\\xbe\\x12Y\\xcf=4\\x07p=D\\xdb\\r\\xbd\\x8d\\xf2H\\xbdfe\\xc6<G\\xdfa=t8\\x16\\xbc\\xd4\\xd3\\x13<A\\xaa\\x1c=\\x06\\xef\\x89<\\xb6\\xb0-<\\x99\\xb2\\x9f\\xbcZ\\x0b\\xc3\\xbd\\xa5NR=Zl\\xf7\\xbcN>\\x17\\xbe\\x02\\x1a\\x05\\xb9@u\\xbf<\\xd6\\xe2b\\xba\\xd0\\xa6\\xa8\\xbdo\\xdc\\xec\\xbcQc%=N\\xe7r\\xbb\\x1dOG==(\\x85=y@\\xa2\\xbc7Z\\xd0\\xbdB%K\\xbd\\xba\\xed\\x94\\xbcU\\xddH=\\xbe&F<\\xbc*\\xec<\\x8c\\xd8\\x8d\\xbd\\xf3Z\\x98<\\x15\\xa3\\xa3=3g3\\xbd$\\xcd\\xbd\\xbd\\xf7$\\xf7;\\xf6\\xf4z=\\x02\\xb5\\x8c=\\x8d\\x0e\\xc6\\xbdhI\\x90\\xbdq\\x16\\xbd;u\\xe7\\x0c\\xbd&3\\xc9\\xbc\\x82\\xf8\\xbb\\xbc\\xa7&u\\xbb-\\x8f\\xca<\\xf2\\x7fJ=\\x14\\xaf*=\\x87OU\\xbd\\xde\\xf0\\x95\\xbc \\x02\\x19=\\x1b\\xf4K<\\xd0\\xc2\\t=F\\x83\\xac=\\x9e\\xd7\\xb8\\xbd\\xf3\\xb5\\x9c\\xbdB\\x85\\x18=\\xa4d&=\\'3\\xf8<\\xd3\\xf7\\x88<Tv\\xf2\\xbb1=[\\xbda\\xac\\xee\\xbb4:A\\xbd\\xd3d\\x19\\xbd\\xf2c\\xf2\\xbb\\xfa\\xb9x;\\xdc;O<\\xab1,\\xbc\\xeb\\xae\\xae=\\x82\\x00-\\xbc\\x18\\x06\\xae\\xbdi\\xd6\\x1a=\\xc3\\xbf\\xcd=\\x1e\\x150=\\xe5\\xf1\\x9d\\xbc\\xb3GK=\\xa7\\xb8 =\\xae\\xf1I\\xbd1e\\x9e\\xbb6\\x8b\\xf7:\\x8c\\xf8\\x1c=\\x84\\xba\\xde<\\x02o\\x16\\xbbO]p\\xbb\\xde\\xd5<<\\xe6\\xa1\\xa3\\xb8\\xb79s<\\x184&<\\x8f\\x1c\\x18<&\\xd9-\\xbd\\xcc\\xe6\\x98<\\x17\\xa1N=\\x9c/\\xa5=\\x11\\xf3\\xdd<)L\\x13<\\x82\\x13\\xce\\xbaX\\x9e\\xdc\\xbc\\x9f8\\x05=\\x1a\\xa1\\xf5<d\\xd8R\\xbc4\\x94-\\xbc\\x9c\\xdf\\\\9\\x9e1\\xec=X\\xf5V=7G\\xd6\\xbc\\x90\"S=\\xce\\xd9^\\xbd\\xae\\xa3\\x91<\\xd7\\xd9\\x13<$\\xb3y\\xbb\\x82\\x8d/\\xbd\\xc3\\x06p<\\xf5\\x94\\x88\\xbb\\xac\\xd0\\x9d<H\\x02\\xb6=\\x18\\xf1\\xad\\x89U\\xf2\\xa6\\xbb\\xb5\\xfbe\\xbd\\xc1QK\\xbb\\xf4\\x0f\\x90\\xbb\\xe1s\\xb9\\xbb-\\xc9\\xb9\\xbb\\xfehk=\\x9c\\r\\xad<5f\\xa8\\xbd\\xc1]\\xcc=\\x1c\\xe0 \\xbe\\xc84/\\xbdof\\xf7\\xbc[\\x9av=\\xd4\\x0bq</\\xda\\x1c\\xbd\\xed\\x08\\x8b<\\xean\\xa6\\xbc\\xc9t\\x86<}\\x87\\x19=\\x7f\\xae\\xe4\\xbc\\x03m^\\xbc\\x1bV\\x0e\\xbdU\\xb0\\xe3\\xbc\\xfdFU;\\xaaG|\\xbd]\\xfb\\x8b\\xbdz\\x81*\\xbd~\\x83\\xf4=\\xde\\xb7\\x10;\\x00!\\x0e\\xbd\\x04\\xd4\\xb4=\\x1b&\\x15\\xbdV\\x86\\x83=I$:<\\x1e\\xea\\xa1<\\x1a\\x08\\x8d\\xbd\\xa1\\x00i\\xbd:\\x01\\xdd<\\xff\\x86\\xd6=6\\x98\\x9c\\xbde|!\\xbd\\x10\"\\xc5\\xb9\\xaa\\xb3\\x93\\xbc\\xef\\xcb>\\xbd\\x7f\\x1bF\\xbd\\x9f?\\x14\\xbe\\xc9\\x8f(\\xbd\\xe4O\\x89\\xbd\\x18\\xae\\xd4<\\xb2\\x12\\xc3=\\xb0\\x05O\\xbd\\x8f\\x8ep\\xbc\\x1a\\xb5\\xac\\xbc\\xcc\\x9ee\\xbdv\\x8es;\\x0ca\\xc1;\\xd5\\xfaB\\xbde%\\xfe:\\x99\\xe6\\xf4=\\xa7\\x15*<\\x8c\\xf8\\x1b=\\x08\\xfcV\\xbd\\xce\\xd1\\r=<\\xee\\x06=\\x17u\\xba\\xbd\\r\\xa4\\xd6<\\x12\\xec\\xd9;\\xc89/=\\xa6\\xc2\\x85=x\\x0b\"=\\xe3i\\xef<4\\xe8c=\\xfc2\\x08\\xbe\\xd2\\x12;=\\x98VW;N\\xa4b<\\xe8\\x9d\\xb7<\\x90r;\\xbd\\\\z\\x91\\xbcO\\x00<\\xbd\\x13\\x1a\\xa3<\\x05K%\\xbcc\\xe7\\xbf\\xbb\\x89\\x87\\x12=\\x95\\x1d\\x95=||\\xfd\\xbc\\xf2\\xf1\\xd1\\xbdKz\\x84;\\xc7\\tu=.\\x8ai<=\\x91R\\xbd\\xdd\\xf3m\\xbd\\x8c\\xb83=_\\xedF=\\x1a\\xf3\\xd1\\x08oA\\xba<(\\xacO\\xbd\\xfc\\x0e\\xc7;\\x87\\xf4\\x04\\xbdN\\x82\\x92\\xbd\\x92\\xddD=a\\xd8;\\xbc\\xd1;\\xf4\\xbc\\xb2\\x8f\\x97\\xbd<\\\\\\r\\xbd\\xe1\\x8c\\xf5\\xbd\\x95\\x13(=\\xa2\\xc8\\xc6=\\xa9\\xed\\x1a=\\x98\\xa8\\xf8=\\x96\\xc1\\xee\\xbc\\xff.\\x18\\xbb\\xbf~;<\\xd9F\\t\\xbd\\x13\\x08\\x17=\\xa8\\xa5\\x1e=\\x17K\\xcb\\xbd0\\xf7\\x8c\\xbdXb\\xed\\xbb\\xc9[\\x19\\xbcU\\x0c\\x13\\xbcdq\\x83=\\xe9wd\\xbd.\\xc7\\xd1\\xbb~lY\\xbc\\xa2|a=a\\xcf\\xfd\\xbcB\\xa5\\x83\\xbb\\x9fO\\x19\\xbd&\\x02]\\xbd\\xb6\\xeaz=\\xff5\\x9c=1^\\xa9\\xbdi^9\\xbcT\\xe4N\\xbc}\\x07x\\xbd\\x17{\\xa0=@\\x9f\\x96<\\x81s8\\xba\\xa6\\xbb=\\xbd\\xb2|(<\\xc1\\xdf\\xb4\\xbbr\\xc9\\x0b\\xbd\\xc2\\x01\\x95\\xbd\\x02\\xc7T=\\x11p\\xd1<q3\\'\\xbd\\xb9\\x00H<t\\x0f\\xb8<\\x18U}\\xbd~}\\x01=\\xfe\\xc9[\\xbd\\xf7\\xec\\x03<\\xfcb\\x0f\\xbd\\xd3\\x8e\\xe7\\xbc\\xeb\\x16\\xc8<\\xba\\x08\\x9c=\\xfc\\xd4\\xa6\\xbdDQ\\xe5=]-O<\\xe0\\xf22=\\xc826\\xbd\\xf7\\xe2\\xf2\\xbc\\x06[\\xa7<r\\xb2\\x02\\xbe\\xe9n2\\xbd\\xb0\\x80\\x8a=\\x00\\xc4\\t\\xbd\\x0f\\xb8\\xcd\\xbc\\x8e\\xdb\\xad\\xbb\\xa8\\xfd\\xde\\xbc\\x14\\x17E={\\x06\\xbd=\\x13&m=\\x1cX\\x8e=\\xea\\xae\\xa4=\\x17\\xa3\\xca\\xbb\\x82?\\r\\xbc\\xc09\\x9c<Fl\\x8e\\xbd3\\x10k=\\xb5\\xff\\xbe;{\\x16\\xff<\\x898\\x92<\\xa92\\x8c;H\\xac\\xa3=\\xfa+v<\\xd4\\x89\\xf0\\xbb|\\xdb\\x07\\xbc\\x99\\xae\\xbd\\xbc\\xb5\\x8f\\xb4\\xb2\\xaf\\x88\\xd3\\xbd\\x86\\xe9j=\\xee\\xdb\\xa7\\xbd\\xde\\x16\\xe5<D\\x19p=\\xf1\\xe6\\x9f=\\xe5Gh\\xbd\\xec\\x9a\\xf4\\xbdv\\xd6\\x07\\xbc$\\xddj<9tw=\\x85\\xd0\\xe1<\\xc5\\xae\\x1e=\\xedF\\xc4<\\xa00\\n<Sjd\\xbc\\xb6\\xfa\\x8c=\\xda\\x8a\\xa6\\xbcT-\\xcd\\xba\\xb1p\\xcf=(T-\\xbd\\xc5Qn=;\\x16\\x9f\\xbd\\x94\\x8a_=\\'\\x13#<\\xd6\\xaam;(\\x86\\x00\\xbe\\xeey\\x8b\\xbc`UG=\\x9d\\xa3\\xca=\\xe3\\xbdq\\xbc\\x98\\xe3:\\xbd\\xa4\\x93]<z]\\xd1;\\xc3d\\xae=\\xa4\\x1f\\x03\\xbd\\x04L\\x89=p:s\\xbd\\xaf\\x1eb=\\x9f\\xc9\\t\\xbb\\xa6\\xfb\\xe7<z\\xce\\xe4\\xbcXV#=p\\x8bk\\xbd\\xa6h\\x01<\\xf6\\xe5N\\xbd>\\x0c\\xb1\\xbch\\x01J\\xbda\\xf4~==\\xe3Z\\xbd?/\\xf1\\xbbJ98=\\xd92T\\xbc.\\'\\x81<\\xbd\\xa0M=\\xa0\\xde\\x05<\\x1bI|\\xbd\\xc4\\x98w<\\xdf\\xd3\\xa7\\xbd\\xdbS \\xbdl\\x13\\x07=\\x18&\\x14\\xbc\\xbev\\xe9<\\xfa,\\x97='}"
      ]
     },
     "execution_count": 12,
     "metadata": {},
     "output_type": "execute_result"
    }
   ],
   "source": [
    "movie_data[0]"
   ]
  },
  {
   "cell_type": "markdown",
   "metadata": {},
   "source": [
    "## Define Redis index schema"
   ]
  },
  {
   "cell_type": "code",
   "execution_count": 16,
   "metadata": {},
   "outputs": [
    {
     "name": "stdout",
     "output_type": "stream",
     "text": [
      "16:55:38 redisvl.index.index INFO   Index already exists, overwriting.\n"
     ]
    }
   ],
   "source": [
    "from redisvl.schema import IndexSchema\n",
    "from redisvl.index import SearchIndex\n",
    "\n",
    "index_name = \"movies\"\n",
    "\n",
    "schema = IndexSchema.from_dict({\n",
    "  \"index\": {\n",
    "    \"name\": index_name,\n",
    "    \"prefix\": \"movie\",\n",
    "  },\n",
    "  \"fields\": [\n",
    "    { \"name\": \"title\", \"type\": \"text\" },\n",
    "    { \"name\": \"description\", \"type\": \"text\" },\n",
    "    { \"name\": \"genre\", \"type\": \"tag\", \"attrs\": {\"sortable\": True}},\n",
    "    { \"name\": \"rating\", \"type\": \"numeric\", \"attrs\": {\"sortable\": True}},\n",
    "    {\n",
    "        \"name\": \"description_vector\",\n",
    "        \"type\": \"vector\",\n",
    "        \"attrs\": {\n",
    "            \"dims\": 384,\n",
    "            \"distance_metric\": \"cosine\",\n",
    "            \"algorithm\": \"hnsw\",\n",
    "            \"datatype\": \"float32\"\n",
    "        }\n",
    "    }\n",
    "  ]\n",
    "})\n",
    "\n",
    "\n",
    "index = SearchIndex(schema, client)\n",
    "index.create(overwrite=True, drop=True)"
   ]
  },
  {
   "cell_type": "markdown",
   "metadata": {},
   "source": [
    "### Populate index"
   ]
  },
  {
   "cell_type": "code",
   "execution_count": 18,
   "metadata": {},
   "outputs": [
    {
     "data": {
      "text/plain": [
       "['movie:af71c79937e04e8faf517e6aa7ac345c',\n",
       " 'movie:2fb07b0d100e4d7c8e7438cc0814382f',\n",
       " 'movie:e19b7d53fe334dde88e1e5cabaffe4d3',\n",
       " 'movie:476abf9f05864993a7e87795f10b4ecf',\n",
       " 'movie:3b682518ec21458f9852c04599e85ec9',\n",
       " 'movie:0c16db53b7104858b04735fda785f4cd',\n",
       " 'movie:a869fae2f3574e6a9374be0e2f52f7e7',\n",
       " 'movie:c493e0edcf48449cac6e8f06c22f7306',\n",
       " 'movie:457db737503d441c8e158b3b8a99ed76',\n",
       " 'movie:9e4c3559c93e4dd4956b5c4caa198631',\n",
       " 'movie:db9a74588cee4961a297a7a85f74c875',\n",
       " 'movie:9da26bb36a214bf4b76da6676888fbf3',\n",
       " 'movie:1f2c8ed55c944aa58812f969bfb5bb33',\n",
       " 'movie:d5f356ce35174ce6a7134e3d07d11346',\n",
       " 'movie:3e7184e070574a1187fb99cb2e4d09e4',\n",
       " 'movie:09c1908809fd42ab9ffc1bbf6b50fcf6',\n",
       " 'movie:94954dd933f34fd4bcd66acb03ae89e2',\n",
       " 'movie:a26a14ef194249988c42b99cfc22ea62',\n",
       " 'movie:b6e9967459c74ff4898c0990a0cd5769',\n",
       " 'movie:f3981cdf54a044c1b5951e7a3fc56235']"
      ]
     },
     "execution_count": 18,
     "metadata": {},
     "output_type": "execute_result"
    }
   ],
   "source": [
    "index.load(movie_data)"
   ]
  },
  {
   "cell_type": "markdown",
   "metadata": {},
   "source": [
    "# Hybrid Search Approaches"
   ]
  },
  {
   "cell_type": "markdown",
   "metadata": {},
   "source": [
    "## 1. Linear Combination using Aggregation API\n",
    "Now that our index is populated and ready, let's execute our first hybrid search technique. This query will calculate a linear combination of the BM25 score for our provided text search and the cosine distance between vectors calculated via a KNN vector query.\n",
    "\n",
    "This style of query is useful when you want to combine the power of key words (BM25) with the flexibility of vector search."
   ]
  },
  {
   "cell_type": "markdown",
   "metadata": {},
   "source": [
    "First, let's set up what we need for the hybrid search including the user query and query vector."
   ]
  },
  {
   "cell_type": "code",
   "execution_count": 131,
   "metadata": {},
   "outputs": [],
   "source": [
    "user_query = \"action adventure movie with great fighting scenes, crime busting, superheroes, and magic\"\n",
    "embedded_user_query = model.embed(user_query, as_buffer=True, dtype=\"float32\")"
   ]
  },
  {
   "cell_type": "code",
   "execution_count": 214,
   "metadata": {},
   "outputs": [],
   "source": [
    "def convert_user_query(user_query: str) -> str:\n",
    "    \"\"\"Convert a raw user query to a redis full text query joined by ORs\"\"\"\n",
    "    return \" | \".join([token.strip().strip(\",\").lower() for token in user_query.split()])"
   ]
  },
  {
   "cell_type": "markdown",
   "metadata": {},
   "source": [
    "Next, we build a base `VectorQuery` that contains a KNN-style vector search."
   ]
  },
  {
   "cell_type": "code",
   "execution_count": 195,
   "metadata": {},
   "outputs": [],
   "source": [
    "from redisvl.query import VectorQuery, VectorRangeQuery, FilterQuery\n",
    "from redisvl.query.filter import Text\n",
    "from redisvl.redis.utils import convert_bytes, make_dict\n",
    "\n",
    "query = VectorQuery(\n",
    "    vector=embedded_user_query,\n",
    "    vector_field_name=\"description_vector\",\n",
    "    num_results=3,\n",
    "    return_fields=[\"title\", \"description\"]\n",
    ")"
   ]
  },
  {
   "cell_type": "code",
   "execution_count": 196,
   "metadata": {},
   "outputs": [
    {
     "data": {
      "text/plain": [
       "[{'id': 'movie:09c1908809fd42ab9ffc1bbf6b50fcf6',\n",
       "  'vector_distance': '0.643690466881',\n",
       "  'title': 'The Incredibles',\n",
       "  'description': \"A family of undercover superheroes, while trying to live the quiet suburban life, are forced into action to save the world. Bob Parr (Mr. Incredible) and his wife Helen (Elastigirl) were among the world's greatest crime fighters, but now they must assume civilian identities and retreat to the suburbs to live a 'normal' life with their three children. However, the family's desire to help the world pulls them back into action when they face a new and dangerous enemy.\"},\n",
       " {'id': 'movie:af71c79937e04e8faf517e6aa7ac345c',\n",
       "  'vector_distance': '0.668439388275',\n",
       "  'title': 'Explosive Pursuit',\n",
       "  'description': 'A daring cop chases a notorious criminal across the city in a high-stakes game of cat and mouse.'},\n",
       " {'id': 'movie:0c16db53b7104858b04735fda785f4cd',\n",
       "  'vector_distance': '0.698122441769',\n",
       "  'title': 'Mad Max: Fury Road',\n",
       "  'description': \"In a post-apocalyptic wasteland, Max teams up with Furiosa to escape a tyrant's clutches and find freedom.\"}]"
      ]
     },
     "execution_count": 196,
     "metadata": {},
     "output_type": "execute_result"
    }
   ],
   "source": [
    "# Standard KNN vector search\n",
    "index.query(query)"
   ]
  },
  {
   "cell_type": "code",
   "execution_count": 215,
   "metadata": {},
   "outputs": [
    {
     "data": {
      "text/plain": [
       "'@description:(action | adventure | movie | with | great | fighting | scenes | crime | busting | superheroes | and | magic)'"
      ]
     },
     "execution_count": 215,
     "metadata": {},
     "output_type": "execute_result"
    }
   ],
   "source": [
    "str(Text(\"description\") % convert_user_query(user_query))"
   ]
  },
  {
   "cell_type": "code",
   "execution_count": 198,
   "metadata": {},
   "outputs": [
    {
     "data": {
      "text/plain": [
       "'@description:(action | adventure | movie | with | great | fighting | scenes | crime | busting | superheroes | and | magic)=>[KNN 3 @description_vector $vector AS vector_distance]'"
      ]
     },
     "execution_count": 198,
     "metadata": {},
     "output_type": "execute_result"
    }
   ],
   "source": [
    "# Add full-text portion\n",
    "query.set_filter(Text(\"description\") % convert_user_query(user_query))\n",
    "query.query_string()"
   ]
  },
  {
   "cell_type": "markdown",
   "metadata": {},
   "source": [
    "This query string combines both a full-text search and a vector (KNN) search and will be passed to the aggregation API to combine using a simple linear combination (with `alpha` weight) and sort by `hybrid_score`."
   ]
  },
  {
   "cell_type": "code",
   "execution_count": 216,
   "metadata": {},
   "outputs": [],
   "source": [
    "from typing import Any, Dict, List, Optional\n",
    "from redis.commands.search.aggregation import AggregateRequest, Desc\n",
    "\n",
    "\n",
    "# TODO: scorer not in redis-py yet for aggregations\n",
    "# This is in a PR for the library and should be available soon\n",
    "\n",
    "class AggregateRequestWithScorer(AggregateRequest):\n",
    "    _scorer: str = None\n",
    "\n",
    "    def scorer(self, scorer: str):\n",
    "        self._scorer = scorer\n",
    "        return self\n",
    "\n",
    "    def build_args(self):\n",
    "        # @foo:bar ...\n",
    "        ret = [self._query]\n",
    "\n",
    "        if self._scorer:\n",
    "            ret.extend([\"SCORER\", self._scorer])\n",
    "\n",
    "        if self._with_schema:\n",
    "            ret.append(\"WITHSCHEMA\")\n",
    "\n",
    "        if self._verbatim:\n",
    "            ret.append(\"VERBATIM\")\n",
    "\n",
    "        if self._add_scores:\n",
    "            ret.append(\"ADDSCORES\")\n",
    "\n",
    "        if self._cursor:\n",
    "            ret += self._cursor\n",
    "\n",
    "        if self._loadall:\n",
    "            ret.append(\"LOAD\")\n",
    "            ret.append(\"*\")\n",
    "        elif self._loadfields:\n",
    "            ret.append(\"LOAD\")\n",
    "            ret.append(str(len(self._loadfields)))\n",
    "            ret.extend(self._loadfields)\n",
    "\n",
    "        if self._dialect:\n",
    "            ret.extend([\"DIALECT\", self._dialect])\n",
    "\n",
    "        ret.extend(self._aggregateplan)\n",
    "\n",
    "        return ret"
   ]
  },
  {
   "cell_type": "markdown",
   "metadata": {},
   "source": [
    "Notes on aggregate query syntax \n",
    "- `.scorer`: specifies the scoring function to use either BM25 or TFIDF\n",
    "- `.add_scores`: adds the scores to the result\n",
    "- `.apply`: algebraic operations that can be customized for your use case\n",
    "- `.load`: specifies fields to return - all in this case.\n",
    "- `.sort_by`: sort the output based on the hybrid score and yield top 5 results\n",
    "- `.dialect`: specifies the query dialect to use."
   ]
  },
  {
   "cell_type": "code",
   "execution_count": 219,
   "metadata": {},
   "outputs": [],
   "source": [
    "def linear_combo(query: str, alpha: float, distance_threshold: float = None) -> List[Dict[str, Any]]:\n",
    "    req = (\n",
    "        AggregateRequestWithScorer(query)\n",
    "            .scorer(\"BM25\")\n",
    "            .add_scores()\n",
    "            .apply(cosine_similarity=\"(2 - @vector_distance)/2\", bm25_score=\"@__score\")\n",
    "            .apply(hybrid_score=f\"{1-alpha}*@bm25_score + {alpha}*@cosine_similarity\")\n",
    "            .load(\"title\", \"description\", \"cosine_similarity\", \"bm25_score\", \"hybrid_score\")\n",
    "            .sort_by(Desc(\"@hybrid_score\"), max=5)\n",
    "            .dialect(4)\n",
    "    )\n",
    "    params = {'vector': embedded_user_query}\n",
    "\n",
    "    if distance_threshold:\n",
    "        params[\"distance_threshold\"] = distance_threshold\n",
    "\n",
    "    res = index.client.ft(index.schema.index.name).aggregate(req, query_params=params)\n",
    "\n",
    "    # Perform output parsing\n",
    "    if res:\n",
    "        return [make_dict(row) for row in convert_bytes(res.rows)]"
   ]
  },
  {
   "cell_type": "code",
   "execution_count": 220,
   "metadata": {},
   "outputs": [
    {
     "data": {
      "text/plain": [
       "[{'vector_distance': '0.643690466881',\n",
       "  '__score': '0.968066079387',\n",
       "  'title': 'The Incredibles',\n",
       "  'description': \"A family of undercover superheroes, while trying to live the quiet suburban life, are forced into action to save the world. Bob Parr (Mr. Incredible) and his wife Helen (Elastigirl) were among the world's greatest crime fighters, but now they must assume civilian identities and retreat to the suburbs to live a 'normal' life with their three children. However, the family's desire to help the world pulls them back into action when they face a new and dangerous enemy.\",\n",
       "  'cosine_similarity': '0.67815476656',\n",
       "  'bm25_score': '0.968066079387',\n",
       "  'hybrid_score': '0.765128160408'},\n",
       " {'vector_distance': '0.824123203754',\n",
       "  '__score': '0.284697498389',\n",
       "  'title': 'Finding Nemo',\n",
       "  'description': 'After his son is captured in the Great Barrier Reef and taken to Sydney, a timid clownfish sets out on a journey to bring him home.',\n",
       "  'cosine_similarity': '0.587938398123',\n",
       "  'bm25_score': '0.284697498389',\n",
       "  'hybrid_score': '0.496966128203'},\n",
       " {'vector_distance': '0.856175363064',\n",
       "  '__score': '0.284697498389',\n",
       "  'title': 'Aladdin',\n",
       "  'description': 'A kind-hearted street urchin and a power-hungry Grand Vizier vie for a magic lamp that has the power to make their deepest wishes come true.',\n",
       "  'cosine_similarity': '0.571912318468',\n",
       "  'bm25_score': '0.284697498389',\n",
       "  'hybrid_score': '0.485747872444'}]"
      ]
     },
     "execution_count": 220,
     "metadata": {},
     "output_type": "execute_result"
    }
   ],
   "source": [
    "# Test it out\n",
    "linear_combo(query.query_string(), alpha=0.7) # 70% of the hybrid search score is based on cosine similarity"
   ]
  },
  {
   "cell_type": "markdown",
   "metadata": {},
   "source": [
    "## 2. Client-side fusion\n",
    "\n",
    "Instead of relying on document scores like cosine similarity and BM25/TFIDF, we can fetch items and focus on their rank. This rank can be utilized to create a new ranking metric known as Reciprocal Rank Fusion (RRF). Although Redis does not currently support RRF natively, we can easily implement it on the client side."
   ]
  },
  {
   "cell_type": "code",
   "execution_count": 221,
   "metadata": {},
   "outputs": [],
   "source": [
    "def weighted_rrf(*ranked_lists, weights=None, k=60):\n",
    "    \"\"\"\n",
    "    Perform Weighted Reciprocal Rank Fusion on N number of ordered lists.\n",
    "    \"\"\"\n",
    "    item_scores = {}\n",
    "    \n",
    "    if weights is None:\n",
    "        weights = [1.0] * len(ranked_lists)\n",
    "    else:\n",
    "        assert len(weights) == len(ranked_lists), \"Number of weights must match number of ranked lists\"\n",
    "        assert all(0 <= w <= 1 for w in weights), \"Weights must be between 0 and 1\"\n",
    "    \n",
    "    for ranked_list, weight in zip(ranked_lists, weights):\n",
    "        for rank, item in enumerate(ranked_list, start=1):\n",
    "            if item not in item_scores:\n",
    "                item_scores[item] = 0\n",
    "            item_scores[item] += weight * (1 / (rank + k))\n",
    "    \n",
    "    # Sort items by their weighted RRF scores in descending order\n",
    "    fused_list = sorted(item_scores.items(), key=lambda x: x[1], reverse=True)\n",
    "    \n",
    "    # Return only the items, not their scores\n",
    "    return [item for item, score in fused_list]"
   ]
  },
  {
   "cell_type": "code",
   "execution_count": 222,
   "metadata": {},
   "outputs": [
    {
     "data": {
      "text/plain": [
       "[2, 1, 6, 5, 4, 3, 7, 8]"
      ]
     },
     "execution_count": 222,
     "metadata": {},
     "output_type": "execute_result"
    }
   ],
   "source": [
    "# Below is a simple example of RRF over a few lists of numbers\n",
    "weighted_rrf([1, 2, 3], [2, 4, 6, 7, 8], [5, 6, 1, 2])"
   ]
  },
  {
   "cell_type": "code",
   "execution_count": 223,
   "metadata": {},
   "outputs": [],
   "source": [
    "vector_query = VectorQuery(\n",
    "    vector=embedded_user_query,\n",
    "    vector_field_name=\"description_vector\",\n",
    "    num_results=20,\n",
    "    return_fields=[\"title\", \"description\"],\n",
    "    dialect=4\n",
    ")\n",
    "\n",
    "full_text_query = FilterQuery(\n",
    "    filter_expression=(Text(\"description\") % \" | \".join([token.strip().strip(\",\").lower() for token in user_query.split()])),\n",
    "    num_results=20,\n",
    "    dialect=4,\n",
    "    return_fields=[\"title\", \"description\"]\n",
    ").scorer(\"BM25\").with_scores()\n",
    "\n",
    "# Add optional \"~\" operator to front part of the full text query to expand the scope of potential results\n",
    "full_text_query._query_string = \"(~@description:(action | adventure | movie | with | great | fighting | scenes | crime | busting | superheroes | and | magic))\"\n",
    "\n",
    "# Run queries\n",
    "vector_query_results = index.query(vector_query)\n",
    "full_text_query_results = index.query(full_text_query)"
   ]
  },
  {
   "cell_type": "code",
   "execution_count": 224,
   "metadata": {},
   "outputs": [
    {
     "data": {
      "text/plain": [
       "True"
      ]
     },
     "execution_count": 224,
     "metadata": {},
     "output_type": "execute_result"
    }
   ],
   "source": [
    "# Fetched top 20 results from each\n",
    "len(vector_query_results) == len(full_text_query_results) == 20"
   ]
  },
  {
   "cell_type": "code",
   "execution_count": 225,
   "metadata": {},
   "outputs": [
    {
     "name": "stdout",
     "output_type": "stream",
     "text": [
      "action adventure movie with great fighting scenes, crime busting, superheroes, and magic ...\n"
     ]
    },
    {
     "data": {
      "text/plain": [
       "['The Incredibles',\n",
       " 'Explosive Pursuit',\n",
       " 'Mad Max: Fury Road',\n",
       " 'Finding Nemo',\n",
       " 'Fast & Furious 9',\n",
       " 'The Dark Knight',\n",
       " 'Aladdin',\n",
       " 'John Wick',\n",
       " 'Inception',\n",
       " 'Black Widow',\n",
       " 'Toy Story',\n",
       " 'Skyfall',\n",
       " 'The Avengers',\n",
       " 'Despicable Me',\n",
       " 'Madagascar',\n",
       " 'Shrek',\n",
       " 'The Lego Movie',\n",
       " 'Gladiator',\n",
       " 'Monsters, Inc.',\n",
       " 'The Princess Diaries']"
      ]
     },
     "execution_count": 225,
     "metadata": {},
     "output_type": "execute_result"
    }
   ],
   "source": [
    "# Let's take a look at the results given the following user query (as a reminder)\n",
    "print(user_query, \"...\")\n",
    "\n",
    "weighted_rrf(\n",
    "    [movie[\"title\"] for movie in vector_query_results],\n",
    "    [movie[\"title\"] for movie in full_text_query_results]\n",
    ")"
   ]
  },
  {
   "cell_type": "markdown",
   "metadata": {},
   "source": [
    "But say we want to give more weight to the vector query results in this case to boost semantic similarities contribution to the final rank:"
   ]
  },
  {
   "cell_type": "code",
   "execution_count": 226,
   "metadata": {},
   "outputs": [
    {
     "data": {
      "text/plain": [
       "['The Incredibles',\n",
       " 'Explosive Pursuit',\n",
       " 'Mad Max: Fury Road',\n",
       " 'The Dark Knight',\n",
       " 'Fast & Furious 9',\n",
       " 'Inception',\n",
       " 'Despicable Me',\n",
       " 'Finding Nemo',\n",
       " 'John Wick',\n",
       " 'The Avengers',\n",
       " 'Black Widow',\n",
       " 'Aladdin',\n",
       " 'Skyfall',\n",
       " 'Madagascar',\n",
       " 'Toy Story',\n",
       " 'Shrek',\n",
       " 'The Lego Movie',\n",
       " 'Gladiator',\n",
       " 'Monsters, Inc.',\n",
       " 'The Princess Diaries']"
      ]
     },
     "execution_count": 226,
     "metadata": {},
     "output_type": "execute_result"
    }
   ],
   "source": [
    "weighted_rrf(\n",
    "    [movie[\"title\"] for movie in vector_query_results],\n",
    "    [movie[\"title\"] for movie in full_text_query_results],\n",
    "    weights=[0.7, 0.3]\n",
    ")"
   ]
  },
  {
   "cell_type": "markdown",
   "metadata": {},
   "source": [
    "## 3. Client-side reranking\n",
    "\n",
    "An alternative approach to RRF is to simply use an external reranker to order the final recommendations. RedisVL has built-in integrations to a few popular reranking modules."
   ]
  },
  {
   "cell_type": "code",
   "execution_count": 240,
   "metadata": {},
   "outputs": [
    {
     "data": {
      "text/plain": [
       "{'Title: Aladdin. Description: A kind-hearted street urchin and a power-hungry Grand Vizier vie for a magic lamp that has the power to make their deepest wishes come true.',\n",
       " 'Title: Black Widow. Description: Natasha Romanoff confronts her dark past and family ties as she battles a new enemy.',\n",
       " 'Title: Despicable Me. Description: When a criminal mastermind uses a trio of orphan girls as pawns for a grand scheme, he finds their love is profoundly changing him for the better.',\n",
       " 'Title: Explosive Pursuit. Description: A daring cop chases a notorious criminal across the city in a high-stakes game of cat and mouse.',\n",
       " 'Title: Fast & Furious 9. Description: Dom and his crew face off against a high-tech enemy with advanced weapons and technology.',\n",
       " 'Title: Finding Nemo. Description: After his son is captured in the Great Barrier Reef and taken to Sydney, a timid clownfish sets out on a journey to bring him home.',\n",
       " 'Title: Gladiator. Description: A betrayed Roman general seeks revenge against the corrupt emperor who murdered his family.',\n",
       " 'Title: Inception. Description: A thief who enters dreams to steal secrets faces his toughest mission yet, with reality itself at stake.',\n",
       " 'Title: John Wick. Description: A retired hitman seeks vengeance against those who wronged him, leaving a trail of destruction in his wake.',\n",
       " \"Title: Mad Max: Fury Road. Description: In a post-apocalyptic wasteland, Max teams up with Furiosa to escape a tyrant's clutches and find freedom.\",\n",
       " 'Title: Madagascar. Description: A group of animals who have spent all their life in a New York zoo end up in the jungles of Madagascar, and must adjust to living in the wild.',\n",
       " 'Title: Monsters, Inc.. Description: In order to power the city, monsters have to scare children so that they scream. However, the children are toxic to the monsters, and after a child gets through, two monsters realize things may not be what they think.',\n",
       " 'Title: Shrek. Description: A mean lord exiles fairytale creatures to the swamp of a grumpy ogre, who must go on a quest and rescue a princess for the lord in order to get his land back.',\n",
       " 'Title: Skyfall. Description: James Bond returns to track down a dangerous new enemy who threatens global security.',\n",
       " \"Title: The Avengers. Description: Earth's mightiest heroes come together to stop an alien invasion that threatens the entire planet.\",\n",
       " 'Title: The Dark Knight. Description: Batman faces off against the Joker, a criminal mastermind who threatens to plunge Gotham into chaos.',\n",
       " \"Title: The Incredibles. Description: A family of undercover superheroes, while trying to live the quiet suburban life, are forced into action to save the world. Bob Parr (Mr. Incredible) and his wife Helen (Elastigirl) were among the world's greatest crime fighters, but now they must assume civilian identities and retreat to the suburbs to live a 'normal' life with their three children. However, the family's desire to help the world pulls them back into action when they face a new and dangerous enemy.\",\n",
       " \"Title: The Lego Movie. Description: An ordinary Lego construction worker, thought to be the prophesied 'Special', is recruited to join a quest to stop an evil tyrant from gluing the Lego universe into eternal stasis.\",\n",
       " 'Title: The Princess Diaries. Description: Mia Thermopolis has just found out that she is the heir apparent to the throne of Genovia. With her friends Lilly and Michael Moscovitz in tow, she tries to navigate through the rest of her sixteenth year.',\n",
       " \"Title: Toy Story. Description: Woody, a good-hearted cowboy doll who belongs to a young boy named Andy, sees his position as Andy's favorite toy jeopardized when his parents buy him a Buzz Lightyear action figure. Even worse, the arrogant Buzz thinks he's a real spaceman on a mission to return to his home planet.\"}"
      ]
     },
     "execution_count": 240,
     "metadata": {},
     "output_type": "execute_result"
    }
   ],
   "source": [
    "from redisvl.utils.rerank import HFCrossEncoderReranker\n",
    "\n",
    "# Load the ms marco MiniLM cross encoder model from huggingface\n",
    "reranker = HFCrossEncoderReranker(\"cross-encoder/ms-marco-MiniLM-L-6-v2\")\n",
    "\n",
    "# Assemble the set of potentiel movie candidates from search results\n",
    "movie_candidates = set(\n",
    "    [f\"Title: {movie['title']}. Description: {movie['description']}\" for movie in vector_query_results] +\n",
    "    [f\"Title: {movie['title']}. Description: {movie['description']}\" for movie in full_text_query_results]\n",
    ")\n",
    "movie_candidates"
   ]
  },
  {
   "cell_type": "code",
   "execution_count": 249,
   "metadata": {},
   "outputs": [],
   "source": [
    "# Let the reranker do it's thing\n",
    "def rerank(query: str, candidates: set, limit: int = 5) -> list:\n",
    "    \"\"\"Rerank the candidates based on the user query with an external model/module.\"\"\"\n",
    "    return reranker.rank(\n",
    "        query=query,\n",
    "        docs=[candidate for candidate in candidates],\n",
    "        limit=limit,\n",
    "        return_score=False\n",
    "    )"
   ]
  },
  {
   "cell_type": "code",
   "execution_count": 248,
   "metadata": {},
   "outputs": [
    {
     "data": {
      "text/plain": [
       "[{'content': \"Title: The Incredibles. Description: A family of undercover superheroes, while trying to live the quiet suburban life, are forced into action to save the world. Bob Parr (Mr. Incredible) and his wife Helen (Elastigirl) were among the world's greatest crime fighters, but now they must assume civilian identities and retreat to the suburbs to live a 'normal' life with their three children. However, the family's desire to help the world pulls them back into action when they face a new and dangerous enemy.\"},\n",
       " {'content': 'Title: The Dark Knight. Description: Batman faces off against the Joker, a criminal mastermind who threatens to plunge Gotham into chaos.'},\n",
       " {'content': 'Title: Explosive Pursuit. Description: A daring cop chases a notorious criminal across the city in a high-stakes game of cat and mouse.'},\n",
       " {'content': \"Title: The Avengers. Description: Earth's mightiest heroes come together to stop an alien invasion that threatens the entire planet.\"},\n",
       " {'content': \"Title: Mad Max: Fury Road. Description: In a post-apocalyptic wasteland, Max teams up with Furiosa to escape a tyrant's clutches and find freedom.\"}]"
      ]
     },
     "execution_count": 248,
     "metadata": {},
     "output_type": "execute_result"
    }
   ],
   "source": [
    "rerank(user_query, movie_candidates)"
   ]
  },
  {
   "cell_type": "markdown",
   "metadata": {},
   "source": [
    "# Wrap up\n",
    "That's a wrap! Hopefully from this you were able to learn:\n",
    "- How to implement simple vector search queries in Redis\n",
    "- How to implement vector search queries with full-text filters\n",
    "- How to implement hybrid search queries using the Redis aggregation API\n",
    "- How to perform client-side fusion and reranking techniques"
   ]
  }
 ],
 "metadata": {
  "kernelspec": {
   "display_name": "Python 3",
   "language": "python",
   "name": "python3"
  },
  "language_info": {
   "codemirror_mode": {
    "name": "ipython",
    "version": 3
   },
   "file_extension": ".py",
   "mimetype": "text/x-python",
   "name": "python",
   "nbconvert_exporter": "python",
   "pygments_lexer": "ipython3",
   "version": "3.11.10"
  }
 },
 "nbformat": 4,
 "nbformat_minor": 2
}
