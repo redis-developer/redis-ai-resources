{
 "cells": [
  {
   "cell_type": "markdown",
   "metadata": {},
   "source": [
    "![Redis](https://redis.io/wp-content/uploads/2024/04/Logotype.svg?auto=webp&quality=85,75&width=120)\n",
    "# Implementing hybrid search with Redis\n",
    "\n",
    "Hybrid search is all about combining lexical search with semantic vector search to improve result relevancy. This notebook will cover 3 different hybrid search strategies with Redis:\n",
    "\n",
    "1. Linear combination of scores from lexical search (BM25) and vector search (Cosine Distance) with the HybridQuery class\n",
    "2. Client-Side Reciprocal Rank Fusion (RRF)\n",
    "3. Client-Side Reranking with a cross encoder model\n",
    "\n",
    ">Note: Additional work is planed within the Redis core and ecosystem to add more flexible hybrid search capabilities in the future.\n",
    "\n",
    "## Let's Begin!\n",
    "<a href=\"https://colab.research.google.com/github/redis-developer/redis-ai-resources/blob/main/python-recipes/vector-search/02_hybrid_search.ipynb\" target=\"_parent\"><img src=\"https://colab.research.google.com/assets/colab-badge.svg\" alt=\"Open In Colab\"/></a>\n"
   ]
  },
  {
   "cell_type": "markdown",
   "metadata": {},
   "source": [
    "### Install Packages"
   ]
  },
  {
   "cell_type": "code",
   "execution_count": null,
   "metadata": {},
   "outputs": [],
   "source": [
    "%pip install -q \"redisvl>=0.5.0\" sentence-transformers pandas \"redis>=5.2.0\""
   ]
  },
  {
   "cell_type": "markdown",
   "metadata": {},
   "source": [
    "### Data/Index Preparation\n",
    " \n",
    "In this section:\n",
    "\n",
    "1. We prepare the data necessary for our hybrid search implementations by loading a collection of movies. Each movie object contains the following attributes:\n",
    "    - `title`\n",
    "    - `rating`\n",
    "    - `description`\n",
    "    - `genre`\n",
    " \n",
    "2. We generate vector embeddings from the movie descriptions. This allows users to perform searches that not only rely on exact matches but also on semantic relevance, helping them find movies that align closely with their interests.\n",
    "\n",
    "3. After preparing the data, we populate a search index with these movie records, enabling efficient querying based on both lexical and vector-based search techniques."
   ]
  },
  {
   "cell_type": "markdown",
   "metadata": {},
   "source": [
    "Running remotely or in collab? Run this cell to download the necessary dataset."
   ]
  },
  {
   "cell_type": "code",
   "execution_count": null,
   "metadata": {},
   "outputs": [],
   "source": [
    "# NBVAL_SKIP\n",
    "!git clone https://github.com/redis-developer/redis-ai-resources.git temp_repo\n",
    "!mv temp_repo/python-recipes/vector-search/resources .\n",
    "!rm -rf temp_repo"
   ]
  },
  {
   "cell_type": "markdown",
   "metadata": {},
   "source": [
    "### Install Redis Stack\n",
    "\n",
    "Later in this tutorial, Redis will be used to store, index, and query vector\n",
    "embeddings and full text fields. **We need to have a Redis\n",
    "instance available.**\n",
    "\n",
    "#### Local Redis\n",
    "Use the shell script below to download, extract, and install [Redis Stack](https://redis.io/docs/getting-started/install-stack/) directly from the Redis package archive."
   ]
  },
  {
   "cell_type": "code",
   "execution_count": null,
   "metadata": {},
   "outputs": [],
   "source": [
    "# NBVAL_SKIP\n",
    "%%sh\n",
    "curl -fsSL https://packages.redis.io/gpg | sudo gpg --dearmor -o /usr/share/keyrings/redis-archive-keyring.gpg\n",
    "echo \"deb [signed-by=/usr/share/keyrings/redis-archive-keyring.gpg] https://packages.redis.io/deb $(lsb_release -cs) main\" | sudo tee /etc/apt/sources.list.d/redis.list\n",
    "sudo apt-get update  > /dev/null 2>&1\n",
    "sudo apt-get install redis-stack-server  > /dev/null 2>&1\n",
    "redis-stack-server --daemonize yes"
   ]
  },
  {
   "cell_type": "markdown",
   "metadata": {},
   "source": [
    "#### Alternative Redis Access (Cloud, Docker, other)\n",
    "There are many ways to get the necessary redis-stack instance running\n",
    "1. On cloud, deploy a [FREE instance of Redis in the cloud](https://redis.com/try-free/). Or, if you have your\n",
    "own version of Redis Enterprise running, that works too!\n",
    "2. Per OS, [see the docs](https://redis.io/docs/latest/operate/oss_and_stack/install/install-stack/)\n",
    "3. With docker: `docker run -d --name redis-stack-server -p 6379:6379 redis/redis-stack-server:latest`"
   ]
  },
  {
   "cell_type": "markdown",
   "metadata": {},
   "source": [
    "### Define the Redis Connection URL\n",
    "\n",
    "By default this notebook connects to the local instance of Redis Stack. **If you have your own Redis Enterprise instance** - replace REDIS_PASSWORD, REDIS_HOST and REDIS_PORT values with your own."
   ]
  },
  {
   "cell_type": "code",
   "execution_count": 1,
   "metadata": {},
   "outputs": [],
   "source": [
    "import os\n",
    "import warnings\n",
    "\n",
    "warnings.filterwarnings('ignore')\n",
    "\n",
    "# Replace values below with your own if using Redis Cloud instance\n",
    "REDIS_HOST = os.getenv(\"REDIS_HOST\", \"localhost\") # ex: \"redis-18374.c253.us-central1-1.gce.cloud.redislabs.com\"\n",
    "REDIS_PORT = os.getenv(\"REDIS_PORT\", \"6379\")      # ex: 18374\n",
    "REDIS_PASSWORD = os.getenv(\"REDIS_PASSWORD\", \"\")  # ex: \"1TNxTEdYRDgIDKM2gDfasupCADXXXX\"\n",
    "\n",
    "# If SSL is enabled on the endpoint, use rediss:// as the URL prefix\n",
    "REDIS_URL = f\"redis://:{REDIS_PASSWORD}@{REDIS_HOST}:{REDIS_PORT}\""
   ]
  },
  {
   "cell_type": "markdown",
   "metadata": {},
   "source": [
    "### Create redis client, load data, generate embeddings"
   ]
  },
  {
   "cell_type": "code",
   "execution_count": 2,
   "metadata": {},
   "outputs": [],
   "source": [
    "from redis import Redis\n",
    "\n",
    "client = Redis.from_url(REDIS_URL)"
   ]
  },
  {
   "cell_type": "code",
   "execution_count": 3,
   "metadata": {},
   "outputs": [],
   "source": [
    "import json\n",
    "\n",
    "with open(\"resources/movies.json\", 'r') as file:\n",
    "    movies = json.load(file)"
   ]
  },
  {
   "cell_type": "code",
   "execution_count": 4,
   "metadata": {},
   "outputs": [],
   "source": [
    "from redisvl.utils.vectorize import HFTextVectorizer\n",
    "\n",
    "# load model for embedding our movie descriptions\n",
    "model = HFTextVectorizer('sentence-transformers/all-MiniLM-L6-v2')"
   ]
  },
  {
   "cell_type": "code",
   "execution_count": 5,
   "metadata": {},
   "outputs": [],
   "source": [
    "movie_data = [\n",
    "    {\n",
    "        **movie,\n",
    "        \"description_vector\": model.embed(movie[\"description\"], as_buffer=True, dtype=\"float32\")\n",
    "    } for movie in movies\n",
    "]"
   ]
  },
  {
   "cell_type": "code",
   "execution_count": 6,
   "metadata": {},
   "outputs": [
    {
     "data": {
      "text/plain": [
       "[{'title': 'Explosive Pursuit',\n",
       "  'genre': 'action',\n",
       "  'rating': 7,\n",
       "  'description': 'A daring cop chases a notorious criminal across the city in a high-stakes game of cat and mouse.',\n",
       "  'description_vector': b'\\x8ff|=Ja\\n;\\xff\\x91\\xb7;8\\xcb~\\xbd|e\\xce\\xbb\\xc9\\x16J=L\\xa7?=\\xe2v\\x95<d\\xfa\\x06\\xbe\\x1aY\\xcf=9\\x07p==\\xdb\\r\\xbd\\x94\\xf2H\\xbd\\x84e\\xc6<;\\xdfa={8\\x16\\xbc\\x08\\xd4\\x13<E\\xaa\\x1c=\\xfe\\xee\\x89<\\xd1\\xb0-<\\xb0\\xb2\\x9f\\xbc]\\x0b\\xc3\\xbd\\x96NR=xl\\xf7\\xbcM>\\x17\\xbe\\x9b\\x0c\\x05\\xb9-u\\xbf<\\xf9\\xe3b\\xba\\xd5\\xa6\\xa8\\xbd~\\xdc\\xec\\xbcPc%=\\xc7\\xe7r\\xbb\"OG=;(\\x85=q@\\xa2\\xbc2Z\\xd0\\xbdN%K\\xbd\\xda\\xed\\x94\\xbcV\\xddH=\\xbe&F<\\xc8*\\xec<\\x92\\xd8\\x8d\\xbd\\xddZ\\x98<\\x0c\\xa3\\xa3=Jg3\\xbd$\\xcd\\xbd\\xbd\\xc2$\\xf7;\\xff\\xf4z=\\xfc\\xb4\\x8c=\\x8a\\x0e\\xc6\\xbdkI\\x90\\xbdF\\x16\\xbd;x\\xe7\\x0c\\xbd%3\\xc9\\xbc\\x85\\xf8\\xbb\\xbc\\x03\\'u\\xbb=\\x8f\\xca<\\xf7\\x7fJ=\\x08\\xaf*=\\x89OU\\xbd\\xe5\\xf0\\x95\\xbc#\\x02\\x19=\\xe0\\xf3K<\\xd1\\xc2\\t=L\\x83\\xac=\\x9d\\xd7\\xb8\\xbd\\xea\\xb5\\x9c\\xbd=\\x85\\x18=\\x93d&=03\\xf8<\\xef\\xf7\\x88<Qv\\xf2\\xbb+=[\\xbd\\xad\\xac\\xee\\xbb;:A\\xbd\\xe4d\\x19\\xbdcd\\xf2\\xbb}\\xbax;\\xee;O<\\x042,\\xbc\\xee\\xae\\xae=t\\x00-\\xbc\\x18\\x06\\xae\\xbdi\\xd6\\x1a=\\xc8\\xbf\\xcd=&\\x150=\\x00\\xf2\\x9d\\xbc\\xa5GK=\\xb0\\xb8 =\\xaa\\xf1I\\xbd\\xb0e\\x9e\\xbb\\xa4\\x8a\\xf7:\\x8d\\xf8\\x1c=\\xa4\\xba\\xde<%p\\x16\\xbb\\x0b^p\\xbb\\xc5\\xd5<<\\xed\\xa4\\xa3\\xb8\\xaf9s<\\x0c4&<\\x80\\x1c\\x18<\\x14\\xd9-\\xbd\\xda\\xe6\\x98<\\x10\\xa1N=\\x9e/\\xa5=!\\xf3\\xdd<QL\\x13<I\\x11\\xce\\xba`\\x9e\\xdc\\xbc\\xb28\\x05=\\xfe\\xa0\\xf5<)\\xd8R\\xbc\\x1a\\x94-\\xbcF\\xe1\\\\9\\xa41\\xec=d\\xf5V=<G\\xd6\\xbc\\x97\"S=\\xc8\\xd9^\\xbd\\xb6\\xa3\\x91<\\x05\\xda\\x13<\\x1d\\xb3y\\xbb\\x82\\x8d/\\xbd\\xd2\\x06p<\\xf9\\x94\\x88\\xbb\\xb5\\xd0\\x9d<I\\x02\\xb6= \\xf1\\xad\\x89\\xd5\\xf1\\xa6\\xbb\\xbd\\xfbe\\xbd\\x9fQK\\xbb\\x14\\x10\\x90\\xbb1t\\xb9\\xbb\\xb0\\xc8\\xb9\\xbb\\xfehk=\\x90\\r\\xad<:f\\xa8\\xbd\\xbe]\\xcc=\\x1c\\xe0 \\xbe\\xc94/\\xbd\\x82f\\xf7\\xbcQ\\x9av=\\x08\\x0cq<4\\xda\\x1c\\xbd\\x06\\t\\x8b<\\xf0n\\xa6\\xbc\\xd0t\\x86<\\x7f\\x87\\x19=a\\xae\\xe4\\xbc%m^\\xbc\\x1bV\\x0e\\xbdo\\xb0\\xe3\\xbc_FU;\\xbbG|\\xbd^\\xfb\\x8b\\xbd~\\x81*\\xbdz\\x83\\xf4=\\x81\\xb7\\x10;\\r!\\x0e\\xbd\\xf6\\xd3\\xb4=\\x19&\\x15\\xbdV\\x86\\x83=O$:<\\x1d\\xea\\xa1<\\x1b\\x08\\x8d\\xbd\\xa1\\x00i\\xbdP\\x01\\xdd<\\x07\\x87\\xd6=/\\x98\\x9c\\xbd`|!\\xbd+\\x1e\\xc5\\xb9\\xbe\\xb3\\x93\\xbc\\xee\\xcb>\\xbd\\x81\\x1bF\\xbd\\xa1?\\x14\\xbe\\xc4\\x8f(\\xbd\\xe6O\\x89\\xbd\\x0b\\xae\\xd4<\\xab\\x12\\xc3=\\xaa\\x05O\\xbda\\x8ep\\xbc\\x1e\\xb5\\xac\\xbc\\xcc\\x9ee\\xbd\"\\x8es;La\\xc1;\\xdc\\xfaB\\xbd\\xa3\"\\xfe:\\x94\\xe6\\xf4=\\xb8\\x15*<\\x88\\xf8\\x1b=\\xfe\\xfbV\\xbd\\xda\\xd1\\r=1\\xee\\x06=\\x17u\\xba\\xbd\\x1c\\xa4\\xd6<\\\\\\xec\\xd9;\\xc39/=\\xa8\\xc2\\x85=p\\x0b\"=\\xe7i\\xef<;\\xe8c=\\xfa2\\x08\\xbe\\xd6\\x12;=\\x91UW;D\\xa4b<\\xde\\x9d\\xb7<\\x8er;\\xbdbz\\x91\\xbcT\\x00<\\xbd\\t\\x1a\\xa3<\\xeaJ%\\xbc\\'\\xe7\\xbf\\xbbu\\x87\\x12=\\x9a\\x1d\\x95=y|\\xfd\\xbc\\xf2\\xf1\\xd1\\xbd:z\\x84;\\xcb\\tu=0\\x8ai<B\\x91R\\xbd\\xdf\\xf3m\\xbd\\x85\\xb83=Z\\xedF=-\\xf3\\xd1\\x08rA\\xba<\\x1d\\xacO\\xbd2\\x0f\\xc7;\\x7f\\xf4\\x04\\xbdL\\x82\\x92\\xbd\\x9e\\xddD=a\\xd8;\\xbc\\xe6;\\xf4\\xbc\\xbc\\x8f\\x97\\xbd0\\\\\\r\\xbd\\xe8\\x8c\\xf5\\xbd\\xa1\\x13(=\\xa4\\xc8\\xc6=\\xb3\\xed\\x1a=\\x9c\\xa8\\xf8=\\xa0\\xc1\\xee\\xbck.\\x18\\xbb\\xa9~;<\\xc3F\\t\\xbd\\x0c\\x08\\x17=\\xa6\\xa5\\x1e=\\x19K\\xcb\\xbd3\\xf7\\x8c\\xbd3b\\xed\\xbb\\xdf[\\x19\\xbc+\\x0c\\x13\\xbcdq\\x83=\\xebwd\\xbd\\xb1\\xc7\\xd1\\xbbalY\\xbc\\xa6|a=S\\xcf\\xfd\\xbc&\\xa5\\x83\\xbb\\x96O\\x19\\xbd+\\x02]\\xbd\\xbb\\xeaz=\\xff5\\x9c=5^\\xa9\\xbd\\x93^9\\xbch\\xe4N\\xbcq\\x07x\\xbd\\x12{\\xa0=8\\x9f\\x96<\\x9dq8\\xba\\xa0\\xbb=\\xbd\\x04}(<x\\xdf\\xb4\\xbbv\\xc9\\x0b\\xbd\\xc4\\x01\\x95\\xbd\\xfd\\xc6T=\\xfbo\\xd1<o3\\'\\xbd\\xc4\\x00H<\\x85\\x0f\\xb8<.U}\\xbdz}\\x01=\\xfd\\xc9[\\xbd\\x01\\xed\\x03<\\xf5b\\x0f\\xbd\\xc1\\x8e\\xe7\\xbc\\xef\\x16\\xc8<\\xb4\\x08\\x9c=\\xff\\xd4\\xa6\\xbdFQ\\xe5=o-O<\\xe8\\xf22=\\xc826\\xbd\\xfc\\xe2\\xf2\\xbc\\t[\\xa7<o\\xb2\\x02\\xbe\\xfdn2\\xbd\\xb0\\x80\\x8a=\\xfe\\xc3\\t\\xbd\"\\xb8\\xcd\\xbc!\\xdb\\xad\\xbbv\\xfd\\xde\\xbc\\x16\\x17E=\\x82\\x06\\xbd=\\x16&m=\\x12X\\x8e=\\xe8\\xae\\xa4=_\\xa3\\xca\\xbbq?\\r\\xbc\\xd89\\x9c<Hl\\x8e\\xbd:\\x10k=\\xb2\\xff\\xbe;{\\x16\\xff<x8\\x92<\\x862\\x8c;P\\xac\\xa3=\\xdd+v<\\x81\\x89\\xf0\\xbb\\xac\\xdb\\x07\\xbc|\\xae\\xbd\\xbc\\xb3\\x8f\\xb4\\xb2\\xae\\x88\\xd3\\xbd\\x8a\\xe9j=\\xe5\\xdb\\xa7\\xbd\\xe6\\x16\\xe5<A\\x19p=\\xf9\\xe6\\x9f=\\xe4Gh\\xbd\\xeb\\x9a\\xf4\\xbdF\\xd6\\x07\\xbc@\\xddj<)tw=\\x87\\xd0\\xe1<\\xcc\\xae\\x1e=\\xe3F\\xc4<\\xc70\\n<\\x1fjd\\xbc\\xb0\\xfa\\x8c=\\xcf\\x8a\\xa6\\xbc\\x9b.\\xcd\\xba\\xb3p\\xcf=\\x1aT-\\xbd\\xc7Qn=@\\x16\\x9f\\xbd\\x89\\x8a_=%\\x13#<\\x97\\xaam;(\\x86\\x00\\xbe\\xe5y\\x8b\\xbc`UG=\\x9c\\xa3\\xca=\\xd2\\xbdq\\xbc\\x97\\xe3:\\xbd\\xb1\\x93]<Q]\\xd1;\\xc7d\\xae=\\xa2\\x1f\\x03\\xbd\\x04L\\x89=r:s\\xbd\\xae\\x1eb=X\\xc9\\t\\xbb\\x98\\xfb\\xe7<y\\xce\\xe4\\xbcLV#=t\\x8bk\\xbd\\xcfh\\x01<\\xf3\\xe5N\\xbdR\\x0c\\xb1\\xbch\\x01J\\xbdh\\xf4~=D\\xe3Z\\xbdf/\\xf1\\xbbN98=\\xc42T\\xbc&\\'\\x81<\\xd2\\xa0M=\\xb6\\xde\\x05<\\x18I|\\xbd\\xe8\\x98w<\\xdc\\xd3\\xa7\\xbd\\xcbS \\xbdq\\x13\\x07=\\x1b&\\x14\\xbc\\xabv\\xe9<\\xfe,\\x97='},\n",
       " {'title': 'Skyfall',\n",
       "  'genre': 'action',\n",
       "  'rating': 8,\n",
       "  'description': 'James Bond returns to track down a dangerous new enemy who threatens global security.',\n",
       "  'description_vector': b'\\x99D\\x9e\\xbd3\\x9b\\x89\\xbc\\xe2\\x16\\x95\\xbc\\xb3\\x0fT\\xbc\\xa6/g=M\\x8d\\x13\\xbc\\x93\\x84$=~\\x07/\\xbc\\xc5\\xa64<\\xab\\xf3\\xc1<\\xe3\\xd4\\xba;\\xe8\\xc2\\xcb<\\x10C3\\xbd\\x7f\\x82\\x92=AG\\x96\\xbd*\\xe8\\x1b\\xbd;\\xed\\x8c=\\xce\\xe5\\x1b=\\xdd\\x86\\x05<\\x1f\\xc0\\xe6<\\xe7Q2=\\xfe0\\xb5<\\x9e\\xd7\\xb6<\\xbd\\x08\\xdd\\xbc\\xc7\\x07\\xc5\\xbd\\x98;\\x12=\\xac\\xab`=\\xfb\\xf2?\\xbd\\xd7\\xbe\\xb0\\xbd\\x12\\x15\\xa2\\xbb\\x10\\xda\\x12=\\xf3\\x0b-\\xbd\\x9f\\x03\\xe5;\\x14\\xa2\\x9e<1\\xd2\\x0b=\\xe1*h;\\xe2\\x80\\xf7<\\xbc\\x00\\x19\\xbd\\xbd\\x94\\x85=\\x98y%\\xbd\\x18px\\xbd\\xc6I:=\\x1b\\x8e\\xe8<WJ\\xc1=\\xe1\\xa6\\x08=\\xc6\\xbf7\\xbd(\\xbeE\\xbd^?V\\xbc\\xfb\\xabk=>,\\xa1\\xbd)\\xb9\\x98=\\xe4\\xd4Y\\xbb @\\x00\\xbdI>\\x85<\\xaf9,=!\\xf6\\xdf\\xba\\xa1\\x14:\\xbd>9\\x08\\xbd\\x11\\x0c\\xbe\\xbcU\\xb9\\x9a<\\xc1_6=\\x1bUb\\xbd\\xab\\xb7#=\\xe7\\xee\\xa2\\xbaa\\x95\\xe1\\xbc\\xf0\\xefX=\\x90u\\x11=1\\xd86=\\xc0\\x06\\x9f\\xbc\\x1f\\xe5\\xf0<%\\x15t=\\'\\xaf\\xd0\\xbbnK-=\\xd8H\\x11\\xbd\\xbf\\x036=\\x08\\x16\\xd8<,x\\xfd\\xbcM\\x10\\x9b=\\xf9\\xdf_\\xbc\\xba\\xff\\x03\\xbd\\x02E\\xaa=\\xbf\\xab\\x0b\\xbd\\x1b$\\xe6\\xbc6\\x0cr=v\\xbc\\x99=\\xa9\\xae\\xa6<%\\x9b$\\xbd\\x9ey\\x06\\xbd\\xe3\\xcf\\xde=\\xefX\\x8f=_%\\r\\xbd\\xf3y\\x0e\\xbc=\\xe0\\t<*\\tI=\\x06x\\x10\\xbd\\x04\\xd5;\\xbdo\\x0f\\xd9<\\x07\\xe9\\x93\\xbb\\\\\\xdf\\xba\\xbdg c=O\\x9b\\x97;Du\\xe0\\xbc\\x9c\\x10\\x9e\\xbdn\\xf4~=a\\x9eh<3\\x080;(\\x9br=\\x18E\\xe8:}\\xd8\\xa6\\xbb\\xbea2\\xbd\\x16\\xccg\\xbb\\xf5\\xe9\\x00=*\\xc4\\x85;\\xee\\xf7g\\xbd\\x11\\xb2\\xdc=O\\xca\\x83\\xbd\\xa7R\\x8b\\xbc\\x8fF2=\\r\\xe4\\x9b\\xbd\\x1b\\xbb\\x91=\\xc7=^<\\xc5\\x92\\x06=,@\\x90\\xbdw<\\xf5;\\xb7\\xc6\\xdc\\xbcJ\\xd8\\x19=$b\\x0b\\xbd\\xafb\\xfa\\x88\\xe1x\\xef\\xbb\\x84\\xe0\\xc6;a\\x08~=\\xdd/&\\xbdS\\x87\\x93\\xbd\\x8e(\\xe7\\xbc\\xad&\\x08\\xbd\\xe3\\x86\\xb1= \\xd8p\\xbco\\xb4\\xa2<\\xc6\\xdd|\\xbd\\xcc\\xe5\\x83\\xbc\\xef\\x94\\x94<G\\x0c\\x81=`d\\t\\xbc\\xc6\\r\\xab;-\\xe8T=\\xee\\x83\\xd8=\\x9b\\x97\\xad=\\x1fc[\\xbc\\xa3\\x96\\xfc\\xbd\\xcbe\\xf1;\\xb1\\x8e==\\x88\\xee\\xa2\\xbc\\x1b\\xb8\\x0e=\\xe2\\x12X=9\\xa7R<+h\\xa6<[\\xb1)=\\x8dW\\xd0<\\xd6\\xe1\\x83\\xbd*q\\xfb;\\xaeF\\xa0:\\x04\\xda\\x9f\\xbb\\xaau\\xc0\\xbb\\xf0\\xb2\\x82=`9\\x94\\xbdq1\\xd8\\xbbj\\xe6\\x93\\xbc\\xbe\\xb1\\x14\\xbd\\xb3\\x1f/<\\xba?k=\\xee0\\xe2\\xbd\\x84\\x8f\\x0f\\xb9k\\xfe\\x80<\\xe2\\xa3\\xca\\xbda>\\xaf<5\\x8c\\x83\\xbb\\x17\\x1e\\x17\\xbd~L*\\xbdr\\x08m\\xbc\\x81\\\\\\x989F\\xf9\\xc2\\xbd\\xfef\\x11=\\xd5\\xdc\\xd7\\xbd\\xd2\\xfax<\\xa2\\xc0\\xa9;}\\xd6\\xc8\\xbb?1I\\xbd\\xfe~\\x0c\\xbd\\xc3P\\xb8\\xba\\x0e\\x14\\xf1\\xbc\\xa5\\xf2\\xca\\xbd\\xbcuA\\xbc\\xab\\xf8<;\\x11\\x0e\\x9d\\xbbr\\xd1r\\xbd$\\xc4}\\xbc\\xc0\\xc0\\xe5\\xbd\\n\\x18\\xf4=\\xa8Tp\\xbd\\rgC<\\xd6:\\x16\\xbd\\xb3{\\x19\\xbb\\xfa.\\xbf<\\xd6$5=CGl=7\\xbd\\\\=tGE\\xbc\\xb2\\xb8\\x85\\xbd\\xd8\\xd8Y\\xbd+\\xfb\\xff;3\\r\\x88=\\x97\\xe1\\xab=\\x84{@\\xbd$O\\xc6\\xbb\\xa3$o=\\x12#\\xf4\\xbde\\x98\\xde=\\x97~0>\\x90 \\x98\\xbc|\\xd9\\x03\\xbe\\xb0k\\x8a\\xbd\\xabl/=\\xd0ul\\xbd\\x9c\\xfa\\xd5\\x07\\xd6\\xe9\\xcd\\xbc\\xec\\x17>\\xbdE\\xc0\\x83\\xbc:\\x1bY\\xbd=\\xd8\\x94\\xbd\\x9b/\\x1d\\xbc5M\\x07\\xbeN\\xdd\\x8f=H\\x08\\xc1\\xbcq\\xe6N<o\\x9dk\\xbd\\x96\\xd9\\x19<\\xee\\x80\\xc3=s\\xe7\\xea<6\\x0e0<\\x8a\\x02 =\\x14\\x1a\\xda\\xbc\\xb5\\xcc\\xe0<\\xb4{\\xa0=\\x0e\\x01|;\\x01\\xd7\\xc2=\\x9e\\x88\\x89\\xbd!\\x0e\\xa4<\\x87\\xa9\\x95\\xbcML\\x90;\\x992\\x98=(\\xc4\\x86<\\xca\\x0bs=\\x01-\\xff\\xbb|\\xa8\\xa9\\xbc\\xe0\\xf8\\x95\\xbc\\xc5\\x9bc\\xbd0\\xad\\xee;#\\xb2\\xf5</f|\\xbd\\xb9\\x98\\x0c>7\\x8f\\x7f<\\xd4E\\xb5\\xbd\\x0fF\\x05=l@/=\\x94\\xad1\\xbd%\\xb1\\x8a=\\xfat\\x04\\xbc\\x91I \\xbd8\\x8b\\x9b\\xbd\\xb0F\\xc4<~\\x0b\\xae<\\xe7\\x9eA>\\xcf\\xf7\\xf7;D\\xa6\\x05\\xbd\\x88u\\xe8<\\xac\\x88N=\\xaa\\x13\\x07\\xbd\\xed_`\\xbdV\\xc7\\x99\\xbd\\xdf\\x92\\xb9<^k9\\xbdD\\x0e\\x9f\\xbc\\x08\\x81\\xbb<Y\\xaa\\x9e<\\xc0\\x88Q;\\xbc\\xddJ\\xbcf\\'%\\xbd\\xa8\\x93\\x84=\\xe6\\x85\\x07\\xbc\\xca\\x12^\\xbd\\x9e\\x94\\xa2\\xbc\\x01\\x02\\x95=\\xcb\\x16\\xa4<\\xd6<\\xf0\\xbcE\\xd8\\x83\\xbb\\xbbX?<4Pm\\xbce\\xb2\\x96\\xbb\\x06\\xbb\\xc3<}\\xcb\"\\xbdN\\xf2\\xd1\\xbd\\x06M\\x14\\xbe\\xad+\\x91\\xbd\\xda\\xd7Y=\\x85\\x016=\\x7f\\x97\\xb4\\xbc\\xcb\\xf3\\xf0:\\xd3\\xb3c\\xbc\\xc1z\\x1f=\\xa9i\\x18=\\x07\\xacN=8\\x8a\\x1b=\\x0f\\xb3\\xa7\\xbcvT\\xe0\\xbb\\xfa\\xc1\\x97\\xbc.Q\\x8b;r\\x1f\\xbd\\xbd0b\\x8c=`\\xd7\\xbc<|a\\xab\\xb29eF\\xbd\\xfb\\xf2\\r=5\\xecN=\\xf0\\xff\\x9d\\xba\\xf9\\xbc\\x82\\xbb\\x1c2\\xf3;u\\x8a&\\xbd\\x96[\\xd4\\xbc4X\\x19<\\xc6]\\xdc\\xbd:\\x9a\\'=\\xc5\\nR\\xbd\\x85d\\x05\\xbc\\xcc\\xab\\x8b:k\\x00\\x03\\xbd3Lc<\\xff3\\xd0;\\xda~\\x05\\xbe\\xaa\\xd8\\x08\\xbdx\\x9d\\xf0;\\xfd\\x81\\x13\\xbc\\xf1&:<\\xed\\xcf\\xf9<\"0\\xdb\\xbc\\xfd\\xd7\\x84=\\x1d~C\\xbd6\\x18\\xf6;\\xf6G4=\\xcd\\x11\\x81<\\xbb2\\xed=\\xceZ9=\\x9b\\xb5I\\xba\\x81D1=t\\xc3\\x02=\\x9f~\\x81\\xbc\\xe9\\xe1m=\\x15\\x8a\\xee\\xbcn\\xe0\\x07<\\x04\\xcd\\xc0=\\xa7P\\xb5=\\x0b\\xe3\\x1a\\xbdE\\x17|=d\\xf5\\x82\\xbd]\\xae\\x91=\\x06\\xfcB\\xbd\\xfb\\x85z\\xbde\\xb6L=\\x9a:\\xf7\\xbaA\\xd8)=\\x1cG\\xe1\\xbd\\xf2n\\x18<\\xa7em\\xbd\\xcc\\x9a8\\xbdc\\nL=X\\xbd8=e\\xe1\\xe1<I\\xa0-\\xbb\\xa3v\\xab<\\tE(\\xbc\\xca\\xfcy<\\x10y\\x96\\xbd\\xab\\t\\xbf\\xbd1u\\xf8:\\x92\\x1b:='},\n",
       " {'title': 'Fast & Furious 9',\n",
       "  'genre': 'action',\n",
       "  'rating': 6,\n",
       "  'description': 'Dom and his crew face off against a high-tech enemy with advanced weapons and technology.',\n",
       "  'description_vector': b'\\x1a\\xa5\\xc7\\xbc\\xfc,\\xa2=V\\x19H\\xbcD\\xc6t\\xbd\\xa7\\xa2C=&\\x0f\\x18\\xbc\\xbaKz=\\xe1\\x13\\xa0=\\xe5\\xe1\\x8c\\xbd\\xc3\\x84&=iZ\\x07=\\xb3\\xa8M\\xbc\\xb2\\xfaq=]\\x8b\\xe3\\xbc\\xd6\\xa3A\\xbd(\\'\\x13\\xbd\\xf8\\x83\\x8a=e\\x9e\\xdd;F&s=y0l<\\xfaS\\x03\\xbc\\x05\\xf1:\\xbc\\xe5\\x07\\x14=l\\r\\x03\\xbd\\xab\\x18\\xb6\\xbd\\xbe\\xf0\\xbf=b(\\xae=8t\\x91\\xbd\\xd4\\x96n\\xbc\\xcf>\\xbb\\xbc\\xb0\\x87\\t=\\\\\\xc0\\xda\\xbc\\x8f\\xf6@\\xbci\\xcd\\'\\xbci\\x9a\\x10\\xbe\\xff\\x97\\xaf=\\x91\\x8f\\xd1\\xbc\\x18\\xa4C=\\x1a\\xee)\\xbc\\x81g\\x9d\\xbcf6\\x98\\xbd\\x00\\x01\\x8a\\xbd\\x80l\\x15<\\xe4l\\x15;\\x8a\\x97 =\\xc5\\r\\x98\\xbd\\xbeL\\x89\\xbc\\x14;\\xc3\\xbdA\\xaf\\x9b=q\\x04\\xd0\\xbb\\xe0S\\x03\\xbd^\\x99\\xbe\\xbd\\x84\\x02[=p/D\\xbc\\xa7\\xab>=?\\x19\\x03\\xbd\\xfd\\xba\\xd5<\\x0b\\x8b\\xa2\\xbc\\x85K\\x8a=\\x15(h<\\x8a\\xe2\\n\\xbdX\\xd4\\xcd<\\x0c?9\\xbcY\\x1eh=\\xd5\\xa8a=\\xd1\\xcd\\xbf\\xbb9\\x00;=mK\\x9e=\\x98\\x84\\x97\\xbd|\\x82\\xb3=\\xaa\\xd8\\xb8;\\xfd\\xa6j<\\x8f\\xdd\\x9b\\xbc5\\x03}\\xbd\\xb2\\xa3\\xdc<\\x8d-\\xd8<\\xb0\\xa9\\xf6;+\\x1e\\xfc\\xba3\\x83\\xf5=.n;\\xbd\\xf5\\xd3G=\\xa1L\\x10\\xbdL\\\\\\xe6\\xbd\\x9d\\x9e|\\xbc\\xd8Z\\xb9\\xba\\x87\\xceo=y\\x0f\\x19\\xbd\\r\\xce%\\xbd\\xf3\\xd5+=4P\\xce<\\xc4:\\xa0\\xbdh\\xb9\\x85;\\t&\\xa2=\\xc5\\xb6\\x96=\\x8br\\xa4<\\xa2qg=\\xd8\\x0f1=-\\x8b\\xe0<\\x90\\xaev\\xbd\\xe4\\x12\\x19=\\x80\"\\x9f=Y\\x8e\\x8c<\\x0b&\\xe6\\xbd\\x12\\xb9\\x91\\xbcl\\xe8,\\xbc9\\x87\\xb7\\xbcDPF=\\xa1\\xe11<)<\\xf4\\xbb+\\\\\\x8b\\xbd\\xf9\\x03\\xb2<`G\\xf3\\xbcy\\r\\xa7\\xbd\\xde\\x98w\\xbd*,\\x81\\xbc\\xe4\\xaaV\\xbc\\xed\\xf4\\x10\\xba\\x93\\x9d&=\\xe4\\xb0\\x8a\\xbdw\\x1b\\xa6\\xbdL\\xc2\\x17=:\\x88\\x89\\xbb\\xacp?\\xbcko\\x1a\\xbd\\xb1\\x7f\\xcf=G\\x97\\x85\\xbd\\xee5X=\\x03\\xbau\\x89\\xfc\\x94?;\\x00\\xfdX<\\xb9+6\\xbdq:k=\\xdb\\xbe\\x16=\\n\\xb7\\xb1\\xbc\\xaa2%\\xbd\\xb1\\xc5\\x1b<\\xd0P\\x0c\\xbd\\x7f\\x04\\xb3=\\x9f$\\xa3\\xbd\\xa3\\x082\\xbd\\xc4\\xe48\\xbdE\\xa1\\x9b<\\xf4\\x1b\\xa8;SB\\x92;o\\x18\\x1e\\xbd\\x8f\\xc2]=\\x92\\xc1{\\xbc\\x94\\x1c\\xc1:\\xa8\\xa4\\xc9\\xbc[l\\xf9<\\x9aK\\x97\\xbcr\\xa6s<!\\xa7\\xa8<\\xd3\\'\\x97=\\x8a\\xef\\xb5\\xbd\\x1f\\x81\\r\\xbd\\xe0\\xad\\x82\\xbc_\\x9d\\xe6;\\xcb\\x1b\\xe5\\xbd\\xbfq\\xb9=J\\xfe\\x9f:q\\xd3\\x9b=\\xb3\\xfa\\xc1\\xba\\xf4\\xc2\\\\=:\\x188\\xbd\\xda\\x1b\\xc6\\xbdEt\\xdf\\xbccA\\xb9=\\xbdP6\\xbd\\x9a\\x9f\\x19=\\x1a\\x94\\xb9\\xbc4\\xfax\\xbdq!\\xd1\\xbc\\xda@\\r\\xbd\\xea\\xf11:\\xe5)\\x89\\xbd\\xbc\\x9d\\x9c<\\xefd\\xe2<\\x19zZ<D\\xb5v=\\x8f-\\xa3<\\xf6V\\x19\\xbd\\x9f\\xc5z<eu\\xff<\\xfcA\\xfa<\\x9e\"\\xfa<D1\\x1c\\xba5\\xfd\\xb6=\\xb6/\\xbc\\xbc\\xd6\\xc1\\x18=\\xba}]=J3\\x85=a\\xe7\\xff\\xbc\\x04Ke\\xbd[`\\xd9\\xbc\\xcf/\\xde\\xbc\\x11P+\\xbd.\\x8b.=\\xa2\\xc5S\\xbd\\xc6C\\x0e\\xbdiN =\\xa1B\\xb6\\xbd\\xa6\\xffH=\\xbc\\x94\\n=\\xb9e\\x1d\\xbdl\\x8a\\xb4<{\\xf5-\\xbdG5\\xa4\\xbbK]t\\xbd\\x10\\x83d<L\\xf9\\x9b<\\xdf\\\\\\x83<\\xae\\x87\\xda9\\x8b6\\xec<#*(\\xbd\\xf6\\x85|\\xbd\\x8cc\\xe8\\xbc\\x82*;=\\xd6\\xd9\\x07\\xbdFA\\xa3\\xbd\\x1d\\x89\\x88:\\x1eql\\xbc\\xbb\\xb9\\xfb\\xbc\\x94\\x13\\xb4\\x08\\xc4\\x04\\x87\\xbdT1\\xcc<\\x91\\x92\\x10<\\xf3\\x00\\xdc\\xbb6\\x93N=\\xf2 V\\xbd\\tA\\xef;\\x08|e=p\\xeb\\xb4\\xbc\\xfb\\x97\\x8b=\\xbb\"?=\"1(\\xbc\\x86\\xfcm\\xbd\\xd9\\x9ef\\xbc\\xc98\\x8e=\\x01y\\xc1\\xbce<\\x82=\\x9bk\\n\\xbd\\xdb$\\x9e;\\xeff\\x12=U\\x068>\\xdc\\xd1Q\\xbd9\\x15\\xcf\\xbc\\xec\\x0b\\xb0\\xbcJ\\xc8\\xfc<\\x03\\x8d\\x98=s\\x0e9=>3K=C\\xf2\\xcd\\xbc\\xe6\\x04E\\xbd[\\x997;\\xa2\\x9ct\\xbd\\xb9y|=\\xdd\\xd2\\x80<\"\\xa4\\x0c<\\xfe\\r\\x18>\\x0f\\x14q\\xbd|\\xe6Q=wR:\\xbd\\xbd\\xd4k\\xbd\\xbcX\\x81=\\x0f|\\x98\\xbc\\n\\xbe\\xaf\\xbd\\xc4\\xe4\\xc6=\\xec\\xc7\\x8e\\xbd5\\xd9\\xff\\xbc\\xc6\\xe50\\xbdj-\\xaa\\xbc\\xfb\\xde\\x92;x\\x9e\\xc2<vn\\xb6\\xbc\\x17\\xca\\x8f\\xb9\\xf0\\xfd<=88\\xb6\\xbc\\x9a\\xfb\\xc3\\xbdS\\xe6v\\xbcR\\xa5Q\\xbcPm\\x8c=\\x0e\\xed\\x88=(e#<SYG=\\xcc\\xdd\\xa0;\\xaa\\xfe\\x01=VC\\xa9=t\\x15\\x1f\\xbd\\x87\\\\\\x83=\\x85\\xee\\xe5\\xbch\\xd8\\xd5=\\x98\\xbe\\x99\\xbd\\x10\\xff6\\xbb\\xadzZ=>g\\xf7\\xba\\xf1\\x1b\\r\\xbd:\\x00\\xdc\\xbb\\xc9X-=O\\xe7_\\xbbp\"x\\xbdB\\xb73\\xbc\\x90\\xfd\\x83;+\\x04N=\\x1cc\\r=\\x93\\xa0\\xd3;oI\\x18\\xbd\\xban\\xb2=\\x9a\\x16%\\xbdsU\\xec=\\xce\\xd9V\\xbdH\\x00W\\xbcN\\x1e\\xb9\\xbb\\xd8L\\x82\\xbdj\\x82K\\xbc\\x00\\xd2\\x0e\\xbd\\xd9[\\xef;\\x0fr\\xe3\\xbc\\x0c$\\xc7\\xbcK\\xc1\\xca\\xb2\\xc8\\x83\\xec\\xbd\\x11\\xe1\\x08\\xbd\\xdb,\\x80\\xbb\\xcev\\xf4\\xbd.\\xa5\\xd7\\xbb6\\xd6\\xc3<\\x1d`;\\xbd\\xab\\xaa6\\xbc\\x95\\tM\\xbd\\x05\\xbb\\x95=u\\x15\\xa8;\\xf4\\x83\\x91<+\\x02\\xa4=\\xdf\\xf8\\xec<TIj=L\\x16\\x9d=\\x0ef\\x01\\xbeX\\x05V\\xbdz]\\xac\\xbd`r\\xda\\xbd\\xf9g=\\xbdp\\x01!\\xbdR\\x95#=y\\xbf\\x05=\\x18\\xd5\\xad<\\tM\\xb3=\\xcd\\xbc\\x91\\xbd\\xb5<\\xcf<2\\x7f\\x9b=\\xf9\\xd7\\xbc=\\x93\\x9f\\xd5\\xbc\\xe2-\\x15\\xbd\\x89S\\xa7\\xbdW.\\x1f<\\x91v\\x03>\\xb2XB=7\\xb5\\x99\\xbb\\xed5\\x90\\xbc\\xaf\\x99\\x98=\\x83\\xb16\\xbc\\xd0E\\xba\\xbd\\x97\\x93W=\\xfd\\r\\xe9<\\xbb\\xb7\\x8e=\\xefX\\xa9=\\x1b=\\x18\\xba\\x8dU\\x15\\xbd\\xf3H\\x00\\xbd\\x14g\\xa2;\\x7f\\xb0\\xb3\\xbd\\x8c\\x8c =\\xcd~v\\xbb\\xfex\\x84\\xbc)&\\xd8\\xba\\x0f\\x92\\xa5\\xbc*\\x1b)\\xbcM3\\xae\\xbb!O\\x95<\\xff\\x82\\x9d\\xbc\\xa4O\\x08<\\xf4j\\x93\\xbbs!\\xe7\\xba@\\x94\\x82=\\xe99\\n='}]"
      ]
     },
     "execution_count": 6,
     "metadata": {},
     "output_type": "execute_result"
    }
   ],
   "source": [
    "movie_data[:3]"
   ]
  },
  {
   "cell_type": "markdown",
   "metadata": {},
   "source": [
    "### Define Redis index schema\n",
    "\n",
    "Below, we build a schema that represents our movie objects."
   ]
  },
  {
   "cell_type": "code",
   "execution_count": 7,
   "metadata": {},
   "outputs": [
    {
     "name": "stdout",
     "output_type": "stream",
     "text": [
      "\u001b[32m12:26:22\u001b[0m \u001b[34mredisvl.index.index\u001b[0m \u001b[1;30mINFO\u001b[0m   Index already exists, overwriting.\n"
     ]
    }
   ],
   "source": [
    "from redisvl.schema import IndexSchema\n",
    "from redisvl.index import SearchIndex\n",
    "\n",
    "\n",
    "schema = IndexSchema.from_dict({\n",
    "  \"index\": {\n",
    "    \"name\": \"movies\",\n",
    "    \"prefix\": \"movie\",\n",
    "    \"storage\": \"hash\"\n",
    "  },\n",
    "  \"fields\": [\n",
    "    { \"name\": \"title\", \"type\": \"text\" },\n",
    "    { \"name\": \"description\", \"type\": \"text\" },\n",
    "    { \"name\": \"genre\", \"type\": \"tag\", \"attrs\": {\"sortable\": True}},\n",
    "    { \"name\": \"rating\", \"type\": \"numeric\", \"attrs\": {\"sortable\": True}},\n",
    "    {\n",
    "        \"name\": \"description_vector\",\n",
    "        \"type\": \"vector\",\n",
    "        \"attrs\": {\n",
    "            \"dims\": 384,\n",
    "            \"distance_metric\": \"cosine\",\n",
    "            \"algorithm\": \"hnsw\",\n",
    "            \"datatype\": \"float32\"\n",
    "        }\n",
    "    }\n",
    "  ]\n",
    "})\n",
    "\n",
    "\n",
    "index = SearchIndex(schema, client)\n",
    "index.create(overwrite=True, drop=True)"
   ]
  },
  {
   "cell_type": "markdown",
   "metadata": {},
   "source": [
    "### Populate index\n",
    "\n",
    "Load movie objects into Redis"
   ]
  },
  {
   "cell_type": "code",
   "execution_count": 8,
   "metadata": {},
   "outputs": [
    {
     "data": {
      "text/plain": [
       "['movie:01JR149GMQZB7DJY2JFEKFANP3',\n",
       " 'movie:01JR149GMQW7Z9NZT72J9TG9ZS',\n",
       " 'movie:01JR149GMQ3FN2SSGXRS7XB7M1',\n",
       " 'movie:01JR149GMQHKC2Z7DZJHNYJFJM',\n",
       " 'movie:01JR149GMQEW4MXP9C4512H0FQ',\n",
       " 'movie:01JR149GMQKTDQWMZWKSN9WQM2',\n",
       " 'movie:01JR149GMQV59K025EBZQ48T0X',\n",
       " 'movie:01JR149GMQANKMCDZ7W3NC17QA',\n",
       " 'movie:01JR149GMQG4056ENK2331GMVX',\n",
       " 'movie:01JR149GMQMQW03CX2GZ35V0XQ',\n",
       " 'movie:01JR149GMQ29BVMAQ9J3TX06DV',\n",
       " 'movie:01JR149GMQ9277DXXJGB25TW2Q',\n",
       " 'movie:01JR149GMQ3WRNT5JEP80BCAPG',\n",
       " 'movie:01JR149GMQWPK92YGZ9SNDGXMV',\n",
       " 'movie:01JR149GMRY1TX9T9D4SNYG0GY',\n",
       " 'movie:01JR149GMRM7DNDSZEPSZPNMYE',\n",
       " 'movie:01JR149GMRSE9K8EDP7EJVH95N',\n",
       " 'movie:01JR149GMRAG4F6JW48KWJ2359',\n",
       " 'movie:01JR149GMRNAW3D4V473DTE88R',\n",
       " 'movie:01JR149GMRVCD2EFMBXJPCBN7W']"
      ]
     },
     "execution_count": 8,
     "metadata": {},
     "output_type": "execute_result"
    }
   ],
   "source": [
    "index.load(movie_data)"
   ]
  },
  {
   "cell_type": "markdown",
   "metadata": {},
   "source": [
    "# Hybrid Search Approaches\n",
    "\n",
    "Now that our search index is populated and ready, we will build out a few different hybrid search techniques in Redis.\n",
    "\n",
    "To start, we will use our `HybridQuery` class that accepts a text string and vector to automatically combine text similarity and vector similarity scores."
   ]
  },
  {
   "cell_type": "markdown",
   "metadata": {},
   "source": [
    "## 1. Linear Combination using HybridQuery\n",
    "\n",
    "The goal of this technique is to calculate a weighted sum of the text similarity score for our provided text search and the cosine distance between vectors calculated via a KNN vector query. Under the hood this is possible in Redis using the [aggregations API](https://redis.io/docs/latest/develop/interact/search-and-query/advanced-concepts/aggregations/), as of `Redis 7.4.x` (search version `2.10.5`), within a single database call.\n",
    "\n",
    "As of RedisVl 0.5.0 all of this is nicely encapsulated in your `HybridQuery` class, which behaves much like our other query classes."
   ]
  },
  {
   "cell_type": "code",
   "execution_count": 9,
   "metadata": {},
   "outputs": [],
   "source": [
    "# Sample user query (can be changed for comparisons)\n",
    "user_query = \"action adventure movie with great fighting scenes against a dangerous criminal, crime busting, superheroes, and magic\""
   ]
  },
  {
   "cell_type": "markdown",
   "metadata": {},
   "source": [
    "First, we will import our `HybridQuery` and understand its parameters.\n",
    "At a minimum, the `HybridQuery` needs 4 arguments:\n",
    "```python\n",
    "query = HybridQuery(\n",
    "    text = \"your query string here\",\n",
    "    text_field_name = \"<name of the text field in the index to do text search in>\",\n",
    "    vector = <bytes or numeric array, ex: [0.1, 0.2, 0.3]>,\n",
    "    vector_field_name = \"<name of the vector field in the index to compute vector similarity>\",\n",
    ")\n",
    "```"
   ]
  },
  {
   "cell_type": "code",
   "execution_count": 10,
   "metadata": {},
   "outputs": [
    {
     "data": {
      "text/plain": [
       "[{'vector_distance': '0.645975410938',\n",
       "  'title': 'The Incredibles',\n",
       "  'vector_similarity': '0.677012294531',\n",
       "  'text_score': '7.28076236792',\n",
       "  'hybrid_score': '2.65813731655'},\n",
       " {'vector_distance': '0.797545075417',\n",
       "  'title': 'Skyfall',\n",
       "  'vector_similarity': '0.601227462292',\n",
       "  'text_score': '2.36960428044',\n",
       "  'hybrid_score': '1.13174050774'},\n",
       " {'vector_distance': '0.608649432659',\n",
       "  'title': 'Explosive Pursuit',\n",
       "  'vector_similarity': '0.69567528367',\n",
       "  'text_score': '1.96619759409',\n",
       "  'hybrid_score': '1.0768319768'},\n",
       " {'vector_distance': '0.653376340866',\n",
       "  'title': 'The Dark Knight',\n",
       "  'vector_similarity': '0.673311829567',\n",
       "  'text_score': '1.96619759409',\n",
       "  'hybrid_score': '1.06117755892'},\n",
       " {'vector_distance': '0.697869479656',\n",
       "  'title': 'Despicable Me',\n",
       "  'vector_similarity': '0.651065260172',\n",
       "  'text_score': '1.8339421481',\n",
       "  'hybrid_score': '1.00592832655'},\n",
       " {'vector_distance': '0.709571897984',\n",
       "  'title': 'Mad Max: Fury Road',\n",
       "  'vector_similarity': '0.645214051008',\n",
       "  'text_score': '0',\n",
       "  'hybrid_score': '0.451649835706'},\n",
       " {'vector_distance': '0.72872209549',\n",
       "  'title': 'Inception',\n",
       "  'vector_similarity': '0.635638952255',\n",
       "  'text_score': '0',\n",
       "  'hybrid_score': '0.444947266579'},\n",
       " {'vector_distance': '0.743099927902',\n",
       "  'title': 'Fast & Furious 9',\n",
       "  'vector_similarity': '0.628450036049',\n",
       "  'text_score': '0',\n",
       "  'hybrid_score': '0.439915025234'},\n",
       " {'vector_distance': '0.759855806828',\n",
       "  'title': 'John Wick',\n",
       "  'vector_similarity': '0.620072096586',\n",
       "  'text_score': '0',\n",
       "  'hybrid_score': '0.43405046761'},\n",
       " {'vector_distance': '0.784409880638',\n",
       "  'title': 'The Avengers',\n",
       "  'vector_similarity': '0.607795059681',\n",
       "  'text_score': '0',\n",
       "  'hybrid_score': '0.425456541777'}]"
      ]
     },
     "execution_count": 10,
     "metadata": {},
     "output_type": "execute_result"
    }
   ],
   "source": [
    "from redisvl.query import HybridQuery\n",
    "\n",
    "vector = model.embed(user_query, as_buffer=True, dtype=\"float32\")\n",
    "\n",
    "query = HybridQuery(text=user_query,\n",
    "                    text_field_name=\"description\",\n",
    "                    vector=vector,\n",
    "                    vector_field_name=\"description_vector\",\n",
    "                    return_fields=[\"title\"],\n",
    ")\n",
    "\n",
    "index.query(query)"
   ]
  },
  {
   "cell_type": "markdown",
   "metadata": {},
   "source": [
    "That's it! That is all it takes to perform a hybrid text matching and vector query with RedisVL.\n",
    "Of course there are many more configurations and things we can do with the `HybridQuery` class. Let's investigate.\n",
    "\n",
    "First, let's look at just the text query part that is being run:"
   ]
  },
  {
   "cell_type": "code",
   "execution_count": 11,
   "metadata": {},
   "outputs": [
    {
     "name": "stdout",
     "output_type": "stream",
     "text": [
      "(~@description:(action | adventure | movie | great | fighting | scenes | dangerous | criminal | crime | busting | superheroes | magic))=>[KNN 10 @description_vector $vector AS vector_distance]\n"
     ]
    }
   ],
   "source": [
    "text_query = query._build_query_string()\n",
    "print(text_query)"
   ]
  },
  {
   "cell_type": "markdown",
   "metadata": {},
   "source": [
    "### Choosing your stopwords for better queries\n",
    "You can see that the user query string has been tokenized and certain stopwords like 'and', 'for', 'with', 'but', have been removed, otherwise you would get matches on irrelevant words.\n",
    "RedisVL uses [NLTK](https://www.nltk.org/index.html) english stopwords as the the default. You can change which default language stopwords to use with the `stopwords` argument.\n",
    "You specify a language, like 'german', 'arabic', 'greek' and many others, provide your own list of stopwords, or set it to `None` to not remove any."
   ]
  },
  {
   "cell_type": "code",
   "execution_count": 12,
   "metadata": {},
   "outputs": [
    {
     "name": "stdout",
     "output_type": "stream",
     "text": [
      "(~@description:(film | d\\'action | d\\'aventure | superbes | scènes | combat | enquêtes | criminelles | super\\-héros | magie))=>[KNN 10 @description_vector $vector AS vector_distance]\n",
      "(~@description:(action | adventure | movie | great | fighting | scenes | against | dangerous | criminal | crime | busting | superheroes | magic))=>[KNN 10 @description_vector $vector AS vector_distance]\n",
      "(~@description:(action | adventure | movie | with | great | fighting | scenes | against | a | dangerous | criminal | crime | busting | superheroes | and | magic))=>[KNN 10 @description_vector $vector AS vector_distance]\n"
     ]
    }
   ],
   "source": [
    "# translate our user query to French and use nltk french stopwords\n",
    "french_query_text = \"Film d'action et d'aventure avec de superbes scènes de combat, des enquêtes criminelles, des super-héros et de la magie\"\n",
    "\n",
    "french_film_query = HybridQuery(text=french_query_text,\n",
    "                          text_field_name=\"description\",\n",
    "                          vector=model.embed(french_query_text, as_buffer=True, dtype=\"float32\"),\n",
    "                          vector_field_name=\"description_vector\",\n",
    "                          stopwords=\"french\",\n",
    ")\n",
    "\n",
    "print(french_film_query._build_query_string())\n",
    "\n",
    "# specify your own stopwords\n",
    "custom_stopwords = set([\n",
    "    \"a\", \"is\", \"the\", \"an\", \"and\", \"are\", \"as\", \"at\", \"be\", \"but\", \"by\", \"for\",\n",
    "    \"if\", \"in\", \"into\", \"it\", \"no\", \"not\", \"of\", \"on\", \"or\", \"such\", \"that\", \"their\",\n",
    "    \"then\", \"there\", \"these\", \"they\", \"this\", \"to\", \"was\", \"will\", \"with\"\n",
    "])\n",
    "\n",
    "stopwords_query = HybridQuery(text=user_query,\n",
    "                          text_field_name=\"description\",\n",
    "                          vector=vector,\n",
    "                          vector_field_name=\"description_vector\",\n",
    "                          stopwords=custom_stopwords,\n",
    ")\n",
    "\n",
    "print(stopwords_query._build_query_string())\n",
    "\n",
    "# don't use any stopwords\n",
    "no_stopwords_query = HybridQuery(text=user_query,\n",
    "                          text_field_name=\"description\",\n",
    "                          vector=vector,\n",
    "                          vector_field_name=\"description_vector\",\n",
    "                          stopwords=None,\n",
    ")\n",
    "\n",
    "print(no_stopwords_query._build_query_string())"
   ]
  },
  {
   "cell_type": "markdown",
   "metadata": {},
   "source": [
    "### Choosing your text scoring function and weights\n",
    "There are different ways to calculate the similarity between sets of text. Redis supports several, such as `BM25`, `TFIDF`, `DISMAX`, and others. The default is `BM25STD` and is easy to configure with the `text_scorer` parameter. Just like changing you embedding model can change your vector similarity scores, changing your text similarity measure can change your text scores.\n",
    "\n",
    "Because hybrid queries are performing a weighted average of text similarity and vector similarity you also control the relative balance of these scores with the `alpha` parameter.\n",
    "\n",
    "The documents are ranked based on the hybrid score which is computed as:\n",
    "\n",
    "```python\n",
    "hybrid_score = {1-alpha} * text_score + {alpha} * vector_similarity\n",
    "```\n",
    "\n",
    "Try changing the `text_scorer` and `alpha` parameters in the query below to see how results may change.\n"
   ]
  },
  {
   "cell_type": "code",
   "execution_count": 13,
   "metadata": {},
   "outputs": [
    {
     "data": {
      "text/plain": [
       "[{'vector_distance': '0.645975410938',\n",
       "  'title': 'The Incredibles',\n",
       "  'description': \"A family of undercover superheroes, while trying to live the quiet suburban life, are forced into action to save the world. Bob Parr (Mr. Incredible) and his wife Helen (Elastigirl) were among the world's greatest crime fighters, but now they must assume civilian identities and retreat to the suburbs to live a 'normal' life with their three children. However, the family's desire to help the world pulls them back into action when they face a new and dangerous enemy.\",\n",
       "  'vector_similarity': '0.677012294531',\n",
       "  'text_score': '4.25',\n",
       "  'hybrid_score': '3.35675307363'},\n",
       " {'vector_distance': '0.653376340866',\n",
       "  'title': 'The Dark Knight',\n",
       "  'description': 'Batman faces off against the Joker, a criminal mastermind who threatens to plunge Gotham into chaos.',\n",
       "  'vector_similarity': '0.673311829567',\n",
       "  'text_score': '2.5',\n",
       "  'hybrid_score': '2.04332795739'},\n",
       " {'vector_distance': '0.608649432659',\n",
       "  'title': 'Explosive Pursuit',\n",
       "  'description': 'A daring cop chases a notorious criminal across the city in a high-stakes game of cat and mouse.',\n",
       "  'vector_similarity': '0.69567528367',\n",
       "  'text_score': '1.5',\n",
       "  'hybrid_score': '1.29891882092'},\n",
       " {'vector_distance': '0.697869479656',\n",
       "  'title': 'Despicable Me',\n",
       "  'description': 'When a criminal mastermind uses a trio of orphan girls as pawns for a grand scheme, he finds their love is profoundly changing him for the better.',\n",
       "  'vector_similarity': '0.651065260172',\n",
       "  'text_score': '1.5',\n",
       "  'hybrid_score': '1.28776631504'},\n",
       " {'vector_distance': '0.797545075417',\n",
       "  'title': 'Skyfall',\n",
       "  'description': 'James Bond returns to track down a dangerous new enemy who threatens global security.',\n",
       "  'vector_similarity': '0.601227462292',\n",
       "  'text_score': '1.5',\n",
       "  'hybrid_score': '1.27530686557'},\n",
       " {'vector_distance': '0.743099927902',\n",
       "  'title': 'Fast & Furious 9',\n",
       "  'description': 'Dom and his crew face off against a high-tech enemy with advanced weapons and technology.',\n",
       "  'vector_similarity': '0.628450036049',\n",
       "  'text_score': '1',\n",
       "  'hybrid_score': '0.907112509012'},\n",
       " {'vector_distance': '0.759855806828',\n",
       "  'title': 'John Wick',\n",
       "  'description': 'A retired hitman seeks vengeance against those who wronged him, leaving a trail of destruction in his wake.',\n",
       "  'vector_similarity': '0.620072096586',\n",
       "  'text_score': '1',\n",
       "  'hybrid_score': '0.905018024147'},\n",
       " {'vector_distance': '0.709571897984',\n",
       "  'title': 'Mad Max: Fury Road',\n",
       "  'description': \"In a post-apocalyptic wasteland, Max teams up with Furiosa to escape a tyrant's clutches and find freedom.\",\n",
       "  'vector_similarity': '0.645214051008',\n",
       "  'text_score': '0',\n",
       "  'hybrid_score': '0.161303512752'},\n",
       " {'vector_distance': '0.72872209549',\n",
       "  'title': 'Inception',\n",
       "  'description': 'A thief who enters dreams to steal secrets faces his toughest mission yet, with reality itself at stake.',\n",
       "  'vector_similarity': '0.635638952255',\n",
       "  'text_score': '0',\n",
       "  'hybrid_score': '0.158909738064'},\n",
       " {'vector_distance': '0.784409880638',\n",
       "  'title': 'The Avengers',\n",
       "  'description': \"Earth's mightiest heroes come together to stop an alien invasion that threatens the entire planet.\",\n",
       "  'vector_similarity': '0.607795059681',\n",
       "  'text_score': '0',\n",
       "  'hybrid_score': '0.15194876492'}]"
      ]
     },
     "execution_count": 13,
     "metadata": {},
     "output_type": "execute_result"
    }
   ],
   "source": [
    "tfidf_query = HybridQuery(text=user_query,\n",
    "                          text_field_name=\"description\",\n",
    "                          vector=vector,\n",
    "                          vector_field_name=\"description_vector\",\n",
    "                          text_scorer=\"TFIDF\", # can be one of [TFIDF, TFIDF.DOCNORM, BM25, DISMAX, DOCSCORE, BM25STD]\n",
    "                          stopwords=None,\n",
    "                          alpha=0.25, # weight the vector score lower\n",
    "                          return_fields=[\"title\", \"description\"],\n",
    ")\n",
    "index.query(tfidf_query)"
   ]
  },
  {
   "cell_type": "markdown",
   "metadata": {},
   "source": [
    "## 2. Client-side fusion with RRF\n",
    "\n",
    "Instead of relying on document scores like cosine similarity and BM25/TFIDF, we can fetch items and focus on their rank. This rank can be utilized to create a new ranking metric known as [Reciprocal Rank Fusion (RRF)](https://plg.uwaterloo.ca/~gvcormac/cormacksigir09-rrf.pdf). RRF is powerful because it can handle ranked lists of different length, scores of different scales, and other complexities.\n",
    "\n",
    "Although Redis does not currently support RRF natively, we can easily implement it on the client side."
   ]
  },
  {
   "cell_type": "code",
   "execution_count": 14,
   "metadata": {},
   "outputs": [],
   "source": [
    "def fuse_rankings_rrf(*ranked_lists, weights=None, k=60):\n",
    "    \"\"\"\n",
    "    Perform Weighted Reciprocal Rank Fusion on N number of ordered lists.\n",
    "    \"\"\"\n",
    "    item_scores = {}\n",
    "    \n",
    "    if weights is None:\n",
    "        weights = [1.0] * len(ranked_lists)\n",
    "    else:\n",
    "        assert len(weights) == len(ranked_lists), \"Number of weights must match number of ranked lists\"\n",
    "        assert all(0 <= w <= 1 for w in weights), \"Weights must be between 0 and 1\"\n",
    "    \n",
    "    for ranked_list, weight in zip(ranked_lists, weights):\n",
    "        for rank, item in enumerate(ranked_list, start=1):\n",
    "            if item not in item_scores:\n",
    "                item_scores[item] = 0\n",
    "            item_scores[item] += weight * (1 / (rank + k))\n",
    "    \n",
    "    # Sort items by their weighted RRF scores in descending order\n",
    "    return sorted(item_scores.items(), key=lambda x: x[1], reverse=True)"
   ]
  },
  {
   "cell_type": "code",
   "execution_count": 15,
   "metadata": {},
   "outputs": [
    {
     "data": {
      "text/plain": [
       "[(2, 0.04814747488101534),\n",
       " (1, 0.032266458495966696),\n",
       " (6, 0.03200204813108039),\n",
       " (5, 0.01639344262295082),\n",
       " (4, 0.016129032258064516),\n",
       " (3, 0.015873015873015872),\n",
       " (7, 0.015625),\n",
       " (8, 0.015384615384615385)]"
      ]
     },
     "execution_count": 15,
     "metadata": {},
     "output_type": "execute_result"
    }
   ],
   "source": [
    "# Below is a simple example of RRF over a few lists of numbers\n",
    "fuse_rankings_rrf([1, 2, 3], [2, 4, 6, 7, 8], [5, 6, 1, 2])"
   ]
  },
  {
   "cell_type": "markdown",
   "metadata": {},
   "source": [
    "We'll want some helper functions to  construct our individual text and vector queries"
   ]
  },
  {
   "cell_type": "code",
   "execution_count": 21,
   "metadata": {},
   "outputs": [],
   "source": [
    "# Function to create a vector query using RedisVL helpers for ease of use\n",
    "from redisvl.query import VectorQuery, TextQuery\n",
    "\n",
    "\n",
    "def make_vector_query(user_query: str, num_results: int, filters = None) -> VectorQuery:\n",
    "    \"\"\"Generate a Redis vector query given user query string.\"\"\"\n",
    "    vector = model.embed(user_query, as_buffer=True, dtype=\"float32\")\n",
    "    query = VectorQuery(\n",
    "        vector=vector,\n",
    "        vector_field_name=\"description_vector\",\n",
    "        num_results=num_results,\n",
    "        return_fields=[\"title\", \"description\"]\n",
    "    )\n",
    "    if filters:\n",
    "        query.set_filter(filters)\n",
    "    return query\n",
    "\n",
    "\n",
    "def make_ft_query(text_field: str, user_query: str, num_results: int) -> TextQuery:\n",
    "    \"\"\"Generate a Redis full-text query given a user query string.\"\"\"\n",
    "    return TextQuery(\n",
    "        text=user_query,\n",
    "        text_field_name=text_field,\n",
    "        text_scorer=\"BM25\",\n",
    "        num_results=num_results,\n",
    "        return_fields=[\"title\", \"description\"],\n",
    "    )"
   ]
  },
  {
   "cell_type": "code",
   "execution_count": 22,
   "metadata": {},
   "outputs": [],
   "source": [
    "from typing import List, Dict, Any\n",
    "def weighted_rrf(\n",
    "    user_query: str,\n",
    "    alpha: float = 0.5,\n",
    "    num_results: int = 4,\n",
    "    k: int = 60,\n",
    ") -> List[Dict[str, Any]]:\n",
    "    \"\"\"Implemented client-side RRF after querying from Redis.\"\"\"\n",
    "    # Create the vector query\n",
    "    vector_query = make_vector_query(user_query, num_results=len(movie_data))\n",
    "\n",
    "    # Create the full-text query\n",
    "    full_text_query = make_ft_query(\"description\", user_query, num_results=len(movie_data))\n",
    "\n",
    "    # Run queries individually\n",
    "    vector_query_results = index.query(vector_query)\n",
    "    full_text_query_results = index.query(full_text_query)\n",
    "\n",
    "    # Extract titles from results\n",
    "    vector_titles = [movie[\"title\"] for movie in vector_query_results]\n",
    "    full_text_titles = [movie[\"title\"] for movie in full_text_query_results]\n",
    "\n",
    "    # Perform weighted RRF\n",
    "    return fuse_rankings_rrf(vector_titles, full_text_titles, weights=[alpha, 1-alpha], k=k)[:num_results]"
   ]
  },
  {
   "cell_type": "code",
   "execution_count": 23,
   "metadata": {},
   "outputs": [
    {
     "data": {
      "text/plain": [
       "[('Explosive Pursuit', 0.01639344262295082),\n",
       " ('The Dark Knight', 0.015873015873015872),\n",
       " ('Despicable Me', 0.015625),\n",
       " ('The Incredibles', 0.015417457305502846),\n",
       " ('Skyfall', 0.0152073732718894),\n",
       " ('Finding Nemo', 0.014242424242424244)]"
      ]
     },
     "execution_count": 23,
     "metadata": {},
     "output_type": "execute_result"
    }
   ],
   "source": [
    "# Test it out!\n",
    "weighted_rrf(user_query, num_results=6)"
   ]
  },
  {
   "cell_type": "markdown",
   "metadata": {},
   "source": [
    "But say we want to give more weight to the vector search rankings in this case to boost semantic similarities contribution to the final rank:"
   ]
  },
  {
   "cell_type": "code",
   "execution_count": 24,
   "metadata": {},
   "outputs": [
    {
     "data": {
      "text/plain": [
       "[('Explosive Pursuit', 0.01639344262295082),\n",
       " ('The Dark Knight', 0.015873015873015872),\n",
       " ('The Incredibles', 0.015702087286527514),\n",
       " ('Despicable Me', 0.015625),\n",
       " ('Skyfall', 0.014838709677419354),\n",
       " ('Finding Nemo', 0.01387878787878788)]"
      ]
     },
     "execution_count": 24,
     "metadata": {},
     "output_type": "execute_result"
    }
   ],
   "source": [
    "weighted_rrf(user_query, alpha=0.7, num_results=6)"
   ]
  },
  {
   "cell_type": "markdown",
   "metadata": {},
   "source": [
    "## 3. Client-side reranking\n",
    "\n",
    "An alternative approach to RRF is to simply use an external reranker to order the final recommendations. RedisVL has built-in integrations to a few popular reranking modules."
   ]
  },
  {
   "cell_type": "code",
   "execution_count": 25,
   "metadata": {},
   "outputs": [],
   "source": [
    "from redisvl.utils.rerank import HFCrossEncoderReranker\n",
    "\n",
    "# Load the ms marco MiniLM cross encoder model from huggingface\n",
    "reranker = HFCrossEncoderReranker(\"cross-encoder/ms-marco-MiniLM-L-6-v2\")\n",
    "\n",
    "\n",
    "def rerank(\n",
    "    user_query: str,\n",
    "    num_results: int = 4,\n",
    ") -> List[Dict[str, Any]]:\n",
    "    \"\"\"Rerank the candidates based on the user query with an external model/module.\"\"\"\n",
    "    # Create the vector query\n",
    "    vector_query = make_vector_query(user_query, num_results=num_results)\n",
    "\n",
    "    # Create the full-text query\n",
    "    full_text_query = make_ft_query(\"description\", user_query, num_results=num_results)\n",
    "\n",
    "    # Run queries individually\n",
    "    vector_query_results = index.query(vector_query)\n",
    "    full_text_query_results = index.query(full_text_query)\n",
    "\n",
    "    # Assemble list of potential movie candidates with their IDs\n",
    "    movie_map = {}\n",
    "    for movie in vector_query_results + full_text_query_results:\n",
    "        candidate = f\"Title: {movie['title']}. Description: {movie['description']}\"\n",
    "        if candidate not in movie_map:\n",
    "            movie_map[candidate] = movie\n",
    "\n",
    "    # Rerank candidates\n",
    "    reranked_movies, scores = reranker.rank(\n",
    "        query=user_query,\n",
    "        docs=list(movie_map.keys()),\n",
    "        limit=num_results,\n",
    "        return_score=True\n",
    "    )\n",
    "\n",
    "    # Fetch full movie objects for the reranked results\n",
    "    return [\n",
    "        (movie_map[movie['content']][\"title\"], score)\n",
    "        for movie, score in zip(reranked_movies, scores)\n",
    "    ]\n"
   ]
  },
  {
   "cell_type": "code",
   "execution_count": 26,
   "metadata": {},
   "outputs": [
    {
     "data": {
      "text/plain": [
       "[('The Incredibles', -4.1636810302734375),\n",
       " ('Explosive Pursuit', 0.8551048636436462),\n",
       " ('The Dark Knight', -4.403156280517578),\n",
       " ('Skyfall', -7.830077171325684),\n",
       " ('Mad Max: Fury Road', -7.7119951248168945),\n",
       " ('Despicable Me', -8.742403030395508)]"
      ]
     },
     "execution_count": 26,
     "metadata": {},
     "output_type": "execute_result"
    }
   ],
   "source": [
    "# Test it out!\n",
    "rerank(user_query, num_results=6)"
   ]
  },
  {
   "cell_type": "markdown",
   "metadata": {},
   "source": [
    "This technique is certainly much slower than simple RRF as it's running an additional cross-encoder model to rerank the results. This can be fairly computationally expensive, but tunable with enough clarity on the use case and focus (how many items to retrieve? how many items to rerank? model accleration via GPU?)"
   ]
  },
  {
   "cell_type": "markdown",
   "metadata": {},
   "source": [
    "## Comparing Approaches\n",
    "\n",
    "While each approach has strengths and weaknesses, it's important to understand that each might work better in some use cases than others. Below we will run through a sample of user queries and generate matches for each using different hybrid search techniques."
   ]
  },
  {
   "cell_type": "code",
   "execution_count": 27,
   "metadata": {},
   "outputs": [],
   "source": [
    "movie_user_queries = [\n",
    "    \"I'm in the mood for a high-rated action movie with a complex plot\",\n",
    "    \"What's a funny animated film about unlikely friendships?\",\n",
    "    \"Any movies featuring superheroes or extraordinary abilities\", \n",
    "    \"I want to watch a thrilling movie with spies or secret agents\",\n",
    "    \"Are there any comedies set in unusual locations or environments?\",\n",
    "    \"Find me an action-packed movie with car chases or explosions\",\n",
    "    \"What's a good family-friendly movie with talking animals?\",\n",
    "    \"I'm looking for a film that combines action and mind-bending concepts\",\n",
    "    \"Suggest a movie with a strong female lead character\",\n",
    "    \"What are some movies that involve heists or elaborate plans?\",\n",
    "    \"I need a feel-good movie about personal growth or transformation\",\n",
    "    \"Are there any films that blend comedy with action elements?\", \n",
    "    \"Show me movies set in dystopian or post-apocalyptic worlds\",\n",
    "    \"I'm interested in a movie with themes of revenge or justice\",\n",
    "    \"What are some visually stunning movies with impressive special effects?\"\n",
    "]"
   ]
  },
  {
   "cell_type": "code",
   "execution_count": 28,
   "metadata": {},
   "outputs": [],
   "source": [
    "def hybrid_query(text, alpha, num_results) -> List[Dict[str, Any]]:\n",
    "\n",
    "    query = HybridQuery(text,\n",
    "                        text_field_name=\"description\",\n",
    "                        vector=model.embed(text, as_buffer=True, dtype=\"float32\"),\n",
    "                        vector_field_name=\"description_vector\",\n",
    "                        text_scorer=\"BM25\",\n",
    "                        stopwords=\"english\",\n",
    "                        alpha=alpha,\n",
    "                        return_fields=[\"title\", \"hybrid_score\"],\n",
    "    )\n",
    "\n",
    "    results =  index.query(query)\n",
    "\n",
    "    return [\n",
    "        (\n",
    "            movie[\"title\"],\n",
    "            movie[\"hybrid_score\"]\n",
    "        )\n",
    "        for movie in results\n",
    "    ]"
   ]
  },
  {
   "cell_type": "code",
   "execution_count": 29,
   "metadata": {},
   "outputs": [],
   "source": [
    "import pandas as pd\n",
    "\n",
    "\n",
    "rankings = pd.DataFrame()\n",
    "rankings[\"queries\"] = movie_user_queries\n",
    "\n",
    "# First, add new columns to the DataFrame\n",
    "rankings[\"hf-cross-encoder\"] = \"\"\n",
    "rankings[\"rrf\"] = \"\"\n",
    "rankings[\"linear-combo-bm25-cosine\"] = \"\""
   ]
  },
  {
   "cell_type": "code",
   "execution_count": 30,
   "metadata": {},
   "outputs": [],
   "source": [
    "# Now iterate through the queries and add results\n",
    "for i, user_query in enumerate(movie_user_queries):\n",
    "    rankings.at[i, \"hf-cross-encoder\"] = rerank(user_query, num_results=4)\n",
    "    rankings.at[i, \"rrf\"] = weighted_rrf(user_query, alpha=0.7, num_results=4)\n",
    "    rankings.at[i, \"linear-combo-bm25-cosine\"] = hybrid_query(user_query, alpha=0.7, num_results=4)"
   ]
  },
  {
   "cell_type": "code",
   "execution_count": 31,
   "metadata": {},
   "outputs": [
    {
     "data": {
      "text/html": [
       "<div>\n",
       "<style scoped>\n",
       "    .dataframe tbody tr th:only-of-type {\n",
       "        vertical-align: middle;\n",
       "    }\n",
       "\n",
       "    .dataframe tbody tr th {\n",
       "        vertical-align: top;\n",
       "    }\n",
       "\n",
       "    .dataframe thead th {\n",
       "        text-align: right;\n",
       "    }\n",
       "</style>\n",
       "<table border=\"1\" class=\"dataframe\">\n",
       "  <thead>\n",
       "    <tr style=\"text-align: right;\">\n",
       "      <th></th>\n",
       "      <th>queries</th>\n",
       "      <th>hf-cross-encoder</th>\n",
       "      <th>rrf</th>\n",
       "      <th>linear-combo-bm25-cosine</th>\n",
       "    </tr>\n",
       "  </thead>\n",
       "  <tbody>\n",
       "    <tr>\n",
       "      <th>0</th>\n",
       "      <td>I'm in the mood for a high-rated action movie ...</td>\n",
       "      <td>[(Mad Max: Fury Road, -11.244140625), (Toy Sto...</td>\n",
       "      <td>[(The Incredibles, 0.016029143897996357), (Toy...</td>\n",
       "      <td>[(The Incredibles, 0.55239223002), (Toy Story,...</td>\n",
       "    </tr>\n",
       "    <tr>\n",
       "      <th>1</th>\n",
       "      <td>What's a funny animated film about unlikely fr...</td>\n",
       "      <td>[(Despicable Me, -10.441909790039062), (The In...</td>\n",
       "      <td>[(Monsters, Inc., 0.015524093392945852), (Mada...</td>\n",
       "      <td>[(The Incredibles, 0.45475204289), (Despicable...</td>\n",
       "    </tr>\n",
       "    <tr>\n",
       "      <th>2</th>\n",
       "      <td>Any movies featuring superheroes or extraordin...</td>\n",
       "      <td>[(The Incredibles, -3.6648073196411133), (The ...</td>\n",
       "      <td>[(The Incredibles, 0.01639344262295082), (The ...</td>\n",
       "      <td>[(The Incredibles, 0.603234915587), (The Aveng...</td>\n",
       "    </tr>\n",
       "    <tr>\n",
       "      <th>3</th>\n",
       "      <td>I want to watch a thrilling movie with spies o...</td>\n",
       "      <td>[(Inception, -10.843631744384766), (The Incred...</td>\n",
       "      <td>[(Inception, 0.015524093392945852), (Skyfall, ...</td>\n",
       "      <td>[(Skyfall, 0.443840536475), (Despicable Me, 0....</td>\n",
       "    </tr>\n",
       "    <tr>\n",
       "      <th>4</th>\n",
       "      <td>Are there any comedies set in unusual location...</td>\n",
       "      <td>[(The Incredibles, -11.45376968383789), (Findi...</td>\n",
       "      <td>[(Finding Nemo, 0.015524093392945852), (Madaga...</td>\n",
       "      <td>[(Madagascar, 0.442132219672), (Despicable Me,...</td>\n",
       "    </tr>\n",
       "  </tbody>\n",
       "</table>\n",
       "</div>"
      ],
      "text/plain": [
       "                                             queries  \\\n",
       "0  I'm in the mood for a high-rated action movie ...   \n",
       "1  What's a funny animated film about unlikely fr...   \n",
       "2  Any movies featuring superheroes or extraordin...   \n",
       "3  I want to watch a thrilling movie with spies o...   \n",
       "4  Are there any comedies set in unusual location...   \n",
       "\n",
       "                                    hf-cross-encoder  \\\n",
       "0  [(Mad Max: Fury Road, -11.244140625), (Toy Sto...   \n",
       "1  [(Despicable Me, -10.441909790039062), (The In...   \n",
       "2  [(The Incredibles, -3.6648073196411133), (The ...   \n",
       "3  [(Inception, -10.843631744384766), (The Incred...   \n",
       "4  [(The Incredibles, -11.45376968383789), (Findi...   \n",
       "\n",
       "                                                 rrf  \\\n",
       "0  [(The Incredibles, 0.016029143897996357), (Toy...   \n",
       "1  [(Monsters, Inc., 0.015524093392945852), (Mada...   \n",
       "2  [(The Incredibles, 0.01639344262295082), (The ...   \n",
       "3  [(Inception, 0.015524093392945852), (Skyfall, ...   \n",
       "4  [(Finding Nemo, 0.015524093392945852), (Madaga...   \n",
       "\n",
       "                            linear-combo-bm25-cosine  \n",
       "0  [(The Incredibles, 0.55239223002), (Toy Story,...  \n",
       "1  [(The Incredibles, 0.45475204289), (Despicable...  \n",
       "2  [(The Incredibles, 0.603234915587), (The Aveng...  \n",
       "3  [(Skyfall, 0.443840536475), (Despicable Me, 0....  \n",
       "4  [(Madagascar, 0.442132219672), (Despicable Me,...  "
      ]
     },
     "execution_count": 31,
     "metadata": {},
     "output_type": "execute_result"
    }
   ],
   "source": [
    "rankings.head()"
   ]
  },
  {
   "cell_type": "code",
   "execution_count": 32,
   "metadata": {},
   "outputs": [
    {
     "data": {
      "text/plain": [
       "array(['Show me movies set in dystopian or post-apocalyptic worlds',\n",
       "       list([('Mad Max: Fury Road', -3.4906270503997803), ('Despicable Me', -11.051526069641113), ('The Incredibles', -11.315656661987305), ('Finding Nemo', -10.880638122558594)]),\n",
       "       list([('The Incredibles', 0.01620835536753041), ('Finding Nemo', 0.013813068651778329), ('Mad Max: Fury Road', 0.011475409836065573), ('Madagascar', 0.01111111111111111)]),\n",
       "       list([('Mad Max: Fury Road', '0.452238571644'), ('The Incredibles', '0.445061463118'), ('Madagascar', '0.41901564002'), ('Despicable Me', '0.416218408942'), ('Skyfall', '0.411504244804'), ('The Avengers', '0.41121032536'), ('Black Widow', '0.410578364134'), ('The Lego Movie', '0.408463662863'), ('Monsters, Inc.', '0.392220926285'), ('Shrek', '0.390464815497')])],\n",
       "      dtype=object)"
      ]
     },
     "execution_count": 32,
     "metadata": {},
     "output_type": "execute_result"
    }
   ],
   "source": [
    "rankings.loc[12].values"
   ]
  },
  {
   "cell_type": "markdown",
   "metadata": {},
   "source": [
    "# Wrap up\n",
    "That's a wrap! Hopefully from this you were able to learn:\n",
    "- How to implement simple vector search queries in Redis\n",
    "- How to implement vector search queries with full-text filters\n",
    "- How to implement hybrid search queries using the Redis aggregation API\n",
    "- How to perform client-side fusion and reranking techniques"
   ]
  },
  {
   "cell_type": "markdown",
   "metadata": {},
   "source": []
  }
 ],
 "metadata": {
  "kernelspec": {
   "display_name": "redis-ai-res",
   "language": "python",
   "name": "python3"
  },
  "language_info": {
   "codemirror_mode": {
    "name": "ipython",
    "version": 3
   },
   "file_extension": ".py",
   "mimetype": "text/x-python",
   "name": "python",
   "nbconvert_exporter": "python",
   "pygments_lexer": "ipython3",
   "version": "3.11.9"
  }
 },
 "nbformat": 4,
 "nbformat_minor": 2
}
