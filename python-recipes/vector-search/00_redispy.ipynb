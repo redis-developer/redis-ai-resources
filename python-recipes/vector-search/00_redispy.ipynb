{
 "cells": [
  {
   "cell_type": "markdown",
   "id": "cbba56a9",
   "metadata": {},
   "source": [
    "![Redis](https://redis.io/wp-content/uploads/2024/04/Logotype.svg?auto=webp&quality=85,75&width=120)\n",
    "# Vector Search with Redispy\n",
    "## Let's Begin!\n",
    "<a href=\"https://colab.research.google.com/github/redis-developer/redis-ai-resources/blob/main/python-recipes/vector-search/00_redispy.ipynb\" target=\"_parent\"><img src=\"https://colab.research.google.com/assets/colab-badge.svg\" alt=\"Open In Colab\"/></a>\n"
   ]
  },
  {
   "cell_type": "markdown",
   "id": "0b80de6b",
   "metadata": {},
   "source": [
    "## Prepare data\n",
    "\n",
    "In this examples we will load a list of movie objects with the following attributes: `title`, `rating`, `description`, and `genre`. \n",
    "\n",
    "For the vector part of our vector search we will embed the description so that user's can search for movies that best match what they're looking for.\n",
    "\n",
    "**If you are running this notebook locally**, FYI you may not need to perform this step at all."
   ]
  },
  {
   "cell_type": "code",
   "execution_count": 5,
   "id": "b966a9b5",
   "metadata": {},
   "outputs": [
    {
     "name": "stdout",
     "output_type": "stream",
     "text": [
      "Cloning into 'temp_repo'...\n",
      "remote: Enumerating objects: 204, done.\u001b[K\n",
      "remote: Counting objects: 100% (52/52), done.\u001b[K\n",
      "remote: Compressing objects: 100% (28/28), done.\u001b[K\n",
      "remote: Total 204 (delta 37), reused 24 (delta 24), pack-reused 152\u001b[K\n",
      "Receiving objects: 100% (204/204), 9.47 MiB | 10.76 MiB/s, done.\n",
      "Resolving deltas: 100% (64/64), done.\n",
      "mv: temp_repo/python-recipes/vector-search/resources: No such file or directory\n"
     ]
    }
   ],
   "source": [
    "# NBVAL_SKIP\n",
    "!git clone https://github.com/redis-developer/redis-ai-resources.git temp_repo\n",
    "!mv temp_repo/python-recipes/vector-search/resources .\n",
    "!rm -rf temp_repo"
   ]
  },
  {
   "cell_type": "markdown",
   "id": "19bdc2a5-2192-4f5f-bd6e-7c956fd0e230",
   "metadata": {},
   "source": [
    "## Packages"
   ]
  },
  {
   "cell_type": "code",
   "execution_count": 24,
   "id": "c620286e",
   "metadata": {},
   "outputs": [
    {
     "name": "stderr",
     "output_type": "stream",
     "text": [
      "huggingface/tokenizers: The current process just got forked, after parallelism has already been used. Disabling parallelism to avoid deadlocks...\n",
      "To disable this warning, you can either:\n",
      "\t- Avoid using `tokenizers` before the fork if possible\n",
      "\t- Explicitly set the environment variable TOKENIZERS_PARALLELISM=(true | false)\n"
     ]
    },
    {
     "name": "stdout",
     "output_type": "stream",
     "text": [
      "\n",
      "\u001b[1m[\u001b[0m\u001b[34;49mnotice\u001b[0m\u001b[1;39;49m]\u001b[0m\u001b[39;49m A new release of pip is available: \u001b[0m\u001b[31;49m24.0\u001b[0m\u001b[39;49m -> \u001b[0m\u001b[32;49m25.1\u001b[0m\n",
      "\u001b[1m[\u001b[0m\u001b[34;49mnotice\u001b[0m\u001b[1;39;49m]\u001b[0m\u001b[39;49m To update, run: \u001b[0m\u001b[32;49mpip install --upgrade pip\u001b[0m\n",
      "Note: you may need to restart the kernel to use updated packages.\n"
     ]
    }
   ],
   "source": [
    "%pip install -q \"redis>=5.0.5\" numpy sentence-transformers"
   ]
  },
  {
   "cell_type": "markdown",
   "id": "323aec7f",
   "metadata": {},
   "source": [
    "## Install Redis Stack\n",
    "\n",
    "Later in this tutorial, Redis will be used to store, index, and query vector\n",
    "embeddings created from PDF document chunks. **We need to make sure we have a Redis\n",
    "instance available.\n",
    "\n",
    "#### For Colab\n",
    "Use the shell script below to download, extract, and install [Redis Stack](https://redis.io/docs/getting-started/install-stack/) directly from the Redis package archive."
   ]
  },
  {
   "cell_type": "code",
   "execution_count": null,
   "id": "2cb85a99",
   "metadata": {},
   "outputs": [],
   "source": [
    "# NBVAL_SKIP\n",
    "%%sh\n",
    "curl -fsSL https://packages.redis.io/gpg | sudo gpg --dearmor -o /usr/share/keyrings/redis-archive-keyring.gpg\n",
    "echo \"deb [signed-by=/usr/share/keyrings/redis-archive-keyring.gpg] https://packages.redis.io/deb $(lsb_release -cs) main\" | sudo tee /etc/apt/sources.list.d/redis.list\n",
    "sudo apt-get update  > /dev/null 2>&1\n",
    "sudo apt-get install redis-stack-server  > /dev/null 2>&1\n",
    "redis-stack-server --daemonize yes"
   ]
  },
  {
   "cell_type": "markdown",
   "id": "7c5dbaaf",
   "metadata": {},
   "source": [
    "#### For Alternative Environments\n",
    "There are many ways to get the necessary redis-stack instance running\n",
    "1. On cloud, deploy a [FREE instance of Redis in the cloud](https://redis.com/try-free/). Or, if you have your\n",
    "own version of Redis Enterprise running, that works too!\n",
    "2. Per OS, [see the docs](https://redis.io/docs/latest/operate/oss_and_stack/install/install-stack/)\n",
    "3. With docker: `docker run -d --name redis-stack-server -p 6379:6379 redis/redis-stack-server:latest`"
   ]
  },
  {
   "cell_type": "markdown",
   "id": "1d4499ae",
   "metadata": {},
   "source": [
    "### Define the Redis Connection URL\n",
    "\n",
    "By default this notebook connects to the local instance of Redis Stack. **If you have your own Redis Enterprise instance** - replace REDIS_PASSWORD, REDIS_HOST and REDIS_PORT values with your own."
   ]
  },
  {
   "cell_type": "code",
   "execution_count": 1,
   "id": "aefda1d1",
   "metadata": {},
   "outputs": [],
   "source": [
    "import os\n",
    "\n",
    "# Replace values below with your own if using Redis Cloud instance\n",
    "REDIS_HOST = os.getenv(\"REDIS_HOST\", \"localhost\") # ex: \"redis-18374.c253.us-central1-1.gce.cloud.redislabs.com\"\n",
    "REDIS_PORT = os.getenv(\"REDIS_PORT\", \"6379\")      # ex: 18374\n",
    "REDIS_PASSWORD = os.getenv(\"REDIS_PASSWORD\", \"\")  # ex: \"1TNxTEdYRDgIDKM2gDfasupCADXXXX\"\n",
    "\n",
    "# If SSL is enabled on the endpoint, use rediss:// as the URL prefix\n",
    "REDIS_URL = f\"redis://:{REDIS_PASSWORD}@{REDIS_HOST}:{REDIS_PORT}\""
   ]
  },
  {
   "cell_type": "markdown",
   "id": "f8c6ef53",
   "metadata": {},
   "source": [
    "### Create redis client"
   ]
  },
  {
   "cell_type": "code",
   "execution_count": 2,
   "id": "370c1fcc",
   "metadata": {},
   "outputs": [
    {
     "data": {
      "text/plain": [
       "True"
      ]
     },
     "execution_count": 2,
     "metadata": {},
     "output_type": "execute_result"
    }
   ],
   "source": [
    "from redis import Redis\n",
    "client = Redis.from_url(REDIS_URL)\n",
    "client.ping()"
   ]
  },
  {
   "cell_type": "code",
   "execution_count": 3,
   "id": "458fc773",
   "metadata": {},
   "outputs": [],
   "source": [
    "import json\n",
    "\n",
    "with open(\"resources/movies.json\", 'r') as file:\n",
    "    movies = json.load(file)"
   ]
  },
  {
   "cell_type": "code",
   "execution_count": 4,
   "id": "8d561462",
   "metadata": {},
   "outputs": [
    {
     "name": "stderr",
     "output_type": "stream",
     "text": [
      "/Users/robert.shelton/.pyenv/versions/3.11.9/lib/python3.11/site-packages/huggingface_hub/file_download.py:1142: FutureWarning: `resume_download` is deprecated and will be removed in version 1.0.0. Downloads always resume when possible. If you want to force a new download, use `force_download=True`.\n",
      "  warnings.warn(\n",
      "/Users/robert.shelton/.pyenv/versions/3.11.9/lib/python3.11/site-packages/huggingface_hub/file_download.py:1142: FutureWarning: `resume_download` is deprecated and will be removed in version 1.0.0. Downloads always resume when possible. If you want to force a new download, use `force_download=True`.\n",
      "  warnings.warn(\n"
     ]
    }
   ],
   "source": [
    "import numpy as np\n",
    "from sentence_transformers import SentenceTransformer\n",
    "\n",
    "# load model for embedding our movie descriptions\n",
    "model = SentenceTransformer('sentence-transformers/all-MiniLM-L6-v2')\n",
    "\n",
    "def embed_text(model, text):\n",
    "    return np.array(model.encode(text)).astype(np.float32).tobytes()"
   ]
  },
  {
   "cell_type": "code",
   "execution_count": 5,
   "id": "9946a382",
   "metadata": {},
   "outputs": [],
   "source": [
    "# Note: convert embedding array to bytes for storage in Redis Hash data type\n",
    "movie_data = [\n",
    "    {\n",
    "        **movie,\n",
    "        \"vector\": embed_text(model, movie[\"description\"])\n",
    "    } for movie in movies\n",
    "]"
   ]
  },
  {
   "cell_type": "code",
   "execution_count": 6,
   "id": "8797fcc6",
   "metadata": {},
   "outputs": [
    {
     "data": {
      "text/plain": [
       "{'id': 1,\n",
       " 'title': 'Explosive Pursuit',\n",
       " 'genre': 'action',\n",
       " 'rating': 7,\n",
       " 'description': 'A daring cop chases a notorious criminal across the city in a high-stakes game of cat and mouse.',\n",
       " 'vector': b'\\x8bf|=\\xc3`\\n;\\xf2\\x91\\xb7;?\\xcb~\\xbd\\xdfd\\xce\\xbb\\xc7\\x16J=H\\xa7?=\\xdfv\\x95<h\\xfa\\x06\\xbe\\x11Y\\xcf=)\\x07p=E\\xdb\\r\\xbd\\x93\\xf2H\\xbdke\\xc6<@\\xdfa=o8\\x16\\xbc\\xf1\\xd3\\x13<8\\xaa\\x1c=\\x14\\xef\\x89<\\xc1\\xb0-<\\x9d\\xb2\\x9f\\xbc^\\x0b\\xc3\\xbd\\xa5NR=ol\\xf7\\xbcP>\\x17\\xbeA\\x1e\\x05\\xb9Hu\\xbf<B\\xe3b\\xba\\xd8\\xa6\\xa8\\xbd\\x98\\xdc\\xec\\xbc`c%=\\x81\\xe7r\\xbb$OG=:(\\x85=a@\\xa2\\xbc-Z\\xd0\\xbdB%K\\xbd\\xc8\\xed\\x94\\xbcW\\xddH=\\x8e&F<\\xde*\\xec<\\x8d\\xd8\\x8d\\xbd\\xbdZ\\x98<\\x14\\xa3\\xa3=>g3\\xbd$\\xcd\\xbd\\xbd\\xa1$\\xf7;\\x04\\xf5z=\\xfc\\xb4\\x8c=\\x89\\x0e\\xc6\\xbdhI\\x90\\xbd^\\x16\\xbd;z\\xe7\\x0c\\xbd\\x1b3\\xc9\\xbc\\x89\\xf8\\xbb\\xbc\\x18\\'u\\xbb>\\x8f\\xca<\\x02\\x80J=\\x0e\\xaf*=\\x8dOU\\xbd\\xcf\\xf0\\x95\\xbc \\x02\\x19=\\x19\\xf4K<\\xc5\\xc2\\t=J\\x83\\xac=\\x95\\xd7\\xb8\\xbd\\xf2\\xb5\\x9c\\xbd=\\x85\\x18=\\x94d&=03\\xf8<\\xee\\xf7\\x88<\\x80v\\xf2\\xbb9=[\\xbdG\\xac\\xee\\xbb<:A\\xbd\\xe1d\\x19\\xbd!d\\xf2\\xbb\\x1d\\xbax;\\xec;O<\\xd21,\\xbc\\xec\\xae\\xae=r\\x00-\\xbc\"\\x06\\xae\\xbdl\\xd6\\x1a=\\xc4\\xbf\\xcd=\\x19\\x150=\\xe3\\xf1\\x9d\\xbc\\xa6GK=\\xb2\\xb8 =\\xb2\\xf1I\\xbd-e\\x9e\\xbb\\xe9\\x8a\\xf7:\\x88\\xf8\\x1c=\\x7f\\xba\\xde<\\xd2n\\x16\\xbb\\xb4\\\\p\\xbb\\xd4\\xd5<<\\x89\\xa5\\xa3\\xb8\\xc79s<=4&<\\x84\\x1c\\x18<\\x18\\xd9-\\xbd\\xdf\\xe6\\x98<\\x15\\xa1N=\\xa2/\\xa5=\\x1d\\xf3\\xdd<\\x17L\\x13<\\x10\\x10\\xce\\xbac\\x9e\\xdc\\xbc\\xa68\\x05=+\\xa1\\xf5<b\\xd8R\\xbc\\xf3\\x93-\\xbc\\xad\\xe0\\\\9\\xa51\\xec=a\\xf5V=\\x1eG\\xd6\\xbc\\x99\"S=\\xd3\\xd9^\\xbd\\xae\\xa3\\x91<\\x12\\xda\\x13<\\xc0\\xb2y\\xbb\\x90\\x8d/\\xbd\\xbd\\x06p<?\\x95\\x88\\xbb\\xc3\\xd0\\x9d<H\\x02\\xb6=\\x1a\\xf1\\xad\\x89\\x14\\xf2\\xa6\\xbb\\xbc\\xfbe\\xbd\\xbdQK\\xbbH\\x10\\x90\\xbb/t\\xb9\\xbbL\\xc9\\xb9\\xbb\\x0cik=\\xaa\\r\\xad<1f\\xa8\\xbd\\xbd]\\xcc=\\x1a\\xe0 \\xbe\\xcb4/\\xbdvf\\xf7\\xbcX\\x9av=\\x0c\\x0cq<0\\xda\\x1c\\xbd\\xfe\\x08\\x8b<\\xden\\xa6\\xbc\\xd2t\\x86<\\x82\\x87\\x19=m\\xae\\xe4\\xbc\\x1dm^\\xbc\\x1bV\\x0e\\xbdm\\xb0\\xe3\\xbc\\xdcFU;\\xacG|\\xbdZ\\xfb\\x8b\\xbdv\\x81*\\xbd\\x81\\x83\\xf4=|\\xb7\\x10;\\x08!\\x0e\\xbd\\x00\\xd4\\xb4=\\x14&\\x15\\xbdR\\x86\\x83=d$:<1\\xea\\xa1<\"\\x08\\x8d\\xbd\\xa8\\x00i\\xbd<\\x01\\xdd<\\x00\\x87\\xd6=1\\x98\\x9c\\xbdb|!\\xbd\\xb2\\x1c\\xc5\\xb9\\xaf\\xb3\\x93\\xbc\\xf0\\xcb>\\xbd\\x84\\x1bF\\xbd\\xa0?\\x14\\xbe\\xc4\\x8f(\\xbd\\xe6O\\x89\\xbd\\xf7\\xad\\xd4<\\xa7\\x12\\xc3=\\xaf\\x05O\\xbd\\x99\\x8ep\\xbc\\x18\\xb5\\xac\\xbc\\xc9\\x9ee\\xbdH\\x8es;$a\\xc1;\\xd9\\xfaB\\xbd\\xa8#\\xfe:\\x92\\xe6\\xf4=\\xcd\\x15*<\\x86\\xf8\\x1b=\\x01\\xfcV\\xbd\\xd3\\xd1\\r=9\\xee\\x06=\\x13u\\xba\\xbd\\xf7\\xa3\\xd6<\\x1a\\xec\\xd9;\\xb79/=\\xa4\\xc2\\x85=p\\x0b\"=\\xe1i\\xef<:\\xe8c=\\xfb2\\x08\\xbe\\xce\\x12;=OVW;V\\xa4b<\\xd0\\x9d\\xb7<\\x87r;\\xbdqz\\x91\\xbcV\\x00<\\xbd\\xfe\\x19\\xa3<\\xeaJ%\\xbc!\\xe7\\xbf\\xbb\\x7f\\x87\\x12=\\x94\\x1d\\x95=b|\\xfd\\xbc\\xf3\\xf1\\xd1\\xbd\\xf5y\\x84;\\xc9\\tu=]\\x8ai<3\\x91R\\xbd\\xec\\xf3m\\xbd\\x93\\xb83=V\\xedF=\\x1f\\xf3\\xd1\\x08yA\\xba<#\\xacO\\xbd\\x01\\x0f\\xc7;\\x7f\\xf4\\x04\\xbdP\\x82\\x92\\xbd\\x9b\\xddD=p\\xd8;\\xbc\\xd3;\\xf4\\xbc\\xb3\\x8f\\x97\\xbd1\\\\\\r\\xbd\\xea\\x8c\\xf5\\xbd\\x8c\\x13(=\\x9e\\xc8\\xc6=\\xa3\\xed\\x1a=\\x98\\xa8\\xf8=\\x84\\xc1\\xee\\xbc\\xcd-\\x18\\xbb\\xf5~;<\\xd6F\\t\\xbd\\x14\\x08\\x17=\\xa5\\xa5\\x1e=\\x14K\\xcb\\xbd.\\xf7\\x8c\\xbdyb\\xed\\xbb\\x86[\\x19\\xbc]\\x0c\\x13\\xbcgq\\x83=\\xf0wd\\xbd\\xe3\\xc7\\xd1\\xbb8lY\\xbc\\xa7|a=3\\xcf\\xfd\\xbc\\x1f\\xa5\\x83\\xbb\\x99O\\x19\\xbd6\\x02]\\xbd\\xbb\\xeaz=\\x036\\x9c=:^\\xa9\\xbd)^9\\xbcg\\xe4N\\xbcs\\x07x\\xbd\\x18{\\xa0=:\\x9f\\x96<\\xecq8\\xba\\x9e\\xbb=\\xbd\\xe4|(<\\x96\\xdf\\xb4\\xbbl\\xc9\\x0b\\xbd\\xc4\\x01\\x95\\xbd\\xf7\\xc6T=\\tp\\xd1<c3\\'\\xbd\\xb4\\x00H<t\\x0f\\xb8<\\x1fU}\\xbdx}\\x01=\\xfe\\xc9[\\xbd\\xfd\\xec\\x03<\\xf9b\\x0f\\xbd\\xc6\\x8e\\xe7\\xbc\\x04\\x17\\xc8<\\xbc\\x08\\x9c=\\x03\\xd5\\xa6\\xbdDQ\\xe5=\\x82-O<\\xdb\\xf22=\\xd326\\xbd\\xe6\\xe2\\xf2\\xbc\\xf8Z\\xa7<s\\xb2\\x02\\xbe\\xfbn2\\xbd\\xab\\x80\\x8a=\\x00\\xc4\\t\\xbd\\r\\xb8\\xcd\\xbc\\xbb\\xdb\\xad\\xbb\\x98\\xfd\\xde\\xbc\\x10\\x17E=|\\x06\\xbd=\\x1b&m=\\x14X\\x8e=\\xeb\\xae\\xa4=4\\xa3\\xca\\xbbN?\\r\\xbc\\xc99\\x9c<Il\\x8e\\xbdC\\x10k=f\\xff\\xbe;\\x9a\\x16\\xff<\\x878\\x92<\\x912\\x8c;N\\xac\\xa3=\\xf7+v<\\xfe\\x89\\xf0\\xbb\\xa6\\xdb\\x07\\xbc\\x88\\xae\\xbd\\xbc\\xb5\\x8f\\xb4\\xb2\\xb2\\x88\\xd3\\xbd\\x7f\\xe9j=\\xe9\\xdb\\xa7\\xbd\\xeb\\x16\\xe5<A\\x19p=\\xf6\\xe6\\x9f=\\xdbGh\\xbd\\xe5\\x9a\\xf4\\xbd5\\xd6\\x07\\xbc(\\xddj<$tw=\\x8a\\xd0\\xe1<\\xbd\\xae\\x1e=\\xc6F\\xc4<\\xaa0\\n<+jd\\xbc\\xb8\\xfa\\x8c=\\xd5\\x8a\\xa6\\xbc\\xd2.\\xcd\\xba\\xb6p\\xcf=\\x1bT-\\xbd\\xc0Qn=<\\x16\\x9f\\xbd\\x90\\x8a_=A\\x13#<\\xf3\\xa9m;\\'\\x86\\x00\\xbe\\xd9y\\x8b\\xbcpUG=\\xa1\\xa3\\xca=\\xbf\\xbdq\\xbc\\x93\\xe3:\\xbd\\xb2\\x93]<{]\\xd1;\\xc8d\\xae=\\x9b\\x1f\\x03\\xbd\\x07L\\x89=b:s\\xbd\\xa1\\x1eb=\\xe3\\xc9\\t\\xbb\\x98\\xfb\\xe7<w\\xce\\xe4\\xbcCV#=t\\x8bk\\xbd\\xebh\\x01<\\xfd\\xe5N\\xbd[\\x0c\\xb1\\xbch\\x01J\\xbdg\\xf4~=F\\xe3Z\\xbd\\x07/\\xf1\\xbbG98=\\xb82T\\xbc(\\'\\x81<\\xc8\\xa0M=\\x83\\xde\\x05<&I|\\xbd\\xec\\x98w<\\xde\\xd3\\xa7\\xbd\\xddS \\xbdv\\x13\\x07=\\x11&\\x14\\xbc\\xbbv\\xe9<\\xf4,\\x97='}"
      ]
     },
     "execution_count": 6,
     "metadata": {},
     "output_type": "execute_result"
    }
   ],
   "source": [
    "movie_data[0]"
   ]
  },
  {
   "cell_type": "markdown",
   "id": "d7e99897",
   "metadata": {},
   "source": [
    "## Define Redis index schema"
   ]
  },
  {
   "cell_type": "code",
   "execution_count": 7,
   "id": "2ac53ebd",
   "metadata": {},
   "outputs": [],
   "source": [
    "from redis.commands.search.field import VectorField, TagField, NumericField, TextField\n",
    "from redis.commands.search.index_definition import IndexDefinition, IndexType\n",
    "\n",
    "index_name = \"movies\"\n",
    "\n",
    "schema = (\n",
    "    VectorField(\n",
    "        \"vector\",\n",
    "        \"HNSW\",\n",
    "        {\n",
    "            \"TYPE\": \"FLOAT32\",\n",
    "            \"DIM\": 384,\n",
    "            \"DISTANCE_METRIC\": \"COSINE\"\n",
    "        }\n",
    "        ),\n",
    "        NumericField(\"rating\"),\n",
    "        TagField(\"genre\"),\n",
    "        TextField(\"title\"),\n",
    "        TextField(\"description\")\n",
    ")\n",
    "\n",
    "try:\n",
    "    client.ft(index_name).info()\n",
    "    print(\"Index exists!\")\n",
    "except:\n",
    "    # index Definition\n",
    "    definition = IndexDefinition(index_type=IndexType.HASH)\n",
    "\n",
    "    # create Index\n",
    "    client.ft(index_name).create_index(fields=schema, definition=definition)"
   ]
  },
  {
   "cell_type": "markdown",
   "id": "24d3ea9c",
   "metadata": {},
   "source": [
    "## Populate index"
   ]
  },
  {
   "cell_type": "code",
   "execution_count": 8,
   "id": "169ebb93",
   "metadata": {},
   "outputs": [],
   "source": [
    "def load_docs(client: Redis, data: list[dict]):\n",
    "    for i, d in enumerate(data):\n",
    "        client.hset(\n",
    "            i,\n",
    "            mapping = d\n",
    "        )\n",
    "\n",
    "def print_results(res):\n",
    "    docs = [(doc.title, doc.genre, doc.rating) for doc in res.docs]\n",
    "    print(f\"Top {len(docs)} movies: \", docs)"
   ]
  },
  {
   "cell_type": "code",
   "execution_count": 9,
   "id": "5d643bbf",
   "metadata": {},
   "outputs": [],
   "source": [
    "load_docs(client, movie_data)"
   ]
  },
  {
   "cell_type": "code",
   "execution_count": 10,
   "id": "e5515073",
   "metadata": {},
   "outputs": [
    {
     "data": {
      "text/plain": [
       "Result{20 total, docs: [Document {'id': '0', 'payload': None, 'genre': 'action', 'description': 'A daring cop chases a notorious criminal across the city in a high-stakes game of cat and mouse.', 'vector': 'f|=`\\n;;?~dλ\\x16J=H?=v<h\\x06\\x11Y=)\\x07p=E\\rHke<@a=o8\\x16\\x13<8\\x1c=\\x14<-<^\\x0býNR=olP>\\x17A\\x1e\\x05Hu<Bbئ`c%=r$OG=:(=a@-ZнB%K피WH=&F<*<؍Z<\\x14=>g3$ͽ$;\\x04z==\\x0eƽhI^\\x16;z\\x0c\\x1b3ɼ\\x18\\'u><\\x02J=\\x0e*=OU \\x02\\x19=\\x19K<\\t=J=\\u05f8\\U000b573d=\\x18=d&=03<<v9=[G<:Ad\\x19!d\\x1dx;;O<1,쮮=r\\x00-\"\\x06l\\x1a=Ŀ=\\x19\\x150=\\U0005df26GK= =I-e:\\x1c=\\x7f<n\\x16\\\\p<<9s<=4&<\\x1c\\x18<\\x18-<\\x15N=/=\\x1d<\\x17L\\x13<\\x10\\x10κcܼ8\\x05=+<bR-\\\\91=aV=\\x1eGּ\"S=^<\\x12\\x13<y/\\x06p<?Н<H\\x02=\\x1a\\x14\\U000a6efceQKH\\x10/tLɹ\\x0cik=\\r<1f]=\\x1a 4/vfXv=\\x0c\\x0cq<0\\x1c\\x08<nt<\\x19=m\\x1dm^\\x1bV\\x0emFU;G|Zv*=|\\x10;\\x08!\\x0e\\x00Դ=\\x14&\\x15R=d$:<1<\"\\x08\\x00i<\\x01<\\x00=1b|!\\x1cŹ>\\x1bF?\\x14ď(O<\\x12=\\x05Op\\x18ɞeHs;$a;B#:=\\x15*<\\x1b=\\x01V\\r=9\\x06=\\x13u<\\x1a;9/=\\x85=p\\x0b\"=i<:c=2\\x08\\x12;=OVW;Vb<Н<r;qzV\\x00<\\x19<J%!翻\\x7f\\x12=\\x1d=b|ѽy;\\tu=]i<3Rm3=VF=\\x1f\\x08yA<#O\\x01\\x0f;\\x7f\\x04PD=p;;1\\\\\\r\\x13(==\\x1a==-\\x18~;<F\\t\\x14\\x08\\x17=\\x1e=\\x14K˽.yb[\\x19]\\x0c\\x13gq=wdѻ8lY|a=3\\x1fO\\x196\\x02]z=\\x036=:^)^9gNs\\x07x\\x18{=:<q8=|(<ߴl\\x0b\\x01T=\\tp<c3\\'\\x00H<t\\x0f<\\x1fU}x}\\x01=[\\x03<b\\x0fƎ\\x04\\x17<\\x08=\\x03զDQ=-O<2=26Z<s\\x02n2=\\x00\\t\\rͼۭ\\u07bc\\x10\\x17E=|\\x06=\\x1b&m=\\x14X=뮤=4ʻN?\\r9<IlC\\x10k=f;\\x16<8<2;N=+v<\\x07ӽ\\x7fj=ۧ\\x16<A\\x19p==Gh5\\x07(j<$tw=<\\x1e=F<0\\n<+jd=Պ.ͺp=\\x1bT-Qn=<\\x16_=A\\x13#<m;\\'\\x00ypUG==q:]<{];d=\\x1f\\x03\\x07L=b:s\\x1eb=\\t<wCV#=tkh\\x01<N[\\x0ch\\x01Jg~=FZ\\x07/G98=2T(\\'<ȠM=\\x05<&I|w<ӧS v\\x13\\x07=\\x11&\\x14v<,=', 'title': 'Explosive Pursuit', 'rating': '7'}, Document {'id': '1', 'payload': None, 'genre': 'action', 'description': 'James Bond returns to track down a dangerous new enemy who threatens global security.', 'vector': 'DV\\x16\\x0fT/g=N\\x13$=\\x07/4<<Ժ;\\x06<\\x1fC3}=BG4\\x1b;=\\x1b=\\x05<K<Q2=0<t\\u05f6<\\x08ݼ\\x07Ž;\\x12=`=?־\\x14\\x13\\x12=\\x0b-\\x03;\\x08<2\\x0b=$*h;܀<\\x00\\x19\\x94=y%\"pxI:=6<ZJ=\\x08=7%E?V\\x02k=9,\\'=\\x10Y @\\x00U><9,=\\x17ߺ\\x14:M9\\x08\\x0bV<_6=!Ub#=WX=u\\x11=?6=\\x06,<\\'\\x15t=;лwK-=H\\x11\\x036=\\x15<8xM\\x10=_\\x03D=\\x0b\\x08$G\\x0cr=m=<)$y\\x06=X=s%\\r\\x1dz\\x0e\\t<$\\tI=\\x01x\\x10;Y\\x0f<蓻bߺe c=>;\\x18u༎\\x10x~=ah<\\x070;#r=iD:?ئa2g\\x00=\\x1bą;g\\x12=OʃRF2=\\x11䛽%==^<̒\\x06=-@g<;ܼX\\x19=#b\\x0bb}xU;\\\\\\x08~=/&N(缸&\\x08ۆ=:p^<|僼<E\\x0c=d\\t\\r;/T===\\x0ec[e;==\\ue8bc\\x15\\x0e=\\x12X=R<Jh<N)=W<ჽp;bE:\\x0eڟu=f91ػL擼\\x14Y\\x1f/<?k=0⽀\\x0fj<ʽd><m\\x1b\\x1e\\x17L*e\\x08m\\x04R9>½f\\x11=\\u05fdx<#;Ȼ=1I\\x0b\\x7f\\x0cR\\x11\\x14ʽuA<;\\rpr}\\x0f\\x18=Tp1gC<:\\x16{\\x19.<$5=AGl=-\\\\=hGEY>;2\\r==y{@\\x16Oƻ$o=\\x0b#j=~0> {\\x03kl/=ul\\x07ͼ\\x17>F1\\x1bYFؔ/\\x1d5M\\x07Jݏ=-\\x08xN<kk\\x19<=n<\\r\\x0e0<\\x02 =\\x15\\x1aڼ<{=\\x00|;\\r=0\\x0e<L;2=\\x1aĆ<\\x0bs=,`ϛci;\\x14<-f|\\x0c>>\\x7f<E\\x0fF\\x05=b@/=1\\x1f=\\x01u\\x04I 2F<\\x0b<A>;M\\x05u<N=\\x13\\x07_`VǙ璹<Ok9@\\x0e瀻<g</Q;Jc\\'%=\\x07\\x12^\\x02\\x02=\\x16<<\\u0603X?<:PmҲ\\n<s\"Lѽ\\x07M\\x14+Y=\\x016=q:\\x0ecz\\x1f=i\\x18=\\x07N=C\\x1b=\\nFU9Q;u\\x1f1b=B\\u05fc<}aKeF\\r=6N=\\x01L\\r2;&[Լ4X\\x19<]ܽO\\'=\\nRd\\x05ӫ:a\\x00\\x03-Lc<3;~\\x05\\x08;\\x13&:<<\\x130ۼׄ=#~CB\\x18;G4=\\x11<2=Z9=ԳItD1=o\\x02=~m=\\uef1c\\x07<\\x0c=P=\\x04\\x1aH\\x17|=j^=\\x1bBzmL=8H)=\\x1dGn\\x18<emĚ8s\\nL=Z8=^<@-v<D(y<\\x0ey\\tt:\\x1b:=', 'title': 'Skyfall', 'rating': '8'}, Document {'id': '2', 'payload': None, 'genre': 'action', 'description': 'Dom and his crew face off against a high-tech enemy with advanced weapons and technology.', 'vector': '&Ǽ,=>\\x19H@tC=<\\x0f\\x18Kz=\\x13=ጽ&=qZ\\x07=Mq=^ߣA*\\'\\x13\\x03=;A&s=u0l<S\\x03\\t:\\x07\\x14=e\\r\\x03\\x18=_(=>tn>\\t=bڼ@f\\'j\\x10\\x01=Ѽ\\x12C=6)vgi6\\x05\\x01l\\x15<\\x17m\\x15; =\\rL\\x13;ýC=\\x04лS\\x03_\\x02[=B/D>=5\\x19\\x03\\x13<\\r|K=\\'h<\\nB<>9T\\x1eh=ݨa=Ϳ-\\x00;=fK=t=}ظ;Ϧj<ݛ;\\x03}<-<\\x18;\\x1e.=\\x1en;\\x01G=L\\x10Q\\\\|\\x11Yo=u\\x0f\\x19%+=1P<:m;\\x07&==r<qg=\\x0f1=%<v\\x12\\x19=\"=Q<\\x0b&\\x03\\x1f,6@PF=1< <*\\\\\\x08\\x04<aGx\\rؘw),&Vg\\x10&=ఊw\\x1bH\\x17=$p?qo\\x1a\\x7f=K5X=\\x01uɕ?;\\x06X<+6w:k=ݾ\\x16=\\x012%\\x1b<P\\x0c}\\x04=$\\x0828Q<\\x1b;B;p\\x18\\x1e]=c{\\x1b:ɼKl<Ks<)<\\'=ﵽ \\r魂\\';\\x1bq=:qӛ=\\\\=7\\x188\\x1bƽRt\\u07fcfA=P6\\x19=?x!Ѽ@\\r:1:)ӝ<d<?zZ<?v=-<V\\x19z<ku<\\x12B<\"<0\\x1c8=/\\x18=}]=G3=tJe^`ټ/\\u07bc\\x15P+,.=SC\\x0eiN =BH=˔\\n=e\\x1do<-V58]t\\x06d<=<\\\\<Ɖ9\\x7f6<**(|pc~*;=\\x07KA):&ql\\x13\\x08\\x04M1<\\x10<n\\x01ܻ6N= V\\x05A;\\x1a|e=j봼=\"?=@1(xmf8=xa<=k\\n$;f\\x12=Q\\x068>QA\\x15ϼ\\x0b+<\\x02=h\\x0e9=I3K=5ͼ\\x04E7;ty|=\\x04Ӏ<\\x0c<\\x01\\x0e\\x18>\\x0f\\x14qiQ=yR:kX=\\x13|\\x0b=ǎI0s-Qߒ;{<enʏ<= 8ýRv\\x02QMm=\\x0b=\\x18e#<TYG=\\x07ޠ;\\x01=VC=n\\x15\\x1f\\\\=^=X6zZ=h\\x1b\\r&\\x00ܻX-=\\x1b_`\"x\\x1a3\\x14;\\'\\x04N=\\x18c\\r=\";ZI\\x18n=\\x16%tU=V\\x00W@\\x1eLIK\\x0e[;q#ǼIʲ̃\\x0f\\x08\\x0e-vĤ\\u05fb8<\\x12`;6\\tM=-\\x15;\\t</\\x02=<bIj=D\\x16=\\x0ef\\x01M\\x05Vx]`rڽ\\x04h=i\\x01!F#=x\\x05=\\x15խ<\\x0bM=ȼ<<,\\x7f=\\u05fc=ռ-\\x15S=.\\x1f<v\\x03>XB=\\r\\x046=y6EW=\\r<=X=\\x1a<\\x18U\\x15\\x02I\\x00Bg;~ =\\x7fv\\x16y\\'غ\\x19\\r\\x1b)(3\\x16O<O\\x08<\\x0fk\\x01!A=9\\n=', 'title': 'Fast & Furious 9', 'rating': '6'}, Document {'id': '3', 'payload': None, 'genre': 'action', 'description': 'Natasha Romanoff confronts her dark past and family ties as she battles a new enemy.', 'vector': 'r녽\\x07o»?}=$<z=;\\x0b=R;\\x0cg;ɸH|kF7(Y\\x02\\x05s;Óa\\x11;\\t߽ga<8=<\\x17=\\x06uӎ<U⼠HH1=\\x1f=P<XƄ<^W=\\n=`\\x12\\x075=\\n<\\x04[8=uH=0\\n_\\x7f:_<ͥ;hЀ:*p;ʽ۱ͼ\\x1a?=ɼ=x=3=;a<OIQ=N\\x03D\\x7fl\"=Iܤ<SO蟕=.\\x0bw@=_\\x00|=\\x1fռtȼVYw\\x11=~=\\x02E\\x11<f\"=5d8=\\\\<\\x03Լ)<}\\x16\\x1b=y낽K!<-9j=#:轰\\x03<\\x1e=<< :\\ued7cm<SA=<\\x05fաn\\x10f2\\x12=%=\\x1b_\\x1eżӼN.4NC1=68}=6#vܽ:/==\\x18`\\x0e=\\x14;߭P=}:)=*UK=V\\x01ʀJ<w;#\\x0c\\'B /\\x04~\\x10\\tW&q<9<m:p\\x05=7.ؼ\\x1d$==N-\\x18=X;ˊ=\\x05\\x05>j\\x0eA0=7L=dI\\r=A[=\\x02A;\\\\=o\\x00Ƽ)V¼Їh5\\x01=\\x06=h>ˠŐ<u^=<J<49=1<\\x19>WxL=\\x04=v\\x7f)͓:\\x10;aZ\"\\x06/2\\x0b==\\t/&|f<ӽm\\x1fnx=+F\\n*<}w\\x07lI\\x00\\x02@=Bi<Gߢ=Ľ\\x19\\x1c-YF=wb=\\x02\\x039\\x1b#O\\x12<?\\x12=ҽ|<6Ż9\\x03<ΝVN;\\x13/$=ہ=Ƽa_\\x05ӆ%l<r [=$ҼA僼c5\\x00=EL ]]4 =<\\x07=7Uml诼\\x0c<c=H<\\x184\\x00=\\\\)<m!=Ub&\\x14\\x04=>\\x06=\\x1c\\x11v<f*Z@=\\x1e;9?A?\\x0fF];!ky=\\x1c7\\r>:/ٍ!\\x18(Ј`;<ᓟ\\x02R=\\x13>c{R=3Qٽ2ӄ<f\\x1f\\x14QI\\\\!\\x17Q=eQP=R=j.=X\\x0b9Kj7NwN==|rQk==漼<t=\\x05x\\x08:\\x1a<Ϯ\\x04\\x194{ͼՃ\\x1e;$\\x17F=߀ټ\\x05BƻWC=둋<hAℽ\\x08\\x1eɮ<<?=-\\x08$\\U000fbae7\\x10)<C\\x0b=k=d<=ʦ\\x08=\\r䌽\\\\\\t*y\\x15\\x02`*Ȇi\\x02<Pм1<\\x06|ZW~=Lc#tGL;jq;3\\x1f]=Ji!@<G3-=t<ϾY~\\x1f=j=#&C\\x10U<\\x10ՌR:J5νɹf\\x15a=13=\\x08\\x15<\\x17,s3<A4\\x1a\\x1f=\\x1a<M;.m̻#S==l~Gj\\x17o_N<<e=)\\x14\\x07;C;!1=\\r=p}M\\x05\\'=\\x04ⶼlS<tA=G<Bg\\x14=%\\x18lP=ؒʼ', 'title': 'Black Widow', 'rating': '7'}, Document {'id': '4', 'payload': None, 'genre': 'action', 'description': 'A retired hitman seeks vengeance against those who wronged him, leaving a trail of destruction in his wake.', 'vector': ';x.=:;Д<)w;#a<O\\U000bcdeb?c<[c\\t\\t=\\x13\\x05C<8<=\\x7f<\\x01\\x07ȼ1\\nwx3=%:m\\x1b\\x1dRʽ\\x11\\x16`\\x00\\t5<\\x13:x\\x12;\\x02CD)]e<;m睼|\\x0fi<z<-\\x0b<nF9A?|ƑTỄм\\x0f8<xQh=\\x16?A\\t@=̼\\x19\\x0c=݅\\x13=4\\x0c=(`\\r=0\\x15;\\x0cM={X\\x1b%\\n= %,|C!n<\\x14\\x07=\\n=8=\\x00?=u<šьO$*ӼOhW7<Gݓ=q\\x16*<\\tǫ=;>\\x05<~<${Y=_i=Ib>=Y\\x1c<̠$>#=\\x01j|\\x19Q=6l=\\x15q-Sf<\\x1d\\x07$=\\x1f\\x0e<Y\\x1aW,D\\x1d6\\\\\\x0f=Ua7\\x19!s{\\x0c=z=^\\\\\\x052w\\x0bmhb=\\x06=\\x0b\\x1b%<<@\\x1fg;\\x16=#;\\x03q\\x17=r<L\\\\\\x17Ѭ\\x1d<b\\x07#=Fz\\\\\\x1fM\\x1c\\x1bOZ9D+\\x16\\u05ee<<&4Ҽ\\x19,=du\\x7f~<EW=i#/:<\\x01W<\\'\\x04Q=ɛA\\x13=\\x17Ḽ|\\x0c:k謽^\\x04=`\\x1ev0\\x06\\x11-m_=J=<=<]t<\\x1c\\x0c=\\x02\\x13\\x1c=v\";ǂʽu=L\\x17\\x06\\x16?<~fs<rȷ<5μ\\x14=TK\\x06%R<ʇ<\\x17\\x08=N&;K7x=7\\\\@&;hU==ýZ\\x1cG6LA=\\x1dܼ\\x08;#\\x102=x\\x05Q\\x0f\\\\IK7=buH=\\x032ۼ<\\x0c<F\\x194W斺U\\x00<<&=\\x1e`%<Qx=\\x17\\x16<_2-\\x05=\\x07³3b<M<\\x053=c==\\x10Nu8=O.{x\\x0e&rF\\x07\\x14\\x15\\x08\\'>=>\\x03$L~<\\x01\\x02a\\x1dI<\\x14=ZnS3m!~͈\\x05\\u07bb\\x1e=cHf\\x11h@<1ki$3=\\x14\\x08.\\x17w>=\\x03)=><\\x1d\\x10<Xj<3;|<ﲚ<O<O/TS\\x05>b괺Be=\\x1b\\x003=Y<\\x156e<1bL=D\\x03\\x0b]b\\x14<3 >\\x02\\n:2*=\"8,QʽQ=j\\x1d\\x16w!>\\x13<\\x1ey!\\x00U<\\x13u<\\x12<S=G#tԂ=\\x0b\\x1dXJ\\x14\\x17;:(=[t<s<)+Ľ+Xב\\'\\x7f\\x00~J-qҼ><\\x14C[:c=5<@\\x0bM=\\x05\\x182;f<ӭ==\\x03b;\\x0bН<\\x1b=\\r\\tșL[{\\x16;!μU;\\nZ<\\x0f\\x17=ߑ=\\uec09dT=^Լ<\\x0c;\\x196(=\\x08\\x1b<\\x01=!\\x17<\\x0f.=yq=~\\x1a\\x1f:G0(H]X=d\\x10=Ge<PW\\x06*ؽ~\\n<Ü<\\x05.I%e=f_<u\\x01=5=yp.=*d\\'\\x0b=jG7<qhϘ\\x0c\\x14>@[\\x06F<', 'title': 'John Wick', 'rating': '8'}, Document {'id': '6', 'payload': None, 'genre': 'action', 'description': 'Batman faces off against the Joker, a criminal mastermind who threatens to plunge Gotham into chaos.', 'vector': ':A%=Em5\\x0e<pR=w=<G<TFn(G\\n=\\'q;\\x15aH?pm*v2i<;=\\r\\x04=0[=y=uϺꎰ;?Rg Xm=\\tnZh<(#=යS,a\\x10=f<?ѵZ(\\x19>Gh=\\x035%\\x01P\\x1eq\\x1d\\x1c=N==\\r\\x04\\\\<h^<a\"#BaE=uP1b=k\\r=t\\x03=]\\x18<w\\')<\\x0f=$=hOM<t-=y7)=(r=7:\\t<.\\x0c\\x1a?=<y4*\\x08<Z虼\\x06`<@<\\x0eW;+=\\x11<:<=\\x7fG<C)o\\\\_=S6\\x198\\'ƽ\\x7f<n;/e=K\\x03MqH=)=\\x1a<\\x04O\\x19\\x1e=;?\\x7fd=kd\\n\\x0f!v~E=9;8\\x07\\x02<A7<==蹖MV=p7\\x1by\\x18>8E= ,==4\\x01G==(<\\x02/)=PK6\\x04Y螉\\x0eྲྀ8:2jt|=,\\x0c6\\x17am<&=\\t\\x18>_\\x108<\\x0f!lQ^\\x0e>1K=<*F\\x01Q.hЌg\\r\\x01<Ԭ<@<0\\r\\x11=\\rq\\rT\\'P=y<b\\x08F=X+\\x01\\x1f6=\\\\(=\\x0e]\\u07fc\\x18KU;\\x08̼xO7,\\taݼ\\t\\x02W֛\\x19\\x18n$\\x1e\\x0f<q\\x10=\\'<{@rw<#\\x10L/=`\\x00ϼQa<.W=\\x1frnI\\x1c\\x03L;\\x1aj@3\\x15\\x16wT8F\\x7fJ<{q=z\\'C<umW<\"=\\x1c=nO%J=,=|\\x10=5F\\x0e;\\x04Hs<}O05<^\\r9;\\td.=\\x02Uݼ\\x10\\x16=<M=r:pħ$s!Z\\x18GTp<3;^?T=\\x13u\\x13\\x03ܼR\\x11;*=j\\x14=wIe=\\x0c\\x02|t;=<BF(\\x059~\\n@9B=\\x0bx<5(9<s~\"A=\\x01Dy<\\x01\\x16=\\x06\\x04=+ܻ\\x1c\\x04>\\x17ml>DM}=rH5=\\x0f\\x13Ϋ=D\\x03;\\rR=a=4=\\x13q\\x07=ޭ\\x01=\\x17<.J\\x01=Gy\\t\\x13<XLν;\\x08/;\\x06k$&($=I=b<\\x13n=\\x0c=\"=\\x04\\x1a;;GM\\x00[A攽?=h&\\x1f\\x120<z\\x13I\\x05<xt=\\x07h\\x12=?=\\x7fcRFE(\\u07fc8@=t.x=`<Z!ɈjeY\\x0f+<|,so<mln=;cǽi\\x14i$黮m0qY=\\x0f<E<T\\x19<>S=\\'6k\\x00\\x07;Oؽf\\x08<2ݼ<(}E=M{JֽY=Vj\\x18A=CT@]=Jj<18\\x1a=ぎ=\\r8P{<.4Ž\\x0f=\\\\g==+D=Vc<!w?;sRP@A6Inx;\\x00Up+\\x0b \"=\\x17FuU9ǬO<)==\\x01TA=\"C;', 'title': 'The Dark Knight', 'rating': '9'}, Document {'id': '7', 'payload': None, 'genre': 'action', 'description': 'A betrayed Roman general seeks revenge against the corrupt emperor who murdered his family.', 'vector': '6㶽>e=6xUǽ-\\r+=O=,ü0C\\x05R=\\nr<kf<\\x1cotUm&@{F=ඏ<\\x1b\\U000d1f1bJ`=+}$<냺s\\'G6=\\x19l=V\\x0bKp\\x7f\\x10\\x11x\\x00=\\x08a\\x08ӆ=K\\x08Y:8\\x00Q)w\\x0f\\x19s=\\x05|<<y_=^<hT=䜆\\x1a\\x0c<o=\\x7f\\x02E=؝<_f<<\\x004#%=U!`]:<\\t\\x0fڼ9sw=\\x02dy\\x10=\\x1f=^<\\x17&P;e늼\\x00˼K3<d\\'o\\x07<\\uf254;\\x19\\x1d\\x11EDk=\\x13\\x0b;ýL#=<:M μ&\\njpbWN=;NkK=\\x14HЍ=;\\x1eG\\x01>SZ=[L\\x01\\nnV=Ѝ\\x19W=:w=4v=C\\x1b@<:y<q=ei\\x02W_=\\x02_=-JEX<`]YϽ㷼B;R#\\x0c<c:=\\'\\rY=\\x0b=oY\\x07\\r=\\x19;\\x1aG̼콘;=m\\x13U=/b٦\\x06x!h;?\\x07#L~zZ1<vN1=\\x14w\\x10jP=~pB%PjZ#X\\u07bd@#=>;\\nh=ڙ=C\\uef1e=@ے=9_S8;e<\\x1d\\x1b=rD<Q;\\x06\"<[\\x14=n̤٤=\\x13=\\x1d\\x1bi<\\x1a(<)<lj\\x17\\x1b=ʽ=\\x0e=\\x03G<\\x1bL03<>K-S새;\\t\\x16=\\x1a\\x18~=r6<a;v\\x00J=e\\x169=7=@j]<3=&=\\x0e\\x0cL=\\x1akѴ˼\\'<fI\\x15&C =*Q\\x0e\\x03i,,|\\x0f=ʹh\\x17ǼQuڽXe2\\\\㽄\\x10Np<\\x19<_V<\\x053\\U000e0f19Rq;6P=1n <*[?n]K=\\x7f\\r\\x19\\x02<\\x01j\\x1b\\x03G<X=SS@н <Dfh۳U<><O=\\n=\\x18\\x16Y3\\t>\\x19=<Z\\x1cݽ-Sd<];AF<_7<GDJ\\x0f!==<\\x04=\\x13=Ӂ=Ti<k\\x10\\x00=;=v=̐=Y\\x01z1:=yĻ.|\\x1e<\\x17O=H\\x04=<nټrx3\\r~3=/<\\x04<<=̑<Ž=2P\\r=0^%Y<uټQ<\\x01\\x18-\\n&A:Q=*\\n=\\x1cWFGN.<x\\x1f=Eݠ<)ý\\u0604J\\x18=Fά=6\\x11%4\\x05\\x1e!=EH<\\x1e\\x17WQ=#?L=B=\\x15k=jl\\x7f\\x01=ҽ0\\x0c=|\\x1a%/=y\\x15ub\\'aJ<f\\x10lǚč~;+9;%<p==<\\x03A;!\\x0b\\x0b¸⼂aф\\x7fG\\x13û=hH^X<?y;m\\x17=\\nD=\\x1c\\u05fc\\x1d\\x16et\\x19;;<l=̝s}=\\x0f2\\\\<b=.<QMQ6\\x17@=<=T77 ;m<\\x16ye&vL\\x03¼\\rd\\x15R=L=3\\x02E\\x19sn<䥌:1TI\\x1c', 'title': 'Gladiator', 'rating': '8'}, Document {'id': '8', 'payload': None, 'genre': 'action', 'description': 'A thief who enters dreams to steal secrets faces his toughest mission yet, with reality itself at stake.', 'vector': \"Ѽ{V=K\\x05+ņ<#4\\x07\\x03#<\\x18F<*>r=1?;\\x16\\r\\x18\\x1e;<\\x15j4ߜP<\\nAR\\x06=ߕ$\\x11<!S=(F7@\\x1bQ=\\x05W=<d<=9\\x1dⒼR; \\n=\\x1fF=d= pKӼS]&\\t\\x06DW\\x08\\x05;\\x000\\u05fcv=z;;% v߽Fա<\\r<H@=P=/\\x13<Qǯ;d=-{u\\x0e=ф$=k=U\\x02r`=O\\x01=q\\x084ƻ\\\\=];\\x0e\\x1e@w\\x118S\\x00x=!zT\\x00<\\ue17d<=:,\\x1d<`U~;\\x0f,<\\x01v=ƃ\\t/\\x0b\\x02\\x0eTw<0k\\\\B8JK\\n\\x1d%).yU=\\x06EOLR<mP9=!'=̓_`E\\x7f=_Hv\\x110\\r<a̍=3=N7>=hgv\\x18><md=Zǩ=?p=<)Y;XG\\ntɅ\\x1b|\\x12Q=\\x1f5Ի2\\x056<\\x04\\x07t<p̼\\x0eEZ'<P\\x19(6(:j\\x10=fu<uwF=ы[\\x08=s-|=s-?fkzA=ȼ\\x15JC\\x0b꼠)7=\\x07m;$=I=<*U=0ھ=FTI=%늼JM\\x01T\\x02\\x00?<c3:\\x02l6\\x04=\\x1f!=D\\x16=Q\\\\;\\t8*b͂½/ID}x.=\\x1f=[\\x14=<$C=rb]\\x1e\\x1dc<Q=i\\x19\\x04C7}fM\\x1b_;jb\\x00f9ѕۼ<M=;=cArX?\\x08\\x0f=ں4<[<e=<\\x11Nb\\x01(=8<ܙ~j=g\\x13ր<\\x1b;\\nnI=b\\x04<==\\x1f=lA\\ue1bd(^<\\x10e3cC;>\\x14ѽO=Ѷ<@6=\\x03o=\\t\\x01|>A=\\x00!.c<G\\x1f=rW\\x10=\\x1fgi>3\\\\7L\\x01==-I ];ջͣ<[\\x15\\x0cҩ=Q\\x19Rk$\\x17Oc\\x11B}j\\x02\\roy=~=4==\\r-=(=Zҹ<`@j<V<Nlνɑ\\x7f;\\x15=7=g=tɭ<2J<F;=<\\x1d\\x01\\x0c.-D=!\\x1d2==\\x11Gh <.%<l>\\x1c(\\x1b=\\x10=(x:h#pI=x\\u05fb<aF)IG=p3\\t=Ef\\x1fy!|;X\\x00A<X*h:U/NKWOy9f=M=4<2*\\x18!漩nIQ̚=}[3%\\x14\\x05<s?,\\x16\\x15a,='\\t\\x048\\u07bd#Xg@<=^=6\\x17om<M`\\x04<\\x08y\\x10>\\\\<\\x1d\\x1cY|\\x0c=Aˡ<i2f=*6+1=/<h_\\x16=\\x03=7=\\x13=pgw\\x06=3y~=\\x1e;Ko<tǻf\\x19;:=ޗ=<i<7q\\x06=\\x1f˼\\x16W;3r=@@<ʤ¼%@\", 'title': 'Inception', 'rating': '9'}, Document {'id': '9', 'payload': None, 'genre': 'action', 'description': \"Earth's mightiest heroes come together to stop an alien invasion that threatens the entire planet.\", 'vector': 'k<Y<<=^ü\\nȿ=\\x014w\\x0cF>?\\x18\\x0f\\x04n=?5d\\'=d3;\\x06`ܻ\\x101=^)\\x0c\\x13B<\">=s\\x06=\\x08=̽|\\x1f!{=i\\x19Dm\\x192;<-ſ?[R@=|\\x0f<M=\\x14ぽ\\x04<\\x0c=`;jt;2ӑʊԽv\\x11X.7Yh<Z<;Y\\x0fr]{1\\x0e=NY=Gֽ\\x19Y=\\\\P:b\\x11\\x1c%\\x00;<We#C\\x03l;\\\\0=:\\x162!=PK:1JW:K\\x0fRl=\\x13=*\\x1e<S<m=\\x05m˻L<7\\x1d;^G%̺:\\t(=PX{=혘<k&N=^h=\\x12\\x026T=\\x1aXz\\x117;Z\\x08c<5\\x07<G.;&W~<6\\x12<d;\\x14;ħ\\x02LU=S\\x1a_N=:;,K=fN=?=!\\x05肠Z\\x1aA=מ<o =ۍ=#\\x04ϼ\\x163fh;\\x0c;\\x1e=d\\x1c;ݝ<Y\\x7f\\x1dr=U==_\\x08hXk\\x1a\\'=\\x01=˃g<\\x14ݼ\\x19=}W?xS<Wko=q\\x1eBռ\\x14=Q`<duH$=ɰٻj\":=\\'1i\\x1e=\"VZ<Y<}zq\\'\\x00\\x1b=7tl=\\x16y;_\\u07fc\\x16=7ZJ=b6<\\x0cj<\\x15be\"JM0<L\\x02=3<l<\\x16H݈A\\x160V\\x0f<B=f`=^*=a;\\x04\\x19`<\\x017:Ǻ5;ifFEŗ\\x05>%<\\x01ؕ<D<\\n<<.=\\x11;\\x7f\\x10\\x0f]\\x1b<8BϼD+=+\\x0fQ<H_`3=5`XBC\\tZ\\x19n+8O#=}Ի\\x14=\\x0bkżߜj-:=oM(T7yx<N=Cځ=/:߇=t3)=]<\\x01<(=p\\x10=7&\\x08\\x06p<\\x12=\\t=\\x00\\x10~<|ǼvN^\\x08=M.<&;TB\\x0bm<\\x05<\\\\+>4\\x13$=Ӽ\\x1c-<p=77\\t\\x7f<=#=ӏʨs=P=.p <ۧ\\x1eY==>F!ﵼ\\x01Hf<u=#碼\\x17(N\\x07F\\x19<\\x06=L7K\\'\\rK@>{\\ue17d=\\x12TB<\\x064Ἥ\\x13:\\x11\\x1b_:2;W\\x0c=Xx;m=\\x02= <+*x=-\"P=:\\\\=k\\x0c=\\x12<A\\x08\\'v.=W>L42\\x15\\x17!q<c)<솶\\x11Z=3<~\\x01>>s=|;\\x14<L#\\x1c8=B<\\x04f<\\x0cǼh3$J<K\\x00\\r3ⒽК=\\'1=PU\\x066Yhj;u\\x00=3ڋr\\x02\\n\\x10<\\x0ct<\\x1e=\\x1e#<ǲݦ=\\x06ʸ><u6=o h\\x05=\\x1f|A:M\\x06<\\x16!5=e\\' \\x0fׂ\\x1a=<ǚ<\\x02\"=\\\\H\\r=YӃ\\x1d=\\x1c\\x05=эV=F\\x0c<K&$\\x00=B<', 'title': 'The Avengers', 'rating': '8'}, Document {'id': '13', 'payload': None, 'genre': 'comedy', 'description': 'After his son is captured in the Great Barrier Reef and taken to Sydney, a timid clownfish sets out on a journey to bring him home.', 'vector': '9\\x07<́={\\x1c.;}ۧ<<ӝ=#սt\\x12<\\x13\\x0b<\\x04(\\x01M}WO=\\tG<J!=i=`^Dz\\x07)̺t\\x0bT<x\\x7fD=ؼ\\r4\\x1a[|\\x11=(\\r;\\x15]0=K;\\ue33cB\\x1fgFeT3A?=\\x04\\x0b=q\\x15\\x16k\\x03\\x16s=/!<-#<ћ<]<\\x10=\\x1fͽ\\x04Ԧ\\u0ffc\\x1bCE=m=x8\\u07b9<\\x1aM<\\\\;D<\\x16\\x01>\\x1eKj;<r\\x1f\\u0601\\x06=\\x10\\x14\\'e <f<F1\\x01tuɉXI\\r=c5\\x7fk\\x7f\\'<Q\\x00=\\x15#\"\\x10\\x1f<\\x10=(\\x0f=\\x01\\x10L\\x06@7f;p=j<{X<A]QW=k\\x029=\\x1f!=-\\x0e0<s< X;AǙ`~\\n@,<-=<~ =RtW=Ͽ[=?C)=;\\x1d5\\x08=3R\\x17Mp*=?׃=s?|Ӣp<=v=V=\\x1e\\x04\\x12\\x14=Q =XGf\\x02>>v\\x1e=!=d&=s<<\\x16<4\"\\x16\"u\\x0e>\\x0b\\x05Ɍ.kY-pض\\x12\\x19<[*\\x13=\\x1ej\\t\\x7f=]p<.\\x1f=0f~;%\\n_=?;\\x1eC\\x19W\\x04=FF<_s<;=B=վȤ<M=P<݊\\r=\\x03)S\\x17WZWU=@Ǽ\\x05:\\x02\\x15\\x1f|\\x07=V\\x16<Ǌ;<#ϊ\\n=\\x16:yKk~=\\n膻s3usA㳏=\\x04?ݱ3I<Y=71<O<g\\x08]\\x00<xZ\\x19\\x19<\\x04м\\x1fp*ިOSJ<;⑽+hj1<3]=R\\x0b:\\x14^Y\\x0cX;!\\x0f=J<>\\x14r\\x00\\x0c0<\\n</\\x0b^\\x1f<^\\x16=#\\x0c<w9z\\x1b=b\\x1d>a.t=s\\x19P$\\'%\\x19\\x05===\\x7fWE}A\\r<y(\\x1f=֎<fj=\\x1c<=^Fq\\x1d<ZΏ\\x1d=`JJ\"xoC;-x<te=E<I`=Ħ_=q2Ǎ=ȸFC+:I\\\\=pGM5\\x0b>\\r*<`\\x05=TF= ^=\\x0c0=F<vQϑ=E[=$$>A;\\x17G\\x01%\\x05U%=\\x0ck5\\x08<u<<ƽWs;\\\\\\x1dv<)\\x0c2Tȳ#\\rKʼlMĽ\\x1c<\\x19=M\\x1ae=ho3=SԼ\\x07I=,V\\x13w;=\\x0c$ \\x07=x\\u07fc\"\\x12=\\t\\x08=~\\n\\x15h\\x02\\tfвXܷ=/,<P/\\x17v?0V(g]<o\\x14=A==ےq=`<R=|h.;Fp=y ou⮽q0=Q=#\\r=\\x14!̼sX|Sg=Y;,t=>Hżb<rk\\x0e=x\\x1b=\\t\\x00:\\x03=<\\x1f=\\x1duB=^@{=d\\x1bh<\\x1b\\x16hˁ==ٕ\\x07\\\\n5\\x16j<r-\\t`̏;T4U=\\'\\x06IO\\x0b+=\\x1e=鵼', 'title': 'Finding Nemo', 'rating': '8'}]}"
      ]
     },
     "execution_count": 10,
     "metadata": {},
     "output_type": "execute_result"
    }
   ],
   "source": [
    "res = client.ft(index_name).search(\"*\")\n",
    "res"
   ]
  },
  {
   "cell_type": "markdown",
   "id": "87ba1dfd",
   "metadata": {},
   "source": [
    "## Index loaded now we can perform vector search\n",
    "\n",
    "### basic vector search"
   ]
  },
  {
   "cell_type": "code",
   "execution_count": 11,
   "id": "9454e60d",
   "metadata": {},
   "outputs": [
    {
     "name": "stdout",
     "output_type": "stream",
     "text": [
      "Top 3 movies:  [('Fast & Furious 9', 'action', '6'), ('Despicable Me', 'comedy', '7'), ('The Incredibles', 'comedy', '8')]\n"
     ]
    }
   ],
   "source": [
    "from redis.commands.search.query import Query\n",
    "\n",
    "user_query = \"High tech movies\"\n",
    "\n",
    "embedded_user_query = embed_text(model, user_query)\n",
    "\n",
    "# Note: dialect 2 and above required for vector search\n",
    "query = Query(\"(*)=>[KNN 3 @vector $vec_param AS dist]\").sort_by(\"dist\").dialect(2)\n",
    "\n",
    "res = client.ft(index_name).search(query, query_params = {'vec_param': embedded_user_query})\n",
    "\n",
    "print_results(res)\n"
   ]
  },
  {
   "cell_type": "markdown",
   "id": "ef5e1997",
   "metadata": {},
   "source": [
    "### Hybrid filter vector search\n",
    "\n",
    "Redis allows you to combine filter searches on fields within the index object allowing us to create more specific searches."
   ]
  },
  {
   "cell_type": "code",
   "execution_count": 12,
   "id": "d499dcad",
   "metadata": {},
   "outputs": [
    {
     "name": "stdout",
     "output_type": "stream",
     "text": [
      "Top 3 movies:  [('Fast & Furious 9', 'action', '6'), ('Mad Max: Fury Road', 'action', '8'), ('Explosive Pursuit', 'action', '7')]\n"
     ]
    }
   ],
   "source": [
    "# Search for top 3 movies specifically in the action genre\n",
    "\n",
    "user_query = \"High tech movies\"\n",
    "\n",
    "embedded_user_query = embed_text(model, user_query)\n",
    "\n",
    "# Note: genre is a tag field in our schema so the syntax is @<field_name>:{ <tag> | <tag> | ...}\n",
    "query = Query(\"(@genre:{action})=>[KNN 3 @vector $vec_param AS dist]\").sort_by('dist').dialect(2)\n",
    "\n",
    "res = client.ft(index_name).search(query, query_params = {'vec_param': embedded_user_query})\n",
    "\n",
    "print_results(res)"
   ]
  },
  {
   "cell_type": "code",
   "execution_count": 13,
   "id": "f59fff2c",
   "metadata": {},
   "outputs": [
    {
     "name": "stdout",
     "output_type": "stream",
     "text": [
      "Top 3 movies:  [('Mad Max: Fury Road', 'action', '8'), ('Explosive Pursuit', 'action', '7'), ('The Avengers', 'action', '8')]\n"
     ]
    }
   ],
   "source": [
    "# Search for top 3 movies specifically in the action genre with ratings at or above a 7\n",
    "\n",
    "user_query = \"High tech movies\"\n",
    "\n",
    "embedded_user_query = embed_text(model, user_query)\n",
    "\n",
    "query = Query(\"(@genre:{action} & (@rating:[7 inf]))=>[KNN 3 @vector $vec_param AS dist]\").sort_by('dist').dialect(2)\n",
    "\n",
    "res = client.ft(index_name).search(query, query_params = {'vec_param': embedded_user_query})\n",
    "\n",
    "print_results(res)"
   ]
  },
  {
   "cell_type": "code",
   "execution_count": 14,
   "id": "8a493ae0",
   "metadata": {},
   "outputs": [
    {
     "name": "stdout",
     "output_type": "stream",
     "text": [
      "Top 2 movies:  [('Despicable Me', 'comedy', '7'), ('The Dark Knight', 'action', '9')]\n"
     ]
    }
   ],
   "source": [
    "# Search with full text search for movies that directly mention \"criminal mastermind\" in the description\n",
    "\n",
    "user_query = \"High tech movies\"\n",
    "\n",
    "embedded_user_query = embed_text(model, user_query)\n",
    "\n",
    "query = Query(\"(@description:(criminal mastermind))=>[KNN 3 @vector $vec_param AS dist]\").sort_by('dist').dialect(2)\n",
    "\n",
    "res = client.ft(index_name).search(query, query_params = {'vec_param': embedded_user_query})\n",
    "\n",
    "print_results(res)"
   ]
  },
  {
   "cell_type": "code",
   "execution_count": 15,
   "id": "c0d7ab60",
   "metadata": {},
   "outputs": [
    {
     "name": "stdout",
     "output_type": "stream",
     "text": [
      "Top 3 movies:  [('Despicable Me', 'comedy', '7'), ('The Incredibles', 'comedy', '8'), ('Explosive Pursuit', 'action', '7')]\n"
     ]
    }
   ],
   "source": [
    "# Vector search with wild card match\n",
    "\n",
    "user_query = \"High tech movies\"\n",
    "\n",
    "embedded_user_query = embed_text(model, user_query)\n",
    "\n",
    "query = Query(\"(@description:(crim*))=>[KNN 3 @vector $vec_param AS dist]\").sort_by('dist').dialect(2)\n",
    "\n",
    "res = client.ft(index_name).search(query, query_params = {'vec_param': embedded_user_query})\n",
    "\n",
    "print_results(res)"
   ]
  },
  {
   "cell_type": "code",
   "execution_count": 16,
   "id": "748c15ae",
   "metadata": {},
   "outputs": [
    {
     "name": "stdout",
     "output_type": "stream",
     "text": [
      "Top 3 movies:  [('The Avengers', 'action', '8'), ('Black Widow', 'action', '7'), ('The Princess Diaries', 'comedy', '6')]\n"
     ]
    }
   ],
   "source": [
    "# Vector search with fuzzy match\n",
    "\n",
    "user_query = \"High tech movies\"\n",
    "\n",
    "embedded_user_query = embed_text(model, user_query)\n",
    "\n",
    "# Note: fuzzy match is based on Levenshtein distance. Therefore, \"hero\" might return result for \"her\" as an example.\n",
    "# See docs for more info https://redis.io/docs/latest/develop/interact/search-and-query/advanced-concepts/query_syntax/\n",
    "query = Query(\"(@description:%hero%)=>[KNN 3 @vector $vec_param AS dist]\").sort_by('dist').dialect(2)\n",
    "\n",
    "res = client.ft(index_name).search(query, query_params = {'vec_param': embedded_user_query})\n",
    "\n",
    "print_results(res)"
   ]
  },
  {
   "cell_type": "markdown",
   "id": "6bd27cb3",
   "metadata": {},
   "source": [
    "## Range queries\n",
    "\n",
    "Range queries allow you to set a pre defined \"threshold\" for which we want to return documents. This is helpful when you only want documents with a certain distance from the search query."
   ]
  },
  {
   "cell_type": "code",
   "execution_count": 17,
   "id": "cafe1795",
   "metadata": {},
   "outputs": [
    {
     "name": "stdout",
     "output_type": "stream",
     "text": [
      "Top 6 movies:  [('The Incredibles', 'comedy', '8'), ('Black Widow', 'action', '7'), ('Despicable Me', 'comedy', '7'), ('Shrek', 'comedy', '8'), ('Monsters, Inc.', 'comedy', '8'), ('Aladdin', 'comedy', '8')]\n"
     ]
    }
   ],
   "source": [
    "user_query = \"Family friendly fantasy movies\"\n",
    "\n",
    "embedded_user_query = embed_text(model, user_query)\n",
    "\n",
    "query = (\n",
    "    Query(\"@vector:[VECTOR_RANGE $radius $vector]=>{$YIELD_DISTANCE_AS: vector_distance}\")\n",
    "     .sort_by(\"vector_distance\")\n",
    "     .return_fields(\"title\", \"rating\", \"genre\", \"vector_distance\")\n",
    "     .dialect(2)\n",
    ")\n",
    "\n",
    "# Find all vectors within 0.8 of the query vector\n",
    "query_params = {\n",
    "    \"radius\": 0.8,\n",
    "    \"vector\": embedded_user_query\n",
    "}\n",
    "\n",
    "res = client.ft(index_name).search(query, query_params)\n",
    "print_results(res)\n"
   ]
  },
  {
   "cell_type": "markdown",
   "id": "a1586ea7",
   "metadata": {},
   "source": [
    "Like the queries above, we can also chain additional filters and conditional operators with range queries. The following adds an `or` condition that returns vector search within the defined range or with a rating at or above 9."
   ]
  },
  {
   "cell_type": "code",
   "execution_count": 18,
   "id": "d3110324",
   "metadata": {},
   "outputs": [
    {
     "name": "stdout",
     "output_type": "stream",
     "text": [
      "Top 3 movies:  [('The Incredibles', 'comedy', '8'), ('The Dark Knight', 'action', '9'), ('Inception', 'action', '9')]\n"
     ]
    }
   ],
   "source": [
    "user_query = \"Family friendly fantasy movies\"\n",
    "\n",
    "embedded_user_query = embed_text(model, user_query)\n",
    "\n",
    "query = (\n",
    "    Query(\"@rating:[9 +inf] | @vector:[VECTOR_RANGE $radius $vector]=>{$YIELD_DISTANCE_AS: vector_distance}\")\n",
    "     .sort_by(\"vector_distance\")\n",
    "     .return_fields(\"title\", \"rating\", \"genre\", \"vector_distance\")\n",
    "     .dialect(2)\n",
    ")\n",
    "\n",
    "# Find all vectors within 0.8 of the query vector\n",
    "query_params = {\n",
    "    \"radius\": 0.7,\n",
    "    \"vector\": embedded_user_query\n",
    "}\n",
    "\n",
    "res = client.ft(index_name).search(query, query_params)\n",
    "print_results(res)"
   ]
  },
  {
   "cell_type": "markdown",
   "id": "6e435ce5",
   "metadata": {},
   "source": [
    "### Additional queries\n",
    "\n",
    "In addition to the variety of vector queries shown above redis supports full-text search, aggregations, and various weighting strategies that can be mixed and matched for a wide range of search applications.\n",
    "\n",
    "### Full text search with BM25\n",
    "\n",
    "The following query does a pure token based BM25 search with redis."
   ]
  },
  {
   "cell_type": "code",
   "execution_count": 19,
   "id": "3307ab80",
   "metadata": {},
   "outputs": [
    {
     "data": {
      "text/plain": [
       "[Document {'id': '6', 'payload': None, 'score': 6.267822483123378, 'title': 'The Dark Knight', 'genre': 'action', 'rating': '9', 'description': 'Batman faces off against the Joker, a criminal mastermind who threatens to plunge Gotham into chaos.'},\n",
       " Document {'id': '17', 'payload': None, 'score': 5.846220066150412, 'title': 'Despicable Me', 'genre': 'comedy', 'rating': '7', 'description': 'When a criminal mastermind uses a trio of orphan girls as pawns for a grand scheme, he finds their love is profoundly changing him for the better.'},\n",
       " Document {'id': '0', 'payload': None, 'score': 3.9323951881774195, 'title': 'Explosive Pursuit', 'genre': 'action', 'rating': '7', 'description': 'A daring cop chases a notorious criminal across the city in a high-stakes game of cat and mouse.'}]"
      ]
     },
     "execution_count": 19,
     "metadata": {},
     "output_type": "execute_result"
    }
   ],
   "source": [
    "input = \"Criminal mastermind\"\n",
    "\n",
    "# Redis breaks searches into key tokens\n",
    "def tokenize(query):\n",
    "    return \" | \".join(query.split(\" \")).lower()\n",
    "\n",
    "user_query = Query(tokenize(input))\\\n",
    "                .scorer(\"BM25STD\") \\\n",
    "                .with_scores() \\\n",
    "                .return_fields(\"title\", \"genre\", \"rating\", \"description\") \\\n",
    "                .paging(0, 10) # limits the amount of results to 10\n",
    "\n",
    "res = client.ft(index_name).search(user_query)\n",
    "res.docs"
   ]
  },
  {
   "cell_type": "markdown",
   "id": "ef001bef",
   "metadata": {},
   "source": [
    "### Weighting (boosting)\n",
    "\n",
    "Sometimes you might want a search to lean more heavily towards one condition over another and weight it higher in the result set.\n",
    "\n",
    "In this example, you can see that even though `The Incredibles` isn't an `action` movie it is still the top result because it ranks highly on the fuzzy search for `%superhero%`."
   ]
  },
  {
   "cell_type": "code",
   "execution_count": 20,
   "id": "f11af548",
   "metadata": {},
   "outputs": [
    {
     "data": {
      "text/plain": [
       "[Document {'id': '15', 'payload': None, 'title': 'The Incredibles', 'genre': 'comedy', 'rating': '8', 'description': \"A family of undercover superheroes, while trying to live the quiet suburban life, are forced into action to save the world. Bob Parr (Mr. Incredible) and his wife Helen (Elastigirl) were among the world's greatest crime fighters, but now they must assume civilian identities and retreat to the suburbs to live a 'normal' life with their three children. However, the family's desire to help the world pulls them back into action when they face a new and dangerous enemy.\"},\n",
       " Document {'id': '0', 'payload': None, 'title': 'Explosive Pursuit', 'genre': 'action', 'rating': '7', 'description': 'A daring cop chases a notorious criminal across the city in a high-stakes game of cat and mouse.'},\n",
       " Document {'id': '1', 'payload': None, 'title': 'Skyfall', 'genre': 'action', 'rating': '8', 'description': 'James Bond returns to track down a dangerous new enemy who threatens global security.'}]"
      ]
     },
     "execution_count": 20,
     "metadata": {},
     "output_type": "execute_result"
    }
   ],
   "source": [
    "query = Query('((@genre:{action}=>{$weight: 1}) | (@description:(%superhero%)=>{$weight: 10}))') \\\n",
    "        .return_fields(\"title\", \"genre\", \"rating\", \"description\") \\\n",
    "        .paging(0, 3) \\\n",
    "        .dialect(2)\n",
    "\n",
    "res = client.ft(index_name).search(query)\n",
    "res.docs"
   ]
  },
  {
   "cell_type": "code",
   "execution_count": 21,
   "id": "1902b43b",
   "metadata": {},
   "outputs": [
    {
     "data": {
      "text/plain": [
       "True"
      ]
     },
     "execution_count": 21,
     "metadata": {},
     "output_type": "execute_result"
    }
   ],
   "source": [
    "# clean up!\n",
    "client.flushall()"
   ]
  }
 ],
 "metadata": {
  "kernelspec": {
   "display_name": "Python 3",
   "language": "python",
   "name": "python3"
  },
  "language_info": {
   "codemirror_mode": {
    "name": "ipython",
    "version": 3
   },
   "file_extension": ".py",
   "mimetype": "text/x-python",
   "name": "python",
   "nbconvert_exporter": "python",
   "pygments_lexer": "ipython3",
   "version": "3.11.9"
  }
 },
 "nbformat": 4,
 "nbformat_minor": 5
}
