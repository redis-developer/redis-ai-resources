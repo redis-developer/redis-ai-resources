{
 "cells": [
  {
   "cell_type": "markdown",
   "id": "cbba56a9",
   "metadata": {},
   "source": [
    "![Redis](https://redis.io/wp-content/uploads/2024/04/Logotype.svg?auto=webp&quality=85,75&width=120)\n",
    "# Vector Search with Redispy\n",
    "## Let's Begin!\n",
    "<a href=\"https://colab.research.google.com/github/redis-developer/redis-ai-resources/blob/main/python-recipes/vector-search/00_redispy.ipynb\" target=\"_parent\"><img src=\"https://colab.research.google.com/assets/colab-badge.svg\" alt=\"Open In Colab\"/></a>\n"
   ]
  },
  {
   "cell_type": "markdown",
   "id": "0b80de6b",
   "metadata": {},
   "source": [
    "## Prepare data\n",
    "\n",
    "In this examples we will load a list of movie objects with the following attributes: `title`, `rating`, `description`, and `genre`. \n",
    "\n",
    "For the vector part of our vector search we will embed the description so that user's can search for movies that best match what they're looking for.\n",
    "\n",
    "**If you are running this notebook locally**, FYI you may not need to perform this step at all."
   ]
  },
  {
   "cell_type": "code",
   "execution_count": 5,
   "id": "b966a9b5",
   "metadata": {},
   "outputs": [
    {
     "name": "stdout",
     "output_type": "stream",
     "text": [
      "Cloning into 'temp_repo'...\n",
      "remote: Enumerating objects: 204, done.\u001b[K\n",
      "remote: Counting objects: 100% (52/52), done.\u001b[K\n",
      "remote: Compressing objects: 100% (28/28), done.\u001b[K\n",
      "remote: Total 204 (delta 37), reused 24 (delta 24), pack-reused 152\u001b[K\n",
      "Receiving objects: 100% (204/204), 9.47 MiB | 10.76 MiB/s, done.\n",
      "Resolving deltas: 100% (64/64), done.\n",
      "mv: temp_repo/python-recipes/vector-search/resources: No such file or directory\n"
     ]
    }
   ],
   "source": [
    "# NBVAL_SKIP\n",
    "!git clone https://github.com/redis-developer/redis-ai-resources.git temp_repo\n",
    "!mv temp_repo/python-recipes/vector-search/resources .\n",
    "!rm -rf temp_repo"
   ]
  },
  {
   "cell_type": "markdown",
   "id": "19bdc2a5-2192-4f5f-bd6e-7c956fd0e230",
   "metadata": {},
   "source": [
    "## Packages"
   ]
  },
  {
   "cell_type": "code",
   "execution_count": 2,
   "id": "c620286e",
   "metadata": {},
   "outputs": [
    {
     "name": "stdout",
     "output_type": "stream",
     "text": [
      "\n",
      "\u001b[1m[\u001b[0m\u001b[34;49mnotice\u001b[0m\u001b[1;39;49m]\u001b[0m\u001b[39;49m A new release of pip is available: \u001b[0m\u001b[31;49m24.0\u001b[0m\u001b[39;49m -> \u001b[0m\u001b[32;49m24.1\u001b[0m\n",
      "\u001b[1m[\u001b[0m\u001b[34;49mnotice\u001b[0m\u001b[1;39;49m]\u001b[0m\u001b[39;49m To update, run: \u001b[0m\u001b[32;49mpip install --upgrade pip\u001b[0m\n",
      "Note: you may need to restart the kernel to use updated packages.\n"
     ]
    }
   ],
   "source": [
    "# NBVAL_SKIP\n",
    "%pip install -q redis numpy sentence-transformers"
   ]
  },
  {
   "cell_type": "markdown",
   "id": "323aec7f",
   "metadata": {},
   "source": [
    "## Install Redis Stack\n",
    "\n",
    "Later in this tutorial, Redis will be used to store, index, and query vector\n",
    "embeddings created from PDF document chunks. **We need to make sure we have a Redis\n",
    "instance available.\n",
    "\n",
    "#### For Colab\n",
    "Use the shell script below to download, extract, and install [Redis Stack](https://redis.io/docs/getting-started/install-stack/) directly from the Redis package archive."
   ]
  },
  {
   "cell_type": "code",
   "execution_count": null,
   "id": "2cb85a99",
   "metadata": {},
   "outputs": [],
   "source": [
    "# NBVAL_SKIP\n",
    "%%sh\n",
    "curl -fsSL https://packages.redis.io/gpg | sudo gpg --dearmor -o /usr/share/keyrings/redis-archive-keyring.gpg\n",
    "echo \"deb [signed-by=/usr/share/keyrings/redis-archive-keyring.gpg] https://packages.redis.io/deb $(lsb_release -cs) main\" | sudo tee /etc/apt/sources.list.d/redis.list\n",
    "sudo apt-get update  > /dev/null 2>&1\n",
    "sudo apt-get install redis-stack-server  > /dev/null 2>&1\n",
    "redis-stack-server --daemonize yes"
   ]
  },
  {
   "cell_type": "markdown",
   "id": "7c5dbaaf",
   "metadata": {},
   "source": [
    "#### For Alternative Environments\n",
    "There are many ways to get the necessary redis-stack instance running\n",
    "1. On cloud, deploy a [FREE instance of Redis in the cloud](https://redis.com/try-free/). Or, if you have your\n",
    "own version of Redis Enterprise running, that works too!\n",
    "2. Per OS, [see the docs](https://redis.io/docs/latest/operate/oss_and_stack/install/install-stack/)\n",
    "3. With docker: `docker run -d --name redis-stack-server -p 6379:6379 redis/redis-stack-server:latest`"
   ]
  },
  {
   "cell_type": "markdown",
   "id": "1d4499ae",
   "metadata": {},
   "source": [
    "### Define the Redis Connection URL\n",
    "\n",
    "By default this notebook connects to the local instance of Redis Stack. **If you have your own Redis Enterprise instance** - replace REDIS_PASSWORD, REDIS_HOST and REDIS_PORT values with your own."
   ]
  },
  {
   "cell_type": "code",
   "execution_count": 21,
   "id": "aefda1d1",
   "metadata": {},
   "outputs": [],
   "source": [
    "import os\n",
    "\n",
    "# Replace values below with your own if using Redis Cloud instance\n",
    "REDIS_HOST = os.getenv(\"REDIS_HOST\", \"localhost\") # ex: \"redis-18374.c253.us-central1-1.gce.cloud.redislabs.com\"\n",
    "REDIS_PORT = os.getenv(\"REDIS_PORT\", \"6379\")      # ex: 18374\n",
    "REDIS_PASSWORD = os.getenv(\"REDIS_PASSWORD\", \"\")  # ex: \"1TNxTEdYRDgIDKM2gDfasupCADXXXX\"\n",
    "\n",
    "# If SSL is enabled on the endpoint, use rediss:// as the URL prefix\n",
    "REDIS_URL = f\"redis://:{REDIS_PASSWORD}@{REDIS_HOST}:{REDIS_PORT}\""
   ]
  },
  {
   "cell_type": "markdown",
   "id": "f8c6ef53",
   "metadata": {},
   "source": [
    "### Create redis client"
   ]
  },
  {
   "cell_type": "code",
   "execution_count": 22,
   "id": "370c1fcc",
   "metadata": {},
   "outputs": [],
   "source": [
    "from redis import Redis\n",
    "client = Redis.from_url(REDIS_URL)"
   ]
  },
  {
   "cell_type": "code",
   "execution_count": 23,
   "id": "458fc773",
   "metadata": {},
   "outputs": [],
   "source": [
    "import json\n",
    "\n",
    "with open(\"resources/movies.json\", 'r') as file:\n",
    "    movies = json.load(file)"
   ]
  },
  {
   "cell_type": "code",
   "execution_count": 24,
   "id": "8d561462",
   "metadata": {},
   "outputs": [
    {
     "name": "stderr",
     "output_type": "stream",
     "text": [
      "/Users/robert.shelton/.pyenv/versions/3.11.9/lib/python3.11/site-packages/huggingface_hub/file_download.py:1132: FutureWarning: `resume_download` is deprecated and will be removed in version 1.0.0. Downloads always resume when possible. If you want to force a new download, use `force_download=True`.\n",
      "  warnings.warn(\n"
     ]
    }
   ],
   "source": [
    "import numpy as np\n",
    "from sentence_transformers import SentenceTransformer\n",
    "\n",
    "# load model for embedding our movie descriptions\n",
    "model = SentenceTransformer('sentence-transformers/all-MiniLM-L6-v2')\n",
    "\n",
    "def embed_text(model, text):\n",
    "    return np.array(model.encode(text)).astype(np.float32).tobytes()"
   ]
  },
  {
   "cell_type": "code",
   "execution_count": 25,
   "id": "9946a382",
   "metadata": {},
   "outputs": [],
   "source": [
    "# Note: convert embedding array to bytes for storage in Redis Hash data type\n",
    "movie_data = [\n",
    "    {\n",
    "        **movie,\n",
    "        \"vector\": embed_text(model, movie[\"description\"])\n",
    "    } for movie in movies\n",
    "]"
   ]
  },
  {
   "cell_type": "code",
   "execution_count": 26,
   "id": "8797fcc6",
   "metadata": {},
   "outputs": [
    {
     "data": {
      "text/plain": [
       "{'title': 'Explosive Pursuit',\n",
       " 'genre': 'action',\n",
       " 'rating': 7,\n",
       " 'description': 'A daring cop chases a notorious criminal across the city in a high-stakes game of cat and mouse.',\n",
       " 'vector': b'\\x9bf|=\\x0e`\\n;\"\\x92\\xb7;<\\xcb~\\xbd\\xfad\\xce\\xbb\\xc3\\x16J=V\\xa7?=\\xedv\\x95<d\\xfa\\x06\\xbe\\x14Y\\xcf=(\\x07p=?\\xdb\\r\\xbd\\x95\\xf2H\\xbdje\\xc6<E\\xdfa=z8\\x16\\xbc\\x00\\xd4\\x13<>\\xaa\\x1c=\\xfd\\xee\\x89<\\xbd\\xb0-<\\x82\\xb2\\x9f\\xbc[\\x0b\\xc3\\xbd\\x98NR=xl\\xf7\\xbcN>\\x17\\xbe#\\x12\\x05\\xb99u\\xbf<\\xb0\\xe0b\\xba\\xd3\\xa6\\xa8\\xbdx\\xdc\\xec\\xbcRc%=\\xe4\\xe7r\\xbb\\x1eOG=?(\\x85=o@\\xa2\\xbc2Z\\xd0\\xbdC%K\\xbd\\xb9\\xed\\x94\\xbcR\\xddH=\\x92&F<\\xc6*\\xec<\\x90\\xd8\\x8d\\xbd\\xcbZ\\x98<\\t\\xa3\\xa3=>g3\\xbd&\\xcd\\xbd\\xbd\\x95$\\xf7;\\xfd\\xf4z=\\xfc\\xb4\\x8c=\\x85\\x0e\\xc6\\xbdnI\\x90\\xbdJ\\x16\\xbd;s\\xe7\\x0c\\xbd 3\\xc9\\xbc\\x85\\xf8\\xbb\\xbc\\xbf&u\\xbb5\\x8f\\xca<\\x05\\x80J=\\x0f\\xaf*=\\x8bOU\\xbd\\xc8\\xf0\\x95\\xbc\\x1d\\x02\\x19=)\\xf4K<\\xcb\\xc2\\t=F\\x83\\xac=\\x9f\\xd7\\xb8\\xbd\\xf2\\xb5\\x9c\\xbdB\\x85\\x18=\\x96d&=-3\\xf8<\\xfa\\xf7\\x88<\\x16v\\xf2\\xbb-=[\\xbd\\xf7\\xac\\xee\\xbb5:A\\xbd\\xd9d\\x19\\xbdrd\\xf2\\xbb!\\xbax;\\xdc;O<\\xb61,\\xbc\\xed\\xae\\xae=^\\x00-\\xbc\\x1a\\x06\\xae\\xbda\\xd6\\x1a=\\xcc\\xbf\\xcd=\\x1f\\x150=\\xcf\\xf1\\x9d\\xbc\\xa9GK=\\xaa\\xb8 =\\xb4\\xf1I\\xbd\"e\\x9e\\xbbF\\x8b\\xf7:\\x94\\xf8\\x1c=\\xa9\\xba\\xde<\\xcco\\x16\\xbb\\xe6]p\\xbb\\xbb\\xd5<<\\xac\\x95\\xa3\\xb8\\xc29s<&4&<o\\x1c\\x18<\\x18\\xd9-\\xbd\\xe1\\xe6\\x98<\\x11\\xa1N=\\xa1/\\xa5=/\\xf3\\xdd<\\x0eL\\x13<n\\x0f\\xce\\xbaT\\x9e\\xdc\\xbc\\x9a8\\x05=\\x11\\xa1\\xf5<h\\xd8R\\xbc1\\x94-\\xbc\\x1d\\xd8\\\\9\\xa41\\xec=W\\xf5V=8G\\xd6\\xbc\\xa2\"S=\\xc8\\xd9^\\xbd\\xab\\xa3\\x91<\\xdf\\xd9\\x13<\\x95\\xb2y\\xbb\\x85\\x8d/\\xbd\\xda\\x06p<-\\x95\\x88\\xbb\\xa2\\xd0\\x9d<J\\x02\\xb6=\\x18\\xf1\\xad\\x89+\\xf2\\xa6\\xbb\\xc5\\xfbe\\xbd\\x7fQK\\xbb>\\x10\\x90\\xbbvt\\xb9\\xbb\\x00\\xc9\\xb9\\xbb\\xfehk=\\x9a\\r\\xad<3f\\xa8\\xbd\\xbd]\\xcc=\\x15\\xe0 \\xbe\\xc74/\\xbd{f\\xf7\\xbcQ\\x9av=\\x11\\x0cq<,\\xda\\x1c\\xbd\\x01\\t\\x8b<\\xf0n\\xa6\\xbc\\xe4t\\x86<\\x82\\x87\\x19=v\\xae\\xe4\\xbc4m^\\xbc\\nV\\x0e\\xbd\\x81\\xb0\\xe3\\xbc\\xd3FU;\\xaaG|\\xbdW\\xfb\\x8b\\xbd\\x7f\\x81*\\xbdy\\x83\\xf4={\\xb7\\x10;\\x15!\\x0e\\xbd\\xfa\\xd3\\xb4=\\x15&\\x15\\xbdM\\x86\\x83=m$:</\\xea\\xa1<\\x1f\\x08\\x8d\\xbd\\xa0\\x00i\\xbd5\\x01\\xdd<\\x06\\x87\\xd6=4\\x98\\x9c\\xbdZ|!\\xbd:\\x1c\\xc5\\xb9\\xbe\\xb3\\x93\\xbc\\xf6\\xcb>\\xbdv\\x1bF\\xbd\\xa2?\\x14\\xbe\\xc5\\x8f(\\xbd\\xe3O\\x89\\xbd\\x17\\xae\\xd4<\\xa3\\x12\\xc3=\\xaf\\x05O\\xbd\\x7f\\x8ep\\xbc!\\xb5\\xac\\xbc\\xc4\\x9ee\\xbd9\\x8es;[a\\xc1;\\xd2\\xfaB\\xbd\\xf9#\\xfe:\\x90\\xe6\\xf4=\\xb2\\x15*<~\\xf8\\x1b=\\x01\\xfcV\\xbd\\xcf\\xd1\\r=*\\xee\\x06=\\x18u\\xba\\xbd\\x02\\xa4\\xd6<\\xf8\\xeb\\xd9;\\xc49/=\\xa8\\xc2\\x85=u\\x0b\"=\\xe9i\\xef<4\\xe8c=\\xfa2\\x08\\xbe\\xd4\\x12;=,VW;\\x15\\xa4b<\\xb0\\x9d\\xb7<\\x95r;\\xbd{z\\x91\\xbcI\\x00<\\xbd\\x18\\x1a\\xa3<\\xf9J%\\xbc\\n\\xe7\\xbf\\xbbr\\x87\\x12=\\x97\\x1d\\x95=\\x83|\\xfd\\xbc\\xed\\xf1\\xd1\\xbd%z\\x84;\\xcb\\tu=c\\x8ai<A\\x91R\\xbd\\xd6\\xf3m\\xbd\\x8e\\xb83=R\\xedF=$\\xf3\\xd1\\x08pA\\xba<#\\xacO\\xbdK\\x0f\\xc7;\\x85\\xf4\\x04\\xbdM\\x82\\x92\\xbd\\xa9\\xddD=h\\xd8;\\xbc\\xed;\\xf4\\xbc\\xba\\x8f\\x97\\xbd8\\\\\\r\\xbd\\xec\\x8c\\xf5\\xbd\\x99\\x13(=\\xa0\\xc8\\xc6=\\xb1\\xed\\x1a=\\x95\\xa8\\xf8=\\x96\\xc1\\xee\\xbcu-\\x18\\xbb\\xf0~;<\\xd0F\\t\\xbd\\x0c\\x08\\x17=\\x94\\xa5\\x1e=\\x12K\\xcb\\xbd0\\xf7\\x8c\\xbd)b\\xed\\xbb\\xa9[\\x19\\xbcK\\x0c\\x13\\xbcgq\\x83=\\xf2wd\\xbd\\x8c\\xc7\\xd1\\xbb<lY\\xbc\\xa3|a=G\\xcf\\xfd\\xbc\\xf7\\xa4\\x83\\xbb\\x9dO\\x19\\xbd2\\x02]\\xbd\\xbe\\xeaz=\\xff5\\x9c=8^\\xa9\\xbdM^9\\xbc\\x95\\xe4N\\xbc\\x7f\\x07x\\xbd\\x18{\\xa0=<\\x9f\\x96<\\xf9s8\\xba\\x9f\\xbb=\\xbd\\xcb|(<x\\xdf\\xb4\\xbbi\\xc9\\x0b\\xbd\\xc4\\x01\\x95\\xbd\\xfc\\xc6T=\\x1fp\\xd1<p3\\'\\xbd\\xa5\\x00H<\\x80\\x0f\\xb8<-U}\\xbd\\x81}\\x01=\\x03\\xca[\\xbd#\\xed\\x03<\\xfcb\\x0f\\xbd\\xda\\x8e\\xe7\\xbc\\xdb\\x16\\xc8<\\xbd\\x08\\x9c=\\xff\\xd4\\xa6\\xbdKQ\\xe5=g-O<\\xe6\\xf22=\\xd126\\xbd\\x02\\xe3\\xf2\\xbc\\x14[\\xa7<w\\xb2\\x02\\xbe\\xfan2\\xbd\\xab\\x80\\x8a=\\x13\\xc4\\t\\xbd\\x17\\xb8\\xcd\\xbc7\\xdb\\xad\\xbb\\x8b\\xfd\\xde\\xbc\\x10\\x17E=y\\x06\\xbd=\\x18&m=\\x19X\\x8e=\\xe2\\xae\\xa4=n\\xa3\\xca\\xbbz?\\r\\xbc\\xd39\\x9c<Hl\\x8e\\xbd4\\x10k=\\xeb\\xff\\xbe;\\x80\\x16\\xff<o8\\x92<_2\\x8c;P\\xac\\xa3=\\x00,v<\\x99\\x89\\xf0\\xbb\\xae\\xdb\\x07\\xbc\\x8b\\xae\\xbd\\xbc\\xb6\\x8f\\xb4\\xb2\\xad\\x88\\xd3\\xbd\\x88\\xe9j=\\xe7\\xdb\\xa7\\xbd\\xde\\x16\\xe5<<\\x19p=\\xf3\\xe6\\x9f=\\xdbGh\\xbd\\xe7\\x9a\\xf4\\xbd[\\xd6\\x07\\xbc8\\xddj<+tw=\\x8d\\xd0\\xe1<\\xc5\\xae\\x1e=\\xe3F\\xc4<\\xb50\\n<\\x1djd\\xbc\\xba\\xfa\\x8c=\\xc7\\x8a\\xa6\\xbc\\x19.\\xcd\\xba\\xafp\\xcf=\\x1fT-\\xbd\\xccQn=:\\x16\\x9f\\xbd\\x86\\x8a_=<\\x13#<G\\xaam;)\\x86\\x00\\xbe\\xdcy\\x8b\\xbcfUG=\\x9f\\xa3\\xca=\\xae\\xbdq\\xbc\\x98\\xe3:\\xbd\\x9a\\x93]<\\x86]\\xd1;\\xc8d\\xae=\\xa7\\x1f\\x03\\xbd\\x02L\\x89=a:s\\xbd\\xa3\\x1eb=\\x1b\\xc9\\t\\xbb\\x9a\\xfb\\xe7<r\\xce\\xe4\\xbcTV#=t\\x8bk\\xbd\\xd8h\\x01<\\xf1\\xe5N\\xbdH\\x0c\\xb1\\xbcl\\x01J\\xbdg\\xf4~=J\\xe3Z\\xbd\\x91/\\xf1\\xbbD98=\\xb92T\\xbc\\x1b\\'\\x81<\\xc8\\xa0M=\\xb8\\xde\\x05<\\x1aI|\\xbd\\xcb\\x98w<\\xdd\\xd3\\xa7\\xbd\\xdaS \\xbdp\\x13\\x07=\\x13&\\x14\\xbc\\xc7v\\xe9<\\xfb,\\x97='}"
      ]
     },
     "execution_count": 26,
     "metadata": {},
     "output_type": "execute_result"
    }
   ],
   "source": [
    "movie_data[0]"
   ]
  },
  {
   "cell_type": "markdown",
   "id": "d7e99897",
   "metadata": {},
   "source": [
    "## Define Redis index schema"
   ]
  },
  {
   "cell_type": "code",
   "execution_count": 27,
   "id": "2ac53ebd",
   "metadata": {},
   "outputs": [],
   "source": [
    "from redis.commands.search.field import VectorField, TagField, NumericField, TextField\n",
    "from redis.commands.search.indexDefinition import IndexDefinition, IndexType\n",
    "\n",
    "index_name = \"movies\"\n",
    "\n",
    "schema = (\n",
    "    VectorField(\n",
    "        \"vector\",\n",
    "        \"HNSW\",\n",
    "        {\n",
    "            \"TYPE\": \"FLOAT32\",\n",
    "            \"DIM\": 384,\n",
    "            \"DISTANCE_METRIC\": \"COSINE\"\n",
    "        }\n",
    "        ),\n",
    "        NumericField(\"rating\"),\n",
    "        TagField(\"genre\"),\n",
    "        TextField(\"title\"),\n",
    "        TextField(\"description\")\n",
    ")\n",
    "\n",
    "try:\n",
    "    client.ft(index_name).info()\n",
    "    print(\"Index exists!\")\n",
    "except:\n",
    "    # index Definition\n",
    "    definition = IndexDefinition(index_type=IndexType.HASH)\n",
    "\n",
    "    # create Index\n",
    "    client.ft(index_name).create_index(fields=schema, definition=definition)"
   ]
  },
  {
   "cell_type": "markdown",
   "id": "24d3ea9c",
   "metadata": {},
   "source": [
    "## Populate index"
   ]
  },
  {
   "cell_type": "code",
   "execution_count": 28,
   "id": "169ebb93",
   "metadata": {},
   "outputs": [],
   "source": [
    "def load_docs(client: Redis, data: list[dict]):\n",
    "    for i, d in enumerate(data):\n",
    "        client.hset(\n",
    "            i,\n",
    "            mapping = d\n",
    "        )\n",
    "\n",
    "def print_results(res):\n",
    "    docs = [(doc.title, doc.genre, doc.rating) for doc in res.docs]\n",
    "    print(f\"Top {len(docs)} movies: \", docs)"
   ]
  },
  {
   "cell_type": "code",
   "execution_count": 29,
   "id": "5d643bbf",
   "metadata": {},
   "outputs": [],
   "source": [
    "load_docs(client, movie_data)"
   ]
  },
  {
   "cell_type": "code",
   "execution_count": 30,
   "id": "e5515073",
   "metadata": {},
   "outputs": [
    {
     "data": {
      "text/plain": [
       "Result{20 total, docs: [Document {'id': '0', 'payload': None, 'rating': '7', 'title': 'Explosive Pursuit', 'genre': 'action', 'description': 'A daring cop chases a notorious criminal across the city in a high-stakes game of cat and mouse.', 'vector': 'f|=\\x0e`\\n;\";<~dλ\\x16J=V?=v<d\\x06\\x14Y=(\\x07p=?\\rHje<Ea=z8\\x16\\x00\\x13<>\\x1c=<-<[\\x0býNR=xlN>\\x17#\\x12\\x059u<bӦxRc%=r\\x1eOG=?(=o@2ZнC%K피RH=&F<*<؍Z<\\t=>g3&ͽ$;z==\\x0eƽnIJ\\x16;s\\x0c 3ɼ&u5<\\x05J=\\x0f*=OU\\x1d\\x02\\x19=)K<\\t=F=\\u05f8\\U000b573dB\\x18=d&=-3<<\\x16v-=[5:Ad\\x19rd!x;;O<1,=^\\x00-\\x1a\\x06a\\x1a=̿=\\x1f\\x150=\\U0005df29GK= =I\"eF:\\x1c=<o\\x16]p<<9s<&4&<o\\x1c\\x18<\\x18-<\\x11N=/=/<\\x0eL\\x13<n\\x0fκTܼ8\\x05=\\x11<hR1-\\x1d\\\\91=WV=8Gּ\"S=^<\\x13<y/\\x06p<-Н<J\\x02=\\x18+e\\x7fQK>\\x10vt\\x00ɹhk=\\r<3f]=\\x15 4/{fQv=\\x11\\x0cq<,\\x1c\\x01\\t<nt<\\x19=v4m^\\nV\\x0eFU;G|W\\x7f*y={\\x10;\\x15!\\x0eӴ=\\x15&\\x15M=m$:</<\\x1f\\x08\\x00i5\\x01<\\x06=4Z|!:\\x1cŹ>v\\x1bF?\\x14ŏ(O\\x17<\\x12=\\x05O\\x7fp!Ğe9s;[a;B#:=\\x15*<~\\x1b=\\x01V\\r=*\\x06=\\x18u\\x02<;9/=\\x85=u\\x0b\"=i<4c=2\\x08\\x12;=,VW;\\x15b<<r;{zI\\x00<\\x18\\x1a<J%\\n翻r\\x12=\\x1d=|ѽ%z;\\tu=ci<ARm3=RF=$\\x08pA<#OK\\x0f;\\x04MD=h;;8\\\\\\r\\x13(==\\x1a==u-\\x18~;<F\\t\\x0c\\x08\\x17=\\x1e=\\x12K˽0)b[\\x19K\\x0c\\x13gq=wdѻ<lY|a=GO\\x192\\x02]z=5=8^M^9N\\x7f\\x07x\\x18{=<<s8=|(<xߴi\\x0b\\x01T=\\x1fp<p3\\'\\x00H<\\x0f<-U}}\\x01=\\x03[#\\x03<b\\x0fڎ\\x16<\\x08=ԦKQ=g-O<2=26\\x02\\x14[<w\\x02n2=\\x13\\t\\x17ͼ7ۭ\\u07bc\\x10\\x17E=y\\x06=\\x18&m=\\x19X=⮤=nʻz?\\r9<Hl4\\x10k=;\\x16<o8<_2;P=\\x00,v<\\x07ӽj=ۧ\\x16<<\\x19p==Gh[\\x078j<+tw=<Ů\\x1e=F<0\\n<\\x1djd=Ǌ\\x19.ͺp=\\x1fT-Qn=:\\x16_=<\\x13#<Gm;)\\x00yfUG==q:]<];d=\\x1f\\x03\\x02L=a:s\\x1eb=\\x1b\\t<rTV#=tkh\\x01<NH\\x0cl\\x01Jg~=JZ/D98=2T\\x1b\\'<ȠM=\\x05<\\x1aI|˘w<ӧS p\\x13\\x07=\\x13&\\x14v<,='}, Document {'id': '1', 'payload': None, 'rating': '8', 'title': 'Skyfall', 'genre': 'action', 'description': 'James Bond returns to track down a dangerous new enemy who threatens global security.', 'vector': 'DB\\x16\\x0fT/g=Y\\x13$=k\\x07/4<<Ժ;<\\x1fC3}=EG0\\x1b9=\\x1b=\\x05<A<Q2=0<\\u05f6<\\x08ݼ\\x07Ž;\\x12=`=\\x0b?վ\\x14\\x06\\x12=\\x0b-\\x03;!<*\\x0b=y*h;<\\x00\\x19=y%#pxI:=<[J=\\x08=7\\x15E|?Vk=<,(=6Y\\x12@\\x00X><9,=ߺ\\x14:L9\\x08\\x02\\x0cr<_6=\\x17Ub#=[\\ue8bagX=u\\x11=>6=\\x06(<#\\x15t=лeK-=H\\x11\\x036=\\x15<0xO\\x10=_\\x03D=ū\\x0b!$7\\x0cr=v=<\\x1e$y\\x06=X=g%\\ry\\x0e4\\t<\\'\\tI=w\\x10;\\x0f<蓻\\\\ߺ\\\\ c=|;\\x19u༚\\x10r~=eh<s\\x070;\"r=C:Nئa2hg\\x00=ą;g\\x15=NʃRF2=\\x0b䛽\\x1d==^<ƒ\\x06=4@<;ܼI\\x19=(b\\x0bbjxz;g\\x08~=/&[(缸&\\x08䆱=,pl<|僼<<\\x0c=Hd\\tb\\r;\\x1cT===b[ge;Ď==}\\ue8bc!\\x0e=\\x12X=\\x1dR<>h<D)=W<ჽp;F:\\x05ڟu\\uec82=`91ػ擼\\x14q\\x1f/<?k=0⽪\\x0fg<٣ʽv><ċ\\x19\\x1e\\x17L*s\\x08mV9C½\\x00g\\x11=\\u05fdx<;tȻ@1I\\x19\\x7f\\x0cP\\x0e\\x14ʽuA<;\\x1e\\x0e{r}\\x05\\x18=Tp!gC<:\\x161|\\x19.<$5=QGl=1\\\\=bGEY\\x17;0\\r=={@\\x11Oƻ$o=\\x0e#k=~0> |\\x03kl/=ul$\\x07ͼ\\x17>O=\\x1bY>ؔ/\\x1d4M\\x07Nݏ=+\\x08VN<nk\\x19<=[<\\r0<\\x02 =\\x1b\\x1aڼ<{=\\r\\x01|;\\x07=-\\x0e<~\\x02L;2=\\x14Ć<\\x0bs=,͛c\\x0b;*<1f|\\x0c>J\\x7f<E\\x1aF\\x05=a@/=1 =\\x14u\\x04I 9F<y\\x0b<A>=;K\\x05u<N=\\x13\\x07_`SǙג<Ok96\\x0e<L<Q;LJ_\\'%=\\x01\\x07\\x12^\\x04\\x02=\\x16<<X\\u0603X?<BPm.<l\"=ѽ\\x06M\\x14+Y=\\x016=i\\x0c:ȳcz\\x1f=i\\x18=\\x08N=K\\x1b=\\U000b29fcT\\x05\\x97_Q;s\\x1f+b=h\\u05fc<za@eF\\r=;N=\\x152;s&[Լ1X\\x19<]ܽ9\\'=\\nRYd\\x05먋:j\\x00\\x03\\x17Lc<3;~\\x05\\x08H;Ӂ\\x13&:<<\\n0ۼׄ=\\x19~CG\\x18;G4=\\x11<2=Z9=ID1=m\\x02=~m=\\x05^\\x07<\\x08=P=\\x1a\\x1a@\\x17|=i^=\\x11Bz]L=8>)=\\x12Gn\\x18<emĚ8h\\nL=`8=U<\\x01-v<D(y<\\x11y\\tIu:\\x1b:='}, Document {'id': '2', 'payload': None, 'rating': '6', 'title': 'Fast & Furious 9', 'genre': 'action', 'description': 'Dom and his crew face off against a high-tech enemy with advanced weapons and technology.', 'vector': '&Ǽ,==\\x19HFtC=\\x15\\x0f\\x18Kz=\\x13=ጽÄ&=wZ\\x07=Mq=dۣA)\\'\\x13\\x00=;@&s=0l<S\\x03Q:\\x07\\x14=u\\r\\x03\\x18=b(=4tn>\\t=\\x7fڼ@f\\'i\\x10\\x00=Ѽ$C=$)gm6\\x00\\x01l\\x15<pm\\x15; =\\rL\\t;ýC=\\x04лS\\x03b\\x02[=y/D>=2\\x19\\x03<\\x0bK=\\'h<\\nX<\\x03?9Z\\x1eh=̨a=Ϳ)\\x00;=jK=v=ظ;Ӧj<ݛ3\\x03}<n-<ǩ;\"\\x1e+=+n;G=L\\x10L\\\\|zZo=x\\x0f\\x19%+=.P<:V;\\x08&==r<qg=\\x0f1=1<v\\x12\\x19=\"=O<\\x11&\\x00<,:8PF=1<|<(\\\\\\x03<jG}\\rטw ,V\\x1e\\x10&=ఊy\\x1bF\\x17=p?oo\\x1a\\x7f=M5X=\\x05uk?;\\tX<+6s:k=ھ\\x16=\\x0c2%\\x02\\x1b<P\\x0c{\\x04=$\\x0828H<\\x1b;B;q\\x18\\x1e]=y{\\x1b:ɼRl<Ks<\\x1d<\\'=ﵽ\\x16\\rϭQ;\\x1b彾q=:lӛ=\\\\=9\\x188\\x1bƽVt\\u07fcaA=P6\\x19==x!Ѽ@\\r1:)<d<?zZ<Iv=-<V\\x19z<[u<A<\"<\\x161\\x1c3=/\\x18=}]=H3=wJeQ`ټ/\\u07bc\\x0fP+\".=SC\\x0ebN =BH=ʔ\\n=e\\x1d|<-5@]td<Y<\\\\<\\r96<\"*(|c輂*;=\\x07GAه:\\x02ql\\x13\\x08\\x04L1<\\x10<Q\\x01ܻ;N=\\x01!V@;\\x06|e=g봼=\"?=H1(mzf8=\\x15y]<=k\\n_$;f\\x12=Q\\x068>QU\\x15ϼ\\x13\\x0c3<\\x04=t\\x0e9=O3K=Kͼ\\x04E7;ty|=Ҁ<\\x00\\x0c<\\x01\\x0e\\x18>\\x11\\x14qiQ=qR:kX=\\x00|\\n=ǎ_0_-\\x16ߒ;p<ynˏ<=D8ýRv\\nQSm=\\r=+e#<KYG=ݠ;\\x01=WC=k\\x15\\x1f\\\\=c=6zZ=Ei\\x1b\\r\\x15\\x00ܻX-=\\n_b\"x\\x123~;\\'\\x04N=\\x19c\\r=P;jI\\x18n=\\x16%tU=Ve\\x00W\\x1eL6K\\x0e;\\\\;&r#ǼHʲ̓\\t\\x08,v\\x11\\u05fbJ<\\x1a`;\\x076\\tM=\\x1e\\x15;\\x04<0\\x02=<HIj=H\\x16=\\x0cf\\x01U\\x05Vz]crڽg=m\\x01!X#=t\\x05=\\x1fխ<\\rM=<</\\x7f=\\u05fc=ռ-\\x15S%.\\x1f<v\\x03>XB=L\\x086=6EW=\\r<=X=;\\x18{U\\x15H\\x00\\x12g; =T\\x7fv\\x08y\\'غ15\\x1b)3\"O<䂝{O\\x08<ckA ;=9\\n='}, Document {'id': '3', 'payload': None, 'rating': '7', 'title': 'Black Widow', 'genre': 'action', 'description': 'Natasha Romanoff confronts her dark past and family ties as she battles a new enemy.', 'vector': 'u녽\\x17o{»=}=$<z=;\\x0b==;g);̸B|gFS8(W\\x02r;a;\\x7f\\t߽ga<8=<\\x17=\\x06uǎ<U⼧GH1=\\x1c=P<RƄ<ZW=\\n=c\\x12\\x005=\\x12<\\x08[8=mH=0\\n_\\x04\\x7f\\x0f:\\x7f_<2Υ;!р:*\\x1bq;ʽͼ\\x1a?=ɼ=|=3=;m<aIQ=N<D\\x7fl\"=6ܤ<SO韕=.\\x0b~@=_|=\\x0bռtȼVYv\\x11=~=\\x02E\\x1d<j\"=6d8=\\\\<\\x19Լ~)<\\x16\\x1b=t낽K!<-9j=49\\x03<\\x1c=<<:\\ued7cm<SA=<\\x05_աf\\x10f2\\x12=\"=\\x1bB\\x1eżӼN.6NC1=G8}=6\\'vܽ:/=x\\x18`\\x06=D\\x14;߭P=:)=$UK=V\\x05ʀk<;A\\x0c\\'R \\x14\\x04~\\x18\\t7&q<7<o:b\\x05=M.ؼ\\x1d$==N5\\x18=7;ˊ=\\x08\\x05Ej\\x0eA0=7L=[I\\r=<[=@;\\\\=U\\x00Ƽ&V¼Їh5\\x01=\\x06=h>ƠOŋ<p^=<J<69=1<\\x12>bxL=\\x04=v\\x7f8͓e:6;TZ\"\\x0e/4\\x0b==\\t/\\x0f|f<ӽt\\x1fn=\\x1bF5*<nx\\x073I\\x00\\x02@=Xi<Dߢ=Ľ\"\\x1c-bF=wb=\\x15\\x03\\x03?\\x1b#O\\x12<<\\x12=ҽ|<\\x1fŻ\\x03<Ν;N;&/$=ہ=yƼg_\\x03ӆ l<\\x04\\x1f[=%ҼD\\x7f僼c9\\x00=VL T]4 =<\\x0b=4UmV诼\\x0c<d=H<\\x184\\x00=\\x04e)<m!=Sb)\\x14\\x04=\\x7f>\\x06=C\\x11v<\\\\*Z?=_\\x1e;w=AL\\x0f];\\x19ky=\\x1c7\\r>:*ٍ$\\x18*Ј`;<Փ\\x02R=\\x13>p{R=,QٽDӄ<f\\x14QI\\\\!\\n\\x17M=fQPw=R=h.=\\x069#j8WwN==irQk==漼Bt=\\rw\\x08:\\x1a<Ϯ\\x04\\x184{ͼՃ\\x1e;$\\x17F=ڀټLBƻWC=㑋<#iAℽ\\x08\\x1eȮ<<?=\\x08$\\U000fbee7\\x10p)<E\\x0b=k=d<=æ\\x08=\\x0c䌽\\\\\\t,y\\x15Ϗ\\x02b*Ȇi\\x01<3м1<\\x06sZP~=c#FL;eq;2\\x1f]=Wi&@<[3-=t<ľYt\\x1f=j=\\x1a&aZ\\x03\\x11U<$Ԍ:J5νɹm\\x15a=13=\\x17\\x15<\\x17Cs3<;4\\x1a\\x1f=\\x13<;.c̻#S==ltGj o_mN<<e=(\\x14\\x07;߆C;!1=ǖ\\r=x}A\\x05\\'=#ⶼ\\x19mS<tA=eG<f\\x14=\\x18lP=ߒʼ'}, Document {'id': '4', 'payload': None, 'rating': '8', 'title': 'John Wick', 'genre': 'action', 'description': 'A retired hitman seeks vengeance against those who wronged him, leaving a trail of destruction in his wake.', 'vector': 'B;x\\x02/= :;Д<)w;&a<\\x03D\\U000bc66b\\x1bc<[k\\t\\t=$\\x05C<m8<i=\\x7f<\\x04\\x07ȼ&\\nwr3=_%:\\x1b\\x18Rʽ\\x11K`\\x00,5<\\x14:x;\\x02A0)]D<;睼e\\x0fi<\\uf8e4z<P\\x0b<iF9~A?WƑyм/8<oQh=\\x16?L\\t@=̼\\x19\\x0c=\\x13=\\'\\x0c=\\x1e`\\r=m\\x15;\\x0cM={X %\\n= %,{C\\x01n<\\x14\\x0c=\\n=8=\\n?=u<šÌO$CӼPh\\x07X7<Lݓ=\\x16*<\\tǫ=\\x18>\\x05<~<\\x18{Y=_i=Ib>=V\\x1c<ʠ$>!=i\\x19Q=6l=4q-xf<\\x19\\x07$=~\\x1f\\x0e<h\\x1aW,L\\x1d6Z\\x18=`a>\\x19!s{\\x0c={=[\\\\1w-mbb=\\x06=\\x15\\x1b<</\\x1fg;\\x16=#;\\x03q\\x17=`<y\\\\\\x17\\x08\\x1d<_\\x07#=@z\\\\\\'M\\x1cTZ9D(\\x16\\x1aخ<\\x7f</4Ҽ\\x19,=au~<FW=s\\x1d/:<W<z\\'\\x05Q=ɛF\\x1d=\\x05Ḽ\\x0b:z謽^\\x04=biv)\\x06+ma=J=<=<^]t<\\x1c\\x0c=\\x13\\x1c=v\";ʂʽu=L\\x17\\x06?<yfu<Jѷ<5μ\\x14=zTK\\x06R<ɇ<\\x17\\x08=&;N7x=H\\\\@\\x19\\';kU==ýS\\x1cG&LC=&ܼ;-\\x102=\\x05\\x0fSIK7=TuH=\\x192ۼ<H\\x0c<F\\x19+WΖb\\x00<<0;\\x1e`%<Nx=\\x12\\x16<e-\\x05=\\x07³ob<_<\\x043=c=\\n=\\x0cNu6=R.x\\x0e3rF\\x07\\x14\\x15\\x08\\'>=2\\x03K~<\\x01\\x02a\\x1d֪I<\\x15=bnS\\x1fm!~F\\x06\\u07bb\\x1d=eHf\\x11h\\x1c<1ui$3=\\x1a\\x08\\'\\x17>=\\x03)=><\\x1d\\x10<Vj<;p<㲚<O<O%TS\\x05>J鴺yBe=\\x14\\x003=7<6w<1iL=E\\x03\\nsb\\x14<3 >\\x1b\\n:2*=*82PʽQ=\\x1d_\\x16_!;\\x13<\\x14y \\x00U<\\x1eu<\\x12<S=\\\\#tԂ=)\\x1dX\\x01J\\x14-;:(=[t<s<*+ĽZXב&\\x01\\x00IBqҼ><<[:c=5<D\\x0bM=\\x172;f<ӭ==\\x04b;\\tН<\\x1b=\\x14\\tșW[e\\x16;!μ2;\\nZ<\\n\\x17=ߑ=𰉽mT=^Լ<\\x0c;$6(=\\x08\\x1b<\\x01=)\\x17<\\x0f.=yq=\\x1d\\x1f:G0(HQX=b\\x10=+e<$W\\x06&ؽ\\n<͜<.I%e=J_<u\\x01*5=mp.=*h\\'\\x0b=\\x7fG7<qiϘ\\x0c\\x14>@[\\x06F<'}, Document {'id': '6', 'payload': None, 'rating': '9', 'title': 'The Dark Knight', 'genre': 'action', 'description': 'Batman faces off against the Joker, a criminal mastermind who threatens to plunge Gotham into chaos.', 'vector': ':A%=Em;\\x0e<jR=|=<I<ZFn/G\\n=Gq;\\x1caO?pe*2i<?=\\r\\x04=0[=z=vϺ`;?Rg Xm=\\x08nTZh<##=ݶSBa\\x10=f<@ѵ:Z(\\x19>Fh=\\x035VQ\\x01P\\x08q#\\x1c=N==\\r\\x04j<}^<^\"#OaE=y\\\\1b=m\\r=t\\x03=I\\x18<q\\')<\\x12=$=h.M<}-=q7)=(r=7:\\t<\\x0b\\x0c\\x1aD=<~4;\\x08<Z虼(`<\\x12A<\\x19\\x0fW;*=\\t\\x12<3<=G<:)i\\\\_=!6\\x19=\\'ƽ\\x7f<;.e=\\x07L\\x04M\\rrH\\x04>)=\\x14<\\x04O\\x19\\x1e=;3yd=kd\\n\\x0f!x~E=9;]\\x07\\x02<A7<==MV=mB\\x1b{\\x18>8E=\\x1a,==\\x0f5\\x01I==(<ܘ\\x02,)=PK3\\x04Y螉Ů\\x0e?8:jo|=.\\x0c6\\x17am<&=\\t\\x18>p\\x108<\\x0f3lQ^\\x0e>1H=<>F\\x01R.mЌW\\r\\x01<Ԭ<2@<0\\x08\\x11=\\x11q\\rZ\\'P=y<H\\x0bF=X+\\x02\\x1f6=Z(=\\x03]\\u07fc\\x1aKU;\\x07̼fO7,\\taݼ\\x02L֛\\x19\\x1cn$\\x1e\\x0f<y\\x10=*<{\\'rw<\"\\x10Y/=`\\x08ϼQa<.W=FrmL&K;\\x1djB3\\x0f\\x16wT8F\\x7fJ<{q=Y\\'C<utW<\"=\\x19=\\x7fO%J={,=\\x7f\\x10=5J\\x0e;\\x08Hs<O02<u\\r9;\\x1bd.=\\x1cUݼ\\x13\\x16=<M=v:pħ\\'z!a\\x18GHp<;b?ߓT=\\x13u\\x13\\x07jܼ6\\x11;/=l\\x14=wIe=\\x0c\\x02t;=<BX(\\x059\\x10@9B=\\rx<=(9<Y\"A=\\nDy<\\x00\\x16=\\x13\\x04=q+ܻ\\x18\\x04>\\x17ul2DM}=wH5=\\'\\x13ѫ=\\x13\\x03;\\x06R=a=4=\\x1aq\\x07=\\x01=\\x17<(J\\x01=Gd\\t\\x13<VLν\\x10;\\t/\\x11k$&\\x1d$=I=W<\\tn=\\x0c=\"=\\x1a;;CM\\x00[A攽?=q&\\x1f.0<z\\x13C\\x05<xt=\\x07t\\x12=>=cܩRFE(\\u07fc@@=+x=`<`!jeY+<z,o<jln=2cǽi\\x14\\x15$\\\\m5qY=\\x0f<=<|\\x19<8S=p3k\\x00 \\x07;Mؽf\\x08<v2ݼ\\x0e<\\x1f}E={JֽY=Tj\\x1eA=T8]=Jj<18\\x1a=⁎=\\x0f8Q{<*4Ž\\x0f=\\\\g=5+d=bc<&w;kR>@A6Qnx;\\x00Up+\\x13 \"=\\x19FuU>ǬO<~)=ƭ=\\x0bTA=B;'}, Document {'id': '7', 'payload': None, 'rating': '8', 'title': 'Gladiator', 'genre': 'action', 'description': 'A betrayed Roman general seeks revenge against the corrupt emperor who murdered his family.', 'vector': '3㶽{>e=3xUǽ\\x1b\\r\\t+=O=,ü0C\\x0bR=\\x1fr%kf<\\x14otUm&@|F=߶<6\\U000d1f21J`=*}$ꃺs!G6=\\x17l=!\\x0bKg\\x7f\\x10\\x11x\\x00=`\\x08ӆ=F\\x08D8\\x00C)w\\x0f~\\x19s=\\x05|:<w_={^<hT=ᜆ\\x13\\x0c<o=|\\x02E=؝<Zf<<\\x084#%=Y!`\\x07]:<\\x17\\x0fڼBsw=\\x02dp\\x10=\\x1f=^<%P;늼\\x00˼a3<d\\'K\\x07<&;\\x14\\x1d\\x11EDk=p\\x0b;ýL#=<:M μ)\\nppbWN=;SkK=?HЍ=;\\x1eJ\\x01>SZ=yL\\x01\\nwV=Ѝ\\x19W=1w=4v=??<\\ny<q=4fi\\rW_=\\x02_=(J]X<\\\\]YϽy㷼B;Q#\\x0c<e:=,\\rY=\\x0b=oQ\\x07\\r=;\\x16G̼콓;=\\x13U=\\x1eb٦\\txh;?\\x0e\\x1bL켆{Z1<{N1=+w\\x10nP=pI%PnZL#T\\u07bdI#=;\\nh=ڙ=?|=Cے=9_8;`<\\x1d\\x1b=yD<Q;\\x00\":[\\x14=̤٤=\\x13=\\x12\\x1bi<A(<<<bi\\x17\\x14=ʽ=\\x0e=\\x03M<K\\x1e3<?K-.i;\\t\\x16=\\x18\\x18~=6<a;o\\x00J=k\\x169=7=Zj]<3=%=\\x05\\x05L=\\x19kȴ˼\\'<XI\\x10&H =(Q\\x0e\\x03a,,|\\x0f=ʹu\\x17ǼRuڽPe2\\\\㽁\\x10~Np<\\x19<_V<\\r3\\U000e0f1dRq;9P=hn <A[=nXK=\\x7f\\r\\x16\\x024\\x01nj\\x1a\\x03G<X=S8н. <Dfi۳U<><H=\\n=\\x12\\x16Y1\\t>\\x1e=<V\\x1cݽ*Sd<];:F<_7=GDJ\\x0f!==A\\x04=\\x13=Ӂ=Xi<h\\x10\\x00=;=v=Đ=Y\\x01r1:HyĻ(|;<\\x12O=G\\x04==nټ^x3\\x19~3=1<\\x04<<=ݑ<Ž=.P\\r=\\x1b^%j<uټQ<\\x01\\x18)\\n[A\\x07;Q=ؙ*\\n=\\x01\\x1dWFGN.<x\\x1f=Aݠ<)ý[\\u0604J\\x18=Dά=C\\x11%.4\\x05\\x1e!=GH< \\x17W\\x04Q=#?I=B=\\x1ak=jl\\x7f\\x01=ҽ0\\x0c=|\\x1a1/=y\\x17ub\\'vJ<foǚh~;8;%<p==a<\\x03;(\\x0b\\x0braф\\x7fC\\x13û=YHe^X<=y;g\\x17=\\nD=$\\u05fc\\x1d\\x16Kt\\x19\\x1f;<_=̝s}=\\x0f4\\\\<^=\\x19<tM86\\x17@=<=j7\\x1f;[<\\x04ye*vL\\x03¼\\rc\\x15R=L=3\\x02E\\x19sn<\\x1a:17I\\x1c'}, Document {'id': '8', 'payload': None, 'rating': '9', 'title': 'Inception', 'genre': 'action', 'description': 'A thief who enters dreams to steal secrets faces his toughest mission yet, with reality itself at stake.', 'vector': 'Ѽ{V=K\\x05\\x12ņ<\\x0b4\\x02#<\\tF<ފ*>r=?;,\\r\\x06\\x1e;s<\\x0cj4ݜP<\\x19A\\x06R\\x06=ٕ$\\x11<!S=z(F7@\\n\\x1cQ=W=<d<=9\\x0b\\x1dŚⒼR;\\x1e\\n=\\x1fF=d=\\x0bp;ӼS]&\\x06>W\\x081\\x05;r\\x120\\u05fcӆv=z;;& v߽Zա<<B@=P=+\\x13<ǯ;d=%{w\\x0e=҄$=k=,\\x02r`=W\\x01=`\\x084ƻ\\\\=_];!\\x1egAw\\x118Sx=!zT\\x00<Å<=9,\\x1d\\x0c<`\\x1f~;\\x04,<u=ك\\t/\\x0b\\x02\\x10Tw<EkadB8JK\\n\\x19%)!yU=DO%R<mN9=\\x03\"\\'=˓_FE\\x7f=`Hv\\x11#\\r<f̍=3=M/>=`gt\\x18><md=Uǩ=\\x07@p=<);XG\\tt\\x1bx\\x12Q=\\x1f5Ի+\\x056<\\x07\\x0bt<i̼\\x0eE\\\\\\'<7\\x19*(:`\\x10=Lu<zwF=ыY\\x08=*s|.|=-8ftzA=ȼ~\\x15MC\\x10꼠)7=\\\\m;$=I=<,U=0ھ=ATI=#늼JM|\\x01T?<3:\\x02l6\\x04=\\x1f!=D\\x16=\\\\;7*J͂½/QD}x.=\\x1f=T\\x14==$C=db];\\x1dc<Q=\\x00j\\x19\\x00A7\\x03~fS\\x1b_;jb\\x00i9ʕۼ<M=;HcAfW?\\x08\\x0f=\\x104<[<e=<\\x11Nb\\x01(=8<ԙ~9=g\\x13ր<;\\x1c;\\nlI=b\\x04<==\\x1f=mA\\ue1bd(^<\\x0fe3SC;@\\x14ѽO=Ѷ<=6=n=\\n\\x01~>A=\\x00!.c<G\\x1f=_W\\x10= gi>2\\\\LL\\x01==-I\\x1c\\x1e^;ջȣ<[\\x15\\x0cҩ=Q\\x19Rk$\\x17Od\\x11B}_\\x02\\r⋋ty=~=4==\\r-=(=ӹҹ*`@j<V<Tlν\\x7f;\\x15=7=g=ɭ<|2J<L;=<\\x17\\x01\\x0c)-Dɳ=\\x07!\\x1d2==\\x11\\x15Ih <0%<]>\\x1c\\x1d(\\x1b=\\x10=ax:hApI=\\u05fb<YF)8G=83\\t=Ej\\x1fy,|;R\\x00A<VX*f5U/IKWOv9f=M=4<:*0!漴nIL̚=[z2%\\x14\\x05\\x06<s?-\\x16\\x15_,=\\'\\x12\\x048\\u07bdXh@<=~^=6Zom<M`\\x04<z\\x10>\\\\<\\x0f\\x1cY|\\x0c=Cˡ<i2f=\\'6+1=%<i_\\x19=\\x03=9=\\x13=x]w\\x06=3y~=j\\x1e;Ko<\\x1aǻ\\x19;6=ޗ=<%i<4q\\x06=\"˼FW;3r=\\x03@<Ѥ¼\\x1a%@'}, Document {'id': '9', 'payload': None, 'rating': '8', 'title': 'The Avengers', 'genre': 'action', 'description': \"Earth's mightiest heroes come together to stop an alien invasion that threatens the entire planet.\", 'vector': '<Y<<=^ü\\tȿ=4q\\x0cF<?\\x18\\x1c\\x04o=?5d\\'=\\'3;K`ܻ\\x171=W)\\x0c\\x13B<|\"@=k\\x06=\\x08=̽\\x1c}\\x14.{=i\\x19Dm\\x1b2;}<-?TR@=l\\x0f<\\x01M=\\x0fぽ<\\x0cH`;s;2ԑÊԽu\\x11O.SYh<<<>Y\\x07rU{1\\x0e=NY=Fֽ\\x19Y=@O:N\\x11\\x1cF\\x00;<ee\\x19Cl;U0=#\\x161!= L:>JW9:K\\x0fRl=\\x13=\\x1d\\x1e<m<m=Pm˻B<ۼ7\\x1d;^$̺>:\\t(==PX{=\\x02<k(N=^h=\\x125T=\\x12Xz\\r7;Zb<h5\\x07<.;&S~<\\x19\\x12<X;\\x14;ħKU=\\U00085f5f\\x1abN=:;;1K=gN=x?=\\x1b\\x05̂d\\x1aA=מ<o =ύ=\\x03ϼ\\x1a3f\\x05h;;\\x1e=\\x1c;ޝ<|\\x7f\\x1br=R==_\\x08fXk$\\'=\\x01=~˃g<\\x14\\x19=}WHxS<Wjo=\\x1dB\\x14=Q`<uA$=ٻj\":=!(1h\\x1e=\\x19VZ<Y<z\\'\\x01\\x1b=3tl=\\x19y-_\\u07fc\\x16=;ZJÀ=Y6<\\x0cj<\\x14be&Jm0</L=˫3<l<\\x18HA\\x0b\\x170V\\x0f<B=j`=y^*=a;\\x02\\x19P<\\x017\\x00Ⱥ;nfBEė\\x05>%<ו<D<\\n<>.=\\x11`;}\\x10\\x0fR\\x1b<GBϼD+=+\\x0fQ<N_S3=5`X/C\\tZ\\x19\\x1a48O#=}Ի\\r=jżߜp-:=oM8T3yo<N=Gځ=)6߇=\\x7f3)=q]<\\x11<&=\\\\\\x10=2&#\\x06p<U\\x1a=\\x04=\\t\\x10~<|Ǽ4NW\\x08=M.<;LB\\x12m<\\x05<\\\\+>B\\x13$=qӼi\\x1c-<p=7F\\t\\x7f<=#=ӏʨs=P=. <ۧ\\x0cY==>F=ﵼ\\x01Cf<q=#碼\\x17\\x0fNE\\x19<\\x01\\x06=N7K\\'\\rK@>\\ue17d=3TB<3ἶ\\x13:\\x11\\x1b_:.3;W\\x0c=Cx;m=\\x02= <A*x=4\"P=@\\\\=`\\x0c|=\\x12<;\\x08)|.=X>H4\\x15\\x17$\"q<[)<\\uf1b6\\x11Z=7<~\\x01>>s=t;!<IM\\x1a\\x1c8=B<\"f<\\x0cǼh_$J<O\\x00\\x1b3Ⓗך=&1=CU\\x06&Yj;u\\x00=3ԋr\\x02\\x1c\\x10<\\x1ct<\\x1e=\\'#<ǲئ=\"ʸ\\x13><q6=G h\\x07=myA:G\\x06<\\x18!5=k\\'\\x1d\\x0fӂ\\x1a=<ǚ<\\x02\"=ZH\\r=Yۃ\\x1d=\\x18\\x05=ӍV=/\\x0c<I($\\x00={B<'}, Document {'id': '13', 'payload': None, 'rating': '8', 'title': 'Finding Nemo', 'genre': 'comedy', 'description': 'After his son is captured in the Great Barrier Reef and taken to Sydney, a timid clownfish sets out on a journey to bring him home.', 'vector': '9\\x07<́=\\x1cQ.;rۧ<5ӝ=#սCu\\x12<\\n<\\x03(\\x01?}WO=\\x00G<J!=i=Z^Lz\\x07Ԗ̺c\\x0bT<{\\x7fD=ؼ\\n4\\x1aD|\\x11=\\r;\\x0e]0=KK;\\ue33c9\\x1fgDeD3B?=\\x07\\x0b=q\\x15\\x16k\\x06\\x16s=/!<\"#<ћ<]<\\x10=\\x1fͽ\\x05Ԧ\\u0ffc\\x1bCE=m=xL\\u07b9<\\x1aM<\\\\;D<\\x16\\x01>Z\\x1eKh;<r\\x1fՁ\\x06=f\\x14\\'_ <d<F1tsɉXI\\r=n5gk\\'<@\\x00=\\x1c#\"\\x0f\\x1f<\\x10=&\\x0f=\\x0fL\\t@\\x11f;p=j<X<H]QW=:\\x029=\\x1f!=%\\x0e$<s<\\x1bl;A`~\\nO,<D=<~ =GtW=տ[=?=)=;\\x1d5\\x08=\\x054R\\nMp*=;׃=s?yӢ<=v=V=\\x1e\\x04\\x15\\x14=Q =\"Gf\\x02>>v\\x1e=!=d&=s<ת<\\x16<4\"(\"u\\x0e>\\x11\\x05Ɍ.k\\x03Z-ض\\x07\\x19<[*\\x17=\\x1cj\\x7f=^z<.\\x1f=4\\x17g~;\"\\n_=?;C!W\\x04=FF<_s<;=B=վϤ<M=qP<݊\\x17=\\x03)S\\x02\\x17rZWU=@Ǽ\\x08:\\x02\\x02\\x1f\\x0c}\\x07=`\\x16<Ǌ;\\x7f<\\x1cϊz\\n=\\x16:}yGk~=\\x02膻3xsA泏=Zܱ=I<Y=51<O<[\\x08P\\x00<#Ya\\x19<\\x04м\\x1fp*@SJ<;⑽:hj0<2]=R\\x0b:lYW;%\\x0f=J<>\\x14r\\x0b0<\\x1e</\\x0b^\\x1f<^\\x16=%\\x0c<wpx9z\\x1b=b\\x1d>n.t=a\\x19P$\\'#\\x19\\x05===WEdA\\r<y(\\x1f=ˎ<pj=\\x1c<=gF꼁\\x1d<q̏\\x1d=lJR\"xmC3\\x19x<ye=E<I`=Ħ`=i2Ǎ=ȸ<C+:I\\\\=nGM5\\x0b>\\x0b*<d\\x05=lF=*^=\\x120=\\rG<vRϑ=?[=.$:A;G\\x06%T%=\\x0fk5\\x08<u<<ƽs;\\\\\\x1dv<\\x18\\x0c\\x13Tǳ#KʼlMǦĽ\\x1c<\\x12=P\\x1ae=eo3=OԼ\\x10I=#V\\x13w;=\\x06$&\\x07=x\\u07fc\"\\x12=\\t\\x08=}\\n\\x15c\\x02\\tfвWܷ==,<P/u?U(g]<m\\x14=<==֒q=`<R=|?.;Cp=y\\x18ou⮽{0=Q=\\x1b\\r=\\x08!̼S_|Sg=Y;+t=AHżZ<rm\\x0e=m\\x1b=P\\x00:\\'=<\\x04 =\\x1euwB=r@{=\\x1aש<\\x1b\\x16hҁ==Օ\\x0f\\x07an5\\x16j<r-\\t`s̏;T6U=0\\x06IR\\x0b+=\\x1e=鵼'}]}"
      ]
     },
     "execution_count": 30,
     "metadata": {},
     "output_type": "execute_result"
    }
   ],
   "source": [
    "res = client.ft(index_name).search(\"*\")\n",
    "res"
   ]
  },
  {
   "cell_type": "markdown",
   "id": "87ba1dfd",
   "metadata": {},
   "source": [
    "## Index loaded now we can perform vector search\n",
    "\n",
    "### basic vector search"
   ]
  },
  {
   "cell_type": "code",
   "execution_count": 31,
   "id": "9454e60d",
   "metadata": {},
   "outputs": [
    {
     "name": "stdout",
     "output_type": "stream",
     "text": [
      "Top 3 movies:  [('Fast & Furious 9', 'action', '6'), ('Despicable Me', 'comedy', '7'), ('The Incredibles', 'comedy', '8')]\n"
     ]
    }
   ],
   "source": [
    "from redis.commands.search.query import Query\n",
    "\n",
    "user_query = \"High tech movies\"\n",
    "\n",
    "embedded_user_query = embed_text(model, user_query)\n",
    "\n",
    "# Note: dialect 2 and above required for vector search\n",
    "query = Query(\"(*)=>[KNN 3 @vector $vec_param AS dist]\").sort_by(\"dist\").dialect(2)\n",
    "\n",
    "res = client.ft(index_name).search(query, query_params = {'vec_param': embedded_user_query})\n",
    "\n",
    "print_results(res)\n"
   ]
  },
  {
   "cell_type": "markdown",
   "id": "ef5e1997",
   "metadata": {},
   "source": [
    "### Hybrid filter vector search\n",
    "\n",
    "Redis allows you to combine filter searches on fields within the index object allowing us to create more specific searches."
   ]
  },
  {
   "cell_type": "code",
   "execution_count": 32,
   "id": "d499dcad",
   "metadata": {},
   "outputs": [
    {
     "name": "stdout",
     "output_type": "stream",
     "text": [
      "Top 3 movies:  [('Fast & Furious 9', 'action', '6'), ('Mad Max: Fury Road', 'action', '8'), ('Explosive Pursuit', 'action', '7')]\n"
     ]
    }
   ],
   "source": [
    "# Search for top 3 movies specifically in the action genre\n",
    "\n",
    "user_query = \"High tech movies\"\n",
    "\n",
    "embedded_user_query = embed_text(model, user_query)\n",
    "\n",
    "# Note: genre is a tag field in our schema so the syntax is @<field_name>:{ <tag> | <tag> | ...}\n",
    "query = Query(\"(@genre:{action})=>[KNN 3 @vector $vec_param AS dist]\").sort_by('dist').dialect(2)\n",
    "\n",
    "res = client.ft(index_name).search(query, query_params = {'vec_param': embedded_user_query})\n",
    "\n",
    "print_results(res)"
   ]
  },
  {
   "cell_type": "code",
   "execution_count": 33,
   "id": "f59fff2c",
   "metadata": {},
   "outputs": [
    {
     "name": "stdout",
     "output_type": "stream",
     "text": [
      "Top 3 movies:  [('Mad Max: Fury Road', 'action', '8'), ('Explosive Pursuit', 'action', '7'), ('The Avengers', 'action', '8')]\n"
     ]
    }
   ],
   "source": [
    "# Search for top 3 movies specifically in the action genre with ratings at or above a 7\n",
    "\n",
    "user_query = \"High tech movies\"\n",
    "\n",
    "embedded_user_query = embed_text(model, user_query)\n",
    "\n",
    "query = Query(\"(@genre:{action} & (@rating:[7 inf]))=>[KNN 3 @vector $vec_param AS dist]\").sort_by('dist').dialect(2)\n",
    "\n",
    "res = client.ft(index_name).search(query, query_params = {'vec_param': embedded_user_query})\n",
    "\n",
    "print_results(res)"
   ]
  },
  {
   "cell_type": "code",
   "execution_count": 34,
   "id": "8a493ae0",
   "metadata": {},
   "outputs": [
    {
     "name": "stdout",
     "output_type": "stream",
     "text": [
      "Top 2 movies:  [('Despicable Me', 'comedy', '7'), ('The Dark Knight', 'action', '9')]\n"
     ]
    }
   ],
   "source": [
    "# Search with full text search for movies that directly mention \"criminal mastermind\" in the description\n",
    "\n",
    "user_query = \"High tech movies\"\n",
    "\n",
    "embedded_user_query = embed_text(model, user_query)\n",
    "\n",
    "query = Query(\"(@description:(criminal mastermind))=>[KNN 3 @vector $vec_param AS dist]\").sort_by('dist').dialect(2)\n",
    "\n",
    "res = client.ft(index_name).search(query, query_params = {'vec_param': embedded_user_query})\n",
    "\n",
    "print_results(res)"
   ]
  },
  {
   "cell_type": "code",
   "execution_count": 35,
   "id": "c0d7ab60",
   "metadata": {},
   "outputs": [
    {
     "name": "stdout",
     "output_type": "stream",
     "text": [
      "Top 3 movies:  [('Despicable Me', 'comedy', '7'), ('The Incredibles', 'comedy', '8'), ('Explosive Pursuit', 'action', '7')]\n"
     ]
    }
   ],
   "source": [
    "# Vector search with wild card match\n",
    "\n",
    "user_query = \"High tech movies\"\n",
    "\n",
    "embedded_user_query = embed_text(model, user_query)\n",
    "\n",
    "query = Query(\"(@description:(crim*))=>[KNN 3 @vector $vec_param AS dist]\").sort_by('dist').dialect(2)\n",
    "\n",
    "res = client.ft(index_name).search(query, query_params = {'vec_param': embedded_user_query})\n",
    "\n",
    "print_results(res)"
   ]
  },
  {
   "cell_type": "code",
   "execution_count": 42,
   "id": "748c15ae",
   "metadata": {},
   "outputs": [
    {
     "name": "stdout",
     "output_type": "stream",
     "text": [
      "Top 3 movies:  [('The Avengers', 'action', '8'), ('Black Widow', 'action', '7'), ('The Princess Diaries', 'comedy', '6')]\n"
     ]
    }
   ],
   "source": [
    "# Vector search with fuzzy match\n",
    "\n",
    "user_query = \"High tech movies\"\n",
    "\n",
    "embedded_user_query = embed_text(model, user_query)\n",
    "\n",
    "# Note: fuzzy match is based on Levenshtein distance. Therefore, \"hero\" might return result for \"her\" as an example.\n",
    "# See docs for more info https://redis.io/docs/latest/develop/interact/search-and-query/advanced-concepts/query_syntax/\n",
    "query = Query(\"(@description:%hero%)=>[KNN 3 @vector $vec_param AS dist]\").sort_by('dist').dialect(2)\n",
    "\n",
    "res = client.ft(index_name).search(query, query_params = {'vec_param': embedded_user_query})\n",
    "\n",
    "print_results(res)"
   ]
  },
  {
   "cell_type": "markdown",
   "id": "6bd27cb3",
   "metadata": {},
   "source": [
    "## Range queries\n",
    "\n",
    "Range queries allow you to set a pre defined \"threshold\" for which we want to return documents. This is helpful when you only want documents with a certain distance from the search query."
   ]
  },
  {
   "cell_type": "code",
   "execution_count": 37,
   "id": "cafe1795",
   "metadata": {},
   "outputs": [
    {
     "name": "stdout",
     "output_type": "stream",
     "text": [
      "Top 6 movies:  [('The Incredibles', 'comedy', '8'), ('Black Widow', 'action', '7'), ('Despicable Me', 'comedy', '7'), ('Shrek', 'comedy', '8'), ('Monsters, Inc.', 'comedy', '8'), ('Aladdin', 'comedy', '8')]\n"
     ]
    }
   ],
   "source": [
    "user_query = \"Family friendly fantasy movies\"\n",
    "\n",
    "embedded_user_query = embed_text(model, user_query)\n",
    "\n",
    "query = (\n",
    "    Query(\"@vector:[VECTOR_RANGE $radius $vector]=>{$YIELD_DISTANCE_AS: vector_distance}\")\n",
    "     .sort_by(\"vector_distance\")\n",
    "     .return_fields(\"title\", \"rating\", \"genre\", \"vector_distance\")\n",
    "     .dialect(2)\n",
    ")\n",
    "\n",
    "# Find all vectors within 0.8 of the query vector\n",
    "query_params = {\n",
    "    \"radius\": 0.8,\n",
    "    \"vector\": embedded_user_query\n",
    "}\n",
    "\n",
    "res = client.ft(index_name).search(query, query_params)\n",
    "print_results(res)\n"
   ]
  },
  {
   "cell_type": "markdown",
   "id": "a1586ea7",
   "metadata": {},
   "source": [
    "Like the queries above, we can also chain additional filters and conditional operators with range queries. The following adds an `or` condition that returns vector search within the defined range or with a rating at or above 9."
   ]
  },
  {
   "cell_type": "code",
   "execution_count": 38,
   "id": "d3110324",
   "metadata": {},
   "outputs": [
    {
     "name": "stdout",
     "output_type": "stream",
     "text": [
      "Top 3 movies:  [('The Incredibles', 'comedy', '8'), ('The Dark Knight', 'action', '9'), ('Inception', 'action', '9')]\n"
     ]
    }
   ],
   "source": [
    "user_query = \"Family friendly fantasy movies\"\n",
    "\n",
    "embedded_user_query = embed_text(model, user_query)\n",
    "\n",
    "query = (\n",
    "    Query(\"@rating:[9 +inf] | @vector:[VECTOR_RANGE $radius $vector]=>{$YIELD_DISTANCE_AS: vector_distance}\")\n",
    "     .sort_by(\"vector_distance\")\n",
    "     .return_fields(\"title\", \"rating\", \"genre\", \"vector_distance\")\n",
    "     .dialect(2)\n",
    ")\n",
    "\n",
    "# Find all vectors within 0.8 of the query vector\n",
    "query_params = {\n",
    "    \"radius\": 0.7,\n",
    "    \"vector\": embedded_user_query\n",
    "}\n",
    "\n",
    "res = client.ft(index_name).search(query, query_params)\n",
    "print_results(res)"
   ]
  },
  {
   "cell_type": "code",
   "execution_count": 39,
   "id": "1902b43b",
   "metadata": {},
   "outputs": [],
   "source": [
    "# clean up!\n",
    "client.flushall()"
   ]
  },
  {
   "cell_type": "code",
   "execution_count": null,
   "id": "aaa463f0",
   "metadata": {},
   "outputs": [],
   "source": []
  }
 ],
 "metadata": {
  "kernelspec": {
   "display_name": "Python 3 (ipykernel)",
   "language": "python",
   "name": "python3"
  },
  "language_info": {
   "codemirror_mode": {
    "name": "ipython",
    "version": 3
   },
   "file_extension": ".py",
   "mimetype": "text/x-python",
   "name": "python",
   "nbconvert_exporter": "python",
   "pygments_lexer": "ipython3",
   "version": "3.11.9"
  }
 },
 "nbformat": 4,
 "nbformat_minor": 5
}
