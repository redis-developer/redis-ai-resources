{
 "cells": [
  {
   "cell_type": "markdown",
   "id": "cbba56a9",
   "metadata": {},
   "source": [
    "![Redis](https://redis.io/wp-content/uploads/2024/04/Logotype.svg?auto=webp&quality=85,75&width=120)\n",
    "# Vector Search with Redispy\n",
    "## Let's Begin!\n",
    "<a href=\"https://colab.research.google.com/github/redis-developer/redis-ai-resources/blob/main/python-recipes/vector-search/00_redispy.ipynb\" target=\"_parent\"><img src=\"https://colab.research.google.com/assets/colab-badge.svg\" alt=\"Open In Colab\"/></a>\n"
   ]
  },
  {
   "cell_type": "markdown",
   "id": "0b80de6b",
   "metadata": {},
   "source": [
    "## Prepare data\n",
    "\n",
    "In this examples we will load a list of movie objects with the following attributes: `title`, `rating`, `description`, and `genre`. \n",
    "\n",
    "For the vector part of our vector search we will embed the description so that user's can search for movies that best match what they're looking for.\n",
    "\n",
    "**If you are running this notebook locally**, FYI you may not need to perform this step at all."
   ]
  },
  {
   "cell_type": "code",
   "execution_count": 5,
   "id": "b966a9b5",
   "metadata": {},
   "outputs": [
    {
     "name": "stdout",
     "output_type": "stream",
     "text": [
      "Cloning into 'temp_repo'...\n",
      "remote: Enumerating objects: 204, done.\u001b[K\n",
      "remote: Counting objects: 100% (52/52), done.\u001b[K\n",
      "remote: Compressing objects: 100% (28/28), done.\u001b[K\n",
      "remote: Total 204 (delta 37), reused 24 (delta 24), pack-reused 152\u001b[K\n",
      "Receiving objects: 100% (204/204), 9.47 MiB | 10.76 MiB/s, done.\n",
      "Resolving deltas: 100% (64/64), done.\n",
      "mv: temp_repo/python-recipes/vector-search/resources: No such file or directory\n"
     ]
    }
   ],
   "source": [
    "# NBVAL_SKIP\n",
    "!git clone https://github.com/redis-developer/redis-ai-resources.git temp_repo\n",
    "!mv temp_repo/python-recipes/vector-search/resources .\n",
    "!rm -rf temp_repo"
   ]
  },
  {
   "cell_type": "markdown",
   "id": "19bdc2a5-2192-4f5f-bd6e-7c956fd0e230",
   "metadata": {},
   "source": [
    "## Packages"
   ]
  },
  {
   "cell_type": "code",
   "execution_count": 1,
   "id": "c620286e",
   "metadata": {},
   "outputs": [
    {
     "name": "stdout",
     "output_type": "stream",
     "text": [
      "Note: you may need to restart the kernel to use updated packages.\n"
     ]
    }
   ],
   "source": [
    "# NBVAL_SKIP\n",
    "%pip install -q redis numpy sentence-transformers"
   ]
  },
  {
   "cell_type": "markdown",
   "id": "323aec7f",
   "metadata": {},
   "source": [
    "## Install Redis Stack\n",
    "\n",
    "Later in this tutorial, Redis will be used to store, index, and query vector\n",
    "embeddings created from PDF document chunks. **We need to make sure we have a Redis\n",
    "instance available.\n",
    "\n",
    "#### For Colab\n",
    "Use the shell script below to download, extract, and install [Redis Stack](https://redis.io/docs/getting-started/install-stack/) directly from the Redis package archive."
   ]
  },
  {
   "cell_type": "code",
   "execution_count": null,
   "id": "2cb85a99",
   "metadata": {},
   "outputs": [],
   "source": [
    "# NBVAL_SKIP\n",
    "%%sh\n",
    "curl -fsSL https://packages.redis.io/gpg | sudo gpg --dearmor -o /usr/share/keyrings/redis-archive-keyring.gpg\n",
    "echo \"deb [signed-by=/usr/share/keyrings/redis-archive-keyring.gpg] https://packages.redis.io/deb $(lsb_release -cs) main\" | sudo tee /etc/apt/sources.list.d/redis.list\n",
    "sudo apt-get update  > /dev/null 2>&1\n",
    "sudo apt-get install redis-stack-server  > /dev/null 2>&1\n",
    "redis-stack-server --daemonize yes"
   ]
  },
  {
   "cell_type": "markdown",
   "id": "7c5dbaaf",
   "metadata": {},
   "source": [
    "#### For Alternative Environments\n",
    "There are many ways to get the necessary redis-stack instance running\n",
    "1. On cloud, deploy a [FREE instance of Redis in the cloud](https://redis.com/try-free/). Or, if you have your\n",
    "own version of Redis Enterprise running, that works too!\n",
    "2. Per OS, [see the docs](https://redis.io/docs/latest/operate/oss_and_stack/install/install-stack/)\n",
    "3. With docker: `docker run -d --name redis-stack-server -p 6379:6379 redis/redis-stack-server:latest`"
   ]
  },
  {
   "cell_type": "markdown",
   "id": "1d4499ae",
   "metadata": {},
   "source": [
    "### Define the Redis Connection URL\n",
    "\n",
    "By default this notebook connects to the local instance of Redis Stack. **If you have your own Redis Enterprise instance** - replace REDIS_PASSWORD, REDIS_HOST and REDIS_PORT values with your own."
   ]
  },
  {
   "cell_type": "code",
   "execution_count": 2,
   "id": "aefda1d1",
   "metadata": {},
   "outputs": [],
   "source": [
    "import os\n",
    "\n",
    "# Replace values below with your own if using Redis Cloud instance\n",
    "REDIS_HOST = os.getenv(\"REDIS_HOST\", \"localhost\") # ex: \"redis-18374.c253.us-central1-1.gce.cloud.redislabs.com\"\n",
    "REDIS_PORT = os.getenv(\"REDIS_PORT\", \"6379\")      # ex: 18374\n",
    "REDIS_PASSWORD = os.getenv(\"REDIS_PASSWORD\", \"\")  # ex: \"1TNxTEdYRDgIDKM2gDfasupCADXXXX\"\n",
    "\n",
    "# If SSL is enabled on the endpoint, use rediss:// as the URL prefix\n",
    "REDIS_URL = f\"redis://:{REDIS_PASSWORD}@{REDIS_HOST}:{REDIS_PORT}\""
   ]
  },
  {
   "cell_type": "markdown",
   "id": "f8c6ef53",
   "metadata": {},
   "source": [
    "### Create redis client"
   ]
  },
  {
   "cell_type": "code",
   "execution_count": 3,
   "id": "370c1fcc",
   "metadata": {},
   "outputs": [],
   "source": [
    "from redis import Redis\n",
    "client = Redis.from_url(REDIS_URL)"
   ]
  },
  {
   "cell_type": "code",
   "execution_count": 4,
   "id": "458fc773",
   "metadata": {},
   "outputs": [],
   "source": [
    "import json\n",
    "\n",
    "with open(\"resources/movies.json\", 'r') as file:\n",
    "    movies = json.load(file)"
   ]
  },
  {
   "cell_type": "code",
   "execution_count": 5,
   "id": "8d561462",
   "metadata": {},
   "outputs": [
    {
     "name": "stderr",
     "output_type": "stream",
     "text": [
      "/Users/justin.cechmanek/.pyenv/versions/3.11.9/envs/redis-ai-res/lib/python3.11/site-packages/sentence_transformers/cross_encoder/CrossEncoder.py:11: TqdmExperimentalWarning: Using `tqdm.autonotebook.tqdm` in notebook mode. Use `tqdm.tqdm` instead to force console mode (e.g. in jupyter console)\n",
      "  from tqdm.autonotebook import tqdm, trange\n"
     ]
    }
   ],
   "source": [
    "import numpy as np\n",
    "from sentence_transformers import SentenceTransformer\n",
    "\n",
    "# load model for embedding our movie descriptions\n",
    "model = SentenceTransformer('sentence-transformers/all-MiniLM-L6-v2')\n",
    "\n",
    "def embed_text(model, text):\n",
    "    return np.array(model.encode(text)).astype(np.float32).tobytes()"
   ]
  },
  {
   "cell_type": "code",
   "execution_count": 6,
   "id": "9946a382",
   "metadata": {},
   "outputs": [],
   "source": [
    "# Note: convert embedding array to bytes for storage in Redis Hash data type\n",
    "movie_data = [\n",
    "    {\n",
    "        **movie,\n",
    "        \"vector\": embed_text(model, movie[\"description\"])\n",
    "    } for movie in movies\n",
    "]"
   ]
  },
  {
   "cell_type": "code",
   "execution_count": 7,
   "id": "8797fcc6",
   "metadata": {},
   "outputs": [
    {
     "data": {
      "text/plain": [
       "{'title': 'Explosive Pursuit',\n",
       " 'genre': 'action',\n",
       " 'rating': 7,\n",
       " 'description': 'A daring cop chases a notorious criminal across the city in a high-stakes game of cat and mouse.',\n",
       " 'vector': b'\\x9bf|=\\xa4a\\n;\\xb6\\x91\\xb7;*\\xcb~\\xbd\\x07e\\xce\\xbb\\xc9\\x16J=G\\xa7?=\\xcev\\x95<g\\xfa\\x06\\xbe\\x0fY\\xcf=+\\x07p=?\\xdb\\r\\xbd\\x95\\xf2H\\xbdre\\xc6<N\\xdfa=\\x958\\x16\\xbc\\xe1\\xd3\\x13<N\\xaa\\x1c=\\x13\\xef\\x89<\\xd6\\xb0-<\\x8e\\xb2\\x9f\\xbc_\\x0b\\xc3\\xbd\\xa5NR=cl\\xf7\\xbcP>\\x17\\xbe\\xc0 \\x05\\xb9&u\\xbf<0\\xe2b\\xba\\xd6\\xa6\\xa8\\xbdr\\xdc\\xec\\xbcWc%=\\xa6\\xe7r\\xbb\"OG=:(\\x85=s@\\xa2\\xbc/Z\\xd0\\xbdK%K\\xbd\\xb1\\xed\\x94\\xbc`\\xddH=\\xaa&F<\\xe0*\\xec<\\x88\\xd8\\x8d\\xbd\\xc5Z\\x98<\\x13\\xa3\\xa3=:g3\\xbd+\\xcd\\xbd\\xbd\\x90$\\xf7;\\xf8\\xf4z=\\x01\\xb5\\x8c=\\x8a\\x0e\\xc6\\xbdoI\\x90\\xbd\\x80\\x16\\xbd;u\\xe7\\x0c\\xbd\\xf32\\xc9\\xbc\\x8b\\xf8\\xbb\\xbcP&u\\xbb9\\x8f\\xca<\\x07\\x80J=\\x10\\xaf*=\\x96OU\\xbd\\xc9\\xf0\\x95\\xbc\\x10\\x02\\x19=\\x12\\xf4K<\\xc0\\xc2\\t=L\\x83\\xac=\\x98\\xd7\\xb8\\xbd\\xf7\\xb5\\x9c\\xbd9\\x85\\x18=\\x9fd&=73\\xf8<\\xfb\\xf7\\x88<\\xabv\\xf2\\xbb%=[\\xbd\\xdc\\xac\\xee\\xbb2:A\\xbd\\xdcd\\x19\\xbdjd\\xf2\\xbbr\\xbax;\\xdc;O<\\x991,\\xbc\\xea\\xae\\xae=~\\x00-\\xbc\\x1a\\x06\\xae\\xbdh\\xd6\\x1a=\\xc7\\xbf\\xcd=\\x1f\\x150=\\xdc\\xf1\\x9d\\xbc\\xaaGK=\\xaf\\xb8 =\\xb0\\xf1I\\xbd\\te\\x9e\\xbbI\\x8b\\xf7:\\x8b\\xf8\\x1c=\\x86\\xba\\xde<)o\\x16\\xbb\\x19]p\\xbb\\xc3\\xd5<<K\\xa1\\xa3\\xb8\\xc99s<\\x104&<\\x9d\\x1c\\x18<\\x1f\\xd9-\\xbd\\xd3\\xe6\\x98<\\x17\\xa1N=\\xa5/\\xa5=\\x1e\\xf3\\xdd<\\x1dL\\x13<e\\x10\\xce\\xbad\\x9e\\xdc\\xbc\\xb08\\x05=\\r\\xa1\\xf5<\\\\\\xd8R\\xbc\\xec\\x93-\\xbcK\\xe0\\\\9\\xa01\\xec=^\\xf5V=EG\\xd6\\xbc\\x9b\"S=\\xd0\\xd9^\\xbd\\xb2\\xa3\\x91<\\xee\\xd9\\x13<|\\xb2y\\xbbz\\x8d/\\xbd\\x99\\x06p<\\xf9\\x94\\x88\\xbb\\xb3\\xd0\\x9d<G\\x02\\xb6=\\x19\\xf1\\xad\\x89W\\xf2\\xa6\\xbb\\xba\\xfbe\\xbd\\xf6QK\\xbb6\\x10\\x90\\xbbJt\\xb9\\xbb\\x1a\\xc9\\xb9\\xbb\\x00ik=\\xa9\\r\\xad<5f\\xa8\\xbd\\xbd]\\xcc=\\x16\\xe0 \\xbe\\xcf4/\\xbdbf\\xf7\\xbcZ\\x9av=\\xf3\\x0bq<(\\xda\\x1c\\xbd\\x02\\t\\x8b<\\xf3n\\xa6\\xbc\\xc8t\\x86<q\\x87\\x19=\\x89\\xae\\xe4\\xbc\\rm^\\xbc\\x19V\\x0e\\xbd`\\xb0\\xe3\\xbc\\x04GU;\\xa8G|\\xbdZ\\xfb\\x8b\\xbd~\\x81*\\xbdw\\x83\\xf4=\\xa1\\xb7\\x10;\\x05!\\x0e\\xbd\\x01\\xd4\\xb4=\\x15&\\x15\\xbdR\\x86\\x83=c$:<!\\xea\\xa1<\\x1a\\x08\\x8d\\xbd\\x93\\x00i\\xbd*\\x01\\xdd<\\xff\\x86\\xd6=6\\x98\\x9c\\xbdX|!\\xbdi$\\xc5\\xb9\\xaf\\xb3\\x93\\xbc\\xf8\\xcb>\\xbd\\x86\\x1bF\\xbd\\xa2?\\x14\\xbe\\xc5\\x8f(\\xbd\\xdfO\\x89\\xbd\\x10\\xae\\xd4<\\xa9\\x12\\xc3=\\xad\\x05O\\xbdn\\x8ep\\xbc$\\xb5\\xac\\xbc\\xc5\\x9ee\\xbdf\\x8es;\\xee`\\xc1;\\xd3\\xfaB\\xbdC#\\xfe:\\x90\\xe6\\xf4=\\xba\\x15*<u\\xf8\\x1b=\\x04\\xfcV\\xbd\\xd2\\xd1\\r=9\\xee\\x06=\\x1au\\xba\\xbd\\xf6\\xa3\\xd6<\\xfc\\xeb\\xd9;\\xb59/=\\xaa\\xc2\\x85=v\\x0b\"=\\xe0i\\xef<7\\xe8c=\\xfb2\\x08\\xbe\\xcf\\x12;=\\xe3VW;B\\xa4b<\\xcc\\x9d\\xb7<{r;\\xbdhz\\x91\\xbcX\\x00<\\xbd\\x1d\\x1a\\xa3<\\xfeJ%\\xbc\\x80\\xe7\\xbf\\xbbv\\x87\\x12=\\x95\\x1d\\x95=s|\\xfd\\xbc\\xf7\\xf1\\xd1\\xbdsz\\x84;\\xbe\\tu=k\\x8ai<<\\x91R\\xbd\\xe0\\xf3m\\xbd\\x8c\\xb83=U\\xedF=*\\xf3\\xd1\\x08\\x81A\\xba<&\\xacO\\xbd\\x16\\x0f\\xc7;\\x85\\xf4\\x04\\xbdN\\x82\\x92\\xbd\\xa6\\xddD={\\xd8;\\xbc\\xc7;\\xf4\\xbc\\xb6\\x8f\\x97\\xbd:\\\\\\r\\xbd\\xe8\\x8c\\xf5\\xbd\\x93\\x13(=\\xa2\\xc8\\xc6=\\xb6\\xed\\x1a=\\x95\\xa8\\xf8=\\x86\\xc1\\xee\\xbc\\xc9-\\x18\\xbb\\xdf~;<\\xd9F\\t\\xbd\\x16\\x08\\x17=\\x9a\\xa5\\x1e=\\x19K\\xcb\\xbd0\\xf7\\x8c\\xbd]b\\xed\\xbb\\xad[\\x19\\xbcD\\x0c\\x13\\xbcdq\\x83=\\xf2wd\\xbd\\xeb\\xc7\\xd1\\xbbnlY\\xbc\\xa1|a=H\\xcf\\xfd\\xbc.\\xa5\\x83\\xbb\\x93O\\x19\\xbd0\\x02]\\xbd\\xca\\xeaz=\\xff5\\x9c=5^\\xa9\\xbdY^9\\xbcF\\xe4N\\xbc}\\x07x\\xbd\\x17{\\xa0=A\\x9f\\x96<\\x91t8\\xba\\x9e\\xbb=\\xbd\\xfa|(<\\x7f\\xdf\\xb4\\xbbc\\xc9\\x0b\\xbd\\xc4\\x01\\x95\\xbd\\xf7\\xc6T=\\x1bp\\xd1<_3\\'\\xbd\\xd4\\x00H<\\x99\\x0f\\xb8<$U}\\xbdw}\\x01=\\xff\\xc9[\\xbd\\xe8\\xec\\x03<\\x00c\\x0f\\xbd\\xd1\\x8e\\xe7\\xbc\\xe7\\x16\\xc8<\\xb3\\x08\\x9c=\\xfb\\xd4\\xa6\\xbdIQ\\xe5=u-O<\\xee\\xf22=\\xd926\\xbd\\xf4\\xe2\\xf2\\xbc\\x1b[\\xa7<v\\xb2\\x02\\xbe\\xebn2\\xbd\\xb1\\x80\\x8a=\\xf6\\xc3\\t\\xbd\\xfb\\xb7\\xcd\\xbcQ\\xdb\\xad\\xbb\\x90\\xfd\\xde\\xbc\\x11\\x17E=\\x80\\x06\\xbd=\\x1b&m=\\x10X\\x8e=\\xe8\\xae\\xa4=K\\xa3\\xca\\xbb\\x98?\\r\\xbc\\xc89\\x9c<Kl\\x8e\\xbd7\\x10k=\\xc8\\xff\\xbe;w\\x16\\xff<\\x828\\x92<|2\\x8c;N\\xac\\xa3=\\xe2+v<\\x0c\\x8a\\xf0\\xbbi\\xdb\\x07\\xbc\\x81\\xae\\xbd\\xbc\\xb3\\x8f\\xb4\\xb2\\xb1\\x88\\xd3\\xbd}\\xe9j=\\xea\\xdb\\xa7\\xbd\\xf3\\x16\\xe5<F\\x19p=\\xf8\\xe6\\x9f=\\xd7Gh\\xbd\\xe5\\x9a\\xf4\\xbd}\\xd6\\x07\\xbc$\\xddj<)tw=\\x8c\\xd0\\xe1<\\xc9\\xae\\x1e=\\xe4F\\xc4<\\xa00\\n<Njd\\xbc\\xb5\\xfa\\x8c=\\xcc\\x8a\\xa6\\xbc\\xf3-\\xcd\\xba\\xb3p\\xcf=-T-\\xbd\\xc5Qn=5\\x16\\x9f\\xbd\\x8e\\x8a_=M\\x13#<N\\xaam;(\\x86\\x00\\xbe\\xday\\x8b\\xbcbUG=\\x9e\\xa3\\xca=\\xc7\\xbdq\\xbc\\x95\\xe3:\\xbd\\xb9\\x93]<\\x84]\\xd1;\\xc3d\\xae=\\x97\\x1f\\x03\\xbd\\x08L\\x89=d:s\\xbd\\xa5\\x1eb=n\\xc9\\t\\xbb\\x9e\\xfb\\xe7<r\\xce\\xe4\\xbcTV#={\\x8bk\\xbd\\xd9h\\x01<\\xfa\\xe5N\\xbdX\\x0c\\xb1\\xbc]\\x01J\\xbdj\\xf4~=D\\xe3Z\\xbd\\x8c/\\xf1\\xbbH98=\\xb02T\\xbc#\\'\\x81<\\xb6\\xa0M=\\xa2\\xde\\x05<\\x19I|\\xbd\\xe5\\x98w<\\xe2\\xd3\\xa7\\xbd\\xdbS \\xbd\\x80\\x13\\x07=\\x10&\\x14\\xbc\\xcbv\\xe9<\\xf7,\\x97='}"
      ]
     },
     "execution_count": 7,
     "metadata": {},
     "output_type": "execute_result"
    }
   ],
   "source": [
    "movie_data[0]"
   ]
  },
  {
   "cell_type": "markdown",
   "id": "d7e99897",
   "metadata": {},
   "source": [
    "## Define Redis index schema"
   ]
  },
  {
   "cell_type": "code",
   "execution_count": 8,
   "id": "2ac53ebd",
   "metadata": {},
   "outputs": [],
   "source": [
    "from redis.commands.search.field import VectorField, TagField, NumericField, TextField\n",
    "from redis.commands.search.indexDefinition import IndexDefinition, IndexType\n",
    "\n",
    "index_name = \"movies\"\n",
    "\n",
    "schema = (\n",
    "    VectorField(\n",
    "        \"vector\",\n",
    "        \"HNSW\",\n",
    "        {\n",
    "            \"TYPE\": \"FLOAT32\",\n",
    "            \"DIM\": 384,\n",
    "            \"DISTANCE_METRIC\": \"COSINE\"\n",
    "        }\n",
    "        ),\n",
    "        NumericField(\"rating\"),\n",
    "        TagField(\"genre\"),\n",
    "        TextField(\"title\"),\n",
    "        TextField(\"description\")\n",
    ")\n",
    "\n",
    "try:\n",
    "    client.ft(index_name).info()\n",
    "    print(\"Index exists!\")\n",
    "except:\n",
    "    # index Definition\n",
    "    definition = IndexDefinition(index_type=IndexType.HASH)\n",
    "\n",
    "    # create Index\n",
    "    client.ft(index_name).create_index(fields=schema, definition=definition)"
   ]
  },
  {
   "cell_type": "markdown",
   "id": "24d3ea9c",
   "metadata": {},
   "source": [
    "## Populate index"
   ]
  },
  {
   "cell_type": "code",
   "execution_count": 9,
   "id": "169ebb93",
   "metadata": {},
   "outputs": [],
   "source": [
    "def load_docs(client: Redis, data: list[dict]):\n",
    "    for i, d in enumerate(data):\n",
    "        client.hset(\n",
    "            i,\n",
    "            mapping = d\n",
    "        )\n",
    "\n",
    "def print_results(res):\n",
    "    docs = [(doc.title, doc.genre, doc.rating) for doc in res.docs]\n",
    "    print(f\"Top {len(docs)} movies: \", docs)"
   ]
  },
  {
   "cell_type": "code",
   "execution_count": 10,
   "id": "5d643bbf",
   "metadata": {},
   "outputs": [],
   "source": [
    "load_docs(client, movie_data)"
   ]
  },
  {
   "cell_type": "code",
   "execution_count": 11,
   "id": "e5515073",
   "metadata": {},
   "outputs": [
    {
     "data": {
      "text/plain": [
       "Result{200 total, docs: [Document {'id': 'doc:ragas_ex:e5daf787a0fc4d0b9f29e1996245b4c0', 'payload': None, 'source': 'resources/nke-10k-2023.pdf', 'content': \"ASIA PACIFIC & LATIN AMERICA\\n\\n(1)\\n\\nGLOBAL BRAND DIVISIONS\\n\\nTOTAL NIKE BRAND\\n\\nCONVERSE CORPORATE\\n\\nTOTAL NIKE, INC.\\n\\nRevenues by:\\n\\nFootwear Apparel Equipment\\n\\n$\\n\\n11,644 $ 5,028 507\\n\\n6,970 $ 3,996 490\\n\\n5,748 $ 2,347 195\\n\\n3,659 $ 1,494 190\\n\\n— $ — —\\n\\n28,021 $ 12,865 1,382\\n\\n1,986 $ 104 29\\n\\n— $ — —\\n\\n30,007 12,969 1,411\\n\\nOther\\n\\nTOTAL REVENUES\\n\\n$\\n\\n—\\n\\n17,179 $\\n\\n—\\n\\n11,456 $\\n\\n— 8,290 $\\n\\n— 5,343 $\\n\\n25 25 $\\n\\n25\\n\\n42,293 $\\n\\n86 2,205 $\\n\\n40 40 $\\n\\n151 44,538\\n\\nRevenues by:\\n\\nSales to Wholesale Customers $\\n\\n10,186 $\\n\\n7,812 $\\n\\n4,513 $\\n\\n3,387 $\\n\\n— $\\n\\n25,898 $\\n\\n1,353 $\\n\\n— $\\n\\n27,251\\n\\nSales through Direct to Consumer Other\\n\\n6,993 —\\n\\n3,644 —\\n\\n3,777 —\\n\\n1,956 —\\n\\n— 25\\n\\n16,370 25\\n\\n766 86\\n\\n— 40\\n\\n17,136 151\\n\\nTOTAL REVENUES\\n\\n$\\n\\n17,179 $\\n\\n11,456 $\\n\\n8,290 $\\n\\n5,343 $\\n\\n25 $\\n\\n42,293 $\\n\\n2,205 $\\n\\n40 $\\n\\n44,538\\n\\n(1) Refer to Note 18 — Acquisitions and Divestitures for additional information on the transition of the Company's NIKE Brand business in Brazil to a third-party distributor.\\n\\nFor the fiscal years ended May 31, 2023, 2022 and 2021, Global Brand Divisions revenues include NIKE Brand licensing and other miscellaneous revenues that are not part of a geographic operating segment. Converse Other revenues were primarily attributable to licensing businesses. Corporate revenues primarily consisted of foreign currency hedge gains and losses related to revenues generated by entities within the NIKE Brand geographic operating segments and Converse but managed through the Company's central foreign exchange risk management program.\\n\\nAs of May 31, 2023 and 2022, the Company did not have any contract assets and had an immaterial amount of contract liabilities recorded in Accrued liabilities on the Consolidated Balance Sheets.\\n\\nSALES-RELATED RESERVES\\n\\nAs of May 31, 2023 and 2022, the Company's sales-related reserve balance, which includes returns, post-invoice sales discounts and miscellaneous claims, was $994 million and $1,015 million, respectively, recorded in Accrued liabilities on the Consolidated Balance Sheets. The estimated cost of inventory for expected product returns was $226 million and $194 million as of May 31, 2023 and 2022, respectively, and was recorded in Prepaid expenses and other current assets on the Consolidated Balance Sheets.\\n\\nNOTE 15 — OPERATING SEGMENTS AND RELATED INFORMATION\", 'chunk_vector': '7;\\u2efdN@gϼ\\x1c<<V<a\\'<R\\x11=EF=c_3=vf=\\x7fq\\x0bI=\\x0cj\\x07\\x1f\";jE\\x0eн8=d4\\x162Z=`}9\\x0f=Bϼ@{AL\\nS1=k=O=K\\x1c<w!!XEg7<\\x1f\\x0c<&Խ\\x12һ\\r\"u!q0T=\\n\\\\9\\x16>;~=@J=\\x19\\x13=$X<u@xp\\x04P\\x04=\\x1f՞<CKp<蛖\\x0e8VPP;-\\x04Ā\\x1ci=*\\x1df\\U000b5f30<\\x15B_=\\x06=Eb#q͈=*<=\\x15D,\\x13&;9J<^<ʼuG¼\\x1bwl_]\\x1b=``<:\\x1aG=\\x19)\\tЫLk:\\'\"5\\r=]5[\\x0cWo=qc<;K\\x1d=}\\x1a=kG<\\x1a2kM\\x06˚\\x08\\x08=F==߽֒\\x04z\\t\\r\\x13Hp\\u07fc+\\x0ba=\\x0f=,J=P}<\\r\\x1c)=`<Jip(lɽH!\\x02$$<\\'\\t[I< \\x18i\\x03b]=\\x0c\\x1d=\\x05=\\x05F\\x1aD=\\x03GǽM\\x04K=ͳ;4=\\n=~;l\\x00<Yr˰\\x1aH뺺9 .;=l==$<_\\x07\\x1d0Sͬ*=V`:<s7]= sg=PB.\\nB\\rK\\x15=\\x1b1<ù\\x1bȮ:fؼ\\x0eCtA=qt\\x014$\\x0e\\r\\x08;輹\\tbD=}={Ap/=\\x00۽\\tg\\x06<dVQI>\\x7f<=ZPm==*\\x023+\\x06ߞ<1\\x1a=6_ٻtJ\\'=Z\\x0e<QR<\\x18Q<\\x033;BkHCz<<?xme<ƾڌ<\\x1b\\x00>\\'0L=^֣<G=+<u\\x01y\\'\\x01x<7w<>\\n&ed6=m)=dTH=]p=\\x1c}\\'<\\x03\\x1fFu<؛;*q7M={Q5kW\\x1f=\\x1e;k^A=?E\\x04<f\\rҼ\\x15_@\\x11=*=f\\x0b1w;\\x0bd\\x0e%3TL;®v<\\x12d(=jSf<(\\x060=˚#@2v^\\n=Ō`=q\\x110=\\r95\\x02=\\x18\\x027NX\\x19\\x13MD0\\x0cK<}8$u<?Gn<>En<um=ڼnػoz\\x16=R=2tx<;\\x1cr\\x14p=mRh,=Dӛ<V3<q;ý=]dRh=<\\x19\\n\\x03\\'=֊_\\x14\\x13=[)c=Jm<^`=Y/:\\x0f==>w\\x13<\\x1c_S=ӧL\\x05<Xݼ\\x19Ѽ<:qR\\x1ej=\\x1d]<U=J\\'ټJE<\\x1d=M;=2\\x1f{s=\\x1c\\x18p-WK \\x02>:ջ\\x01jNn=L=\\x14=أv\\x0etV\\x0fALR<d<Y .JɁ<H ?<\\x18M<#ļN2q\\x08;;8\\x04NJ\\x13U<\\n=GĽDBѮ<,;-\\t\\x03k\\u07bc6l=N8\\'K+\\x05սlɰ\\'Ih+<BE=:4\\u05fc'}, Document {'id': 'doc:ragas_ex:17420215af1a4c439fff931b328ea6a5', 'payload': None, 'source': 'resources/nke-10k-2023.pdf', 'content': \"apply, and it is possible that legislators, regulators and courts may disagree with our conclusions. Any current or future legal or regulatory proceedings could divert management's attention from our operations and result in substantial legal fees.\\n\\nChanges to U.S. or other countries' trade policies and tariff and import/export regulations or our failure to comply with such regulations may have a material adverse effect on our reputation, business, financial condition and results of operations.\\n\\nChanges in the U.S. government's import and export policies, including trade restrictions, sanctions and countersanctions, increased tariffs or quotas, embargoes, safeguards or customs restrictions, could require us to change the way we conduct business and adversely affect our results of operations.\\n\\nIn addition, changes in laws and policies governing foreign trade, manufacturing, development and investment in the territories or countries where we currently sell our products or conduct our business could adversely affect our business. U.S. presidential administrations have instituted or proposed changes in trade policies that include the negotiation or termination of trade agreements, the imposition of higher tariffs on imports into the U.S., economic sanctions on individuals, corporations or countries, and other government regulations affecting trade between the U.S. and other countries where we conduct our business. It may be time-consuming and expensive for us to alter our business operations in order to adapt to or comply with any such changes.\", 'chunk_vector': '@\\x03%\\x01\\x02\\x14=so\\x04=*=Az5uM\\x15<\\x1a\\x1cF<\\t;\\x04?v=k}LT:>=<3;<e=ՅϽ<\\x1fm=3\\x07=n\\x01=m{,=Fx\\u05fd\\x02P<\\uf17dABE>ǽH\\x1bhao{=A<fd52($}=4qu=6ZC\\x05%\\'<N<6=\\x08\\t1K=\\nh=\\x06ü\\x12#)\\x1d=C\"=}\\t;^=$<dZa#;BYڕ\\x04]>|r\\x11%&\\x00\\x13Q=\\x05n<\\x1e\\x10<U\\x12{Se^=ʢ=h=vB?_=Ah\"\\x1cCsѽu_I\\x12YYg<\\x1f{E<\\x0b\\\\<=!>=\\x1f\\x1e<vg\\x11\\x0b=in<zY<h{=fyN<6\\t=E7=X\\u07fci\\n=S\\x11t5\\x19\\x13<=j\\x03\\x1d=\\x00\\x03LO0ռ\\x11玽9\\x13=꣼y\\\\\\x03cn+\\x10Q<<\\x0f\\x06;8\\x1c=v\\x04D\\x08C3+^^\\nje/=<6+ỬR<8\\\\<t6\\x1cZ=X\\x0c;\\x07=L=lj<0i=+,G/\\x12>/\\x05=\\x06\\x0e=n6\\x08s\\x13;F<\\r<\\x02\\x0c<G\\x10O*EM\\x01<\\x0b1=B=}=\\x0b#\\x1e\\x05z;{h\\x11Y=?弒\\x11e\\'=\\x0e=inA=p=g<+e =/R<V\\r\")Ge= y=\\x00<;--;-۽Q<RM_:n<k:2=%LK=OAs;\\'X牽iѼ\\x13\\rQ={*=\\x16*8==9=\\uf07bz\\x13=rX;\\x15\\x19ȑm:+f=={:\\x13d<d@;W<\\x7f=\\x1eU<@y\\x19<T\\x00ɥ=?=栉mC\\x14=C*<+M45\\x03.c9=K<<\\x18\\'=b̽XjD\\x01\\x04ּי<tf\\x06\\x05><\\x02=\\x00Uм\\x1c;\\x082=sszS=0Լ)\\x01\\x1c\\x00꽻X=<\\x0c<F~=5\\x1d&\\x0f==_\\x06Efǽ<O<V\\'\\x1b<r\\r\\x08;̀=\\x166˼v1\\x115Gb\\U000caf3fL9@n!<:\\x1a\\x0eּ=h=\\x17=\\x01\\':=<o:|=(Bz^;\\x0ex=f<e[`->q\\n|<<ɽ\\x16\\x1c\\u07bdm2-_=D::8RM(Bq}6=l=[=?<S\\x119\\x1b< <\\x185^<$|\\x04;\\x15\\')<\\x1fѪ;2\\x0bugЧk-M.SJ\\x1e\\nh.`;=+&E9\\x1cDp7<ܐ5H5\\x16<i<=8\\x06<\\x1c\\x05\\x14\\\\\\x1fμr=Ƽ\\x0ek\\x0b>W<\\x18=q1h=ĝi<~$\\x01=-8/}L\\x1b\\x1b=G\\x01\\x01<Ƕ<O\\n=\\x08<וA=\\x05\\x0bP\\x03#h1!G\\x13\\x07=\\x19=\\x11\\'O@=m5=\\x0fƉ=GH\\x1aMe4<^=֩:1\\x01Q9!;\\x01ϴ<qw^|Ǭ=h<4MYD \\x14\\'=ˊ,='}, Document {'id': 'doc:ragas_ex:62542b2f558c4272b8b9044e5fcf7369', 'payload': None, 'source': 'resources/nke-10k-2023.pdf', 'content': \"OTHER CURRENT ASSETS\\n\\nOTHER LONG- TERM ASSETS\\n\\nLIABILITIES AT FAIR VALUE\\n\\nACCRUED LIABILITIES\\n\\nOTHER LONG- TERM LIABILITIES\\n\\nLevel 2:\\n\\nForeign exchange forwards and options and embedded derivatives\\n\\n(1)\\n\\n$\\n\\n880 $\\n\\n674 $\\n\\n206 $\\n\\n77 $\\n\\n66 $\\n\\n11\\n\\n(1)\\n\\nIf the foreign exchange derivative instruments had been netted on the Consolidated Balance Sheets, the asset and liability positions each would have been reduced by $76 million as of May 31, 2022. As of that date, the Company had received $486 million of cash collateral from various counterparties related to foreign exchange derivative instruments. No amount of collateral was posted on the Company's derivative liability balance as of May 31, 2022.\\n\\nFor additional information related to the Company's derivative financial instruments, refer to Note 12 — Risk Management and Derivatives. For fair value information regarding Notes payable and Long-term debt, refer to Note 5 — Short-Term Borrowings and Credit Lines and Note 6 — Long-Term Debt, respectively.\\n\\nThe carrying amounts of other current financial assets and other current financial liabilities approximate fair value.\\n\\nNON-RECURRING FAIR VALUE MEASUREMENTS\\n\\nAs further discussed in Note 18 — Acquisitions and Divestitures, the Company met the criteria to recognize the related assets and liabilities of its Argentina, Chile and Uruguay entities as held-for-sale as of May 31, 2022. This required the Company to remeasure the disposal groups at fair value, less costs to sell, which is considered a Level 3 fair value measurement and was based on each transaction's estimated consideration.\\n\\nAll other assets or liabilities required to be measured at fair value on a non-recurring basis as of May 31, 2023 and 2022 were immaterial.\\n\\n2023 FORM 10-K 69\\n\\nTable of Contents\\n\\nNOTE 5 — SHORT-TERM BORROWINGS AND CREDIT LINES\\n\\nThe carrying amounts reflected in the Consolidated Balance Sheets for Notes payable approximate fair value.\", 'chunk_vector': '\\x17143i\\u05fc7\\r2?k=@^\\\\==(d=\\x0e=Bm=fH\\rY<<pj\\x11.Ӧ\\x14\\x06=\\u07bbYtdQ;xɴc9aw\\x18;\"\\x1d\\x03B\\x08a\\x19< *=|veq\\x07<Bm+=e0;5\\x7f<)bV\\x12ǼF=C=\\'\\x7f<Lu:\\x0fz<∻Z=!x\\x1e=\\x17\\x0cm\\x1d={V]<6^\\x07\\x1b\\x17\\x1c%*=<<݉\\x11u=\\x0cy\\x06\\x1aI=<䍽LdL<<<4\\x03\\x16\\x00\\x19LX:\\\\M\\rQD<,!P=\\x195=\\'\\x16\\x015\\x06K\\x1a=&o<#?8;\\x00\\x10I.ml=\\x1f==7\\x0bY=,(\\x12<\\x1cc<(}\\x19=}4hŻw=<2\\x04=7W=*+e(=~NMS=>\\nW=*X\\x18*s;g^E=)\"=XbX-ɼ8\\x04ټ@k<٥ʽף=$=\\'\\x02M\\x02<Z\\tb\\x04Y\\u07fc6\\t\\x0e\\\\L&F-\\x1dؒ\\x1fބ;=<QW=Ԯ\\x05x\\x1d=t&M[=?ֳ\\x05x\\x10?;{9\\'<@&=oު<Ɩ<9gֽ\\x009=8\\n<c\\x1d\\x19=\\x1a=-\\x1c;+мc&{2`=IC=ټ\\x17;8<.ʠ0xʽ\\x00<=<5\"</˼\\x15<\\n0=%L=Ճ<:\\x142𭽟\\x1eaՍM+]=d<\\x03\\ue5bd}=+`6ܯ[=A]s\\n!;P\\x06\\x1c>v;4dU<\\x16\\x1c<VRsF\\x03\\x1a=D=2<;d$b\\x1a=C=\\x0eP=9Vz\\x18\"v=DV==%\\x0c=j<c&:7$=@ɼ\\x1c(E%=z\\n=_2[<>\\x7f\\x107HV73\\x0f\\x0f>Vh갣!\\x18<#F\\x14ż#\\x03=\\x0c\\x0f;Ymͼ\\x1e\\x1a;}p+\\n<t=ش=9<&\\t~=Iŕ_Խi<d\\r=\\x13=^;\\x0cE;Vi<\\x0c\\x05^;k\\x14V*=\\x1e\\x0b,<\\x00=A=2\\x01=Nz;WL<4\\x05u\\x0e\\x029\\x102ӛ=JNB<\\x0fL=་n<\\x00\\x1f=g&=YV\\x0c|<=\\x1e\\x16y<6\\x7f<E\\x1d`f\\x07<*ف[\\x03=\\x04\\x03A;\\x13\\x0eٽ\\x1a=<\\x11JS\\x1a`\\x7f:P}4I<J\\x05=og=,Xw~\\x1cf!\\x19\\x04\\x1cv=L\\\\\\x16A^\\x13=K;\\x083\\\\c\\x12\\n=\\x06{3<cȄ\\x1a\\x00won1<;<WY\\x15=ь\\x18=\"69q\\x00=ؽcI<6=,gh<8<`=\\x02=J\\x0c\\t7G\\x16=Ð=\\x0ea}<n<F\\x08f2;\\x11#:Y=ȆT\\x19\\x08iA >a<nu$K\\x10&<Ji=\\x15-`=b\\x05e\\x11\\'=El<\\\\#\\u05fcv<o<ej\"&Q=\\x14a\\x06ͼ(U=.:\\n =Ǽ\\n<np'}, Document {'id': 'doc:ragas_ex:02854b445aa94bd690cdc91719e56f4c', 'payload': None, 'source': 'resources/nke-10k-2023.pdf', 'content': 'We conduct transactions in various currencies, which creates exposure to fluctuations in foreign currency exchange rates relative to the U.S. Dollar. Continued\\n\\nvolatility in the markets and exchange rates for foreign currencies and contracts in foreign currencies has had and could continue to have a significant impact on our reported operating results and financial condition.\\n\\nContinued volatility in the availability and prices for commodities and raw materials we use in our products and in our supply chain (such as cotton or petroleum\\n\\nderivatives) has had and could in the future have a material adverse effect on our costs, gross margins and profitability. In addition, supply chain issues caused by factors including the COVID-19 pandemic and geopolitical conflicts have impacted and may continue to impact the availability, pricing and timing for obtaining commodities and raw materials.\\n\\n\\n\\nIf retailers of our products experience declining revenues or experience difficulty obtaining financing in the capital and credit markets to purchase our products, this could result in reduced orders for our products, order cancellations, late retailer payments, extended payment terms, higher accounts receivable, reduced cash flows, greater expense associated with collection efforts and increased bad debt expense.\\n\\n\\n\\nIn the past, certain retailers of our products have experienced severe financial difficulty, become insolvent and ceased business operations, and this could occur in the future, which could negatively impact the sale of our products to consumers.\\n\\n\\n\\nIf contract manufacturers of our products or other participants in our supply chain experience difficulty obtaining financing in the capital and credit markets to purchase raw materials or to finance capital equipment and other general working capital needs, it may result in delays or non-delivery of shipments of our products.\\n\\nOur products, services and experiences face intense competition.', 'chunk_vector': ',^<*; 5=!<v\\x7f<ϺD<Ђ\\x10=o\\x0c<y:_H<,\\x0e=2=Cz<l]<{\\x18i!=\\u07fc6=Ji9=Usʲ;\\x01%7\\x00\\\\p\\x1dV\\x05{<JDH/;%\\x15=3Y=;TC\\x15=Zv\\x03@=>h\\x1bqռ$]pʼJ<G$nZ=N\\x18<\\x0bG\\x1b<7d<ȥ.<V/dkh¤;O=[٘;v(GU8iKgdݸ1#\\'<\\x1d=Dil=6\\x1f?=L#=?~m\\x02\\x04=\\x01\\x04\\x08j^=f=\\x0c\\x02<\\x01<C<#L<\\u07fc\\x1d\\x1f\\x19\\x12=Hq\\x1a=]=\\x055Dr=\\x1539\\x11=eA\\x07=pXX=<iX<!y̻짡=;Xf=\\x04;}Ɵ<df\\x01:3!:a\\x1c<a<+=\\x1dJ-=f\\x07]YsL1w=#ۅ\\x05f\\x04bɼ\\x08<j\\x0c=\\x0b\\x00\\u05fb\\\\ź\\x07XO\\x087x=%/\\tt<\\x04\\x06\\x18\\x1f\\t1/XR=Wr\\x114\\x00<$\\x03F͚-0̼b\\r=\\x02\\x07[|;\\x19$\\x0c=*%=K4=Pr+<\\x14=m6\\x1d5\\x1bq46=<\\x15EB=\\x06C<.={z)=}h=/\\x12.;X<\\x181~Q=)K=d=<\\x01A=ol\\x16\\u05cd,8ĥ<佳ѹ=OP\\x11\\x0c\",;!\\ru91N\\n=\\x18\\x1c;t5\\x02<Nj+ܧ:\\r=X\\x04\\x13\\x04Ϻ\\x18p\\x04&\\x02 PV=l4\\x10=\\x1e0!Z4<\\x14=\\x7fJv!\\x12=4=\\x06ƽ\\x15\\x03\\x1a=\\x1b\\t(Ey=;\\x1e<_2\\x1f?<һ=\\x1fc=\\x13\\x14=:W\\x07ŸѺ\"_<7ߠޞ<\\x10\\r\\x05=\\x1c;3\\x00\\x06_O\\x08<]\\x06ӻ<N\\x0c\\x0b=`=Oŀ=4{5=\\x1d\\'jɻקj=İJAEX$?=\\u07fbaѽ:2\\x16E%!=c<A~=pw=!<<ݼj彼:0X\\x02<訩=\\x1e}\\x1f=)-??;sm~i=lͼ\"=R\\x13=\\x07A<\\x02\\x1f\\x00<<\\x1ffp\\x00jO\\x05Εv=ٰ%=u9S=N</A<\\x00\\x02\\x12>̇#Wk=\\x0e*<d\\\\;b\\x17\"=I;\\x0e{57;B$=V[=\\r?=\\'\\x0c<\\x06<j\\x16<^~8iX\\'= <J\\x1dxɗ<ߒ<\\x1cwwl\\x11;\\x10KC\\x01S=\\x01<\";5,=-\\'=<\\x18=9k@e7ٻ &^\\x18a\\x1c==&\\x19)=\\x15+*ϼ\\x10a=L=)\\x16\\tH41;G+=TO= <ď\\x19<\\x1a&G5}\\x19\\x08ML\\x1c:<[ʼP;;\\t<T:7\\'j\\x135z!=-=zsC\\x08=6:U=Y?H\\x06\\x7fcx`a^<ؕA=\\x11dSݢqw<Tּٍ;<uz\\x08'}, Document {'id': 'doc:ragas_ex:21ee0903b7344a7795f657e38d819926', 'payload': None, 'source': 'resources/nke-10k-2023.pdf', 'content': 'There are concerns that increased levels of carbon dioxide and other greenhouse gases in the atmosphere have caused, and may continue to cause, potentially at a growing rate, increases in global temperatures, changes in weather patterns and increasingly frequent and/or prolonged extreme weather and climate events. Climate change may also exacerbate challenges relating to the availability and quality of water and raw materials, including those used in the production of our products, and may result in changes in regulations or consumer preferences, which could in turn affect our business, operating results and financial condition. For example, there has been increased focus by governmental and non-governmental organizations, consumers, customers, employees and other stakeholders on products that are sustainably made and other sustainability matters, including responsible sourcing and deforestation, the use of plastic, energy and water, the recyclability or recoverability of packaging and materials transparency, any of which may require us to incur increased costs for additional transparency, due diligence and reporting. In addition, federal, state or local governmental authorities in various countries have proposed, and are likely to continue to propose, legislative and regulatory initiatives to reduce or mitigate the impacts of climate change on the environment. Various countries and regions are following different approaches to the regulation of climate change, which could increase the complexity of, and potential cost related to complying with, such regulations. Any of the foregoing may require us to make additional investments in facilities and equipment, may impact the availability and cost of key raw materials used in the production of our products or the demand for our products, and, in turn, may adversely impact our business, operating results and financial condition.', 'chunk_vector': '2k<\\x1eʙ=\\x13P=8=gP\"<\\x12;9\\x0f;\\rT\\x173s\\x7f:<*[M\\x02v\"t1=R\\x18=mμѡ=\\x1d_۽eR\\x04\\x05=\\x0e]<q7z=\\x1d\\x08V=\"CPX\\x19<Zh2<Z;w=F%<a0\\x0cuR=8k=\\x1c\\\\<$$\\x1e\\x7f;gIԻ9  �^0\\x05\\x07䣼ֽٟ_=ufy\\x13&<w(=.\\x06eU?N6VW&=$\\x00b9\\u07bck<ؽ\\x1dw\\x10=IV\\x1a=\\x17ڼG=8ӕ\\r=\\'-<l\\x1b<H1:w\\x0cZ;_=t=\\x04;ٳ\\t>6څ =קf\\x10\\x13)I<p \\x02\\x05\\x1b<=;@㦼&\\x18\\x10/=p\\x05<\\x13K3ǩ=+=\\x18\\tNƬ=X,?,;R-<3\\x15i\\x07 s\\x05[XiǶ\\u07bc<Ws=߅.:b\\x1b] ļ<OC\\x10<][<A=qT,9\\x15ِ<pXV=G`=L\\x18f\\x08JI\\x0f;i-<\\x173s\\x17Һ8\\x01\\x1c=/Us\\x055_QP=\\x1ch=%\\x16.+R=\\x1f=|hbż͇.=y\\x16=\\x1aE=-S)*-\\x06rl<=L=\\x18o?1=\\x04A\\rc2\\x19>bl<*ĺ0<\\t&̴qI\\x16<CmPk\\x1e\\\\<mD\\x07=(=F<ڷ\\u07bb\\x02t=<ZٽI][[f=a;pA_\\t=FϽ|=$\\x08\\x15N\\x174ٽQV\\x1f<=\\x0fg<}K=C\\n\\x1a=\\x07=\\x05\\x05=\"=`a\\x16\\x1dk\\x11Q93\\x08<ݴ1=L$9H<\\x0b\\x0c\\x00/иW)3(ǻ%Ľ<\\x1a߈=-k=.\"n<6==]L\\u05fbO*<\\x07=h=\\x15zw2\\x07=b4\\x100$LX&=\\x1c=e]\\x0fh=c\\x00ֽ\\x00\\x03L<.%<\\x18<\\x01\\x02VԾ\\x00뼀I=ZKE#y5|\\x0c<Ls8%\\x0e=AȽ\\x03;\\x12P緽\\x11=N\\x17Sý3\\x1c=5T2=^\\x01Fث<\\x03T2\\x03;6|A=,\\x12,=\"\\x1f/I=#zy\\u07bb%];&j<\"1r=ȅ\\x0bዽ?2;<w\\x03;=\\x04\"\\x15+;XF=(S==*\\x0e= w<-<Tм\\r\\x08Yd=<W:=\\x15\\tD\\x17P}\\x11Џ;ۼ\\\\ݼ\\x1f;\\x1b*=.\\x1b=4=u(t\\x19\\x0e=0/j=\\uef0eh\\nkN?<d=}\\x05;<\\x01=F0;z5&IÌI=4+u<=05=\\x033X\\\\<\\x7f\\x10.=ȵ=$|=\\x15(\\x0f=mߏ4<´\\x19\\n0\\x0e\\nRa<90\\x17S$<*=\\x00Ƀ==t<\\'<k\\x1f<#w`X=Dz\\x7f\\x01_<+}=ݻ<b\\x05=\\r=\\x1e=;ÉԽ\\'zh=XǼg=5\\x18?ӈo;%<b\\x17<UJ=\\x07ߐ!.=}>=P<+[<t\\x05Ƚp\\x17n;\\x16(<'}, Document {'id': 'doc:ragas_ex:aaa03133803a477db56b5f191eee2ad2', 'payload': None, 'source': 'resources/nke-10k-2023.pdf', 'content': \"The Company's management is responsible for these consolidated financial statements, for maintaining effective internal control over financial reporting, and for its assessment of the effectiveness of internal control over financial reporting, included in the accompanying Management’s Annual Report on Internal Control over Financial Reporting. Our responsibility is to express opinions on the Company’s consolidated financial statements and on the Company's internal control over financial reporting based on our audits. We are a public accounting firm registered with the Public Company Accounting Oversight Board (United States) (PCAOB) and are required to be independent with respect to the Company in accordance with the U.S. federal securities laws and the applicable rules and regulations of the Securities and Exchange Commission and the PCAOB.\\n\\nWe conducted our audits in accordance with the standards of the PCAOB. Those standards require that we plan and perform the audits to obtain reasonable assurance about whether the consolidated financial statements are free of material misstatement, whether due to error or fraud, and whether effective internal control over financial reporting was maintained in all material respects.\\n\\nOur audits of the consolidated financial statements included performing procedures to assess the risks of material misstatement of the consolidated financial statements, whether due to error or fraud, and performing procedures that respond to those risks. Such procedures included examining, on a test basis, evidence regarding the amounts and disclosures in the consolidated financial statements. Our audits also included evaluating the accounting principles used and significant estimates made by management, as well as evaluating the overall presentation of the consolidated financial statements. Our audit of internal control over financial reporting included obtaining an understanding of internal control over financial reporting, assessing the risk that a material weakness exists, and testing and evaluating the design and operating effectiveness of internal control based on the assessed risk. Our audits also included performing such other procedures as we considered necessary in the circumstances. We believe that our audits provide a reasonable basis for our opinions.\\n\\nDefinition and Limitations of Internal Control over Financial Reporting\", 'chunk_vector': '\\x10}\\x0c8<צQ3=.ΠY==MK/ѓ=良C=頽\\x05<(vvݽ\\x1e\\x0c<\\x1b<畼\"=\\u05f7/Xp\\x03.wU=\\x1fڽ\\x0b)=vGT<t6\\x0c\"Ƚ\\x08bcj|K=;_=C;ӻ\\x0c.x9<2Q;o\\x07v\\x1dZ;\\x02{m<-I5[\\x07dWC=\\x1aQ\\x10<N(=zk<C,K)=d;c<V=ng<\\x08\\x16u=o\\x11=T\\x1f==g\\\\=kv<4\\x0b`<<%\\x06P\\x10\\x16<ν*~=\\x13\\x06b&=\\x0cOټf\\x0c=<S==+lTx^9<.(q\\x1d=z?QF\\x00|Y=T=(;\\'nS=\\x14\\x12!\\t=ǙmZ\\x1e)=S˶=Æ=\\n4L\\ue8de_rב=VU\\x06\\x036PF<~\\x0c{=\\x04X̽nc=\\x01<zy\\x1e08<v\\x0c=>&F\\x06=\\\\V={\\x7f\\x19\\x01\\x0e<2+QF{\\x08Q\\x01<,\\x1b*d\\x01:\\x10D\\x11d=\\rFvT=;/==A9YڽZ1D<3US=MY\\\\=V;=\\x1absZ<\\x1fB=\\x0b[?_=?<:<n],]<\\x07=X_\\x0f=\\x14]=);\\x16$ռ3pZ\\x1b;>J=<-Ҝ<<m\\x11<hIg&ɝ)\\x121\\x0e=\\x19ݼ\\x02F5\\x1c<\\x08<Aש<]8;fC<ZIj<C<\\x18+= g&ڗ\\x06\\x7f<2%<#^%=;S|v\\\\ׁ=w%\\x10=.ۼ[\\x05<Ur\\t\\x16:,\\x1b\\x1b=\\x7f\\x12<$\\x1c=}>0<\\t5Zʝ=Z;5<ü[=\\x14лP⼊*\\x11=*N=!FՉ̼\\r;\\x12<\\u05fd\\nԽZ]\\'<%U@\\x174P_@]нF<pV<-\\x00[\\x11<z=ɞ<[M=sJ;(\\'\\x05=\"a\\t\\x1b5H\\x1f=\\x16A=>=A<&\\n<L=\\x10\\x07=NJ8\"<u<z\\x12>\\x11v«#+=[閽\\x07f\\x19Kp0\\x08pq;mMꚽR漉\\x17=o\\x00=x?\\x07=I;\\x13.<\\x7fv=\\x150\\x1dP=0\\x05=!>J=\\x04*uچ=@>7ټE佛sV\\x10R\\x1e==P뼙{\\x0b<+^\\x17=[<\\x0eh\\x04\\x02=zӼHm\\n=\\x0e;:\\x1fє<1=|\\x08t5<V,;&<l9OڃçxM4=h{<\\x19\"/=sO2u}x,s2\\no=XPԽUa\\x0c7R\\x16V<\\x00jм!;ǟ\\x1a<*<H;w6G´˼=e$JK2D=e;\\'?<ܓ8=Sg<;~\\x04\\x04=O<\\x1d;{fU<61J)rFdl<D=-%<\\x0bAv5P<Tqq=ǽ9v<R7\\'\\x1d;= ]=E\"#y=\\x1f;C<<\\x01m<\\x14<f&'}, Document {'id': 'doc:ragas_ex:6e7af211aeb34e84b47a75a91dfa5cb3', 'payload': None, 'source': 'resources/nke-10k-2023.pdf', 'content': 'NIKE designs, develops, markets and sells athletic footwear, apparel, equipment, accessories and services worldwide. We are the largest seller of athletic footwear and apparel in the world. We sell our products through NIKE Direct operations, which is comprised of both NIKE-owned retail stores and sales through our digital platforms (also referred to as \"NIKE Brand Digital\"), to wholesale accounts and to a mix of independent distributors, licensees and sales representatives in nearly all countries around the world. Our goal is to deliver value to our shareholders by building a profitable global portfolio of branded footwear, apparel, equipment and accessories businesses. Our strategy is to achieve long-term revenue growth by creating innovative, \"must-have\" products, building deep personal consumer connections with our brands and delivering compelling consumer experiences through digital platforms and at retail.\\n\\nThrough the Consumer Direct Acceleration strategy, we are focused on creating the marketplace of the future with more premium, consistent and seamless consumer experiences, leading with digital and our owned stores, as well as select wholesale partners. In addition, our product creation and marketing organizations are aligned to a consumer construct focused on sports dimensions through Men\\'s, Women\\'s and Kids\\', which allows us to better serve consumer needs. We continue to invest in a new Enterprise Resource Planning Platform, data and analytics, demand sensing, insight gathering, and other areas to create an end-to-end technology foundation, which we believe will further accelerate our digital transformation. We believe this unified approach will accelerate growth and unlock more efficiency for our business, while driving speed and responsiveness as we serve consumers globally.\\n\\nFINANCIAL HIGHLIGHTS\\n\\n\\n\\nIn fiscal 2023, NIKE, Inc. achieved record Revenues of $51.2 billion, which increased 10% and 16% on a reported and currency-neutral basis, respectively\\n\\nNIKE Direct revenues grew 14% from $18.7 billion in fiscal 2022 to $21.3 billion in fiscal 2023, and represented approximately 44% of total NIKE Brand revenues for\\n\\nfiscal 2023\\n\\nGross margin for the fiscal year decreased 250 basis points to 43.5% primarily driven by higher product costs, higher markdowns and unfavorable changes in foreign currency exchange rates, partially offset by strategic pricing actions', 'chunk_vector': '-YWJ;\\x7fD0\\x03n=%\\x19!~<[s<]e<7V=\\x1b=e=)d\\uf7db<}=A4\\x00v<r\\x0f=OѶՃ=\\U0003dc9a<d=$wm]w;:\\x16\\x18<\\x12\\x0f鼵K=<K=,\\x02=8D\\x0e=h^7R<V<U=,\\x19d=7H=<61=z\\x1d=\"\\x10e\\x00>-peҜ:=\\x04˽hlz&=UUB<t.g6\\x1fA\\x1b=oH]x\\\\b\\x0b\\x1f=C{\\x0b]\\x0bu\\x0c4=?\\x07RS&\\x02<H}=2o\\x1fKK<U=#\\x1d{\\x05=\\x0c<嵽<<0=@\\x08=<\\x7f*-ͼ喽\\x10y\\\\\\tI\\x04\\x02= }u\\x02k<\\r.1m\\x15=\\x1cHu\\x18<Ss<?h=TѺ;L+<ϵm\\\\սV\\x19>(|5=&=\\x07\\x14/<+.<\\x05e;\\n<=$\\x1f=\\x042\\x03>w<ޖʼ衝=\\x05G=\\x7fR\\x17wql\\x12x%?;\\x04f\\x088b_=r\\x06<\\x1b<$n\\x0e=vs=\\x10<Ia]==`\\x1dOc=%\\x0b$\\x01>\\x15`=\\x16J_Ѣ?\\x12T>=\\x15\\x06=W=37;Q\\t\\x00\\x18=\\x05q=Q;\\'W<j\\x12:\\x0b<\\x12\\x00=1D\"ヽ9\\x08d\\\\\\x04<*<\\x15*Yi\\x03O;~+=\\x14z\\x1e=XIHHgC\\x7f<7=zlļ!<\\x0fՄx5b\\x1cq\\x1a\\x1fU<\\x13;g<\\x1bϤ\\x17%=B\\x14ܼ i<ɋ\\x00==\\x18<v0[KA|*:&=]\\rh{˻Tu$\\x14=Ml=6=xJ2հ<na\\x0c\\x1b\\x15V%n\\x1d<,g~=и?=}ݑ;<t=\\x19=&\\x07\\x1e`\\tx+;\\x0f\\x16\\x14\\x00,w;U1\\x07;]TQ`<ہpR\\\\= l\\x04=\"=\\tnxe#*\\x13G@<TA=\\x11?\\x0cͺ<\\x10#=\\x03O\\x10ܗ=9\\x12<e:\\\\\\x1f1\\x1f%=\\x19=M\\x1a<9/=J\\u07fc`\\U00036f353J~<?bӺɽ\\x07c=z7|KCn=\\x0c\\x11to:F\\n<B\\'V<bϑ:=\\x01=]\\x11=b<VN<=e\\x0c<x<\\uf80c\\x15?o9b:;^<8콛\\x11;HT:~ō=t<\\n@<,\\U000fc622AF<\\x1c,\\x0b=\\x1a=K=}\\x17=\\x18Λ<*\\x00.\\x068aa?<0=}bq=5B== ¼nK\\x1b=;\\x1e\\x07\\x0e<F鼋\\tx}\\x05G=V\\x1a=sVq=\\r$~\\x04=B_G[=\\x0fb<ny0\\x00%C<HR(<i\\x19.f\\x0f<$=\\nP\\x927=8<I\\x15\\nB菽oR7X<\\x04<\\x02<X}\\x1b=\\\\\\x0f=\\x17wN=\\x06<\\x0bG\\x08<k;4Imz:ZBO=&=dbE\\x14#\\x0f֩m<'}, Document {'id': 'doc:ragas_ex:a888adec923043488467f12cfe9c4f69', 'payload': None, 'source': 'resources/nke-10k-2023.pdf', 'content': \"unit contributed approximately 4 percentage points of apparel revenue growth. Higher ASP per unit was primarily due to higher full-price and off-price ASPs, partially offset by lower NIKE Direct ASP.\\n\\nReported EBIT increased 2% due to higher revenues and the following:\\n\\nGross margin contraction of approximately 190 basis points primarily due to higher product costs, reflecting product mix and higher input costs, as well as unfavorable changes in standard foreign currency exchange rates. This was partially offset by higher full-price ASP, net of discounts, due to product mix and strategic pricing actions.\\n\\nSelling and administrative expense increased 8% due to higher operating overhead and demand creation expense. Operating overhead expense increased primarily\\n\\ndue to higher wage-related expenses and an increase in NIKE Direct variable costs, partially offset by favorable changes in foreign currency exchange rates. Demand creation expense increased primarily due to higher sports marketing expense and higher advertising and marketing expense, partially offset by favorable changes in foreign currency exchange rates.\\n\\n2023 FORM 10-K 40\\n\\n% CHANGE EXCLUDING CURRENCY CHANGES\\n\\n17 %\\n\\n12 % 28 %\\n\\n16 %\\n\\n8 % 30 %\\n\\n16 %\\n\\nTable of Contents\\n\\nGLOBAL BRAND DIVISIONS\\n\\n(Dollars in millions)\\n\\nFISCAL 2023 FISCAL 2022\\n\\n% CHANGE\\n\\n% CHANGE EXCLUDING CURRENCY\\n\\nCHANGES FISCAL 2021\\n\\n% CHANGE\\n\\n% CHANGE EXCLUDING CURRENCY CHANGES\\n\\nRevenues Earnings (Loss) Before Interest and Taxes\\n\\n$ $\\n\\n58 $ (4,841) $\\n\\n102 (4,262)\\n\\n43 % -14 %\\n\\n43 % $ $\\n\\n25 (3,656)\\n\\n308 % -17 %\\n\\n302 %\\n\\nGlobal Brand Divisions primarily represent demand creation and operating overhead expense, including product creation and design expenses that are centrally managed for the NIKE Brand, as well as costs associated with NIKE Direct global digital operations and enterprise technology. Global Brand Divisions revenues include NIKE Brand licensing and other miscellaneous revenues that are not part of a geographic operating segment.\\n\\nFISCAL 2023 COMPARED TO FISCAL 2022\\n\\nGlobal Brand Divisions' loss before interest and taxes increased 14% for fiscal 2023 primarily due to a 12% increase in selling and administrative expense from higher operating overhead expense largely driven by higher wage-related costs and strategic technology enterprise investments.\\n\\nCONVERSE\\n\\n(Dollars in millions)\\n\\nFISCAL 2023 FISCAL 2022\\n\\n% CHANGE\\n\\n% CHANGE EXCLUDING CURRENCY\\n\\nCHANGES FISCAL 2021\\n\\n% CHANGE\\n\\n% CHANGE EXCLUDING CURRENCY CHANGES\", 'chunk_vector': 'n\"*Ke<j`<=-72=\\x13y5]=\\x18\\'<`\\r<#<3<nR\\x0bU*=\\x130Ľ`=/\\x1f\\x1a\\x13=\\x1dJ\\x04f6g=*\\x01\\u05fa`c\\x15-\\x04<Β<굼\\x0c19\\x1c2P;iy=K˪F;\\x12~:0\\x1b=jԻPD\\x02xB|\\x17ӽ>\\x05=\\x1a=$4=b6=|=!c=I=J<\\\\`ʍ:+<\\u07b5<\\x03<\\x15Xʼ\"e>\\x1cg=DB<\\x0e<\\x1bK\\x11;8ν<1\\n\\x197<K\\x0e<\\x03;;kQ%=0==;\\x152$8=K}=ܕ`<$\\x132={RD=T^:<i\\x1e\\x00:1=y\\x02<\\x03<\\x08=gļq4=\\x0fK=b\\x1f\\x07\\x7f:;\\x1d=\\x11;VV=sOEO,<դ=e a==$VnG5<ZƄ\\x12rBƼ\\t<FQLx=0<ҙ<6%?=ӫ;\\tm;_\\tw3<\\x15@:*\\x05=P\\x1c;#4n=GT\\x10gΜD=L;m=\\x17Ί=}UL`\\x7f{ʯ=X= (=G*\\x0eAZ<Χ0<Lܷ<\\x1c<k|Xۈ><W\\x16\\r<=k\\x1dν\\x15 ;\\x0c\\x19+R<缐z2=)I$\\x1a&\\x1e<ma\\x1dd\\x07Z\\x04=o.<tEHüa/<\\x12\\x0c =5=`ꈽ\\x1d(<ě/w;pPr/xo<Bo=\\r=_\\x0e=x*\\x1f=9=\\x18C\\x14-BQ<9\\x08=F=X@I;KϷ<L|2<\\t;\\x0e\\x02IY\\t\\x15==`,˼ǑX=\\x01r<f*\\x13Ǽ5⼓k\\x1c=\\x7fM=kG\\x0bş#==ӢJ=b\\x08D>6{=/\\x05=;]I\\x1cK\\x1aT;_R[8H=:#=(2=\\x1a\\x03>1n=(d;!\\u07b2t<~\"b;*\\x1b/\\x0cT<]λ{\\x0b=Qԅ=ӦF\\x16q\\x18=A\\x17=씼{=\\x0c0\\x03Ѡ<\\'%<_u=z½1x^S\\x0c\\u05fdŗK=\\x17\\x10\\x16\\x1f!\\\\;yFe =-,d=\\x1dx<=QAһE\\x08j/==嶻<ݼ<K5Z\\x1e^=(½é=\\x01Ԓ\\x13[;\\x03f=C4r\\x0bK<_ʵ;\\x06;\\x1d\\x01<<ً8T|:<=\\x16<[|\\x18\\x16=(\\x19,pvA=\\x1c\\x08\\t=\\x17;}{;9=tJsJ=\\x06=g\\x06>N_[0;C<|ihfx懼\\t\\r\\x00w\\x16<S\\x12`V2`+=}ü 4Kd=\\x02\\x11;^a\\x1a=jiƉ=;=dc{i\\u05fc\\t\\n=@\\x04<c\\x1a\\x14\\x12\\x0eGItڱ\\x08\\x1c=ڻLϐ\\'\\x7f<=u[\\ng/m2Qʽ;Y=\\x15\\x10<;OR\\x0b\\u05fcjԽ\\x12\\x05\\x02\\x05\\x07=;)\\x14\\\\Rӻ'}, Document {'id': 'doc:ragas_ex:708cbb2c6d5844a1970d3b12f996a63a', 'payload': None, 'source': 'resources/nke-10k-2023.pdf', 'content': \"Certain contracts provide for variable payments based upon endorsers maintaining a level of performance in their sport over an extended period of time (e.g., maintaining a specified ranking in a sport for a year). When the Company determines payments are probable, the amounts are reported in Demand creation expense ratably over the contract period based on the Company's best estimate of the endorser's performance. In these instances, to the extent actual payments to the endorser differ from the Company's estimate due to changes in the endorser's performance, adjustments to Demand creation expense may be recorded in a future period.\\n\\nCertain contracts provide for royalty payments to endorsers based upon a predetermined percent of sales of particular products, which the Company records in Cost of sales as the related sales occur. For contracts containing minimum guaranteed royalty payments, the Company records the amount of any guaranteed payment in excess of that earned through sales of product within Demand creation expense.\\n\\nThrough cooperative advertising programs, the Company reimburses its wholesale customers for certain costs of advertising the Company's products. To the extent the Company receives a distinct good or service in exchange for consideration paid to the customer that does not exceed the fair value of that good or service, the amounts reimbursed are recorded in Demand creation expense.\\n\\nTotal Demand creation expense was $4,060 million, $3,850 million and $3,114 million for the years ended May 31, 2023, 2022 and 2021, respectively. Prepaid advertising and promotion expenses totaled $755 million and $773 million at May 31, 2023 and 2022, respectively, of which $372 million and $329 million, respectively, were recorded in Prepaid expenses and other current assets, and $383 million and $444 million, respectively, were recorded in Deferred income taxes and other assets, depending on the period to which the prepayment applied.\\n\\nOPERATING OVERHEAD EXPENSE Operating overhead expense consists primarily of wage and benefit-related expenses, research and development costs, bad debt expense as well as other administrative expenses such as rent, depreciation and amortization, professional services, certain technology investments, meetings and travel.\", 'chunk_vector': 'ܽ\\x1dEQ<6\\x04=A&\\x12K;\\tc=1=S=A<S8[<4L[=\\x14C=d[<CJu=UM=W~\\x0e\\x03=X\\x03˽s<\\x10̼ap\\x16v:Ur4<\\x0eI¹\\x03(_.ϼi\\x01P\\x1cm=J;\\x0b+_\\x11<\\x1dｵjܼ\\x0e,~f<\\rǼm\\x11Ð 9=kĻX<KH=a=^T=\\'H<hW\\x02L>z\"9\\x11Dd,мTz5d\\x1bdb%<\\x15,\\u05cb[5,<ls_=]b0;=\\x00g<#Q\\x0fQ\\x19]}H1p<\\x7f]=-\\x01<S\\x17!W<|q\\x07<c,g=F\\x05FȜI4=\\tf=P#\\x02>\\x0cM=/ μTB9\\x10lۊ=\\x17<D7.=\\x07f=Lgt<\\x11=\\x1d2B\\x176\\x15ϼM=\\x1e<=:Έ;gG\\x12<B};=t\\x05=\\x11Ae=>֨=cǼC=\\x06u=%?=\\\\J|9<M</{\\tyݻP;D\\x12d%y\\x15<ʦ=&M;/<يA-=d<C=;T=<,<ʔ==p<Qs9<V$b=&\\x07< ý.G\\x00o\\x0brA<P=D$wc#=8\\x11<9+1*=R}=E92\\x7f3\\x06ļG\\x0c<\\x1eJ!-F\\x7f<4\\x05\\x1c=GR^<e<\\x0eYüK\\t\\txNC\\x0bo\\x19X/\\x11M<$if<G\\x07<q=ۊ=@OOO0Bc=\\U0003c431\\x01=I=U<t\\x18l=+=<L\\x16<\\x06=:M]ȼ7\\x08i<Y0\\x01<6F>PF\\x0f\\x03>h\\x18=щ\\x1dq\\x0f=ߣ<\\x03\\x0e=nA<\\x16뻥⼽H8|v\\x15\\x12={<\\x00YEHq;\"1m<ܒžQ<י\\x07+\\x13,j\\x16\"=\\x05>\\rS<-\"g\\x1bc<r<+0R<F\\x1f\\x12D=8=;\\x13\\n\\U00071f1as1\\x04f*mR\\x06>!=}h<d<L\\r=Xgx<\\nO5<?\\x0b=KԽH\\x15=|\\x19=,Z\\x03^;\\x1c+<wMt=`˷s %=Aѻ.D\\x0f\\x08T=\\x12=<!=x<\\x1d[=\\x196м\\x01\\x01;(t=s.\\x169=~zP>c`\\x18<}溡O=\\x12\\x04ɼ0/\\x10-\\'ar.Q;=LP<?·1沽\\x07=\\x02S3|<2=o<U<EO,4=)%Ѐg\\'\\x12o\\x1b.g<@%=IW=Om=X;=ټv4[=[ϼyT\\x10;\\'=o\\x0e<\\x12<4ƽ&\\x07\"yy\\x1c<GM;!\\x06\\x1dQt=]=}\\x0c=HmU;L=\\x1cfy=\\x03B\\x1aN<~f\\x07\\x01\\'?h1\\x0cb=\\x04[v;MP<sO=\\x11=R \\x1d噼\\x0fRSPf<F\\x07R<\\x12W<)fL;.4B<N<?\\x1f=쒥<T\\x17=\\x04R\\x01=}\\x1a'}, Document {'id': 'doc:ragas_ex:703581c6e424474e93a4ac02cc6c269f', 'payload': None, 'source': 'resources/nke-10k-2023.pdf', 'content': 'In the ordinary course of business, we are subject to various legal proceedings, claims and government investigations related to our business, products and actions of our employees and representatives, including contractual and employment relationships, product liability, antitrust, customs, tax, intellectual property and other matters. We record contingent liabilities resulting from claims against us when a loss is assessed to be probable and the amount of the loss is reasonably estimable. Assessing probability of loss and estimating probable losses requires analysis of multiple factors, including in some cases judgments about the potential actions of third-party claimants and courts. Recorded contingent liabilities are based on the best information available and actual losses in any future period are inherently uncertain. If future adjustments to estimated probable future losses or actual losses exceed our recorded liability for such claims, we would record additional charges during the period in which the actual loss or change in estimate occurred. In addition to contingent liabilities recorded for probable losses, we disclose contingent liabilities when there is a reasonable possibility the ultimate loss will materially exceed the recorded liability.\\n\\nRefer to Note 16 — Commitments and Contingencies in the accompanying Notes to the Consolidated Financial Statements for additional information.\\n\\n2023 FORM 10-K 48\\n\\nTable of Contents\\n\\nITEM 7A. QUANTITATIVE AND QUALITATIVE DISCLOSURES ABOUT MARKET RISK\\n\\nIn the normal course of business and consistent with established policies and procedures, we employ a variety of financial instruments to manage exposure to fluctuations in the value of foreign currencies and interest rates. It is our policy to utilize these financial instruments only where necessary to finance our business and manage such exposures; we do not enter into these transactions for trading or speculative purposes.', 'chunk_vector': 'HMS=;(Sx;=\\x0c=^=c===p\\x00=7hĤ=\\x03>E\\t&1-<h4=A7ǽс=o-<CB\\x05<.<4ͦ\\n)=\\x14=B\\x03p\\x00\\x1c/~\\t=\\x11v(tGf=\\x05r\\x15q@kA\\x0bE<RޢT?Te#25<:Bi\\x11g<lE+\\x1d=,\\x03<\\x01:\\x11=F<-Z&\\x01\\x1aq:->\\x12ν샄<\\'+=b\\x0b\\x08(ݼhe\\x14<D\\x0b=Rp=@4=)KL<Uqa\\tȽQ;<\\x08\\x16O\\n\\x06H=j<[\\'5.½u<\\x1fz=\\x01\\x1a<Q\\x14v\\x0e<=rX=6u#(>ԍ>=uz\\x7f69=%\\x02\\x12=Hhx\\x0f\\x01>\\x02<R=v<;+s\\r;; bч;v\\'z<>:;/;=C<7kfk=\\x19=,=x=<\\x15]0= P=GsݠE<N\\x14\\n=1\\x12R\\tJuZ<<|{\\x04\\x136I=\\n;E<p\\x16;1\\'Gu=\\x14-\\x7fď=\\u038d=54=\\x02ػ&_\\x11<L\\n<=e=:\\t=/=\\x19ʑ\\x0c3\\x07}\\x0f\\\\=Z<8K<Ox]<\\x0eg=V\\x14s<6vռ\\x12:=8}M0u$B=\\x12hn\\x17\\x02û(.<lGCgT);@\\x06\\x0c\\r$$=\\x06\\x08\\x13<i-%0\\x10;<y<k\\x7f8&[.ּ<= \\x07\\x1f^|<V7\"C꼦Q=YtN<<\\x1b<\\'%.=〃L^Rߩ<=Q<0=_c;u>=e=ú\\u05fcO#7\\x17=&g4\\r\\x04=(<\\x17-~BD\\x08R=7=Q\\x10\\x14T\\x066Iג<~;G_ý 뽜NWm\\x18F<<ͼ\\nd<Ĩh=Y-K2TG\\x08Vz<j\\r=(=\\x1eF\\x02x\\x12\\x05;i\\x01^>=\\x0b(:rx=\\x18\\x1d;C\\x15\\t=6\\x14&aL.}\\x17=%S=\\x1b;gһ\\x19>AuA9\\x1f=A\"(\\x00>N;[Z=X\\x1b\\x15\\x12>-h\\x00C=\\x13Z=>aOEB=\\x14C=^R-<=!<-=\\x0c%<<\\x06\" M=\\x7f\\uea3cI<\\x11S\\x1e\\x1eE(qb=@\\x14=\\x05\\x027%mL<⛳=\\x06M|u*<<3iK<Fc=\\x13H\\x1a]=a]E=&)N;;\\x1fE\\x02=#X9~\\x07<\\x0c=g4<(vt\\x05o=x͏WE<#7,=,\\x15)[D=d\\x1d{˗|\\ty:3G=t!=\\u0558\\x06=\\x02\\x15\\x06\\x0f1=S=d.NA52-\\x02x\\x0e|`0]b=\\'=]::\\x14*u\\x10:=5<Oۼa\\x19 <%=\\x00\\x13Â<?\\x0c=\\x117\\x1d͇<ڧ=\\x00=zؽ\\x16E\\x17#ICiaz=\\x17= <H=`=C<;\\x1al\\x10\\'7=2dl:\\x10K'}]}"
      ]
     },
     "execution_count": 11,
     "metadata": {},
     "output_type": "execute_result"
    }
   ],
   "source": [
    "res = client.ft(index_name).search(\"*\")\n",
    "res"
   ]
  },
  {
   "cell_type": "markdown",
   "id": "87ba1dfd",
   "metadata": {},
   "source": [
    "## Index loaded now we can perform vector search\n",
    "\n",
    "### basic vector search"
   ]
  },
  {
   "cell_type": "code",
   "execution_count": 12,
   "id": "9454e60d",
   "metadata": {},
   "outputs": [
    {
     "name": "stdout",
     "output_type": "stream",
     "text": [
      "Top 3 movies:  [('Fast & Furious 9', 'action', '6'), ('Despicable Me', 'comedy', '7'), ('The Incredibles', 'comedy', '8')]\n"
     ]
    }
   ],
   "source": [
    "from redis.commands.search.query import Query\n",
    "\n",
    "user_query = \"High tech movies\"\n",
    "\n",
    "embedded_user_query = embed_text(model, user_query)\n",
    "\n",
    "# Note: dialect 2 and above required for vector search\n",
    "query = Query(\"(*)=>[KNN 3 @vector $vec_param AS dist]\").sort_by(\"dist\").dialect(2)\n",
    "\n",
    "res = client.ft(index_name).search(query, query_params = {'vec_param': embedded_user_query})\n",
    "\n",
    "print_results(res)\n"
   ]
  },
  {
   "cell_type": "markdown",
   "id": "ef5e1997",
   "metadata": {},
   "source": [
    "### Hybrid filter vector search\n",
    "\n",
    "Redis allows you to combine filter searches on fields within the index object allowing us to create more specific searches."
   ]
  },
  {
   "cell_type": "code",
   "execution_count": 13,
   "id": "d499dcad",
   "metadata": {},
   "outputs": [
    {
     "name": "stdout",
     "output_type": "stream",
     "text": [
      "Top 3 movies:  [('Fast & Furious 9', 'action', '6'), ('Mad Max: Fury Road', 'action', '8'), ('Explosive Pursuit', 'action', '7')]\n"
     ]
    }
   ],
   "source": [
    "# Search for top 3 movies specifically in the action genre\n",
    "\n",
    "user_query = \"High tech movies\"\n",
    "\n",
    "embedded_user_query = embed_text(model, user_query)\n",
    "\n",
    "# Note: genre is a tag field in our schema so the syntax is @<field_name>:{ <tag> | <tag> | ...}\n",
    "query = Query(\"(@genre:{action})=>[KNN 3 @vector $vec_param AS dist]\").sort_by('dist').dialect(2)\n",
    "\n",
    "res = client.ft(index_name).search(query, query_params = {'vec_param': embedded_user_query})\n",
    "\n",
    "print_results(res)"
   ]
  },
  {
   "cell_type": "code",
   "execution_count": 14,
   "id": "f59fff2c",
   "metadata": {},
   "outputs": [
    {
     "name": "stdout",
     "output_type": "stream",
     "text": [
      "Top 3 movies:  [('Mad Max: Fury Road', 'action', '8'), ('Explosive Pursuit', 'action', '7'), ('The Avengers', 'action', '8')]\n"
     ]
    }
   ],
   "source": [
    "# Search for top 3 movies specifically in the action genre with ratings at or above a 7\n",
    "\n",
    "user_query = \"High tech movies\"\n",
    "\n",
    "embedded_user_query = embed_text(model, user_query)\n",
    "\n",
    "query = Query(\"(@genre:{action} & (@rating:[7 inf]))=>[KNN 3 @vector $vec_param AS dist]\").sort_by('dist').dialect(2)\n",
    "\n",
    "res = client.ft(index_name).search(query, query_params = {'vec_param': embedded_user_query})\n",
    "\n",
    "print_results(res)"
   ]
  },
  {
   "cell_type": "code",
   "execution_count": 15,
   "id": "8a493ae0",
   "metadata": {},
   "outputs": [
    {
     "name": "stdout",
     "output_type": "stream",
     "text": [
      "Top 2 movies:  [('Despicable Me', 'comedy', '7'), ('The Dark Knight', 'action', '9')]\n"
     ]
    }
   ],
   "source": [
    "# Search with full text search for movies that directly mention \"criminal mastermind\" in the description\n",
    "\n",
    "user_query = \"High tech movies\"\n",
    "\n",
    "embedded_user_query = embed_text(model, user_query)\n",
    "\n",
    "query = Query(\"(@description:(criminal mastermind))=>[KNN 3 @vector $vec_param AS dist]\").sort_by('dist').dialect(2)\n",
    "\n",
    "res = client.ft(index_name).search(query, query_params = {'vec_param': embedded_user_query})\n",
    "\n",
    "print_results(res)"
   ]
  },
  {
   "cell_type": "code",
   "execution_count": 16,
   "id": "c0d7ab60",
   "metadata": {},
   "outputs": [
    {
     "name": "stdout",
     "output_type": "stream",
     "text": [
      "Top 3 movies:  [('Despicable Me', 'comedy', '7'), ('The Incredibles', 'comedy', '8'), ('Explosive Pursuit', 'action', '7')]\n"
     ]
    }
   ],
   "source": [
    "# Vector search with wild card match\n",
    "\n",
    "user_query = \"High tech movies\"\n",
    "\n",
    "embedded_user_query = embed_text(model, user_query)\n",
    "\n",
    "query = Query(\"(@description:(crim*))=>[KNN 3 @vector $vec_param AS dist]\").sort_by('dist').dialect(2)\n",
    "\n",
    "res = client.ft(index_name).search(query, query_params = {'vec_param': embedded_user_query})\n",
    "\n",
    "print_results(res)"
   ]
  },
  {
   "cell_type": "code",
   "execution_count": 17,
   "id": "748c15ae",
   "metadata": {},
   "outputs": [
    {
     "name": "stdout",
     "output_type": "stream",
     "text": [
      "Top 3 movies:  [('The Avengers', 'action', '8'), ('Black Widow', 'action', '7'), ('The Princess Diaries', 'comedy', '6')]\n"
     ]
    }
   ],
   "source": [
    "# Vector search with fuzzy match\n",
    "\n",
    "user_query = \"High tech movies\"\n",
    "\n",
    "embedded_user_query = embed_text(model, user_query)\n",
    "\n",
    "# Note: fuzzy match is based on Levenshtein distance. Therefore, \"hero\" might return result for \"her\" as an example.\n",
    "# See docs for more info https://redis.io/docs/latest/develop/interact/search-and-query/advanced-concepts/query_syntax/\n",
    "query = Query(\"(@description:%hero%)=>[KNN 3 @vector $vec_param AS dist]\").sort_by('dist').dialect(2)\n",
    "\n",
    "res = client.ft(index_name).search(query, query_params = {'vec_param': embedded_user_query})\n",
    "\n",
    "print_results(res)"
   ]
  },
  {
   "cell_type": "markdown",
   "id": "6bd27cb3",
   "metadata": {},
   "source": [
    "## Range queries\n",
    "\n",
    "Range queries allow you to set a pre defined \"threshold\" for which we want to return documents. This is helpful when you only want documents with a certain distance from the search query."
   ]
  },
  {
   "cell_type": "code",
   "execution_count": 18,
   "id": "cafe1795",
   "metadata": {},
   "outputs": [
    {
     "name": "stdout",
     "output_type": "stream",
     "text": [
      "Top 6 movies:  [('The Incredibles', 'comedy', '8'), ('Black Widow', 'action', '7'), ('Despicable Me', 'comedy', '7'), ('Shrek', 'comedy', '8'), ('Monsters, Inc.', 'comedy', '8'), ('Aladdin', 'comedy', '8')]\n"
     ]
    }
   ],
   "source": [
    "user_query = \"Family friendly fantasy movies\"\n",
    "\n",
    "embedded_user_query = embed_text(model, user_query)\n",
    "\n",
    "query = (\n",
    "    Query(\"@vector:[VECTOR_RANGE $radius $vector]=>{$YIELD_DISTANCE_AS: vector_distance}\")\n",
    "     .sort_by(\"vector_distance\")\n",
    "     .return_fields(\"title\", \"rating\", \"genre\", \"vector_distance\")\n",
    "     .dialect(2)\n",
    ")\n",
    "\n",
    "# Find all vectors within 0.8 of the query vector\n",
    "query_params = {\n",
    "    \"radius\": 0.8,\n",
    "    \"vector\": embedded_user_query\n",
    "}\n",
    "\n",
    "res = client.ft(index_name).search(query, query_params)\n",
    "print_results(res)\n"
   ]
  },
  {
   "cell_type": "markdown",
   "id": "a1586ea7",
   "metadata": {},
   "source": [
    "Like the queries above, we can also chain additional filters and conditional operators with range queries. The following adds an `or` condition that returns vector search within the defined range or with a rating at or above 9."
   ]
  },
  {
   "cell_type": "code",
   "execution_count": 19,
   "id": "d3110324",
   "metadata": {},
   "outputs": [
    {
     "name": "stdout",
     "output_type": "stream",
     "text": [
      "Top 3 movies:  [('The Incredibles', 'comedy', '8'), ('The Dark Knight', 'action', '9'), ('Inception', 'action', '9')]\n"
     ]
    }
   ],
   "source": [
    "user_query = \"Family friendly fantasy movies\"\n",
    "\n",
    "embedded_user_query = embed_text(model, user_query)\n",
    "\n",
    "query = (\n",
    "    Query(\"@rating:[9 +inf] | @vector:[VECTOR_RANGE $radius $vector]=>{$YIELD_DISTANCE_AS: vector_distance}\")\n",
    "     .sort_by(\"vector_distance\")\n",
    "     .return_fields(\"title\", \"rating\", \"genre\", \"vector_distance\")\n",
    "     .dialect(2)\n",
    ")\n",
    "\n",
    "# Find all vectors within 0.8 of the query vector\n",
    "query_params = {\n",
    "    \"radius\": 0.7,\n",
    "    \"vector\": embedded_user_query\n",
    "}\n",
    "\n",
    "res = client.ft(index_name).search(query, query_params)\n",
    "print_results(res)"
   ]
  },
  {
   "cell_type": "code",
   "execution_count": 20,
   "id": "1902b43b",
   "metadata": {},
   "outputs": [
    {
     "data": {
      "text/plain": [
       "True"
      ]
     },
     "execution_count": 20,
     "metadata": {},
     "output_type": "execute_result"
    }
   ],
   "source": [
    "# clean up!\n",
    "client.flushall()"
   ]
  }
 ],
 "metadata": {
  "kernelspec": {
   "display_name": "Python 3 (ipykernel)",
   "language": "python",
   "name": "python3"
  },
  "language_info": {
   "codemirror_mode": {
    "name": "ipython",
    "version": 3
   },
   "file_extension": ".py",
   "mimetype": "text/x-python",
   "name": "python",
   "nbconvert_exporter": "python",
   "pygments_lexer": "ipython3",
   "version": "3.11.9"
  }
 },
 "nbformat": 4,
 "nbformat_minor": 5
}
