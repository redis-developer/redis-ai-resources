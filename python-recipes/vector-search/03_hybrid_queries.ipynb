{
 "cells": [
  {
   "cell_type": "code",
   "execution_count": null,
   "metadata": {},
   "outputs": [],
   "source": []
  },
  {
   "cell_type": "markdown",
   "metadata": {},
   "source": [
    "![Redis](https://redis.io/wp-content/uploads/2024/04/Logotype.svg?auto=webp&quality=85,75&width=120)\n",
    "# Hybrid queries with Redis\n",
    "\n",
    "This notebook will cover implementing 3 different hybrid search techniques with Redis:\n",
    "\n",
    "- Linear Combination with the aggregation API\n",
    "- Client-Side Reciprocal Rank Fusion\n",
    "- Client-Side Reranking with a cross encoder model\n",
    "\n",
    "## Let's Begin!\n",
    "<a href=\"https://colab.research.google.com/github/redis-developer/redis-ai-resources/blob/main/python-recipes/vector-search/03_hybrid_queries.ipynb\" target=\"_parent\"><img src=\"https://colab.research.google.com/assets/colab-badge.svg\" alt=\"Open In Colab\"/></a>\n"
   ]
  },
  {
   "cell_type": "markdown",
   "metadata": {},
   "source": [
    "### Install Packages"
   ]
  },
  {
   "cell_type": "code",
   "execution_count": null,
   "metadata": {},
   "outputs": [],
   "source": [
    "# NBVAL_SKIP\n",
    "%pip install -q redis redisvl numpy sentence-transformers"
   ]
  },
  {
   "cell_type": "markdown",
   "metadata": {},
   "source": [
    "### Data/Index Preparation\n",
    "\n",
    "In this examples we will load a list of movie objects with the following attributes: `title`, `rating`, `description`, and `genre`. \n",
    "\n",
    "For the vector part of our vector search we will embed the description so that user's can search for movies that best match what they're looking for.\n",
    "\n",
    "We will then populate a search index with the records and begin querying.\n",
    "\n",
    "**If you are running this notebook locally**, FYI you may not need to perform this step at all."
   ]
  },
  {
   "cell_type": "code",
   "execution_count": null,
   "metadata": {},
   "outputs": [],
   "source": [
    "# NBVAL_SKIP\n",
    "!git clone https://github.com/redis-developer/redis-ai-resources.git temp_repo\n",
    "!mv temp_repo/python-recipes/vector-search/resources .\n",
    "!rm -rf temp_repo"
   ]
  },
  {
   "cell_type": "markdown",
   "metadata": {},
   "source": [
    "### Install Redis Stack\n",
    "\n",
    "Later in this tutorial, Redis will be used to store, index, and query vector\n",
    "embeddings created from PDF document chunks. **We need to make sure we have a Redis\n",
    "instance available.\n",
    "\n",
    "#### For Colab\n",
    "Use the shell script below to download, extract, and install [Redis Stack](https://redis.io/docs/getting-started/install-stack/) directly from the Redis package archive."
   ]
  },
  {
   "cell_type": "markdown",
   "metadata": {},
   "source": [
    "# NBVAL_SKIP\n",
    "%%sh\n",
    "curl -fsSL https://packages.redis.io/gpg | sudo gpg --dearmor -o /usr/share/keyrings/redis-archive-keyring.gpg\n",
    "echo \"deb [signed-by=/usr/share/keyrings/redis-archive-keyring.gpg] https://packages.redis.io/deb $(lsb_release -cs) main\" | sudo tee /etc/apt/sources.list.d/redis.list\n",
    "sudo apt-get update  > /dev/null 2>&1\n",
    "sudo apt-get install redis-stack-server  > /dev/null 2>&1\n",
    "redis-stack-server --daemonize yes"
   ]
  },
  {
   "cell_type": "markdown",
   "metadata": {},
   "source": [
    "#### For Alternative Environments\n",
    "There are many ways to get the necessary redis-stack instance running\n",
    "1. On cloud, deploy a [FREE instance of Redis in the cloud](https://redis.com/try-free/). Or, if you have your\n",
    "own version of Redis Enterprise running, that works too!\n",
    "2. Per OS, [see the docs](https://redis.io/docs/latest/operate/oss_and_stack/install/install-stack/)\n",
    "3. With docker: `docker run -d --name redis-stack-server -p 6379:6379 redis/redis-stack-server:latest`"
   ]
  },
  {
   "cell_type": "markdown",
   "metadata": {},
   "source": [
    "### Define the Redis Connection URL\n",
    "\n",
    "By default this notebook connects to the local instance of Redis Stack. **If you have your own Redis Enterprise instance** - replace REDIS_PASSWORD, REDIS_HOST and REDIS_PORT values with your own."
   ]
  },
  {
   "cell_type": "code",
   "execution_count": 1,
   "metadata": {},
   "outputs": [],
   "source": [
    "import os\n",
    "\n",
    "# Replace values below with your own if using Redis Cloud instance\n",
    "REDIS_HOST = os.getenv(\"REDIS_HOST\", \"localhost\") # ex: \"redis-18374.c253.us-central1-1.gce.cloud.redislabs.com\"\n",
    "REDIS_PORT = os.getenv(\"REDIS_PORT\", \"6379\")      # ex: 18374\n",
    "REDIS_PASSWORD = os.getenv(\"REDIS_PASSWORD\", \"\")  # ex: \"1TNxTEdYRDgIDKM2gDfasupCADXXXX\"\n",
    "\n",
    "# If SSL is enabled on the endpoint, use rediss:// as the URL prefix\n",
    "REDIS_URL = f\"redis://:{REDIS_PASSWORD}@{REDIS_HOST}:{REDIS_PORT}\""
   ]
  },
  {
   "cell_type": "markdown",
   "metadata": {},
   "source": [
    "### Create redis client, load data, generate embeddings"
   ]
  },
  {
   "cell_type": "code",
   "execution_count": 2,
   "metadata": {},
   "outputs": [],
   "source": [
    "from redis import Redis\n",
    "\n",
    "client = Redis.from_url(REDIS_URL)"
   ]
  },
  {
   "cell_type": "code",
   "execution_count": 3,
   "metadata": {},
   "outputs": [],
   "source": [
    "import json\n",
    "\n",
    "with open(\"resources/movies.json\", 'r') as file:\n",
    "    movies = json.load(file)"
   ]
  },
  {
   "cell_type": "code",
   "execution_count": 4,
   "metadata": {},
   "outputs": [
    {
     "name": "stderr",
     "output_type": "stream",
     "text": [
      "/Users/robert.shelton/.pyenv/versions/3.11.9/lib/python3.11/site-packages/huggingface_hub/file_download.py:1132: FutureWarning: `resume_download` is deprecated and will be removed in version 1.0.0. Downloads always resume when possible. If you want to force a new download, use `force_download=True`.\n",
      "  warnings.warn(\n",
      "/Users/robert.shelton/.pyenv/versions/3.11.9/lib/python3.11/site-packages/huggingface_hub/file_download.py:1132: FutureWarning: `resume_download` is deprecated and will be removed in version 1.0.0. Downloads always resume when possible. If you want to force a new download, use `force_download=True`.\n",
      "  warnings.warn(\n"
     ]
    }
   ],
   "source": [
    "import numpy as np\n",
    "from sentence_transformers import SentenceTransformer\n",
    "\n",
    "# load model for embedding our movie descriptions\n",
    "model = SentenceTransformer('sentence-transformers/all-MiniLM-L6-v2')\n",
    "\n",
    "def embed_text(model, text):\n",
    "    return np.array(model.encode(text)).astype(np.float32).tobytes()"
   ]
  },
  {
   "cell_type": "code",
   "execution_count": 5,
   "metadata": {},
   "outputs": [],
   "source": [
    "# Note: convert embedding array to bytes for storage in Redis Hash data type\n",
    "movie_data = [\n",
    "    {\n",
    "        **movie,\n",
    "        \"vector\": embed_text(model, movie[\"description\"])\n",
    "    } for movie in movies\n",
    "]"
   ]
  },
  {
   "cell_type": "code",
   "execution_count": 6,
   "metadata": {},
   "outputs": [
    {
     "data": {
      "text/plain": [
       "{'title': 'Explosive Pursuit',\n",
       " 'genre': 'action',\n",
       " 'rating': 7,\n",
       " 'description': 'A daring cop chases a notorious criminal across the city in a high-stakes game of cat and mouse.',\n",
       " 'vector': b'\\x9bf|=\\x0e`\\n;\"\\x92\\xb7;<\\xcb~\\xbd\\xfad\\xce\\xbb\\xc3\\x16J=V\\xa7?=\\xedv\\x95<d\\xfa\\x06\\xbe\\x14Y\\xcf=(\\x07p=?\\xdb\\r\\xbd\\x95\\xf2H\\xbdje\\xc6<E\\xdfa=z8\\x16\\xbc\\x00\\xd4\\x13<>\\xaa\\x1c=\\xfd\\xee\\x89<\\xbd\\xb0-<\\x82\\xb2\\x9f\\xbc[\\x0b\\xc3\\xbd\\x98NR=xl\\xf7\\xbcN>\\x17\\xbe#\\x12\\x05\\xb99u\\xbf<\\xb0\\xe0b\\xba\\xd3\\xa6\\xa8\\xbdx\\xdc\\xec\\xbcRc%=\\xe4\\xe7r\\xbb\\x1eOG=?(\\x85=o@\\xa2\\xbc2Z\\xd0\\xbdC%K\\xbd\\xb9\\xed\\x94\\xbcR\\xddH=\\x92&F<\\xc6*\\xec<\\x90\\xd8\\x8d\\xbd\\xcbZ\\x98<\\t\\xa3\\xa3=>g3\\xbd&\\xcd\\xbd\\xbd\\x95$\\xf7;\\xfd\\xf4z=\\xfc\\xb4\\x8c=\\x85\\x0e\\xc6\\xbdnI\\x90\\xbdJ\\x16\\xbd;s\\xe7\\x0c\\xbd 3\\xc9\\xbc\\x85\\xf8\\xbb\\xbc\\xbf&u\\xbb5\\x8f\\xca<\\x05\\x80J=\\x0f\\xaf*=\\x8bOU\\xbd\\xc8\\xf0\\x95\\xbc\\x1d\\x02\\x19=)\\xf4K<\\xcb\\xc2\\t=F\\x83\\xac=\\x9f\\xd7\\xb8\\xbd\\xf2\\xb5\\x9c\\xbdB\\x85\\x18=\\x96d&=-3\\xf8<\\xfa\\xf7\\x88<\\x16v\\xf2\\xbb-=[\\xbd\\xf7\\xac\\xee\\xbb5:A\\xbd\\xd9d\\x19\\xbdrd\\xf2\\xbb!\\xbax;\\xdc;O<\\xb61,\\xbc\\xed\\xae\\xae=^\\x00-\\xbc\\x1a\\x06\\xae\\xbda\\xd6\\x1a=\\xcc\\xbf\\xcd=\\x1f\\x150=\\xcf\\xf1\\x9d\\xbc\\xa9GK=\\xaa\\xb8 =\\xb4\\xf1I\\xbd\"e\\x9e\\xbbF\\x8b\\xf7:\\x94\\xf8\\x1c=\\xa9\\xba\\xde<\\xcco\\x16\\xbb\\xe6]p\\xbb\\xbb\\xd5<<\\xac\\x95\\xa3\\xb8\\xc29s<&4&<o\\x1c\\x18<\\x18\\xd9-\\xbd\\xe1\\xe6\\x98<\\x11\\xa1N=\\xa1/\\xa5=/\\xf3\\xdd<\\x0eL\\x13<n\\x0f\\xce\\xbaT\\x9e\\xdc\\xbc\\x9a8\\x05=\\x11\\xa1\\xf5<h\\xd8R\\xbc1\\x94-\\xbc\\x1d\\xd8\\\\9\\xa41\\xec=W\\xf5V=8G\\xd6\\xbc\\xa2\"S=\\xc8\\xd9^\\xbd\\xab\\xa3\\x91<\\xdf\\xd9\\x13<\\x95\\xb2y\\xbb\\x85\\x8d/\\xbd\\xda\\x06p<-\\x95\\x88\\xbb\\xa2\\xd0\\x9d<J\\x02\\xb6=\\x18\\xf1\\xad\\x89+\\xf2\\xa6\\xbb\\xc5\\xfbe\\xbd\\x7fQK\\xbb>\\x10\\x90\\xbbvt\\xb9\\xbb\\x00\\xc9\\xb9\\xbb\\xfehk=\\x9a\\r\\xad<3f\\xa8\\xbd\\xbd]\\xcc=\\x15\\xe0 \\xbe\\xc74/\\xbd{f\\xf7\\xbcQ\\x9av=\\x11\\x0cq<,\\xda\\x1c\\xbd\\x01\\t\\x8b<\\xf0n\\xa6\\xbc\\xe4t\\x86<\\x82\\x87\\x19=v\\xae\\xe4\\xbc4m^\\xbc\\nV\\x0e\\xbd\\x81\\xb0\\xe3\\xbc\\xd3FU;\\xaaG|\\xbdW\\xfb\\x8b\\xbd\\x7f\\x81*\\xbdy\\x83\\xf4={\\xb7\\x10;\\x15!\\x0e\\xbd\\xfa\\xd3\\xb4=\\x15&\\x15\\xbdM\\x86\\x83=m$:</\\xea\\xa1<\\x1f\\x08\\x8d\\xbd\\xa0\\x00i\\xbd5\\x01\\xdd<\\x06\\x87\\xd6=4\\x98\\x9c\\xbdZ|!\\xbd:\\x1c\\xc5\\xb9\\xbe\\xb3\\x93\\xbc\\xf6\\xcb>\\xbdv\\x1bF\\xbd\\xa2?\\x14\\xbe\\xc5\\x8f(\\xbd\\xe3O\\x89\\xbd\\x17\\xae\\xd4<\\xa3\\x12\\xc3=\\xaf\\x05O\\xbd\\x7f\\x8ep\\xbc!\\xb5\\xac\\xbc\\xc4\\x9ee\\xbd9\\x8es;[a\\xc1;\\xd2\\xfaB\\xbd\\xf9#\\xfe:\\x90\\xe6\\xf4=\\xb2\\x15*<~\\xf8\\x1b=\\x01\\xfcV\\xbd\\xcf\\xd1\\r=*\\xee\\x06=\\x18u\\xba\\xbd\\x02\\xa4\\xd6<\\xf8\\xeb\\xd9;\\xc49/=\\xa8\\xc2\\x85=u\\x0b\"=\\xe9i\\xef<4\\xe8c=\\xfa2\\x08\\xbe\\xd4\\x12;=,VW;\\x15\\xa4b<\\xb0\\x9d\\xb7<\\x95r;\\xbd{z\\x91\\xbcI\\x00<\\xbd\\x18\\x1a\\xa3<\\xf9J%\\xbc\\n\\xe7\\xbf\\xbbr\\x87\\x12=\\x97\\x1d\\x95=\\x83|\\xfd\\xbc\\xed\\xf1\\xd1\\xbd%z\\x84;\\xcb\\tu=c\\x8ai<A\\x91R\\xbd\\xd6\\xf3m\\xbd\\x8e\\xb83=R\\xedF=$\\xf3\\xd1\\x08pA\\xba<#\\xacO\\xbdK\\x0f\\xc7;\\x85\\xf4\\x04\\xbdM\\x82\\x92\\xbd\\xa9\\xddD=h\\xd8;\\xbc\\xed;\\xf4\\xbc\\xba\\x8f\\x97\\xbd8\\\\\\r\\xbd\\xec\\x8c\\xf5\\xbd\\x99\\x13(=\\xa0\\xc8\\xc6=\\xb1\\xed\\x1a=\\x95\\xa8\\xf8=\\x96\\xc1\\xee\\xbcu-\\x18\\xbb\\xf0~;<\\xd0F\\t\\xbd\\x0c\\x08\\x17=\\x94\\xa5\\x1e=\\x12K\\xcb\\xbd0\\xf7\\x8c\\xbd)b\\xed\\xbb\\xa9[\\x19\\xbcK\\x0c\\x13\\xbcgq\\x83=\\xf2wd\\xbd\\x8c\\xc7\\xd1\\xbb<lY\\xbc\\xa3|a=G\\xcf\\xfd\\xbc\\xf7\\xa4\\x83\\xbb\\x9dO\\x19\\xbd2\\x02]\\xbd\\xbe\\xeaz=\\xff5\\x9c=8^\\xa9\\xbdM^9\\xbc\\x95\\xe4N\\xbc\\x7f\\x07x\\xbd\\x18{\\xa0=<\\x9f\\x96<\\xf9s8\\xba\\x9f\\xbb=\\xbd\\xcb|(<x\\xdf\\xb4\\xbbi\\xc9\\x0b\\xbd\\xc4\\x01\\x95\\xbd\\xfc\\xc6T=\\x1fp\\xd1<p3\\'\\xbd\\xa5\\x00H<\\x80\\x0f\\xb8<-U}\\xbd\\x81}\\x01=\\x03\\xca[\\xbd#\\xed\\x03<\\xfcb\\x0f\\xbd\\xda\\x8e\\xe7\\xbc\\xdb\\x16\\xc8<\\xbd\\x08\\x9c=\\xff\\xd4\\xa6\\xbdKQ\\xe5=g-O<\\xe6\\xf22=\\xd126\\xbd\\x02\\xe3\\xf2\\xbc\\x14[\\xa7<w\\xb2\\x02\\xbe\\xfan2\\xbd\\xab\\x80\\x8a=\\x13\\xc4\\t\\xbd\\x17\\xb8\\xcd\\xbc7\\xdb\\xad\\xbb\\x8b\\xfd\\xde\\xbc\\x10\\x17E=y\\x06\\xbd=\\x18&m=\\x19X\\x8e=\\xe2\\xae\\xa4=n\\xa3\\xca\\xbbz?\\r\\xbc\\xd39\\x9c<Hl\\x8e\\xbd4\\x10k=\\xeb\\xff\\xbe;\\x80\\x16\\xff<o8\\x92<_2\\x8c;P\\xac\\xa3=\\x00,v<\\x99\\x89\\xf0\\xbb\\xae\\xdb\\x07\\xbc\\x8b\\xae\\xbd\\xbc\\xb6\\x8f\\xb4\\xb2\\xad\\x88\\xd3\\xbd\\x88\\xe9j=\\xe7\\xdb\\xa7\\xbd\\xde\\x16\\xe5<<\\x19p=\\xf3\\xe6\\x9f=\\xdbGh\\xbd\\xe7\\x9a\\xf4\\xbd[\\xd6\\x07\\xbc8\\xddj<+tw=\\x8d\\xd0\\xe1<\\xc5\\xae\\x1e=\\xe3F\\xc4<\\xb50\\n<\\x1djd\\xbc\\xba\\xfa\\x8c=\\xc7\\x8a\\xa6\\xbc\\x19.\\xcd\\xba\\xafp\\xcf=\\x1fT-\\xbd\\xccQn=:\\x16\\x9f\\xbd\\x86\\x8a_=<\\x13#<G\\xaam;)\\x86\\x00\\xbe\\xdcy\\x8b\\xbcfUG=\\x9f\\xa3\\xca=\\xae\\xbdq\\xbc\\x98\\xe3:\\xbd\\x9a\\x93]<\\x86]\\xd1;\\xc8d\\xae=\\xa7\\x1f\\x03\\xbd\\x02L\\x89=a:s\\xbd\\xa3\\x1eb=\\x1b\\xc9\\t\\xbb\\x9a\\xfb\\xe7<r\\xce\\xe4\\xbcTV#=t\\x8bk\\xbd\\xd8h\\x01<\\xf1\\xe5N\\xbdH\\x0c\\xb1\\xbcl\\x01J\\xbdg\\xf4~=J\\xe3Z\\xbd\\x91/\\xf1\\xbbD98=\\xb92T\\xbc\\x1b\\'\\x81<\\xc8\\xa0M=\\xb8\\xde\\x05<\\x1aI|\\xbd\\xcb\\x98w<\\xdd\\xd3\\xa7\\xbd\\xdaS \\xbdp\\x13\\x07=\\x13&\\x14\\xbc\\xc7v\\xe9<\\xfb,\\x97='}"
      ]
     },
     "execution_count": 6,
     "metadata": {},
     "output_type": "execute_result"
    }
   ],
   "source": [
    "movie_data[0]"
   ]
  },
  {
   "cell_type": "markdown",
   "metadata": {},
   "source": [
    "## Define Redis index schema"
   ]
  },
  {
   "cell_type": "code",
   "execution_count": 7,
   "metadata": {},
   "outputs": [
    {
     "name": "stdout",
     "output_type": "stream",
     "text": [
      "11:43:01 redisvl.index.index INFO   Index already exists, overwriting.\n"
     ]
    }
   ],
   "source": [
    "from redisvl.schema import IndexSchema\n",
    "from redisvl.index import SearchIndex\n",
    "\n",
    "index_name = \"movies\"\n",
    "\n",
    "schema = IndexSchema.from_dict({\n",
    "  \"index\": {\n",
    "    \"name\": index_name,\n",
    "  },\n",
    "  \"fields\": [\n",
    "    {\n",
    "        \"name\": \"title\",\n",
    "        \"type\": \"text\",\n",
    "    },\n",
    "    {\n",
    "        \"name\": \"description\",\n",
    "        \"type\": \"text\",\n",
    "    },\n",
    "    {\n",
    "        \"name\": \"genre\",\n",
    "        \"type\": \"tag\",\n",
    "        \"attrs\": {\n",
    "            \"sortable\": True\n",
    "        }\n",
    "    },\n",
    "    {\n",
    "        \"name\": \"rating\",\n",
    "        \"type\": \"numeric\",\n",
    "        \"attrs\": {\n",
    "            \"sortable\": True\n",
    "        }\n",
    "    },\n",
    "    {\n",
    "        \"name\": \"vector\",\n",
    "        \"type\": \"vector\",\n",
    "        \"attrs\": {\n",
    "            \"dims\": 384,\n",
    "            \"distance_metric\": \"cosine\",\n",
    "            \"algorithm\": \"hnsw\",\n",
    "            \"datatype\": \"float32\"\n",
    "        }\n",
    "    }\n",
    "  ]\n",
    "})\n",
    "\n",
    "\n",
    "index = SearchIndex(schema, client)\n",
    "index.create(overwrite=True, drop=True)"
   ]
  },
  {
   "cell_type": "code",
   "execution_count": 8,
   "metadata": {},
   "outputs": [
    {
     "data": {
      "text/plain": [
       "{'index_name': 'movies',\n",
       " 'index_options': [],\n",
       " 'index_definition': ['key_type',\n",
       "  'HASH',\n",
       "  'prefixes',\n",
       "  ['rvl'],\n",
       "  'default_score',\n",
       "  '1'],\n",
       " 'attributes': [['identifier',\n",
       "   'title',\n",
       "   'attribute',\n",
       "   'title',\n",
       "   'type',\n",
       "   'TEXT',\n",
       "   'WEIGHT',\n",
       "   '1'],\n",
       "  ['identifier',\n",
       "   'description',\n",
       "   'attribute',\n",
       "   'description',\n",
       "   'type',\n",
       "   'TEXT',\n",
       "   'WEIGHT',\n",
       "   '1'],\n",
       "  ['identifier',\n",
       "   'genre',\n",
       "   'attribute',\n",
       "   'genre',\n",
       "   'type',\n",
       "   'TAG',\n",
       "   'SEPARATOR',\n",
       "   ',',\n",
       "   'SORTABLE'],\n",
       "  ['identifier',\n",
       "   'rating',\n",
       "   'attribute',\n",
       "   'rating',\n",
       "   'type',\n",
       "   'NUMERIC',\n",
       "   'SORTABLE',\n",
       "   'UNF'],\n",
       "  ['identifier',\n",
       "   'vector',\n",
       "   'attribute',\n",
       "   'vector',\n",
       "   'type',\n",
       "   'VECTOR',\n",
       "   'algorithm',\n",
       "   'HNSW',\n",
       "   'data_type',\n",
       "   'FLOAT32',\n",
       "   'dim',\n",
       "   384,\n",
       "   'distance_metric',\n",
       "   'COSINE',\n",
       "   'M',\n",
       "   16,\n",
       "   'ef_construction',\n",
       "   200]],\n",
       " 'num_docs': 0,\n",
       " 'max_doc_id': 0,\n",
       " 'num_terms': 0,\n",
       " 'num_records': 0,\n",
       " 'inverted_sz_mb': '0',\n",
       " 'vector_index_sz_mb': '0.02034759521484375',\n",
       " 'total_inverted_index_blocks': 0,\n",
       " 'offset_vectors_sz_mb': '0',\n",
       " 'doc_table_size_mb': '0',\n",
       " 'sortable_values_size_mb': '0',\n",
       " 'key_table_size_mb': '0',\n",
       " 'tag_overhead_sz_mb': '0',\n",
       " 'text_overhead_sz_mb': '0',\n",
       " 'total_index_memory_sz_mb': '0',\n",
       " 'geoshapes_sz_mb': '0',\n",
       " 'records_per_doc_avg': 'nan',\n",
       " 'bytes_per_record_avg': 'nan',\n",
       " 'offsets_per_term_avg': 'nan',\n",
       " 'offset_bits_per_record_avg': 'nan',\n",
       " 'hash_indexing_failures': 0,\n",
       " 'total_indexing_time': '0',\n",
       " 'indexing': 0,\n",
       " 'percent_indexed': '1',\n",
       " 'number_of_uses': 1,\n",
       " 'cleaning': 0,\n",
       " 'gc_stats': ['bytes_collected',\n",
       "  '0',\n",
       "  'total_ms_run',\n",
       "  '0',\n",
       "  'total_cycles',\n",
       "  '0',\n",
       "  'average_cycle_time_ms',\n",
       "  'nan',\n",
       "  'last_run_time_ms',\n",
       "  '0',\n",
       "  'gc_numeric_trees_missed',\n",
       "  '0',\n",
       "  'gc_blocks_denied',\n",
       "  '0'],\n",
       " 'cursor_stats': ['global_idle',\n",
       "  0,\n",
       "  'global_total',\n",
       "  0,\n",
       "  'index_capacity',\n",
       "  128,\n",
       "  'index_total',\n",
       "  0],\n",
       " 'dialect_stats': ['dialect_1',\n",
       "  0,\n",
       "  'dialect_2',\n",
       "  0,\n",
       "  'dialect_3',\n",
       "  0,\n",
       "  'dialect_4',\n",
       "  0],\n",
       " 'Index Errors': ['indexing failures',\n",
       "  0,\n",
       "  'last indexing error',\n",
       "  'N/A',\n",
       "  'last indexing error key',\n",
       "  'N/A'],\n",
       " 'field statistics': [['identifier',\n",
       "   'title',\n",
       "   'attribute',\n",
       "   'title',\n",
       "   'Index Errors',\n",
       "   ['indexing failures',\n",
       "    0,\n",
       "    'last indexing error',\n",
       "    'N/A',\n",
       "    'last indexing error key',\n",
       "    'N/A']],\n",
       "  ['identifier',\n",
       "   'description',\n",
       "   'attribute',\n",
       "   'description',\n",
       "   'Index Errors',\n",
       "   ['indexing failures',\n",
       "    0,\n",
       "    'last indexing error',\n",
       "    'N/A',\n",
       "    'last indexing error key',\n",
       "    'N/A']],\n",
       "  ['identifier',\n",
       "   'genre',\n",
       "   'attribute',\n",
       "   'genre',\n",
       "   'Index Errors',\n",
       "   ['indexing failures',\n",
       "    0,\n",
       "    'last indexing error',\n",
       "    'N/A',\n",
       "    'last indexing error key',\n",
       "    'N/A']],\n",
       "  ['identifier',\n",
       "   'rating',\n",
       "   'attribute',\n",
       "   'rating',\n",
       "   'Index Errors',\n",
       "   ['indexing failures',\n",
       "    0,\n",
       "    'last indexing error',\n",
       "    'N/A',\n",
       "    'last indexing error key',\n",
       "    'N/A']],\n",
       "  ['identifier',\n",
       "   'vector',\n",
       "   'attribute',\n",
       "   'vector',\n",
       "   'Index Errors',\n",
       "   ['indexing failures',\n",
       "    0,\n",
       "    'last indexing error',\n",
       "    'N/A',\n",
       "    'last indexing error key',\n",
       "    'N/A']]]}"
      ]
     },
     "execution_count": 8,
     "metadata": {},
     "output_type": "execute_result"
    }
   ],
   "source": [
    "index.info()"
   ]
  },
  {
   "cell_type": "markdown",
   "metadata": {},
   "source": [
    "### Populate index"
   ]
  },
  {
   "cell_type": "code",
   "execution_count": 9,
   "metadata": {},
   "outputs": [
    {
     "data": {
      "text/plain": [
       "['rvl:d0df27f540dd4052a983af63bdd8f9c2',\n",
       " 'rvl:48d8fdf8a31a4b3ca5042a489d48caee',\n",
       " 'rvl:ea71410253bc4db3af886d68e391cdef',\n",
       " 'rvl:56e4fb3792a24972af7940fedd2f439b',\n",
       " 'rvl:fdd3f2e4b9ac40169f13e0b66a8f95a7',\n",
       " 'rvl:dc6e9b64a1fb4b709689832db38b1f4f',\n",
       " 'rvl:03daf42e237e43c8b15e97178a9d77b2',\n",
       " 'rvl:a98734e04762440f90023839610a8896',\n",
       " 'rvl:2c22a85656af4f73ba8926f4da180b75',\n",
       " 'rvl:4b6a40f1259c434582e839c6c4952215',\n",
       " 'rvl:15b3d54fe2db4f94bf9d8cd149a09c12',\n",
       " 'rvl:b6f0a94095304c4b93ad1625cdfb1316',\n",
       " 'rvl:b87f1df18d8344b495d92e24dc3074e2',\n",
       " 'rvl:02ebb1012a87433a9d5b321e052ca347',\n",
       " 'rvl:0d587457f1724916ae1a1b59c5dabb1a',\n",
       " 'rvl:b1d1f92e4f1b4198860d42281f221ffd',\n",
       " 'rvl:57c037a836d449cf889fa34808731c71',\n",
       " 'rvl:6895eadb2f65447f872bdc4b00b63acc',\n",
       " 'rvl:219c4aef504e462494b0254e5983e0ee',\n",
       " 'rvl:0a5a5ac12186464b9fd15ef4c958fc04']"
      ]
     },
     "execution_count": 9,
     "metadata": {},
     "output_type": "execute_result"
    }
   ],
   "source": [
    "index.load(movie_data)"
   ]
  },
  {
   "cell_type": "markdown",
   "metadata": {},
   "source": [
    "# Linear Combination\n",
    "\n",
    "Now that our index is populated and ready, let's execute our first hybrid search technique. This query will calculate a linear combination of the BM25 score for our provided text search and the cosine distance between vectors calculated via a KNN vector query.\n",
    "\n",
    "This style of query is useful when you want to combine the power of key words (BM25) with the flexibility of vector search."
   ]
  },
  {
   "cell_type": "code",
   "execution_count": 14,
   "metadata": {},
   "outputs": [
    {
     "data": {
      "text/plain": [
       "[[b'dist',\n",
       "  b'0.842549920082',\n",
       "  b'__score',\n",
       "  b'1.5',\n",
       "  b'title',\n",
       "  b'The Incredibles',\n",
       "  b'hybrid_score',\n",
       "  b'3.18509984016'],\n",
       " [b'dist',\n",
       "  b'0.91923135519',\n",
       "  b'__score',\n",
       "  b'1.5',\n",
       "  b'title',\n",
       "  b'Black Widow',\n",
       "  b'hybrid_score',\n",
       "  b'3.33846271038'],\n",
       " [b'dist',\n",
       "  b'1.0012062788',\n",
       "  b'__score',\n",
       "  b'1.5',\n",
       "  b'title',\n",
       "  b'Gladiator',\n",
       "  b'hybrid_score',\n",
       "  b'3.5024125576']]"
      ]
     },
     "execution_count": 14,
     "metadata": {},
     "output_type": "execute_result"
    }
   ],
   "source": [
    "# import aggregations API\n",
    "import redis.commands.search.aggregation as aggregations\n",
    "\n",
    "# user vector query\n",
    "user_query = \"a movie with animals\"\n",
    "embedded_user_query = embed_text(model, user_query)\n",
    "\n",
    "# @description will apply BM25 for the phrase \"hero\" according to the search\n",
    "# Vector distance will be calculated between the index @vector and the input user_query\n",
    "query_string = \"(@description:family)=>[KNN 3 @vector $vec_param AS dist]\"\n",
    "\n",
    "# .scorer: specifies the scoring function to use either BM25 or TFIDF\n",
    "# .add_scores: adds the scores to the result\n",
    "# .apply: algebraic operation that makes sense for your use case\n",
    "# .load: specifies fields to return - all in this case.\n",
    "# .dialect: specifies the query dialect to use.\n",
    "\n",
    "# TODO: scorer not in redis-py yet\n",
    "\n",
    "req = aggregations\\\n",
    "        .AggregateRequest(query_string)\\\n",
    "        .add_scores()\\\n",
    "        .apply(hybrid_score=\"@__score + 2*@dist\")\\\n",
    "        .load(\"title\", \"dist\", \"__score\", \"hybrid_score\")\\\n",
    "        .dialect(4)\n",
    "\n",
    "res = client.ft(index_name).aggregate(req, query_params={'vec_param': embedded_user_query})\n",
    "res.rows"
   ]
  },
  {
   "cell_type": "code",
   "execution_count": null,
   "metadata": {},
   "outputs": [],
   "source": []
  }
 ],
 "metadata": {
  "kernelspec": {
   "display_name": "Python 3",
   "language": "python",
   "name": "python3"
  },
  "language_info": {
   "codemirror_mode": {
    "name": "ipython",
    "version": 3
   },
   "file_extension": ".py",
   "mimetype": "text/x-python",
   "name": "python",
   "nbconvert_exporter": "python",
   "pygments_lexer": "ipython3",
   "version": "3.11.9"
  }
 },
 "nbformat": 4,
 "nbformat_minor": 2
}
