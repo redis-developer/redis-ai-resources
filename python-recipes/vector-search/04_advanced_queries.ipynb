{
 "cells": [
  {
   "cell_type": "markdown",
   "id": "cbba56a9",
   "metadata": {},
   "source": [
    "![Redis](https://redis.io/wp-content/uploads/2024/04/Logotype.svg?auto=webp&quality=85,75&width=120)\n",
    "# Advanced queries with Redis\n",
    "## Let's Begin!\n",
    "<a href=\"https://colab.research.google.com/github/redis-developer/redis-ai-resources/blob/main/python-recipes/vector-search/04_advanced_queries.ipynb\" target=\"_parent\"><img src=\"https://colab.research.google.com/assets/colab-badge.svg\" alt=\"Open In Colab\"/></a>\n"
   ]
  },
  {
   "cell_type": "markdown",
   "id": "0b80de6b",
   "metadata": {},
   "source": [
    "## Prepare data\n",
    "\n",
    "In this examples we will load a list of movie objects with the following attributes: `title`, `rating`, `description`, and `genre`. \n",
    "\n",
    "For the vector part of our vector search we will embed the description so that user's can search for movies that best match what they're looking for.\n",
    "\n",
    "**If you are running this notebook locally**, FYI you may not need to perform this step at all."
   ]
  },
  {
   "cell_type": "code",
   "execution_count": 5,
   "id": "b966a9b5",
   "metadata": {},
   "outputs": [
    {
     "name": "stdout",
     "output_type": "stream",
     "text": [
      "Cloning into 'temp_repo'...\n",
      "remote: Enumerating objects: 204, done.\u001b[K\n",
      "remote: Counting objects: 100% (52/52), done.\u001b[K\n",
      "remote: Compressing objects: 100% (28/28), done.\u001b[K\n",
      "remote: Total 204 (delta 37), reused 24 (delta 24), pack-reused 152\u001b[K\n",
      "Receiving objects: 100% (204/204), 9.47 MiB | 10.76 MiB/s, done.\n",
      "Resolving deltas: 100% (64/64), done.\n",
      "mv: temp_repo/python-recipes/vector-search/resources: No such file or directory\n"
     ]
    }
   ],
   "source": [
    "# NBVAL_SKIP\n",
    "!git clone https://github.com/redis-developer/redis-ai-resources.git temp_repo\n",
    "!mv temp_repo/python-recipes/vector-search/resources .\n",
    "!rm -rf temp_repo"
   ]
  },
  {
   "cell_type": "markdown",
   "id": "19bdc2a5-2192-4f5f-bd6e-7c956fd0e230",
   "metadata": {},
   "source": [
    "## Packages"
   ]
  },
  {
   "cell_type": "code",
   "execution_count": null,
   "id": "c620286e",
   "metadata": {},
   "outputs": [
    {
     "name": "stdout",
     "output_type": "stream",
     "text": [
      "Note: you may need to restart the kernel to use updated packages.\n"
     ]
    }
   ],
   "source": [
    "%pip install -q redis numpy sentence-transformers"
   ]
  },
  {
   "cell_type": "markdown",
   "id": "323aec7f",
   "metadata": {},
   "source": [
    "## Install Redis Stack\n",
    "\n",
    "Later in this tutorial, Redis will be used to store, index, and query vector\n",
    "embeddings created from PDF document chunks. **We need to make sure we have a Redis\n",
    "instance available.\n",
    "\n",
    "#### For Colab\n",
    "Use the shell script below to download, extract, and install [Redis Stack](https://redis.io/docs/getting-started/install-stack/) directly from the Redis package archive."
   ]
  },
  {
   "cell_type": "code",
   "execution_count": null,
   "id": "2cb85a99",
   "metadata": {},
   "outputs": [],
   "source": [
    "# NBVAL_SKIP\n",
    "%%sh\n",
    "curl -fsSL https://packages.redis.io/gpg | sudo gpg --dearmor -o /usr/share/keyrings/redis-archive-keyring.gpg\n",
    "echo \"deb [signed-by=/usr/share/keyrings/redis-archive-keyring.gpg] https://packages.redis.io/deb $(lsb_release -cs) main\" | sudo tee /etc/apt/sources.list.d/redis.list\n",
    "sudo apt-get update  > /dev/null 2>&1\n",
    "sudo apt-get install redis-stack-server  > /dev/null 2>&1\n",
    "redis-stack-server --daemonize yes"
   ]
  },
  {
   "cell_type": "markdown",
   "id": "7c5dbaaf",
   "metadata": {},
   "source": [
    "#### For Alternative Environments\n",
    "There are many ways to get the necessary redis-stack instance running\n",
    "1. On cloud, deploy a [FREE instance of Redis in the cloud](https://redis.com/try-free/). Or, if you have your\n",
    "own version of Redis Enterprise running, that works too!\n",
    "2. Per OS, [see the docs](https://redis.io/docs/latest/operate/oss_and_stack/install/install-stack/)\n",
    "3. With docker: `docker run -d --name redis-stack-server -p 6379:6379 redis/redis-stack-server:latest`"
   ]
  },
  {
   "cell_type": "markdown",
   "id": "1d4499ae",
   "metadata": {},
   "source": [
    "### Define the Redis Connection URL\n",
    "\n",
    "By default this notebook connects to the local instance of Redis Stack. **If you have your own Redis Enterprise instance** - replace REDIS_PASSWORD, REDIS_HOST and REDIS_PORT values with your own."
   ]
  },
  {
   "cell_type": "code",
   "execution_count": 8,
   "id": "aefda1d1",
   "metadata": {},
   "outputs": [],
   "source": [
    "import os\n",
    "\n",
    "# Replace values below with your own if using Redis Cloud instance\n",
    "REDIS_HOST = os.getenv(\"REDIS_HOST\", \"localhost\") # ex: \"redis-18374.c253.us-central1-1.gce.cloud.redislabs.com\"\n",
    "REDIS_PORT = os.getenv(\"REDIS_PORT\", \"6379\")      # ex: 18374\n",
    "REDIS_PASSWORD = os.getenv(\"REDIS_PASSWORD\", \"\")  # ex: \"1TNxTEdYRDgIDKM2gDfasupCADXXXX\"\n",
    "\n",
    "# If SSL is enabled on the endpoint, use rediss:// as the URL prefix\n",
    "REDIS_URL = f\"redis://:{REDIS_PASSWORD}@{REDIS_HOST}:{REDIS_PORT}\""
   ]
  },
  {
   "cell_type": "markdown",
   "id": "f8c6ef53",
   "metadata": {},
   "source": [
    "### Create redis client"
   ]
  },
  {
   "cell_type": "code",
   "execution_count": 11,
   "id": "370c1fcc",
   "metadata": {},
   "outputs": [
    {
     "data": {
      "text/plain": [
       "True"
      ]
     },
     "execution_count": 11,
     "metadata": {},
     "output_type": "execute_result"
    }
   ],
   "source": [
    "from redis import Redis\n",
    "client = Redis.from_url(REDIS_URL)\n",
    "client.ping()"
   ]
  },
  {
   "cell_type": "code",
   "execution_count": 10,
   "id": "458fc773",
   "metadata": {},
   "outputs": [],
   "source": [
    "import json\n",
    "\n",
    "with open(\"resources/movies.json\", 'r') as file:\n",
    "    movies = json.load(file)"
   ]
  },
  {
   "cell_type": "code",
   "execution_count": 4,
   "id": "8d561462",
   "metadata": {},
   "outputs": [
    {
     "name": "stderr",
     "output_type": "stream",
     "text": [
      "/Users/robert.shelton/.pyenv/versions/3.11.9/lib/python3.11/site-packages/huggingface_hub/file_download.py:1142: FutureWarning: `resume_download` is deprecated and will be removed in version 1.0.0. Downloads always resume when possible. If you want to force a new download, use `force_download=True`.\n",
      "  warnings.warn(\n",
      "/Users/robert.shelton/.pyenv/versions/3.11.9/lib/python3.11/site-packages/huggingface_hub/file_download.py:1142: FutureWarning: `resume_download` is deprecated and will be removed in version 1.0.0. Downloads always resume when possible. If you want to force a new download, use `force_download=True`.\n",
      "  warnings.warn(\n"
     ]
    }
   ],
   "source": [
    "import numpy as np\n",
    "from sentence_transformers import SentenceTransformer\n",
    "\n",
    "# load model for embedding our movie descriptions\n",
    "model = SentenceTransformer('sentence-transformers/all-MiniLM-L6-v2')\n",
    "\n",
    "def embed_text(model, text):\n",
    "    return np.array(model.encode(text)).astype(np.float32).tobytes()"
   ]
  },
  {
   "cell_type": "code",
   "execution_count": 5,
   "id": "9946a382",
   "metadata": {},
   "outputs": [],
   "source": [
    "# Note: convert embedding array to bytes for storage in Redis Hash data type\n",
    "movie_data = [\n",
    "    {\n",
    "        **movie,\n",
    "        \"vector\": embed_text(model, movie[\"description\"])\n",
    "    } for movie in movies\n",
    "]"
   ]
  },
  {
   "cell_type": "code",
   "execution_count": 6,
   "id": "8797fcc6",
   "metadata": {},
   "outputs": [
    {
     "data": {
      "text/plain": [
       "{'id': 1,\n",
       " 'title': 'Explosive Pursuit',\n",
       " 'genre': 'action',\n",
       " 'rating': 7,\n",
       " 'description': 'A daring cop chases a notorious criminal across the city in a high-stakes game of cat and mouse.',\n",
       " 'vector': b'\\x8bf|=\\xc3`\\n;\\xf2\\x91\\xb7;?\\xcb~\\xbd\\xdfd\\xce\\xbb\\xc7\\x16J=H\\xa7?=\\xdfv\\x95<h\\xfa\\x06\\xbe\\x11Y\\xcf=)\\x07p=E\\xdb\\r\\xbd\\x93\\xf2H\\xbdke\\xc6<@\\xdfa=o8\\x16\\xbc\\xf1\\xd3\\x13<8\\xaa\\x1c=\\x14\\xef\\x89<\\xc1\\xb0-<\\x9d\\xb2\\x9f\\xbc^\\x0b\\xc3\\xbd\\xa5NR=ol\\xf7\\xbcP>\\x17\\xbeA\\x1e\\x05\\xb9Hu\\xbf<B\\xe3b\\xba\\xd8\\xa6\\xa8\\xbd\\x98\\xdc\\xec\\xbc`c%=\\x81\\xe7r\\xbb$OG=:(\\x85=a@\\xa2\\xbc-Z\\xd0\\xbdB%K\\xbd\\xc8\\xed\\x94\\xbcW\\xddH=\\x8e&F<\\xde*\\xec<\\x8d\\xd8\\x8d\\xbd\\xbdZ\\x98<\\x14\\xa3\\xa3=>g3\\xbd$\\xcd\\xbd\\xbd\\xa1$\\xf7;\\x04\\xf5z=\\xfc\\xb4\\x8c=\\x89\\x0e\\xc6\\xbdhI\\x90\\xbd^\\x16\\xbd;z\\xe7\\x0c\\xbd\\x1b3\\xc9\\xbc\\x89\\xf8\\xbb\\xbc\\x18\\'u\\xbb>\\x8f\\xca<\\x02\\x80J=\\x0e\\xaf*=\\x8dOU\\xbd\\xcf\\xf0\\x95\\xbc \\x02\\x19=\\x19\\xf4K<\\xc5\\xc2\\t=J\\x83\\xac=\\x95\\xd7\\xb8\\xbd\\xf2\\xb5\\x9c\\xbd=\\x85\\x18=\\x94d&=03\\xf8<\\xee\\xf7\\x88<\\x80v\\xf2\\xbb9=[\\xbdG\\xac\\xee\\xbb<:A\\xbd\\xe1d\\x19\\xbd!d\\xf2\\xbb\\x1d\\xbax;\\xec;O<\\xd21,\\xbc\\xec\\xae\\xae=r\\x00-\\xbc\"\\x06\\xae\\xbdl\\xd6\\x1a=\\xc4\\xbf\\xcd=\\x19\\x150=\\xe3\\xf1\\x9d\\xbc\\xa6GK=\\xb2\\xb8 =\\xb2\\xf1I\\xbd-e\\x9e\\xbb\\xe9\\x8a\\xf7:\\x88\\xf8\\x1c=\\x7f\\xba\\xde<\\xd2n\\x16\\xbb\\xb4\\\\p\\xbb\\xd4\\xd5<<\\x89\\xa5\\xa3\\xb8\\xc79s<=4&<\\x84\\x1c\\x18<\\x18\\xd9-\\xbd\\xdf\\xe6\\x98<\\x15\\xa1N=\\xa2/\\xa5=\\x1d\\xf3\\xdd<\\x17L\\x13<\\x10\\x10\\xce\\xbac\\x9e\\xdc\\xbc\\xa68\\x05=+\\xa1\\xf5<b\\xd8R\\xbc\\xf3\\x93-\\xbc\\xad\\xe0\\\\9\\xa51\\xec=a\\xf5V=\\x1eG\\xd6\\xbc\\x99\"S=\\xd3\\xd9^\\xbd\\xae\\xa3\\x91<\\x12\\xda\\x13<\\xc0\\xb2y\\xbb\\x90\\x8d/\\xbd\\xbd\\x06p<?\\x95\\x88\\xbb\\xc3\\xd0\\x9d<H\\x02\\xb6=\\x1a\\xf1\\xad\\x89\\x14\\xf2\\xa6\\xbb\\xbc\\xfbe\\xbd\\xbdQK\\xbbH\\x10\\x90\\xbb/t\\xb9\\xbbL\\xc9\\xb9\\xbb\\x0cik=\\xaa\\r\\xad<1f\\xa8\\xbd\\xbd]\\xcc=\\x1a\\xe0 \\xbe\\xcb4/\\xbdvf\\xf7\\xbcX\\x9av=\\x0c\\x0cq<0\\xda\\x1c\\xbd\\xfe\\x08\\x8b<\\xden\\xa6\\xbc\\xd2t\\x86<\\x82\\x87\\x19=m\\xae\\xe4\\xbc\\x1dm^\\xbc\\x1bV\\x0e\\xbdm\\xb0\\xe3\\xbc\\xdcFU;\\xacG|\\xbdZ\\xfb\\x8b\\xbdv\\x81*\\xbd\\x81\\x83\\xf4=|\\xb7\\x10;\\x08!\\x0e\\xbd\\x00\\xd4\\xb4=\\x14&\\x15\\xbdR\\x86\\x83=d$:<1\\xea\\xa1<\"\\x08\\x8d\\xbd\\xa8\\x00i\\xbd<\\x01\\xdd<\\x00\\x87\\xd6=1\\x98\\x9c\\xbdb|!\\xbd\\xb2\\x1c\\xc5\\xb9\\xaf\\xb3\\x93\\xbc\\xf0\\xcb>\\xbd\\x84\\x1bF\\xbd\\xa0?\\x14\\xbe\\xc4\\x8f(\\xbd\\xe6O\\x89\\xbd\\xf7\\xad\\xd4<\\xa7\\x12\\xc3=\\xaf\\x05O\\xbd\\x99\\x8ep\\xbc\\x18\\xb5\\xac\\xbc\\xc9\\x9ee\\xbdH\\x8es;$a\\xc1;\\xd9\\xfaB\\xbd\\xa8#\\xfe:\\x92\\xe6\\xf4=\\xcd\\x15*<\\x86\\xf8\\x1b=\\x01\\xfcV\\xbd\\xd3\\xd1\\r=9\\xee\\x06=\\x13u\\xba\\xbd\\xf7\\xa3\\xd6<\\x1a\\xec\\xd9;\\xb79/=\\xa4\\xc2\\x85=p\\x0b\"=\\xe1i\\xef<:\\xe8c=\\xfb2\\x08\\xbe\\xce\\x12;=OVW;V\\xa4b<\\xd0\\x9d\\xb7<\\x87r;\\xbdqz\\x91\\xbcV\\x00<\\xbd\\xfe\\x19\\xa3<\\xeaJ%\\xbc!\\xe7\\xbf\\xbb\\x7f\\x87\\x12=\\x94\\x1d\\x95=b|\\xfd\\xbc\\xf3\\xf1\\xd1\\xbd\\xf5y\\x84;\\xc9\\tu=]\\x8ai<3\\x91R\\xbd\\xec\\xf3m\\xbd\\x93\\xb83=V\\xedF=\\x1f\\xf3\\xd1\\x08yA\\xba<#\\xacO\\xbd\\x01\\x0f\\xc7;\\x7f\\xf4\\x04\\xbdP\\x82\\x92\\xbd\\x9b\\xddD=p\\xd8;\\xbc\\xd3;\\xf4\\xbc\\xb3\\x8f\\x97\\xbd1\\\\\\r\\xbd\\xea\\x8c\\xf5\\xbd\\x8c\\x13(=\\x9e\\xc8\\xc6=\\xa3\\xed\\x1a=\\x98\\xa8\\xf8=\\x84\\xc1\\xee\\xbc\\xcd-\\x18\\xbb\\xf5~;<\\xd6F\\t\\xbd\\x14\\x08\\x17=\\xa5\\xa5\\x1e=\\x14K\\xcb\\xbd.\\xf7\\x8c\\xbdyb\\xed\\xbb\\x86[\\x19\\xbc]\\x0c\\x13\\xbcgq\\x83=\\xf0wd\\xbd\\xe3\\xc7\\xd1\\xbb8lY\\xbc\\xa7|a=3\\xcf\\xfd\\xbc\\x1f\\xa5\\x83\\xbb\\x99O\\x19\\xbd6\\x02]\\xbd\\xbb\\xeaz=\\x036\\x9c=:^\\xa9\\xbd)^9\\xbcg\\xe4N\\xbcs\\x07x\\xbd\\x18{\\xa0=:\\x9f\\x96<\\xecq8\\xba\\x9e\\xbb=\\xbd\\xe4|(<\\x96\\xdf\\xb4\\xbbl\\xc9\\x0b\\xbd\\xc4\\x01\\x95\\xbd\\xf7\\xc6T=\\tp\\xd1<c3\\'\\xbd\\xb4\\x00H<t\\x0f\\xb8<\\x1fU}\\xbdx}\\x01=\\xfe\\xc9[\\xbd\\xfd\\xec\\x03<\\xf9b\\x0f\\xbd\\xc6\\x8e\\xe7\\xbc\\x04\\x17\\xc8<\\xbc\\x08\\x9c=\\x03\\xd5\\xa6\\xbdDQ\\xe5=\\x82-O<\\xdb\\xf22=\\xd326\\xbd\\xe6\\xe2\\xf2\\xbc\\xf8Z\\xa7<s\\xb2\\x02\\xbe\\xfbn2\\xbd\\xab\\x80\\x8a=\\x00\\xc4\\t\\xbd\\r\\xb8\\xcd\\xbc\\xbb\\xdb\\xad\\xbb\\x98\\xfd\\xde\\xbc\\x10\\x17E=|\\x06\\xbd=\\x1b&m=\\x14X\\x8e=\\xeb\\xae\\xa4=4\\xa3\\xca\\xbbN?\\r\\xbc\\xc99\\x9c<Il\\x8e\\xbdC\\x10k=f\\xff\\xbe;\\x9a\\x16\\xff<\\x878\\x92<\\x912\\x8c;N\\xac\\xa3=\\xf7+v<\\xfe\\x89\\xf0\\xbb\\xa6\\xdb\\x07\\xbc\\x88\\xae\\xbd\\xbc\\xb5\\x8f\\xb4\\xb2\\xb2\\x88\\xd3\\xbd\\x7f\\xe9j=\\xe9\\xdb\\xa7\\xbd\\xeb\\x16\\xe5<A\\x19p=\\xf6\\xe6\\x9f=\\xdbGh\\xbd\\xe5\\x9a\\xf4\\xbd5\\xd6\\x07\\xbc(\\xddj<$tw=\\x8a\\xd0\\xe1<\\xbd\\xae\\x1e=\\xc6F\\xc4<\\xaa0\\n<+jd\\xbc\\xb8\\xfa\\x8c=\\xd5\\x8a\\xa6\\xbc\\xd2.\\xcd\\xba\\xb6p\\xcf=\\x1bT-\\xbd\\xc0Qn=<\\x16\\x9f\\xbd\\x90\\x8a_=A\\x13#<\\xf3\\xa9m;\\'\\x86\\x00\\xbe\\xd9y\\x8b\\xbcpUG=\\xa1\\xa3\\xca=\\xbf\\xbdq\\xbc\\x93\\xe3:\\xbd\\xb2\\x93]<{]\\xd1;\\xc8d\\xae=\\x9b\\x1f\\x03\\xbd\\x07L\\x89=b:s\\xbd\\xa1\\x1eb=\\xe3\\xc9\\t\\xbb\\x98\\xfb\\xe7<w\\xce\\xe4\\xbcCV#=t\\x8bk\\xbd\\xebh\\x01<\\xfd\\xe5N\\xbd[\\x0c\\xb1\\xbch\\x01J\\xbdg\\xf4~=F\\xe3Z\\xbd\\x07/\\xf1\\xbbG98=\\xb82T\\xbc(\\'\\x81<\\xc8\\xa0M=\\x83\\xde\\x05<&I|\\xbd\\xec\\x98w<\\xde\\xd3\\xa7\\xbd\\xddS \\xbdv\\x13\\x07=\\x11&\\x14\\xbc\\xbbv\\xe9<\\xf4,\\x97='}"
      ]
     },
     "execution_count": 6,
     "metadata": {},
     "output_type": "execute_result"
    }
   ],
   "source": [
    "movie_data[0]"
   ]
  },
  {
   "cell_type": "markdown",
   "id": "d7e99897",
   "metadata": {},
   "source": [
    "## Define Redis index schema"
   ]
  },
  {
   "cell_type": "code",
   "execution_count": 12,
   "id": "2ac53ebd",
   "metadata": {},
   "outputs": [],
   "source": [
    "from redis.commands.search.field import VectorField, TagField, NumericField, TextField\n",
    "from redis.commands.search.indexDefinition import IndexDefinition, IndexType\n",
    "\n",
    "index_name = \"movies\"\n",
    "\n",
    "schema = (\n",
    "    VectorField(\n",
    "        \"vector\",\n",
    "        \"HNSW\",\n",
    "        {\n",
    "            \"TYPE\": \"FLOAT32\",\n",
    "            \"DIM\": 384,\n",
    "            \"DISTANCE_METRIC\": \"COSINE\"\n",
    "        }\n",
    "        ),\n",
    "        NumericField(\"rating\"),\n",
    "        TagField(\"id\"),\n",
    "        TagField(\"genre\"),\n",
    "        TextField(\"title\"),\n",
    "        TextField(\"description\")\n",
    ")\n",
    "\n",
    "try:\n",
    "    client.ft(index_name).info()\n",
    "    print(\"Index exists!\")\n",
    "except:\n",
    "    # index Definition\n",
    "    definition = IndexDefinition(index_type=IndexType.HASH)\n",
    "\n",
    "    # create Index\n",
    "    client.ft(index_name).create_index(fields=schema, definition=definition)"
   ]
  },
  {
   "cell_type": "markdown",
   "id": "24d3ea9c",
   "metadata": {},
   "source": [
    "## Populate index"
   ]
  },
  {
   "cell_type": "code",
   "execution_count": 13,
   "id": "169ebb93",
   "metadata": {},
   "outputs": [],
   "source": [
    "def load_docs(client: Redis, data: list[dict]):\n",
    "    for i, d in enumerate(data):\n",
    "        client.hset(\n",
    "            i,\n",
    "            mapping = d\n",
    "        )\n",
    "\n",
    "def print_results(res):\n",
    "    docs = [(doc.title, doc.genre, doc.rating) for doc in res.docs]\n",
    "    print(f\"Top {len(docs)} movies: \", docs)"
   ]
  },
  {
   "cell_type": "code",
   "execution_count": 14,
   "id": "5d643bbf",
   "metadata": {},
   "outputs": [],
   "source": [
    "load_docs(client, movie_data)"
   ]
  },
  {
   "cell_type": "code",
   "execution_count": 16,
   "id": "e5515073",
   "metadata": {},
   "outputs": [
    {
     "data": {
      "text/plain": [
       "10"
      ]
     },
     "execution_count": 16,
     "metadata": {},
     "output_type": "execute_result"
    }
   ],
   "source": [
    "res = client.ft(index_name).search(\"*\")\n",
    "len(res.docs)"
   ]
  },
  {
   "cell_type": "markdown",
   "id": "87ba1dfd",
   "metadata": {},
   "source": []
  },
  {
   "cell_type": "markdown",
   "id": "1488c088",
   "metadata": {},
   "source": [
    "## Scenario 1: Spell checking. \n",
    "\n",
    "Example:\n",
    "\n",
    "I/p : Depicable me\n",
    "\n",
    "o/p : Despicable me"
   ]
  },
  {
   "cell_type": "code",
   "execution_count": null,
   "id": "9454e60d",
   "metadata": {},
   "outputs": [
    {
     "data": {
      "text/plain": [
       "{b'depicable': [{'score': b'0.05', 'suggestion': b'despicable'}]}"
      ]
     },
     "execution_count": 24,
     "metadata": {},
     "output_type": "execute_result"
    }
   ],
   "source": [
    "from redis.commands.search.query import Query\n",
    "\n",
    "user_query = \"Depicable me\"\n",
    "\n",
    "client.ft(index_name).config_set(\"DEFAULT_DIALECT\", 2)\n",
    "res = client.ft(index_name).spellcheck(user_query)\n",
    "res\n"
   ]
  },
  {
   "cell_type": "markdown",
   "id": "ef5e1997",
   "metadata": {},
   "source": [
    "## Scenario 2:\n",
    "\n",
    "1) Query a cluster\n",
    "\n",
    "2) limit the number of results(rows)\n",
    "\n",
    "3) Ability to query certain type of document(fq=type:Field1)\n",
    "\n",
    "4) Return only specific fields in the response (fl=id,type,key,value,score).\n",
    "\n",
    "Examples:\n",
    "\n",
    "Note: In redis the most similar concept to a cluster would be an index.\n",
    "\n",
    "- qt=/clustername&q=example question&rows=10\n",
    "- qt=/search&group.limit=500&fl=id,type,key,value,score&q=sample query&fq=type:Field1"
   ]
  },
  {
   "cell_type": "code",
   "execution_count": 51,
   "id": "d499dcad",
   "metadata": {},
   "outputs": [
    {
     "data": {
      "text/plain": [
       "[Document {'id': '6', 'payload': None, 'score': 6.267822483123378, 'title': 'The Dark Knight', 'genre': 'action', 'rating': '9', 'description': 'Batman faces off against the Joker, a criminal mastermind who threatens to plunge Gotham into chaos.'},\n",
       " Document {'id': '17', 'payload': None, 'score': 5.846220066150412, 'title': 'Despicable Me', 'genre': 'comedy', 'rating': '7', 'description': 'When a criminal mastermind uses a trio of orphan girls as pawns for a grand scheme, he finds their love is profoundly changing him for the better.'}]"
      ]
     },
     "execution_count": 51,
     "metadata": {},
     "output_type": "execute_result"
    }
   ],
   "source": [
    "index_name = \"movies\" # variable\n",
    "\n",
    "# fuzzy search\n",
    "user_query = Query(\"Criminal mastermind\")\\\n",
    "                .scorer(\"BM25STD\") \\\n",
    "                .with_scores() \\\n",
    "                .return_fields(\"title\", \"genre\", \"rating\", \"description\") \\\n",
    "                .paging(0, 10) # limits the amount of results to 10\n",
    "\n",
    "res = client.ft(index_name).search(user_query)\n",
    "res.docs"
   ]
  },
  {
   "cell_type": "markdown",
   "id": "7d916ed1",
   "metadata": {},
   "source": [
    "## Scenario 3: Ability to query by adding a weight. \n",
    "\n",
    "Field 1 should have twice the weight compared to field 2.\n",
    "\n",
    "q=field1:(\"sample data value 1\")^2+field2:(\"sample data value 2\")"
   ]
  },
  {
   "cell_type": "code",
   "execution_count": null,
   "id": "f59fff2c",
   "metadata": {},
   "outputs": [
    {
     "data": {
      "text/plain": [
       "[Document {'id': '9', 'payload': None, 'title': 'The Avengers', 'genre': 'action', 'rating': '8', 'description': \"Earth's mightiest heroes come together to stop an alien invasion that threatens the entire planet.\"},\n",
       " Document {'id': '2', 'payload': None, 'title': 'Fast & Furious 9', 'genre': 'action', 'rating': '6', 'description': 'Dom and his crew face off against a high-tech enemy with advanced weapons and technology.'},\n",
       " Document {'id': '0', 'payload': None, 'title': 'Explosive Pursuit', 'genre': 'action', 'rating': '7', 'description': 'A daring cop chases a notorious criminal across the city in a high-stakes game of cat and mouse.'}]"
      ]
     },
     "execution_count": 47,
     "metadata": {},
     "output_type": "execute_result"
    }
   ],
   "source": [
    "# Search for top 3 movies specifically in the action genre with ratings at or above a 7\n",
    "user_query1 = \"High tech\"\n",
    "user_query2 = \"heroes villains\"\n",
    "\n",
    "def tokenize(query):\n",
    "    return \" | \".join(query.split(\" \")).lower()\n",
    "\n",
    "query = Query(f'((@description:({tokenize(user_query1)})=>{{$weight: 1}}) | (@description:({tokenize(user_query2)})=>{{$weight: 10}}))') \\\n",
    "        .return_fields(\"title\", \"genre\", \"rating\", \"description\") \\\n",
    "        .dialect(2)\n",
    "\n",
    "res = client.ft(index_name).search(query)\n",
    "res.docs"
   ]
  },
  {
   "cell_type": "markdown",
   "id": "4f308e8d",
   "metadata": {},
   "source": [
    "## Scenario 4: Ability to have logical operations\n",
    "\n",
    "q=field1:(\"sample data value 1\")^ || field2:(\"sample data value 2\")\n",
    "\n",
    "q=field1:(\"sample data value 1\")^ && field2:(\"sample data value 2\")"
   ]
  },
  {
   "cell_type": "code",
   "execution_count": 48,
   "id": "8a493ae0",
   "metadata": {},
   "outputs": [
    {
     "data": {
      "text/plain": [
       "[Document {'id': '9', 'payload': None, 'title': 'The Avengers', 'genre': 'action', 'rating': '8', 'description': \"Earth's mightiest heroes come together to stop an alien invasion that threatens the entire planet.\"},\n",
       " Document {'id': '0', 'payload': None, 'title': 'Explosive Pursuit', 'genre': 'action', 'rating': '7', 'description': 'A daring cop chases a notorious criminal across the city in a high-stakes game of cat and mouse.'}]"
      ]
     },
     "execution_count": 48,
     "metadata": {},
     "output_type": "execute_result"
    }
   ],
   "source": [
    "# Search with full text search for movies that directly mention \"criminal mastermind\" in the description\n",
    "\n",
    "user_query1 = \"High tech\"\n",
    "user_query2 = \"heroes villains\"\n",
    "\n",
    "def tokenize(query):\n",
    "    return \" | \".join(query.split(\" \")).lower()\n",
    "\n",
    "query = Query(f'((@rating:[7, inf+]) & (@description:({tokenize(user_query1)})=>{{$weight: 1}}) | (@description:({tokenize(user_query2)})=>{{$weight: 10}}))') \\\n",
    "        .return_fields(\"title\", \"genre\", \"rating\", \"description\") \\\n",
    "        .dialect(2)\n",
    "\n",
    "res = client.ft(index_name).search(query)\n",
    "res.docs"
   ]
  },
  {
   "cell_type": "markdown",
   "id": "1f73c402",
   "metadata": {},
   "source": [
    "## Scenario 5: Ability to specific type of algorithm.   \n",
    "\n",
    "q=field1:(\"sample data value 1\")^ && field2:(\"sample data value 2\")&defType=edismax "
   ]
  },
  {
   "cell_type": "code",
   "execution_count": 59,
   "id": "c0d7ab60",
   "metadata": {},
   "outputs": [
    {
     "data": {
      "text/plain": [
       "[Document {'id': '9', 'payload': None, 'score': 4.0, 'title': 'The Avengers', 'genre': 'action', 'rating': '8', 'description': \"Earth's mightiest heroes come together to stop an alien invasion that threatens the entire planet.\"},\n",
       " Document {'id': '10', 'payload': None, 'score': 1.3333333333333333, 'title': 'Toy Story', 'genre': 'comedy', 'rating': '8', 'description': \"Woody, a good-hearted cowboy doll who belongs to a young boy named Andy, sees his position as Andy's favorite toy jeopardized when his parents buy him a Buzz Lightyear action figure. Even worse, the arrogant Buzz thinks he's a real spaceman on a mission to return to his home planet.\"}]"
      ]
     },
     "execution_count": 59,
     "metadata": {},
     "output_type": "execute_result"
    }
   ],
   "source": [
    "index_name = \"movies\" # variable\n",
    "\n",
    "user_query = \"cowboys and aliens\"\n",
    "\n",
    "user_query = Query(tokenize(user_query)) \\\n",
    "                .scorer(\"TFIDF\") \\\n",
    "                .with_scores() \\\n",
    "                .return_fields(\"title\", \"genre\", \"rating\", \"description\") \\\n",
    "                .paging(0, 10) # limits the amount of results to 10\n",
    "\n",
    "res = client.ft(index_name).search(user_query)\n",
    "res.docs"
   ]
  },
  {
   "cell_type": "markdown",
   "id": "610f006f",
   "metadata": {},
   "source": [
    "## Scenario 6: Ability to query certain type of document which value greater than certain number\n",
    "\n",
    "q=field1:(\"sample data value 1\")^ && field2:(\"sample data value 2\")&fq=field3:[50+TO+*] \n",
    "\n",
    "=> shown with ratings with scenario 4"
   ]
  },
  {
   "cell_type": "markdown",
   "id": "1ce1601d",
   "metadata": {},
   "source": [
    "## Scenario 7: Ability to return score for each document.\n",
    "\n",
    "=> scores return shown in other examples"
   ]
  },
  {
   "cell_type": "markdown",
   "id": "4d83434b",
   "metadata": {},
   "source": [
    "## Scenario 8: vector search\n",
    "\n",
    "Beyond the capabilities shown here for feature parody, redis offers vector search which can combined with all the methods above to facilitate more powerful queries. Implementing vector search is very easy (especially with the [redis vector library](https://github.com/redis/redis-vl-python)). \n",
    "\n",
    "In the following example you can see how event thought the word **sentimental** doesn't show up anywhere in the corpus we're still able to effectively find movies that match the semantic meaning of that word."
   ]
  },
  {
   "cell_type": "code",
   "execution_count": 64,
   "id": "09c55f39",
   "metadata": {},
   "outputs": [
    {
     "data": {
      "text/plain": [
       "[Document {'id': '17', 'payload': None, 'title': 'Despicable Me', 'genre': 'comedy', 'rating': '7', 'description': 'When a criminal mastermind uses a trio of orphan girls as pawns for a grand scheme, he finds their love is profoundly changing him for the better.'},\n",
       " Document {'id': '3', 'payload': None, 'title': 'Black Widow', 'genre': 'action', 'rating': '7', 'description': 'Natasha Romanoff confronts her dark past and family ties as she battles a new enemy.'},\n",
       " Document {'id': '15', 'payload': None, 'title': 'The Incredibles', 'genre': 'comedy', 'rating': '8', 'description': \"A family of undercover superheroes, while trying to live the quiet suburban life, are forced into action to save the world. Bob Parr (Mr. Incredible) and his wife Helen (Elastigirl) were among the world's greatest crime fighters, but now they must assume civilian identities and retreat to the suburbs to live a 'normal' life with their three children. However, the family's desire to help the world pulls them back into action when they face a new and dangerous enemy.\"}]"
      ]
     },
     "execution_count": 64,
     "metadata": {},
     "output_type": "execute_result"
    }
   ],
   "source": [
    "from redis.commands.search.query import Query\n",
    "\n",
    "user_query = \"Sentimental movies\"\n",
    "\n",
    "embedded_user_query = embed_text(model, user_query)\n",
    "\n",
    "# Note: dialect 2 and above required for vector search\n",
    "query = Query(\"(*)=>[KNN 3 @vector $vec_param AS dist]\").sort_by(\"dist\").dialect(2).return_fields(\"title\", \"genre\", \"rating\", \"description\").paging(0, 3)\n",
    "\n",
    "res = client.ft(index_name).search(query, query_params = {'vec_param': embedded_user_query})\n",
    "res.docs"
   ]
  },
  {
   "cell_type": "markdown",
   "id": "6bd27cb3",
   "metadata": {},
   "source": [
    "## Range queries\n",
    "\n",
    "Range queries allow you to set a pre defined \"threshold\" for which we want to return documents. This is helpful when you only want documents with a certain distance from the search query."
   ]
  },
  {
   "cell_type": "code",
   "execution_count": 65,
   "id": "cafe1795",
   "metadata": {},
   "outputs": [
    {
     "name": "stdout",
     "output_type": "stream",
     "text": [
      "Top 6 movies:  [('The Incredibles', 'comedy', '8'), ('Black Widow', 'action', '7'), ('Despicable Me', 'comedy', '7'), ('Shrek', 'comedy', '8'), ('Monsters, Inc.', 'comedy', '8'), ('Aladdin', 'comedy', '8')]\n"
     ]
    }
   ],
   "source": [
    "user_query = \"Family friendly fantasy movies\"\n",
    "\n",
    "embedded_user_query = embed_text(model, user_query)\n",
    "\n",
    "query = (\n",
    "    Query(\"@vector:[VECTOR_RANGE $radius $vector]=>{$YIELD_DISTANCE_AS: vector_distance}\")\n",
    "     .sort_by(\"vector_distance\")\n",
    "     .return_fields(\"title\", \"rating\", \"genre\", \"vector_distance\")\n",
    "     .dialect(2)\n",
    ")\n",
    "\n",
    "# Find all vectors within 0.8 of the query vector\n",
    "query_params = {\n",
    "    \"radius\": 0.8,\n",
    "    \"vector\": embedded_user_query\n",
    "}\n",
    "\n",
    "res = client.ft(index_name).search(query, query_params)\n",
    "print_results(res)\n"
   ]
  },
  {
   "cell_type": "markdown",
   "id": "a1586ea7",
   "metadata": {},
   "source": [
    "Like the queries above, we can also chain additional filters and conditional operators with range queries. The following adds an `or` condition that returns vector search within the defined range or with a rating at or above 9."
   ]
  },
  {
   "cell_type": "code",
   "execution_count": 66,
   "id": "d3110324",
   "metadata": {},
   "outputs": [
    {
     "name": "stdout",
     "output_type": "stream",
     "text": [
      "Top 3 movies:  [('The Incredibles', 'comedy', '8'), ('The Dark Knight', 'action', '9'), ('Inception', 'action', '9')]\n"
     ]
    }
   ],
   "source": [
    "user_query = \"Family friendly fantasy movies\"\n",
    "\n",
    "embedded_user_query = embed_text(model, user_query)\n",
    "\n",
    "query = (\n",
    "    Query(\"@rating:[9 +inf] | @vector:[VECTOR_RANGE $radius $vector]=>{$YIELD_DISTANCE_AS: vector_distance}\")\n",
    "     .sort_by(\"vector_distance\")\n",
    "     .return_fields(\"title\", \"rating\", \"genre\", \"vector_distance\")\n",
    "     .dialect(2)\n",
    ")\n",
    "\n",
    "# Find all vectors within 0.8 of the query vector\n",
    "query_params = {\n",
    "    \"radius\": 0.7,\n",
    "    \"vector\": embedded_user_query\n",
    "}\n",
    "\n",
    "res = client.ft(index_name).search(query, query_params)\n",
    "print_results(res)"
   ]
  },
  {
   "cell_type": "code",
   "execution_count": 20,
   "id": "1902b43b",
   "metadata": {},
   "outputs": [
    {
     "data": {
      "text/plain": [
       "True"
      ]
     },
     "execution_count": 20,
     "metadata": {},
     "output_type": "execute_result"
    }
   ],
   "source": [
    "# clean up!\n",
    "client.flushall()"
   ]
  }
 ],
 "metadata": {
  "kernelspec": {
   "display_name": "Python 3",
   "language": "python",
   "name": "python3"
  },
  "language_info": {
   "codemirror_mode": {
    "name": "ipython",
    "version": 3
   },
   "file_extension": ".py",
   "mimetype": "text/x-python",
   "name": "python",
   "nbconvert_exporter": "python",
   "pygments_lexer": "ipython3",
   "version": "3.11.9"
  }
 },
 "nbformat": 4,
 "nbformat_minor": 5
}
