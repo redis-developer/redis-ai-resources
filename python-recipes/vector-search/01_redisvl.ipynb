{
 "cells": [
  {
   "cell_type": "markdown",
   "id": "cbba56a9",
   "metadata": {},
   "source": [
    "![Redis](https://redis.io/wp-content/uploads/2024/04/Logotype.svg?auto=webp&quality=85,75&width=120)\n",
    "# Vector Search with Redisvl\n",
    "## Let's Begin!\n",
    "<a href=\"https://colab.research.google.com/github/redis-developer/redis-ai-resources/blob/main/python-recipes/vector-search/01_redisvl.ipynb\" target=\"_parent\"><img src=\"https://colab.research.google.com/assets/colab-badge.svg\" alt=\"Open In Colab\"/></a>\n"
   ]
  },
  {
   "cell_type": "markdown",
   "id": "0b80de6b",
   "metadata": {},
   "source": [
    "## Prepare data\n",
    "\n",
    "In this examples we will load a list of movie objects with the following attributes: `title`, `rating`, `description`, and `genre`. \n",
    "\n",
    "For the vector part of our vector search we will embed the description so that user's can search for movies that best match what they're looking for.\n",
    "\n",
    "**If you are running this notebook locally**, FYI you may not need to perform this step at all."
   ]
  },
  {
   "cell_type": "code",
   "execution_count": null,
   "id": "b966a9b5",
   "metadata": {},
   "outputs": [],
   "source": [
    "# NBVAL_SKIP\n",
    "!git clone https://github.com/redis-developer/redis-ai-resources.git temp_repo\n",
    "!mv temp_repo/python-recipes/vector-search/resources .\n",
    "!rm -rf temp_repo"
   ]
  },
  {
   "cell_type": "markdown",
   "id": "19bdc2a5-2192-4f5f-bd6e-7c956fd0e230",
   "metadata": {},
   "source": [
    "## Packages"
   ]
  },
  {
   "cell_type": "code",
   "execution_count": 1,
   "id": "c620286e",
   "metadata": {},
   "outputs": [
    {
     "name": "stdout",
     "output_type": "stream",
     "text": [
      "Note: you may need to restart the kernel to use updated packages.\n"
     ]
    }
   ],
   "source": [
    "# NBVAL_SKIP\n",
    "%pip install -q redis redisvl numpy sentence-transformers"
   ]
  },
  {
   "cell_type": "markdown",
   "id": "323aec7f",
   "metadata": {},
   "source": [
    "## Install Redis Stack\n",
    "\n",
    "Later in this tutorial, Redis will be used to store, index, and query vector\n",
    "embeddings created from PDF document chunks. **We need to make sure we have a Redis\n",
    "instance available.\n",
    "\n",
    "#### For Colab\n",
    "Use the shell script below to download, extract, and install [Redis Stack](https://redis.io/docs/getting-started/install-stack/) directly from the Redis package archive."
   ]
  },
  {
   "cell_type": "code",
   "execution_count": null,
   "id": "2cb85a99",
   "metadata": {},
   "outputs": [],
   "source": [
    "# NBVAL_SKIP\n",
    "%%sh\n",
    "curl -fsSL https://packages.redis.io/gpg | sudo gpg --dearmor -o /usr/share/keyrings/redis-archive-keyring.gpg\n",
    "echo \"deb [signed-by=/usr/share/keyrings/redis-archive-keyring.gpg] https://packages.redis.io/deb $(lsb_release -cs) main\" | sudo tee /etc/apt/sources.list.d/redis.list\n",
    "sudo apt-get update  > /dev/null 2>&1\n",
    "sudo apt-get install redis-stack-server  > /dev/null 2>&1\n",
    "redis-stack-server --daemonize yes"
   ]
  },
  {
   "cell_type": "markdown",
   "id": "7c5dbaaf",
   "metadata": {},
   "source": [
    "#### For Alternative Environments\n",
    "There are many ways to get the necessary redis-stack instance running\n",
    "1. On cloud, deploy a [FREE instance of Redis in the cloud](https://redis.com/try-free/). Or, if you have your\n",
    "own version of Redis Enterprise running, that works too!\n",
    "2. Per OS, [see the docs](https://redis.io/docs/latest/operate/oss_and_stack/install/install-stack/)\n",
    "3. With docker: `docker run -d --name redis-stack-server -p 6379:6379 redis/redis-stack-server:latest`"
   ]
  },
  {
   "cell_type": "markdown",
   "id": "1d4499ae",
   "metadata": {},
   "source": [
    "### Define the Redis Connection URL\n",
    "\n",
    "By default this notebook connects to the local instance of Redis Stack. **If you have your own Redis Enterprise instance** - replace REDIS_PASSWORD, REDIS_HOST and REDIS_PORT values with your own."
   ]
  },
  {
   "cell_type": "code",
   "execution_count": 2,
   "id": "aefda1d1",
   "metadata": {},
   "outputs": [],
   "source": [
    "import os\n",
    "\n",
    "# Replace values below with your own if using Redis Cloud instance\n",
    "REDIS_HOST = os.getenv(\"REDIS_HOST\", \"localhost\") # ex: \"redis-18374.c253.us-central1-1.gce.cloud.redislabs.com\"\n",
    "REDIS_PORT = os.getenv(\"REDIS_PORT\", \"6379\")      # ex: 18374\n",
    "REDIS_PASSWORD = os.getenv(\"REDIS_PASSWORD\", \"\")  # ex: \"1TNxTEdYRDgIDKM2gDfasupCADXXXX\"\n",
    "\n",
    "# If SSL is enabled on the endpoint, use rediss:// as the URL prefix\n",
    "REDIS_URL = f\"redis://:{REDIS_PASSWORD}@{REDIS_HOST}:{REDIS_PORT}\""
   ]
  },
  {
   "cell_type": "markdown",
   "id": "f8c6ef53",
   "metadata": {},
   "source": [
    "### Create redis client"
   ]
  },
  {
   "cell_type": "code",
   "execution_count": 3,
   "id": "370c1fcc",
   "metadata": {},
   "outputs": [],
   "source": [
    "from redis import Redis\n",
    "\n",
    "client = Redis.from_url(REDIS_URL)"
   ]
  },
  {
   "cell_type": "code",
   "execution_count": 4,
   "id": "458fc773",
   "metadata": {},
   "outputs": [],
   "source": [
    "import json\n",
    "\n",
    "with open(\"resources/movies.json\", 'r') as file:\n",
    "    movies = json.load(file)"
   ]
  },
  {
   "cell_type": "code",
   "execution_count": 5,
   "id": "8d561462",
   "metadata": {},
   "outputs": [
    {
     "name": "stderr",
     "output_type": "stream",
     "text": [
      "/Users/justin.cechmanek/.pyenv/versions/3.11.9/envs/redis-ai-res/lib/python3.11/site-packages/sentence_transformers/cross_encoder/CrossEncoder.py:11: TqdmExperimentalWarning: Using `tqdm.autonotebook.tqdm` in notebook mode. Use `tqdm.tqdm` instead to force console mode (e.g. in jupyter console)\n",
      "  from tqdm.autonotebook import tqdm, trange\n"
     ]
    }
   ],
   "source": [
    "import numpy as np\n",
    "from sentence_transformers import SentenceTransformer\n",
    "\n",
    "# load model for embedding our movie descriptions\n",
    "model = SentenceTransformer('sentence-transformers/all-MiniLM-L6-v2')\n",
    "\n",
    "def embed_text(model, text):\n",
    "    return np.array(model.encode(text)).astype(np.float32).tobytes()"
   ]
  },
  {
   "cell_type": "code",
   "execution_count": 6,
   "id": "9946a382",
   "metadata": {},
   "outputs": [],
   "source": [
    "# Note: convert embedding array to bytes for storage in Redis Hash data type\n",
    "movie_data = [\n",
    "    {\n",
    "        **movie,\n",
    "        \"vector\": embed_text(model, movie[\"description\"])\n",
    "    } for movie in movies\n",
    "]"
   ]
  },
  {
   "cell_type": "code",
   "execution_count": 7,
   "id": "8797fcc6",
   "metadata": {},
   "outputs": [
    {
     "data": {
      "text/plain": [
       "{'title': 'Explosive Pursuit',\n",
       " 'genre': 'action',\n",
       " 'rating': 7,\n",
       " 'description': 'A daring cop chases a notorious criminal across the city in a high-stakes game of cat and mouse.',\n",
       " 'vector': b'\\x9bf|=\\xa4a\\n;\\xb6\\x91\\xb7;*\\xcb~\\xbd\\x07e\\xce\\xbb\\xc9\\x16J=G\\xa7?=\\xcev\\x95<g\\xfa\\x06\\xbe\\x0fY\\xcf=+\\x07p=?\\xdb\\r\\xbd\\x95\\xf2H\\xbdre\\xc6<N\\xdfa=\\x958\\x16\\xbc\\xe1\\xd3\\x13<N\\xaa\\x1c=\\x13\\xef\\x89<\\xd6\\xb0-<\\x8e\\xb2\\x9f\\xbc_\\x0b\\xc3\\xbd\\xa5NR=cl\\xf7\\xbcP>\\x17\\xbe\\xc0 \\x05\\xb9&u\\xbf<0\\xe2b\\xba\\xd6\\xa6\\xa8\\xbdr\\xdc\\xec\\xbcWc%=\\xa6\\xe7r\\xbb\"OG=:(\\x85=s@\\xa2\\xbc/Z\\xd0\\xbdK%K\\xbd\\xb1\\xed\\x94\\xbc`\\xddH=\\xaa&F<\\xe0*\\xec<\\x88\\xd8\\x8d\\xbd\\xc5Z\\x98<\\x13\\xa3\\xa3=:g3\\xbd+\\xcd\\xbd\\xbd\\x90$\\xf7;\\xf8\\xf4z=\\x01\\xb5\\x8c=\\x8a\\x0e\\xc6\\xbdoI\\x90\\xbd\\x80\\x16\\xbd;u\\xe7\\x0c\\xbd\\xf32\\xc9\\xbc\\x8b\\xf8\\xbb\\xbcP&u\\xbb9\\x8f\\xca<\\x07\\x80J=\\x10\\xaf*=\\x96OU\\xbd\\xc9\\xf0\\x95\\xbc\\x10\\x02\\x19=\\x12\\xf4K<\\xc0\\xc2\\t=L\\x83\\xac=\\x98\\xd7\\xb8\\xbd\\xf7\\xb5\\x9c\\xbd9\\x85\\x18=\\x9fd&=73\\xf8<\\xfb\\xf7\\x88<\\xabv\\xf2\\xbb%=[\\xbd\\xdc\\xac\\xee\\xbb2:A\\xbd\\xdcd\\x19\\xbdjd\\xf2\\xbbr\\xbax;\\xdc;O<\\x991,\\xbc\\xea\\xae\\xae=~\\x00-\\xbc\\x1a\\x06\\xae\\xbdh\\xd6\\x1a=\\xc7\\xbf\\xcd=\\x1f\\x150=\\xdc\\xf1\\x9d\\xbc\\xaaGK=\\xaf\\xb8 =\\xb0\\xf1I\\xbd\\te\\x9e\\xbbI\\x8b\\xf7:\\x8b\\xf8\\x1c=\\x86\\xba\\xde<)o\\x16\\xbb\\x19]p\\xbb\\xc3\\xd5<<K\\xa1\\xa3\\xb8\\xc99s<\\x104&<\\x9d\\x1c\\x18<\\x1f\\xd9-\\xbd\\xd3\\xe6\\x98<\\x17\\xa1N=\\xa5/\\xa5=\\x1e\\xf3\\xdd<\\x1dL\\x13<e\\x10\\xce\\xbad\\x9e\\xdc\\xbc\\xb08\\x05=\\r\\xa1\\xf5<\\\\\\xd8R\\xbc\\xec\\x93-\\xbcK\\xe0\\\\9\\xa01\\xec=^\\xf5V=EG\\xd6\\xbc\\x9b\"S=\\xd0\\xd9^\\xbd\\xb2\\xa3\\x91<\\xee\\xd9\\x13<|\\xb2y\\xbbz\\x8d/\\xbd\\x99\\x06p<\\xf9\\x94\\x88\\xbb\\xb3\\xd0\\x9d<G\\x02\\xb6=\\x19\\xf1\\xad\\x89W\\xf2\\xa6\\xbb\\xba\\xfbe\\xbd\\xf6QK\\xbb6\\x10\\x90\\xbbJt\\xb9\\xbb\\x1a\\xc9\\xb9\\xbb\\x00ik=\\xa9\\r\\xad<5f\\xa8\\xbd\\xbd]\\xcc=\\x16\\xe0 \\xbe\\xcf4/\\xbdbf\\xf7\\xbcZ\\x9av=\\xf3\\x0bq<(\\xda\\x1c\\xbd\\x02\\t\\x8b<\\xf3n\\xa6\\xbc\\xc8t\\x86<q\\x87\\x19=\\x89\\xae\\xe4\\xbc\\rm^\\xbc\\x19V\\x0e\\xbd`\\xb0\\xe3\\xbc\\x04GU;\\xa8G|\\xbdZ\\xfb\\x8b\\xbd~\\x81*\\xbdw\\x83\\xf4=\\xa1\\xb7\\x10;\\x05!\\x0e\\xbd\\x01\\xd4\\xb4=\\x15&\\x15\\xbdR\\x86\\x83=c$:<!\\xea\\xa1<\\x1a\\x08\\x8d\\xbd\\x93\\x00i\\xbd*\\x01\\xdd<\\xff\\x86\\xd6=6\\x98\\x9c\\xbdX|!\\xbdi$\\xc5\\xb9\\xaf\\xb3\\x93\\xbc\\xf8\\xcb>\\xbd\\x86\\x1bF\\xbd\\xa2?\\x14\\xbe\\xc5\\x8f(\\xbd\\xdfO\\x89\\xbd\\x10\\xae\\xd4<\\xa9\\x12\\xc3=\\xad\\x05O\\xbdn\\x8ep\\xbc$\\xb5\\xac\\xbc\\xc5\\x9ee\\xbdf\\x8es;\\xee`\\xc1;\\xd3\\xfaB\\xbdC#\\xfe:\\x90\\xe6\\xf4=\\xba\\x15*<u\\xf8\\x1b=\\x04\\xfcV\\xbd\\xd2\\xd1\\r=9\\xee\\x06=\\x1au\\xba\\xbd\\xf6\\xa3\\xd6<\\xfc\\xeb\\xd9;\\xb59/=\\xaa\\xc2\\x85=v\\x0b\"=\\xe0i\\xef<7\\xe8c=\\xfb2\\x08\\xbe\\xcf\\x12;=\\xe3VW;B\\xa4b<\\xcc\\x9d\\xb7<{r;\\xbdhz\\x91\\xbcX\\x00<\\xbd\\x1d\\x1a\\xa3<\\xfeJ%\\xbc\\x80\\xe7\\xbf\\xbbv\\x87\\x12=\\x95\\x1d\\x95=s|\\xfd\\xbc\\xf7\\xf1\\xd1\\xbdsz\\x84;\\xbe\\tu=k\\x8ai<<\\x91R\\xbd\\xe0\\xf3m\\xbd\\x8c\\xb83=U\\xedF=*\\xf3\\xd1\\x08\\x81A\\xba<&\\xacO\\xbd\\x16\\x0f\\xc7;\\x85\\xf4\\x04\\xbdN\\x82\\x92\\xbd\\xa6\\xddD={\\xd8;\\xbc\\xc7;\\xf4\\xbc\\xb6\\x8f\\x97\\xbd:\\\\\\r\\xbd\\xe8\\x8c\\xf5\\xbd\\x93\\x13(=\\xa2\\xc8\\xc6=\\xb6\\xed\\x1a=\\x95\\xa8\\xf8=\\x86\\xc1\\xee\\xbc\\xc9-\\x18\\xbb\\xdf~;<\\xd9F\\t\\xbd\\x16\\x08\\x17=\\x9a\\xa5\\x1e=\\x19K\\xcb\\xbd0\\xf7\\x8c\\xbd]b\\xed\\xbb\\xad[\\x19\\xbcD\\x0c\\x13\\xbcdq\\x83=\\xf2wd\\xbd\\xeb\\xc7\\xd1\\xbbnlY\\xbc\\xa1|a=H\\xcf\\xfd\\xbc.\\xa5\\x83\\xbb\\x93O\\x19\\xbd0\\x02]\\xbd\\xca\\xeaz=\\xff5\\x9c=5^\\xa9\\xbdY^9\\xbcF\\xe4N\\xbc}\\x07x\\xbd\\x17{\\xa0=A\\x9f\\x96<\\x91t8\\xba\\x9e\\xbb=\\xbd\\xfa|(<\\x7f\\xdf\\xb4\\xbbc\\xc9\\x0b\\xbd\\xc4\\x01\\x95\\xbd\\xf7\\xc6T=\\x1bp\\xd1<_3\\'\\xbd\\xd4\\x00H<\\x99\\x0f\\xb8<$U}\\xbdw}\\x01=\\xff\\xc9[\\xbd\\xe8\\xec\\x03<\\x00c\\x0f\\xbd\\xd1\\x8e\\xe7\\xbc\\xe7\\x16\\xc8<\\xb3\\x08\\x9c=\\xfb\\xd4\\xa6\\xbdIQ\\xe5=u-O<\\xee\\xf22=\\xd926\\xbd\\xf4\\xe2\\xf2\\xbc\\x1b[\\xa7<v\\xb2\\x02\\xbe\\xebn2\\xbd\\xb1\\x80\\x8a=\\xf6\\xc3\\t\\xbd\\xfb\\xb7\\xcd\\xbcQ\\xdb\\xad\\xbb\\x90\\xfd\\xde\\xbc\\x11\\x17E=\\x80\\x06\\xbd=\\x1b&m=\\x10X\\x8e=\\xe8\\xae\\xa4=K\\xa3\\xca\\xbb\\x98?\\r\\xbc\\xc89\\x9c<Kl\\x8e\\xbd7\\x10k=\\xc8\\xff\\xbe;w\\x16\\xff<\\x828\\x92<|2\\x8c;N\\xac\\xa3=\\xe2+v<\\x0c\\x8a\\xf0\\xbbi\\xdb\\x07\\xbc\\x81\\xae\\xbd\\xbc\\xb3\\x8f\\xb4\\xb2\\xb1\\x88\\xd3\\xbd}\\xe9j=\\xea\\xdb\\xa7\\xbd\\xf3\\x16\\xe5<F\\x19p=\\xf8\\xe6\\x9f=\\xd7Gh\\xbd\\xe5\\x9a\\xf4\\xbd}\\xd6\\x07\\xbc$\\xddj<)tw=\\x8c\\xd0\\xe1<\\xc9\\xae\\x1e=\\xe4F\\xc4<\\xa00\\n<Njd\\xbc\\xb5\\xfa\\x8c=\\xcc\\x8a\\xa6\\xbc\\xf3-\\xcd\\xba\\xb3p\\xcf=-T-\\xbd\\xc5Qn=5\\x16\\x9f\\xbd\\x8e\\x8a_=M\\x13#<N\\xaam;(\\x86\\x00\\xbe\\xday\\x8b\\xbcbUG=\\x9e\\xa3\\xca=\\xc7\\xbdq\\xbc\\x95\\xe3:\\xbd\\xb9\\x93]<\\x84]\\xd1;\\xc3d\\xae=\\x97\\x1f\\x03\\xbd\\x08L\\x89=d:s\\xbd\\xa5\\x1eb=n\\xc9\\t\\xbb\\x9e\\xfb\\xe7<r\\xce\\xe4\\xbcTV#={\\x8bk\\xbd\\xd9h\\x01<\\xfa\\xe5N\\xbdX\\x0c\\xb1\\xbc]\\x01J\\xbdj\\xf4~=D\\xe3Z\\xbd\\x8c/\\xf1\\xbbH98=\\xb02T\\xbc#\\'\\x81<\\xb6\\xa0M=\\xa2\\xde\\x05<\\x19I|\\xbd\\xe5\\x98w<\\xe2\\xd3\\xa7\\xbd\\xdbS \\xbd\\x80\\x13\\x07=\\x10&\\x14\\xbc\\xcbv\\xe9<\\xf7,\\x97='}"
      ]
     },
     "execution_count": 7,
     "metadata": {},
     "output_type": "execute_result"
    }
   ],
   "source": [
    "movie_data[0]"
   ]
  },
  {
   "cell_type": "markdown",
   "id": "d7e99897",
   "metadata": {},
   "source": [
    "## Define Redis index schema"
   ]
  },
  {
   "cell_type": "code",
   "execution_count": 8,
   "id": "2ac53ebd",
   "metadata": {},
   "outputs": [],
   "source": [
    "# from redis.commands.search.field import VectorField, TagField, NumericField, TextField\n",
    "# from redis.commands.search.indexDefinition import IndexDefinition, IndexType\n",
    "\n",
    "from redisvl.schema import IndexSchema\n",
    "from redisvl.index import SearchIndex\n",
    "\n",
    "index_name = \"movies\"\n",
    "\n",
    "schema = IndexSchema.from_dict({\n",
    "  \"index\": {\n",
    "    \"name\": index_name,\n",
    "  },\n",
    "  \"fields\": [\n",
    "    {\n",
    "        \"name\": \"title\",\n",
    "        \"type\": \"text\",\n",
    "    },\n",
    "    {\n",
    "        \"name\": \"description\",\n",
    "        \"type\": \"text\",\n",
    "    },\n",
    "    {\n",
    "        \"name\": \"genre\",\n",
    "        \"type\": \"tag\",\n",
    "        \"attrs\": {\n",
    "            \"sortable\": True\n",
    "        }\n",
    "    },\n",
    "    {\n",
    "        \"name\": \"rating\",\n",
    "        \"type\": \"numeric\",\n",
    "        \"attrs\": {\n",
    "            \"sortable\": True\n",
    "        }\n",
    "    },\n",
    "    {\n",
    "        \"name\": \"vector\",\n",
    "        \"type\": \"vector\",\n",
    "        \"attrs\": {\n",
    "            \"dims\": 384,\n",
    "            \"distance_metric\": \"cosine\",\n",
    "            \"algorithm\": \"hnsw\",\n",
    "            \"datatype\": \"float32\"\n",
    "        }\n",
    "    }\n",
    "  ]\n",
    "})\n",
    "\n",
    "\n",
    "index = SearchIndex(schema, client)\n",
    "index.create(overwrite=True, drop=True)"
   ]
  },
  {
   "cell_type": "code",
   "execution_count": 9,
   "id": "ae814790",
   "metadata": {},
   "outputs": [
    {
     "data": {
      "text/plain": [
       "{'index_name': 'movies',\n",
       " 'index_options': [],\n",
       " 'index_definition': ['key_type',\n",
       "  'HASH',\n",
       "  'prefixes',\n",
       "  ['rvl'],\n",
       "  'default_score',\n",
       "  '1'],\n",
       " 'attributes': [['identifier',\n",
       "   'title',\n",
       "   'attribute',\n",
       "   'title',\n",
       "   'type',\n",
       "   'TEXT',\n",
       "   'WEIGHT',\n",
       "   '1'],\n",
       "  ['identifier',\n",
       "   'description',\n",
       "   'attribute',\n",
       "   'description',\n",
       "   'type',\n",
       "   'TEXT',\n",
       "   'WEIGHT',\n",
       "   '1'],\n",
       "  ['identifier',\n",
       "   'genre',\n",
       "   'attribute',\n",
       "   'genre',\n",
       "   'type',\n",
       "   'TAG',\n",
       "   'SEPARATOR',\n",
       "   ',',\n",
       "   'SORTABLE'],\n",
       "  ['identifier',\n",
       "   'rating',\n",
       "   'attribute',\n",
       "   'rating',\n",
       "   'type',\n",
       "   'NUMERIC',\n",
       "   'SORTABLE',\n",
       "   'UNF'],\n",
       "  ['identifier',\n",
       "   'vector',\n",
       "   'attribute',\n",
       "   'vector',\n",
       "   'type',\n",
       "   'VECTOR',\n",
       "   'algorithm',\n",
       "   'HNSW',\n",
       "   'data_type',\n",
       "   'FLOAT32',\n",
       "   'dim',\n",
       "   384,\n",
       "   'distance_metric',\n",
       "   'COSINE',\n",
       "   'M',\n",
       "   16,\n",
       "   'ef_construction',\n",
       "   200]],\n",
       " 'num_docs': '0',\n",
       " 'max_doc_id': '0',\n",
       " 'num_terms': '0',\n",
       " 'num_records': '0',\n",
       " 'inverted_sz_mb': '0',\n",
       " 'vector_index_sz_mb': '0.02034759521484375',\n",
       " 'total_inverted_index_blocks': '0',\n",
       " 'offset_vectors_sz_mb': '0',\n",
       " 'doc_table_size_mb': '0',\n",
       " 'sortable_values_size_mb': '0',\n",
       " 'key_table_size_mb': '0',\n",
       " 'geoshapes_sz_mb': '0',\n",
       " 'records_per_doc_avg': 'nan',\n",
       " 'bytes_per_record_avg': 'nan',\n",
       " 'offsets_per_term_avg': 'nan',\n",
       " 'offset_bits_per_record_avg': 'nan',\n",
       " 'hash_indexing_failures': '0',\n",
       " 'total_indexing_time': '0',\n",
       " 'indexing': '0',\n",
       " 'percent_indexed': '1',\n",
       " 'number_of_uses': 1,\n",
       " 'cleaning': 0,\n",
       " 'gc_stats': ['bytes_collected',\n",
       "  '0',\n",
       "  'total_ms_run',\n",
       "  '0',\n",
       "  'total_cycles',\n",
       "  '0',\n",
       "  'average_cycle_time_ms',\n",
       "  'nan',\n",
       "  'last_run_time_ms',\n",
       "  '0',\n",
       "  'gc_numeric_trees_missed',\n",
       "  '0',\n",
       "  'gc_blocks_denied',\n",
       "  '0'],\n",
       " 'cursor_stats': ['global_idle',\n",
       "  0,\n",
       "  'global_total',\n",
       "  0,\n",
       "  'index_capacity',\n",
       "  128,\n",
       "  'index_total',\n",
       "  0],\n",
       " 'dialect_stats': ['dialect_1',\n",
       "  0,\n",
       "  'dialect_2',\n",
       "  0,\n",
       "  'dialect_3',\n",
       "  0,\n",
       "  'dialect_4',\n",
       "  0],\n",
       " 'Index Errors': ['indexing failures',\n",
       "  0,\n",
       "  'last indexing error',\n",
       "  'N/A',\n",
       "  'last indexing error key',\n",
       "  'N/A'],\n",
       " 'field statistics': [['identifier',\n",
       "   'title',\n",
       "   'attribute',\n",
       "   'title',\n",
       "   'Index Errors',\n",
       "   ['indexing failures',\n",
       "    0,\n",
       "    'last indexing error',\n",
       "    'N/A',\n",
       "    'last indexing error key',\n",
       "    'N/A']],\n",
       "  ['identifier',\n",
       "   'description',\n",
       "   'attribute',\n",
       "   'description',\n",
       "   'Index Errors',\n",
       "   ['indexing failures',\n",
       "    0,\n",
       "    'last indexing error',\n",
       "    'N/A',\n",
       "    'last indexing error key',\n",
       "    'N/A']],\n",
       "  ['identifier',\n",
       "   'genre',\n",
       "   'attribute',\n",
       "   'genre',\n",
       "   'Index Errors',\n",
       "   ['indexing failures',\n",
       "    0,\n",
       "    'last indexing error',\n",
       "    'N/A',\n",
       "    'last indexing error key',\n",
       "    'N/A']],\n",
       "  ['identifier',\n",
       "   'rating',\n",
       "   'attribute',\n",
       "   'rating',\n",
       "   'Index Errors',\n",
       "   ['indexing failures',\n",
       "    0,\n",
       "    'last indexing error',\n",
       "    'N/A',\n",
       "    'last indexing error key',\n",
       "    'N/A']],\n",
       "  ['identifier',\n",
       "   'vector',\n",
       "   'attribute',\n",
       "   'vector',\n",
       "   'Index Errors',\n",
       "   ['indexing failures',\n",
       "    0,\n",
       "    'last indexing error',\n",
       "    'N/A',\n",
       "    'last indexing error key',\n",
       "    'N/A']]]}"
      ]
     },
     "execution_count": 9,
     "metadata": {},
     "output_type": "execute_result"
    }
   ],
   "source": [
    "index.info()"
   ]
  },
  {
   "cell_type": "markdown",
   "id": "24d3ea9c",
   "metadata": {},
   "source": [
    "## Populate index"
   ]
  },
  {
   "cell_type": "code",
   "execution_count": 10,
   "id": "169ebb93",
   "metadata": {},
   "outputs": [
    {
     "data": {
      "text/plain": [
       "['rvl:d26b2b6be33f405eb28f6a34188640da',\n",
       " 'rvl:45ada4f7810a4853bdd70cdd18522595',\n",
       " 'rvl:aa41661c636c4c2f8d05a5f2c869858c',\n",
       " 'rvl:fd9b27fb5e1c4f5eae98d56bed7e7181',\n",
       " 'rvl:2cdd72c4e63e4627bc041bbb55e86a6d',\n",
       " 'rvl:196a0596e1d54be99d327ec31e73996f',\n",
       " 'rvl:9fd9753803984b2397e2ecdc29c044ca',\n",
       " 'rvl:ec57dffdeec6427da6cfa8ff20c2949a',\n",
       " 'rvl:69f7f09d507542b582e65653a6833708',\n",
       " 'rvl:51b8e584839b42ab8070398bf7ef3924',\n",
       " 'rvl:ec01492dcd004a90b1b8675d563d3c67',\n",
       " 'rvl:31754d3ffbd7448b973731b2f4350796',\n",
       " 'rvl:0e6827ede4eb4f889131838cf2743430',\n",
       " 'rvl:8511fd326be64ef5bbdfb34ba2af7bc0',\n",
       " 'rvl:c78c650c72b54266840b16b62e1cc12d',\n",
       " 'rvl:a4c25db582c941f087239fd7d5337f2b',\n",
       " 'rvl:6e9e9b07cc874fa28f95694ecbc3bef1',\n",
       " 'rvl:fcde3ec4786f49e88ada59a934cb80bf',\n",
       " 'rvl:bc3725b3d9944f4b9159412e1970cec1',\n",
       " 'rvl:1fa9042adbe0444f969bd66c88f314af']"
      ]
     },
     "execution_count": 10,
     "metadata": {},
     "output_type": "execute_result"
    }
   ],
   "source": [
    "index.load(movie_data)"
   ]
  },
  {
   "cell_type": "markdown",
   "id": "87ba1dfd",
   "metadata": {},
   "source": [
    "## Index loaded now we can perform vector search\n",
    "\n",
    "### basic vector search"
   ]
  },
  {
   "cell_type": "code",
   "execution_count": 11,
   "id": "9454e60d",
   "metadata": {},
   "outputs": [
    {
     "data": {
      "text/plain": [
       "[{'id': 'rvl:aa41661c636c4c2f8d05a5f2c869858c',\n",
       "  'vector_distance': '0.685773313046',\n",
       "  'title': 'Fast & Furious 9',\n",
       "  'rating': '6',\n",
       "  'genre': 'action'},\n",
       " {'id': 'rvl:fcde3ec4786f49e88ada59a934cb80bf',\n",
       "  'vector_distance': '0.801603198051',\n",
       "  'title': 'Despicable Me',\n",
       "  'rating': '7',\n",
       "  'genre': 'comedy'},\n",
       " {'id': 'rvl:a4c25db582c941f087239fd7d5337f2b',\n",
       "  'vector_distance': '0.812342166901',\n",
       "  'title': 'The Incredibles',\n",
       "  'rating': '8',\n",
       "  'genre': 'comedy'}]"
      ]
     },
     "execution_count": 11,
     "metadata": {},
     "output_type": "execute_result"
    }
   ],
   "source": [
    "from redisvl.query import VectorQuery\n",
    "\n",
    "user_query = \"High tech movies\"\n",
    "\n",
    "embedded_user_query = embed_text(model, user_query)\n",
    "\n",
    "vec_query = VectorQuery(\n",
    "    vector=embedded_user_query,\n",
    "    vector_field_name=\"vector\",\n",
    "    num_results=3,\n",
    "    return_fields=[\"title\", \"rating\", \"genre\"],\n",
    "    return_score=True\n",
    ")\n",
    "\n",
    "index.query(vec_query)\n"
   ]
  },
  {
   "cell_type": "markdown",
   "id": "ef5e1997",
   "metadata": {},
   "source": [
    "### Hybrid filter vector search\n",
    "\n",
    "Redis allows you to combine filter searches on fields within the index object allowing us to create more specific searches."
   ]
  },
  {
   "cell_type": "code",
   "execution_count": 12,
   "id": "d499dcad",
   "metadata": {},
   "outputs": [
    {
     "data": {
      "text/plain": [
       "[{'id': 'rvl:aa41661c636c4c2f8d05a5f2c869858c',\n",
       "  'vector_distance': '0.685773313046',\n",
       "  'title': 'Fast & Furious 9',\n",
       "  'rating': '6',\n",
       "  'genre': 'action'},\n",
       " {'id': 'rvl:196a0596e1d54be99d327ec31e73996f',\n",
       "  'vector_distance': '0.820429563522',\n",
       "  'title': 'Mad Max: Fury Road',\n",
       "  'rating': '8',\n",
       "  'genre': 'action'},\n",
       " {'id': 'rvl:d26b2b6be33f405eb28f6a34188640da',\n",
       "  'vector_distance': '0.851705372334',\n",
       "  'title': 'Explosive Pursuit',\n",
       "  'rating': '7',\n",
       "  'genre': 'action'}]"
      ]
     },
     "execution_count": 12,
     "metadata": {},
     "output_type": "execute_result"
    }
   ],
   "source": [
    "# Search for top 3 movies specifically in the action genre\n",
    "\n",
    "from redisvl.query.filter import Tag\n",
    "\n",
    "user_query = \"High tech movies\"\n",
    "\n",
    "embedded_user_query = embed_text(model, user_query)\n",
    "\n",
    "vec_query = VectorQuery(\n",
    "    vector=embedded_user_query,\n",
    "    vector_field_name=\"vector\",\n",
    "    num_results=3,\n",
    "    return_fields=[\"title\", \"rating\", \"genre\"],\n",
    "    return_score=True\n",
    ")\n",
    "\n",
    "tag_filter = Tag(\"genre\") == \"action\"\n",
    "\n",
    "vec_query.set_filter(tag_filter)\n",
    "\n",
    "index.query(vec_query)"
   ]
  },
  {
   "cell_type": "code",
   "execution_count": 13,
   "id": "f59fff2c",
   "metadata": {},
   "outputs": [
    {
     "data": {
      "text/plain": [
       "[{'id': 'rvl:196a0596e1d54be99d327ec31e73996f',\n",
       "  'vector_distance': '0.820429563522',\n",
       "  'title': 'Mad Max: Fury Road',\n",
       "  'rating': '8',\n",
       "  'genre': 'action'},\n",
       " {'id': 'rvl:d26b2b6be33f405eb28f6a34188640da',\n",
       "  'vector_distance': '0.851705372334',\n",
       "  'title': 'Explosive Pursuit',\n",
       "  'rating': '7',\n",
       "  'genre': 'action'},\n",
       " {'id': 'rvl:51b8e584839b42ab8070398bf7ef3924',\n",
       "  'vector_distance': '0.856359839439',\n",
       "  'title': 'The Avengers',\n",
       "  'rating': '8',\n",
       "  'genre': 'action'}]"
      ]
     },
     "execution_count": 13,
     "metadata": {},
     "output_type": "execute_result"
    }
   ],
   "source": [
    "# Search for top 3 movies specifically in the action genre with ratings at or above a 7\n",
    "\n",
    "from redisvl.query.filter import Num\n",
    "\n",
    "user_query = \"High tech movies\"\n",
    "\n",
    "embedded_user_query = embed_text(model, user_query)\n",
    "\n",
    "tag_filter = Tag(\"genre\") == \"action\"\n",
    "num_filter = Num(\"rating\") >= 7\n",
    "combined_filter = tag_filter & num_filter\n",
    "\n",
    "vec_query = VectorQuery(\n",
    "    vector=embedded_user_query,\n",
    "    vector_field_name=\"vector\",\n",
    "    num_results=3,\n",
    "    return_fields=[\"title\", \"rating\", \"genre\"],\n",
    "    return_score=True,\n",
    "    filter_expression=combined_filter\n",
    ")\n",
    "\n",
    "index.query(vec_query)"
   ]
  },
  {
   "cell_type": "code",
   "execution_count": 14,
   "id": "7dab26c2",
   "metadata": {},
   "outputs": [
    {
     "data": {
      "text/plain": [
       "[{'id': 'rvl:fcde3ec4786f49e88ada59a934cb80bf',\n",
       "  'vector_distance': '0.801603198051',\n",
       "  'title': 'Despicable Me',\n",
       "  'rating': '7',\n",
       "  'genre': 'comedy',\n",
       "  'description': 'When a criminal mastermind uses a trio of orphan girls as pawns for a grand scheme, he finds their love is profoundly changing him for the better.'},\n",
       " {'id': 'rvl:9fd9753803984b2397e2ecdc29c044ca',\n",
       "  'vector_distance': '0.98234552145',\n",
       "  'title': 'The Dark Knight',\n",
       "  'rating': '9',\n",
       "  'genre': 'action',\n",
       "  'description': 'Batman faces off against the Joker, a criminal mastermind who threatens to plunge Gotham into chaos.'}]"
      ]
     },
     "execution_count": 14,
     "metadata": {},
     "output_type": "execute_result"
    }
   ],
   "source": [
    "# Search with full text search for movies that directly mention \"criminal mastermind\" in the description\n",
    "\n",
    "from redisvl.query.filter import Text\n",
    "\n",
    "user_query = \"High tech movies\"\n",
    "\n",
    "embedded_user_query = embed_text(model, user_query)\n",
    "\n",
    "vec_query = VectorQuery(\n",
    "    vector=embedded_user_query,\n",
    "    vector_field_name=\"vector\",\n",
    "    num_results=3,\n",
    "    return_fields=[\"title\", \"rating\", \"genre\", \"description\"],\n",
    "    return_score=True\n",
    ")\n",
    "\n",
    "text_filter = Text(\"description\") == \"criminal mastermind\"\n",
    "\n",
    "vec_query.set_filter(text_filter)\n",
    "\n",
    "index.query(vec_query)"
   ]
  },
  {
   "cell_type": "code",
   "execution_count": 15,
   "id": "e39e5e5c",
   "metadata": {},
   "outputs": [
    {
     "data": {
      "text/plain": [
       "[{'id': 'rvl:fcde3ec4786f49e88ada59a934cb80bf',\n",
       "  'vector_distance': '0.801603198051',\n",
       "  'title': 'Despicable Me',\n",
       "  'rating': '7',\n",
       "  'genre': 'comedy',\n",
       "  'description': 'When a criminal mastermind uses a trio of orphan girls as pawns for a grand scheme, he finds their love is profoundly changing him for the better.'},\n",
       " {'id': 'rvl:a4c25db582c941f087239fd7d5337f2b',\n",
       "  'vector_distance': '0.812342166901',\n",
       "  'title': 'The Incredibles',\n",
       "  'rating': '8',\n",
       "  'genre': 'comedy',\n",
       "  'description': \"A family of undercover superheroes, while trying to live the quiet suburban life, are forced into action to save the world. Bob Parr (Mr. Incredible) and his wife Helen (Elastigirl) were among the world's greatest crime fighters, but now they must assume civilian identities and retreat to the suburbs to live a 'normal' life with their three children. However, the family's desire to help the world pulls them back into action when they face a new and dangerous enemy.\"},\n",
       " {'id': 'rvl:d26b2b6be33f405eb28f6a34188640da',\n",
       "  'vector_distance': '0.851705372334',\n",
       "  'title': 'Explosive Pursuit',\n",
       "  'rating': '7',\n",
       "  'genre': 'action',\n",
       "  'description': 'A daring cop chases a notorious criminal across the city in a high-stakes game of cat and mouse.'}]"
      ]
     },
     "execution_count": 15,
     "metadata": {},
     "output_type": "execute_result"
    }
   ],
   "source": [
    "# Vector search with wildcard match\n",
    "\n",
    "from redisvl.query.filter import Text\n",
    "\n",
    "user_query = \"High tech movies\"\n",
    "\n",
    "embedded_user_query = embed_text(model, user_query)\n",
    "\n",
    "vec_query = VectorQuery(\n",
    "    vector=embedded_user_query,\n",
    "    vector_field_name=\"vector\",\n",
    "    num_results=3,\n",
    "    return_fields=[\"title\", \"rating\", \"genre\", \"description\"],\n",
    "    return_score=True\n",
    ")\n",
    "\n",
    "text_filter = Text(\"description\") % \"crim*\"\n",
    "\n",
    "vec_query.set_filter(text_filter)\n",
    "\n",
    "index.query(vec_query)"
   ]
  },
  {
   "cell_type": "code",
   "execution_count": 16,
   "id": "3450e07d",
   "metadata": {},
   "outputs": [
    {
     "data": {
      "text/plain": [
       "[{'id': 'rvl:51b8e584839b42ab8070398bf7ef3924',\n",
       "  'vector_distance': '0.737778306007',\n",
       "  'title': 'The Avengers',\n",
       "  'rating': '8',\n",
       "  'genre': 'action',\n",
       "  'description': \"Earth's mightiest heroes come together to stop an alien invasion that threatens the entire planet.\"},\n",
       " {'id': 'rvl:fd9b27fb5e1c4f5eae98d56bed7e7181',\n",
       "  'vector_distance': '0.768839836121',\n",
       "  'title': 'Black Widow',\n",
       "  'rating': '7',\n",
       "  'genre': 'action',\n",
       "  'description': 'Natasha Romanoff confronts her dark past and family ties as she battles a new enemy.'},\n",
       " {'id': 'rvl:1fa9042adbe0444f969bd66c88f314af',\n",
       "  'vector_distance': '0.897787868977',\n",
       "  'title': 'The Princess Diaries',\n",
       "  'rating': '6',\n",
       "  'genre': 'comedy',\n",
       "  'description': 'Mia Thermopolis has just found out that she is the heir apparent to the throne of Genovia. With her friends Lilly and Michael Moscovitz in tow, she tries to navigate through the rest of her sixteenth year.'}]"
      ]
     },
     "execution_count": 16,
     "metadata": {},
     "output_type": "execute_result"
    }
   ],
   "source": [
    "# Vector search with fuzzy match filter\n",
    "\n",
    "from redisvl.query.filter import Text\n",
    "\n",
    "user_query = \"Movies with central main character\"\n",
    "\n",
    "embedded_user_query = embed_text(model, user_query)\n",
    "\n",
    "vec_query = VectorQuery(\n",
    "    vector=embedded_user_query,\n",
    "    vector_field_name=\"vector\",\n",
    "    num_results=3,\n",
    "    return_fields=[\"title\", \"rating\", \"genre\", \"description\"],\n",
    "    return_score=True\n",
    ")\n",
    "\n",
    "# Note: fuzzy match is based on Levenshtein distance. Therefore, \"hero\" might return result for \"her\" as an example.\n",
    "# See docs for more info https://redis.io/docs/latest/develop/interact/search-and-query/advanced-concepts/query_syntax/\n",
    "text_filter = Text(\"description\") % \"%hero%\"\n",
    "\n",
    "vec_query.set_filter(text_filter)\n",
    "\n",
    "index.query(vec_query)"
   ]
  },
  {
   "cell_type": "markdown",
   "id": "6bd27cb3",
   "metadata": {},
   "source": [
    "## Range queries\n",
    "\n",
    "Range queries allow you to set a pre defined \"threshold\" for which we want to return documents. This is helpful when you only want documents with a certain distance from the search query."
   ]
  },
  {
   "cell_type": "code",
   "execution_count": 17,
   "id": "cafe1795",
   "metadata": {},
   "outputs": [
    {
     "data": {
      "text/plain": [
       "[{'id': 'rvl:a4c25db582c941f087239fd7d5337f2b',\n",
       "  'vector_distance': '0.644702553749',\n",
       "  'title': 'The Incredibles',\n",
       "  'rating': '8',\n",
       "  'genre': 'comedy'},\n",
       " {'id': 'rvl:fd9b27fb5e1c4f5eae98d56bed7e7181',\n",
       "  'vector_distance': '0.747987031937',\n",
       "  'title': 'Black Widow',\n",
       "  'rating': '7',\n",
       "  'genre': 'action'},\n",
       " {'id': 'rvl:fcde3ec4786f49e88ada59a934cb80bf',\n",
       "  'vector_distance': '0.750915408134',\n",
       "  'title': 'Despicable Me',\n",
       "  'rating': '7',\n",
       "  'genre': 'comedy'},\n",
       " {'id': 'rvl:c78c650c72b54266840b16b62e1cc12d',\n",
       "  'vector_distance': '0.751298904419',\n",
       "  'title': 'Shrek',\n",
       "  'rating': '8',\n",
       "  'genre': 'comedy'},\n",
       " {'id': 'rvl:6e9e9b07cc874fa28f95694ecbc3bef1',\n",
       "  'vector_distance': '0.761669456959',\n",
       "  'title': 'Monsters, Inc.',\n",
       "  'rating': '8',\n",
       "  'genre': 'comedy'},\n",
       " {'id': 'rvl:0e6827ede4eb4f889131838cf2743430',\n",
       "  'vector_distance': '0.778580009937',\n",
       "  'title': 'Aladdin',\n",
       "  'rating': '8',\n",
       "  'genre': 'comedy'}]"
      ]
     },
     "execution_count": 17,
     "metadata": {},
     "output_type": "execute_result"
    }
   ],
   "source": [
    "from redisvl.query import RangeQuery\n",
    "\n",
    "user_query = \"Family friendly fantasy movies\"\n",
    "\n",
    "embedded_user_query = embed_text(model, user_query)\n",
    "\n",
    "range_query = RangeQuery(\n",
    "    vector=embedded_user_query,\n",
    "    vector_field_name=\"vector\",\n",
    "    return_fields=[\"title\", \"rating\", \"genre\"],\n",
    "    return_score=True,\n",
    "    distance_threshold=0.8  # find all items with a semantic distance of less than 0.8\n",
    ")\n",
    "\n",
    "index.query(range_query)\n"
   ]
  },
  {
   "cell_type": "markdown",
   "id": "a1586ea7",
   "metadata": {},
   "source": [
    "Like the queries above, we can also chain additional filters and conditional operators with range queries. The following adds an `and` condition that returns vector search within the defined range and with a rating at or above 8."
   ]
  },
  {
   "cell_type": "code",
   "execution_count": 18,
   "id": "d3110324",
   "metadata": {},
   "outputs": [
    {
     "data": {
      "text/plain": [
       "[{'id': 'rvl:a4c25db582c941f087239fd7d5337f2b',\n",
       "  'vector_distance': '0.644702553749',\n",
       "  'title': 'The Incredibles',\n",
       "  'rating': '8',\n",
       "  'genre': 'comedy'},\n",
       " {'id': 'rvl:c78c650c72b54266840b16b62e1cc12d',\n",
       "  'vector_distance': '0.751298904419',\n",
       "  'title': 'Shrek',\n",
       "  'rating': '8',\n",
       "  'genre': 'comedy'},\n",
       " {'id': 'rvl:6e9e9b07cc874fa28f95694ecbc3bef1',\n",
       "  'vector_distance': '0.761669456959',\n",
       "  'title': 'Monsters, Inc.',\n",
       "  'rating': '8',\n",
       "  'genre': 'comedy'},\n",
       " {'id': 'rvl:0e6827ede4eb4f889131838cf2743430',\n",
       "  'vector_distance': '0.778580009937',\n",
       "  'title': 'Aladdin',\n",
       "  'rating': '8',\n",
       "  'genre': 'comedy'}]"
      ]
     },
     "execution_count": 18,
     "metadata": {},
     "output_type": "execute_result"
    }
   ],
   "source": [
    "user_query = \"Family friendly fantasy movies\"\n",
    "\n",
    "embedded_user_query = embed_text(model, user_query)\n",
    "\n",
    "range_query = RangeQuery(\n",
    "    vector=embedded_user_query,\n",
    "    vector_field_name=\"vector\",\n",
    "    return_fields=[\"title\", \"rating\", \"genre\"],\n",
    "    distance_threshold=0.8  # find all items with a semantic distance of less than 0.7\n",
    ")\n",
    "\n",
    "numeric_filter = Num(\"rating\") >= 8\n",
    "\n",
    "range_query.set_filter(numeric_filter)\n",
    "\n",
    "# in this case we want to do a simple filter search or the vector so we execute as a joint filter directly\n",
    "res = index.query(range_query)\n",
    "\n",
    "res\n"
   ]
  },
  {
   "cell_type": "markdown",
   "id": "5fa7cdfb",
   "metadata": {},
   "source": [
    "### Next steps\n",
    "\n",
    "For more query examples with redisvl: [see here](https://github.com/redis/redis-vl-python/blob/main/docs/user_guide/hybrid_queries_02.ipynb)"
   ]
  },
  {
   "cell_type": "code",
   "execution_count": 19,
   "id": "915c2cef",
   "metadata": {},
   "outputs": [
    {
     "data": {
      "text/plain": [
       "True"
      ]
     },
     "execution_count": 19,
     "metadata": {},
     "output_type": "execute_result"
    }
   ],
   "source": [
    "# clean up!\n",
    "client.flushall()"
   ]
  }
 ],
 "metadata": {
  "kernelspec": {
   "display_name": "Python 3 (ipykernel)",
   "language": "python",
   "name": "python3"
  },
  "language_info": {
   "codemirror_mode": {
    "name": "ipython",
    "version": 3
   },
   "file_extension": ".py",
   "mimetype": "text/x-python",
   "name": "python",
   "nbconvert_exporter": "python",
   "pygments_lexer": "ipython3",
   "version": "3.11.9"
  }
 },
 "nbformat": 4,
 "nbformat_minor": 5
}
