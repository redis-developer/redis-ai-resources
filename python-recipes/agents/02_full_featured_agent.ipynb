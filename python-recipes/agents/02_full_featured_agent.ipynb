{
  "cells": [
    {
      "cell_type": "markdown",
      "metadata": {
        "id": "qYvD2zzKobTC"
      },
      "source": [
        "![Redis](https://redis.io/wp-content/uploads/2024/04/Logotype.svg?auto=webp&quality=85,75&width=120)\n",
        "\n",
        "# Full-Featured Agent Architecture\n",
        "The following example demonstrates how to build a tool-enabled agentic workflow with a semantic cache and an allow/block list router. This approach helps reduce latency and costs in the final solution.\n",
        "\n",
        "Note: This notebook summarizes this [this workshop](https://github.com/redis-developer/oregon-trail-agent-workshop). For a more detailed step-by-step walkthrough of each element, please refer to the repository.\n",
        "\n",
        "## Let's Begin!\n",
        "<a href=\"https://colab.research.google.com/github/redis-developer/redis-ai-resources/blob/main/python-recipes/agents/02_full_featured_agent.ipynb\" target=\"_parent\"><img src=\"https://colab.research.google.com/assets/colab-badge.svg\" alt=\"Open In Colab\"/></a>"
      ]
    },
    {
      "cell_type": "markdown",
      "metadata": {
        "id": "NTFxCojYECnx"
      },
      "source": [
        "# Setup\n",
        "\n",
        "## Packages"
      ]
    },
    {
      "cell_type": "code",
      "execution_count": null,
      "metadata": {
        "id": "Zz62U5COgF21"
      },
      "outputs": [],
      "source": [
        "%pip install -q --upgrade --force-reinstall langchain langchain-openai \"langchain-redis>=0.2.0\" \"langgraph>0.3.1\" sentence-transformers"
      ]
    },
    {
      "cell_type": "markdown",
      "metadata": {},
      "source": [
        "### OPEN_AI_API key\n",
        "\n",
        "A open_ai_api key with billing information enabled is required for this lesson."
      ]
    },
    {
      "cell_type": "code",
      "execution_count": 2,
      "metadata": {
        "colab": {
          "base_uri": "https://localhost:8080/"
        },
        "id": "VO0i-1c9m2Kb",
        "outputId": "ec942dbf-226a-426d-8964-e03831e0dd99"
      },
      "outputs": [
        {
          "name": "stdout",
          "output_type": "stream",
          "text": [
            "OPENAI_API_KEY:··········\n"
          ]
        }
      ],
      "source": [
        "# NBVAL_SKIP\n",
        "import os\n",
        "import getpass\n",
        "\n",
        "\n",
        "\n",
        "def _set_env(key: str):\n",
        "    if key not in os.environ:\n",
        "        os.environ[key] = getpass.getpass(f\"{key}:\")\n",
        "\n",
        "\n",
        "_set_env(\"OPENAI_API_KEY\")"
      ]
    },
    {
      "cell_type": "markdown",
      "metadata": {
        "id": "Po4K08Uoa5HJ"
      },
      "source": [
        "## Redis instance\n",
        "\n",
        "### For colab"
      ]
    },
    {
      "cell_type": "code",
      "execution_count": 3,
      "metadata": {
        "colab": {
          "base_uri": "https://localhost:8080/"
        },
        "id": "vlF2874ZoBWu",
        "outputId": "e5e7ebc0-b70c-4682-d70c-b33c584e72d4"
      },
      "outputs": [
        {
          "name": "stdout",
          "output_type": "stream",
          "text": [
            "deb [signed-by=/usr/share/keyrings/redis-archive-keyring.gpg] https://packages.redis.io/deb jammy main\n",
            "Starting redis-stack-server, database path /var/lib/redis-stack\n"
          ]
        },
        {
          "name": "stderr",
          "output_type": "stream",
          "text": [
            "gpg: cannot open '/dev/tty': No such device or address\n",
            "curl: (23) Failed writing body\n"
          ]
        }
      ],
      "source": [
        "# NBVAL_SKIP\n",
        "%%sh\n",
        "curl -fsSL https://packages.redis.io/gpg | sudo gpg --dearmor -o /usr/share/keyrings/redis-archive-keyring.gpg\n",
        "echo \"deb [signed-by=/usr/share/keyrings/redis-archive-keyring.gpg] https://packages.redis.io/deb $(lsb_release -cs) main\" | sudo tee /etc/apt/sources.list.d/redis.list\n",
        "sudo apt-get update  > /dev/null 2>&1\n",
        "sudo apt-get install redis-stack-server  > /dev/null 2>&1\n",
        "redis-stack-server --daemonize yes"
      ]
    },
    {
      "cell_type": "markdown",
      "metadata": {},
      "source": [
        "#### For Alternative Environments\n",
        "There are many ways to get the necessary redis-stack instance running\n",
        "1. On cloud, deploy a [FREE instance of Redis in the cloud](https://redis.com/try-free/). Or, if you have your\n",
        "own version of Redis Enterprise running, that works too!\n",
        "2. Per OS, [see the docs](https://redis.io/docs/latest/operate/oss_and_stack/install/install-stack/)\n",
        "3. With docker: `docker run -d --name redis-stack-server -p 6379:6379 redis/redis-stack-server:latest`\n",
        "\n",
        "## Test connection"
      ]
    },
    {
      "cell_type": "code",
      "execution_count": 3,
      "metadata": {
        "colab": {
          "base_uri": "https://localhost:8080/"
        },
        "id": "My-zol_loQaw",
        "outputId": "b58c2466-ee10-480c-ad4c-608cbf747e8b"
      },
      "outputs": [
        {
          "data": {
            "text/plain": [
              "True"
            ]
          },
          "execution_count": 3,
          "metadata": {},
          "output_type": "execute_result"
        }
      ],
      "source": [
        "import os\n",
        "from redis import Redis\n",
        "\n",
        "# Use the environment variable if set, otherwise default to localhost\n",
        "REDIS_URL = os.getenv(\"REDIS_URL\", \"redis://localhost:6379\")\n",
        "\n",
        "client = Redis.from_url(REDIS_URL)\n",
        "client.ping()"
      ]
    },
    {
      "cell_type": "markdown",
      "metadata": {
        "id": "p8lqllwDoV_K"
      },
      "source": [
        "# Motivation\n",
        "\n",
        "The goal of the workshop is to create an agent workflow that can handle five Oregon Trail-themed scenarios, mimicking situations that often arise when implementing agent workflows in practice.\n",
        "\n",
        "## Scenario 1 - name of the wagon leader\n",
        "\n",
        "**Learning goal:** Test basic LangGraph setup and execution. <br>\n",
        "\n",
        "**Question:** `What is the first name of the wagon leader?` <br>\n",
        "**Answer:** `Art` <br>\n",
        "**Type:** `free-form` <br>\n",
        "\n",
        "## Scenario 2 - restocking tool\n",
        "\n",
        "**Learning goal:** Agent interaction with custom defined tool and **structured output** for multiple choice questions. <br>\n",
        "\n",
        "**Question:** `In order to survive the trail ahead, you'll need to have a restocking strategy for when you need to get more supplies or risk starving. If it takes you an estimated 3 days to restock your food and you plan to start with 200lbs of food, budget 10lbs/day to eat, and keep a safety stock of at least 50lbs of back up... at what point should you restock?` <br>\n",
        "**Answer:** `D` <br>\n",
        "**Options:** `[\"A: 100lbs\", \"B: 20lbs\", \"C: 5lbs\", \"D: 80lbs\"]` <br>\n",
        "**Type:** `multi-choice` <br>\n",
        "\n",
        "## Scenario 3 - retrieval tool\n",
        "\n",
        "**Learning goal:** Agent implements Retrieval Augmented Generation.\n",
        "\n",
        "**Question:** `You’ve encountered a dense forest near the Blue Mountains, and your party is unsure how to proceed. There is a fork in the road, and you must choose a path. Which way will you go?` <br>\n",
        "**Answer:** `B` <br>\n",
        "**Options:** `[\"A: take the northern trail\", \"B: take the southern trail\", \"C: turn around\", \"D: go fishing\"]` <br>\n",
        "**Type:** `multi-choice` <br>\n",
        "\n",
        "## Scenario 4 - semantic cache\n",
        "\n",
        "**Learning goal:** Implement semantic cache that bypasses expensive agent workflow for known answer. <br>\n",
        "\n",
        "**Question:** `There's a deer. You're hungry. You know what you have to do...` <br>\n",
        "**Answer:** `bang` <br>\n",
        "**Type:** `free-form` <br>\n",
        "\n",
        "## Scenario 5 - allow/block list with router\n",
        "\n",
        "**Learning goal:** Implement semantic router that blocks requests for non-related topics.\n",
        "\n",
        "**Question:** `Tell me about the S&P 500?` <br>\n",
        "**Answer:** `you shall not pass` <br>\n",
        "**Type:** `free-form` <br>\n",
        "\n",
        "\n",
        "\n",
        "# Final Architecture\n",
        "\n",
        "In the end, we are building a workflow like the following:\n",
        "\n",
        "![diagram](../../assets/full_featured_agent.png)\n",
        "\n",
        "As a reminder for more detail see: [Redis Developer Oregon Trail Agent Workshop](https://github.com/redis-developer/oregon-trail-agent-workshop).\n",
        "\n",
        "# Defining the agent with LangGraph\n",
        "\n",
        "## Tools\n",
        "\n",
        "Tools are functions that the central LLM powered \"agent\" can determine to invoke depending on the situation.\n",
        "\n",
        "### Restock tool\n",
        "\n",
        "The first tool we will define implements the restocking formula. LLMs are designed to predict text responses, not to perform deterministic math. In this case, the agent will act as a parser, extracting the necessary information from the human query and calling the tool with the appropriate schema.\n",
        "\n",
        "One of the advantages of `LangGraph` is that the schema for the tool can be defined as a `pydantic` model. Note: It is also essential to include a well-written `doc_string` with the tool function so the agent can determine the appropriate situation to use the tool."
      ]
    },
    {
      "cell_type": "code",
      "execution_count": 5,
      "metadata": {},
      "outputs": [],
      "source": [
        "from langchain_core.tools import tool\n",
        "from pydantic import BaseModel, Field\n",
        "\n",
        "class RestockInput(BaseModel):\n",
        "    daily_usage: int = Field(\n",
        "        description=\"Pounds (lbs) of food expected to be consumed daily\"\n",
        "    )\n",
        "    lead_time: int = Field(description=\"Lead time to replace food in days\")\n",
        "    safety_stock: int = Field(\n",
        "        description=\"Number of pounds (lbs) of safety stock to keep on hand\"\n",
        "    )\n",
        "\n",
        "\n",
        "@tool(\"restock-tool\", args_schema=RestockInput)\n",
        "def restock_tool(daily_usage: int, lead_time: int, safety_stock: int) -> int:\n",
        "    \"\"\"restock formula tool used specifically for calculating the amount of food at which you should start restocking.\"\"\"\n",
        "    print(f\"\\n Called restock tool: {daily_usage=}, {lead_time=}, {safety_stock=} \\n\")\n",
        "    return (daily_usage * lead_time) + safety_stock"
      ]
    },
    {
      "cell_type": "markdown",
      "metadata": {},
      "source": [
        "## Retriever tool\n",
        "\n",
        "Sometimes an LLM might need access to data that it was not trained on, whether because the data is proprietary, time-sensitive, or otherwise unavailable.\n",
        "\n",
        "In such cases, Retrieval-Augmented Generation (RAG) is often necessary. Here, a vector search is used to augment the final LLM prompt with helpful and necessary context.\n",
        "\n",
        "RAG and agents are not mutually exclusive. Below, we define a retriever tool that performs RAG whenever the agent determines it is necessary."
      ]
    },
    {
      "cell_type": "code",
      "execution_count": 6,
      "metadata": {},
      "outputs": [
        {
          "name": "stdout",
          "output_type": "stream",
          "text": [
            "09:04:55 redisvl.index.index INFO   Index already exists, not overwriting.\n"
          ]
        }
      ],
      "source": [
        "\n",
        "from langchain.tools.retriever import create_retriever_tool\n",
        "\n",
        "from langchain_redis import RedisConfig, RedisVectorStore\n",
        "from langchain_core.documents import Document\n",
        "from langchain_openai import OpenAIEmbeddings\n",
        "\n",
        "## Helper methods\n",
        "\n",
        "INDEX_NAME = os.environ.get(\"VECTOR_INDEX_NAME\", \"oregon_trail\")\n",
        "REDIS_URL = os.environ.get(\"REDIS_URL\", \"redis://localhost:6379/0\")\n",
        "CONFIG = RedisConfig(index_name=INDEX_NAME, redis_url=REDIS_URL)\n",
        "\n",
        "def get_vector_store():\n",
        "    try:\n",
        "        CONFIG.from_existing = True\n",
        "        vector_store = RedisVectorStore(OpenAIEmbeddings(), config=CONFIG)\n",
        "    except:\n",
        "        print(\"Init vector store with document\")\n",
        "        CONFIG.from_existing = False\n",
        "        vector_store = RedisVectorStore.from_documents(\n",
        "            [doc], OpenAIEmbeddings(), config=CONFIG\n",
        "        )\n",
        "    return vector_store\n",
        "\n",
        "## Relevant data\n",
        "\n",
        "doc = Document(\n",
        "    page_content=\"the northern trail, of the blue mountains, was destroyed by a flood and is no longer safe to traverse. It is recommended to take the southern trail although it is longer.\"\n",
        ")\n",
        "\n",
        "## Retriever tool\n",
        "vector_store = get_vector_store()\n",
        "\n",
        "retriever_tool = create_retriever_tool(\n",
        "    vector_store.as_retriever(),\n",
        "    \"get_directions\",\n",
        "    \"Search and return information related to which routes/paths/trails to take along your journey.\",\n",
        ")\n",
        "\n",
        "## Store both tools in a list\n",
        "tools = [retriever_tool, restock_tool]"
      ]
    },
    {
      "cell_type": "markdown",
      "metadata": {},
      "source": [
        "# State\n",
        "\n",
        "State is the set of messages that is passed between nodes in our graph so that the proceeding node knows what happened at the last node and so on. In this case, our state will extend the normal `MessageState` but also add a custom field for `multi_choice_responses`. "
      ]
    },
    {
      "cell_type": "code",
      "execution_count": 7,
      "metadata": {},
      "outputs": [],
      "source": [
        "from typing import Literal\n",
        "\n",
        "from langgraph.graph import MessagesState\n",
        "from pydantic import BaseModel, Field\n",
        "\n",
        "\n",
        "class MultipleChoiceResponse(BaseModel):\n",
        "    multiple_choice_response: Literal[\"A\", \"B\", \"C\", \"D\"] = Field(\n",
        "        description=\"Single character response to the question for multiple choice questions. Must be either A, B, C, or D.\"\n",
        "    )\n",
        "\n",
        "\n",
        "class AgentState(MessagesState):\n",
        "    multi_choice_response: MultipleChoiceResponse\n"
      ]
    },
    {
      "cell_type": "markdown",
      "metadata": {},
      "source": [
        "# Nodes\n",
        "\n",
        "Nodes are steps in the process flow of our agent where functions can be invoked."
      ]
    },
    {
      "cell_type": "code",
      "execution_count": 25,
      "metadata": {},
      "outputs": [],
      "source": [
        "from functools import lru_cache\n",
        "\n",
        "from langchain_core.messages import HumanMessage\n",
        "from langchain_openai import ChatOpenAI\n",
        "from langgraph.prebuilt import ToolNode\n",
        "\n",
        "\n",
        "## Function definitions that invoke an LLM model\n",
        "\n",
        "### with tools\n",
        "@lru_cache(maxsize=4)\n",
        "def _get_tool_model(model_name: str):\n",
        "    if model_name == \"openai\":\n",
        "        model = ChatOpenAI(temperature=0, model_name=\"gpt-4o\")\n",
        "    else:\n",
        "        raise ValueError(f\"Unsupported model type: {model_name}\")\n",
        "\n",
        "    model = model.bind_tools(tools)\n",
        "    return model\n",
        "\n",
        "### with structured output\n",
        "@lru_cache(maxsize=4)\n",
        "def _get_response_model(model_name: str):\n",
        "    if model_name == \"openai\":\n",
        "        model = ChatOpenAI(temperature=0, model_name=\"gpt-4o\")\n",
        "    else:\n",
        "        raise ValueError(f\"Unsupported model type: {model_name}\")\n",
        "\n",
        "    model = model.with_structured_output(MultipleChoiceResponse)\n",
        "    return model\n",
        "\n",
        "### Functions for responding to a multiple choice question\n",
        "def multi_choice_structured(state: AgentState, config):\n",
        "    # We call the model with structured output in order to return the same format to the user every time\n",
        "    # state['messages'][-2] is the last ToolMessage in the convo, which we convert to a HumanMessage for the model to use\n",
        "    # We could also pass the entire chat history, but this saves tokens since all we care to structure is the output of the tool\n",
        "    model_name = config.get(\"configurable\", {}).get(\"model_name\", \"openai\")\n",
        "\n",
        "    print(\"Called multi choice structured\")\n",
        "\n",
        "    response = _get_response_model(model_name).invoke(\n",
        "        [\n",
        "            HumanMessage(content=state[\"messages\"][0].content),\n",
        "            HumanMessage(content=f\"Answer from tool: {state['messages'][-2].content}\"),\n",
        "        ]\n",
        "    )\n",
        "    # We return the final answer\n",
        "    return {\n",
        "        \"multi_choice_response\": response.multiple_choice_response,\n",
        "    }\n",
        "\n",
        "\n",
        "# Function for conditional edge\n",
        "def is_multi_choice(state: AgentState):\n",
        "    return \"options:\" in state[\"messages\"][0].content.lower()\n",
        "\n",
        "\n",
        "def structure_response(state: AgentState, config):\n",
        "    if is_multi_choice(state):\n",
        "        return multi_choice_structured(state, config)\n",
        "    else:\n",
        "        # if not multi-choice don't need to do anything\n",
        "        return {\"messages\": []}\n",
        "\n",
        "\n",
        "system_prompt = \"\"\"\n",
        "    You are an oregon trail playing tool calling AI agent. Use the tools available to you to answer the question you are presented. When in doubt use the tools to help you find the answer.\n",
        "    If anyone asks your first name is Art return just that string.\n",
        "\"\"\"\n",
        "\n",
        "\n",
        "# Define the function that calls the model\n",
        "def call_tool_model(state: AgentState, config):\n",
        "    # Combine system prompt with incoming messages\n",
        "    messages = [{\"role\": \"system\", \"content\": system_prompt}] + state[\"messages\"]\n",
        "\n",
        "    # Get from LangGraph config\n",
        "    model_name = config.get(\"configurable\", {}).get(\"model_name\", \"openai\")\n",
        "\n",
        "    # Get our model that binds our tools\n",
        "    model = _get_tool_model(model_name)\n",
        "\n",
        "    # invoke the central agent/reasoner with the context of the graph\n",
        "    response = model.invoke(messages)\n",
        "\n",
        "    # We return a list, because this will get added to the existing list\n",
        "    return {\"messages\": [response]}\n",
        "\n",
        "\n",
        "# Define the function to execute tools\n",
        "tool_node = ToolNode(tools)\n"
      ]
    },
    {
      "cell_type": "markdown",
      "metadata": {},
      "source": [
        "# Graph\n",
        "\n",
        "The graph composes the tools and nodes into a compilable workflow that can be invoked."
      ]
    },
    {
      "cell_type": "code",
      "execution_count": 28,
      "metadata": {},
      "outputs": [],
      "source": [
        "from typing import Literal, TypedDict\n",
        "from langgraph.graph import END, StateGraph\n",
        "\n",
        "\n",
        "# Define the config\n",
        "class GraphConfig(TypedDict):\n",
        "    model_name: Literal[\"anthropic\", \"openai\"]\n",
        "\n",
        "# Define the function that determines whether to continue or not\n",
        "def should_continue(state: AgentState):\n",
        "    messages = state[\"messages\"]\n",
        "    last_message = messages[-1]\n",
        "    # If there is no function call, then we respond to the user\n",
        "    if not last_message.tool_calls:\n",
        "        return \"structure_response\"\n",
        "    # Otherwise if there is, we continue\n",
        "    else:\n",
        "        return \"continue\"\n",
        "\n",
        "\n",
        "# Define a new graph\n",
        "workflow = StateGraph(AgentState, config_schema=GraphConfig)\n",
        "\n",
        "# Add nodes\n",
        "workflow.add_node(\"agent\", call_tool_model)\n",
        "workflow.add_node(\"tools\", tool_node)\n",
        "workflow.add_node(\"structure_response\", structure_response)\n",
        "\n",
        "# Set the entrypoint\n",
        "workflow.set_entry_point(\"agent\")\n",
        "\n",
        "# add conditional edge between agent and tools\n",
        "workflow.add_conditional_edges(\n",
        "    \"agent\",\n",
        "    should_continue,\n",
        "    {\"continue\": \"tools\", \"structure_response\": \"structure_response\"},\n",
        ")\n",
        "\n",
        "\n",
        "# We now add a normal edge from `tools` to `agent`.\n",
        "workflow.add_edge(\"tools\", \"agent\")\n",
        "workflow.add_edge(\"structure_response\", END)\n",
        "\n",
        "\n",
        "# This compiles it into a LangChain Runnable,\n",
        "# meaning you can use it as you would any other runnable\n",
        "graph = workflow.compile()\n"
      ]
    },
    {
      "cell_type": "markdown",
      "metadata": {},
      "source": [
        "# Evaluate graph structure\n",
        "\n",
        "When we invoke the graph, it follows four primary steps:  \n",
        "\n",
        "1. **Evaluate Conditional Edge**: The graph evaluates the conditional edge between tools and the agent via the `should_continue` function. This determines whether it should `continue` and call a tool or move to `structure_response` to format the output for the user.  \n",
        "2. **Invoke Tools**: If it decides to invoke the tools, the response from the tool is appended as a message to the state and passed back to the agent.  \n",
        "3. **Determine Next Step**: If tools have already been called or are deemed unnecessary, the graph moves to the `structure_response` node.  \n",
        "4. **Handle Multiple-Choice Questions**: If the question is identified as a **multiple-choice question** within the `structure_response` node, a model is invoked to ensure the response is returned as a literal `A, B, C, or D`, as expected by the game. Otherwise, it simply proceeds forward.  "
      ]
    },
    {
      "cell_type": "code",
      "execution_count": 29,
      "metadata": {},
      "outputs": [
        {
          "data": {
            "image/png": "[encoded data removed]",
            "text/plain": [
              "<IPython.core.display.Image object>"
            ]
          },
          "metadata": {},
          "output_type": "display_data"
        }
      ],
      "source": [
        "from IPython.display import Image, display\n",
        "\n",
        "display(Image(graph.get_graph(xray=True).draw_mermaid_png()))"
      ]
    },
    {
      "cell_type": "markdown",
      "metadata": {},
      "source": [
        "# Run scenarios\n",
        "\n",
        "Note: LLMs are fundamentally probabilistic so wrong answers are possible even if implemented correctly.\n",
        "\n",
        "## Scenario 1 - name of wagon leader\n",
        "\n",
        "This test confirms that our graph has been setup correctly and can handle a case where tools don't need to be invoked."
      ]
    },
    {
      "cell_type": "code",
      "execution_count": 32,
      "metadata": {},
      "outputs": [
        {
          "name": "stdout",
          "output_type": "stream",
          "text": [
            "\n",
            " Question: What is the first name of the wagon leader? \n",
            "\n",
            "\n",
            " Agent response: Art\n",
            "\n"
          ]
        }
      ],
      "source": [
        "scenario = {\n",
        "    \"question\": \"What is the first name of the wagon leader?\",\n",
        "    \"answer\": \"Art\",\n",
        "    \"type\": \"free-form\",\n",
        "}\n",
        "\n",
        "print(f\"\\n Question: {scenario['question']} \\n\")\n",
        "\n",
        "res = graph.invoke({\"messages\": scenario[\"question\"]})\n",
        "\n",
        "print(f\"\\n Agent response: {res['messages'][-1].content}\\n\")\n",
        "\n",
        "assert res[\"messages\"][-1].content == scenario[\"answer\"]"
      ]
    },
    {
      "cell_type": "markdown",
      "metadata": {},
      "source": [
        "## Scenario 2 - restocking tool\n",
        "\n",
        "In this test we want to see the agent choose the restocking tool and choose to use the multiple choice output."
      ]
    },
    {
      "cell_type": "code",
      "execution_count": 34,
      "metadata": {},
      "outputs": [
        {
          "name": "stdout",
          "output_type": "stream",
          "text": [
            "\n",
            " Question: In order to survive the trail ahead, you'll need to have a restocking strategy for when you need to get more supplies or risk starving. If it takes you an estimated 3 days to restock your food and you plan to start with 200lbs of food, budget 10lbs/day to eat, and keep a safety stock of at least 50lbs of back up... at what point should you restock? \n",
            "\n",
            "\n",
            " Using restock tool!: daily_usage=10, lead_time=3, safety_stock=50 \n",
            "\n",
            "Called multi choice structured\n",
            "\n",
            " Agent response: D\n"
          ]
        }
      ],
      "source": [
        "# helper function for multi-choice questions\n",
        "def format_multi_choice_question(q):\n",
        "    question = q[\"question\"]\n",
        "    options = q.get(\"options\", \"\")\n",
        "    formatted = f\"{question}, options: {' '.join(options)}\"\n",
        "    return [HumanMessage(content=formatted)]\n",
        "\n",
        "scenario = {\n",
        "        \"question\": \"In order to survive the trail ahead, you'll need to have a restocking strategy for when you need to get more supplies or risk starving. If it takes you an estimated 3 days to restock your food and you plan to start with 200lbs of food, budget 10lbs/day to eat, and keep a safety stock of at least 50lbs of back up... at what point should you restock?\",\n",
        "        \"answer\": \"D\",\n",
        "        \"options\": [\"A: 100lbs\", \"B: 20lbs\", \"C: 5lbs\", \"D: 80lbs\"],\n",
        "        \"type\": \"multi-choice\",\n",
        "    }\n",
        "\n",
        "print(f\"\\n Question: {scenario['question']} \\n\")\n",
        "\n",
        "res = graph.invoke({\"messages\": format_multi_choice_question(scenario)})\n",
        "\n",
        "print(f\"\\n Agent response: {res['multi_choice_response']}\")\n",
        "\n",
        "assert res[\"multi_choice_response\"] == scenario[\"answer\"]\n"
      ]
    },
    {
      "cell_type": "markdown",
      "metadata": {},
      "source": [
        "## Scenario 3 - retriever tool\n",
        "\n",
        "In this test, we want to see the retrieval tool invoked and multiple choice structured response."
      ]
    },
    {
      "cell_type": "code",
      "execution_count": 35,
      "metadata": {},
      "outputs": [
        {
          "name": "stdout",
          "output_type": "stream",
          "text": [
            "\n",
            " Question: You’ve encountered a dense forest near the Blue Mountains, and your party is unsure how to proceed. There is a fork in the road, and you must choose a path. Which way will you go? \n",
            "\n",
            "Called multi choice structured\n",
            "\n",
            " Agent response: B\n"
          ]
        }
      ],
      "source": [
        "scenario = {\n",
        "        \"question\": \"You’ve encountered a dense forest near the Blue Mountains, and your party is unsure how to proceed. There is a fork in the road, and you must choose a path. Which way will you go?\",\n",
        "        \"answer\": \"B\",\n",
        "        \"options\": [\n",
        "            \"A: take the northern trail\",\n",
        "            \"B: take the southern trail\",\n",
        "            \"C: turn around\",\n",
        "            \"D: go fishing\",\n",
        "        ],\n",
        "        \"type\": \"multi-choice\",\n",
        "    }\n",
        "\n",
        "print(f\"\\n Question: {scenario['question']} \\n\")\n",
        "\n",
        "res = graph.invoke({\"messages\": format_multi_choice_question(scenario)})\n",
        "\n",
        "print(f\"\\n Agent response: {res['multi_choice_response']}\")\n",
        "\n",
        "assert res[\"multi_choice_response\"] == scenario[\"answer\"]"
      ]
    },
    {
      "cell_type": "markdown",
      "metadata": {},
      "source": [
        "## Scenario 4 - Semantic caching\n",
        "\n",
        "Agent workflows are highly flexible and capable of handling a wide range of scenarios, but this flexibility comes at a cost. Even in our simple example, there can be multiple large-context LLM calls in the same execution, leading to high latency and increased service costs by the end of the month.<br>\n",
        "\n",
        "A good practice is to cache answers to known questions. Chatbot interactions are often fairly predictable, particularly in support or FAQ-type use cases, making them excellent candidates for caching.\n",
        "\n",
        "\n",
        "![diagram](../../assets/cache_diagram.png)\n",
        "\n",
        "## Creating a cache"
      ]
    },
    {
      "cell_type": "code",
      "execution_count": 43,
      "metadata": {},
      "outputs": [
        {
          "name": "stdout",
          "output_type": "stream",
          "text": [
            "09:20:47 redisvl.index.index INFO   Index already exists, not overwriting.\n"
          ]
        },
        {
          "data": {
            "text/plain": [
              "'oregon_trail_cache:602ac35f09671fc9e2a4f4902c6f82f06b9560ea6b5a5dd3e9218fcc1ff47e52'"
            ]
          },
          "execution_count": 43,
          "metadata": {},
          "output_type": "execute_result"
        }
      ],
      "source": [
        "import warnings\n",
        "from redisvl.extensions.llmcache import SemanticCache\n",
        "warnings.filterwarnings(\"ignore\")\n",
        "\n",
        "hunting_example = \"There's a deer. You're starving. You know what you have to do...\"\n",
        "\n",
        "semantic_cache = SemanticCache(\n",
        "    name=\"oregon_trail_cache\",\n",
        "    redis_url=REDIS_URL,\n",
        "    distance_threshold=0.1,\n",
        ")\n",
        "\n",
        "semantic_cache.store(prompt=hunting_example, response=\"bang\")"
      ]
    },
    {
      "cell_type": "markdown",
      "metadata": {},
      "source": [
        "## Testing the cache"
      ]
    },
    {
      "cell_type": "code",
      "execution_count": 42,
      "metadata": {},
      "outputs": [
        {
          "name": "stdout",
          "output_type": "stream",
          "text": [
            "\n",
            " Question: There's a deer. You're hungry. You know what you have to do... \n",
            "\n",
            "Cache hit\n",
            "Response time 0.18901395797729492s\n",
            "\n",
            " Question: You’ve encountered a dense forest near the Blue Mountains, and your party is unsure how to proceed. There is a fork in the road, and you must choose a path. Which way will you go? \n",
            "\n",
            "Invoking agent\n",
            "Called multi choice structured\n",
            "Response time 3.500865936279297s\n"
          ]
        }
      ],
      "source": [
        "import time\n",
        "\n",
        "scenarios = [\n",
        "    {\n",
        "        \"question\": \"There's a deer. You're hungry. You know what you have to do...\",\n",
        "        \"answer\": \"bang\",\n",
        "        \"type\": \"cache_hit\",\n",
        "    },\n",
        "    {\n",
        "        \"question\": \"You’ve encountered a dense forest near the Blue Mountains, and your party is unsure how to proceed. There is a fork in the road, and you must choose a path. Which way will you go?\",\n",
        "        \"answer\": \"B\",\n",
        "        \"options\": [\n",
        "            \"A: take the northern trail\",\n",
        "            \"B: take the southern trail\",\n",
        "            \"C: turn around\",\n",
        "            \"D: go fishing\",\n",
        "        ],\n",
        "        \"type\": \"multi-choice\",\n",
        "    }\n",
        "]\n",
        "\n",
        "for scenario in scenarios:\n",
        "    print(f\"\\n Question: {scenario['question']} \\n\")\n",
        "\n",
        "    start = time.time()\n",
        "\n",
        "    cache_hit = semantic_cache.check(prompt=scenario[\"question\"], return_fields=[\"response\"])\n",
        "\n",
        "    if not cache_hit:\n",
        "        print(\"Invoking agent\")\n",
        "        res = graph.invoke({\"messages\": format_multi_choice_question(scenario)})\n",
        "    else:\n",
        "        print(\"Cache hit\")\n",
        "\n",
        "    response_time = time.time() - start\n",
        "\n",
        "    print(f\"Response time {response_time}s\")"
      ]
    },
    {
      "cell_type": "markdown",
      "metadata": {},
      "source": [
        "## Scenario 5 - Allow/block list router\n",
        "\n",
        "When ChatGPT first launched, there was a famous example where a car dealership accidentally made one of the latest language models available for free to everyone. They assumed users would only ask questions about cars through their chatbot. However, a group of developers quickly realized that the model was powerful enough to answer coding questions, so they started using the dealership's chatbot for free. <br>\n",
        "\n",
        "To prevent this kind of misuse in your system, adding an allow/block router to the front of your application is essential. Fortunately, this is very easy to implement using `redisvl`.\n",
        "\n",
        "![diagram](../../assets/router_diagram.png)"
      ]
    },
    {
      "cell_type": "markdown",
      "metadata": {},
      "source": [
        "## Creating the router"
      ]
    },
    {
      "cell_type": "code",
      "execution_count": 52,
      "metadata": {},
      "outputs": [
        {
          "name": "stdout",
          "output_type": "stream",
          "text": [
            "10:35:18 redisvl.index.index INFO   Index already exists, not overwriting.\n"
          ]
        }
      ],
      "source": [
        "from redisvl.extensions.router import Route, SemanticRouter\n",
        "\n",
        "# Semantic router\n",
        "blocked_references = [\n",
        "    \"thinks about aliens\",\n",
        "    \"corporate questions about agile\",\n",
        "    \"anything about the S&P 500\",\n",
        "]\n",
        "\n",
        "blocked_route = Route(name=\"block_list\", references=blocked_references)\n",
        "\n",
        "router = SemanticRouter(\n",
        "    name=\"bouncer\",\n",
        "    routes=[blocked_route],\n",
        "    redis_url=REDIS_URL,\n",
        "    overwrite=False,\n",
        ")"
      ]
    },
    {
      "cell_type": "markdown",
      "metadata": {},
      "source": [
        "## Testing the router"
      ]
    },
    {
      "cell_type": "code",
      "execution_count": 53,
      "metadata": {},
      "outputs": [
        {
          "name": "stdout",
          "output_type": "stream",
          "text": [
            "\n",
            " Question: Tell me about the S&P 500? \n",
            "\n",
            "Blocked!\n"
          ]
        }
      ],
      "source": [
        "scenario = {\n",
        "        \"question\": \"Tell me about the S&P 500?\",\n",
        "        \"answer\": \"you shall not pass\",\n",
        "        \"type\": \"action\",\n",
        "    }\n",
        "\n",
        "print(f\"\\n Question: {scenario['question']} \\n\")\n",
        "\n",
        "blocked_topic_match = router(scenario[\"question\"], distance_threshold=0.2)\n",
        "\n",
        "assert blocked_topic_match.name == \"block_list\"\n",
        "\n",
        "print(\"Blocked!\")"
      ]
    },
    {
      "cell_type": "markdown",
      "metadata": {},
      "source": [
        "## Putting it all together\n",
        "\n",
        "Once you have defined all the pieces, connecting the various aspects of the full architecture becomes easy and you can tie them together with whatever logic you wish. \n",
        "\n",
        "This could be as simple as:"
      ]
    },
    {
      "cell_type": "code",
      "execution_count": null,
      "metadata": {},
      "outputs": [],
      "source": [
        "def respond_to_question(question):\n",
        "    blocked_topic_match = router(question, distance_threshold=0.2)\n",
        "\n",
        "    if blocked_topic_match.name == \"block_list\":\n",
        "        print(\"App block logic - short circuit\")\n",
        "        return\n",
        "\n",
        "    cache_hit = semantic_cache.check(prompt=question, return_fields=[\"response\"])\n",
        "\n",
        "    if cache_hit:\n",
        "        print(\"Cache hit - short circuit\")\n",
        "        return cache_hit\n",
        "\n",
        "    return graph.invoke({\"messages\": question})\n"
      ]
    }
  ],
  "metadata": {
    "colab": {
      "provenance": []
    },
    "kernelspec": {
      "display_name": "Python 3",
      "name": "python3"
    },
    "language_info": {
      "codemirror_mode": {
        "name": "ipython",
        "version": 3
      },
      "file_extension": ".py",
      "mimetype": "text/x-python",
      "name": "python",
      "nbconvert_exporter": "python",
      "pygments_lexer": "ipython3",
      "version": "3.11.9"
    }
  },
  "nbformat": 4,
  "nbformat_minor": 0
}
