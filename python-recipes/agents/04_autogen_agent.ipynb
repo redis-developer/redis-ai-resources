{
 "cells": [
  {
   "cell_type": "markdown",
   "metadata": {},
   "source": [
    "![Redis](https://redis.io/wp-content/uploads/2024/04/Logotype.svg?auto=webp&quality=85,75&width=120)\n",
    "\n",
    "# Agentic tasks with AutoGen and Redis\n",
    "\n",
    "This notebook demonstrates how to build an agent using Microsoft's [AutoGen](https://microsoft.github.io/autogen/stable//index.html) agent framework and the RedisMemory integration.\n",
    "\n",
    "We'll define an agent, give it access to tools and memory, then set in on a task to see how it uses its abilities.\n",
    "\n",
    "## Let's Begin!\n",
    "\n",
    "<a href=\"https://colab.research.google.com/github/redis-developer/redis-ai-resources/blob/main/python-recipes/agents/04_autogen_agent.ipynb\" target=\"_parent\"><img src=\"https://colab.research.google.com/assets/colab-badge.svg\" alt=\"Open In Colab\"/></a>\n"
   ]
  },
  {
   "cell_type": "markdown",
   "metadata": {},
   "source": [
    "## Install packages and set up Redis"
   ]
  },
  {
   "cell_type": "code",
   "execution_count": 1,
   "metadata": {},
   "outputs": [
    {
     "name": "stdout",
     "output_type": "stream",
     "text": [
      "\n",
      "\u001b[1m[\u001b[0m\u001b[34;49mnotice\u001b[0m\u001b[1;39;49m]\u001b[0m\u001b[39;49m A new release of pip is available: \u001b[0m\u001b[31;49m24.0\u001b[0m\u001b[39;49m -> \u001b[0m\u001b[32;49m25.1.1\u001b[0m\n",
      "\u001b[1m[\u001b[0m\u001b[34;49mnotice\u001b[0m\u001b[1;39;49m]\u001b[0m\u001b[39;49m To update, run: \u001b[0m\u001b[32;49mpip install --upgrade pip\u001b[0m\n",
      "Note: you may need to restart the kernel to use updated packages.\n",
      "\n",
      "\u001b[1m[\u001b[0m\u001b[34;49mnotice\u001b[0m\u001b[1;39;49m]\u001b[0m\u001b[39;49m A new release of pip is available: \u001b[0m\u001b[31;49m24.0\u001b[0m\u001b[39;49m -> \u001b[0m\u001b[32;49m25.1.1\u001b[0m\n",
      "\u001b[1m[\u001b[0m\u001b[34;49mnotice\u001b[0m\u001b[1;39;49m]\u001b[0m\u001b[39;49m To update, run: \u001b[0m\u001b[32;49mpip install --upgrade pip\u001b[0m\n",
      "Note: you may need to restart the kernel to use updated packages.\n"
     ]
    }
   ],
   "source": [
    "%pip install -q autogen autogen_agentchat\n",
    "%pip install -q \"autogen-ext[redisvl]\""
   ]
  },
  {
   "cell_type": "markdown",
   "metadata": {},
   "source": [
    "### For Colab download and run a Redis instance"
   ]
  },
  {
   "cell_type": "code",
   "execution_count": 2,
   "metadata": {},
   "outputs": [
    {
     "data": {
      "text/plain": [
       "'\\n%%sh\\ncurl -fsSL https://packages.redis.io/gpg | sudo gpg --dearmor -o /usr/share/keyrings/redis-archive-keyring.gpg\\necho \"deb [signed-by=/usr/share/keyrings/redis-archive-keyring.gpg] https://packages.redis.io/deb $(lsb_release -cs) main\" | sudo tee /etc/apt/sources.list.d/redis.list\\nsudo apt-get update  > /dev/null 2>&1\\nsudo apt-get install redis-stack-server  > /dev/null 2>&1\\nredis-stack-server --daemonize yes\\n'"
      ]
     },
     "execution_count": 2,
     "metadata": {},
     "output_type": "execute_result"
    }
   ],
   "source": [
    "# NBVAL_SKIP\n",
    "'''\n",
    "%%sh\n",
    "curl -fsSL https://packages.redis.io/gpg | sudo gpg --dearmor -o /usr/share/keyrings/redis-archive-keyring.gpg\n",
    "echo \"deb [signed-by=/usr/share/keyrings/redis-archive-keyring.gpg] https://packages.redis.io/deb $(lsb_release -cs) main\" | sudo tee /etc/apt/sources.list.d/redis.list\n",
    "sudo apt-get update  > /dev/null 2>&1\n",
    "sudo apt-get install redis-stack-server  > /dev/null 2>&1\n",
    "redis-stack-server --daemonize yes\n",
    "'''"
   ]
  },
  {
   "cell_type": "code",
   "execution_count": 3,
   "metadata": {},
   "outputs": [],
   "source": [
    "import os\n",
    "from typing import List\n",
    "import requests\n",
    "import json"
   ]
  },
  {
   "cell_type": "code",
   "execution_count": 4,
   "metadata": {},
   "outputs": [
    {
     "name": "stdout",
     "output_type": "stream",
     "text": [
      "Connecting to Redis at: redis://localhost:6379\n"
     ]
    }
   ],
   "source": [
    "# Use the environment variable if set, otherwise default to localhost\n",
    "REDIS_URL = os.getenv(\"REDIS_URL\", \"redis://localhost:6379\")\n",
    "print(f\"Connecting to Redis at: {REDIS_URL}\")"
   ]
  },
  {
   "cell_type": "markdown",
   "metadata": {},
   "source": [
    "## Building our agent\n",
    "\n",
    "We'll be building a product review writing agent that takes in a set of product descriptions, collects relevant information, and provides a summary and analysis you can use for SEO.\n"
   ]
  },
  {
   "cell_type": "markdown",
   "metadata": {},
   "source": [
    "### Defining tools\n",
    "One of the defining the features of an agent is its ability to use tools so let's give it some.\n",
    "\n",
    "For use with Autogen that just requires we define a well named function with type hints in its signature"
   ]
  },
  {
   "cell_type": "code",
   "execution_count": 5,
   "metadata": {},
   "outputs": [],
   "source": [
    "\n",
    "async def summarize(all_reviews: List[str]) -> str:\n",
    "    \"\"\"takes in a list of restaurant reviews and returns a single summary of all of them.\"\"\"\n",
    "    # set up open ai client\n",
    "    \n",
    "    # concatenate all the reviews together\n",
    "   \n",
    "    # pass all the reviews along with a system prompt asking for a summary\n",
    "    return ' summary '\n",
    "\n",
    "\n",
    "async def get_keywords(full_text: str) -> List[str]:\n",
    "    \"\"\"extract the most commonly occurring keywords present in the reviews to know\n",
    "    which terms it is likely to rank highly for in keyword search engines.\"\"\"\n",
    "    import re\n",
    "    from collections import Counter\n",
    "    # define a set of common English stopwords to ignore\n",
    "    STOPWORDS = {\n",
    "        'the', 'of', 'and', 'to', 'for', 'in', 'on', 'at', 'a', 'an', 'is', 'it', 'with', 'as', 'by', 'from', 'that',\n",
    "        'this', 'be', 'are', 'was', 'were', 'or', 'but', 'not', 'so', 'if', 'then', 'than', 'which', 'who', 'whom',\n",
    "        'about', 'into', 'out', 'up', 'down', 'over', 'under', 'again', 'further', 'once', 'here', 'there', 'when',\n",
    "        'where', 'why', 'how', 'all', 'any', 'both', 'each', 'few', 'more', 'most', 'other', 'some', 'such', 'no',\n",
    "        'nor', 'only', 'own', 'same', 'can', 'will', 'just', 'don', 'should', 'now', 'has', 'have', 'had', 'do', 'does',\n",
    "        'did', 'their', 'them', 'they', 'you', 'your', 'yours', 'he', 'him', 'his', 'she', 'her', 'hers', 'we', 'us',\n",
    "        'our', 'ours', 'i', 'me', 'my', 'mine', 'also'\n",
    "    }\n",
    "    # remove punctuation and lowercase the text\n",
    "    words = re.findall(r'\\b\\w+\\b', full_text.lower())\n",
    "    # filter out stopwords\n",
    "    filtered_words = [word for word in words if word not in STOPWORDS]\n",
    "    # count occurrences\n",
    "    word_counts = Counter(filtered_words)\n",
    "    # return the top 10\n",
    "    return [word for word, _ in word_counts.most_common(10)]\n"
   ]
  },
  {
   "cell_type": "markdown",
   "metadata": {},
   "source": [
    "## Adding relevant memories\n",
    "Our agent needs to know what people think of these restaurants so we'll add the user reviews to our agent memory powered by Redis.\n"
   ]
  },
  {
   "cell_type": "code",
   "execution_count": 6,
   "metadata": {},
   "outputs": [],
   "source": [
    "# fetch the reviews from our public S3 bucket\n",
    "def fetch_data(file_name):\n",
    "    dataset_path = 'datasets/'\n",
    "    try:\n",
    "        with open(dataset_path + file_name, 'r') as f:\n",
    "            return json.load(f)\n",
    "    except:\n",
    "        url = 'https://redis-ai-resources.s3.us-east-2.amazonaws.com/recommenders/datasets/two-towers/'\n",
    "        r = requests.get(url + file_name)\n",
    "        if not os.path.exists(dataset_path):\n",
    "            os.makedirs(dataset_path)\n",
    "        with open(dataset_path + file_name, 'wb') as f:\n",
    "            f.write(r.content)\n",
    "        return json.loads(r.content.decode('utf-8'))"
   ]
  },
  {
   "cell_type": "code",
   "execution_count": 7,
   "metadata": {},
   "outputs": [
    {
     "name": "stdout",
     "output_type": "stream",
     "text": [
      "we have 147 restaurants in our dataset, with 14700 total reviews\n"
     ]
    }
   ],
   "source": [
    "# the original dataset can be found here: https://www.kaggle.com/datasets/jkgatt/restaurant-data-with-100-trip-advisor-reviews-each\n",
    "\n",
    "restaurant_data = fetch_data('factual_tripadvisor_restaurant_data_all_100_reviews.json')\n",
    "\n",
    "print(f\"we have {restaurant_data['restaurant_count']} restaurants in our dataset, with {restaurant_data['total_review_count']} total reviews\")\n",
    "\n",
    "restaurant_reviews = restaurant_data[\"restaurants\"] # ignore the count fields\n",
    "\n",
    "# drop some of the fields that don't need\n",
    "for restaurant in restaurant_reviews:\n",
    "    for field in ['region', 'country', 'tel', 'fax', 'email', 'website', 'address_extended', 'chain_name', 'trip_advisor_url']:\n",
    "        if field in restaurant:\n",
    "            restaurant.pop(field)"
   ]
  },
  {
   "cell_type": "code",
   "execution_count": null,
   "metadata": {},
   "outputs": [
    {
     "name": "stderr",
     "output_type": "stream",
     "text": [
      "/Users/justin.cechmanek/.pyenv/versions/3.11.9/envs/redis-ai-res/lib/python3.11/site-packages/tqdm/auto.py:21: TqdmWarning: IProgress not found. Please update jupyter and ipywidgets. See https://ipywidgets.readthedocs.io/en/stable/user_install.html\n",
      "  from .autonotebook import tqdm as notebook_tqdm\n"
     ]
    }
   ],
   "source": [
    "from logging import WARNING, getLogger\n",
    "\n",
    "from autogen_agentchat.agents import AssistantAgent\n",
    "from autogen_agentchat.ui import Console\n",
    "from autogen_core.memory import MemoryContent, MemoryMimeType\n",
    "from autogen_ext.memory.redis import RedisMemory, RedisMemoryConfig\n",
    "from autogen_ext.models.openai import OpenAIChatCompletionClient\n",
    "\n",
    "logger = getLogger()\n",
    "logger.setLevel(WARNING)\n",
    "\n",
    "# initailize Redis memory\n",
    "redis_memory = RedisMemory(\n",
    "    config=RedisMemoryConfig(\n",
    "        redis_url=\"redis://localhost:6379\",\n",
    "        index_name=\"restaurant_reviews\",\n",
    "        prefix=\"trip_advisor\",\n",
    "    )\n",
    ")\n",
    "\n",
    "for restaurant in restaurant_reviews[:10]:\n",
    "    # add each review to our agent memory\n",
    "    for review in restaurant['reviews']:\n",
    "        try:\n",
    "            await redis_memory.add(\n",
    "                MemoryContent(\n",
    "                    content=review.pop(\"review_title\") +\" \" + review.pop(\"review_text\"),\n",
    "                    mime_type=MemoryMimeType.TEXT,\n",
    "                    metadata=review,\n",
    "                )\n",
    "            )\n",
    "        except KeyError:\n",
    "            print(review.keys())"
   ]
  },
  {
   "cell_type": "markdown",
   "metadata": {},
   "source": [
    "## Create our agent and set it on a task"
   ]
  },
  {
   "cell_type": "code",
   "execution_count": 9,
   "metadata": {},
   "outputs": [
    {
     "name": "stdout",
     "output_type": "stream",
     "text": [
      "---------- TextMessage (user) ----------\n",
      "Write an article for me reviewing the restaurants in the San Francisco bay area.             Group them into categories based on their cuisine and price, and talk about the             top rated restaurants in each category.\n",
      "---------- MemoryQueryEvent (assistant_agent) ----------\n",
      "[MemoryContent(content=\"Bar Tartine impressed my VIP guests, and left me yearning for a return trip to San Francisco We planned a private business party at Bar Tartine and 'bought' the restaurant for 3 hours. We invited VIP customers and prospective partners and lured them there with the promise of amazing, unique food. The food, the staff, the Chefs all exceeded our expectations and gave our guests one of the most memorable dining experiences we have ever had. We left the menu in the hands of the Chefs and it was exquisite. The evening was filled with debates over which dish was the best and there was little consensus because every single offering was unique, beautiful and memorable. Every staff member was knowledgeable about the making of each dish, so be sure to ask. And they were eager to accommodate any dietary need. I am still thinking about the sunflower seed tahini and steak tartare, and my Italian husband who considers himself a bread connoisseur raved about the bread.\", mime_type=<MemoryMimeType.TEXT: 'text/plain'>, metadata={'review_website': 'TripAdvisor', 'review_url': 'https://www.tripadvisor.com/ShowUserReviews-g60713-d597979-r265370093-Bar_Tartine-San_Francisco_California.html#REVIEWS', 'review_rating': 5, 'review_date': 'Apr 12, 2015 12:00:00 AM'}), MemoryContent(content=\"A food &quot;experience&quot; in The Mission Our party of four - two Millennials and two Baby Boomers - enjoyed Bar Tartine and it is as much an intellectual experience of how imaginatively food can be served as it is a restaurant. We shared everything (a total of about eight dishes) and we liked everything - but some were better than others. We especially liked the trout, the smoked potatoes, the beets and the salad. If you want a restaurant where you don't have to think about the food, this is not for you. But we liked the creativity and playfulness of the approach. Service was good, friendly but not obtrusive.\", mime_type=<MemoryMimeType.TEXT: 'text/plain'>, metadata={'review_website': 'TripAdvisor', 'review_url': 'https://www.tripadvisor.com/ShowUserReviews-g60713-d597979-r226883562-Bar_Tartine-San_Francisco_California.html#REVIEWS', 'review_rating': 4, 'review_date': 'Sep 4, 2014 12:00:00 AM'}), MemoryContent(content='Nice experience Was unable to book a favorite restaurant and chose this place based on its ratings. Good choice. Lively bar. Nice menu with a variety of offerings. We enjoyed several appetizers and entrees. Good wine list. Great service. The four of us had a good dining experience and would certainly return on another visit to San Francisco.', mime_type=<MemoryMimeType.TEXT: 'text/plain'>, metadata={'review_website': 'TripAdvisor', 'review_url': 'https://www.tripadvisor.com/ShowUserReviews-g60713-d349444-r252678224-Absinthe_Brasserie_Bar-San_Francisco_California.html#REVIEWS', 'review_rating': 4, 'review_date': 'Feb 4, 2015 12:00:00 AM'}), MemoryContent(content='healthy food &amp; diverse menu This is a great place to eat if you are looking for good flavorful food, The menu is well balanced nutritionally. The service is excellent but this place is very expensive. I would have given 5 stars but we got a hair in are food and we were still charged for the dish The decor is really cool and the atmosphere is good.', mime_type=<MemoryMimeType.TEXT: 'text/plain'>, metadata={'review_website': 'TripAdvisor', 'review_url': 'https://www.tripadvisor.com/ShowUserReviews-g60713-d597979-r264470637-Bar_Tartine-San_Francisco_California.html#REVIEWS', 'review_rating': 4, 'review_date': 'Apr 8, 2015 12:00:00 AM'}), MemoryContent(content='Fun place, tasty meal My sister and I ate here during a recent trip to the San Francisco area for a job interview. I liked almost everything about this restaurant. The décor was techno-edgy but comfortable. It was packed and a little noisy but we could hear each other as we were seated at a banquette along one wall. We had the lobster rolls—a salad of delicious lobster meat plus vegetables in a small roll, served with very good cole slaw and—of all things—hush puppies. Very tasty, non-greasy hush-puppies. The lobster roll was one of the more gently-priced items on the menu. Other items looked tempting, but too expensive for this visit. Friendly, prompt, efficient service. Nice experience.', mime_type=<MemoryMimeType.TEXT: 'text/plain'>, metadata={'review_website': 'TripAdvisor', 'review_url': 'https://www.tripadvisor.com/ShowUserReviews-g60713-d1084462-r352232805-Anchor_and_Hope-San_Francisco_California.html#REVIEWS', 'review_rating': 5, 'review_date': 'Mar 1, 2016 12:00:00 AM'}), MemoryContent(content=\"Good and different I liked the way the restaurant looked, the food was good and different.To me, foreigner, this is very 'San Francisco'.Organic, trendy, laidback, good...Not overly priced either.Good place!\", mime_type=<MemoryMimeType.TEXT: 'text/plain'>, metadata={'review_website': 'TripAdvisor', 'review_url': 'https://www.tripadvisor.com/ShowUserReviews-g60713-d597979-r182200058-Bar_Tartine-San_Francisco_California.html#REVIEWS', 'review_rating': 4, 'review_date': 'Oct 24, 2013 12:00:00 AM'}), MemoryContent(content='First time I have ever been compelled to write a bad review Appetizers clearly microwaved; the plate was hot with microwaved burnt food on it and all were cold in the middle. Service awful. Brought limited bread for ten of us and the wait was really long. Brought some food out which became cold while we waited for the others in our party to get their meal. Stay away from the steaks; bad cuts and way over cooked. Were served on a hot sizzling platter spraying grease everywhere. Very chewy. Brussel sprouts hard seemingly uncooked with soggy garlic wedges. Entrees cold in the middle and side pastas with marinara sauce all cold when served. Brown tinted water served to one of us and waiter absolutely was awful. Appeared happy but very annoyed if we asked for anything and hard to find. Will never ever go there. I hope the owner reads this...was there a year ago and it was excellent. Today I warn all to stay away.', mime_type=<MemoryMimeType.TEXT: 'text/plain'>, metadata={'review_website': 'TripAdvisor', 'review_url': 'https://www.tripadvisor.com/ShowUserReviews-g53354-d657778-r184225802-Bacco_Restaurant-North_Wales_Pennsylvania.html#REVIEWS', 'review_rating': 2, 'review_date': 'Nov 10, 2013 12:00:00 AM'}), MemoryContent(content=\"Great Italian Food, great drink menu Group of 10 went for lunch on a Saturday.We were seated right away and our waitress was tentative in getting our drinks ,answering our questions, and checking on us all. Everyone's food was great. They have options for most items to be lunch portion for the whole menu, the interior and exterior were decorated well with Italian rustic theme, the entire place was clean. Everything was priced well and had something everyone could enjoy.\", mime_type=<MemoryMimeType.TEXT: 'text/plain'>, metadata={'review_website': 'TripAdvisor', 'review_url': 'https://www.tripadvisor.com/ShowUserReviews-g53354-d657778-r292399084-Bacco_Restaurant-North_Wales_Pennsylvania.html#REVIEWS', 'review_rating': 5, 'review_date': 'Jul 25, 2015 12:00:00 AM'}), MemoryContent(content='Great place for a healthy dinner We had dinner here and really appreciated the fact that the menu is so healthy - full of vegetable based dishes. It is sometimes difficult to eat healthy food when you travel. Service is good - staff friendly and efficient. Nice ambience and good little wine list. Great bread to start and then we shared a selection of dishes including the charred trout with mustard greens, kale with sunflower tahini and yoghurt, brussels sprouts with tonnato sauce and dried tuna. We would certainly go back if we lived in San Francisco.', mime_type=<MemoryMimeType.TEXT: 'text/plain'>, metadata={'review_website': 'TripAdvisor', 'review_url': 'https://www.tripadvisor.com/ShowUserReviews-g60713-d597979-r192125095-Bar_Tartine-San_Francisco_California.html#REVIEWS', 'review_rating': 4, 'review_date': 'Jan 26, 2014 12:00:00 AM'}), MemoryContent(content=\"Great Pizza, good food - ok exoerience I will temper this review with a note that we arrived an hour before closing on a weeknight. It was a full hour. Closing is 9:00. Why mention? I think we woke the hostess when we walked in the door. The restaurant is quite large and patrons were clustered in a small portion of the restaurant. Makes sense to me. Chairs were turned upside down in other sections - just a bit off putting. Inside the setting was dark and rustic. I'd say it was a well worn setting. Table chairs were odd and must have been a later addition as their height was lower than expected (first time I've noticed that). The menu had the expected selection of standard Italian fare. Four of us looking for something a little lighter so we ordered a salad - nicely sized and fresh, calamari - well done and plentiful, 2 calzones - huge for one person, and a pizza. The pizza was awesome! Super thin crust with an excellent cheese and a nice sauce to cheese ratio. The crust was crisp, ever so charred, really good. A bit far for us for takeout pizza but it might be worth it. Waitstaff was a mixed bag. Our waiter was friendly and helpful, though sort of disappeared at times. Others were slothing around and seemingly ready to end their evenings. Overall okay experience. Come for the pizza. We will probably want to be back to explore the menu. Hmm, that pizza was yum.\", mime_type=<MemoryMimeType.TEXT: 'text/plain'>, metadata={'review_website': 'TripAdvisor', 'review_url': 'https://www.tripadvisor.com/ShowUserReviews-g53354-d657778-r284966215-Bacco_Restaurant-North_Wales_Pennsylvania.html#REVIEWS', 'review_rating': 3, 'review_date': 'Jul 2, 2015 12:00:00 AM'})]\n",
      "---------- ToolCallRequestEvent (assistant_agent) ----------\n",
      "[FunctionCall(id='call_6okAfFcAV9GGUKpokCB476bF', arguments='{\"all_reviews\": [\"Bar Tartine impressed my VIP guests, and left me yearning for a return trip to San Francisco We planned a private business party at Bar Tartine and \\'bought\\' the restaurant for 3 hours. We invited VIP customers and prospective partners and lured them there with the promise of amazing, unique food. The food, the staff, the Chefs all exceeded our expectations and gave our guests one of the most memorable dining experiences we have ever had. We left the menu in the hands of the Chefs and it was exquisite. The evening was filled with debates over which dish was the best and there was little consensus because every single offering was unique, beautiful and memorable. Every staff member was knowledgeable about the making of each dish, so be sure to ask. And they were eager to accommodate any dietary need. I am still thinking about the sunflower seed tahini and steak tartare, and my Italian husband who considers himself a bread connoisseur raved about the bread.\", \"A food \\\\\"experience\\\\\" in The Mission Our party of four - two Millennials and two Baby Boomers - enjoyed Bar Tartine and it is as much an intellectual experience of how imaginatively food can be served as it is a restaurant. We shared everything (a total of about eight dishes) and we liked everything - but some were better than others. We especially liked the trout, the smoked potatoes, the beets and the salad. If you want a restaurant where you don\\'t have to think about the food, this is not for you. But we liked the creativity and playfulness of the approach. Service was good, friendly but not obtrusive.\", \"Nice experience Was unable to book a favorite restaurant and chose this place based on its ratings. Good choice. Lively bar. Nice menu with a variety of offerings. We enjoyed several appetizers and entrees. Good wine list. Great service. The four of us had a good dining experience and would certainly return on another visit to San Francisco.\", \"healthy food & diverse menu This is a great place to eat if you are looking for good flavorful food, The menu is well balanced nutritionally. The service is excellent but this place is very expensive. I would have given 5 stars but we got a hair in are food and we were still charged for the dish The decor is really cool and the atmosphere is good.\", \"Fun place, tasty meal My sister and I ate here during a recent trip to the San Francisco area for a job interview. I liked almost everything about this restaurant. The décor was techno-edgy but comfortable. It was packed and a little noisy but we could hear each other as we were seated at a banquette along one wall. We had the lobster rolls—a salad of delicious lobster meat plus vegetables in a small roll, served with very good cole slaw and—of all things—hush puppies. Very tasty, non-greasy hush-puppies. The lobster roll was one of the more gently-priced items on the menu. Other items looked tempting, but too expensive for this visit. Friendly, prompt, efficient service. Nice experience.\", \"Good and different I liked the way the restaurant looked, the food was good and different.To me, foreigner, this is very \\'San Francisco\\'.Organic, trendy, laidback, good...Not overly priced either.Good place!\", \"First time I have ever been compelled to write a bad review Appetizers clearly microwaved; the plate was hot with microwaved burnt food on it and all were cold in the middle. Service awful. Brought limited bread for ten of us and the wait was really long. Brought some food out which became cold while we waited for the others in our party to get their meal. Stay away from the steaks; bad cuts and way over cooked. Were served on a hot sizzling platter spraying grease everywhere. Very chewy. Brussel sprouts hard seemingly uncooked with soggy garlic wedges. Entrees cold in the middle and side pastas with marinara sauce all cold when served. Brown tinted water served to one of us and waiter absolutely was awful. Appeared happy but very annoyed if we asked for anything and hard to find. Will never ever go there. I hope the owner reads this...was there a year ago and it was excellent. Today I warn all to stay away.\", \"Great Italian Food, great drink menu Group of 10 went for lunch on a Saturday.We were seated right away and our waitress was tentative in getting our drinks ,answering our questions, and checking on us all. Everyone\\'s food was great. They have options for most items to be lunch portion for the whole menu, the interior and exterior were decorated well with Italian rustic theme, the entire place was clean. Everything was priced well and had something everyone could enjoy.\", \"Great place for a healthy dinner We had dinner here and really appreciated the fact that the menu is so healthy - full of vegetable based dishes. It is sometimes difficult to eat healthy food when you travel. Service is good - staff friendly and efficient. Nice ambience and good little wine list. Great bread to start and then we shared a selection of dishes including the charred trout with mustard greens, kale with sunflower tahini and yoghurt, brussels sprouts with tonnato sauce and dried tuna. We would certainly go back if we lived in San Francisco.\", \"Great Pizza, good food - ok exoerience I will temper this review with a note that we arrived an hour before closing on a weeknight. It was a full hour. Closing is 9:00. Why mention? I think we woke the hostess when we walked in the door. The restaurant is quite large and patrons were clustered in a small portion of the restaurant. Makes sense to me. Chairs were turned upside down in other sections - just a bit off putting. Inside the setting was dark and rustic. I\\'d say it was a well worn setting. Table chairs were odd and must have been a later addition as their height was lower than expected (first time I\\'ve noticed that). The menu had the expected selection of standard Italian fare. Four of us looking for something a little lighter so we ordered a salad - nicely sized and fresh, calamari - well done and plentiful, 2 calzones - huge for one person, and a pizza. The pizza was awesome! Super thin crust with an excellent cheese and a nice sauce to cheese ratio. The crust was crisp, ever so charred, really good. A bit far for us for takeout pizza but it might be worth it. Waitstaff was a mixed bag. Our waiter was friendly and helpful, though sort of disappeared at times. Others were slothing around and seemingly ready to end their evenings. Overall okay experience. Come for the pizza. We will probably want to be back to explore the menu. Hmm, that pizza was yum.\"]}', name='summarize'), FunctionCall(id='call_AcaeNWw74XRmOemFbIuBJbNn', arguments='{\"full_text\": \"Bar Tartine impressed my VIP guests, and left me yearning for a return trip to San Francisco We planned a private business party at Bar Tartine and \\'bought\\' the restaurant for 3 hours. We invited VIP customers and prospective partners and lured them there with the promise of amazing, unique food. The food, the staff, the Chefs all exceeded our expectations and gave our guests one of the most memorable dining experiences we have ever had. We left the menu in the hands of the Chefs and it was exquisite. The evening was filled with debates over which dish was the best and there was little consensus because every single offering was unique, beautiful and memorable. Every staff member was knowledgeable about the making of each dish, so be sure to ask. And they were eager to accommodate any dietary need. I am still thinking about the sunflower seed tahini and steak tartare, and my Italian husband who considers himself a bread connoisseur raved about the bread.\\\\n\\\\nA food \\\\\"experience\\\\\" in The Mission Our party of four - two Millennials and two Baby Boomers - enjoyed Bar Tartine and it is as much an intellectual experience of how imaginatively food can be served as it is a restaurant. We shared everything (a total of about eight dishes) and we liked everything - but some were better than others. We especially liked the trout, the smoked potatoes, the beets and the salad. If you want a restaurant where you don\\'t have to think about the food, this is not for you. But we liked the creativity and playfulness of the approach. Service was good, friendly but not obtrusive.\\\\n\\\\nNice experience Was unable to book a favorite restaurant and chose this place based on its ratings. Good choice. Lively bar. Nice menu with a variety of offerings. We enjoyed several appetizers and entrees. Good wine list. Great service. The four of us had a good dining experience and would certainly return on another visit to San Francisco.\\\\n\\\\nhealthy food & diverse menu This is a great place to eat if you are looking for good flavorful food, The menu is well balanced nutritionally. The service is excellent but this place is very expensive. I would have given 5 stars but we got a hair in are food and we were still charged for the dish The decor is really cool and the atmosphere is good.\\\\n\\\\nFun place, tasty meal My sister and I ate here during a recent trip to the San Francisco area for a job interview. I liked almost everything about this restaurant. The décor was techno-edgy but comfortable. It was packed and a little noisy but we could hear each other as we were seated at a banquette along one wall. We had the lobster rolls—a salad of delicious lobster meat plus vegetables in a small roll, served with very good cole slaw and—of all things—hush puppies. Very tasty, non-greasy hush-puppies. The lobster roll was one of the more gently-priced items on the menu. Other items looked tempting, but too expensive for this visit. Friendly, prompt, efficient service. Nice experience.\\\\n\\\\nGood and different I liked the way the restaurant looked, the food was good and different.To me, foreigner, this is very \\'San Francisco\\'.Organic, trendy, laidback, good...Not overly priced either.Good place!\\\\n\\\\nFirst time I have ever been compelled to write a bad review Appetizers clearly microwaved; the plate was hot with microwaved burnt food on it and all were cold in the middle. Service awful. Brought limited bread for ten of us and the wait was really long. Brought some food out which became cold while we waited for the others in our party to get their meal. Stay away from the steaks; bad cuts and way over cooked. Were served on a hot sizzling platter spraying grease everywhere. Very chewy. Brussel sprouts hard seemingly uncooked with soggy garlic wedges. Entrees cold in the middle and side pastas with marinara sauce all cold when served. Brown tinted water served to one of us and waiter absolutely was awful. Appeared happy but very annoyed if we asked for anything and hard to find. Will never ever go there. I hope the owner reads this...was there a year ago and it was excellent. Today I warn all to stay away.\\\\n\\\\nGreat Italian Food, great drink menu Group of 10 went for lunch on a Saturday.We were seated right away and our waitress was tentative in getting our drinks ,answering our questions, and checking on us all. Everyone\\'s food was great. They have options for most items to be lunch portion for the whole menu, the interior and exterior were decorated well with Italian rustic theme, the entire place was clean. Everything was priced well and had something everyone could enjoy.\\\\n\\\\nGreat place for a healthy dinner We had dinner here and really appreciated the fact that the menu is so healthy - full of vegetable based dishes. It is sometimes difficult to eat healthy food when you travel. Service is good - staff friendly and efficient. Nice ambience and good little wine list. Great bread to start and then we shared a selection of dishes including the charred trout with mustard greens, kale with sunflower tahini and yoghurt, brussels sprouts with tonnato sauce and dried tuna. We would certainly go back if we lived in San Francisco.\\\\n\\\\nGreat Pizza, good food - ok exoerience I will temper this review with a note that we arrived an hour before closing on a weeknight. It was a full hour. Closing is 9:00. Why mention? I think we woke the hostess when we walked in the door. The restaurant is quite large and patrons were clustered in a small portion of the restaurant. Makes sense to me. Chairs were turned upside down in other sections - just a bit off putting. Inside the setting was dark and rustic. I\\'d say it was a well worn setting. Table chairs were odd and must have been a later addition as their height was lower than expected (first time I\\'ve noticed that). The menu had the expected selection of standard Italian fare. Four of us looking for something a little lighter so we ordered a salad - nicely sized and fresh, calamari - well done and plentiful, 2 calzones - huge for one person, and a pizza. The pizza was awesome! Super thin crust with an excellent cheese and a nice sauce to cheese ratio. The crust was crisp, ever so charred, really good. A bit far for us for takeout pizza but it might be worth it. Waitstaff was a mixed bag. Our waiter was friendly and helpful, though sort of disappeared at times. Others were slothing around and seemingly ready to end their evenings. Overall okay experience. Come for the pizza. We will probably want to be back to explore the menu. Hmm, that pizza was yum.\"}', name='get_keywords')]\n",
      "---------- ToolCallExecutionEvent (assistant_agent) ----------\n",
      "[FunctionExecutionResult(content=' summary ', name='summarize', call_id='call_6okAfFcAV9GGUKpokCB476bF', is_error=False), FunctionExecutionResult(content=\"['food', 'good', 'menu', 'restaurant', 'great', 'place', 'experience', 'service', 'very', 'pizza']\", name='get_keywords', call_id='call_AcaeNWw74XRmOemFbIuBJbNn', is_error=False)]\n",
      "---------- ToolCallSummaryMessage (assistant_agent) ----------\n",
      " summary \n",
      "['food', 'good', 'menu', 'restaurant', 'great', 'place', 'experience', 'service', 'very', 'pizza']\n"
     ]
    },
    {
     "data": {
      "text/plain": [
       "TaskResult(messages=[TextMessage(id='2ed8b0d5-e54f-4825-980e-797e81df7a31', source='user', models_usage=None, metadata={}, created_at=datetime.datetime(2025, 7, 30, 23, 57, 46, 948689, tzinfo=datetime.timezone.utc), content='Write an article for me reviewing the restaurants in the San Francisco bay area.             Group them into categories based on their cuisine and price, and talk about the             top rated restaurants in each category.', type='TextMessage'), MemoryQueryEvent(id='33e6b31c-0c40-4ec8-9c60-26738eee82da', source='assistant_agent', models_usage=None, metadata={}, created_at=datetime.datetime(2025, 7, 30, 23, 57, 46, 987869, tzinfo=datetime.timezone.utc), content=[MemoryContent(content=\"Bar Tartine impressed my VIP guests, and left me yearning for a return trip to San Francisco We planned a private business party at Bar Tartine and 'bought' the restaurant for 3 hours. We invited VIP customers and prospective partners and lured them there with the promise of amazing, unique food. The food, the staff, the Chefs all exceeded our expectations and gave our guests one of the most memorable dining experiences we have ever had. We left the menu in the hands of the Chefs and it was exquisite. The evening was filled with debates over which dish was the best and there was little consensus because every single offering was unique, beautiful and memorable. Every staff member was knowledgeable about the making of each dish, so be sure to ask. And they were eager to accommodate any dietary need. I am still thinking about the sunflower seed tahini and steak tartare, and my Italian husband who considers himself a bread connoisseur raved about the bread.\", mime_type=<MemoryMimeType.TEXT: 'text/plain'>, metadata={'review_website': 'TripAdvisor', 'review_url': 'https://www.tripadvisor.com/ShowUserReviews-g60713-d597979-r265370093-Bar_Tartine-San_Francisco_California.html#REVIEWS', 'review_rating': 5, 'review_date': 'Apr 12, 2015 12:00:00 AM'}), MemoryContent(content=\"A food &quot;experience&quot; in The Mission Our party of four - two Millennials and two Baby Boomers - enjoyed Bar Tartine and it is as much an intellectual experience of how imaginatively food can be served as it is a restaurant. We shared everything (a total of about eight dishes) and we liked everything - but some were better than others. We especially liked the trout, the smoked potatoes, the beets and the salad. If you want a restaurant where you don't have to think about the food, this is not for you. But we liked the creativity and playfulness of the approach. Service was good, friendly but not obtrusive.\", mime_type=<MemoryMimeType.TEXT: 'text/plain'>, metadata={'review_website': 'TripAdvisor', 'review_url': 'https://www.tripadvisor.com/ShowUserReviews-g60713-d597979-r226883562-Bar_Tartine-San_Francisco_California.html#REVIEWS', 'review_rating': 4, 'review_date': 'Sep 4, 2014 12:00:00 AM'}), MemoryContent(content='Nice experience Was unable to book a favorite restaurant and chose this place based on its ratings. Good choice. Lively bar. Nice menu with a variety of offerings. We enjoyed several appetizers and entrees. Good wine list. Great service. The four of us had a good dining experience and would certainly return on another visit to San Francisco.', mime_type=<MemoryMimeType.TEXT: 'text/plain'>, metadata={'review_website': 'TripAdvisor', 'review_url': 'https://www.tripadvisor.com/ShowUserReviews-g60713-d349444-r252678224-Absinthe_Brasserie_Bar-San_Francisco_California.html#REVIEWS', 'review_rating': 4, 'review_date': 'Feb 4, 2015 12:00:00 AM'}), MemoryContent(content='healthy food &amp; diverse menu This is a great place to eat if you are looking for good flavorful food, The menu is well balanced nutritionally. The service is excellent but this place is very expensive. I would have given 5 stars but we got a hair in are food and we were still charged for the dish The decor is really cool and the atmosphere is good.', mime_type=<MemoryMimeType.TEXT: 'text/plain'>, metadata={'review_website': 'TripAdvisor', 'review_url': 'https://www.tripadvisor.com/ShowUserReviews-g60713-d597979-r264470637-Bar_Tartine-San_Francisco_California.html#REVIEWS', 'review_rating': 4, 'review_date': 'Apr 8, 2015 12:00:00 AM'}), MemoryContent(content='Fun place, tasty meal My sister and I ate here during a recent trip to the San Francisco area for a job interview. I liked almost everything about this restaurant. The décor was techno-edgy but comfortable. It was packed and a little noisy but we could hear each other as we were seated at a banquette along one wall. We had the lobster rolls—a salad of delicious lobster meat plus vegetables in a small roll, served with very good cole slaw and—of all things—hush puppies. Very tasty, non-greasy hush-puppies. The lobster roll was one of the more gently-priced items on the menu. Other items looked tempting, but too expensive for this visit. Friendly, prompt, efficient service. Nice experience.', mime_type=<MemoryMimeType.TEXT: 'text/plain'>, metadata={'review_website': 'TripAdvisor', 'review_url': 'https://www.tripadvisor.com/ShowUserReviews-g60713-d1084462-r352232805-Anchor_and_Hope-San_Francisco_California.html#REVIEWS', 'review_rating': 5, 'review_date': 'Mar 1, 2016 12:00:00 AM'}), MemoryContent(content=\"Good and different I liked the way the restaurant looked, the food was good and different.To me, foreigner, this is very 'San Francisco'.Organic, trendy, laidback, good...Not overly priced either.Good place!\", mime_type=<MemoryMimeType.TEXT: 'text/plain'>, metadata={'review_website': 'TripAdvisor', 'review_url': 'https://www.tripadvisor.com/ShowUserReviews-g60713-d597979-r182200058-Bar_Tartine-San_Francisco_California.html#REVIEWS', 'review_rating': 4, 'review_date': 'Oct 24, 2013 12:00:00 AM'}), MemoryContent(content='First time I have ever been compelled to write a bad review Appetizers clearly microwaved; the plate was hot with microwaved burnt food on it and all were cold in the middle. Service awful. Brought limited bread for ten of us and the wait was really long. Brought some food out which became cold while we waited for the others in our party to get their meal. Stay away from the steaks; bad cuts and way over cooked. Were served on a hot sizzling platter spraying grease everywhere. Very chewy. Brussel sprouts hard seemingly uncooked with soggy garlic wedges. Entrees cold in the middle and side pastas with marinara sauce all cold when served. Brown tinted water served to one of us and waiter absolutely was awful. Appeared happy but very annoyed if we asked for anything and hard to find. Will never ever go there. I hope the owner reads this...was there a year ago and it was excellent. Today I warn all to stay away.', mime_type=<MemoryMimeType.TEXT: 'text/plain'>, metadata={'review_website': 'TripAdvisor', 'review_url': 'https://www.tripadvisor.com/ShowUserReviews-g53354-d657778-r184225802-Bacco_Restaurant-North_Wales_Pennsylvania.html#REVIEWS', 'review_rating': 2, 'review_date': 'Nov 10, 2013 12:00:00 AM'}), MemoryContent(content=\"Great Italian Food, great drink menu Group of 10 went for lunch on a Saturday.We were seated right away and our waitress was tentative in getting our drinks ,answering our questions, and checking on us all. Everyone's food was great. They have options for most items to be lunch portion for the whole menu, the interior and exterior were decorated well with Italian rustic theme, the entire place was clean. Everything was priced well and had something everyone could enjoy.\", mime_type=<MemoryMimeType.TEXT: 'text/plain'>, metadata={'review_website': 'TripAdvisor', 'review_url': 'https://www.tripadvisor.com/ShowUserReviews-g53354-d657778-r292399084-Bacco_Restaurant-North_Wales_Pennsylvania.html#REVIEWS', 'review_rating': 5, 'review_date': 'Jul 25, 2015 12:00:00 AM'}), MemoryContent(content='Great place for a healthy dinner We had dinner here and really appreciated the fact that the menu is so healthy - full of vegetable based dishes. It is sometimes difficult to eat healthy food when you travel. Service is good - staff friendly and efficient. Nice ambience and good little wine list. Great bread to start and then we shared a selection of dishes including the charred trout with mustard greens, kale with sunflower tahini and yoghurt, brussels sprouts with tonnato sauce and dried tuna. We would certainly go back if we lived in San Francisco.', mime_type=<MemoryMimeType.TEXT: 'text/plain'>, metadata={'review_website': 'TripAdvisor', 'review_url': 'https://www.tripadvisor.com/ShowUserReviews-g60713-d597979-r192125095-Bar_Tartine-San_Francisco_California.html#REVIEWS', 'review_rating': 4, 'review_date': 'Jan 26, 2014 12:00:00 AM'}), MemoryContent(content=\"Great Pizza, good food - ok exoerience I will temper this review with a note that we arrived an hour before closing on a weeknight. It was a full hour. Closing is 9:00. Why mention? I think we woke the hostess when we walked in the door. The restaurant is quite large and patrons were clustered in a small portion of the restaurant. Makes sense to me. Chairs were turned upside down in other sections - just a bit off putting. Inside the setting was dark and rustic. I'd say it was a well worn setting. Table chairs were odd and must have been a later addition as their height was lower than expected (first time I've noticed that). The menu had the expected selection of standard Italian fare. Four of us looking for something a little lighter so we ordered a salad - nicely sized and fresh, calamari - well done and plentiful, 2 calzones - huge for one person, and a pizza. The pizza was awesome! Super thin crust with an excellent cheese and a nice sauce to cheese ratio. The crust was crisp, ever so charred, really good. A bit far for us for takeout pizza but it might be worth it. Waitstaff was a mixed bag. Our waiter was friendly and helpful, though sort of disappeared at times. Others were slothing around and seemingly ready to end their evenings. Overall okay experience. Come for the pizza. We will probably want to be back to explore the menu. Hmm, that pizza was yum.\", mime_type=<MemoryMimeType.TEXT: 'text/plain'>, metadata={'review_website': 'TripAdvisor', 'review_url': 'https://www.tripadvisor.com/ShowUserReviews-g53354-d657778-r284966215-Bacco_Restaurant-North_Wales_Pennsylvania.html#REVIEWS', 'review_rating': 3, 'review_date': 'Jul 2, 2015 12:00:00 AM'})], type='MemoryQueryEvent'), ToolCallRequestEvent(id='cdc1b5a1-ac8d-4409-b9d9-d3e8603d5ec0', source='assistant_agent', models_usage=RequestUsage(prompt_tokens=1556, completion_tokens=2805), metadata={}, created_at=datetime.datetime(2025, 7, 30, 23, 58, 24, 546526, tzinfo=datetime.timezone.utc), content=[FunctionCall(id='call_6okAfFcAV9GGUKpokCB476bF', arguments='{\"all_reviews\": [\"Bar Tartine impressed my VIP guests, and left me yearning for a return trip to San Francisco We planned a private business party at Bar Tartine and \\'bought\\' the restaurant for 3 hours. We invited VIP customers and prospective partners and lured them there with the promise of amazing, unique food. The food, the staff, the Chefs all exceeded our expectations and gave our guests one of the most memorable dining experiences we have ever had. We left the menu in the hands of the Chefs and it was exquisite. The evening was filled with debates over which dish was the best and there was little consensus because every single offering was unique, beautiful and memorable. Every staff member was knowledgeable about the making of each dish, so be sure to ask. And they were eager to accommodate any dietary need. I am still thinking about the sunflower seed tahini and steak tartare, and my Italian husband who considers himself a bread connoisseur raved about the bread.\", \"A food \\\\\"experience\\\\\" in The Mission Our party of four - two Millennials and two Baby Boomers - enjoyed Bar Tartine and it is as much an intellectual experience of how imaginatively food can be served as it is a restaurant. We shared everything (a total of about eight dishes) and we liked everything - but some were better than others. We especially liked the trout, the smoked potatoes, the beets and the salad. If you want a restaurant where you don\\'t have to think about the food, this is not for you. But we liked the creativity and playfulness of the approach. Service was good, friendly but not obtrusive.\", \"Nice experience Was unable to book a favorite restaurant and chose this place based on its ratings. Good choice. Lively bar. Nice menu with a variety of offerings. We enjoyed several appetizers and entrees. Good wine list. Great service. The four of us had a good dining experience and would certainly return on another visit to San Francisco.\", \"healthy food & diverse menu This is a great place to eat if you are looking for good flavorful food, The menu is well balanced nutritionally. The service is excellent but this place is very expensive. I would have given 5 stars but we got a hair in are food and we were still charged for the dish The decor is really cool and the atmosphere is good.\", \"Fun place, tasty meal My sister and I ate here during a recent trip to the San Francisco area for a job interview. I liked almost everything about this restaurant. The décor was techno-edgy but comfortable. It was packed and a little noisy but we could hear each other as we were seated at a banquette along one wall. We had the lobster rolls—a salad of delicious lobster meat plus vegetables in a small roll, served with very good cole slaw and—of all things—hush puppies. Very tasty, non-greasy hush-puppies. The lobster roll was one of the more gently-priced items on the menu. Other items looked tempting, but too expensive for this visit. Friendly, prompt, efficient service. Nice experience.\", \"Good and different I liked the way the restaurant looked, the food was good and different.To me, foreigner, this is very \\'San Francisco\\'.Organic, trendy, laidback, good...Not overly priced either.Good place!\", \"First time I have ever been compelled to write a bad review Appetizers clearly microwaved; the plate was hot with microwaved burnt food on it and all were cold in the middle. Service awful. Brought limited bread for ten of us and the wait was really long. Brought some food out which became cold while we waited for the others in our party to get their meal. Stay away from the steaks; bad cuts and way over cooked. Were served on a hot sizzling platter spraying grease everywhere. Very chewy. Brussel sprouts hard seemingly uncooked with soggy garlic wedges. Entrees cold in the middle and side pastas with marinara sauce all cold when served. Brown tinted water served to one of us and waiter absolutely was awful. Appeared happy but very annoyed if we asked for anything and hard to find. Will never ever go there. I hope the owner reads this...was there a year ago and it was excellent. Today I warn all to stay away.\", \"Great Italian Food, great drink menu Group of 10 went for lunch on a Saturday.We were seated right away and our waitress was tentative in getting our drinks ,answering our questions, and checking on us all. Everyone\\'s food was great. They have options for most items to be lunch portion for the whole menu, the interior and exterior were decorated well with Italian rustic theme, the entire place was clean. Everything was priced well and had something everyone could enjoy.\", \"Great place for a healthy dinner We had dinner here and really appreciated the fact that the menu is so healthy - full of vegetable based dishes. It is sometimes difficult to eat healthy food when you travel. Service is good - staff friendly and efficient. Nice ambience and good little wine list. Great bread to start and then we shared a selection of dishes including the charred trout with mustard greens, kale with sunflower tahini and yoghurt, brussels sprouts with tonnato sauce and dried tuna. We would certainly go back if we lived in San Francisco.\", \"Great Pizza, good food - ok exoerience I will temper this review with a note that we arrived an hour before closing on a weeknight. It was a full hour. Closing is 9:00. Why mention? I think we woke the hostess when we walked in the door. The restaurant is quite large and patrons were clustered in a small portion of the restaurant. Makes sense to me. Chairs were turned upside down in other sections - just a bit off putting. Inside the setting was dark and rustic. I\\'d say it was a well worn setting. Table chairs were odd and must have been a later addition as their height was lower than expected (first time I\\'ve noticed that). The menu had the expected selection of standard Italian fare. Four of us looking for something a little lighter so we ordered a salad - nicely sized and fresh, calamari - well done and plentiful, 2 calzones - huge for one person, and a pizza. The pizza was awesome! Super thin crust with an excellent cheese and a nice sauce to cheese ratio. The crust was crisp, ever so charred, really good. A bit far for us for takeout pizza but it might be worth it. Waitstaff was a mixed bag. Our waiter was friendly and helpful, though sort of disappeared at times. Others were slothing around and seemingly ready to end their evenings. Overall okay experience. Come for the pizza. We will probably want to be back to explore the menu. Hmm, that pizza was yum.\"]}', name='summarize'), FunctionCall(id='call_AcaeNWw74XRmOemFbIuBJbNn', arguments='{\"full_text\": \"Bar Tartine impressed my VIP guests, and left me yearning for a return trip to San Francisco We planned a private business party at Bar Tartine and \\'bought\\' the restaurant for 3 hours. We invited VIP customers and prospective partners and lured them there with the promise of amazing, unique food. The food, the staff, the Chefs all exceeded our expectations and gave our guests one of the most memorable dining experiences we have ever had. We left the menu in the hands of the Chefs and it was exquisite. The evening was filled with debates over which dish was the best and there was little consensus because every single offering was unique, beautiful and memorable. Every staff member was knowledgeable about the making of each dish, so be sure to ask. And they were eager to accommodate any dietary need. I am still thinking about the sunflower seed tahini and steak tartare, and my Italian husband who considers himself a bread connoisseur raved about the bread.\\\\n\\\\nA food \\\\\"experience\\\\\" in The Mission Our party of four - two Millennials and two Baby Boomers - enjoyed Bar Tartine and it is as much an intellectual experience of how imaginatively food can be served as it is a restaurant. We shared everything (a total of about eight dishes) and we liked everything - but some were better than others. We especially liked the trout, the smoked potatoes, the beets and the salad. If you want a restaurant where you don\\'t have to think about the food, this is not for you. But we liked the creativity and playfulness of the approach. Service was good, friendly but not obtrusive.\\\\n\\\\nNice experience Was unable to book a favorite restaurant and chose this place based on its ratings. Good choice. Lively bar. Nice menu with a variety of offerings. We enjoyed several appetizers and entrees. Good wine list. Great service. The four of us had a good dining experience and would certainly return on another visit to San Francisco.\\\\n\\\\nhealthy food & diverse menu This is a great place to eat if you are looking for good flavorful food, The menu is well balanced nutritionally. The service is excellent but this place is very expensive. I would have given 5 stars but we got a hair in are food and we were still charged for the dish The decor is really cool and the atmosphere is good.\\\\n\\\\nFun place, tasty meal My sister and I ate here during a recent trip to the San Francisco area for a job interview. I liked almost everything about this restaurant. The décor was techno-edgy but comfortable. It was packed and a little noisy but we could hear each other as we were seated at a banquette along one wall. We had the lobster rolls—a salad of delicious lobster meat plus vegetables in a small roll, served with very good cole slaw and—of all things—hush puppies. Very tasty, non-greasy hush-puppies. The lobster roll was one of the more gently-priced items on the menu. Other items looked tempting, but too expensive for this visit. Friendly, prompt, efficient service. Nice experience.\\\\n\\\\nGood and different I liked the way the restaurant looked, the food was good and different.To me, foreigner, this is very \\'San Francisco\\'.Organic, trendy, laidback, good...Not overly priced either.Good place!\\\\n\\\\nFirst time I have ever been compelled to write a bad review Appetizers clearly microwaved; the plate was hot with microwaved burnt food on it and all were cold in the middle. Service awful. Brought limited bread for ten of us and the wait was really long. Brought some food out which became cold while we waited for the others in our party to get their meal. Stay away from the steaks; bad cuts and way over cooked. Were served on a hot sizzling platter spraying grease everywhere. Very chewy. Brussel sprouts hard seemingly uncooked with soggy garlic wedges. Entrees cold in the middle and side pastas with marinara sauce all cold when served. Brown tinted water served to one of us and waiter absolutely was awful. Appeared happy but very annoyed if we asked for anything and hard to find. Will never ever go there. I hope the owner reads this...was there a year ago and it was excellent. Today I warn all to stay away.\\\\n\\\\nGreat Italian Food, great drink menu Group of 10 went for lunch on a Saturday.We were seated right away and our waitress was tentative in getting our drinks ,answering our questions, and checking on us all. Everyone\\'s food was great. They have options for most items to be lunch portion for the whole menu, the interior and exterior were decorated well with Italian rustic theme, the entire place was clean. Everything was priced well and had something everyone could enjoy.\\\\n\\\\nGreat place for a healthy dinner We had dinner here and really appreciated the fact that the menu is so healthy - full of vegetable based dishes. It is sometimes difficult to eat healthy food when you travel. Service is good - staff friendly and efficient. Nice ambience and good little wine list. Great bread to start and then we shared a selection of dishes including the charred trout with mustard greens, kale with sunflower tahini and yoghurt, brussels sprouts with tonnato sauce and dried tuna. We would certainly go back if we lived in San Francisco.\\\\n\\\\nGreat Pizza, good food - ok exoerience I will temper this review with a note that we arrived an hour before closing on a weeknight. It was a full hour. Closing is 9:00. Why mention? I think we woke the hostess when we walked in the door. The restaurant is quite large and patrons were clustered in a small portion of the restaurant. Makes sense to me. Chairs were turned upside down in other sections - just a bit off putting. Inside the setting was dark and rustic. I\\'d say it was a well worn setting. Table chairs were odd and must have been a later addition as their height was lower than expected (first time I\\'ve noticed that). The menu had the expected selection of standard Italian fare. Four of us looking for something a little lighter so we ordered a salad - nicely sized and fresh, calamari - well done and plentiful, 2 calzones - huge for one person, and a pizza. The pizza was awesome! Super thin crust with an excellent cheese and a nice sauce to cheese ratio. The crust was crisp, ever so charred, really good. A bit far for us for takeout pizza but it might be worth it. Waitstaff was a mixed bag. Our waiter was friendly and helpful, though sort of disappeared at times. Others were slothing around and seemingly ready to end their evenings. Overall okay experience. Come for the pizza. We will probably want to be back to explore the menu. Hmm, that pizza was yum.\"}', name='get_keywords')], type='ToolCallRequestEvent'), ToolCallExecutionEvent(id='b454d42d-102b-4df8-b57a-5e22fa9b17ef', source='assistant_agent', models_usage=None, metadata={}, created_at=datetime.datetime(2025, 7, 30, 23, 58, 24, 554237, tzinfo=datetime.timezone.utc), content=[FunctionExecutionResult(content=' summary ', name='summarize', call_id='call_6okAfFcAV9GGUKpokCB476bF', is_error=False), FunctionExecutionResult(content=\"['food', 'good', 'menu', 'restaurant', 'great', 'place', 'experience', 'service', 'very', 'pizza']\", name='get_keywords', call_id='call_AcaeNWw74XRmOemFbIuBJbNn', is_error=False)], type='ToolCallExecutionEvent'), ToolCallSummaryMessage(id='fbbf02b6-affd-4c6d-b79b-1afaeb40ebd5', source='assistant_agent', models_usage=None, metadata={}, created_at=datetime.datetime(2025, 7, 30, 23, 58, 24, 556624, tzinfo=datetime.timezone.utc), content=\" summary \\n['food', 'good', 'menu', 'restaurant', 'great', 'place', 'experience', 'service', 'very', 'pizza']\", type='ToolCallSummaryMessage', tool_calls=[FunctionCall(id='call_6okAfFcAV9GGUKpokCB476bF', arguments='{\"all_reviews\": [\"Bar Tartine impressed my VIP guests, and left me yearning for a return trip to San Francisco We planned a private business party at Bar Tartine and \\'bought\\' the restaurant for 3 hours. We invited VIP customers and prospective partners and lured them there with the promise of amazing, unique food. The food, the staff, the Chefs all exceeded our expectations and gave our guests one of the most memorable dining experiences we have ever had. We left the menu in the hands of the Chefs and it was exquisite. The evening was filled with debates over which dish was the best and there was little consensus because every single offering was unique, beautiful and memorable. Every staff member was knowledgeable about the making of each dish, so be sure to ask. And they were eager to accommodate any dietary need. I am still thinking about the sunflower seed tahini and steak tartare, and my Italian husband who considers himself a bread connoisseur raved about the bread.\", \"A food \\\\\"experience\\\\\" in The Mission Our party of four - two Millennials and two Baby Boomers - enjoyed Bar Tartine and it is as much an intellectual experience of how imaginatively food can be served as it is a restaurant. We shared everything (a total of about eight dishes) and we liked everything - but some were better than others. We especially liked the trout, the smoked potatoes, the beets and the salad. If you want a restaurant where you don\\'t have to think about the food, this is not for you. But we liked the creativity and playfulness of the approach. Service was good, friendly but not obtrusive.\", \"Nice experience Was unable to book a favorite restaurant and chose this place based on its ratings. Good choice. Lively bar. Nice menu with a variety of offerings. We enjoyed several appetizers and entrees. Good wine list. Great service. The four of us had a good dining experience and would certainly return on another visit to San Francisco.\", \"healthy food & diverse menu This is a great place to eat if you are looking for good flavorful food, The menu is well balanced nutritionally. The service is excellent but this place is very expensive. I would have given 5 stars but we got a hair in are food and we were still charged for the dish The decor is really cool and the atmosphere is good.\", \"Fun place, tasty meal My sister and I ate here during a recent trip to the San Francisco area for a job interview. I liked almost everything about this restaurant. The décor was techno-edgy but comfortable. It was packed and a little noisy but we could hear each other as we were seated at a banquette along one wall. We had the lobster rolls—a salad of delicious lobster meat plus vegetables in a small roll, served with very good cole slaw and—of all things—hush puppies. Very tasty, non-greasy hush-puppies. The lobster roll was one of the more gently-priced items on the menu. Other items looked tempting, but too expensive for this visit. Friendly, prompt, efficient service. Nice experience.\", \"Good and different I liked the way the restaurant looked, the food was good and different.To me, foreigner, this is very \\'San Francisco\\'.Organic, trendy, laidback, good...Not overly priced either.Good place!\", \"First time I have ever been compelled to write a bad review Appetizers clearly microwaved; the plate was hot with microwaved burnt food on it and all were cold in the middle. Service awful. Brought limited bread for ten of us and the wait was really long. Brought some food out which became cold while we waited for the others in our party to get their meal. Stay away from the steaks; bad cuts and way over cooked. Were served on a hot sizzling platter spraying grease everywhere. Very chewy. Brussel sprouts hard seemingly uncooked with soggy garlic wedges. Entrees cold in the middle and side pastas with marinara sauce all cold when served. Brown tinted water served to one of us and waiter absolutely was awful. Appeared happy but very annoyed if we asked for anything and hard to find. Will never ever go there. I hope the owner reads this...was there a year ago and it was excellent. Today I warn all to stay away.\", \"Great Italian Food, great drink menu Group of 10 went for lunch on a Saturday.We were seated right away and our waitress was tentative in getting our drinks ,answering our questions, and checking on us all. Everyone\\'s food was great. They have options for most items to be lunch portion for the whole menu, the interior and exterior were decorated well with Italian rustic theme, the entire place was clean. Everything was priced well and had something everyone could enjoy.\", \"Great place for a healthy dinner We had dinner here and really appreciated the fact that the menu is so healthy - full of vegetable based dishes. It is sometimes difficult to eat healthy food when you travel. Service is good - staff friendly and efficient. Nice ambience and good little wine list. Great bread to start and then we shared a selection of dishes including the charred trout with mustard greens, kale with sunflower tahini and yoghurt, brussels sprouts with tonnato sauce and dried tuna. We would certainly go back if we lived in San Francisco.\", \"Great Pizza, good food - ok exoerience I will temper this review with a note that we arrived an hour before closing on a weeknight. It was a full hour. Closing is 9:00. Why mention? I think we woke the hostess when we walked in the door. The restaurant is quite large and patrons were clustered in a small portion of the restaurant. Makes sense to me. Chairs were turned upside down in other sections - just a bit off putting. Inside the setting was dark and rustic. I\\'d say it was a well worn setting. Table chairs were odd and must have been a later addition as their height was lower than expected (first time I\\'ve noticed that). The menu had the expected selection of standard Italian fare. Four of us looking for something a little lighter so we ordered a salad - nicely sized and fresh, calamari - well done and plentiful, 2 calzones - huge for one person, and a pizza. The pizza was awesome! Super thin crust with an excellent cheese and a nice sauce to cheese ratio. The crust was crisp, ever so charred, really good. A bit far for us for takeout pizza but it might be worth it. Waitstaff was a mixed bag. Our waiter was friendly and helpful, though sort of disappeared at times. Others were slothing around and seemingly ready to end their evenings. Overall okay experience. Come for the pizza. We will probably want to be back to explore the menu. Hmm, that pizza was yum.\"]}', name='summarize'), FunctionCall(id='call_AcaeNWw74XRmOemFbIuBJbNn', arguments='{\"full_text\": \"Bar Tartine impressed my VIP guests, and left me yearning for a return trip to San Francisco We planned a private business party at Bar Tartine and \\'bought\\' the restaurant for 3 hours. We invited VIP customers and prospective partners and lured them there with the promise of amazing, unique food. The food, the staff, the Chefs all exceeded our expectations and gave our guests one of the most memorable dining experiences we have ever had. We left the menu in the hands of the Chefs and it was exquisite. The evening was filled with debates over which dish was the best and there was little consensus because every single offering was unique, beautiful and memorable. Every staff member was knowledgeable about the making of each dish, so be sure to ask. And they were eager to accommodate any dietary need. I am still thinking about the sunflower seed tahini and steak tartare, and my Italian husband who considers himself a bread connoisseur raved about the bread.\\\\n\\\\nA food \\\\\"experience\\\\\" in The Mission Our party of four - two Millennials and two Baby Boomers - enjoyed Bar Tartine and it is as much an intellectual experience of how imaginatively food can be served as it is a restaurant. We shared everything (a total of about eight dishes) and we liked everything - but some were better than others. We especially liked the trout, the smoked potatoes, the beets and the salad. If you want a restaurant where you don\\'t have to think about the food, this is not for you. But we liked the creativity and playfulness of the approach. Service was good, friendly but not obtrusive.\\\\n\\\\nNice experience Was unable to book a favorite restaurant and chose this place based on its ratings. Good choice. Lively bar. Nice menu with a variety of offerings. We enjoyed several appetizers and entrees. Good wine list. Great service. The four of us had a good dining experience and would certainly return on another visit to San Francisco.\\\\n\\\\nhealthy food & diverse menu This is a great place to eat if you are looking for good flavorful food, The menu is well balanced nutritionally. The service is excellent but this place is very expensive. I would have given 5 stars but we got a hair in are food and we were still charged for the dish The decor is really cool and the atmosphere is good.\\\\n\\\\nFun place, tasty meal My sister and I ate here during a recent trip to the San Francisco area for a job interview. I liked almost everything about this restaurant. The décor was techno-edgy but comfortable. It was packed and a little noisy but we could hear each other as we were seated at a banquette along one wall. We had the lobster rolls—a salad of delicious lobster meat plus vegetables in a small roll, served with very good cole slaw and—of all things—hush puppies. Very tasty, non-greasy hush-puppies. The lobster roll was one of the more gently-priced items on the menu. Other items looked tempting, but too expensive for this visit. Friendly, prompt, efficient service. Nice experience.\\\\n\\\\nGood and different I liked the way the restaurant looked, the food was good and different.To me, foreigner, this is very \\'San Francisco\\'.Organic, trendy, laidback, good...Not overly priced either.Good place!\\\\n\\\\nFirst time I have ever been compelled to write a bad review Appetizers clearly microwaved; the plate was hot with microwaved burnt food on it and all were cold in the middle. Service awful. Brought limited bread for ten of us and the wait was really long. Brought some food out which became cold while we waited for the others in our party to get their meal. Stay away from the steaks; bad cuts and way over cooked. Were served on a hot sizzling platter spraying grease everywhere. Very chewy. Brussel sprouts hard seemingly uncooked with soggy garlic wedges. Entrees cold in the middle and side pastas with marinara sauce all cold when served. Brown tinted water served to one of us and waiter absolutely was awful. Appeared happy but very annoyed if we asked for anything and hard to find. Will never ever go there. I hope the owner reads this...was there a year ago and it was excellent. Today I warn all to stay away.\\\\n\\\\nGreat Italian Food, great drink menu Group of 10 went for lunch on a Saturday.We were seated right away and our waitress was tentative in getting our drinks ,answering our questions, and checking on us all. Everyone\\'s food was great. They have options for most items to be lunch portion for the whole menu, the interior and exterior were decorated well with Italian rustic theme, the entire place was clean. Everything was priced well and had something everyone could enjoy.\\\\n\\\\nGreat place for a healthy dinner We had dinner here and really appreciated the fact that the menu is so healthy - full of vegetable based dishes. It is sometimes difficult to eat healthy food when you travel. Service is good - staff friendly and efficient. Nice ambience and good little wine list. Great bread to start and then we shared a selection of dishes including the charred trout with mustard greens, kale with sunflower tahini and yoghurt, brussels sprouts with tonnato sauce and dried tuna. We would certainly go back if we lived in San Francisco.\\\\n\\\\nGreat Pizza, good food - ok exoerience I will temper this review with a note that we arrived an hour before closing on a weeknight. It was a full hour. Closing is 9:00. Why mention? I think we woke the hostess when we walked in the door. The restaurant is quite large and patrons were clustered in a small portion of the restaurant. Makes sense to me. Chairs were turned upside down in other sections - just a bit off putting. Inside the setting was dark and rustic. I\\'d say it was a well worn setting. Table chairs were odd and must have been a later addition as their height was lower than expected (first time I\\'ve noticed that). The menu had the expected selection of standard Italian fare. Four of us looking for something a little lighter so we ordered a salad - nicely sized and fresh, calamari - well done and plentiful, 2 calzones - huge for one person, and a pizza. The pizza was awesome! Super thin crust with an excellent cheese and a nice sauce to cheese ratio. The crust was crisp, ever so charred, really good. A bit far for us for takeout pizza but it might be worth it. Waitstaff was a mixed bag. Our waiter was friendly and helpful, though sort of disappeared at times. Others were slothing around and seemingly ready to end their evenings. Overall okay experience. Come for the pizza. We will probably want to be back to explore the menu. Hmm, that pizza was yum.\"}', name='get_keywords')], results=[FunctionExecutionResult(content=' summary ', name='summarize', call_id='call_6okAfFcAV9GGUKpokCB476bF', is_error=False), FunctionExecutionResult(content=\"['food', 'good', 'menu', 'restaurant', 'great', 'place', 'experience', 'service', 'very', 'pizza']\", name='get_keywords', call_id='call_AcaeNWw74XRmOemFbIuBJbNn', is_error=False)])], stop_reason=None)"
      ]
     },
     "execution_count": 9,
     "metadata": {},
     "output_type": "execute_result"
    }
   ],
   "source": [
    "\n",
    "model_client = OpenAIChatCompletionClient(\n",
    "    model=\"gpt-4o\",\n",
    ")\n",
    "\n",
    "# Create assistant agent with ChromaDB memory\n",
    "assistant_agent = AssistantAgent(\n",
    "    name=\"assistant_agent\",\n",
    "    model_client=model_client,\n",
    "    tools=[summarize , get_keywords],\n",
    "    memory=[redis_memory],\n",
    ")\n",
    "\n",
    "agent_task = \"Write an article for me reviewing the restaurants in the San Francisco bay area. \\\n",
    "            Group them into categories based on their cuisine and price, and talk about the \\\n",
    "            top rated restaurants in each category.\"\n",
    "\n",
    "stream = assistant_agent.run_stream(task=agent_task)\n",
    "await Console(stream)\n"
   ]
  },
  {
   "cell_type": "markdown",
   "metadata": {},
   "source": [
    "### Clean up\n",
    "close out our agent and empty our Redis index"
   ]
  },
  {
   "cell_type": "code",
   "execution_count": 10,
   "metadata": {},
   "outputs": [],
   "source": [
    "\n",
    "#await model_client.close()\n",
    "#await redis_memory.close()"
   ]
  }
 ],
 "metadata": {
  "kernelspec": {
   "display_name": "redis-ai-res",
   "language": "python",
   "name": "python3"
  },
  "language_info": {
   "codemirror_mode": {
    "name": "ipython",
    "version": 3
   },
   "file_extension": ".py",
   "mimetype": "text/x-python",
   "name": "python",
   "nbconvert_exporter": "python",
   "pygments_lexer": "ipython3",
   "version": "3.11.9"
  }
 },
 "nbformat": 4,
 "nbformat_minor": 2
}
